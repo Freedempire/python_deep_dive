{
 "cells": [
  {
   "cell_type": "markdown",
   "metadata": {},
   "source": [
    "# Python Deep Dive Part 4 - Object Oriented Programming"
   ]
  },
  {
   "cell_type": "markdown",
   "metadata": {},
   "source": [
    "## Introduction"
   ]
  },
  {
   "cell_type": "markdown",
   "metadata": {},
   "source": [
    "### Course topics\n",
    "\n",
    "* Focus on Object Oriented Programming (OOP) concepts in Python\n",
    "  * classes (types) and objects\n",
    "  * functions, methods, and properties\n",
    "  * polymorphism and special dunder methods\n",
    "  * single inheritance\n",
    "  * descriptors\n",
    "  * enumerations\n",
    "  * exceptions\n",
    "  * "
   ]
  }
 ],
 "metadata": {
  "kernelspec": {
   "display_name": "Python 3",
   "language": "python",
   "name": "python3"
  },
  "language_info": {
   "name": "python",
   "version": "3.12.1"
  }
 },
 "nbformat": 4,
 "nbformat_minor": 2
}
