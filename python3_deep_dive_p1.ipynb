{
 "cells": [
  {
   "cell_type": "markdown",
   "metadata": {},
   "source": [
    "# Python Deep Dive Part 1 - Functional"
   ]
  },
  {
   "cell_type": "markdown",
   "metadata": {},
   "source": [
    "## Overview"
   ]
  },
  {
   "cell_type": "markdown",
   "metadata": {},
   "source": [
    "It's about the Python language, built-in types, the standard library, and idiomatic Python.\n",
    "\n",
    "Read the Zen of Python:"
   ]
  },
  {
   "cell_type": "code",
   "execution_count": 1,
   "metadata": {},
   "outputs": [
    {
     "name": "stdout",
     "output_type": "stream",
     "text": [
      "The Zen of Python, by Tim Peters\n",
      "\n",
      "Beautiful is better than ugly.\n",
      "Explicit is better than implicit.\n",
      "Simple is better than complex.\n",
      "Complex is better than complicated.\n",
      "Flat is better than nested.\n",
      "Sparse is better than dense.\n",
      "Readability counts.\n",
      "Special cases aren't special enough to break the rules.\n",
      "Although practicality beats purity.\n",
      "Errors should never pass silently.\n",
      "Unless explicitly silenced.\n",
      "In the face of ambiguity, refuse the temptation to guess.\n",
      "There should be one-- and preferably only one --obvious way to do it.\n",
      "Although that way may not be obvious at first unless you're Dutch.\n",
      "Now is better than never.\n",
      "Although never is often better than *right* now.\n",
      "If the implementation is hard to explain, it's a bad idea.\n",
      "If the implementation is easy to explain, it may be a good idea.\n",
      "Namespaces are one honking great idea -- let's do more of those!\n"
     ]
    }
   ],
   "source": [
    "import this"
   ]
  },
  {
   "cell_type": "markdown",
   "metadata": {},
   "source": [
    "## Basics review"
   ]
  },
  {
   "cell_type": "markdown",
   "metadata": {},
   "source": [
    "### The Python type hierarchy\n",
    "\n",
    "* Numbers\n",
    "  * Integral\n",
    "    * Integers\n",
    "    * Booleans\n",
    "  * Non-integral\n",
    "    * Floats\n",
    "    * Decimals\n",
    "    * Complex\n",
    "    * Fractions\n",
    "* Collections\n",
    "  * Sequences\n",
    "    * Mutable\n",
    "      * Lists\n",
    "    * Immutable\n",
    "      * Tuples\n",
    "      * Strings\n",
    "  * Sets\n",
    "    * Mutable\n",
    "      * Sets\n",
    "    * Immutable\n",
    "      * Frozen sets\n",
    "  * Mappings\n",
    "    * Dictionaries\n",
    "* Callables\n",
    "  * User-defined functions\n",
    "  * Generators\n",
    "  * Classes\n",
    "  * Instance methods\n",
    "  * Class instances (`__call__`)\n",
    "  * Built-in functions (e.g. `len`, `open`)\n",
    "  * Built-in methods (e.g. `my_list.append`)\n",
    "* Singletons\n",
    "  * `None`\n",
    "  * `NotImplemented`\n",
    "  * `Ellipsis` (same as the ellipsis literal `...`)"
   ]
  },
  {
   "cell_type": "markdown",
   "metadata": {},
   "source": [
    "### Multi-line statements and strings\n",
    "\n",
    "A Python program is nothing more than a text file that contains physical lines of code. The code is parsed by Python compiler and it combines certain lines and make up logical lines of code.\n",
    "\n",
    "There is a difference between a physical newline character and a logical newline token. Sometimes physical newlines are ignored in order to combine multiple physical lines into a single logical line of code terminated by a logical newline token. It allows us to write code over multiple lines that technically should be written as a single line for readability.\n",
    "\n",
    "The conversion between physical and logical newlines can be done implicitly or explicitly.\n",
    "\n",
    "* Implicit line breaks, supports inline comments\n",
    "  * List literals: `[]`\n",
    "  * Tuple literals: `()`\n",
    "  * Dictionary literals: `{}`\n",
    "  * Set literals: `{}`\n",
    "  * Function arguments / parameters"
   ]
  },
  {
   "cell_type": "code",
   "execution_count": 2,
   "metadata": {},
   "outputs": [
    {
     "name": "stdout",
     "output_type": "stream",
     "text": [
      "[1, 2, 3]\n",
      "10 20\n"
     ]
    }
   ],
   "source": [
    "my_list = [\n",
    "    1, # item 1\n",
    "    2, # item 2\n",
    "    3, # item 3\n",
    "]\n",
    "\n",
    "def my_func(\n",
    "    a,\n",
    "    b, # comment\n",
    "):\n",
    "    print(a, b)\n",
    "\n",
    "print(my_list)\n",
    "my_func(10, #comment\n",
    "        20)"
   ]
  },
  {
   "cell_type": "markdown",
   "metadata": {},
   "source": [
    "* Explicit line break, doesn't support inline comments\n",
    "  * You can break up statements over multiple lines explicitly by using `\\`.\n",
    "  * Multiline statements are not implicitly converted to a single logical line."
   ]
  },
  {
   "cell_type": "code",
   "execution_count": 3,
   "metadata": {},
   "outputs": [
    {
     "name": "stdout",
     "output_type": "stream",
     "text": [
      "yes\n"
     ]
    }
   ],
   "source": [
    "a = 1\n",
    "b = 2\n",
    "c = 3\n",
    "if a < b \\\n",
    "    and b < c \\\n",
    "    and a < c:\n",
    "    print('yes')"
   ]
  },
  {
   "cell_type": "markdown",
   "metadata": {},
   "source": [
    "* Multiline string literals\n",
    "  * Multiline string literals can be created using triple delimiters (`'''` or `\"\"\"`).\n",
    "  * Non-visible characters such as newlines, tabs, etc. are actually part of the string.\n",
    "  * A multiline string is just a regular string.\n",
    "  * They are not comments, although they can be used as such, especially with *docstrings*."
   ]
  },
  {
   "cell_type": "markdown",
   "metadata": {},
   "source": [
    "### Variable names\n",
    "\n",
    "Identifier names are case-sensitive and must follow certain rules:\n",
    "\n",
    "* Must start with underscore (`_`) or letter, followed by any number of underscores, letters, or digits.\n",
    "* Cannot be reserved words.\n",
    "* Conventions:\n",
    "  * A single underscore in front of an identifier name indicates this is an internal or private object. Objects named this way will not get imported by a statement such as: `from module import *`\n",
    "  * Double underscore in front of an identifier name is used to mangle class attributes, useful in inheritance chains.\n",
    "  * Double underscore in both start and end of an identifier name is used for system-defined names that have a special meaning to the interpreter. Don't invent them.\n",
    "  * Other naming conventions from [PEP 8 style guide](https://peps.python.org/pep-0008/)\n",
    "    * Packages: short, all lowercases, preferably no underscores (e.g. `utilities`)\n",
    "    * Modules: short, all lowercases (e.g. `db_utils`)\n",
    "    * Classes: Upper camel case convention (e.g. `CapWords`)\n",
    "    * Functions: lowercase, words separated by underscores (e.g. `snake_case`)\n",
    "    * Variables: same as functions\n",
    "    * Constants: all uppercases, words separated by underscores (e.g. `CONST_WORDS`)"
   ]
  },
  {
   "cell_type": "markdown",
   "metadata": {},
   "source": [
    "### Conditionals\n",
    "\n",
    "The `if` Statements can have zero or more `elif` parts, and the `else` part is optional.\n",
    "\n",
    "Conditional expressions (sometimes called a \"ternary operator\") have the lowest priority of all Python operations. The expression `x if condition else y` first evaluates the condition. If `condition` is true, `x` is evaluated and its value is returned; otherwise, `y` is evaluated and its value is returned.\n",
    "\n",
    "A `match` statement takes an expression and compares its value to successive patterns given as one or more `case` blocks. This is superficially similar to a switch statement in C, Java or JavaScript (and many other languages), but it’s more similar to pattern matching in languages like Rust or Haskell. Only the first pattern that matches gets executed and it can also extract components (sequence elements or object attributes) from the value into variables. You can combine several literals in a single pattern using `|`."
   ]
  },
  {
   "cell_type": "markdown",
   "metadata": {},
   "source": [
    "### Functions\n",
    "\n",
    "The keyword `def` introduces a function definition. It must be followed by the function name and the parenthesized list of formal parameters. The statements that form the body of the function start at the next line, and must be indented.\n",
    "\n",
    "The first statement of the function body can optionally be a string literal; this string literal is the function’s documentation string, or *docstring*."
   ]
  },
  {
   "cell_type": "markdown",
   "metadata": {},
   "source": [
    "### While loop\n",
    "\n",
    "The `while` statement is used for repeated execution as long as an expression is true.\n",
    "\n",
    "This repeatedly tests the expression and, if it is true, executes the suite of the `while` clause; if the expression is false, the suite of the `else` clause, if present, is executed and the loop terminates.\n",
    "\n",
    "A `break` statement executed terminates the loop without executing the `else` clause’s suite. A `continue` statement executed skips the rest of the suite and goes back to testing the expression."
   ]
  },
  {
   "cell_type": "markdown",
   "metadata": {},
   "source": [
    "### For loop\n",
    "\n",
    "The `for` statement is used to iterate over the elements of a *sequence* (such as a string, tuple or list) or other iterable object.\n",
    "\n",
    "When the iterator is exhausted, the suite in the `else` clause, if present, is executed, and the loop terminates.\n",
    "\n",
    "A `break` statement executed terminates the loop without executing the `else` clause’s suite. A `continue` statement executed in the first suite skips the rest of the suite and continues with the next item, or with the `else` clause if there is no next item.\n",
    "\n",
    "The for-loop makes assignments to the variables in the target list. This overwrites all previous assignments to those variables including those made in the suite of the for-loop.\n",
    "\n",
    "Names in the target list are not deleted when the loop is finished, but if the sequence is empty, they will not have been assigned to at all by the loop.\n",
    "\n",
    "Code that modifies a collection while iterating over that same collection can be tricky to get right. Instead, it is usually more straight-forward to loop over a copy of the collection or to create a new collection."
   ]
  },
  {
   "cell_type": "markdown",
   "metadata": {},
   "source": [
    "### Classes\n",
    "\n",
    "Classes provide a means of bundling data and functionality together.\n",
    "\n",
    "Creating a new class creates a new type of object, allowing new instances of that type to be made.\n",
    "\n",
    "Each class instance can have attributes attached to it for maintaining its state. Class instances can also have methods (defined by its class) for modifying its state."
   ]
  },
  {
   "cell_type": "code",
   "execution_count": 4,
   "metadata": {},
   "outputs": [
    {
     "name": "stdout",
     "output_type": "stream",
     "text": [
      "Rectangle: width 10, height 5\n",
      "Rectangle(10, 5)\n",
      "width: 20, height: 5\n",
      "Perimeter: 50\n",
      "Area: 100\n",
      "True\n",
      "rect2.area()=100, rect3.area()=50\n",
      "rect2 == rect3: False\n",
      "rect2 != rect3: True\n",
      "rect2 > rect3: True\n",
      "rect2 >= rect3: True\n",
      "rect2 < rect3: False\n",
      "rect2 == 3: False\n"
     ]
    }
   ],
   "source": [
    "class Rectangle:\n",
    "    def __init__(self, width, height):\n",
    "        self.width = width # this actually calls the setter of width\n",
    "        self.height = height\n",
    "\n",
    "    @property\n",
    "    def width(self):\n",
    "        return self._width\n",
    "    \n",
    "    @width.setter\n",
    "    def width(self, width):\n",
    "        if width > 0:\n",
    "            self._width = width\n",
    "        else:\n",
    "            raise ValueError('Width should be greater than 0.')\n",
    "        \n",
    "    @property\n",
    "    def height(self):\n",
    "        return self._height\n",
    "    \n",
    "    @height.setter\n",
    "    def height(self, height):\n",
    "        if height > 0:\n",
    "            self._height = height\n",
    "        else:\n",
    "            raise ValueError('Height should be greater than 0.')\n",
    "        \n",
    "    def perimeter(self):\n",
    "        return (self._width + self._height) * 2\n",
    "    \n",
    "    def area(self):\n",
    "        return self._width * self._height\n",
    "    \n",
    "    def __repr__(self):\n",
    "        return f'Rectangle({self._width}, {self._height})'\n",
    "    \n",
    "    def __str__(self):\n",
    "        return f'Rectangle: width {self._width}, height {self._height}'\n",
    "    \n",
    "    def __eq__(self, other):\n",
    "        if isinstance(other, type(self)):\n",
    "        # if issubclass(type(other), type(self)):\n",
    "            return self._width == other._width and self._height == other._height\n",
    "        else:\n",
    "            return False\n",
    "        \n",
    "    def __gt__(self, other):\n",
    "        if issubclass(type(other), type(self)):\n",
    "            return self.area() > other.area()\n",
    "        else:\n",
    "            return NotImplemented\n",
    "        \n",
    "    def __ge__(self, other):\n",
    "        if issubclass(type(other), type(self)):\n",
    "            return self.area() >= other.area()\n",
    "        else:\n",
    "            return NotImplemented\n",
    "        \n",
    "rect1 = Rectangle(10, 5)\n",
    "print(rect1)\n",
    "print(repr(rect1))\n",
    "rect1.width = 20\n",
    "print(f'width: {rect1.width}, height: {rect1.height}')\n",
    "print(f'Perimeter: {rect1.perimeter()}')\n",
    "print(f'Area: {rect1.area()}')\n",
    "# rect1.width = 0\n",
    "\n",
    "# rect2 = Rectangle(0, 5)\n",
    "rect2 = Rectangle(20, 5)\n",
    "print(rect1 == rect2)\n",
    "\n",
    "rect3 = Rectangle(10, 5)\n",
    "print(f'{rect2.area()=}, {rect3.area()=}')\n",
    "print('rect2 == rect3:', rect2 == rect3)\n",
    "print('rect2 != rect3:', rect2 != rect3)\n",
    "print('rect2 > rect3:', rect2 > rect3)\n",
    "print('rect2 >= rect3:', rect2 >= rect3)\n",
    "print('rect2 < rect3:', rect2 < rect3)\n",
    "print('rect2 == 3:', rect2 == 3)\n",
    "# print('rect2 > 3:', rect2 > 3)"
   ]
  },
  {
   "cell_type": "markdown",
   "metadata": {},
   "source": [
    "## Variables and memory"
   ]
  },
  {
   "cell_type": "markdown",
   "metadata": {},
   "source": [
    "### Variables are memory references\n",
    "\n",
    "* A Python variable is a symbolic name that is a *reference* or *pointer* to an object stored somewhere in the memory.\n",
    "* A reference can be seen as the connection between a variable name and a value, it contains the memory address where the value is held.\n",
    "* Once an object is assigned to a variable, you can refer to the object by that name.\n",
    "* A value is another word for the actual data or object.\n",
    "* When passing a variable to a function in Python, it's important to note that it's passed by reference, meaning the function receives a reference to the existing variable in memory."
   ]
  },
  {
   "cell_type": "code",
   "execution_count": 5,
   "metadata": {},
   "outputs": [
    {
     "name": "stdout",
     "output_type": "stream",
     "text": [
      "10\n",
      "140736085899992\n",
      "0x7fffac683ad8\n"
     ]
    }
   ],
   "source": [
    "my_var = 10\n",
    "print(my_var)\n",
    "print(id(my_var))\n",
    "print(hex(id(my_var)))"
   ]
  },
  {
   "cell_type": "markdown",
   "metadata": {},
   "source": [
    "### Reference counting\n",
    "\n",
    "Finding the reference count:\n",
    "\n",
    "* `sys.getrefcount(var)`, passing `var` to it creates an extra reference\n",
    "* `ctypes.c_long.from_address(address).value`, passing memory address, does not affect reference count"
   ]
  },
  {
   "cell_type": "code",
   "execution_count": 6,
   "metadata": {},
   "outputs": [
    {
     "name": "stdout",
     "output_type": "stream",
     "text": [
      "id(my_list) == id(my_list2): True\n",
      "sys.getrefcount(my_list)=3\n",
      "ctypes.c_long.from_address(address_my_list).value=2\n"
     ]
    }
   ],
   "source": [
    "import sys\n",
    "import ctypes\n",
    "\n",
    "my_list = [1, 2, 3]\n",
    "address_my_list = id(my_list)\n",
    "my_list2 = my_list\n",
    "print('id(my_list) == id(my_list2):', address_my_list == id(my_list2))\n",
    "\n",
    "print(f'{sys.getrefcount(my_list)=}')\n",
    "print(f'{ctypes.c_long.from_address(address_my_list).value=}')"
   ]
  },
  {
   "cell_type": "markdown",
   "metadata": {},
   "source": [
    "### Garbage collection\n",
    "\n",
    "* Can be controlled programmatically using the `gc` module\n",
    "* By default it is turned on\n",
    "* You may turn it off for performance reasons if you are sure your code does not create circular references\n",
    "* Runs periodically on its own if turned on\n",
    "* You can call it manually"
   ]
  },
  {
   "cell_type": "code",
   "execution_count": 7,
   "metadata": {},
   "outputs": [
    {
     "name": "stdout",
     "output_type": "stream",
     "text": [
      "B: self=2303649047920, a=2303673496496\n",
      "A: self=2303673496496, b=2303649047920\n",
      "a reference count: 2\n",
      "b reference count: 1\n",
      "a: Object exists\n",
      "b: Object exists\n",
      "\n",
      "Remove variable a\n",
      "a reference count: 1\n",
      "b reference count: 1\n",
      "a: Object exists\n",
      "b: Object exists\n",
      "\n",
      "Turn on gc\n",
      "a reference count: 0\n",
      "b reference count: 0\n",
      "a: Obj not found\n",
      "b: Obj not found\n"
     ]
    }
   ],
   "source": [
    "import ctypes\n",
    "import gc\n",
    "\n",
    "def get_ref_count(address):\n",
    "    return ctypes.c_long.from_address(address).value\n",
    "\n",
    "def check_obj_by_address(address):\n",
    "    for obj in gc.get_objects():\n",
    "        if id(obj) == address:\n",
    "            return 'Object exists'\n",
    "    return 'Obj not found'\n",
    "\n",
    "class A:\n",
    "    def __init__(self):\n",
    "        self.b = B(self)\n",
    "        print(f'A: self={id(self)}, b={id(self.b)}')\n",
    "\n",
    "class B:\n",
    "    def __init__(self, a):\n",
    "        self.a = a\n",
    "        print(f'B: self={id(self)}, a={id(self.a)}')\n",
    "\n",
    "gc.disable()\n",
    "\n",
    "a = A()\n",
    "address_a = id(a)\n",
    "address_b = id(a.b)\n",
    "print('a reference count:', get_ref_count(address_a))\n",
    "print('b reference count:', get_ref_count(address_b))\n",
    "print('a:', check_obj_by_address(address_a))\n",
    "print('b:', check_obj_by_address(address_b))\n",
    "\n",
    "print('\\nRemove variable a')\n",
    "a = None\n",
    "print('a reference count:', get_ref_count(address_a))\n",
    "print('b reference count:', get_ref_count(address_b))\n",
    "print('a:', check_obj_by_address(address_a))\n",
    "print('b:', check_obj_by_address(address_b))\n",
    "\n",
    "print('\\nTurn on gc')\n",
    "gc.collect()\n",
    "print('a reference count:', get_ref_count(address_a))\n",
    "print('b reference count:', get_ref_count(address_b))\n",
    "print('a:', check_obj_by_address(address_a))\n",
    "print('b:', check_obj_by_address(address_b))"
   ]
  },
  {
   "cell_type": "markdown",
   "metadata": {},
   "source": [
    "### Dynamic typing vs static typing\n",
    "\n",
    "Python employs dynamic typing, allowing variable types to be determined and checked at runtime rather than during compilation. Variables are purely references to objects. They don't have an inherent static type.\n",
    "\n",
    "Dynamic typing provides versatility and simplicity, allowing developers to work without specifying types explicitly.\n",
    "\n",
    "In contrast to statically-typed languages, where types are determined at compile-time, Python's dynamic typing offers more flexibility during development."
   ]
  },
  {
   "cell_type": "markdown",
   "metadata": {},
   "source": [
    "### Variable reassignment\n",
    "\n",
    "Variable reassignment is a common practice that involves assigning a new value to an existing variable. When you reassign a variable, you are essentially reassign its reference to a different object. It's important to note that variable reassignment only affects the specific variable being reassigned and doesn't alter other variables referencing the original value."
   ]
  },
  {
   "cell_type": "code",
   "execution_count": 8,
   "metadata": {},
   "outputs": [
    {
     "name": "stdout",
     "output_type": "stream",
     "text": [
      "id(a)=140736085899992\n",
      "id(a)=140736085900024\n"
     ]
    }
   ],
   "source": [
    "a = 10\n",
    "print(f'{id(a)=}')\n",
    "a += 1\n",
    "print(f'{id(a)=}')"
   ]
  },
  {
   "cell_type": "markdown",
   "metadata": {},
   "source": [
    "### Object mutability\n",
    "\n",
    "Changing the data inside the object is called modifying the internal state of the object. An object whose internal state can be changed is called mutable, otherwise immutable.\n",
    "\n",
    "* Immutable\n",
    "  * Numbers (int, float, booleans, etc)\n",
    "  * Strings\n",
    "  * Tuples\n",
    "  * Frozen sets\n",
    "  * User-defined classes\n",
    "* Mutable\n",
    "  * Lists\n",
    "  * Dictionaries\n",
    "  * Sets\n",
    "  * User-defined classes\n",
    "\n",
    "Tuples are immutable: elements cannot be deleted, inserted, or replaced, but tuples can contain mutable elements."
   ]
  },
  {
   "cell_type": "code",
   "execution_count": 9,
   "metadata": {},
   "outputs": [
    {
     "name": "stdout",
     "output_type": "stream",
     "text": [
      "t=([1, 2], [3, 4]), id(t)=2303673542720\n",
      "t=([1, 2, 5], [3, 4]), id(t)=2303673542720\n"
     ]
    }
   ],
   "source": [
    "t = ([1, 2], [3, 4])\n",
    "print(f'{t=}, {id(t)=}')\n",
    "t[0].append(5)\n",
    "print(f'{t=}, {id(t)=}')"
   ]
  },
  {
   "cell_type": "markdown",
   "metadata": {},
   "source": [
    "### Function arguments and mutability\n",
    "\n",
    "Arguments are passed to Python functions by reference.\n",
    "\n",
    "Immutable objects are safe from unintended side-effects. Changes made to immutable arguments within a function result in the creation of a new object. But watch out for immutable collection objects that contain mutable objects.\n",
    "\n",
    "Mutable objects are not safe from unintended side-effects. Modifications to mutable arguments within a function persist outside the function.\n",
    "\n",
    "Be cautious when using mutable objects as *default* function arguments. Default arguments are evaluated only once during function definition, leading to unexpected behavior if the mutable object is modified."
   ]
  },
  {
   "cell_type": "markdown",
   "metadata": {},
   "source": [
    "### Shared references and mutability\n",
    "\n",
    "The term shared references is the concept of two variables referencing the same object in memory.\n",
    "\n",
    "In the following cases, Python's memory manager decides to automatically re-use the memory references:"
   ]
  },
  {
   "cell_type": "code",
   "execution_count": 10,
   "metadata": {},
   "outputs": [
    {
     "data": {
      "text/plain": [
       "True"
      ]
     },
     "execution_count": 10,
     "metadata": {},
     "output_type": "execute_result"
    }
   ],
   "source": [
    "a = 10\n",
    "b = 10\n",
    "id(a) == id(b)"
   ]
  },
  {
   "cell_type": "code",
   "execution_count": 11,
   "metadata": {},
   "outputs": [
    {
     "data": {
      "text/plain": [
       "True"
      ]
     },
     "execution_count": 11,
     "metadata": {},
     "output_type": "execute_result"
    }
   ],
   "source": [
    "s1 = 'hello'\n",
    "s2 = 'hello'\n",
    "id(s1) == id(s2)"
   ]
  },
  {
   "cell_type": "markdown",
   "metadata": {},
   "source": [
    "With mutable objects, the Python memory manager will never create shared references."
   ]
  },
  {
   "cell_type": "code",
   "execution_count": 12,
   "metadata": {},
   "outputs": [
    {
     "data": {
      "text/plain": [
       "False"
      ]
     },
     "execution_count": 12,
     "metadata": {},
     "output_type": "execute_result"
    }
   ],
   "source": [
    "list1 = [1, 2, 3]\n",
    "list2 = [1, 2, 3]\n",
    "id(list1) == id(list2)"
   ]
  },
  {
   "cell_type": "markdown",
   "metadata": {},
   "source": [
    "### Variable equality\n",
    "\n",
    "We can think of variable equality in two fundamental ways:\n",
    "\n",
    "* Memory address\n",
    "  * `is`, identity operator, `var1 is var2`\n",
    "  * `is not`, `var1 is not var2`, or `not(var1 is var2)`\n",
    "* Object state (data)\n",
    "  * `==`, equality operator, `var1 == var2`\n",
    "  * `!=`, `var1 != var2`, or `not(var1 == var2)`\n",
    "\n",
    "The `None` object can be assigned to variables to indicate that they are not set, i.e. an empty value or null pointer. The Python memory manager will always use a shared reference when assigning a variable to `None`. So we can test if a variable is not set by comparing it's memory address to the memory address of `None` using `is` operator."
   ]
  },
  {
   "cell_type": "markdown",
   "metadata": {},
   "source": [
    "### Everything is an object\n",
    "\n",
    "Operators, functions, classes, types are all objects, i.e., instances of classes. They all have a memory address.\n",
    "\n",
    "As a consequence:\n",
    "\n",
    "* Any object can be assigned to a variable\n",
    "* Any object can be passed to a function\n",
    "* Any object can be returned from a function"
   ]
  },
  {
   "cell_type": "markdown",
   "metadata": {},
   "source": [
    "### Interning in CPython\n",
    "\n",
    "Python interning is a technique aimed at optimizing memory usage and improving performance. Interning allows Python to store only one copy of an object in memory and reuse it instead of creating duplicates.\n",
    "\n",
    "* Integer interning\n",
    "  * Small integers (-5 to 256 inclusive) are preloaded into the interpreter's memory on startup to optimize speed and memory. Every time we try to create an integer object in this range, CPython automatically refers to these cached objects in memory instead of creating new integer objects.\n",
    "* String interning\n",
    "  * String interning is a very useful mechanism in CPython that allows you to compare strings much faster.\n",
    "  * As the Python code is compiled, identifiers are interned\n",
    "    * variable names\n",
    "    * function names\n",
    "    * class names\n",
    "    * etc\n",
    "  * Some string literals may also be automatically interned\n",
    "    * string literals look like identifiers\n",
    "  * The rules for *implicit* string interning can be different. Relying on the rules can lead to unexpected errors.\n",
    "  * If for some reason we need to intern a string, we can use `sys.intern` function to intern the string explicitly.\n",
    "  * When should you intern strings explicitly\n",
    "    * dealing with a large number of strings that could have high repetition\n",
    "    * lots of string comparisons\n",
    "    * in general, you do not need to intern strings yourself"
   ]
  },
  {
   "cell_type": "code",
   "execution_count": 13,
   "metadata": {},
   "outputs": [
    {
     "name": "stdout",
     "output_type": "stream",
     "text": [
      "id(a)=140736085899992, id(b)=140736085899992\n",
      "a is b: True\n",
      "id(a)=2303673852208, id(b)=2303673852560\n",
      "a is b: False\n"
     ]
    }
   ],
   "source": [
    "a = 10\n",
    "b = 10\n",
    "print(f'{id(a)=}, {id(b)=}')\n",
    "print('a is b:', a is b)\n",
    "\n",
    "a = 257\n",
    "b = 257\n",
    "print(f'{id(a)=}, {id(b)=}')\n",
    "print('a is b:', a is b)"
   ]
  },
  {
   "cell_type": "code",
   "execution_count": 14,
   "metadata": {},
   "outputs": [
    {
     "name": "stdout",
     "output_type": "stream",
     "text": [
      "id(a)=2303653420112, id(b)=2303653420112\n",
      "a is b: True\n",
      "id(a)=2303674446768, id(b)=2303674446704\n",
      "a is b: False\n",
      "id(a)=2303674441136, id(b)=2303674441136, id(c)=2303674440816\n",
      "a is b: True\n",
      "a is c: False\n"
     ]
    }
   ],
   "source": [
    "import sys\n",
    "\n",
    "a = 'hello'\n",
    "b = 'hello'\n",
    "print(f'{id(a)=}, {id(b)=}')\n",
    "print('a is b:', a is b)\n",
    "\n",
    "a = 'hello world'\n",
    "b = 'hello world'\n",
    "print(f'{id(a)=}, {id(b)=}')\n",
    "print('a is b:', a is b)\n",
    "\n",
    "a = sys.intern('the quick brown fox')\n",
    "b = sys.intern('the quick brown fox')\n",
    "c = 'the quick brown fox'\n",
    "print(f'{id(a)=}, {id(b)=}, {id(c)=}')\n",
    "print('a is b:', a is b)\n",
    "print('a is c:', a is c)"
   ]
  },
  {
   "cell_type": "code",
   "execution_count": 15,
   "metadata": {},
   "outputs": [
    {
     "name": "stdout",
     "output_type": "stream",
     "text": [
      "a is b: False\n",
      "Equals: 5.241578699962702\n",
      "a is b: True\n",
      "Is: 0.34468569996533915\n"
     ]
    }
   ],
   "source": [
    "from sys import intern\n",
    "from time import perf_counter\n",
    "\n",
    "def compare_using_equals(n):\n",
    "    a = 'a very long string that is not automatically interned' * 200\n",
    "    b = 'a very long string that is not automatically interned' * 200\n",
    "    print('a is b:', a is b)\n",
    "    for _ in range(n):\n",
    "        if a == b:\n",
    "            pass\n",
    "\n",
    "def compare_using_is(n):\n",
    "    a = intern('a very long string that is not automatically interned' * 200)\n",
    "    b = intern('a very long string that is not automatically interned' * 200)\n",
    "    print('a is b:', a is b)\n",
    "    for _ in range(n):\n",
    "        if a is b:\n",
    "            pass\n",
    "\n",
    "start = perf_counter()\n",
    "compare_using_equals(10000000)\n",
    "end = perf_counter()\n",
    "print('Equals:', end - start)\n",
    "\n",
    "start = perf_counter()\n",
    "compare_using_is(10000000)\n",
    "end = perf_counter()\n",
    "print('Is:', end - start)"
   ]
  },
  {
   "cell_type": "markdown",
   "metadata": {},
   "source": [
    "### Peephole optimization in CPython\n",
    "\n",
    "Peephole optimization is a code optimization technique in Python that occurs during compilation.\n",
    "\n",
    "The Python interpreter includes a peephole optimizer that examines and modifies the generated bytecode for better efficiency. It pre-computes constant expressions and replaces them with the result, improving execution speed.\n",
    "\n",
    "Peephole optimizations include:\n",
    "\n",
    "* pre-calculating constant expressions\n",
    "  * numeric calculations: e.g. `24 * 60` -> `1440`\n",
    "  * short sequences length < 20 (the threshold 20 has been changed apparently):\n",
    "    * `(1, 2) * 3` -> `(1, 2, 1, 2, 1, 2)`\n",
    "    * `'abc' * 2` -> `'abcabc'`\n",
    "    * `'hello' + 'world'` -> `'helloworld'`\n",
    "* optimizing membership tests\n",
    "  * mutables are replaced by immutables\n",
    "    * lists -> tuples\n",
    "    * sets -> frozensets\n",
    "\n",
    "Set membership is much faster than list or tuple membership (sets are basically like dictionaries). So instead of writing `if e in [1, 2, 3]:` or `if e in (1, 2, 3):`, write `if e in {1, 2, 3}:`.\n",
    "\n",
    "Python's peephole optimization contributes to faster code execution and reduced memory usage during runtime."
   ]
  },
  {
   "cell_type": "code",
   "execution_count": 16,
   "metadata": {},
   "outputs": [
    {
     "data": {
      "text/plain": [
       "(None,\n",
       " 1440,\n",
       " (1, 2, 1, 2, 1, 2, 1, 2, 1, 2),\n",
       " 'abababababababababab',\n",
       " 'abcabcabcabcabcabcabc',\n",
       " '1',\n",
       " '2',\n",
       " 3)"
      ]
     },
     "execution_count": 16,
     "metadata": {},
     "output_type": "execute_result"
    }
   ],
   "source": [
    "def my_func():\n",
    "    a = 24 * 60\n",
    "    b = (1, 2) * 5\n",
    "    c = 'ab' * 10\n",
    "    d = 'abc' * 7\n",
    "    e = ['1', '2'] * 3\n",
    "\n",
    "my_func.__code__.co_consts"
   ]
  },
  {
   "cell_type": "code",
   "execution_count": 17,
   "metadata": {},
   "outputs": [
    {
     "data": {
      "text/plain": [
       "(None, (1, 2, 3))"
      ]
     },
     "execution_count": 17,
     "metadata": {},
     "output_type": "execute_result"
    }
   ],
   "source": [
    "def my_func():\n",
    "    for e in [1, 2, 3]:\n",
    "        pass\n",
    "\n",
    "my_func.__code__.co_consts"
   ]
  },
  {
   "cell_type": "code",
   "execution_count": 18,
   "metadata": {},
   "outputs": [
    {
     "name": "stdout",
     "output_type": "stream",
     "text": [
      "Tuple: 3.555142999975942\n",
      "Set: 0.5469000000157394\n"
     ]
    }
   ],
   "source": [
    "import string\n",
    "import time\n",
    "\n",
    "char_tuple = tuple(string.ascii_letters)\n",
    "char_set = set(string.ascii_letters)\n",
    "\n",
    "def membership_test(n, container):\n",
    "    for _ in range(n):\n",
    "        if 'z' in container:\n",
    "            pass\n",
    "\n",
    "n = 10000000\n",
    "start = time.perf_counter()\n",
    "membership_test(n, char_tuple)\n",
    "end = time.perf_counter()\n",
    "print('Tuple:', end - start)\n",
    "\n",
    "start = time.perf_counter()\n",
    "membership_test(n, char_set)\n",
    "end = time.perf_counter()\n",
    "print('Set:', end - start)"
   ]
  },
  {
   "cell_type": "markdown",
   "metadata": {},
   "source": [
    "## Numeric types\n",
    "\n",
    "Main types of numbers:\n",
    "\n",
    "* Boolean truth values: `bool`\n",
    "* Integer numbers (ℤ): `int`\n",
    "* Rational numbers (ℚ): `fractions.Fraction`\n",
    "* Real numbers (ℝ): `float`, `decimal.Decimal`\n",
    "* Complex numbers (ℂ): `complex`"
   ]
  },
  {
   "cell_type": "markdown",
   "metadata": {},
   "source": [
    "### Integers\n",
    "\n",
    "Integers are represented internally using base-2 (binary) digits, not decimal.\n",
    "\n",
    "Integers are represented as `int` in Python and can be of unlimited length.\n",
    "\n",
    "The largest integer number that can be represented using 8 bits is 255 (2⁸ - 1).\n",
    "\n",
    "If we care about handling negative integers as well, then 1 bit is reserved to represent the sign of the number, leaving us only 7 bits for the number itself. So the largest number we can represent using 7 bits is 127 (2⁷ - 1), and the range becomes [-127, 127]. But 0 does not require a sign, so we can squeeze out an extra number by adding the negative 0 to the bottom, and we end up with the range [-128, 127].\n",
    "\n",
    "In a 32-bit architecture, the operating system can theoretically support up to 4GB of RAM due to the limited address space. This is because a 32-bit processor can only represent 2³² different numbers, resulting in a maximum addressable memory: 2³² bytes = 2² * 2¹⁰ * 2¹⁰ * 2¹⁰ bytes = 4 GB"
   ]
  },
  {
   "cell_type": "code",
   "execution_count": 19,
   "metadata": {},
   "outputs": [
    {
     "name": "stdout",
     "output_type": "stream",
     "text": [
      "type(1)=<class 'int'>\n",
      "sys.getsizeof(1)=28 bytes\n",
      "sys.getsizeof(0)=28 bytes\n"
     ]
    }
   ],
   "source": [
    "import sys\n",
    "\n",
    "print(f'{type(1)=}')\n",
    "print(f'{sys.getsizeof(1)=}', 'bytes')\n",
    "print(f'{sys.getsizeof(0)=}', 'bytes')"
   ]
  },
  {
   "cell_type": "markdown",
   "metadata": {},
   "source": [
    "Integers support the following arithmetic operations:\n",
    "\n",
    "* addition `+`\n",
    "* subtraction `-`\n",
    "* multiplication `*`\n",
    "* division `/`: always returns a float\n",
    "* exponentiation `**`\n",
    "* floor division `//`: returns the largest integer less than or equal to the result of division\n",
    "* modulo `%`\n",
    "\n",
    "The equation always satisfies: n = d * (n // d) + n % d, n stands for numerator, d denominator."
   ]
  },
  {
   "cell_type": "code",
   "execution_count": 20,
   "metadata": {},
   "outputs": [
    {
     "name": "stdout",
     "output_type": "stream",
     "text": [
      "10 / 2 = 5.0\n",
      "10 // 3 = 3\n",
      "10 % 3 = 1\n",
      "10 // -3 = -4\n",
      "10 % -3 = -2\n",
      "-10 // 3 = -4\n",
      "-10 % 3 = 2\n",
      "-10 // -3 = 3\n",
      "-10 % -3 = -1\n"
     ]
    }
   ],
   "source": [
    "print('10 / 2 =', 10 / 2)\n",
    "print('10 // 3 =', 10 // 3)\n",
    "print('10 % 3 =', 10 % 3)\n",
    "print('10 // -3 =', 10 // -3)\n",
    "print('10 % -3 =', 10 % -3)\n",
    "print('-10 // 3 =', -10 // 3)\n",
    "print('-10 % 3 =', -10 % 3)\n",
    "print('-10 // -3 =', -10 // -3)\n",
    "print('-10 % -3 =', -10 % -3)"
   ]
  },
  {
   "cell_type": "markdown",
   "metadata": {},
   "source": [
    "An integer number is an instance of the `int` class.\n",
    "\n",
    "* Numerical data types are supported in the argument of the `int` constructor.\n",
    "* Strings that can be parsed to a number are supported too.\n",
    "  * constructor can have an optional base parameter\n",
    "  * if base is not specified, the default is base 10\n",
    "  * The allowed bases are 0 and 2–36.\n",
    "  * For base 0, the string is interpreted by the prefix in the it. Base 0 also disallows leading zeros: `int('010', 0)` is not legal, while `int('010')` and `int('010', 8)` are."
   ]
  },
  {
   "cell_type": "code",
   "execution_count": 21,
   "metadata": {},
   "outputs": [
    {
     "name": "stdout",
     "output_type": "stream",
     "text": [
      "int()=0\n",
      "int(10)=10\n",
      "int(10.1)=10\n",
      "int(Decimal(\"10.1\"))=10\n",
      "int(\"10\")=10\n",
      "int(\"010\")=10\n",
      "int(\"010\", 2)=2\n",
      "int(\"0b10\", 0)=2\n"
     ]
    }
   ],
   "source": [
    "from decimal import Decimal\n",
    "\n",
    "print(f'{int()=}')\n",
    "print(f'{int(10)=}')\n",
    "print(f'{int(10.1)=}')\n",
    "print(f'{int(Decimal(\"10.1\"))=}')\n",
    "# print(f'{int(\"10.1\")=}')\n",
    "print(f'{int(\"10\")=}')\n",
    "print(f'{int(\"010\")=}')\n",
    "# print(f'{int(\"010\", 0)=}')\n",
    "print(f'{int(\"010\", 2)=}')\n",
    "print(f'{int(\"0b10\", 0)=}')"
   ]
  },
  {
   "cell_type": "markdown",
   "metadata": {},
   "source": [
    "Changing an integer from base 10 to another base:\n",
    "\n",
    "* `bin`: `bin(10)` -> `'0b1010'`\n",
    "* `oct`: `oct(10)` -> `'0o12'`\n",
    "* `hex`: `hex(10)` -> `'0xa'`"
   ]
  },
  {
   "cell_type": "code",
   "execution_count": 22,
   "metadata": {},
   "outputs": [
    {
     "name": "stdout",
     "output_type": "stream",
     "text": [
      "rebase(0, 2)='0'\n",
      "rebase(10, 2)='1010'\n",
      "rebase(-10, 2)='-1010'\n",
      "rebase(9, 3)='100'\n",
      "rebase(-106, 16)='-6a'\n",
      "rebase(1485, 16)='5cd'\n",
      "rebase(100, 36)='2s'\n"
     ]
    }
   ],
   "source": [
    "import string\n",
    "\n",
    "def rebase(number: int, base: int):\n",
    "    \"\"\"Rebase base 10 integer number to the designated base\"\"\"\n",
    "    if number == 0:\n",
    "        return '0'\n",
    "    if base < 2 or base > 36:\n",
    "        raise ValueError('Invalid base: 2 <= base <= 36')\n",
    "    \n",
    "    base_letters = string.digits + string.ascii_lowercase\n",
    "\n",
    "    # if number < 0:\n",
    "    #     sign = '-'\n",
    "    #     number = abs(number)\n",
    "    # else:\n",
    "    #     sign = ''\n",
    "    number, sign = (number, '') if number > 0 else (-number, '-')\n",
    "    \n",
    "    rebased = ''\n",
    "\n",
    "    while number > 0:\n",
    "        rebased = base_letters[number % base] + rebased\n",
    "        number = number // base\n",
    "        # number, mod = divmod(number, base)\n",
    "        # rebased = base_letters[mod] + rebased\n",
    "\n",
    "    return sign + rebased\n",
    "\n",
    "print(f'{rebase(0, 2)=}')\n",
    "print(f'{rebase(10, 2)=}')\n",
    "print(f'{rebase(-10, 2)=}')\n",
    "print(f'{rebase(9, 3)=}')\n",
    "print(f'{rebase(-106, 16)=}')\n",
    "print(f'{rebase(1485, 16)=}')\n",
    "print(f'{rebase(100, 36)=}')\n",
    "# print(f'{rebase(5, 1)=}')"
   ]
  },
  {
   "cell_type": "markdown",
   "metadata": {},
   "source": [
    "### Rational numbers\n",
    "\n",
    "In mathematics, a rational number is a number that can be expressed as the quotient or fraction of two integers, a numerator p and a non-zero denominator q.\n",
    "\n",
    "The real numbers that are rational are those whose decimal expansion either terminates after a finite number of digits (example: 3/4 = 0.75), or eventually begins to repeat the same finite sequence of digits over and over (example: 9/44 = 0.20454545...). This statement is true not only in base 10, but also in every other integer base, such as the binary and hexadecimal ones.\n",
    "\n",
    "Rational numbers can be represented in Python using the `Fraction` class in the `fractions` module."
   ]
  },
  {
   "cell_type": "code",
   "execution_count": 23,
   "metadata": {},
   "outputs": [
    {
     "name": "stdout",
     "output_type": "stream",
     "text": [
      "Fraction()=Fraction(0, 1)\n",
      "Fraction(1, 10)=Fraction(1, 10)\n",
      "Fraction(0.1)=Fraction(3602879701896397, 36028797018963968)\n",
      "Fraction(\"0.1\")=Fraction(1, 10)\n",
      "Fraction(0.1) == Fraction(1, 10): False\n",
      "Fraction(\"0.1\") == Fraction(1, 10): True\n",
      "Fraction(\"22/7\")=Fraction(22, 7)\n",
      "5/6\n",
      "x.numerator=7\n",
      "x.denominator=22\n",
      "x.numerator=-7\n",
      "x.denominator=22\n"
     ]
    }
   ],
   "source": [
    "from fractions import Fraction\n",
    "\n",
    "print(f'{Fraction()=}')\n",
    "print(f'{Fraction(1, 10)=}')\n",
    "print(f'{Fraction(0.1)=}') # using float is meaningless, as it may not have an exact representation in base 2\n",
    "print(f'{Fraction(\"0.1\")=}')\n",
    "print('Fraction(0.1) == Fraction(1, 10):', Fraction(0.1) == Fraction(1, 10))\n",
    "print('Fraction(\"0.1\") == Fraction(1, 10):', Fraction('0.1') == Fraction(1, 10))\n",
    "print(f'{Fraction(\"22/7\")=}')\n",
    "\n",
    "print(Fraction(1, 2) + Fraction(1, 3))\n",
    "\n",
    "x = Fraction(7, 22)\n",
    "print(f'{x.numerator=}')\n",
    "print(f'{x.denominator=}')\n",
    "x = Fraction(7, -22)\n",
    "print(f'{x.numerator=}')\n",
    "print(f'{x.denominator=}')"
   ]
  },
  {
   "cell_type": "markdown",
   "metadata": {},
   "source": [
    "Given a `Fraction` object, we can find an approximate equivalent fraction with a constrained denominator using the `limit_denominator(max_denominator=1000000)` instance method."
   ]
  },
  {
   "cell_type": "code",
   "execution_count": 24,
   "metadata": {},
   "outputs": [
    {
     "name": "stdout",
     "output_type": "stream",
     "text": [
      "884279719003555/281474976710656\n",
      "3126535/995207\n",
      "22/7\n",
      "311/99\n",
      "355/113\n"
     ]
    }
   ],
   "source": [
    "import math\n",
    "from fractions import Fraction\n",
    "\n",
    "x = Fraction(math.pi)\n",
    "print(x)\n",
    "print(x.limit_denominator())\n",
    "print(x.limit_denominator(10))\n",
    "print(x.limit_denominator(100))\n",
    "print(x.limit_denominator(10000))"
   ]
  },
  {
   "cell_type": "markdown",
   "metadata": {},
   "source": [
    "### Floats\n",
    "\n",
    "The `float` class is Python's default implementation for representing real numbers.\n",
    "\n",
    "The float uses a fixed number of bytes (8 bytes, 64 bits, plus the overhead of objects), unlike integers which can take up more and more memory space as needed."
   ]
  },
  {
   "cell_type": "code",
   "execution_count": 25,
   "metadata": {},
   "outputs": [
    {
     "name": "stdout",
     "output_type": "stream",
     "text": [
      "\n",
      "Floats may not have exact representations in computer:\n",
      "0.1: 0.1000000000000000055511151\n",
      "0.1 + 0.1 + 0.1 == 0.3: False\n",
      "\n",
      "Because of the inexact internal representation, the result of round() may also be surprising.\n",
      "round(1.25, 1)=1.2\n",
      "round(1.225, 2)=1.23\n"
     ]
    }
   ],
   "source": [
    "print('\\nFloats may not have exact representations in computer:')\n",
    "print('0.1:', f'{0.1:.25f}')\n",
    "print('0.1 + 0.1 + 0.1 == 0.3:', 0.1 + 0.1 + 0.1 == 0.3)\n",
    "\n",
    "print('\\nBecause of the inexact internal representation, the result of round() may also be surprising.')\n",
    "print(f'{round(1.25, 1)=}')\n",
    "print(f'{round(1.225, 2)=}')"
   ]
  },
  {
   "cell_type": "markdown",
   "metadata": {},
   "source": [
    "As we have seen that some decimal numbers cannot be represented with a finite binary representation. This can lead to some weirdness and bugs in our code if we don't know how to deal with it.\n",
    "\n",
    "Using rounding will not necessarily solve the problem, although it can be used to round the entirety of both sides of the equality comparison.\n",
    "\n",
    "More generally, use an appropriate range (ε) within which two numbers are deemed equal. The range should be the larger of absolute and relative tolerances.\n",
    "\n",
    "`math.isclose(a, b, *, rel_tol=1e-09, abs_tol=0.0)` return `True` if the values `a` and `b` are close to each other and `False` otherwise. The result will be: `abs(a-b) <= max(rel_tol * max(abs(a), abs(b)), abs_tol)`."
   ]
  },
  {
   "cell_type": "code",
   "execution_count": 26,
   "metadata": {},
   "outputs": [
    {
     "name": "stdout",
     "output_type": "stream",
     "text": [
      "x=0.30000000000000004, y=0.3\n",
      "x == y: False\n",
      "x is close y: True\n"
     ]
    }
   ],
   "source": [
    "import sys\n",
    "import math\n",
    "\n",
    "x = 0.1 + 0.1 + 0.1\n",
    "y = 0.3\n",
    "epsilon = sys.float_info.epsilon\n",
    "\n",
    "print(f'{x=}, {y=}')\n",
    "print('x == y:', x == y)\n",
    "print('x is close y:', math.isclose(x, y, rel_tol=epsilon, abs_tol=epsilon))"
   ]
  },
  {
   "cell_type": "markdown",
   "metadata": {},
   "source": [
    "Coerce a float to an integer:\n",
    "\n",
    "* Truncation: `math.trunc(float)`, `int(float)`\n",
    "* Floor: `math.floor(float)`\n",
    "* Ceiling: `math.ceil(float)`\n",
    "* Rounding: `round(x, n=0)`\n",
    "  * the `round` function will round the number `x` to the closest multiple of 10^-n, `n` can be negative\n",
    "  * banker's rounding, a number is rounded to the nearest value, with ties rounded to the nearest value with an *even* least significant digit\n",
    "  * `round(x)` -> `int`\n",
    "  * `round(x, n)` -> same type as `x`\n",
    "\n",
    "Why banker's rounding? It is less biased rounding than ties away from zero."
   ]
  },
  {
   "cell_type": "code",
   "execution_count": 27,
   "metadata": {},
   "outputs": [
    {
     "name": "stdout",
     "output_type": "stream",
     "text": [
      "f=-10.5\n",
      "round(f)=-10\n",
      "traditional_round(f)=-11\n",
      "f=-10.6\n",
      "round(f)=-11\n",
      "traditional_round(f)=-11\n"
     ]
    }
   ],
   "source": [
    "import math\n",
    "\n",
    "def traditional_round(f: float):\n",
    "    \"\"\"Round away from zero\"\"\"\n",
    "    return int(f + math.copysign(0.5, f))\n",
    "\n",
    "f = -10.5\n",
    "print(f'{f=}')\n",
    "print(f'{round(f)=}')\n",
    "print(f'{traditional_round(f)=}')\n",
    "\n",
    "f = -10.6\n",
    "print(f'{f=}')\n",
    "print(f'{round(f)=}')\n",
    "print(f'{traditional_round(f)=}')"
   ]
  },
  {
   "cell_type": "markdown",
   "metadata": {},
   "source": [
    "### Decimals\n",
    "\n",
    "The `decimal` module provides support for fast correctly rounded decimal floating point arithmetic. It offers several advantages over the float datatype:\n",
    "\n",
    "* Decimal numbers can be represented exactly. In contrast, numbers like `1.1` and `2.2` do not have exact representations in binary floating point. End users typically would not expect `1.1 + 2.2` to display as `3.3000000000000003` as it does with binary floating point.\n",
    "* The exactness carries over into arithmetic. In decimal floating point, `0.1 + 0.1 + 0.1 - 0.3` is exactly equal to zero. In binary floating point, the result is `5.5511151231257827e-017`. While near to zero, the differences prevent reliable equality testing and differences can *accumulate*. For this reason, decimal is preferred in accounting applications which have strict equality invariants.\n",
    "* The decimal module incorporates a notion of significant places so that `1.30 + 1.20` is `2.50`. The trailing zero is kept to indicate significance. This is the customary presentation for monetary applications. For multiplication, the \"schoolbook\" approach uses all the figures in the multiplicands. For instance, `1.3 * 1.2` gives `1.56` while `1.30 * 1.20` gives `1.5600`.\n",
    "* Unlike hardware based binary floating point, the decimal module has a user alterable precision (defaulting to 28 places) which can be as large as needed for a given problem.\n",
    "* Both binary and decimal floating point are implemented in terms of published standards. While the built-in float type exposes only a modest portion of its capabilities, the decimal module exposes all required parts of the standard. When needed, the programmer has full control over rounding and signal handling. This includes an option to enforce exact arithmetic by using exceptions to block any inexact operations.\n",
    "\n",
    "A decimal number is immutable. It has a sign, coefficient digits, and an exponent. To preserve significance, the coefficient digits do not truncate trailing zeros. Decimals also include special values such as `Infinity`, `-Infinity`, and `NaN`. The standard also differentiates `-0` from `+0`.\n",
    "\n",
    "Decimals have a context that controls certain aspects of working with decimals.\n",
    "\n",
    "* The context can be global, the default context\n",
    "  * `decimal.getcontext()`\n",
    "* The context can be temporary (local)\n",
    "  * `decimal.localcontext(ctx=None)`\n",
    "    * creates a new context, copied from `ctx` or from default if `ctx` is not specified\n",
    "    * returns a context manager (use a `with` statement)"
   ]
  },
  {
   "cell_type": "code",
   "execution_count": 28,
   "metadata": {},
   "outputs": [
    {
     "name": "stdout",
     "output_type": "stream",
     "text": [
      "Context(prec=28, rounding=ROUND_HALF_EVEN, Emin=-999999, Emax=999999, capitals=1, clamp=0, flags=[], traps=[InvalidOperation, DivisionByZero, Overflow])\n",
      "ctx.prec=28\n",
      "ctx.rounding='ROUND_HALF_EVEN'\n",
      "local context: Context(prec=28, rounding=ROUND_HALF_UP, Emin=-999999, Emax=999999, capitals=1, clamp=0, flags=[], traps=[InvalidOperation, DivisionByZero, Overflow])\n",
      "getcontext: Context(prec=28, rounding=ROUND_HALF_UP, Emin=-999999, Emax=999999, capitals=1, clamp=0, flags=[], traps=[InvalidOperation, DivisionByZero, Overflow])\n",
      "inside: round(Decimal('1.25'), 1)=Decimal('1.3')\n",
      "outside: round(Decimal('1.25'), 1)=Decimal('1.2')\n"
     ]
    }
   ],
   "source": [
    "import decimal\n",
    "from decimal import Decimal\n",
    "\n",
    "ctx = decimal.getcontext()\n",
    "print(ctx)\n",
    "print(f'{ctx.prec=}')\n",
    "print(f'{ctx.rounding=}')\n",
    "\n",
    "with decimal.localcontext() as ctx:\n",
    "    ctx.rounding = decimal.ROUND_HALF_UP\n",
    "    print('local context:', ctx)\n",
    "    print('getcontext:', decimal.getcontext()) # getcontext will actually get local context\n",
    "    print(f'inside: {round(Decimal('1.25'), 1)=}')\n",
    "\n",
    "print(f'outside: {round(Decimal('1.25'), 1)=}')"
   ]
  },
  {
   "cell_type": "code",
   "execution_count": 29,
   "metadata": {},
   "outputs": [
    {
     "name": "stdout",
     "output_type": "stream",
     "text": [
      "Decimal(1)=Decimal('1')\n",
      "Decimal(3.14)=Decimal('3.140000000000000124344978758017532527446746826171875')\n",
      "Decimal(\"3.14\")=Decimal('3.14')\n",
      "Decimal((1, (3, 1, 4), -2))=Decimal('-3.14')\n"
     ]
    }
   ],
   "source": [
    "from decimal import Decimal\n",
    "\n",
    "print(f'{Decimal(1)=}')\n",
    "print(f'{Decimal(3.14)=}')\n",
    "print(f'{Decimal(\"3.14\")=}')\n",
    "print(f'{Decimal((1, (3, 1, 4), -2))=}')"
   ]
  },
  {
   "cell_type": "markdown",
   "metadata": {},
   "source": [
    "Context precision affects mathematical operation, but it does not affect the constructor."
   ]
  },
  {
   "cell_type": "code",
   "execution_count": 30,
   "metadata": {},
   "outputs": [
    {
     "name": "stdout",
     "output_type": "stream",
     "text": [
      "a=Decimal('0.12345'), b=Decimal('0.12345')\n",
      "a + b = 0.25\n",
      "c=Decimal('0.25')\n"
     ]
    }
   ],
   "source": [
    "import decimal\n",
    "from decimal import Decimal\n",
    "\n",
    "decimal.getcontext().prec = 2\n",
    "\n",
    "a = Decimal('0.12345')\n",
    "b = Decimal('0.12345')\n",
    "c = a + b\n",
    "print(f'{a=}, {b=}')\n",
    "print('a + b =', c)\n",
    "print(f'{c=}') # the actual value of c has been permanently affected by precision"
   ]
  },
  {
   "cell_type": "markdown",
   "metadata": {},
   "source": [
    "Some arithmetic operators don't work the same as floats or integers.\n",
    "\n",
    "* `//`, `%`, and also `divmod()`\n",
    "  * for integers, `//` performs floor division\n",
    "  * for Decimals, `//` performs truncated division\n",
    "  * the equation n = d * (n // d) + n % d still holds\n",
    "* The Decimal class defines a bunch of various mathematical operations, such as `sqrt`, `exp`, `ln`, `log10`, etc.\n",
    "* We can still apply functions from math `module` to Decimals, but `Decimal` objects will first be cast to floats, so we lose the whole precision mechanism that made us use Decimal objects in the first place."
   ]
  },
  {
   "cell_type": "code",
   "execution_count": 31,
   "metadata": {},
   "outputs": [
    {
     "name": "stdout",
     "output_type": "stream",
     "text": [
      "root: 0.1000000000000000055511151231\n",
      "root_mixed: 0.1000000000000000055511151231\n",
      "root_dec: 0.1000000000000000000000000000\n",
      "\n",
      "quantize method:\n",
      "7.3\n",
      "7.4\n",
      "8\n",
      "8\n",
      "8\n"
     ]
    }
   ],
   "source": [
    "import math\n",
    "import decimal\n",
    "from decimal import Decimal\n",
    "\n",
    "x = 0.01\n",
    "x_dec = Decimal('0.01')\n",
    "\n",
    "root = math.sqrt(x)\n",
    "root_mixed = math.sqrt(x_dec)\n",
    "root_dec = x_dec.sqrt()\n",
    "\n",
    "print('root:', f'{root:.28f}')\n",
    "print('root_mixed:', f'{root_mixed:.28f}')\n",
    "print('root_dec:', f'{root_dec:.28f}')\n",
    "\n",
    "print('\\nquantize method:')\n",
    "print(Decimal('7.325').quantize(Decimal('0.1'), rounding=decimal.ROUND_DOWN))\n",
    "print(Decimal('7.325').quantize(Decimal('0.1'), rounding=decimal.ROUND_UP))\n",
    "print(Decimal('7.325').quantize(Decimal('1'), rounding=decimal.ROUND_UP))\n",
    "print(Decimal('7.325').quantize(Decimal('1.'), rounding=decimal.ROUND_UP))\n",
    "print(Decimal('7.325').quantize(Decimal(1), rounding=decimal.ROUND_UP))\n"
   ]
  },
  {
   "cell_type": "markdown",
   "metadata": {},
   "source": [
    "There are some drawbacks to the `Decimal` class vs the `float` class\n",
    "\n",
    "* not as easy to code: construction via strings or tuples\n",
    "* not all mathematical functions that exist in the `math` module have a `Decimal` counterpart\n",
    "* more memory overhead\n",
    "* performance: much slower than floats"
   ]
  },
  {
   "cell_type": "markdown",
   "metadata": {},
   "source": [
    "### Complex numbers\n",
    "\n",
    "The `complex` class:\n",
    "\n",
    "* Constructor: `complex(x, y)`\n",
    "  * `x`: real part, `y`: imaginary part\n",
    "  * `x` and `y` are stored as floats\n",
    "* Literals: `x + yj`, or `x + yJ`\n",
    "* Some instance properties and methods\n",
    "  * `.real`: returns the real part\n",
    "  * `.imag`: returns the imaginary part\n",
    "  * `.conjugate()`: returns the complex conjugate\n",
    "* The standard arithmetic operators (`+`, `-`, `*`, `/`, `**`) works as expected with complex numbers\n",
    "  * real and complex numbers can be mixed\n",
    "  * `//` and `%` operators are not supported\n",
    "* `==` and `!=` operators are supported, but we have the same problem as with floats\n",
    "* Comparison operators such as `<`, `>`, `>=`, and `<=` are not supported\n",
    "* Functions in the `math` module will not work, use the `cmath` module instead\n",
    "\n",
    "Rectangular to polar:\n",
    "\n",
    "* `cmath.phase(x)`: returns the phase φ of the complex number `x`, φ ∈ [-π, π] measured counter-clockwise from the real axis\n",
    "* `abs(x)`: returns the magnitude r of `x`\n",
    "* `cmath.polar(x)`: returns the representation of `x` in polar coordinates. Returns a pair `(r, phi)` where `r` is the modulus of `x` and `phi` is the phase of `x`. `polar(x)` is equivalent to `(abs(x), phase(x))`.\n",
    "\n",
    "Polar to rectangular:\n",
    "\n",
    "* `cmath.rect(r, phi)`: returns a complex number (rectangular coordinates) equivalent to the complex number defined by `(r, phi)` in polar coordinates\n",
    "* the conversion is not exact because of the inexact representation of floats and irrational numbers"
   ]
  },
  {
   "cell_type": "code",
   "execution_count": 32,
   "metadata": {},
   "outputs": [
    {
     "name": "stdout",
     "output_type": "stream",
     "text": [
      "e^(iπ) + 1 = 0: False\n",
      "e^(iπ) + 1 is close 0: True\n",
      "cmath.rect(2 ** 0.5, cmath.pi / 4)=(1.0000000000000002+1.0000000000000002j)\n",
      "math.pi is cmath.pi: False\n",
      "math.pi == cmath.pi: True\n"
     ]
    }
   ],
   "source": [
    "# Euler's identity\n",
    "# e^(iπ) + 1 = 0\n",
    "\n",
    "import cmath\n",
    "import math\n",
    "import sys\n",
    "\n",
    "epsilon = sys.float_info.epsilon\n",
    "\n",
    "print('e^(iπ) + 1 = 0:', cmath.exp(1j * cmath.pi + 1) == 0)\n",
    "print('e^(iπ) + 1 is close 0:', cmath.isclose(cmath.exp(1j * cmath.pi) + 1, 0, rel_tol=epsilon, abs_tol=epsilon))\n",
    "\n",
    "print(f'{cmath.rect(2 ** 0.5, cmath.pi / 4)=}')\n",
    "print('math.pi is cmath.pi:', math.pi is cmath.pi)\n",
    "print('math.pi == cmath.pi:', math.pi == cmath.pi)"
   ]
  },
  {
   "cell_type": "markdown",
   "metadata": {},
   "source": [
    "### Booleans\n",
    "\n",
    "Python has a concrete `bool` class that is used to represent Boolean values.\n",
    "\n",
    "* The `bool` class is a subclass of the `int` class.\n",
    "* They possess all the properties and methods of integers, and add some specialized ones such as `and`, `or`, etc.\n",
    "* Two constants are defined `True` and `False`. \n",
    "* They are singleton objects of `bool`, so they will always retain their same memory address through out the lifetime of your application.\n",
    "\n"
   ]
  },
  {
   "cell_type": "code",
   "execution_count": 33,
   "metadata": {},
   "outputs": [
    {
     "name": "stdout",
     "output_type": "stream",
     "text": [
      "bool is subclass of int: True\n",
      "True is instance of bool: True\n",
      "False is instance of bool: True\n",
      "int(True)=1\n",
      "int(False)=0\n",
      "True == 1: True\n",
      "False == 0: True\n",
      "True is 1: False\n",
      "True + True == 2\n",
      "True > False: True\n",
      "(1 == 2) == False: True\n",
      "(1 == 2) == 0: True\n",
      "-True = -1\n"
     ]
    },
    {
     "name": "stderr",
     "output_type": "stream",
     "text": [
      "<>:8: SyntaxWarning: \"is\" with 'int' literal. Did you mean \"==\"?\n",
      "<>:8: SyntaxWarning: \"is\" with 'int' literal. Did you mean \"==\"?\n",
      "C:\\Users\\FREEDEMPIRE-XL\\AppData\\Local\\Temp\\ipykernel_16996\\1539027584.py:8: SyntaxWarning: \"is\" with 'int' literal. Did you mean \"==\"?\n",
      "  print('True is 1:', True is 1)\n"
     ]
    }
   ],
   "source": [
    "print('bool is subclass of int:', issubclass(bool, int))\n",
    "print('True is instance of bool:', isinstance(True, bool))\n",
    "print('False is instance of bool:', isinstance(False, bool))\n",
    "print(f'{int(True)=}')\n",
    "print(f'{int(False)=}')\n",
    "print('True == 1:', True == 1)\n",
    "print('False == 0:', False == 0)\n",
    "print('True is 1:', True is 1)\n",
    "print('True + True ==', True + True)\n",
    "print('True > False:', True > False)\n",
    "print('(1 == 2) == False:', (1 == 2) == False)\n",
    "print('(1 == 2) == 0:', (1 == 2) == 0)\n",
    "print('-True =', -True)"
   ]
  },
  {
   "cell_type": "markdown",
   "metadata": {},
   "source": [
    "The Boolean constructor:\n",
    "\n",
    "* The Boolean constructor `bool(x)` returns `True` when `x` is `True`, and `False` when `x` is `False`.\n",
    "* Many classes contain a definition of how to cast instances of themselves to a Boolean. \n",
    "  * This is called the truth value of an object.\n",
    "  * Every object has a `True` value, except:\n",
    "    * `None`\n",
    "    * `False`\n",
    "    * `0` in any numeric type (e.g. `0`, `0.0`, `0 + 0j`, ...)\n",
    "    * empty sequences (e.g. list, tuple, string, ...)\n",
    "    * empty mapping types (e.g. dictionary, set, ...)\n",
    "    * custom classes that implement a `__bool__` or `__len__` method that returns `False` or `0`\n",
    "    * the default truthiness of an object is `True`"
   ]
  },
  {
   "cell_type": "code",
   "execution_count": 34,
   "metadata": {},
   "outputs": [
    {
     "name": "stdout",
     "output_type": "stream",
     "text": [
      "1\n"
     ]
    }
   ],
   "source": [
    "a = [1, 2, 3]\n",
    "\n",
    "if a: # work the same way as the code below but more concise\n",
    "# if a is not None and len(a) > 0:\n",
    "    print(a[0])\n",
    "else:\n",
    "    print('Nothing to see here...')"
   ]
  },
  {
   "cell_type": "markdown",
   "metadata": {},
   "source": [
    "The Boolean operators:\n",
    "\n",
    "* `not`\n",
    "* `and`\n",
    "* `or`\n",
    "\n",
    "* Commutativity\n",
    "  * A or B == B or A\n",
    "  * A and B == B and A\n",
    "* Distributivity\n",
    "  * A and (B or C) == (A and B) or (A and C)\n",
    "  * A or (B and C) == (A or B) and (A or C)\n",
    "* Associativity\n",
    "  * A or (B or C) == (A or B) or C == A or B or C\n",
    "  * A and (B and C) == (A and B) and C == A and B and C\n",
    "* De Morgan's theorem\n",
    "  * not (A or B) == not A and not B\n",
    "  * not (A and B) == not A or not B\n",
    "\n",
    "Operator precedence from high to low:\n",
    "\n",
    "* `()`\n",
    "* `<`, `>`, `<=`, `>=`, `==`, `!=`, `in`, `is`, `is not`, `not in`\n",
    "* `not`: `not` has a lower priority than non-Boolean operators, so `not a == b` is interpreted as `not (a == b)`, and `a == not b` is a syntax error\n",
    "* `and`\n",
    "* `or`\n",
    "\n",
    "When in doubt, or to be absolutely sure, use parentheses. Also, use parentheses to make your code more human readable.\n",
    "\n",
    "Short-circuit evaluation:\n",
    "\n",
    "* `and`: returns the first falsy value or the last value, only evaluates the second operand if the first one is true\n",
    "* `or`: returns the first truthy value or the last value, only evaluates the second operand if the first one is false"
   ]
  },
  {
   "cell_type": "code",
   "execution_count": 35,
   "metadata": {},
   "outputs": [
    {
     "name": "stdout",
     "output_type": "stream",
     "text": [
      "get_first_letter(s1)=''\n",
      "get_first_letter(s2)=''\n",
      "get_first_letter(s3)='a'\n"
     ]
    }
   ],
   "source": [
    "def get_first_letter(s):\n",
    "    # if s:\n",
    "    #     return s[0]\n",
    "    # else:\n",
    "    #     return ''\n",
    "    return s and s[0] or ''\n",
    "\n",
    "s1 = None\n",
    "s2 = ''\n",
    "s3 = 'abc'\n",
    "\n",
    "print(f'{get_first_letter(s1)=}')\n",
    "print(f'{get_first_letter(s2)=}')\n",
    "print(f'{get_first_letter(s3)=}')"
   ]
  },
  {
   "cell_type": "markdown",
   "metadata": {},
   "source": [
    "### Comparison operators\n",
    "\n",
    "Categories of operators\n",
    "\n",
    "* General features\n",
    "  * binary operators\n",
    "  * evaluate to a `bool` value\n",
    "* Identity operators\n",
    "  * `is`, `is not`\n",
    "  * compare memory address\n",
    "* Value comparisons\n",
    "  * `==`, `!=`\n",
    "  * compare values, \n",
    "  * different types are OK, but must be compatible\n",
    "* Ordering comparisons\n",
    "  * `<`, `>`, `<=`, `>=`\n",
    "  * doesn't work for all types\n",
    "* Membership operators\n",
    "  * `in`, `not in`\n",
    "  * used with iterable types\n",
    "\n",
    "Numeric types\n",
    "\n",
    "* Value comparisons will work with all numeric types.\n",
    "* Mixed types in value and ordering (except complex) comparisons is supported.\n",
    "* Value equality operators work between floats and Decimals, but using value equality with floats has some issues.\n",
    "\n",
    "Chained comparisons\n",
    "\n",
    "* `a == b == c`: `a == b and b == c`\n",
    "* `a < b < c`: `a < b and b < c`\n",
    "* `a < b > c`: `a < b and b > c`\n",
    "* `a < b < c < d`: `a < b and b < c and c < d`\n",
    "* `'A' < 'a' > 'Z' in string.ascii_letters`: `'A' < 'a' and 'a' > 'Z' and 'Z' in string.ascii_letters`"
   ]
  },
  {
   "cell_type": "code",
   "execution_count": 36,
   "metadata": {},
   "outputs": [
    {
     "name": "stdout",
     "output_type": "stream",
     "text": [
      "1 == 1.0: True\n",
      "1.0 == Decimal(\"1.0\"): True\n",
      "1 == Fraction(3, 3): True\n",
      "0.1 == Decimal(\"0.1\"): False\n",
      "4 == 4 + 0j: True\n",
      "3 < 2 < 4 / 0: False\n"
     ]
    }
   ],
   "source": [
    "from fractions import Fraction\n",
    "from decimal import Decimal\n",
    "\n",
    "print('1 == 1.0:', 1 == 1.0)\n",
    "print('1.0 == Decimal(\"1.0\"):', 1.0 == Decimal(\"1.0\"))\n",
    "print('1 == Fraction(3, 3):', 1 == Fraction(3, 3))\n",
    "print('0.1 == Decimal(\"0.1\"):', 0.1 == Decimal(\"0.1\")) # floats representation issue\n",
    "print('4 == 4 + 0j:', 4 == 4 + 0j)\n",
    "print('3 < 2 < 4 / 0:', 3 < 2 < 4 / 0) # short-circuited"
   ]
  },
  {
   "cell_type": "markdown",
   "metadata": {},
   "source": [
    "## Function parameters"
   ]
  },
  {
   "cell_type": "markdown",
   "metadata": {},
   "source": [
    "### Arguments vs parameters\n",
    "\n",
    "* `def my_func(a, b)`\n",
    "  * in this context, `a` and `b` are called parameters of `my_func`\n",
    "  * `a` and `b` are variables, local to `my_func`\n",
    "* `my_func(x, y)`\n",
    "  * `x` and `y` are called the arguments of `my_func`\n",
    "  * `x` and `y` are passed by reference, i.e. the memory addresses of `x` and `y` are passed"
   ]
  },
  {
   "cell_type": "markdown",
   "metadata": {},
   "source": [
    "### Positional and keyword arguments\n",
    "\n",
    "* Positional arguments\n",
    "  * most common way of assigning arguments to parameters: via the order in which they are passed, i.e. their position\n",
    "  * a positional argument can be made *optional* by specifying a default value for the corresponding parameter\n",
    "  * if a positional parameter is defined with a default value, every positional parameter after it must also be given a default value\n",
    "* Keyword arguments (named arguments)\n",
    "  * positional arguments can, *optionally*, be specified by using the parameter name whether or not the parameters have default values\n",
    "  * the order of keyword arguments doesn't matter\n",
    "  * once you use a named argument, all arguments thereafter must be named too\n",
    "  * default arguments may still be omitted"
   ]
  },
  {
   "cell_type": "code",
   "execution_count": 37,
   "metadata": {},
   "outputs": [
    {
     "name": "stdout",
     "output_type": "stream",
     "text": [
      "a=1, b=2, c=3\n",
      "a=1, b=2, c=30\n",
      "a=10, b=20, c=30\n",
      "a=10, b=20, c=40\n"
     ]
    }
   ],
   "source": [
    "def my_func(a, b=20, c=30):\n",
    "    print(f'{a=}, {b=}, {c=}')\n",
    "\n",
    "my_func(1, 2, 3)\n",
    "my_func(1, 2)\n",
    "my_func(b=20, a=10)\n",
    "my_func(10, c=40)"
   ]
  },
  {
   "cell_type": "markdown",
   "metadata": {},
   "source": [
    "### Unpacking iterables\n",
    "\n",
    "A side note on tuples\n",
    "\n",
    "* What defines a tuple in Python is not `()` but `,`\n",
    "* The `()` are used to make the tuple clearer\n",
    "* To create a tuple with a single element:\n",
    "  * `(1)` will not work as intended -> `int`\n",
    "  * `1,` or `(1,)` -> `tuple`\n",
    "* The only exception is when creating an empty tuple: `()` or `tuple()`\n",
    "\n",
    "Packed values\n",
    "\n",
    "* Packed values refers to values that are bundled together in some way\n",
    "* Tuples and lists are obvious\n",
    "* A string is considered to be a packed value\n",
    "* Sets and dictionaries are also packed values\n",
    "* In fact, any `iterable` can be considered a packed value\n",
    "\n",
    "Unpacking packed values\n",
    "\n",
    "* Unpacking is the act of splitting packed values into individual variables contained in a list or tuple\n",
    "  * `a, b, c = [1, 2, 3]`\n",
    "  * 3 elements in `[1, 2, 3]` need 3 variables to unpack\n",
    "  * `a, b, c` is actually a tuple of 3 variables\n",
    "* The unpacking into individual variables is based on the relative positions of each element\n",
    "  * This is how positional arguments are assigned to parameters in functions\n",
    "\n",
    "Swapping values of two variables\n",
    "\n",
    "* No temporary variable involved\n",
    "* `a, b = b, a`\n",
    "* This works because in Python, the entire right hand side is evaluated first and completely, then assignments are made to the left hand side, i.e. `(a, b) = (b, a)`"
   ]
  },
  {
   "cell_type": "code",
   "execution_count": 38,
   "metadata": {},
   "outputs": [
    {
     "name": "stdout",
     "output_type": "stream",
     "text": [
      "<class 'tuple'>\n",
      "<class 'tuple'>\n",
      "<class 'int'>\n",
      "<class 'tuple'>\n",
      "<class 'tuple'>\n",
      "<class 'tuple'>\n",
      "a='s', b='t', c='r'\n"
     ]
    }
   ],
   "source": [
    "# parentheses are not necessary when defining a tuple, except for empty tuples\n",
    "a = (1, 2)\n",
    "print(type(a))\n",
    "a = 1, 2\n",
    "print(type(a))\n",
    "a = (1) # int\n",
    "print(type(a))\n",
    "a = (1,)\n",
    "print(type(a))\n",
    "a = 1,\n",
    "print(type(a))\n",
    "a = ()\n",
    "print(type(a))\n",
    "\n",
    "a, b, c = 'str'\n",
    "print(f'{a=}, {b=}, {c=}')"
   ]
  },
  {
   "cell_type": "markdown",
   "metadata": {},
   "source": [
    "Unpacking sets and dictionaries\n",
    "\n",
    "* When unpacking dictionaries, we are actually unpacking the keys.\n",
    "* Dictionaries and sets are unordered types. They can be iterated, but there is no guarantee the order of the results will match your expectation.\n",
    "* Starting from Python 3.7, dictionary order is guaranteed to be insertion order. Order is maintained while iterating through the dictionary and while converting a dictionary to some other data type.\n",
    "* Sets are like dictionaries, except they don't have values, only keys."
   ]
  },
  {
   "cell_type": "code",
   "execution_count": 39,
   "metadata": {},
   "outputs": [
    {
     "name": "stdout",
     "output_type": "stream",
     "text": [
      "hpoytn\n",
      "htnpoy\n",
      "python\n"
     ]
    }
   ],
   "source": [
    "s1 = set('python')\n",
    "s2 = {'p', 'y', 't', 'h', 'o', 'n'}\n",
    "d = {'p': 1, 'y': 2, 't': 3, 'h': 4, 'o': 5, 'n': 6}\n",
    "\n",
    "def print_els(container):\n",
    "    for c in container:\n",
    "        print(c, end='')\n",
    "    print()\n",
    "\n",
    "print_els(s1)\n",
    "print_els(s2)\n",
    "print_els(d)"
   ]
  },
  {
   "cell_type": "markdown",
   "metadata": {},
   "source": [
    "### Extended unpacking\n",
    "\n",
    "The use case for `*`\n",
    "\n",
    "* We don't always want to unpack every single item in an iterable. We may, for example, want to unpack the first value, and then unpack the remaining values into another variable.\n",
    "  * we can achieve this using slicing\n",
    "    * `a = my_list[0]`, `b = my_list[1:]`\n",
    "  * or, using simple unpacking\n",
    "    * `a, b = my_list[0], my_list[1:]`\n",
    "  * we can also use the `*` operator\n",
    "    * `a, *b = my_list`\n",
    "    * `b` will be of `list` type\n",
    "    * apart from cleaner syntax, `*` also works with any iterable, not just sequence types\n",
    "    * `*` still works with sets and dictionary keys, but unpacking this way may have no guarantee of preserving the order in which the elements were created or added\n",
    "    * the `*` operator can only be used once on the same level of unpacking in the left hand side of an unpacking assignment\n",
    "* The `*` operator can also be used to merge iterables into one in the right hand side of an expression.\n",
    "  * `my_list = = [*list1, *list2]`\n",
    "  * this is useful in a situation where you might want to create a single collection containing all the items of multiple sets, or all the keys of multiple dictionaries\n",
    "\n",
    "The `**` unpacking operator\n",
    "\n",
    "* The `**` operator is used for dictionary unpacking, also known as keyword argument unpacking.\n",
    "* It allows you to use a dictionary to supply keyword arguments when calling a function.\n",
    "* It can also be used to merge multiple dictionaries into one. If there are common keys, the newer value will overwrite the older one under the same key.\n",
    "* The `**` operator cannot be used in the left hand side of an assignment.\n",
    "\n",
    "Nested unpacking\n",
    "\n",
    "* Python supports nested unpacking as well.\n",
    "  * `a, b, (c, d) = [1, 2, [3, 4]]`\n",
    "  * `a, *b, (c, d, e) = [1, 2, 3, 'xyz']`"
   ]
  },
  {
   "cell_type": "code",
   "execution_count": 40,
   "metadata": {},
   "outputs": [
    {
     "name": "stdout",
     "output_type": "stream",
     "text": [
      "a=1, b=2, c=[3, (4, 5, 6)]\n",
      "a=1, b=[2, 3], c=4, d=5, e=6\n",
      "a=1, b=[2, 3], c=4, d=[5, 6]\n",
      "a='u', b=['v', 'w', 'x'], c='y', d='z'\n",
      "a=1, b=[2, 3]\n",
      "[1, 2, 3]\n",
      "[1, 2, 3, 4, 5, 6, 'a', 'b', 'c']\n",
      "['a', 'b', 'c', 'c', 'd']\n",
      "{'a': 1, 'b': 2, 'c': 3, 'd': 4}\n"
     ]
    }
   ],
   "source": [
    "my_list = [1, 2, 3, (4, 5, 6)]\n",
    "a, b, *c = my_list\n",
    "print(f'{a=}, {b=}, {c=}')\n",
    "a, *b, (c, d, e) = my_list # nested unpacking\n",
    "print(f'{a=}, {b=}, {c=}, {d=}, {e=}')\n",
    "a, *b, (c, *d) = my_list # multiple * operators on different levels of unpacking\n",
    "print(f'{a=}, {b=}, {c=}, {d=}')\n",
    "\n",
    "my_string = 'uvwxyz'\n",
    "a, *b, c, d = my_string\n",
    "print(f'{a=}, {b=}, {c=}, {d=}')\n",
    "\n",
    "my_set = {1, 2, 3}\n",
    "a, *b = my_set\n",
    "print(f'{a=}, {b=}')\n",
    "*l, = my_set # convert my_set to a list\n",
    "print(l)\n",
    "\n",
    "l1 = [1, 2, 3]\n",
    "l2 = [4, 5, 6]\n",
    "s = 'abc'\n",
    "l = [*l1, *l2, *s]\n",
    "print(l)\n",
    "\n",
    "d1 = {'a': 1, 'b': 2, 'c': 5}\n",
    "d2 = {'c': 3, 'd': 4}\n",
    "l = [*d1, *d2] # get all the keys of both dictionaries\n",
    "d = {**d1, **d2} # merge dictionaries into one\n",
    "print(l)\n",
    "print(d)"
   ]
  },
  {
   "cell_type": "markdown",
   "metadata": {},
   "source": [
    "### `*args`\n",
    "\n",
    "* `*args` allows a function to accept a variable number of non-keyword arguments.\n",
    "* Use it in a function definition to handle an arbitrary number of positional arguments.\n",
    "* It is customary (but not required) to name it `*args`.\n",
    "* `args` will end up a tuple, not a list, unlike what we have when doing iterable unpacking.\n",
    "* `*args` exhausts positional arguments. You cannot add more positional arguments after `*args`.\n",
    "\n",
    "Unpacking arguments: we can unpack or deconstruct a collection when pass the collection to af function, just like iterable unpacking."
   ]
  },
  {
   "cell_type": "code",
   "execution_count": 41,
   "metadata": {},
   "outputs": [
    {
     "name": "stdout",
     "output_type": "stream",
     "text": [
      "2.0\n",
      "a=1, b=(2, 3)\n"
     ]
    }
   ],
   "source": [
    "def average(number, *args):\n",
    "    return (number + sum(args)) / (len(args) + 1)\n",
    "\n",
    "def my_func(a, *b):\n",
    "    print(f'{a=}, {b=}')\n",
    "\n",
    "print(average(1, 2, 3))\n",
    "\n",
    "l = [1, 2, 3]\n",
    "my_func(*l)"
   ]
  },
  {
   "cell_type": "markdown",
   "metadata": {},
   "source": [
    "### Keyword arguments\n",
    "\n",
    "Mandatory keyword arguments\n",
    "\n",
    "* We can make keyword arguments mandatory.\n",
    "* To do so, we create parameters after the positional parameters have been exhausted.\n",
    "  * `def func(a, b, *args, d)`\n",
    "  * `args` effectively exhausted all positional arguments and `d` must be passed as a keyword argument\n",
    "* We can force no positional arguments at all\n",
    "  * `def func(*, d)`\n",
    "  * `*` indicates the end of positional arguments\n",
    "* `def func(a, b=1, *args, d, e=True)`\n",
    "  * `a`: mandatory positional argument, may be specified using a named argument\n",
    "  * `b`: optional positional argument, may be specified positionally, as a named argument, or not at all, defaults to `1`\n",
    "  * `args`: catch-all for any optional additional positional arguments\n",
    "  * `d`: mandatory keyword argument\n",
    "  * `e`: optional keyword argument, defaults to `True`\n",
    "* `def func(a, b=1, *, d, e=True)`\n",
    "  * `*`: no additional positional arguments allowed"
   ]
  },
  {
   "cell_type": "markdown",
   "metadata": {},
   "source": [
    "### `**kwargs`\n",
    "\n",
    "* `*args` is used to scoop up a variable amount of remaining positional arguments.\n",
    "  * The parameter name `args` is arbitrary.\n",
    "  * `*` is the real performer here.\n",
    "* `**kwargs` is used to scoop up a variable amount of remaining keyword arguments.\n",
    "  * The parameter name `kwargs` is arbitrary.\n",
    "  * `**` is the real performer here.\n",
    "* `**kwargs` can be specified even if the positional arguments have not been exhausted, unlike keyword-only arguments.\n",
    "* No parameter can come after `**kwargs`"
   ]
  },
  {
   "cell_type": "markdown",
   "metadata": {},
   "source": [
    "### Putting all types of parameters together\n",
    "\n",
    "* positional arguments\n",
    "  * may have default value\n",
    "  * non-defaulted parameters are mandatory args\n",
    "  * user may specify them using keywords\n",
    "  * `*args` collects and exhausts remaining positional arguments\n",
    "  * `*` indicates the end of positional arguments\n",
    "* keyword-only arguments\n",
    "  * after positional arguments have been exhausted, i.e. `*` or `*args` must be used\n",
    "  * may have default value\n",
    "  * non-defaulted parameters are mandatory args\n",
    "  * user must specify them using keywords\n",
    "  * `**kwargs` collects any remaining keyword arguments, does not require the use of `*` or `*args`\n",
    "\n",
    "Examples:\n",
    "\n",
    "* `def func(a, b=10)`\n",
    "* `def func(a, b, *args)`\n",
    "* `def func(a, b, *args, kw1, kw2=100)`\n",
    "* `def func(a, b=10, *args, kw1, kw2=100)`: the default value for `b` is not very useful, because if there are additional positional values, you can't assign them to `args` without overwriting the default value of `b`\n",
    "* `def func(a, b=10, *, kw1, kw2=100)`\n",
    "* `def func(a, b, *args, kw1, kw2=100, **kwargs)`\n",
    "* `def func(a, b=10, *, kw1, kw2=100, **kwargs)`\n",
    "* `def func(*args)`\n",
    "* `def func(**kwargs)`\n",
    "* `def func(*args, **kwargs)`: any named arguments passed to the `func` will be collected by `kwargs`\n",
    "\n",
    "Typical use case\n",
    "\n",
    "* Python's `print()` function\n",
    "  * `print(*objects, sep=' ', end='\\n', file=None, flush=False)`\n",
    "* Often, keyword-only arguments are used to modify the default behavior of a function such as the `print()` function we saw.\n",
    "* Other times, keyword-arguments might be used to make things clearer."
   ]
  },
  {
   "cell_type": "code",
   "execution_count": 42,
   "metadata": {},
   "outputs": [
    {
     "name": "stdout",
     "output_type": "stream",
     "text": [
      "(0, 0, 0.0)\n",
      "(5, 1, 3.0)\n",
      "hi=5, lo=1, avg=3.0\n",
      "(5, 1, 3.0)\n"
     ]
    }
   ],
   "source": [
    "def calc_hi_lo_avg(*args, log_to_console=False):\n",
    "    # hi = int(bool(args)) and max(args) # int(bool()) here can be changed to len(), because args will always be a tuple, not None\n",
    "    hi = len(args) and max(args)\n",
    "    lo = len(args) and min(args)\n",
    "    avg = (hi + lo) / 2\n",
    "    if log_to_console:\n",
    "        print(f'{hi=}, {lo=}, {avg=}')\n",
    "    return hi, lo, avg\n",
    "\n",
    "print(calc_hi_lo_avg())\n",
    "print(calc_hi_lo_avg(1, 2, 3, 4, 5))\n",
    "print(calc_hi_lo_avg(1, 2, 3, 4, 5, log_to_console=True))"
   ]
  },
  {
   "cell_type": "code",
   "execution_count": 43,
   "metadata": {},
   "outputs": [
    {
     "name": "stdout",
     "output_type": "stream",
     "text": [
      "time_it(compute_powers_1, 2, rep=5, end=20000)=0.5041729799937457\n",
      "time_it(compute_powers_2, 2, rep=5, end=20000)=0.4822292599943466\n",
      "time_it(compute_powers_3, 2, rep=5, end=20000)=2.0600040443241595e-06\n"
     ]
    }
   ],
   "source": [
    "import time\n",
    "\n",
    "def time_it(fn, *args, rep=1, **kwargs):\n",
    "    start = time.perf_counter()\n",
    "    for _ in range(rep):\n",
    "        fn(*args, **kwargs)\n",
    "    end = time.perf_counter()\n",
    "    return (end - start) / rep\n",
    "\n",
    "def compute_powers_1(n, *, start=1, end):\n",
    "    result = []\n",
    "    for i in range(start, end):\n",
    "        result.append(n ** i)\n",
    "    return result\n",
    "\n",
    "def compute_powers_2(n, *, start=1, end):\n",
    "    # using list comprehension\n",
    "    return [n ** i for i in range(start, end)]\n",
    "\n",
    "def compute_powers_3(n, *, start=1, end):\n",
    "    # using generator expression\n",
    "    return (n ** i for i in range(start, end))\n",
    "\n",
    "print(f'{time_it(compute_powers_1, 2, rep=5, end=20000)=}')\n",
    "print(f'{time_it(compute_powers_2, 2, rep=5, end=20000)=}')\n",
    "print(f'{time_it(compute_powers_3, 2, rep=5, end=20000)=}')"
   ]
  },
  {
   "cell_type": "markdown",
   "metadata": {},
   "source": [
    "### Default values\n",
    "\n",
    "What happens at run-time\n",
    "\n",
    "* When a module is loaded, all code is executed immediately\n",
    "  * `def func(a=10)`\n",
    "    * the function object is created, and `func` references it\n",
    "    * the integer object `10` is evaluated / created and is assigned as the default for `a`\n",
    "  * `func()`\n",
    "    * the function is executed\n",
    "    * by the time this happens, the default value for `a` has already been evaluated and assigned -- it is not re-evaluated when the function is called\n",
    "* In general, always beware of using a *mutable* object (or a *callable*) for an argument default."
   ]
  },
  {
   "cell_type": "code",
   "execution_count": 44,
   "metadata": {},
   "outputs": [
    {
     "name": "stdout",
     "output_type": "stream",
     "text": [
      "2024-01-15 20:54:24.428580+00:00: msg_1\n",
      "2024-01-15 20:54:24.428580+00:00: msg_2\n",
      "----------\n",
      "2024-01-15 20:54:24.429578+00:00: msg_1\n",
      "2024-01-15 20:54:24.429578+00:00: msg_2\n"
     ]
    }
   ],
   "source": [
    "import datetime\n",
    "\n",
    "# buggy default value for dt\n",
    "def log_1(msg, *, dt=datetime.datetime.now(datetime.UTC)):\n",
    "    print(f'{dt}: {msg}')\n",
    "\n",
    "def log_2(msg, *, dt=None):\n",
    "    dt = dt or datetime.datetime.now(datetime.UTC)\n",
    "    print(f'{dt}: {msg}')\n",
    "\n",
    "log_1('msg_1')\n",
    "log_1('msg_2')\n",
    "print('-'*10)\n",
    "log_2('msg_1')\n",
    "log_2('msg_2')"
   ]
  },
  {
   "cell_type": "code",
   "execution_count": 45,
   "metadata": {},
   "outputs": [
    {
     "name": "stdout",
     "output_type": "stream",
     "text": [
      "[1, 2]\n",
      "[1, 2, 3]\n"
     ]
    }
   ],
   "source": [
    "my_list = [1, 2]\n",
    "def func(a=my_list):\n",
    "    print(a)\n",
    "\n",
    "func()\n",
    "my_list.append(3)\n",
    "func() # the default value of a was changed unexpectedly"
   ]
  },
  {
   "cell_type": "code",
   "execution_count": 46,
   "metadata": {},
   "outputs": [
    {
     "name": "stdout",
     "output_type": "stream",
     "text": [
      "['apple: 2 kilo', 'milk: 1 liter']\n",
      "['apple: 2 kilo', 'milk: 1 liter', 'chicken: 2 kilo', 'eggs: 2 dozen']\n",
      "shopping_list_1 is shopping_list_2: True\n"
     ]
    }
   ],
   "source": [
    "# another example of buggy default value\n",
    "def add_to_list(name, quantity=1, unit='unit', lst=[]):\n",
    "    lst.append(f'{name}: {quantity} {unit}')\n",
    "    return lst\n",
    "\n",
    "shopping_list_1 = add_to_list('apple', 2, 'kilo')\n",
    "add_to_list('milk', 1, 'liter', shopping_list_1)\n",
    "print(shopping_list_1)\n",
    "\n",
    "shopping_list_2 = add_to_list('chicken', 2, 'kilo')\n",
    "add_to_list('eggs', 2, 'dozen', shopping_list_2)\n",
    "print(shopping_list_2)\n",
    "\n",
    "# because the default value for lst has already been evaluated to the same address for the list when the function is defined\n",
    "print('shopping_list_1 is shopping_list_2:', shopping_list_1 is shopping_list_2)"
   ]
  },
  {
   "cell_type": "code",
   "execution_count": 47,
   "metadata": {},
   "outputs": [
    {
     "name": "stdout",
     "output_type": "stream",
     "text": [
      "calculating 3!\n",
      "calculating 2!\n",
      "calculating 1!\n",
      "6\n",
      "calculating 3!\n",
      "calculating 2!\n",
      "calculating 1!\n",
      "6\n"
     ]
    }
   ],
   "source": [
    "def factorial(n: int):\n",
    "    if n < 1:\n",
    "        return 1\n",
    "    else:\n",
    "        print(f'calculating {n}!')\n",
    "        return n * factorial(n - 1)\n",
    "    \n",
    "print(factorial(3))\n",
    "print(factorial(3))"
   ]
  },
  {
   "cell_type": "code",
   "execution_count": 48,
   "metadata": {},
   "outputs": [
    {
     "name": "stdout",
     "output_type": "stream",
     "text": [
      "calculating 3!\n",
      "calculating 2!\n",
      "calculating 1!\n",
      "6\n",
      "6\n",
      "2\n",
      "calculating 4!\n",
      "24\n"
     ]
    }
   ],
   "source": [
    "# cached version\n",
    "# the same default dictionary will be used by the function\n",
    "def factorial_cached(n, cache={}):\n",
    "    if n < 1:\n",
    "        return 1\n",
    "    elif n in cache:\n",
    "        return cache[n]\n",
    "    else:\n",
    "        print(f'calculating {n}!')\n",
    "        result = n * factorial_cached(n - 1)\n",
    "        cache[n] = result\n",
    "        return result\n",
    "    \n",
    "print(factorial_cached(3))\n",
    "print(factorial_cached(3)) # with cache no need to calculate the same number\n",
    "print(factorial_cached(2))\n",
    "print(factorial_cached(4))"
   ]
  },
  {
   "cell_type": "markdown",
   "metadata": {},
   "source": [
    "## First-class functions"
   ]
  },
  {
   "cell_type": "markdown",
   "metadata": {},
   "source": [
    "First-class objects\n",
    "\n",
    "* can be passed to a function as an argument\n",
    "* can be returned from a function\n",
    "* can be assigned to a variable\n",
    "* can be stored in a data structure, such as list, tuple, dictionary, etc\n",
    "\n",
    "Functions are also first-class objects.\n",
    "\n",
    "Higher-order functions are functions that:\n",
    "\n",
    "* take a function as an argument\n",
    "* and / or return a function"
   ]
  },
  {
   "cell_type": "markdown",
   "metadata": {},
   "source": [
    "### Docstrings and annotations\n",
    "\n",
    "Docstrings\n",
    "\n",
    "* We can document our functions (and modules, classes, etc) using docstrings\n",
    "* If the first line of code in the function body is a string (not an assignment, just a string by itself), it will be interpreted as a docstring.\n",
    "* Multiline docstrings are achieved using multiline strings with triple delimiters.\n",
    "* The docstrings are stored in the function's `__doc__` property.\n",
    "\n",
    "Function Annotations\n",
    "\n",
    "* Function annotations give us an additional way to document our functions.\n",
    "  * `def my_func(a: <expression>, b: <expression>) -> <expression>:`\n",
    "  * `def my_func(a: str = 'xyz', *args: 'additional params', b: int = 1, **kwargs: 'additional keyword only params') -> str:`\n",
    "* Annotations can be any expression.\n",
    "* Annotations are stored in the `__annotations__` property of the function.\n",
    "  * the property is a dictionary\n",
    "  * keys are the parameter names\n",
    "  * for a return annotation, the key is `'return'`\n",
    "  * values are the annotations\n",
    "\n",
    "Docstrings and annotations are mainly used by external tools and modules.\n",
    "\n",
    "Docstrings and annotations are entirely optional, and do not force anything in our Python code."
   ]
  },
  {
   "cell_type": "code",
   "execution_count": 49,
   "metadata": {},
   "outputs": [
    {
     "name": "stdout",
     "output_type": "stream",
     "text": [
      "Help on function my_func in module __main__:\n",
      "\n",
      "my_func(a: 'annotation for a', b: 'annotation for b' = 1) -> 'something annotation for return'\n",
      "    documentation for my function\n",
      "\n",
      "documentation for my function\n",
      "{'a': 'annotation for a', 'b': 'annotation for b', 'return': 'something annotation for return'}\n"
     ]
    }
   ],
   "source": [
    "def my_func(a: 'annotation for a',\n",
    "            b: 'annotation for b' = 1) -> 'something annotation for return':\n",
    "    \"\"\"documentation for my function\"\"\"\n",
    "    return a * b\n",
    "\n",
    "help(my_func)\n",
    "print(my_func.__doc__)\n",
    "print(my_func.__annotations__)"
   ]
  },
  {
   "cell_type": "code",
   "execution_count": 50,
   "metadata": {},
   "outputs": [
    {
     "name": "stdout",
     "output_type": "stream",
     "text": [
      "{'a': <class 'str'>, 'b': 'int > 0', 'args': 'additional args', 'k1': 'keyword-only arg 1', 'k2': 'keyword-only arg 2', 'kwargs': 'additional keyword-only args', 'return': 'return something'}\n",
      "hello 1 (2, 3) world 100 {'k3': 'times'}\n"
     ]
    }
   ],
   "source": [
    "def my_func(a: str,\n",
    "            b: 'int > 0' = 1,\n",
    "            *args: 'additional args',\n",
    "            k1: 'keyword-only arg 1',\n",
    "            k2: 'keyword-only arg 2' = 100,\n",
    "            **kwargs: 'additional keyword-only args') -> 'return something':\n",
    "    print(a, b, args, k1, k2, kwargs)\n",
    "\n",
    "print(my_func.__annotations__)\n",
    "my_func('hello', 1, 2, 3, k1='world', k3='times')"
   ]
  },
  {
   "cell_type": "markdown",
   "metadata": {},
   "source": [
    "### Lambda expressions\n",
    "\n",
    "Lambda expressions are simply another way to create  functions (anonymous functions).\n",
    "\n",
    "* `lambda [parameter list]: expression`\n",
    "  * `lambda`: keyword\n",
    "  * `[parameter list]`: optional\n",
    "  * `:`: required\n",
    "  * `expression`: evaluated and returned when the lambda function is called\n",
    "* The whole lambda expression returns a function object that evaluates and returns the `expression` when it is called\n",
    "* It can be assigned to a variable.\n",
    "* It can be passed as an argument to another function.\n",
    "* It is a function, just like one created with `def` but without a name.\n",
    "\n",
    "Limitations of lambda expressions\n",
    "\n",
    "* The body of a lambda is limited to a single expression.\n",
    "* No assignments.\n",
    "* No annotations, but default values still work.\n",
    "* Single logical line of code. Although line-continuation still works, but, in general, you shouldn't have to split your lambda over multiple lines, because lambdas are meant to be simple functions."
   ]
  },
  {
   "cell_type": "code",
   "execution_count": 51,
   "metadata": {},
   "outputs": [
    {
     "data": {
      "text/plain": [
       "('x', 'y', (1, 2, 3), 'z', {'kw1': '1', 'kw2': '2'})"
      ]
     },
     "execution_count": 51,
     "metadata": {},
     "output_type": "execute_result"
    }
   ],
   "source": [
    "f = lambda x, y, *args, z='z', **kwargs: (x, y, args, z, kwargs) # the () of return expression is required here\n",
    "f('x', 'y', 1, 2, 3, kw1='1', kw2='2')"
   ]
  },
  {
   "cell_type": "code",
   "execution_count": 52,
   "metadata": {},
   "outputs": [
    {
     "name": "stdout",
     "output_type": "stream",
     "text": [
      "4\n",
      "27\n"
     ]
    }
   ],
   "source": [
    "def apply_func(x, func):\n",
    "    return func(x)\n",
    "\n",
    "print(apply_func(2, lambda x: x ** 2))\n",
    "print(apply_func(3, lambda x: x ** 3))"
   ]
  },
  {
   "cell_type": "code",
   "execution_count": 53,
   "metadata": {},
   "outputs": [
    {
     "name": "stdout",
     "output_type": "stream",
     "text": [
      "3\n",
      "3\n",
      "15\n"
     ]
    }
   ],
   "source": [
    "def apply_func(func, *args, **kwargs):\n",
    "    return func(*args, **kwargs)\n",
    "\n",
    "print(apply_func(lambda x, y: x + y, 1, 2))\n",
    "print(apply_func(lambda x, *, y: x + y, 1, y=2))\n",
    "print(apply_func(lambda *args: sum(args), 1, 2, 3, 4, 5))"
   ]
  },
  {
   "cell_type": "markdown",
   "metadata": {},
   "source": [
    "### Lambda and sorting\n",
    "\n",
    "There is a `sorted()` built-in function that builds a new sorted list from an iterable.\n",
    "\n",
    "* `sorted(iterable, /, *, key=None, reverse=False)`\n",
    "  * In Python function signatures, the `/` is used to indicate that all the parameters to the left of it must be specified positionally (i.e. without using keyword arguments). This syntax is known as \"positional-only\" arguments.\n",
    "  * `key` specifies a function of one argument that is used to extract a comparison key from each element in iterable (for example, `key=str.lower`). The default value is `None` (compare the elements directly).\n",
    "  * The built-in `sorted()` function is guaranteed to be *stable*. A sort is stable if it guarantees not to change the relative order of elements that compare equal — this is helpful for sorting in multiple passes (for example, sort by department, then by salary grade).\n",
    "  * The sort algorithm uses only `<` comparisons between items. While defining an `__lt__()` method will suffice for sorting, PEP 8 recommends that *all six rich comparisons* be implemented. This will help avoid bugs when using the same data with other ordering tools such as `max()` that rely on a different underlying method. Implementing all six comparisons also helps avoid confusion for mixed type comparisons which can call reflected the `__gt__()` method."
   ]
  },
  {
   "cell_type": "code",
   "execution_count": 54,
   "metadata": {},
   "outputs": [
    {
     "name": "stdout",
     "output_type": "stream",
     "text": [
      "[0, (1-1j), (-1-4j), (3+3j), (6+2j)]\n",
      "['Chaplin', 'John', 'Helen', 'Max', 'Tony']\n"
     ]
    }
   ],
   "source": [
    "complex_list = [3 + 3j, 1 - 1j, 6 + 2j, 0, -1 -4j]\n",
    "# sort complex_list according to the square of the absolute value of a complex number\n",
    "print(sorted(complex_list, key=lambda c: c.real ** 2 + c.imag ** 2))\n",
    "\n",
    "name_list = ['Tony', 'Chaplin', 'John', 'Helen', 'Max']\n",
    "# sort name_list according to the last letter of a name\n",
    "# stable sort, i.e. the relative order of elements that compare equal will be remained\n",
    "print(sorted(name_list, key=lambda n: n[-1]))"
   ]
  },
  {
   "cell_type": "code",
   "execution_count": 55,
   "metadata": {},
   "outputs": [
    {
     "name": "stdout",
     "output_type": "stream",
     "text": [
      "[5, 7, 8, 6, 4, 1, 10, 3, 9, 2]\n",
      "[2, 9, 7, 8, 3, 1, 4, 5, 6, 10]\n",
      "[2, 8, 5, 3, 9, 10, 4, 1, 6, 7]\n"
     ]
    }
   ],
   "source": [
    "# randomize an iterable using sorted\n",
    "\n",
    "import random\n",
    "\n",
    "l = [1, 2, 3, 4, 5, 6, 7, 8, 9, 10]\n",
    "\n",
    "print(sorted(l, key=lambda e: random.random()))\n",
    "print(sorted(l, key=lambda e: random.random()))\n",
    "print(sorted(l, key=lambda e: random.random()))"
   ]
  },
  {
   "cell_type": "markdown",
   "metadata": {},
   "source": [
    "### Function introspection\n",
    "\n",
    "Functions are first-class objects.\n",
    "\n",
    "* They have attributes.\n",
    "* We can attach our own attributes.\n",
    "* `dir()` is a built-in function that, given an object as an argument, will return a list of valid *attributes* for that object.\n",
    "\n",
    "Function attributes\n",
    "\n",
    "* `__name__`: name of function\n",
    "* `__defaults__`: tuple containing positional parameter defaults\n",
    "* `__kwdefaults__`: dictionary containing keyword-only parameter defaults\n",
    "* `__code__`: code object representing the byte-compiled executable Python code, or bytecode. it has the following special read-only attributes:\n",
    "  * `co_name`: function name\n",
    "  * `co_argcount`: total number of positional parameters (including positional-only parameters and parameters with default values) that the function has\n",
    "  * `co_varnames`: a tuple containing the names of the local variables in the function (starting with the parameter names)\n",
    "  * etc...\n",
    "\n",
    "The `inspect` module\n",
    "\n",
    "* The `inspect` module provides several useful functions to help get information about live objects such as modules, classes, methods, functions, tracebacks, frame objects, and code objects.\n",
    "* There are four main kinds of services provided by this module: type checking, getting source code, inspecting classes and functions, and examining the interpreter stack.\n",
    "  * `ismodule(obj)`\n",
    "  * `isclass(obj)`\n",
    "  * `ismethod(obj)`: return `True` if the object is a bound method written in Python.\n",
    "  * `isfunction(obj)`: return `True` if the object is a Python function, which includes functions created by a lambda expression.\n",
    "  * `isroutine(obj)`: return `True` if the object is a user-defined or built-in function or method.\n",
    "  * `getsource(obj)`: return the text of the source code for an object. The argument may be a module, class, method, function, traceback, frame, or code object. The source code is returned as a single string. An `OSError` is raised if the source code cannot be retrieved. A `TypeError` is raised if the object is a built-in module, class, or function.\n",
    "  * `getmodule(obj)`: try to guess which module an object was defined in. Return `None` if the module cannot be determined.\n",
    "  * `getcomments(obj)`: return in a single string any lines of comments immediately preceding the object’s source code (for a class, function, or method), or at the top of the Python source file (if the object is a module). If the object’s source code is unavailable, return `None`.\n",
    "  * `signature(callable)`: return a `Signature` object for the given callable\n",
    "* The difference between a function and a method\n",
    "  * Function: an independent block of code that can be called from anywhere.\n",
    "  * Method: similar to a function, but is tied to objects or classes and needs an object or class instance to be invoked."
   ]
  },
  {
   "cell_type": "markdown",
   "metadata": {},
   "source": [
    "### Callables\n",
    "\n",
    "* A callable is any object that can be invoked using parentheses, with or without arguments.\n",
    "* A callable is a function-like object, behaving like a function.\n",
    "* To verify if an object is callable, we can use the built-in function `callable()`.\n",
    "  * Return `True` if the object argument appears callable, `False` if not. \n",
    "  * If this returns `True`, it is still possible that a call fails, but if it is `False`, calling object will never succeed. \n",
    "  * Note that classes are callable (calling a class returns a new instance); instances are callable if their class has a `__call__()` method.\n",
    "\n",
    "Different types of callables\n",
    "\n",
    "* Built-in functions\n",
    "* Built-in methods\n",
    "* user-defined functions: created using `def` or `lambda` expressions\n",
    "* methods: functions bound to an object\n",
    "* classes: calling a class returns a new instance\n",
    "  * `MyClass(x, y, z)`\n",
    "  * -> `__new__(x, y, z)`: creates the new object\n",
    "  * -> `__init__(self, x, y, z)`: initiate the new object, the new object created before is passed into `self` here\n",
    "  * -> return the object (reference)\n",
    "* class instances: if the class implements `__call__` method\n",
    "* others\n",
    "  * generators\n",
    "  * coroutines\n",
    "  * asynchronous generators"
   ]
  },
  {
   "cell_type": "code",
   "execution_count": 56,
   "metadata": {},
   "outputs": [
    {
     "name": "stdout",
     "output_type": "stream",
     "text": [
      "True\n",
      "\n",
      "None\n",
      "True\n",
      "classes are callable\n",
      "instances can be callable too\n",
      "True\n"
     ]
    }
   ],
   "source": [
    "from decimal import Decimal\n",
    "\n",
    "print(callable(print))\n",
    "print(print()) # if something is callable, it always has a return value\n",
    "print(callable(Decimal)) # classes are also callable\n",
    "\n",
    "class MyClass:\n",
    "    def __init__(self):\n",
    "        print('classes are callable')\n",
    "    \n",
    "    def __call__(self):\n",
    "        print('instances can be callable too')\n",
    "\n",
    "my_class = MyClass()\n",
    "my_class() # instances can be callable\n",
    "print(callable(my_class))"
   ]
  },
  {
   "cell_type": "markdown",
   "metadata": {},
   "source": [
    "### Higher order functions\n",
    "\n",
    "* A function that takes a function as a parameter and/or returns a function as its return value.\n",
    "* Higher order functions allow you to write more concise, flexible, and abstract code.\n",
    "* Higher order functions are often used to create new functions from existing functions, abstract common patterns in code, and write more modular and reusable code.\n",
    "* The `functools` module in Python provides support for higher order functions.\n",
    "* Functions like `map()`, `filter()`, and `reduce()` are common higher order functions.\n",
    "\n",
    "The `map` function\n",
    "\n",
    "* `map(function, iterable, *iterables)`\n",
    "* Return an *iterator* that applies function to every item of iterable, *yielding* the results.\n",
    "* If additional iterables arguments are passed, `function` must take that many arguments and is applied to the items from all iterables in parallel.\n",
    "* With multiple iterables, the iterator stops when the shortest iterable is exhausted.\n",
    "\n",
    "The `filter` function\n",
    "\n",
    "* `filter(function, iterable)`\n",
    "* Construct an *iterator* from those elements of `iterable` for which `function` is true.\n",
    "* `iterable` may be either a sequence, a container which supports iteration, or an iterator.\n",
    "* If `function` is `None`, the identity function is assumed, that is, all elements of `iterable` that are false are removed.\n",
    "* Note that `filter(function, iterable)` is equivalent to the generator expression `(item for item in iterable if function(item))` if function is not `None` and `(item for item in iterable if item)` if function is `None`.\n",
    "\n",
    "The `zip` function (not a higher order function)\n",
    "\n",
    "* `zip(*iterables, strict=False)`\n",
    "* Iterate over several iterables in parallel, producing tuples with an item from each one.\n",
    "* `zip()` returns an *iterator* of tuples, where the i-th tuple contains the i-th element from each of the argument iterables.\n",
    "* Another way to think of `zip()` is that it turns rows into columns, and columns into rows. This is similar to transposing a matrix.\n",
    "* `zip()` could have different lengths.\n",
    "  * By default, `zip()` stops when the shortest iterable is exhausted.\n",
    "  * With the `strict=True` option, it raises a `ValueError` if one iterable is exhausted before the others.\n",
    "  * Shorter iterables can be padded with a constant value to make all the iterables have the same length. This is done by `itertools.zip_longest()`.\n",
    "\n",
    "List comprehension\n",
    "\n",
    "* List comprehensions provide a concise way to create lists.\n",
    "* Common applications are to make new lists where each element is the result of some operations applied to each member of another sequence or iterable, or to create a subsequence of those elements that satisfy a certain condition.\n",
    "* A list comprehension consists of brackets containing an expression followed by a `for` clause, then zero or more `for` or `if` clauses. If the expression is a tuple, it must be parenthesized.\n",
    "  * `[(x, y) for x in [1,2,3] for y in [3,1,4] if x != y]`\n",
    "  * `[x + y for x, y in zip([1,2,3], [3,1,4])]`\n",
    "* The initial expression in a list comprehension can be any arbitrary expression, including another list comprehension.\n",
    "\n",
    "List comprehension alternative to `map`\n",
    "\n",
    "* `list(map(lambda x: x ** 2, range(5)))`\n",
    "* `[x ** 2 for x in range(5)]`\n",
    "\n",
    "List comprehension alternative to `filer`\n",
    "\n",
    "* `list(filter(lambda x: x % 2 == 0, range(10)))`\n",
    "* `[x for x in range(10) if x % 2 == 0]`\n",
    "\n",
    "Combining `map` and `filter`\n",
    "\n",
    "* `list(filter(lambda y: y < 25, map(lambda x: x ** 2, range(10))))`\n",
    "* `[y for y in [x ** 2 for x in range(10)] if y < 25]`\n",
    "* `[x ** 2 for x in range(10) if x ** 2 < 25]`"
   ]
  },
  {
   "cell_type": "code",
   "execution_count": 57,
   "metadata": {},
   "outputs": [
    {
     "name": "stdout",
     "output_type": "stream",
     "text": [
      "<map object at 0x000002185DB400D0>\n",
      "[8, 10, 12]\n",
      "<filter object at 0x000002185DAE7C70>\n",
      "<filter object at 0x000002185DAE6560>\n",
      "[1, 2, 3, 4, 5, 6, 7, 8, 9]\n",
      "[0, 2, 4, 6, 8]\n"
     ]
    }
   ],
   "source": [
    "l1 = [1, 2, 3, 4, 5]\n",
    "l2 = [7, 8, 9]\n",
    "l3 = map(lambda x, y: x + y, l1, l2)\n",
    "print(l3)\n",
    "print(list(l3))\n",
    "\n",
    "l4 = [0, 1, 2, 3, 4, 5, 6, 7, 8, 9]\n",
    "l5 = filter(None, l4)\n",
    "l6 = filter(lambda x: x % 2 == 0, l4)\n",
    "print(l5)\n",
    "print(l6)\n",
    "print(list(l5))\n",
    "print(list(l6))"
   ]
  },
  {
   "cell_type": "code",
   "execution_count": 58,
   "metadata": {},
   "outputs": [
    {
     "name": "stdout",
     "output_type": "stream",
     "text": [
      "1\n",
      "1\n",
      "2\n",
      "6\n",
      "24\n",
      "[]\n"
     ]
    }
   ],
   "source": [
    "def factorial(n):\n",
    "    return 1 if n < 2 else n * factorial(n - 1)\n",
    "\n",
    "result = map(factorial, range(5))\n",
    "\n",
    "for i in result:\n",
    "    print(i)\n",
    "\n",
    "# won't print anything\n",
    "# generators can only be iterated over once\n",
    "# attempting to iterate over an exhausted generator will not produce any output\n",
    "for i in result:\n",
    "    print(i)\n",
    "\n",
    "print(list(result)) # empty list too"
   ]
  },
  {
   "cell_type": "markdown",
   "metadata": {},
   "source": [
    "### Reducing functions in Python\n",
    "\n",
    "* These are functions that recombine an iterable cumulatively, ending up with a single return value.\n",
    "* Also called accumulators, aggregators, or folding functions.\n",
    "* `functools.reduce(function, iterable[, initializer])`\n",
    "  * Apply `function` of two arguments cumulatively to the items of `iterable`, from left to right, so as to reduce the iterable to a single value.\n",
    "  * For example, `reduce(lambda x, y: x+y, [1, 2, 3, 4, 5])` calculates `((((1+2)+3)+4)+5)`. The left argument, `x`, is the accumulated value and the right argument, `y`, is the update value from the iterable. If the optional `initializer` is present, it is placed before the items of the iterable in the calculation, and serves as a default when the `iterable` is empty. If initializer is not given and `iterable` contains only one item, the first item is returned.\n",
    "* Built-in reducing functions\n",
    "  * `min`\n",
    "    * `min(iterable, *, key=None)`\n",
    "    * `min(iterable, *, default, key=None)`\n",
    "    * `min(arg1, arg2, *args, key=None)`\n",
    "  * `max`\n",
    "  * `sum(iterable, /, start=0)`\n",
    "    * Sums `start` and the items of an iterable from left to right and returns the total. The iterable’s items are normally numbers, and the start value is *not* allowed to be a string.\n",
    "    * The preferred, fast way to concatenate a sequence of strings is by calling `''.join(sequence)`. To add floating point values with extended precision, see `math.fsum()`. To concatenate a series of iterables, consider using `itertools.chain()`.\n",
    "  * `any(iterable)`\n",
    "    * Return `True` if any element of the iterable is true. If the iterable is empty, return `False`.\n",
    "  * `all(iterable)`\n",
    "    * Return `True` if all elements of the iterable are true (or if the iterable is empty)."
   ]
  },
  {
   "cell_type": "code",
   "execution_count": 59,
   "metadata": {},
   "outputs": [
    {
     "name": "stdout",
     "output_type": "stream",
     "text": [
      "45\n",
      "9\n"
     ]
    }
   ],
   "source": [
    "def reduce_sequence(func, sequence):\n",
    "    result = sequence[0]\n",
    "    for e in sequence[1:]:\n",
    "        result = func(result, e)\n",
    "    return result\n",
    "\n",
    "print(reduce_sequence(lambda x, y: x + y, range(10))) # range is actually an immutable sequence type\n",
    "print(reduce_sequence(lambda x, y: x if x > y else y, range(10)))"
   ]
  },
  {
   "cell_type": "code",
   "execution_count": 60,
   "metadata": {},
   "outputs": [
    {
     "name": "stdout",
     "output_type": "stream",
     "text": [
      "Python is super awesome\n",
      "True\n",
      "False\n",
      "False\n",
      "True\n",
      "1\n",
      "6\n",
      "3628800\n"
     ]
    }
   ],
   "source": [
    "from functools import reduce\n",
    "\n",
    "print(reduce(lambda x, y: x + ' ' + y, ('Python', 'is', 'super', 'awesome')))\n",
    "\n",
    "# using reduce to reproduce any()\n",
    "print(reduce(lambda x, y: bool(x or y), (0, '', 1, 0.0, 'and', False)))\n",
    "print(reduce(lambda x, y: bool(x or y), (0, '', None, 0.0, [], (), {}, False)))\n",
    "\n",
    "# using reduce to reproduce all()\n",
    "print(reduce(lambda x, y: bool(x and y), (0, '', 1, 0.0, 'and', False)))\n",
    "print(reduce(lambda x, y: bool(x and y), (1, 'a', 0.1, [1], True)))\n",
    "\n",
    "# using reduce to calculate factorial\n",
    "def factorial(n):\n",
    "    return reduce(lambda x, y: x * y, range(1, n + 1), 1)\n",
    "\n",
    "print(factorial(1))\n",
    "print(factorial(3))\n",
    "print(factorial(10))"
   ]
  },
  {
   "cell_type": "markdown",
   "metadata": {},
   "source": [
    "### Partial functions\n",
    "\n",
    "* Partial functions in Python is a function that is created by fixing a certain number of arguments of another function.\n",
    "* Partial functions allow us to freeze some portion of a function's arguments and generate a new function.\n",
    "* The built-in module `functools` includes a function `partial` that can be used to create partial functions.\n",
    "  * `functools.partial(func, /, *args, **keywords)`\n",
    "  * Return a new partial object which when called will behave like `func` called with the positional arguments `args` and keyword arguments `keywords`. If more arguments are supplied to the call, they are appended to args."
   ]
  },
  {
   "cell_type": "code",
   "execution_count": 61,
   "metadata": {},
   "outputs": [
    {
     "name": "stdout",
     "output_type": "stream",
     "text": [
      "int_base_2('1010')=10\n",
      "square(10)=100\n",
      "1000\n",
      "modular_multiplicative_inverse(38, mod=97)=23\n"
     ]
    }
   ],
   "source": [
    "# similar to functools.partial()\n",
    "def partial_func(func, /, *args, **kwargs):\n",
    "    def new_func(*new_args, **new_kwargs):\n",
    "        new_kwargs = {**kwargs, **new_kwargs}\n",
    "        return func(*args, *new_args, **new_kwargs)\n",
    "    return new_func\n",
    "\n",
    "int_base_2 = partial_func(int, base=2)\n",
    "print(f'{int_base_2('1010')=}')\n",
    "\n",
    "square = partial_func(pow, exp=2)\n",
    "print(f'{square(10)=}')\n",
    "print(f'{square(10, exp=3)}') # you can still overwrite the value of exp predefined in the partial function\n",
    "\n",
    "modular_multiplicative_inverse = partial_func(pow, exp=-1)\n",
    "print(f'{modular_multiplicative_inverse(38, mod=97)=}') # here mod must be keyword argument"
   ]
  },
  {
   "cell_type": "code",
   "execution_count": 62,
   "metadata": {},
   "outputs": [
    {
     "name": "stdout",
     "output_type": "stream",
     "text": [
      "10\n",
      "a b ('args1', 'args2') k1 k2 {'k3': 'k3', 'k4': 'k4'}\n",
      "[0, (1+2j), (3-4j), (4+5j), (7-8j)]\n",
      "[(0, 0), (-3, -2), (0, 5), (3, 4), (-5, 1)]\n"
     ]
    }
   ],
   "source": [
    "from functools import partial\n",
    "\n",
    "int_base_2 = partial(int, base=2)\n",
    "print(int_base_2('1010'))\n",
    "\n",
    "def my_func(a, b, *args, k1, k2, **kwargs):\n",
    "    print(a, b, args, k1, k2, kwargs)\n",
    "\n",
    "# if want to freeze a and k1 of my_func\n",
    "my_func_partial = partial(my_func, 'a', k1='k1')\n",
    "my_func_partial('b', 'args1', 'args2', k2='k2', k3='k3', k4='k4')\n",
    "\n",
    "# sort list of complex numbers according to their absolute value\n",
    "sorted_by_abs = partial(sorted, key=lambda x: abs(x))\n",
    "complexes = [1 + 2j, 3 - 4j, 0, 7 - 8j, 4 + 5j]\n",
    "print(sorted_by_abs(complexes))\n",
    "\n",
    "# sort list of points according to their distance to a certain point\n",
    "origin = (0, 0)\n",
    "points = [(0, 5), (0, 0), (3, 4), (-5, 1), (-3, -2)]\n",
    "distance_square = lambda a, b: (a[0] - b[0]) ** 2 + (a[1] - b[1]) ** 2\n",
    "points_sorted = sorted(points, key=partial(distance_square, origin))\n",
    "print(points_sorted)"
   ]
  },
  {
   "cell_type": "markdown",
   "metadata": {},
   "source": [
    "### The `operator` module\n",
    "\n",
    "* The `operator` module exports a set of efficient functions corresponding to the intrinsic operators of Python. For example, `operator.add(x, y)` is equivalent to the expression `x+y`.\n",
    "* These functions are handy in cases where callables must be stored, passed as arguments, or returned as function results.\n",
    "* Many function names are those used for special methods, without the double underscores. For backward compatibility, many of these have a variant with the double underscores kept. The variants without the double underscores are preferred for clarity.\n",
    "* The functions fall into categories that perform object comparisons, logical operations, mathematical operations and sequence operations.\n",
    "  * Object comparison functions are useful for all objects, can return any value, which may or may not be interpreted as a Boolean value\n",
    "    * `lt(a, b)`, `__lt__(a, b)`: equivalent to `a < b`\n",
    "    * `le(a, b)`, `__le__(a, b)`: equivalent to `a <= b`\n",
    "    * `eq(a, b)`, `__eq__(a, b)`: equivalent to `a == b`\n",
    "    * `ne(a, b)`, `__ne__(a, b)`: equivalent to `a != b`\n",
    "    * `ge(a, b)`, `__ge__(a, b)`: equivalent to `a >= b`\n",
    "    * `gt(a, b)`, `__gt__(a, b)`: equivalent to `a > b`\n",
    "  * Logical operations are generally applicable to all objects, and support truth tests, identity tests, and boolean operations\n",
    "    * `not_(obj)`, `__not__(obj)`: return the out come of `not obj`, there's no `__not__(obj)` method for object instances, only the interpreter core defines this operation, the result is affected by the `__bool__()` and `__len__()` methods\n",
    "    * `truth(obj)`: equivalent to using the `bool` constructor\n",
    "    * `is_(a, b)`: return `a is b`\n",
    "    * `is_not(a, b)`: return `a is not b`\n",
    "  * Mathematical and bitwise operations are the most numerous\n",
    "    * `abs(obj)`, `__abs__(obj)`: return the absolute value of `obj`\n",
    "    * `add(a, b)`, `__add__(a, b)`: return `a + b`, for `a` and `b` numbers\n",
    "    * `and_(a, b)`, `__and__(a, b)`: return the bitwise and of `a` and `b`\n",
    "    * `floordiv(a, b)`, `__floordiv__(a, b)`: return `a // b`\n",
    "    * `index(a)`, `__index__(a)`: return `a` converted to an integer, equivalent to `a.__index__()`, the result always has exact type `int`.\n",
    "    * `inv(obj)`, `invert(obj)`, `__inv__(obj)`, `__invert__(obj)`: return the bitwise inverse of the number `obj`, equivalent to `~obj`\n",
    "    * `lshift(a, b)`, `__lshift__(a, b)`: return `a` shifted left by `b`\n",
    "    * `mod(a, b)`, `__mod__(a, b)`: return `a % b`\n",
    "    * `mul(a, b)`, `__mul__(a, b)`: return `a * b`, for `a` and `b` numbers\n",
    "    * `matmul(a, b)`, `__matmul__(a, b)`: return `a @ b`\n",
    "    * `neg(obj)`, `__neg__(obj)`: return `-obj`\n",
    "    * `or_(a, b)`, `__or__(a, b)`: return the bitwise or of `a` and `b`\n",
    "    * `pos(obj)`, `__pos__(obj)`: return `+obj`\n",
    "    * `pow(a, b)`, `__pow__(a, b)`: return `a ** b`, for `a` and `b` numbers\n",
    "    * `rshift(a, b)`, `__rshift__(a, b)`: return `a` shifted right by `b`\n",
    "    * `sub(a, b)`, `__sub__(a, b)`: return `a - b`\n",
    "    * `truediv(a, b)`, `__truediv__(a, b)`: return `a / b`\n",
    "    * `xor(a, b)`, `__xor__(a, b)`: return bitwise exclusive or of `a` and `b`\n",
    "  * Operations which work with sequences, some of them with mappings too\n",
    "    * `concat(a, b)`, `__concat__(a, b)`: return `a + b` for `a` and `b` sequences\n",
    "    * `contains(a, b)`, `__contains__(a, b)`: return the outcome of the test `b in a`\n",
    "    * `countOf(a, b)`: return the number of occurrences of `b` in `a`\n",
    "    * `delitem(a, b)`, `__delitem__(a, b)`: remove the value of `a` at index `b`\n",
    "    * `getitem(a, b)`, `__getitem__(a, b)`\n",
    "    * `indexOf(a, b)`: return the index of the first occurrence of `b` in `a`\n",
    "    * `setitem(a, b, c)`, `__setitem__(a, b, c)`: set the value of `a` at index `b` to `c`\n",
    "    * `length_hint(obj, default=0)`: return an estimated length for the object `obj`, first try to return its actual length, then an estimate using `object.__length_hint__()`, and finally return the default value\n",
    "  * Operation works with callables\n",
    "    * `call(obj, /, *args, **kwargs)`, `__call__(obj, /, *args, **kwargs)`: return `obj(*args, **kwargs)`\n",
    "  * tools for generalized attribute and item lookups, useful for making fast field extractors as arguments for `map()`, `sorted()`, or other functions that expect a function argument\n",
    "    * `attrgetter(attr)`, `attrgetter(*attr)`: return a callable object that fetches `attr` from its operand, if more than one attribute is requested, returns a tuple of attributes, the attribute names can also contain dots\n",
    "    * `itemgetter(item)`, `itemgetter(*item)`: return a callable object that fetches `item` from its operand using operand's `__getitem__()` method\n",
    "    * `methodcaller(name, /, *args, **kwargs)`: return a callable object that *calls* the method `name` on its operand, if additional arguments and/or keyword arguments are given, they will be given to the method as well\n",
    "  * In-place operators"
   ]
  },
  {
   "cell_type": "code",
   "execution_count": 63,
   "metadata": {},
   "outputs": [
    {
     "name": "stdout",
     "output_type": "stream",
     "text": [
      "24\n",
      "24\n",
      "3\n",
      "c\n",
      "(3, 4)\n",
      "('c', 'd')\n",
      "a\n",
      "test method get called\n",
      "test method get called\n",
      "[(-2-1j), (2+10j), (3+2j), (5-10j), (8-5j)]\n",
      "[(-2, 3, 1), (0,), (2, 3, 4), (3, 4), (5, 7, 1)]\n"
     ]
    }
   ],
   "source": [
    "import operator\n",
    "from functools import reduce\n",
    "\n",
    "print(reduce(lambda x, y: x * y, [1, 2, 3, 4]))\n",
    "print(reduce(operator.mul, [1, 2, 3, 4]))\n",
    "\n",
    "get_item_2 = operator.itemgetter(2)\n",
    "print(get_item_2([1, 2, 3, 4]))\n",
    "print(get_item_2('abcde'))\n",
    "\n",
    "get_item_2_3 = operator.itemgetter(2, 3)\n",
    "print(get_item_2_3([1, 2, 3, 4]))\n",
    "print(get_item_2_3('abcde'))\n",
    "\n",
    "class MyClass:\n",
    "    def __init__(self):\n",
    "        self.a = 'a'\n",
    "        self.b = 'b'\n",
    "\n",
    "    def test(self):\n",
    "        print('test method get called')\n",
    "\n",
    "obj = MyClass()\n",
    "get_attr_a = operator.attrgetter('a')\n",
    "print(get_attr_a(obj))\n",
    "\n",
    "get_attr_test = operator.attrgetter('test')\n",
    "get_attr_test(obj)()\n",
    "method_caller_test = operator.methodcaller('test')\n",
    "method_caller_test(obj)\n",
    "\n",
    "complexes = [5 - 10j, 3 + 2j, -2 - 1j, 2 + 10j, 8 - 5j]\n",
    "sorted_by_real = sorted(complexes, key=operator.attrgetter('real'))\n",
    "print(sorted_by_real)\n",
    "\n",
    "tuples = [(2, 3, 4), (-2, 3, 1), (0,), (5, 7, 1), (3, 4)]\n",
    "sorted_by_first = sorted(tuples, key=operator.itemgetter(0))\n",
    "# sorted_by_first = sorted(tuples, key=lambda x: x[0])\n",
    "print(sorted_by_first)"
   ]
  },
  {
   "cell_type": "markdown",
   "metadata": {},
   "source": [
    "## Scopes, closures and decorators"
   ]
  },
  {
   "cell_type": "markdown",
   "metadata": {},
   "source": [
    "### Global and local scopes\n",
    "\n",
    "Scopes and namespaces\n",
    "\n",
    "* When an object is assigned to a variable, that variable points to some object, and we say that the variable (name) is bound to that object.\n",
    "* That object can be accessed using that name in various parts of our code, but not just anywhere.\n",
    "* That variable name and it's binding only exist in specific parts of our code.\n",
    "* The portion of code where that name/binding is defined, is called the lexical scope of the variable.\n",
    "* These bindings are stored in namespaces.\n",
    "\n",
    "The global scope\n",
    "\n",
    "* The global scope is essentially the module scope.\n",
    "* It spans a single file only.\n",
    "* There is no concept of a truly global (across all the modules in our entire app) scope in Python.\n",
    "* The only exception to this are some of the built-in globally available objects, such as:\n",
    "  * `True`\n",
    "  * `None`\n",
    "  * `dict`\n",
    "  * `print`\n",
    "* The built-in and global variables can be used in anywhere inside our module, including inside any function.\n",
    "* Global scopes are nested inside the built-in scope.\n",
    "* If you reference a variable name inside a scope and Python does not find it in that scope's namespace, it will look for it in an *enclosing* scope's namespace.\n",
    "\n",
    "The local scope\n",
    "\n",
    "* When we create functions, we can create variable names inside those functions (using assignment).\n",
    "* Variables defined inside a function are not created until the function is called.\n",
    "* Every time the function is called, a new scope is created.\n",
    "* Variables defined inside the function are assigned to that scope.\n",
    "* The actual object the variable references could be different each time the function is called, and this is why recursion works.\n",
    "* When a function finishes running, the scope is gone too, and the reference count of the object was bound to is decremented.\n",
    "\n",
    "Nested scopes\n",
    "\n",
    "* Scopes are often nested.\n",
    "* Built-in scope -> module/global scope -> local scope\n",
    "* When requesting the object bound to a variable name, Python will try to find the object bound to the variable\n",
    "  * in current local scope first\n",
    "  * works up the chain of enclosing scopes\n",
    "* When modifying a global variable value from inside the function\n",
    "  * Python interprets it as a local variable (at compile-time)\n",
    "  * the local variable masks the global variable with the same name\n",
    "* The `global` keyword\n",
    "  * we can tell Python that a variable is meant to be scoped in the global scope by using the `global` keyword\n",
    "* When Python encounters a function definition at compile-time\n",
    "  * it will scan for any labels (variables) that have values *assigned* to them *anywhere in the function*, if the label has not been specified as `global`, it will be local\n",
    "  * variables that are *referenced* but not assigned a value *anywhere in the function* will not be local, and Python will, at run-time, look for them in enclosing scopes"
   ]
  },
  {
   "cell_type": "code",
   "execution_count": 64,
   "metadata": {},
   "outputs": [
    {
     "name": "stdout",
     "output_type": "stream",
     "text": [
      "hello\n",
      "world\n"
     ]
    }
   ],
   "source": [
    "def my_func():\n",
    "    global var\n",
    "    var = 'hello'\n",
    "\n",
    "# print(var) # name 'var' is not defined\n",
    "my_func() # because of var is global, it is still available after the function finishes\n",
    "print(var)\n",
    "\n",
    "a = 10\n",
    "def my_func():\n",
    "    print(f'global a? {a=}') # local variable 'a' referenced before assignment\n",
    "    a = 'hello' # a becomes local variable at compile-time\n",
    "\n",
    "def print(string):\n",
    "    return f'hello {string}'\n",
    "\n",
    "print('world') # doesn't print anything, only returns a string, because the built-in print function has been masked by the string function in the module scope\n",
    "del print\n",
    "print('world')"
   ]
  },
  {
   "cell_type": "markdown",
   "metadata": {},
   "source": [
    "### Nonlocal scopes\n",
    "\n",
    "Inner functions\n",
    "\n",
    "* We can define functions from inside another function.\n",
    "* Both functions have access to the global and built-in scopes as well as their respective local scope.\n",
    "* But the inner function also has access to its enclosing scope -- the scope of the outer function.\n",
    "* This enclosing scope is neither local (to the inner function) nor global, it is called a nonlocal scope.\n",
    "* The `nonlocal` keyword\n",
    "  * just as with global variables, we have to explicitly tell Python we are modifying a nonlocal variable\n",
    "  * we can do that using the `nonlocal` keyword\n",
    "* Whenever Python is told that a variable is `nonlocal`\n",
    "  * it will look for it in the enclosing local scopes chain until it first encounters the specific variable name\n",
    "  * it will look in local scopes, it will *not* look in the global scope"
   ]
  },
  {
   "cell_type": "code",
   "execution_count": 65,
   "metadata": {},
   "outputs": [
    {
     "name": "stdout",
     "output_type": "stream",
     "text": [
      "hello\n",
      "monty\n"
     ]
    }
   ],
   "source": [
    "x = 'python'\n",
    "\n",
    "def outer():\n",
    "    global x\n",
    "    x = 'monty'\n",
    "\n",
    "    def inner():\n",
    "        # nonlocal x # no binding for nonlocal 'x'\n",
    "        x = 'hello'\n",
    "        print(x)\n",
    "\n",
    "    inner()\n",
    "    print(x)\n",
    "\n",
    "outer()"
   ]
  },
  {
   "cell_type": "markdown",
   "metadata": {},
   "source": [
    "### Closures\n",
    "\n",
    "Free variables and closures\n",
    "\n",
    "* Functions defined inside another function can access the outer (nonlocal) variables.\n",
    "    ```Python\n",
    "    def outer():\n",
    "        x = 'Python'\n",
    "        def inner():\n",
    "            print(f'{x} rock!')\n",
    "        return inner\n",
    "    ```\n",
    "  * this nonlocal variable `x` is called a free variable\n",
    "  * `x` is bound to the variable `x` in `outer`\n",
    "  * this happens when `outer` runs, i.e. when `inner` is created\n",
    "  * the function `inner` and the free variable `x` together is called a closure\n",
    "  * when we return `inner`, we are actually returning the closure, not just the `inner` function\n",
    "  * we can assign that return value to a variable name: `fn = outer()`\n",
    "  * when we call `fn`, at that time Python will determine the value of `x` in the extended scope\n",
    "  * but notice that `outer` has finished running before we call `fn` -- its scope was gone\n",
    "\n",
    "Python cells and multi-scoped variables\n",
    "\n",
    "* The value of `x` is shared between two scopes -- `outer` and closure.\n",
    "* The label `x` is in two different scopes, but always reference the same value.\n",
    "* Python does this by creating a cell as an intermediary object.\n",
    "* In effect, both variables `x` (in `outer` and `inner`) point to the same cell.\n",
    "* When requesting the value of the variable, Python will double-hop to get to the final value.\n",
    "\n",
    "Closures\n",
    "\n",
    "* You can think of the closure as a function plus an extended scope that contains the free variables.\n",
    "* The free variable's value is the object cell points to.\n",
    "* Every time the function in the closure is called and the free variable is referenced, Python looks up the cell object, and then whatever the cell is pointing to.\n",
    "*  `fn.__code__.co_freevars`: `('x',)`, `a` is not a free variable\n",
    "* `fn.__closure__`: `(<cell at 0xA500: str object at 0xFF100>, )`\n",
    "  * `None` or a tuple of cells that contain bindings for the function’s free variables.\n",
    "  * A cell object has the attribute `cell_contents`. This can be used to get the value of the cell, as well as set the value.\n",
    "* `hex(id(x))`: `0xFF100`, the indirect reference, the address of the object that contains the string `'Python'`.\n",
    "\n",
    "Multiple instances of closures\n",
    "\n",
    "* Every time we run a function, a new scope is created.\n",
    "* If that function generates a closure, a new closure is created every time as well.\n",
    "\n",
    "Shared extended scopes\n",
    "\n",
    "* ```Python\n",
    "    def outer():\n",
    "        count = 0\n",
    "        def inc1():\n",
    "            nonlocal count\n",
    "            count += 1\n",
    "            return count\n",
    "        def inc2():\n",
    "            nonlocal count\n",
    "            count += 2\n",
    "            return count\n",
    "        return inc1, inc2\n",
    "    f1, f2 = outer()\n",
    "  ```\n",
    "  * there are two different closures, but they have a shared free variable `count`, i.e. the same cell\n",
    "* ```Python\n",
    "    def create adders():\n",
    "        adders = []\n",
    "        for n in range(1, 4):\n",
    "            adders.append(lambda x: x + n)\n",
    "        return adders\n",
    "  ```\n",
    "  * `n` is not defined in the lambda function, so it has to be from the outer scope, i.e. bound to the `n` we created in the loop\n",
    "  * when the loop iterates, a new scope is created, and both `n` point to the same cell, and the cell points to the value `n` currently equals to\n",
    "  * the loop creates a different lambda function and closure at each iteration, but the closures all share the same free variable `n`, i.e. the same cell\n",
    "\n",
    "Nested closures\n",
    "\n",
    "* ```Python\n",
    "    def incrementer(n):\n",
    "        def inner(start):\n",
    "            current = start\n",
    "            def inc():\n",
    "                nonlocal current\n",
    "                current += n\n",
    "                return current\n",
    "            return inc\n",
    "        return inner\n",
    "    inner_2 = incrementer(2)\n",
    "    inc_2_100 = inner_2(100)\n",
    "    inc_2_100() # 102\n",
    "    inc_2_100() # 104\n",
    "  ```"
   ]
  },
  {
   "cell_type": "code",
   "execution_count": 66,
   "metadata": {},
   "outputs": [
    {
     "name": "stdout",
     "output_type": "stream",
     "text": [
      "f1.__code__.co_freevars=('count',)\n",
      "f2.__code__.co_freevars=('count',)\n",
      "f1.__closure__=(<cell at 0x000002185DAE7850: int object at 0x00007FFFAC683998>,)\n",
      "f2.__closure__=(<cell at 0x000002185DAE7850: int object at 0x00007FFFAC683998>,)\n",
      "1\n",
      "2\n"
     ]
    }
   ],
   "source": [
    "def outer():\n",
    "    count = 0\n",
    "\n",
    "    def inner1():\n",
    "        nonlocal count\n",
    "        count += 1\n",
    "        return count\n",
    "    \n",
    "    def inner2():\n",
    "        nonlocal count\n",
    "        count += 1\n",
    "        return count\n",
    "    \n",
    "    return inner1, inner2\n",
    "\n",
    "f1, f2 = outer()\n",
    "print(f'{f1.__code__.co_freevars=}')\n",
    "print(f'{f2.__code__.co_freevars=}')\n",
    "print(f'{f1.__closure__=}')\n",
    "print(f'{f2.__closure__=}') # same cell as above\n",
    "print(f1())\n",
    "print(f2())\n"
   ]
  },
  {
   "cell_type": "code",
   "execution_count": 67,
   "metadata": {},
   "outputs": [
    {
     "name": "stdout",
     "output_type": "stream",
     "text": [
      "adders[0].__code__.co_freevars=()\n",
      "adders[0].__closure__=None\n",
      "adders[0](10)=11\n",
      "adders[1](10)=12\n",
      "adders[2](10)=13\n"
     ]
    }
   ],
   "source": [
    "def create_adders():\n",
    "    adders = []\n",
    "    for n in range(1, 4):\n",
    "        adders.append(lambda x, y=n: x + y) # defaults get evaluated at creation-time\n",
    "    return adders\n",
    "\n",
    "adders = create_adders()\n",
    "print(f'{adders[0].__code__.co_freevars=}') # no free variables\n",
    "print(f'{adders[0].__closure__=}') # not a closure, so no cells\n",
    "# at function creation-time, n is evaluated and put that into y as the default for y\n",
    "# there's not even a mention of n in the body of the function\n",
    "\n",
    "print(f'{adders[0](10)=}')\n",
    "print(f'{adders[1](10)=}')\n",
    "print(f'{adders[2](10)=}')"
   ]
  },
  {
   "cell_type": "markdown",
   "metadata": {},
   "source": [
    "### Closure applications"
   ]
  },
  {
   "cell_type": "code",
   "execution_count": 68,
   "metadata": {},
   "outputs": [
    {
     "name": "stdout",
     "output_type": "stream",
     "text": [
      "1.0\n",
      "1.5\n",
      "2.0\n",
      "2.5\n",
      "1.0\n",
      "1.5\n",
      "2.0\n",
      "2.5\n"
     ]
    }
   ],
   "source": [
    "class Averager:\n",
    "    def __init__(self):\n",
    "        self.numbers = []\n",
    "\n",
    "    def add(self, number):\n",
    "        self.numbers.append(number)\n",
    "        return sum(self.numbers) / len(self.numbers)\n",
    "\n",
    "def outer():\n",
    "    numbers = []\n",
    "    def add(number):\n",
    "        numbers.append(number)\n",
    "        return sum(numbers) / len(numbers)\n",
    "    return add\n",
    "\n",
    "averager = Averager()\n",
    "print(averager.add(1))\n",
    "print(averager.add(2))\n",
    "print(averager.add(3))\n",
    "print(averager.add(4))\n",
    "\n",
    "calc_ave = outer()\n",
    "print(calc_ave(1))\n",
    "print(calc_ave(2))\n",
    "print(calc_ave(3))\n",
    "print(calc_ave(4))"
   ]
  },
  {
   "cell_type": "code",
   "execution_count": 69,
   "metadata": {},
   "outputs": [
    {
     "name": "stdout",
     "output_type": "stream",
     "text": [
      "calc_ave.__code__.co_freevars=('count', 'total')\n",
      "calc_ave.__closure__=(<cell at 0x000002185DB420B0: int object at 0x00007FFFAC683998>, <cell at 0x000002185DB42CB0: int object at 0x00007FFFAC683998>)\n",
      "1.0\n",
      "1.5\n",
      "2.0\n",
      "2.5\n"
     ]
    }
   ],
   "source": [
    "def outer_better():\n",
    "    count = 0\n",
    "    total = 0\n",
    "    def add(number):\n",
    "        nonlocal count\n",
    "        nonlocal total\n",
    "        count += 1\n",
    "        total += number\n",
    "        return total / count\n",
    "    return add\n",
    "\n",
    "calc_ave = outer_better()\n",
    "print(f'{calc_ave.__code__.co_freevars=}')\n",
    "print(f'{calc_ave.__closure__=}')\n",
    "print(calc_ave(1))\n",
    "print(calc_ave(2))\n",
    "print(calc_ave(3))\n",
    "print(calc_ave(4))"
   ]
  },
  {
   "cell_type": "code",
   "execution_count": 70,
   "metadata": {},
   "outputs": [
    {
     "name": "stdout",
     "output_type": "stream",
     "text": [
      "5.219999002292752e-05\n",
      "5.7800032664090395e-05\n"
     ]
    }
   ],
   "source": [
    "from time import perf_counter\n",
    "\n",
    "class Timer:\n",
    "    def __init__(self):\n",
    "        self.start = perf_counter()\n",
    "\n",
    "    def __call__(self):\n",
    "        return perf_counter() - self.start\n",
    "    \n",
    "def outer():\n",
    "    start = perf_counter()\n",
    "    def poll():\n",
    "        return perf_counter() - start\n",
    "    return poll\n",
    "    \n",
    "t1 = Timer()\n",
    "print(t1())\n",
    "\n",
    "timer = outer()\n",
    "print(timer())"
   ]
  },
  {
   "cell_type": "code",
   "execution_count": 71,
   "metadata": {},
   "outputs": [
    {
     "name": "stdout",
     "output_type": "stream",
     "text": [
      "add has been called 1 times\n",
      "3\n",
      "add has been called 2 times\n",
      "5\n",
      "mul has been called 1 times\n",
      "20\n",
      "mul has been called 2 times\n",
      "14\n"
     ]
    }
   ],
   "source": [
    "def counter(fn):\n",
    "    # a function report the times of the designated function get called\n",
    "    # it actually works the same way as a decorator\n",
    "    count = 0\n",
    "    def inner(*args, **kwargs):\n",
    "        nonlocal count\n",
    "        count += 1\n",
    "        print(f'{fn.__name__} has been called {count} times')\n",
    "        return fn(*args, **kwargs)\n",
    "    return inner\n",
    "\n",
    "def add(a, b):\n",
    "    return a + b\n",
    "\n",
    "def mul(a, b):\n",
    "    return a * b\n",
    "\n",
    "add = counter(add)\n",
    "print(add(1, 2))\n",
    "print(add(2, 3))\n",
    "\n",
    "mul = counter(mul)\n",
    "print(mul(4, 5))\n",
    "print(mul(2, 7))"
   ]
  },
  {
   "cell_type": "markdown",
   "metadata": {},
   "source": [
    "### Decorators\n",
    "\n",
    "* We can modify a function by wrapping it inside another function that add some extra functionality to it.\n",
    "* This is also called function decoration.\n",
    "* The outer function is called decorator function.\n",
    "* In general a decorator function:\n",
    "  * takes a function as an argument\n",
    "  * returns a closure\n",
    "  * the closure usually accepts any combination of parameters\n",
    "  * runs some code in the inner function (closure)\n",
    "  * the closure function calls the original function using the arguments passed to the closure\n",
    "  * returns whatever is returned by that function call\n",
    "* A function returning another function, usually applied as a function transformation using the `@wrapper` syntax.\n",
    "* Common examples for decorators are `classmethod()` and `staticmethod()`.\n",
    "* The decorator syntax is merely syntactic sugar.\n",
    "* A decorator in Python is any callable Python object that is used to modify a function or a class.\n",
    "\n",
    "Introspecting decorated functions\n",
    "\n",
    "* After a function has been decorated, the original function's name points to the closure returned by the decorator.\n",
    "* The docstring and the signature of the original function are lost.\n",
    "* The function name and docstring can be fixed by overwriting the inner function's `__name__` and `__doc__`.\n",
    "* The `functools.wraps(wrapped, assigned=WRAPPER_ASSIGNMENTS, updated=WRAPPER_UPDATES)` function can be used to fix the metadata of the inner function in the decorator, and the `wraps` function is itself a decorator.\n",
    "  * This is a convenience function for invoking `update_wrapper()` as a function decorator when defining a wrapper function. It is equivalent to `partial(update_wrapper, wrapped=wrapped, assigned=assigned, updated=updated)`.\n",
    "  * `functools.update_wrapper(wrapper, wrapped, assigned=WRAPPER_ASSIGNMENTS, updated=WRAPPER_UPDATES)`: update a wrapper function to look like the wrapped function."
   ]
  },
  {
   "cell_type": "code",
   "execution_count": 72,
   "metadata": {},
   "outputs": [
    {
     "name": "stdout",
     "output_type": "stream",
     "text": [
      "Help on function add in module __main__:\n",
      "\n",
      "add(a: int, b: int = 0)\n",
      "    adds two values\n",
      "\n",
      "Help on function inner in module __main__:\n",
      "\n",
      "inner(*args, **kwargs)\n",
      "\n",
      "Function add has been called 1 times\n",
      "add(1, 2)=3\n"
     ]
    }
   ],
   "source": [
    "def counter(fn):\n",
    "    count = 0\n",
    "\n",
    "    def inner(*args, **kwargs):\n",
    "        nonlocal count\n",
    "        count += 1\n",
    "        print(f'Function {fn.__name__} has been called {count} times')\n",
    "        return fn(*args, **kwargs)\n",
    "    return inner\n",
    "\n",
    "def add(a: int, b: int = 0):\n",
    "    \"\"\"\n",
    "    adds two values\n",
    "    \"\"\"\n",
    "    return a + b\n",
    "\n",
    "help(add)\n",
    "\n",
    "add = counter(add)\n",
    "help(add)\n",
    "print(f'{add(1, 2)=}')"
   ]
  },
  {
   "cell_type": "code",
   "execution_count": 73,
   "metadata": {},
   "outputs": [
    {
     "name": "stdout",
     "output_type": "stream",
     "text": [
      "Help on function inner in module __main__:\n",
      "\n",
      "inner(*args, **kwargs)\n",
      "\n",
      "Function add has been called 1 times\n",
      "add(1, 2)=3\n"
     ]
    }
   ],
   "source": [
    "def counter(fn):\n",
    "    count = 0\n",
    "\n",
    "    def inner(*args, **kwargs):\n",
    "        nonlocal count\n",
    "        count += 1\n",
    "        print(f'Function {fn.__name__} has been called {count} times')\n",
    "        return fn(*args, **kwargs)\n",
    "    return inner\n",
    "\n",
    "# use the @wrapper syntax\n",
    "@counter\n",
    "def add(a: int, b: int = 0):\n",
    "    \"\"\"\n",
    "    adds two values\n",
    "    \"\"\"\n",
    "    return a + b\n",
    "\n",
    "help(add)\n",
    "print(f'{add(1, 2)=}')"
   ]
  },
  {
   "cell_type": "code",
   "execution_count": 74,
   "metadata": {},
   "outputs": [
    {
     "name": "stdout",
     "output_type": "stream",
     "text": [
      "Help on function add in module __main__:\n",
      "\n",
      "add(a: int, b: int = 0)\n",
      "    adds two values\n",
      "\n",
      "Function add has been called 1 times\n",
      "add(1, 2)=3\n"
     ]
    }
   ],
   "source": [
    "from functools import wraps\n",
    "\n",
    "def counter(fn):\n",
    "    count = 0\n",
    "\n",
    "    @wraps(fn) # fix the metadata of inner\n",
    "    def inner(*args, **kwargs):\n",
    "        nonlocal count\n",
    "        count += 1\n",
    "        print(f'Function {fn.__name__} has been called {count} times')\n",
    "        return fn(*args, **kwargs)\n",
    "    # the following can only fix function name and docstring\n",
    "    # inner.__name__ = fn.__name__\n",
    "    # inner.__doc__ = fn.__doc__\n",
    "\n",
    "    # works the same as the @wraps decorator\n",
    "    # inner = wraps(fn)(inner)\n",
    "    return inner\n",
    "\n",
    "@counter\n",
    "def add(a: int, b: int = 0):\n",
    "    \"\"\"\n",
    "    adds two values\n",
    "    \"\"\"\n",
    "    return a + b\n",
    "\n",
    "help(add)\n",
    "print(f'{add(1, 2)=}')"
   ]
  },
  {
   "cell_type": "code",
   "execution_count": 75,
   "metadata": {},
   "outputs": [
    {
     "name": "stdout",
     "output_type": "stream",
     "text": [
      "fib_recursion(30) took 0.16108089999761432s to run\n",
      "fib_recursion(30)=832040\n",
      "calc_nth_fibonacci_loop(30) took 5.89998671784997e-06s to run\n",
      "calc_nth_fibonacci_loop(30)=832040\n",
      "calc_nth_fibonacci_reduce(30) took 1.1100026313215494e-05s to run\n",
      "calc_nth_fibonacci_reduce(30)=832040\n"
     ]
    }
   ],
   "source": [
    "def timed(fn):\n",
    "    from time import perf_counter\n",
    "    from functools import wraps\n",
    "\n",
    "    @wraps(fn)\n",
    "    def inner(*args, **kwargs):\n",
    "        start = perf_counter()\n",
    "        result = fn(*args, **kwargs)\n",
    "        elapsed = perf_counter() - start\n",
    "\n",
    "        args_list = [str(arg) for arg in args]\n",
    "        kwargs_list = [f'{k}={v}' for k, v in kwargs.items()]\n",
    "        args_string = ','.join(args_list + kwargs_list)\n",
    "        print(f'{fn.__name__}({args_string}) took {elapsed}s to run')\n",
    "        return result\n",
    "    \n",
    "    return inner\n",
    "\n",
    "# recursion\n",
    "# @timed\n",
    "def calc_nth_fibonacci_recursion(n):\n",
    "    \"\"\"\n",
    "    Return the nth number of a fibonacci series, n starting from 1\n",
    "    \"\"\"\n",
    "    return 1 if n < 3 else calc_nth_fibonacci_recursion(n - 1) + calc_nth_fibonacci_recursion(n - 2)\n",
    "\n",
    "# calculate the total time elapsed\n",
    "@timed\n",
    "def fib_recursion(n):\n",
    "    return calc_nth_fibonacci_recursion(n)\n",
    "\n",
    "# calc_nth_fibonacci_recursion(6)\n",
    "\n",
    "print(f'{fib_recursion(30)=}')\n",
    "\n",
    "# loop\n",
    "@timed\n",
    "def calc_nth_fibonacci_loop(n):\n",
    "    if n <= 2:\n",
    "        return 1\n",
    "    fib_1 = 1\n",
    "    fib_2 = 1\n",
    "    for n in range(3, n + 1):\n",
    "        fib_1, fib_2 = fib_2, fib_1 + fib_2\n",
    "    return fib_2\n",
    "\n",
    "print(f'{calc_nth_fibonacci_loop(30)=}')\n",
    "\n",
    "# reduce\n",
    "@timed\n",
    "def calc_nth_fibonacci_reduce(n):\n",
    "    from functools import reduce\n",
    "    if n <= 1:\n",
    "        return 1\n",
    "    fib = reduce(lambda x, y: (x[0] + x[1], x[0]),\n",
    "           range(n - 1),\n",
    "           (1, 0))\n",
    "    return fib[0]\n",
    "\n",
    "print(f'{calc_nth_fibonacci_reduce(30)=}')"
   ]
  },
  {
   "cell_type": "code",
   "execution_count": 76,
   "metadata": {},
   "outputs": [
    {
     "name": "stdout",
     "output_type": "stream",
     "text": [
      "factorial ran for 1.0200019460171461e-05s\n",
      "2024-01-15 20:54:25.170732+00:00: called factorial\n",
      "3628800\n"
     ]
    }
   ],
   "source": [
    "def logger(fn):\n",
    "    from functools import wraps\n",
    "    import datetime\n",
    "\n",
    "    @wraps(fn)\n",
    "    def inner(*args, **kwargs):\n",
    "        run_dt = datetime.datetime.now(datetime.UTC)\n",
    "        result = fn(*args, **kwargs)\n",
    "        print(f'{run_dt}: called {fn.__name__}')\n",
    "        return result\n",
    "    \n",
    "    return inner\n",
    "\n",
    "def timed(fn):\n",
    "    from functools import wraps\n",
    "    from time import perf_counter\n",
    "\n",
    "    @wraps(fn)\n",
    "    def inner(*args, **kwargs):\n",
    "        start = perf_counter()\n",
    "        result = fn(*args, **kwargs)\n",
    "        elapsed = perf_counter() - start\n",
    "        print(f'{fn.__name__} ran for {elapsed}s')\n",
    "        return result\n",
    "    \n",
    "    return inner\n",
    "\n",
    "# stacked decorators\n",
    "# the decorators are executed from top to bottom\n",
    "@logger\n",
    "@timed\n",
    "def factorial(n):\n",
    "    from functools import reduce\n",
    "    from operator import mul\n",
    "\n",
    "    return reduce(mul, range(1, n + 1))\n",
    "\n",
    "# the equivalent to the above decorators\n",
    "# factorial = logger(timer(factorial))\n",
    "\n",
    "print(factorial(10))"
   ]
  },
  {
   "cell_type": "code",
   "execution_count": 77,
   "metadata": {},
   "outputs": [
    {
     "name": "stdout",
     "output_type": "stream",
     "text": [
      "fib(1)=1\n",
      "fib(2)=1\n",
      "Calculating fib(3)\n",
      "fib(3)=2\n",
      "Calculating fib(4)\n",
      "fib(4)=3\n",
      "Calculating fib(5)\n",
      "fib(5)=5\n",
      "fib(4)=3\n",
      "fib(3)=2\n",
      "fib(2)=1\n"
     ]
    }
   ],
   "source": [
    "# fibonacci class with cache\n",
    "class Fib:\n",
    "    def __init__(self):\n",
    "        self.cache = {1: 1, 2: 1}\n",
    "\n",
    "    def __call__(self, n):\n",
    "        if n in self.cache:\n",
    "            return self.cache[n]\n",
    "        print(f'Calculating fib({n})')\n",
    "        self.cache[n] = self.__call__(n - 1) + self.__call__(n - 2)\n",
    "        return self.cache[n]\n",
    "    \n",
    "fib = Fib()\n",
    "print(f'{fib(1)=}')\n",
    "print(f'{fib(2)=}')\n",
    "print(f'{fib(3)=}')\n",
    "print(f'{fib(4)=}')\n",
    "print(f'{fib(5)=}')\n",
    "print(f'{fib(4)=}')\n",
    "print(f'{fib(3)=}')\n",
    "print(f'{fib(2)=}')\n"
   ]
  },
  {
   "cell_type": "code",
   "execution_count": 78,
   "metadata": {},
   "outputs": [
    {
     "name": "stdout",
     "output_type": "stream",
     "text": [
      "fib(1)=1\n",
      "fib(2)=1\n",
      "Calculating fib(3)\n",
      "fib(3)=2\n",
      "Calculating fib(4)\n",
      "fib(4)=3\n",
      "Calculating fib(5)\n",
      "fib(5)=5\n",
      "fib(4)=3\n"
     ]
    }
   ],
   "source": [
    "# closure with cache\n",
    "def outer():\n",
    "    cache = {1: 1, 2: 1}\n",
    "\n",
    "    def fib(n):\n",
    "        if n not in cache:\n",
    "            print(f'Calculating fib({n})')\n",
    "            cache[n] = fib(n - 1) + fib(n - 2)\n",
    "        return cache[n]\n",
    "    \n",
    "    return fib\n",
    "\n",
    "fib = outer()\n",
    "print(f'{fib(1)=}')\n",
    "print(f'{fib(2)=}')\n",
    "print(f'{fib(3)=}')\n",
    "print(f'{fib(4)=}')\n",
    "print(f'{fib(5)=}')\n",
    "print(f'{fib(4)=}')"
   ]
  },
  {
   "cell_type": "code",
   "execution_count": 79,
   "metadata": {},
   "outputs": [
    {
     "name": "stdout",
     "output_type": "stream",
     "text": [
      "Calculating fib(1)\n",
      "fib(1)=1\n",
      "Calculating fib(2)\n",
      "fib(2)=1\n",
      "Calculating fib(3)\n",
      "fib(3)=2\n",
      "Calculating fib(4)\n",
      "fib(4)=3\n",
      "Calculating fib(5)\n",
      "fib(5)=5\n",
      "fib(4)=3\n"
     ]
    }
   ],
   "source": [
    "def memoize(fn):\n",
    "    cache = {}\n",
    "\n",
    "    def inner(n):\n",
    "        if n not in cache:\n",
    "            cache[n] = fn(n)\n",
    "        return cache[n]\n",
    "    \n",
    "    return inner\n",
    "\n",
    "# decorator with cache\n",
    "@memoize\n",
    "def fib(n):\n",
    "    print(f'Calculating fib({n})')\n",
    "    return 1 if n < 3 else fib(n - 1) + fib(n - 2)\n",
    "\n",
    "print(f'{fib(1)=}')\n",
    "print(f'{fib(2)=}')\n",
    "print(f'{fib(3)=}')\n",
    "print(f'{fib(4)=}')\n",
    "print(f'{fib(5)=}')\n",
    "print(f'{fib(4)=}')"
   ]
  },
  {
   "cell_type": "code",
   "execution_count": 80,
   "metadata": {},
   "outputs": [
    {
     "name": "stdout",
     "output_type": "stream",
     "text": [
      "Calculating fib(1)\n",
      "fib(1)=1\n",
      "Calculating fib(2)\n",
      "fib(2)=1\n",
      "Calculating fib(3)\n",
      "fib(3)=2\n",
      "Calculating fib(4)\n",
      "fib(4)=3\n",
      "Calculating fib(5)\n",
      "fib(5)=5\n",
      "fib(4)=3\n",
      "Calculating fib(129)\n",
      "Calculating fib(128)\n",
      "Calculating fib(127)\n",
      "Calculating fib(126)\n",
      "Calculating fib(125)\n",
      "Calculating fib(124)\n",
      "Calculating fib(123)\n",
      "Calculating fib(122)\n",
      "Calculating fib(121)\n",
      "Calculating fib(120)\n",
      "Calculating fib(119)\n",
      "Calculating fib(118)\n",
      "Calculating fib(117)\n",
      "Calculating fib(116)\n",
      "Calculating fib(115)\n",
      "Calculating fib(114)\n",
      "Calculating fib(113)\n",
      "Calculating fib(112)\n",
      "Calculating fib(111)\n",
      "Calculating fib(110)\n",
      "Calculating fib(109)\n",
      "Calculating fib(108)\n",
      "Calculating fib(107)\n",
      "Calculating fib(106)\n",
      "Calculating fib(105)\n",
      "Calculating fib(104)\n",
      "Calculating fib(103)\n",
      "Calculating fib(102)\n",
      "Calculating fib(101)\n",
      "Calculating fib(100)\n",
      "Calculating fib(99)\n",
      "Calculating fib(98)\n",
      "Calculating fib(97)\n",
      "Calculating fib(96)\n",
      "Calculating fib(95)\n",
      "Calculating fib(94)\n",
      "Calculating fib(93)\n",
      "Calculating fib(92)\n",
      "Calculating fib(91)\n",
      "Calculating fib(90)\n",
      "Calculating fib(89)\n",
      "Calculating fib(88)\n",
      "Calculating fib(87)\n",
      "Calculating fib(86)\n",
      "Calculating fib(85)\n",
      "Calculating fib(84)\n",
      "Calculating fib(83)\n",
      "Calculating fib(82)\n",
      "Calculating fib(81)\n",
      "Calculating fib(80)\n",
      "Calculating fib(79)\n",
      "Calculating fib(78)\n",
      "Calculating fib(77)\n",
      "Calculating fib(76)\n",
      "Calculating fib(75)\n",
      "Calculating fib(74)\n",
      "Calculating fib(73)\n",
      "Calculating fib(72)\n",
      "Calculating fib(71)\n",
      "Calculating fib(70)\n",
      "Calculating fib(69)\n",
      "Calculating fib(68)\n",
      "Calculating fib(67)\n",
      "Calculating fib(66)\n",
      "Calculating fib(65)\n",
      "Calculating fib(64)\n",
      "Calculating fib(63)\n",
      "Calculating fib(62)\n",
      "Calculating fib(61)\n",
      "Calculating fib(60)\n",
      "Calculating fib(59)\n",
      "Calculating fib(58)\n",
      "Calculating fib(57)\n",
      "Calculating fib(56)\n",
      "Calculating fib(55)\n",
      "Calculating fib(54)\n",
      "Calculating fib(53)\n",
      "Calculating fib(52)\n",
      "Calculating fib(51)\n",
      "Calculating fib(50)\n",
      "Calculating fib(49)\n",
      "Calculating fib(48)\n",
      "Calculating fib(47)\n",
      "Calculating fib(46)\n",
      "Calculating fib(45)\n",
      "Calculating fib(44)\n",
      "Calculating fib(43)\n",
      "Calculating fib(42)\n",
      "Calculating fib(41)\n",
      "Calculating fib(40)\n",
      "Calculating fib(39)\n",
      "Calculating fib(38)\n",
      "Calculating fib(37)\n",
      "Calculating fib(36)\n",
      "Calculating fib(35)\n",
      "Calculating fib(34)\n",
      "Calculating fib(33)\n",
      "Calculating fib(32)\n",
      "Calculating fib(31)\n",
      "Calculating fib(30)\n",
      "Calculating fib(29)\n",
      "Calculating fib(28)\n",
      "Calculating fib(27)\n",
      "Calculating fib(26)\n",
      "Calculating fib(25)\n",
      "Calculating fib(24)\n",
      "Calculating fib(23)\n",
      "Calculating fib(22)\n",
      "Calculating fib(21)\n",
      "Calculating fib(20)\n",
      "Calculating fib(19)\n",
      "Calculating fib(18)\n",
      "Calculating fib(17)\n",
      "Calculating fib(16)\n",
      "Calculating fib(15)\n",
      "Calculating fib(14)\n",
      "Calculating fib(13)\n",
      "Calculating fib(12)\n",
      "Calculating fib(11)\n",
      "Calculating fib(10)\n",
      "Calculating fib(9)\n",
      "Calculating fib(8)\n",
      "Calculating fib(7)\n",
      "Calculating fib(6)\n",
      "fib(129)=407305795904080553832073954\n",
      "Calculating fib(1)\n",
      "fib(1)=1\n"
     ]
    }
   ],
   "source": [
    "from functools import lru_cache\n",
    "\n",
    "# built-in decorator with cache\n",
    "# @cache(user_function) return the same as lru_cache(maxsize=None)\n",
    "# @functools.lru_cache(user_function)\n",
    "# @functools.lru_cache(maxsize=128, typed=False)\n",
    "@lru_cache\n",
    "def fib(n):\n",
    "    print(f'Calculating fib({n})')\n",
    "    return 1 if n < 3 else fib(n - 1) + fib(n - 2)\n",
    "\n",
    "print(f'{fib(1)=}')\n",
    "print(f'{fib(2)=}')\n",
    "print(f'{fib(3)=}')\n",
    "print(f'{fib(4)=}')\n",
    "print(f'{fib(5)=}')\n",
    "print(f'{fib(4)=}')\n",
    "print(f'{fib(129)=}') # default maxsize=128, this will cause fib(1) replaced by fib(129)\n",
    "print(f'{fib(1)=}')"
   ]
  },
  {
   "cell_type": "markdown",
   "metadata": {},
   "source": [
    "Decorator factories\n",
    "\n",
    "* A Python decorator factory is a function that returns a decorator, providing a way to parameterize the decorator.\n",
    "* Decorator factories are valuable when customization or configuration of decorators is needed.\n",
    "* They are implemented by defining a function that takes arguments and returns a decorator function."
   ]
  },
  {
   "cell_type": "code",
   "execution_count": 81,
   "metadata": {},
   "outputs": [
    {
     "name": "stdout",
     "output_type": "stream",
     "text": [
      "my_func executed\n",
      "my_func executed\n",
      "my_func executed\n",
      "my_func executed\n",
      "my_func executed\n",
      "my_func executed\n",
      "my_func executed\n",
      "my_func executed\n",
      "my_func executed\n",
      "my_func executed\n",
      "Average execution time: 1.9829999655485153e-05\n"
     ]
    }
   ],
   "source": [
    "def timed(fn, reps):\n",
    "    from time import perf_counter\n",
    "    from functools import wraps\n",
    "\n",
    "    @wraps(fn)\n",
    "    def inner(*args, **kwargs):\n",
    "        total_elapsed = 0\n",
    "        for i in range(reps):\n",
    "            start = perf_counter()\n",
    "            result = fn(*args, **kwargs)\n",
    "            total_elapsed += perf_counter() - start\n",
    "        print(f'Average execution time: {total_elapsed / reps}')\n",
    "        return result\n",
    "\n",
    "    return inner\n",
    "\n",
    "# @timed(10) # not working\n",
    "def my_func():\n",
    "    print('my_func executed')\n",
    "\n",
    "my_func = timed(my_func, 10)\n",
    "my_func()"
   ]
  },
  {
   "cell_type": "code",
   "execution_count": 82,
   "metadata": {},
   "outputs": [
    {
     "name": "stdout",
     "output_type": "stream",
     "text": [
      "my_func executed\n",
      "my_func executed\n",
      "my_func executed\n",
      "my_func executed\n",
      "my_func executed\n",
      "my_func executed\n",
      "my_func executed\n",
      "my_func executed\n",
      "my_func executed\n",
      "my_func executed\n",
      "Average execution time: 1.746000489220023e-05\n"
     ]
    }
   ],
   "source": [
    "# the outer function is not itself a decorator\n",
    "# instead it returns a decorator, just like what wraps do\n",
    "# any arguments passed to outer can be referenced (as free variables) inside the decorator\n",
    "# the outer function is called a decorator factory function\n",
    "def outer(reps):\n",
    "    def timed(fn):\n",
    "        from time import perf_counter\n",
    "        from functools import wraps\n",
    "\n",
    "        @wraps(fn)\n",
    "        def inner(*args, **kwargs):\n",
    "            total_elapsed = 0\n",
    "            for i in range(reps):\n",
    "                start = perf_counter()\n",
    "                result = fn(*args, **kwargs)\n",
    "                total_elapsed += perf_counter() - start\n",
    "            print(f'Average execution time: {total_elapsed / reps}')\n",
    "            return result\n",
    "\n",
    "        return inner\n",
    "\n",
    "    return timed\n",
    "\n",
    "@outer(10) # outer gets called, and returns a parameterized decorator\n",
    "def my_func():\n",
    "    print('my_func executed')\n",
    "\n",
    "# my_func = outer(10)(my_func) # equivalent to the decorator above\n",
    "my_func()"
   ]
  },
  {
   "cell_type": "code",
   "execution_count": 83,
   "metadata": {},
   "outputs": [
    {
     "name": "stdout",
     "output_type": "stream",
     "text": [
      "running dec\n",
      "after func got decorated\n",
      "running inner\n",
      "running func\n"
     ]
    }
   ],
   "source": [
    "def dec(fn):\n",
    "    print('running dec')\n",
    "\n",
    "    def inner(*args, **kwargs):\n",
    "        print('running inner')\n",
    "        return fn(*args, **kwargs)\n",
    "    \n",
    "    return inner\n",
    "\n",
    "@dec\n",
    "def func():\n",
    "    print('running func')\n",
    "\n",
    "# func = dec(func) # @dec equivalent\n",
    "\n",
    "print('after func got decorated')\n",
    "func()"
   ]
  },
  {
   "cell_type": "markdown",
   "metadata": {},
   "source": [
    "Class instance decorators\n",
    "\n",
    "* Because of class instances can be made callable by implementing `__call__` method, we can decorate a function using a class instance."
   ]
  },
  {
   "cell_type": "code",
   "execution_count": 84,
   "metadata": {},
   "outputs": [
    {
     "name": "stdout",
     "output_type": "stream",
     "text": [
      "decorate func\n",
      "after func decorated\n",
      "decorated function called: a=10, b=20\n",
      "func called\n"
     ]
    }
   ],
   "source": [
    "class DecoratorClass:\n",
    "    def __init__(self, a, b):\n",
    "        self.a = a\n",
    "        self.b = b\n",
    "\n",
    "    def __call__(self, fn):\n",
    "        print(f'decorate {fn.__name__}')\n",
    "        def inner(*args, **kwargs):\n",
    "            print(f'decorated function called: a={self.a}, b={self.b}')\n",
    "            return fn(*args, **kwargs)\n",
    "        return inner\n",
    "\n",
    "@DecoratorClass(10, 20)\n",
    "def func():\n",
    "    print('func called')\n",
    "\n",
    "print('after func decorated')\n",
    "func()"
   ]
  },
  {
   "cell_type": "markdown",
   "metadata": {},
   "source": [
    "Class decorators\n",
    "\n",
    "* Decorators can be classes too.\n",
    "* When we decorate a function with a class, the function is automatically passed as the first argument to the `__init__` method.\n",
    "* The function actually becomes an instance of the class (an instance with the same name as the function)."
   ]
  },
  {
   "cell_type": "code",
   "execution_count": 85,
   "metadata": {},
   "outputs": [
    {
     "name": "stdout",
     "output_type": "stream",
     "text": [
      "decorate func\n",
      "after func decorated\n",
      "decorated func called\n",
      "a=0, b=1, c=2\n"
     ]
    }
   ],
   "source": [
    "class Decorator:\n",
    "    def __init__(self, fn): # cannot parameterized fn\n",
    "        print(f'decorate {fn.__name__}')\n",
    "        self.fn = fn\n",
    "\n",
    "    def __call__(self, *args, **kwargs):\n",
    "        print(f'decorated {self.fn.__name__} called')\n",
    "        return self.fn(*args, **kwargs)\n",
    "    \n",
    "@Decorator\n",
    "def func(a, b=1, *, c):\n",
    "    print(f'{a=}, {b=}, {c=}')\n",
    "\n",
    "print('after func decorated')\n",
    "func(0, c=2)"
   ]
  },
  {
   "cell_type": "markdown",
   "metadata": {},
   "source": [
    "Decorating classes\n",
    "\n",
    "* We can decorate use decorators to decorate classes, just like how we decorate functions."
   ]
  },
  {
   "cell_type": "code",
   "execution_count": 86,
   "metadata": {},
   "outputs": [
    {
     "data": {
      "text/plain": [
       "'Person says Hello world!'"
      ]
     },
     "execution_count": 86,
     "metadata": {},
     "output_type": "execute_result"
    }
   ],
   "source": [
    "def speak_decorator(cls):\n",
    "    cls.speak = lambda self, message: f'{self.__class__.__name__} says {message}'\n",
    "    return cls # the return of cls if not necessary if not using @wrapper syntax or its equivalent\n",
    "\n",
    "@speak_decorator\n",
    "class Person:\n",
    "    pass\n",
    "\n",
    "# Person = speak_decorator(Person) # decorator equivalent\n",
    "\n",
    "p = Person()\n",
    "p.speak('Hello world!')"
   ]
  },
  {
   "cell_type": "code",
   "execution_count": 87,
   "metadata": {},
   "outputs": [
    {
     "name": "stdout",
     "output_type": "stream",
     "text": [
      "Hello there!\n",
      "['time: 2024-01-15 20:54:25.362015+00:00', 'class: Person', 'id: 0x2185dc30170', 'name: John', 'birth_year: 1999']\n"
     ]
    }
   ],
   "source": [
    "import datetime\n",
    "\n",
    "def debug_info(cls):\n",
    "    def info(self):\n",
    "        results = []\n",
    "        results.append(f'time: {datetime.datetime.now(datetime.UTC)}')\n",
    "        results.append(f'class: {self.__class__.__name__}')\n",
    "        results.append(f'id: {hex(id(self))}')\n",
    "        for k, v in vars(self).items():\n",
    "            results.append(f'{k}: {v}')\n",
    "        return results\n",
    "    \n",
    "    cls.debug = info\n",
    "    return cls\n",
    "\n",
    "@debug_info\n",
    "class Person:\n",
    "    def __init__(self, name, birth_year):\n",
    "        self.name = name\n",
    "        self.birth_year = birth_year\n",
    "\n",
    "    def say_hi(self):\n",
    "        return 'Hello there!'\n",
    "    \n",
    "p = Person('John', 1999)\n",
    "print(p.say_hi())\n",
    "print(p.debug())"
   ]
  },
  {
   "cell_type": "code",
   "execution_count": 88,
   "metadata": {},
   "outputs": [
    {
     "name": "stdout",
     "output_type": "stream",
     "text": [
      "10\n"
     ]
    },
    {
     "data": {
      "text/plain": [
       "['time: 2024-01-15 20:54:25.376760+00:00',\n",
       " 'class: Auto',\n",
       " 'id: 0x2185dac6420',\n",
       " 'make: Ford',\n",
       " 'model: Model T',\n",
       " 'year: 1908',\n",
       " 'top_speed: 45',\n",
       " '_speed: 20']"
      ]
     },
     "execution_count": 88,
     "metadata": {},
     "output_type": "execute_result"
    }
   ],
   "source": [
    "@debug_info\n",
    "class Auto:\n",
    "    def __init__(self, make, model, year, top_speed, speed):\n",
    "        self.make = make\n",
    "        self.model = model\n",
    "        self.year = year\n",
    "        self.top_speed = top_speed\n",
    "        self.speed = speed\n",
    "\n",
    "    @property\n",
    "    def speed(self):\n",
    "        return self._speed\n",
    "    \n",
    "    @speed.setter\n",
    "    def speed(self, speed):\n",
    "        if speed > self.top_speed:\n",
    "            raise ValueError('Speed cannot exceed top_speed')\n",
    "        self._speed = speed\n",
    "\n",
    "    def run(self):\n",
    "        print('The car is running')\n",
    "\n",
    "auto = Auto('Ford', 'Model T', 1908, 45, 10)\n",
    "print(auto.speed)\n",
    "# auto.speed = 100 # raise ValueError here\n",
    "auto.speed = 20\n",
    "auto.debug()"
   ]
  },
  {
   "cell_type": "code",
   "execution_count": 89,
   "metadata": {},
   "outputs": [
    {
     "name": "stdout",
     "output_type": "stream",
     "text": [
      "(p1 == p2)=True\n",
      "(p1 != p2)=False\n",
      "(p1 > p2)=False\n",
      "(p1 >= p2)=True\n",
      "(p1 < p2)=False\n",
      "(p1 <= p2)=True\n",
      "(p1 < p3)=True\n",
      "(p1 >= p3)=False\n",
      "(p1 != 1)=True\n"
     ]
    }
   ],
   "source": [
    "def complete_ordering(cls):\n",
    "    if '__eq__' in dir(cls) and '__lt__' in dir(cls):\n",
    "        cls.__le__ = lambda self, other: self < other or self == other\n",
    "        cls.__gt__ = lambda self, other: not (self < other or self == other) # raise TypeError if other of unsupported type\n",
    "        cls.__ge__ = lambda self, other: not (self < other)\n",
    "        cls.__ne__ = lambda self, other: not (self == other)\n",
    "    return cls\n",
    "\n",
    "@complete_ordering\n",
    "class Point:\n",
    "    def __init__(self, x, y):\n",
    "        self.x = x\n",
    "        self.y = y\n",
    "\n",
    "    def __abs__(self):\n",
    "        return (self.x ** 2 + self.y ** 2) ** 0.5\n",
    "    \n",
    "    def __repr__(self):\n",
    "        return f'Point({self.x}, {self.y})'\n",
    "    \n",
    "    def __eq__(self, other):\n",
    "        if isinstance(other, Point):\n",
    "            return self.x == other.x and self.y == other.y\n",
    "        else:\n",
    "            return False\n",
    "        \n",
    "    def __lt__(self, other):\n",
    "        if isinstance(other, Point):\n",
    "            return abs(self) < abs(other)\n",
    "        else:\n",
    "            return NotImplemented\n",
    "\n",
    "p1, p2, p3 = Point(1, 2), Point(1, 2), Point(2, 3)\n",
    "n = 1\n",
    "print(f'{(p1 == p2)=}')\n",
    "print(f'{(p1 != p2)=}')\n",
    "print(f'{(p1 > p2)=}')\n",
    "print(f'{(p1 >= p2)=}')\n",
    "print(f'{(p1 < p2)=}')\n",
    "print(f'{(p1 <= p2)=}')\n",
    "print(f'{(p1 < p3)=}')\n",
    "print(f'{(p1 >= p3)=}')\n",
    "print(f'{(p1 != 1)=}')\n",
    "# print(f'{(p1 < 1)=}') # raise TypeError\n",
    "# print(f'{(p1 > 1)=}')\n",
    "# print(f'{(p1 >= 1)=}')"
   ]
  },
  {
   "cell_type": "code",
   "execution_count": 90,
   "metadata": {},
   "outputs": [
    {
     "name": "stdout",
     "output_type": "stream",
     "text": [
      "(p1 == p2)=True\n",
      "(p1 != p2)=False\n",
      "(p1 > p2)=False\n",
      "(p1 >= p2)=True\n",
      "(p1 < p2)=False\n",
      "(p1 <= p2)=True\n",
      "(p1 < p3)=True\n",
      "(p1 >= p3)=False\n",
      "(p1 != 1)=True\n"
     ]
    }
   ],
   "source": [
    "from functools import total_ordering\n",
    "\n",
    "# Given a class defining one or more rich comparison ordering methods, this class decorator supplies the rest.\n",
    "# The class must define one of __lt__(), __le__(), __gt__(), or __ge__(). In addition, the class should supply an __eq__() method.\n",
    "@total_ordering\n",
    "class Point:\n",
    "    def __init__(self, x, y):\n",
    "        self.x = x\n",
    "        self.y = y\n",
    "\n",
    "    def __abs__(self):\n",
    "        return (self.x ** 2 + self.y ** 2) ** 0.5\n",
    "    \n",
    "    def __repr__(self):\n",
    "        return f'Point({self.x}, {self.y})'\n",
    "    \n",
    "    def __eq__(self, other):\n",
    "        if isinstance(other, Point):\n",
    "            return self.x == other.x and self.y == other.y\n",
    "        else:\n",
    "            return False\n",
    "        \n",
    "    def __lt__(self, other):\n",
    "        if isinstance(other, Point):\n",
    "            return abs(self) < abs(other)\n",
    "        else:\n",
    "            return NotImplemented\n",
    "        \n",
    "p1, p2, p3 = Point(1, 2), Point(1, 2), Point(2, 3)\n",
    "n = 1\n",
    "print(f'{(p1 == p2)=}')\n",
    "print(f'{(p1 != p2)=}')\n",
    "print(f'{(p1 > p2)=}')\n",
    "print(f'{(p1 >= p2)=}')\n",
    "print(f'{(p1 < p2)=}')\n",
    "print(f'{(p1 <= p2)=}')\n",
    "print(f'{(p1 < p3)=}')\n",
    "print(f'{(p1 >= p3)=}')\n",
    "print(f'{(p1 != 1)=}')\n",
    "# print(f'{(p1 < 1)=}') # raise TypeError\n",
    "# print(f'{(p1 > 1)=}')\n",
    "# print(f'{(p1 >= 1)=}')"
   ]
  },
  {
   "cell_type": "markdown",
   "metadata": {},
   "source": [
    "Single-dispatch generic functions\n",
    "\n",
    "* A generic function is composed of multiple functions implementing the same operation for different types.\n",
    "* Which implementation should be used during a call is determined by the dispatch algorithm.\n",
    "* When the implementation is chosen based on the type of a single argument, this is known as single dispatch."
   ]
  },
  {
   "cell_type": "code",
   "execution_count": 91,
   "metadata": {},
   "outputs": [
    {
     "name": "stdout",
     "output_type": "stream",
     "text": [
      "<ul>\n",
      "<li>a</li>\n",
      "<li>1 (<i>0x1</i>)</li>\n",
      "<li>1.20</li>\n",
      "<li>hello<br>\n",
      "world, 1 &gt; 2 != 3</li>\n",
      "<li><ul>\n",
      "<li>True</li>\n",
      "<li>False</li>\n",
      "<li>None</li>\n",
      "</ul></li>\n",
      "<li><ul>\n",
      "<li>1=1</li>\n",
      "<li>2=2</li>\n",
      "<li>3=3</li>\n",
      "</ul></li>\n",
      "<li><ul>\n",
      "<li>z</li>\n",
      "<li>x</li>\n",
      "<li>y</li>\n",
      "</ul></li>\n",
      "</ul>\n"
     ]
    }
   ],
   "source": [
    "from html import escape\n",
    "from decimal import Decimal\n",
    "\n",
    "def html_escape(obj):\n",
    "    return escape(str(obj))\n",
    "\n",
    "def html_int(i):\n",
    "    return f'{i} (<i>{hex(i)}</i>)'\n",
    "\n",
    "def html_real(r):\n",
    "    return f'{r:.2f}'\n",
    "\n",
    "def html_str(s):\n",
    "    return html_escape(s).replace('\\n', '<br>\\n')\n",
    "\n",
    "def html_list(l):\n",
    "    items = (f'<li>{htmlize(item)}</li>' for item in l)\n",
    "    return '<ul>\\n' + '\\n'.join(items) + '\\n</ul>'\n",
    "\n",
    "def html_dict(d):\n",
    "    items = (f'<li>{html_escape(k)}={htmlize(v)}</li>' for k, v in d.items())\n",
    "    return '<ul>\\n' + '\\n'.join(items) + '\\n</ul>'\n",
    "\n",
    "def htmlize(arg):\n",
    "    registry = {\n",
    "        object: html_escape,\n",
    "        int: html_int,\n",
    "        float: html_real,\n",
    "        Decimal: html_real,\n",
    "        str: html_str,\n",
    "        list: html_list,\n",
    "        tuple: html_list,\n",
    "        set: html_list,\n",
    "        dict: html_dict\n",
    "    }\n",
    "    return registry.get(type(arg), registry[object])(arg)\n",
    "\n",
    "print(htmlize(['a', 1, 1.2, 'hello\\nworld, 1 > 2 != 3',\n",
    "               (True, False, None),\n",
    "               {1: '1', 2: '2', 3: '3'},\n",
    "               {'x', 'y', 'z'}]))"
   ]
  },
  {
   "cell_type": "code",
   "execution_count": 92,
   "metadata": {},
   "outputs": [
    {
     "name": "stdout",
     "output_type": "stream",
     "text": [
      "htmlize.__name__='decorated'\n",
      "htmlize.register=<function single_dispatch.<locals>.register at 0x000002185DB6F7E0>\n",
      "I can fly!\n",
      "1 &lt; 100\n",
      "<ul>\n",
      "<li>a</li>\n",
      "<li>b</li>\n",
      "<li>c</li>\n",
      "</ul>\n",
      "<ul>\n",
      "<li>1</li>\n",
      "<li>2</li>\n",
      "<li>3</li>\n",
      "</ul>\n",
      "{<class 'object'>: <function htmlize at 0x000002185DB6EE80>, <class 'list'>: <function html_sequence at 0x000002185DB6FA60>, <class 'tuple'>: <function html_sequence at 0x000002185DB6FA60>, <class 'set'>: <function html_sequence at 0x000002185DB6FA60>}\n",
      "<function htmlize at 0x000002185DB6EE80>\n"
     ]
    }
   ],
   "source": [
    "from html import escape\n",
    "\n",
    "def single_dispatch(fn):\n",
    "    registry = {}\n",
    "    registry[object] = fn\n",
    "\n",
    "    def decorated(arg):\n",
    "        return registry.get(type(arg), registry[object])(arg)\n",
    "\n",
    "    def register(type_):\n",
    "        def inner(fn_extension):\n",
    "            registry[type_] = fn_extension\n",
    "            return fn_extension # just return back the decorated function as it is\n",
    "        return inner\n",
    "\n",
    "    def dispatch(type_):\n",
    "        return registry.get(type_, registry[object])\n",
    "\n",
    "    decorated.register = register\n",
    "    decorated.dispatch = dispatch\n",
    "    decorated.registry = registry\n",
    "    return decorated\n",
    "\n",
    "@single_dispatch\n",
    "def htmlize(obj):\n",
    "    return escape(str(obj))\n",
    "\n",
    "print(f'{htmlize.__name__=}')\n",
    "print(f'{htmlize.register=}')\n",
    "print(htmlize('I can fly!\\n1 < 100'))\n",
    "\n",
    "# register decorator can be stacked because it returns back the decorated function as it is\n",
    "@htmlize.register(set)\n",
    "@htmlize.register(tuple)\n",
    "@htmlize.register(list)\n",
    "def html_sequence(sequence):\n",
    "    items = (f'<li>{htmlize(item)}</li>' for item in sequence)\n",
    "    return '<ul>\\n' + '\\n'.join(items) + '\\n</ul>'\n",
    "\n",
    "print(htmlize(['a', 'b', 'c']))\n",
    "print(htmlize(('1', '2', '3')))\n",
    "print(htmlize.registry)\n",
    "print(htmlize.dispatch(int))"
   ]
  },
  {
   "cell_type": "markdown",
   "metadata": {},
   "source": [
    "`@functools.singledispatch`\n",
    "\n",
    "* To define a generic function, decorate it with the `@singledispatch` decorator\n",
    "* The dispatch happens on the type of the first argument\n",
    "* To add overloaded implementations to the function, use the `register()` attribute of the generic function, which can be used as a decorator\n",
    "* For functions annotated with types, the decorator will infer the type of the first argument automatically\n",
    "* `types.UnionType` and `typing.Union` can also be used\n",
    "* For code which doesn’t use type annotations, the appropriate type argument can be passed explicitly to the decorator itself\n",
    "* To enable registering lambdas and pre-existing functions, the `register()` attribute can also be used in a functional form\n",
    "* The `register()` attribute returns the undecorated function\n",
    "* Where there is no registered implementation for a specific type, its method resolution order is used to find a more generic implementation\n",
    "* If an implementation is registered to an abstract base class, virtual subclasses of the base class will be dispatched to that implementation\n",
    "* To check which implementation the generic function will choose for a given type, use the `dispatch()` attribute\n",
    "* To access all registered implementations, use the read-only `registry` attribute"
   ]
  },
  {
   "cell_type": "markdown",
   "metadata": {},
   "source": [
    "## Tuples as data structures and named tuples"
   ]
  },
  {
   "cell_type": "markdown",
   "metadata": {},
   "source": [
    "### Tuples as data structures\n",
    "\n",
    "* Tuples are immutable sequences, typically used to store collections of heterogeneous data (such as the 2-tuples produced by the `enumerate()` built-in).\n",
    "* Tuples are also used for cases where an immutable sequence of homogeneous data is needed (such as allowing storage in a `set` or `dict` instance).\n",
    "\n",
    "Tuples vs lists vs strings\n",
    "\n",
    "Tuples|Lists|Strings\n",
    "---|---|---\n",
    "containers|containers|containers\n",
    "order matters|order matters|order matters\n",
    "heterogeneous/homogeneous|homogeneous/heterogeneous|homogeneous\n",
    "indexable|indexable|indexable\n",
    "iterable|iterable|iterable\n",
    "immutable|mutable|immutable\n",
    "fixed length|variable length|fixed length\n",
    "fixed order|variable order|fixed order\n",
    "cannot do in-place sorts|can do in-place sort|cannot do in-place order\n",
    "cannot do in-place reverse|can do in-place reverse|cannot do in-place reverse\n",
    "\n",
    "Immutability of tuples\n",
    "\n",
    "* Elements cannot be added or removed\n",
    "* The order of elements cannot be changed\n",
    "* Works well for representing data structures by giving the order/position of the object contained meaning\n",
    "  * `london = ('London', 'UK', 8_780_000)`\n",
    "  * because tuples, strings and integers are immutable, we are guaranteed that the data and data structure for `london` will never change\n",
    "\n",
    "Extracting data from tuples\n",
    "\n",
    "* Since tuples are sequences just like lists and strings, we can retrieve items by index.\n",
    "* We can also use unpacking.\n",
    "\n",
    "Dummy variables\n",
    "\n",
    "* Sometimes, we are only interested in a subset of the data fields in a tuple, not all of them.\n",
    "  * `city, _, population = ('London', 'UK', 8_780_000)`\n",
    "  * `symbol, year, month, day, *_, close = ('DJIA', 2018, 1, 19, 25987.35, 26071.22, 25942.83, 26071.72)`\n",
    "  * `_` is actually a legal variable name, so there's nothing special about it.\n",
    "  * By convention, we use the underscore to indicate this is a variable we don't care about."
   ]
  },
  {
   "cell_type": "code",
   "execution_count": 93,
   "metadata": {},
   "outputs": [
    {
     "name": "stdout",
     "output_type": "stream",
     "text": [
      "38280000\n",
      "38280000\n"
     ]
    }
   ],
   "source": [
    "london = 'London', 'UK', 8780000\n",
    "new_york = 'New York', 'USA', 8500000\n",
    "beijing = 'Beijing', 'China', 21000000\n",
    "cities = [london, new_york, beijing]\n",
    "\n",
    "total = 0\n",
    "# for city in cities:\n",
    "#     total += city[2]\n",
    "for *_, population in cities:\n",
    "    total += population\n",
    "print(total)\n",
    "\n",
    "total = sum(city[2] for city in cities)\n",
    "print(total)"
   ]
  },
  {
   "cell_type": "code",
   "execution_count": 94,
   "metadata": {},
   "outputs": [
    {
     "name": "stdout",
     "output_type": "stream",
     "text": [
      "Pi = 3.104\n",
      "Pi = 3.1148\n",
      "Pi = 3.13596\n",
      "Pi = 3.141556\n"
     ]
    }
   ],
   "source": [
    "# random.uniform(a, b)\n",
    "# Return a random floating point number N such that a <= N <= b for a <= b and b <= N <= a for b < a.\n",
    "from random import uniform\n",
    "\n",
    "def random_shot(radius=1):\n",
    "    random_x = uniform(-radius, radius)\n",
    "    random_y = uniform(-radius, radius)\n",
    "\n",
    "    is_in_circle = random_x ** 2 + random_y ** 2 <= radius ** 2\n",
    "    return random_x, random_y, is_in_circle\n",
    "\n",
    "def in_circle_rate(repetitions):\n",
    "    count = 0\n",
    "    for _ in range(repetitions):\n",
    "        *_, inside = random_shot()\n",
    "        count += inside # bool is indeed subclass of int\n",
    "    return count / repetitions\n",
    "\n",
    "print(f'Pi = {in_circle_rate(1000) * 4}')\n",
    "print(f'Pi = {in_circle_rate(10000) * 4}')\n",
    "print(f'Pi = {in_circle_rate(100000) * 4}')\n",
    "print(f'Pi = {in_circle_rate(1000000) * 4}')"
   ]
  },
  {
   "cell_type": "markdown",
   "metadata": {},
   "source": [
    "### Named tuples\n",
    "\n",
    "* The positions of the objects contained in tuples have meaning as data structure, but this is not very readable nor transparent.\n",
    "* In order to make things clearer for the reader, we might want to approach this using a class instead.\n",
    "* The class approach has some drawbacks.\n",
    "* When your data structure needs to be immutable, hashable, iterable, unpackable, and comparable, then you can use `namedtuple`.\n",
    "* Named tuples assign meaning to each position in a tuple and allow for more readable, self-documenting code. They can be used wherever regular tuples are used, and they add the ability to access fields by name instead of position index.\n",
    "* `namedtuple` is a factory function, which generates a new class inheriting from `tuple`.\n",
    "* `collections.namedtuple(typename, field_names, *, rename=False, defaults=None, module=None)`\n",
    "  * Returns a new tuple subclass named `typename`. The new *subclass* is used to create tuple-like objects that have fields accessible by attribute lookup as well as being indexable and iterable.\n",
    "  * The `field_names` are a sequence of strings such as `['x', 'y']`. Alternatively, `field_names` can be a single string with each fieldname separated by whitespace and / or commas, for example `'x y'` or `'x, y'`.\n",
    "  * Any valid Python identifier may be used for a fieldname except for names starting with an underscore.\n",
    "  * If `rename` is true, invalid fieldnames are automatically replaced with positional names. For example, `['abc', 'def', 'ghi', 'abc']` is converted to `['abc', '_1', 'ghi', '_3']`, eliminating the keyword `def` and the duplicate fieldname `abc`.\n",
    "  * `defaults` can be `None` or an iterable of default values. Since fields with a default value must come after any fields without a default, the defaults are applied to the rightmost parameters. For example, if the fieldnames are `['x', 'y', 'z']` and the defaults are `(1, 2)`, then `x` will be a required argument, `y` will default to `1`, and `z` will default to `2`.\n",
    "  * If `module` is defined, the `__module__` attribute of the named tuple is set to that value.\n",
    "  * The `__new__` method of the generated class uses the field names provided as parameter names.\n",
    "\n",
    "Accessing data in a named tuple\n",
    "\n",
    "* Since named tuples are also regular tuples, we can still handle them just like any other tuples by:\n",
    "  * index\n",
    "  * slice\n",
    "  * iterate\n",
    "  * unpack\n",
    "* In addition, we can also access the data using the field names.\n",
    "* Since namedtuple generated classes inherit from `tuple`, they are therefore immutable.\n",
    "\n",
    "Introspection\n",
    "\n",
    "* We can easily find out the field names in a namedtuple generated class by using the class property `_fields`.\n",
    "* We can see what the code for the generated class is, using the class property `_source` (removed in version 3.7).\n",
    "\n",
    "Extracting named tuple values to a dictionary\n",
    "\n",
    "* Instance method `_asdict()` creates a dictionary of all the named values in the tuple."
   ]
  },
  {
   "cell_type": "code",
   "execution_count": 95,
   "metadata": {},
   "outputs": [
    {
     "name": "stdout",
     "output_type": "stream",
     "text": [
      "p1=Point2D(x=1, y=2)\n",
      "type(p2)=<class '__main__.Point2D'>\n",
      "isinstance(p2, tuple)=True\n",
      "p1.x=1, p1.y=2\n",
      "p2.x=3, p2.y=4\n",
      "p3.x=1, p3.y=2\n",
      "(p1 == p3)=True\n",
      "x=1, y=2\n",
      "p1 dot p2 = 11\n",
      "{'x': 1, 'y': 2}\n",
      "('x', 'y')\n",
      "p1_sliced=(1,)\n",
      "type(p1_sliced)=<class 'tuple'>\n"
     ]
    }
   ],
   "source": [
    "from collections import namedtuple\n",
    "\n",
    "Point2D = namedtuple('Point2D', 'x y')\n",
    "\n",
    "def dot_product(a, b):\n",
    "    return sum(p[0] * p[1] for p in zip(a, b))\n",
    "\n",
    "p1 = Point2D(x=1, y=2)\n",
    "# p1 = Point2D(x=1, y=2, y=3) # SyntaxError: keyword argument repeated: y\n",
    "p2 = Point2D(3, 4)\n",
    "p3 = Point2D(1, 2)\n",
    "print(f'{p1=}')\n",
    "print(f'{type(p2)=}')\n",
    "print(f'{isinstance(p2, tuple)=}')\n",
    "print(f'{p1.x=}, {p1.y=}')\n",
    "print(f'{p2.x=}, {p2.y=}')\n",
    "print(f'{p3.x=}, {p3.y=}')\n",
    "print(f'{(p1 == p3)=}')\n",
    "x, y = p1\n",
    "print(f'{x=}, {y=}')\n",
    "print(f'p1 dot p2 = {dot_product(p1, p2)}')\n",
    "print(p1._asdict())\n",
    "print(Point2D._fields)\n",
    "# print(Point2D._source) # removed in version 3.7\n",
    "p1_sliced = p1[:1]\n",
    "print(f'{p1_sliced=}')\n",
    "print(f'{type(p1_sliced)=}')\n",
    "# print(f'{(p1_sliced._fields)=}') # after slicing it be a normal tuple"
   ]
  },
  {
   "cell_type": "markdown",
   "metadata": {},
   "source": [
    "Modifying and extending named tuples\n",
    "\n",
    "* Named tuples are immutable.\n",
    "* Just like with strings, we have to create a new tuple with the modified values.\n",
    "* The `_replace(**kwargs)` instance method\n",
    "  * It will copy the named tuple into a new one, replacing any values from keyword arguments with specified field names and new values.\n",
    "  * The keyword name must match an existing field name.\n",
    "* Sometimes we want to create a named tuple that extends another named tuple, appending one or more fields.\n",
    "  * We can create a new named tuple by concatenating the existing `_fields` with new field names, and then generate a new class using `namedtuple`.\n",
    "  * We can use the class method `_make(iterable)` to make a new instance from an existing sequence or iterable."
   ]
  },
  {
   "cell_type": "code",
   "execution_count": 96,
   "metadata": {},
   "outputs": [
    {
     "name": "stdout",
     "output_type": "stream",
     "text": [
      "p1=Point2D(x=1, y=2) @ 0x2185db38480\n",
      "p1=Point2D(x=1, y=3) @ 0x2185db2b1c0\n",
      "p1=Point2D(x=1, y=4) @ 0x2185db38480\n",
      "p2=Point3D(x=1, y=4, z=5) @ 0x2185db968e0\n",
      "p3=Point3D(x=1, y=4, z=6) @ 0x2185db96980\n"
     ]
    }
   ],
   "source": [
    "from collections import namedtuple\n",
    "\n",
    "Point2D = namedtuple('Point2D', 'x y')\n",
    "p1 = Point2D(1, 2)\n",
    "print(f'{p1=} @ {hex(id(p1))}')\n",
    "p1 = Point2D(p1.x, y=3)\n",
    "print(f'{p1=} @ {hex(id(p1))}')\n",
    "p1 = p1._replace(y=4) # create a new instance by replacing some values with keyword arguments\n",
    "print(f'{p1=} @ {hex(id(p1))}')\n",
    "\n",
    "Point3D = namedtuple('Point3D', Point2D._fields + ('z',)) # extend named tuple\n",
    "p2 = Point3D._make(p1 + (5,))\n",
    "print(f'{p2=} @ {hex(id(p2))}')\n",
    "p3 = Point3D(*p1, 6)\n",
    "print(f'{p3=} @ {hex(id(p3))}')"
   ]
  },
  {
   "cell_type": "markdown",
   "metadata": {},
   "source": [
    "Docstrings and default values of named tuples\n",
    "\n",
    "* When we create a named tuple class, default docstrings are created.\n",
    "  * `Point2D.__doc__`: Point2D(x, y)\n",
    "  * `Point2D.x.__doc__`: Alias for field number 0\n",
    "  * `Point2D.y.__doc__`: Alias for field number 1\n",
    "* We can override the docstrings simply by specifying values for the `__doc__` properties.\n",
    "* The `defaults` parameter (added in version 3.7) of `namedtuple` can be used to set default values for the attributes of the named tuple class.\n",
    "* `defaults` can be `None` or an iterable of default values.\n",
    "* Before version 3.7, when there was no `defaults` parameter, the default values are set by:\n",
    "  * using a prototype, i.e. an instance of the named tuple with default values , and then create any other instances using `prototype._replace`\n",
    "  * using the `__defaults__` property of functions to directly set the defaults of the named tuple constructor (the `__new__` method), and you don't need to specify a default for every field"
   ]
  },
  {
   "cell_type": "code",
   "execution_count": 97,
   "metadata": {},
   "outputs": [
    {
     "name": "stdout",
     "output_type": "stream",
     "text": [
      "Point2D(x, y)\n",
      "Alias for field number 0\n",
      "Alias for field number 1\n"
     ]
    }
   ],
   "source": [
    "from collections import namedtuple\n",
    "\n",
    "Point2D = namedtuple('Point2D', 'x y')\n",
    "p1 = Point2D(1, 1)\n",
    "print(Point2D.__doc__)\n",
    "print(Point2D.x.__doc__)\n",
    "print(Point2D.y.__doc__)"
   ]
  },
  {
   "cell_type": "code",
   "execution_count": 98,
   "metadata": {},
   "outputs": [
    {
     "name": "stdout",
     "output_type": "stream",
     "text": [
      "Vector2D(x1=1, y1=1, x2=2, y2=2, origin_x=0, origin_y=0)\n",
      "Vector2D(x1=3, y1=3, x2=4, y2=4, origin_x=10, origin_y=10)\n"
     ]
    }
   ],
   "source": [
    "from collections import namedtuple\n",
    "\n",
    "Vector2D = namedtuple('Vector2D', 'x1 y1 x2 y2 origin_x origin_y')\n",
    "Vector2D.__new__.__defaults__ = (0, 0)\n",
    "v1 = Vector2D(1, 1, 2, 2)\n",
    "print(v1)\n",
    "\n",
    "Vector2D = namedtuple('Vector2D', 'x1 y1 x2 y2 origin_x origin_y', defaults=(10, 10))\n",
    "v2 = Vector2D(3, 3, 4, 4)\n",
    "print(v2)"
   ]
  },
  {
   "cell_type": "code",
   "execution_count": 99,
   "metadata": {},
   "outputs": [
    {
     "name": "stdout",
     "output_type": "stream",
     "text": [
      "Color(red=48, green=229, blue=30, alpha=0.24)\n",
      "Color(red=239, green=72, blue=254, alpha=0.2)\n",
      "Color(red=125, green=154, blue=42, alpha=0.06)\n"
     ]
    }
   ],
   "source": [
    "from random import randint, random\n",
    "from collections import namedtuple\n",
    "\n",
    "Color = namedtuple('Color', 'red green blue alpha', defaults=(0, 0, 0, 0))\n",
    "\n",
    "def random_color():\n",
    "    rgb = (randint(0, 255) for _ in range(3))\n",
    "    a = round(random(), 2)\n",
    "    return Color(*rgb, a)\n",
    "\n",
    "c1 = random_color()\n",
    "c2 = random_color()\n",
    "c3 = random_color()\n",
    "print(c1)\n",
    "print(c2)\n",
    "print(c3)"
   ]
  },
  {
   "cell_type": "code",
   "execution_count": 100,
   "metadata": {},
   "outputs": [
    {
     "name": "stdout",
     "output_type": "stream",
     "text": [
      "Data(key1=1, key2=2, key3=3)\n",
      "{'key1': 1, 'key2': 2, 'key3': 3}\n",
      "getattr(data, key_name)=1\n",
      "data.key1=1\n"
     ]
    }
   ],
   "source": [
    "# alternative to dictionaries\n",
    "\n",
    "from collections import namedtuple\n",
    "\n",
    "data_dict = {'key1': 1, 'key2': 2, 'key3': 3}\n",
    "\n",
    "Data = namedtuple('Data', data_dict.keys())\n",
    "data = Data(**data_dict)\n",
    "print(data)\n",
    "print(data._asdict())\n",
    "key_name = 'key1'\n",
    "print(f'{getattr(data, key_name)=}')\n",
    "print(f'{data.key1=}')"
   ]
  },
  {
   "cell_type": "code",
   "execution_count": 101,
   "metadata": {},
   "outputs": [
    {
     "name": "stdout",
     "output_type": "stream",
     "text": [
      "{'key3', 'key2', 'key1'}\n",
      "[Data(key1=1, key2=2, key3=None), Data(key1=3, key2=4, key3=None), Data(key1=5, key2=6, key3=7), Data(key1=None, key2=100, key3=None)]\n"
     ]
    }
   ],
   "source": [
    "# convert a list of dictionaries to a list of named tuples\n",
    "\n",
    "from collections import namedtuple\n",
    "\n",
    "data_dicts = [\n",
    "    {'key1': 1, 'key2': 2},\n",
    "    {'key1': 3, 'key2': 4},\n",
    "    {'key1': 5, 'key2': 6, 'key3': 7},\n",
    "    {'key2': 100}\n",
    "]\n",
    "\n",
    "# keys = set(key for key in data_dict for data_dict in data_dicts)\n",
    "# keys = {key for key in data_dict for data_dict in data_dicts}\n",
    "keys = {key for data_dict in data_dicts for key in data_dict}\n",
    "print(keys)\n",
    "Data = namedtuple('Data', sorted(keys), defaults=(None for _ in keys))\n",
    "data_list = [Data(**data_dict) for data_dict in data_dicts]\n",
    "print(data_list)"
   ]
  },
  {
   "cell_type": "code",
   "execution_count": 102,
   "metadata": {},
   "outputs": [
    {
     "name": "stdout",
     "output_type": "stream",
     "text": [
      "[Data(key1=1, key2=2, key3=None), Data(key1=3, key2=4, key3=None), Data(key1=5, key2=6, key3=7), Data(key1=None, key2=100, key3=None)]\n"
     ]
    }
   ],
   "source": [
    "from collections import namedtuple\n",
    "\n",
    "def tuplize_dicts(dicts, struct_name=None):\n",
    "    struct_name = struct_name or 'Struct'\n",
    "    keys = {key for dict_ in dicts for key in dict_}\n",
    "    Struct = namedtuple(struct_name, sorted(keys), rename=True, defaults=(None for _ in keys))\n",
    "    return [Struct(**dict_) for dict_ in dicts]\n",
    "\n",
    "data_dicts = [\n",
    "    {'key1': 1, 'key2': 2},\n",
    "    {'key1': 3, 'key2': 4},\n",
    "    {'key1': 5, 'key2': 6, 'key3': 7},\n",
    "    {'key2': 100}\n",
    "]\n",
    "\n",
    "data_list = tuplize_dicts(data_dicts, 'Data')\n",
    "print(data_list)"
   ]
  },
  {
   "cell_type": "markdown",
   "metadata": {},
   "source": [
    "## Modules, packages and namespaces"
   ]
  },
  {
   "cell_type": "markdown",
   "metadata": {},
   "source": [
    "### What is a module\n",
    "\n",
    "* A module is a file containing Python definitions and statements.\n",
    "* The file name is the module name with the suffix `.py` appended. Within a module, the module’s name (as a string) is available as the value of the global variable `__name__`.\n",
    "* A module can contain executable statements as well as function definitions. These statements are intended to initialize the module. They are executed only the first time the module name is encountered in an import statement.\n",
    "* Each module has its own private namespace, which is used as the global namespace by all functions defined in the module. Thus, the author of a module can use global variables in the module without worrying about accidental clashes with a user’s global variables. On the other hand, if you know what you are doing you can touch a module’s global variables with the same notation used to refer to its functions, `modname.itemname`.\n",
    "* A module can be imported into other modules or into the main module (the collection of variables that you have access to in a script executed at the top level and in calculator mode).\n",
    "  * It is customary but not required to place all `import` statements at the beginning of a module (or script, for that matter).\n",
    "  * The imported module names, if placed at the top level of a module (outside any functions or classes), are added to the module’s global namespace.\n",
    "* There is a variant of the import statement that imports names from a module directly into the importing module’s namespace: `from modname import defname`\n",
    "* There is even a variant to import all names that a module defines: `from modname import *`\n",
    "  * This imports all names except those beginning with an underscore (`_`). In most cases Python programmers do not use this facility since it introduces an unknown set of names into the interpreter, possibly hiding some things you have already defined.\n",
    "* If the module name is followed by `as`, then the name following `as` is bound directly to the imported module.\n",
    "* For efficiency reasons, each module is only imported once per interpreter session. Therefore, if you change your modules, you must restart the interpreter -- or, if it’s just one module you want to test interactively, use `importlib.reload()`, e.g. `import importlib; importlib.reload(modulename)`."
   ]
  },
  {
   "cell_type": "code",
   "execution_count": 103,
   "metadata": {},
   "outputs": [
    {
     "name": "stdout",
     "output_type": "stream",
     "text": [
      "<module 'math' (built-in)>\n",
      "<module 'fractions' from 'c:\\\\Users\\\\FREEDEMPIRE-XL\\\\AppData\\\\Local\\\\Programs\\\\Python\\\\Python312\\\\Lib\\\\fractions.py'>\n",
      "<module 'sys' (built-in)>\n",
      "<module 'types' from 'c:\\\\Users\\\\FREEDEMPIRE-XL\\\\AppData\\\\Local\\\\Programs\\\\Python\\\\Python312\\\\Lib\\\\types.py'>\n",
      "<class 'module'>\n",
      "{'__name__': 'math', '__doc__': 'This module provides access to the mathematical functions\\ndefined by the C standard.', '__package__': '', '__loader__': <class '_frozen_importlib.BuiltinImporter'>, '__spec__': ModuleSpec(name='math', loader=<class '_frozen_importlib.BuiltinImporter'>, origin='built-in'), 'acos': <built-in function acos>, 'acosh': <built-in function acosh>, 'asin': <built-in function asin>, 'asinh': <built-in function asinh>, 'atan': <built-in function atan>, 'atan2': <built-in function atan2>, 'atanh': <built-in function atanh>, 'cbrt': <built-in function cbrt>, 'ceil': <built-in function ceil>, 'copysign': <built-in function copysign>, 'cos': <built-in function cos>, 'cosh': <built-in function cosh>, 'degrees': <built-in function degrees>, 'dist': <built-in function dist>, 'erf': <built-in function erf>, 'erfc': <built-in function erfc>, 'exp': <built-in function exp>, 'exp2': <built-in function exp2>, 'expm1': <built-in function expm1>, 'fabs': <built-in function fabs>, 'factorial': <built-in function factorial>, 'floor': <built-in function floor>, 'fmod': <built-in function fmod>, 'frexp': <built-in function frexp>, 'fsum': <built-in function fsum>, 'gamma': <built-in function gamma>, 'gcd': <built-in function gcd>, 'hypot': <built-in function hypot>, 'isclose': <built-in function isclose>, 'isfinite': <built-in function isfinite>, 'isinf': <built-in function isinf>, 'isnan': <built-in function isnan>, 'isqrt': <built-in function isqrt>, 'lcm': <built-in function lcm>, 'ldexp': <built-in function ldexp>, 'lgamma': <built-in function lgamma>, 'log': <built-in function log>, 'log1p': <built-in function log1p>, 'log10': <built-in function log10>, 'log2': <built-in function log2>, 'modf': <built-in function modf>, 'pow': <built-in function pow>, 'radians': <built-in function radians>, 'remainder': <built-in function remainder>, 'sin': <built-in function sin>, 'sinh': <built-in function sinh>, 'sqrt': <built-in function sqrt>, 'tan': <built-in function tan>, 'tanh': <built-in function tanh>, 'sumprod': <built-in function sumprod>, 'trunc': <built-in function trunc>, 'prod': <built-in function prod>, 'perm': <built-in function perm>, 'comb': <built-in function comb>, 'nextafter': <built-in function nextafter>, 'ulp': <built-in function ulp>, 'pi': 3.141592653589793, 'e': 2.718281828459045, 'tau': 6.283185307179586, 'inf': inf, 'nan': nan}\n",
      "['__doc__', '__loader__', '__name__', '__package__', '__spec__', 'acos', 'acosh', 'asin', 'asinh', 'atan', 'atan2', 'atanh', 'cbrt', 'ceil', 'comb', 'copysign', 'cos', 'cosh', 'degrees', 'dist', 'e', 'erf', 'erfc', 'exp', 'exp2', 'expm1', 'fabs', 'factorial', 'floor', 'fmod', 'frexp', 'fsum', 'gamma', 'gcd', 'hypot', 'inf', 'isclose', 'isfinite', 'isinf', 'isnan', 'isqrt', 'lcm', 'ldexp', 'lgamma', 'log', 'log10', 'log1p', 'log2', 'modf', 'nan', 'nextafter', 'perm', 'pi', 'pow', 'prod', 'radians', 'remainder', 'sin', 'sinh', 'sqrt', 'sumprod', 'tan', 'tanh', 'tau', 'trunc', 'ulp']\n",
      "True\n",
      "3.141592653589793\n",
      "3.141592653589793\n",
      "{'__name__': '__main__', '__doc__': 'Automatically created module for IPython interactive environment', '__package__': None, '__loader__': None, '__spec__': None, '__builtin__': <module 'builtins' (built-in)>, '__builtins__': <module 'builtins' (built-in)>, '_ih': ['', 'import this', 'my_list = [\\n    1, # item 1\\n    2, # item 2\\n    3, # item 3\\n]\\n\\ndef my_func(\\n    a,\\n    b, # comment\\n):\\n    print(a, b)\\n\\nprint(my_list)\\nmy_func(10, #comment\\n        20)', \"a = 1\\nb = 2\\nc = 3\\nif a < b \\\\\\n    and b < c \\\\\\n    and a < c:\\n    print('yes')\", \"class Rectangle:\\n    def __init__(self, width, height):\\n        self.width = width # this actually calls the setter of width\\n        self.height = height\\n\\n    @property\\n    def width(self):\\n        return self._width\\n    \\n    @width.setter\\n    def width(self, width):\\n        if width > 0:\\n            self._width = width\\n        else:\\n            raise ValueError('Width should be greater than 0.')\\n        \\n    @property\\n    def height(self):\\n        return self._height\\n    \\n    @height.setter\\n    def height(self, height):\\n        if height > 0:\\n            self._height = height\\n        else:\\n            raise ValueError('Height should be greater than 0.')\\n        \\n    def perimeter(self):\\n        return (self._width + self._height) * 2\\n    \\n    def area(self):\\n        return self._width * self._height\\n    \\n    def __repr__(self):\\n        return f'Rectangle({self._width}, {self._height})'\\n    \\n    def __str__(self):\\n        return f'Rectangle: width {self._width}, height {self._height}'\\n    \\n    def __eq__(self, other):\\n        if isinstance(other, type(self)):\\n        # if issubclass(type(other), type(self)):\\n            return self._width == other._width and self._height == other._height\\n        else:\\n            return False\\n        \\n    def __gt__(self, other):\\n        if issubclass(type(other), type(self)):\\n            return self.area() > other.area()\\n        else:\\n            return NotImplemented\\n        \\n    def __ge__(self, other):\\n        if issubclass(type(other), type(self)):\\n            return self.area() >= other.area()\\n        else:\\n            return NotImplemented\\n        \\nrect1 = Rectangle(10, 5)\\nprint(rect1)\\nprint(repr(rect1))\\nrect1.width = 20\\nprint(f'width: {rect1.width}, height: {rect1.height}')\\nprint(f'Perimeter: {rect1.perimeter()}')\\nprint(f'Area: {rect1.area()}')\\n# rect1.width = 0\\n\\n# rect2 = Rectangle(0, 5)\\nrect2 = Rectangle(20, 5)\\nprint(rect1 == rect2)\\n\\nrect3 = Rectangle(10, 5)\\nprint(f'{rect2.area()=}, {rect3.area()=}')\\nprint('rect2 == rect3:', rect2 == rect3)\\nprint('rect2 != rect3:', rect2 != rect3)\\nprint('rect2 > rect3:', rect2 > rect3)\\nprint('rect2 >= rect3:', rect2 >= rect3)\\nprint('rect2 < rect3:', rect2 < rect3)\\nprint('rect2 == 3:', rect2 == 3)\\n# print('rect2 > 3:', rect2 > 3)\", 'my_var = 10\\nprint(my_var)\\nprint(id(my_var))\\nprint(hex(id(my_var)))', \"import sys\\nimport ctypes\\n\\nmy_list = [1, 2, 3]\\naddress_my_list = id(my_list)\\nmy_list2 = my_list\\nprint('id(my_list) == id(my_list2):', address_my_list == id(my_list2))\\n\\nprint(f'{sys.getrefcount(my_list)=}')\\nprint(f'{ctypes.c_long.from_address(address_my_list).value=}')\", \"import ctypes\\nimport gc\\n\\ndef get_ref_count(address):\\n    return ctypes.c_long.from_address(address).value\\n\\ndef check_obj_by_address(address):\\n    for obj in gc.get_objects():\\n        if id(obj) == address:\\n            return 'Object exists'\\n    return 'Obj not found'\\n\\nclass A:\\n    def __init__(self):\\n        self.b = B(self)\\n        print(f'A: self={id(self)}, b={id(self.b)}')\\n\\nclass B:\\n    def __init__(self, a):\\n        self.a = a\\n        print(f'B: self={id(self)}, a={id(self.a)}')\\n\\ngc.disable()\\n\\na = A()\\naddress_a = id(a)\\naddress_b = id(a.b)\\nprint('a reference count:', get_ref_count(address_a))\\nprint('b reference count:', get_ref_count(address_b))\\nprint('a:', check_obj_by_address(address_a))\\nprint('b:', check_obj_by_address(address_b))\\n\\nprint('\\\\nRemove variable a')\\na = None\\nprint('a reference count:', get_ref_count(address_a))\\nprint('b reference count:', get_ref_count(address_b))\\nprint('a:', check_obj_by_address(address_a))\\nprint('b:', check_obj_by_address(address_b))\\n\\nprint('\\\\nTurn on gc')\\ngc.collect()\\nprint('a reference count:', get_ref_count(address_a))\\nprint('b reference count:', get_ref_count(address_b))\\nprint('a:', check_obj_by_address(address_a))\\nprint('b:', check_obj_by_address(address_b))\", \"a = 10\\nprint(f'{id(a)=}')\\na += 1\\nprint(f'{id(a)=}')\", \"t = ([1, 2], [3, 4])\\nprint(f'{t=}, {id(t)=}')\\nt[0].append(5)\\nprint(f'{t=}, {id(t)=}')\", 'a = 10\\nb = 10\\nid(a) == id(b)', \"s1 = 'hello'\\ns2 = 'hello'\\nid(s1) == id(s2)\", 'list1 = [1, 2, 3]\\nlist2 = [1, 2, 3]\\nid(list1) == id(list2)', \"a = 10\\nb = 10\\nprint(f'{id(a)=}, {id(b)=}')\\nprint('a is b:', a is b)\\n\\na = 257\\nb = 257\\nprint(f'{id(a)=}, {id(b)=}')\\nprint('a is b:', a is b)\", \"import sys\\n\\na = 'hello'\\nb = 'hello'\\nprint(f'{id(a)=}, {id(b)=}')\\nprint('a is b:', a is b)\\n\\na = 'hello world'\\nb = 'hello world'\\nprint(f'{id(a)=}, {id(b)=}')\\nprint('a is b:', a is b)\\n\\na = sys.intern('the quick brown fox')\\nb = sys.intern('the quick brown fox')\\nc = 'the quick brown fox'\\nprint(f'{id(a)=}, {id(b)=}, {id(c)=}')\\nprint('a is b:', a is b)\\nprint('a is c:', a is c)\", \"from sys import intern\\nfrom time import perf_counter\\n\\ndef compare_using_equals(n):\\n    a = 'a very long string that is not automatically interned' * 200\\n    b = 'a very long string that is not automatically interned' * 200\\n    print('a is b:', a is b)\\n    for _ in range(n):\\n        if a == b:\\n            pass\\n\\ndef compare_using_is(n):\\n    a = intern('a very long string that is not automatically interned' * 200)\\n    b = intern('a very long string that is not automatically interned' * 200)\\n    print('a is b:', a is b)\\n    for _ in range(n):\\n        if a is b:\\n            pass\\n\\nstart = perf_counter()\\ncompare_using_equals(10000000)\\nend = perf_counter()\\nprint('Equals:', end - start)\\n\\nstart = perf_counter()\\ncompare_using_is(10000000)\\nend = perf_counter()\\nprint('Is:', end - start)\", \"def my_func():\\n    a = 24 * 60\\n    b = (1, 2) * 5\\n    c = 'ab' * 10\\n    d = 'abc' * 7\\n    e = ['1', '2'] * 3\\n\\nmy_func.__code__.co_consts\", 'def my_func():\\n    for e in [1, 2, 3]:\\n        pass\\n\\nmy_func.__code__.co_consts', \"import string\\nimport time\\n\\nchar_tuple = tuple(string.ascii_letters)\\nchar_set = set(string.ascii_letters)\\n\\ndef membership_test(n, container):\\n    for _ in range(n):\\n        if 'z' in container:\\n            pass\\n\\nn = 10000000\\nstart = time.perf_counter()\\nmembership_test(n, char_tuple)\\nend = time.perf_counter()\\nprint('Tuple:', end - start)\\n\\nstart = time.perf_counter()\\nmembership_test(n, char_set)\\nend = time.perf_counter()\\nprint('Set:', end - start)\", \"import sys\\n\\nprint(f'{type(1)=}')\\nprint(f'{sys.getsizeof(1)=}', 'bytes')\\nprint(f'{sys.getsizeof(0)=}', 'bytes')\", \"print('10 / 2 =', 10 / 2)\\nprint('10 // 3 =', 10 // 3)\\nprint('10 % 3 =', 10 % 3)\\nprint('10 // -3 =', 10 // -3)\\nprint('10 % -3 =', 10 % -3)\\nprint('-10 // 3 =', -10 // 3)\\nprint('-10 % 3 =', -10 % 3)\\nprint('-10 // -3 =', -10 // -3)\\nprint('-10 % -3 =', -10 % -3)\", 'from decimal import Decimal\\n\\nprint(f\\'{int()=}\\')\\nprint(f\\'{int(10)=}\\')\\nprint(f\\'{int(10.1)=}\\')\\nprint(f\\'{int(Decimal(\"10.1\"))=}\\')\\n# print(f\\'{int(\"10.1\")=}\\')\\nprint(f\\'{int(\"10\")=}\\')\\nprint(f\\'{int(\"010\")=}\\')\\n# print(f\\'{int(\"010\", 0)=}\\')\\nprint(f\\'{int(\"010\", 2)=}\\')\\nprint(f\\'{int(\"0b10\", 0)=}\\')', 'import string\\n\\ndef rebase(number: int, base: int):\\n    \"\"\"Rebase base 10 integer number to the designated base\"\"\"\\n    if number == 0:\\n        return \\'0\\'\\n    if base < 2 or base > 36:\\n        raise ValueError(\\'Invalid base: 2 <= base <= 36\\')\\n    \\n    base_letters = string.digits + string.ascii_lowercase\\n\\n    # if number < 0:\\n    #     sign = \\'-\\'\\n    #     number = abs(number)\\n    # else:\\n    #     sign = \\'\\'\\n    number, sign = (number, \\'\\') if number > 0 else (-number, \\'-\\')\\n    \\n    rebased = \\'\\'\\n\\n    while number > 0:\\n        rebased = base_letters[number % base] + rebased\\n        number = number // base\\n        # number, mod = divmod(number, base)\\n        # rebased = base_letters[mod] + rebased\\n\\n    return sign + rebased\\n\\nprint(f\\'{rebase(0, 2)=}\\')\\nprint(f\\'{rebase(10, 2)=}\\')\\nprint(f\\'{rebase(-10, 2)=}\\')\\nprint(f\\'{rebase(9, 3)=}\\')\\nprint(f\\'{rebase(-106, 16)=}\\')\\nprint(f\\'{rebase(1485, 16)=}\\')\\nprint(f\\'{rebase(100, 36)=}\\')\\n# print(f\\'{rebase(5, 1)=}\\')', 'from fractions import Fraction\\n\\nprint(f\\'{Fraction()=}\\')\\nprint(f\\'{Fraction(1, 10)=}\\')\\nprint(f\\'{Fraction(0.1)=}\\') # using float is meaningless, as it may not have an exact representation in base 2\\nprint(f\\'{Fraction(\"0.1\")=}\\')\\nprint(\\'Fraction(0.1) == Fraction(1, 10):\\', Fraction(0.1) == Fraction(1, 10))\\nprint(\\'Fraction(\"0.1\") == Fraction(1, 10):\\', Fraction(\\'0.1\\') == Fraction(1, 10))\\nprint(f\\'{Fraction(\"22/7\")=}\\')\\n\\nprint(Fraction(1, 2) + Fraction(1, 3))\\n\\nx = Fraction(7, 22)\\nprint(f\\'{x.numerator=}\\')\\nprint(f\\'{x.denominator=}\\')\\nx = Fraction(7, -22)\\nprint(f\\'{x.numerator=}\\')\\nprint(f\\'{x.denominator=}\\')', 'import math\\nfrom fractions import Fraction\\n\\nx = Fraction(math.pi)\\nprint(x)\\nprint(x.limit_denominator())\\nprint(x.limit_denominator(10))\\nprint(x.limit_denominator(100))\\nprint(x.limit_denominator(10000))', \"print('\\\\nFloats may not have exact representations in computer:')\\nprint('0.1:', f'{0.1:.25f}')\\nprint('0.1 + 0.1 + 0.1 == 0.3:', 0.1 + 0.1 + 0.1 == 0.3)\\n\\nprint('\\\\nBecause of the inexact internal representation, the result of round() may also be surprising.')\\nprint(f'{round(1.25, 1)=}')\\nprint(f'{round(1.225, 2)=}')\", \"import sys\\nimport math\\n\\nx = 0.1 + 0.1 + 0.1\\ny = 0.3\\nepsilon = sys.float_info.epsilon\\n\\nprint(f'{x=}, {y=}')\\nprint('x == y:', x == y)\\nprint('x is close y:', math.isclose(x, y, rel_tol=epsilon, abs_tol=epsilon))\", 'import math\\n\\ndef traditional_round(f: float):\\n    \"\"\"Round away from zero\"\"\"\\n    return int(f + math.copysign(0.5, f))\\n\\nf = -10.5\\nprint(f\\'{f=}\\')\\nprint(f\\'{round(f)=}\\')\\nprint(f\\'{traditional_round(f)=}\\')\\n\\nf = -10.6\\nprint(f\\'{f=}\\')\\nprint(f\\'{round(f)=}\\')\\nprint(f\\'{traditional_round(f)=}\\')', \"import decimal\\nfrom decimal import Decimal\\n\\nctx = decimal.getcontext()\\nprint(ctx)\\nprint(f'{ctx.prec=}')\\nprint(f'{ctx.rounding=}')\\n\\nwith decimal.localcontext() as ctx:\\n    ctx.rounding = decimal.ROUND_HALF_UP\\n    print('local context:', ctx)\\n    print('getcontext:', decimal.getcontext()) # getcontext will actually get local context\\n    print(f'inside: {round(Decimal('1.25'), 1)=}')\\n\\nprint(f'outside: {round(Decimal('1.25'), 1)=}')\", 'from decimal import Decimal\\n\\nprint(f\\'{Decimal(1)=}\\')\\nprint(f\\'{Decimal(3.14)=}\\')\\nprint(f\\'{Decimal(\"3.14\")=}\\')\\nprint(f\\'{Decimal((1, (3, 1, 4), -2))=}\\')', \"import decimal\\nfrom decimal import Decimal\\n\\ndecimal.getcontext().prec = 2\\n\\na = Decimal('0.12345')\\nb = Decimal('0.12345')\\nc = a + b\\nprint(f'{a=}, {b=}')\\nprint('a + b =', c)\\nprint(f'{c=}') # the actual value of c has been permanently affected by precision\", \"import math\\nimport decimal\\nfrom decimal import Decimal\\n\\nx = 0.01\\nx_dec = Decimal('0.01')\\n\\nroot = math.sqrt(x)\\nroot_mixed = math.sqrt(x_dec)\\nroot_dec = x_dec.sqrt()\\n\\nprint('root:', f'{root:.28f}')\\nprint('root_mixed:', f'{root_mixed:.28f}')\\nprint('root_dec:', f'{root_dec:.28f}')\\n\\nprint('\\\\nquantize method:')\\nprint(Decimal('7.325').quantize(Decimal('0.1'), rounding=decimal.ROUND_DOWN))\\nprint(Decimal('7.325').quantize(Decimal('0.1'), rounding=decimal.ROUND_UP))\\nprint(Decimal('7.325').quantize(Decimal('1'), rounding=decimal.ROUND_UP))\\nprint(Decimal('7.325').quantize(Decimal('1.'), rounding=decimal.ROUND_UP))\\nprint(Decimal('7.325').quantize(Decimal(1), rounding=decimal.ROUND_UP))\", \"# Euler's identity\\n# e^(iπ) + 1 = 0\\n\\nimport cmath\\nimport math\\nimport sys\\n\\nepsilon = sys.float_info.epsilon\\n\\nprint('e^(iπ) + 1 = 0:', cmath.exp(1j * cmath.pi + 1) == 0)\\nprint('e^(iπ) + 1 is close 0:', cmath.isclose(cmath.exp(1j * cmath.pi) + 1, 0, rel_tol=epsilon, abs_tol=epsilon))\\n\\nprint(f'{cmath.rect(2 ** 0.5, cmath.pi / 4)=}')\\nprint('math.pi is cmath.pi:', math.pi is cmath.pi)\\nprint('math.pi == cmath.pi:', math.pi == cmath.pi)\", \"print('bool is subclass of int:', issubclass(bool, int))\\nprint('True is instance of bool:', isinstance(True, bool))\\nprint('False is instance of bool:', isinstance(False, bool))\\nprint(f'{int(True)=}')\\nprint(f'{int(False)=}')\\nprint('True == 1:', True == 1)\\nprint('False == 0:', False == 0)\\nprint('True is 1:', True is 1)\\nprint('True + True ==', True + True)\\nprint('True > False:', True > False)\\nprint('(1 == 2) == False:', (1 == 2) == False)\\nprint('(1 == 2) == 0:', (1 == 2) == 0)\\nprint('-True =', -True)\", \"a = [1, 2, 3]\\n\\nif a: # work the same way as the code below but more concise\\n# if a is not None and len(a) > 0:\\n    print(a[0])\\nelse:\\n    print('Nothing to see here...')\", \"def get_first_letter(s):\\n    # if s:\\n    #     return s[0]\\n    # else:\\n    #     return ''\\n    return s and s[0] or ''\\n\\ns1 = None\\ns2 = ''\\ns3 = 'abc'\\n\\nprint(f'{get_first_letter(s1)=}')\\nprint(f'{get_first_letter(s2)=}')\\nprint(f'{get_first_letter(s3)=}')\", 'from fractions import Fraction\\nfrom decimal import Decimal\\n\\nprint(\\'1 == 1.0:\\', 1 == 1.0)\\nprint(\\'1.0 == Decimal(\"1.0\"):\\', 1.0 == Decimal(\"1.0\"))\\nprint(\\'1 == Fraction(3, 3):\\', 1 == Fraction(3, 3))\\nprint(\\'0.1 == Decimal(\"0.1\"):\\', 0.1 == Decimal(\"0.1\")) # floats representation issue\\nprint(\\'4 == 4 + 0j:\\', 4 == 4 + 0j)\\nprint(\\'3 < 2 < 4 / 0:\\', 3 < 2 < 4 / 0) # short-circuited', \"def my_func(a, b=20, c=30):\\n    print(f'{a=}, {b=}, {c=}')\\n\\nmy_func(1, 2, 3)\\nmy_func(1, 2)\\nmy_func(b=20, a=10)\\nmy_func(10, c=40)\", \"# parentheses are not necessary when defining a tuple, except for empty tuples\\na = (1, 2)\\nprint(type(a))\\na = 1, 2\\nprint(type(a))\\na = (1) # int\\nprint(type(a))\\na = (1,)\\nprint(type(a))\\na = 1,\\nprint(type(a))\\na = ()\\nprint(type(a))\\n\\na, b, c = 'str'\\nprint(f'{a=}, {b=}, {c=}')\", \"s1 = set('python')\\ns2 = {'p', 'y', 't', 'h', 'o', 'n'}\\nd = {'p': 1, 'y': 2, 't': 3, 'h': 4, 'o': 5, 'n': 6}\\n\\ndef print_els(container):\\n    for c in container:\\n        print(c, end='')\\n    print()\\n\\nprint_els(s1)\\nprint_els(s2)\\nprint_els(d)\", \"my_list = [1, 2, 3, (4, 5, 6)]\\na, b, *c = my_list\\nprint(f'{a=}, {b=}, {c=}')\\na, *b, (c, d, e) = my_list # nested unpacking\\nprint(f'{a=}, {b=}, {c=}, {d=}, {e=}')\\na, *b, (c, *d) = my_list # multiple * operators on different levels of unpacking\\nprint(f'{a=}, {b=}, {c=}, {d=}')\\n\\nmy_string = 'uvwxyz'\\na, *b, c, d = my_string\\nprint(f'{a=}, {b=}, {c=}, {d=}')\\n\\nmy_set = {1, 2, 3}\\na, *b = my_set\\nprint(f'{a=}, {b=}')\\n*l, = my_set # convert my_set to a list\\nprint(l)\\n\\nl1 = [1, 2, 3]\\nl2 = [4, 5, 6]\\ns = 'abc'\\nl = [*l1, *l2, *s]\\nprint(l)\\n\\nd1 = {'a': 1, 'b': 2, 'c': 5}\\nd2 = {'c': 3, 'd': 4}\\nl = [*d1, *d2] # get all the keys of both dictionaries\\nd = {**d1, **d2} # merge dictionaries into one\\nprint(l)\\nprint(d)\", \"def average(number, *args):\\n    return (number + sum(args)) / (len(args) + 1)\\n\\ndef my_func(a, *b):\\n    print(f'{a=}, {b=}')\\n\\nprint(average(1, 2, 3))\\n\\nl = [1, 2, 3]\\nmy_func(*l)\", \"def calc_hi_lo_avg(*args, log_to_console=False):\\n    # hi = int(bool(args)) and max(args) # int(bool()) here can be changed to len(), because args will always be a tuple, not None\\n    hi = len(args) and max(args)\\n    lo = len(args) and min(args)\\n    avg = (hi + lo) / 2\\n    if log_to_console:\\n        print(f'{hi=}, {lo=}, {avg=}')\\n    return hi, lo, avg\\n\\nprint(calc_hi_lo_avg())\\nprint(calc_hi_lo_avg(1, 2, 3, 4, 5))\\nprint(calc_hi_lo_avg(1, 2, 3, 4, 5, log_to_console=True))\", \"import time\\n\\ndef time_it(fn, *args, rep=1, **kwargs):\\n    start = time.perf_counter()\\n    for _ in range(rep):\\n        fn(*args, **kwargs)\\n    end = time.perf_counter()\\n    return (end - start) / rep\\n\\ndef compute_powers_1(n, *, start=1, end):\\n    result = []\\n    for i in range(start, end):\\n        result.append(n ** i)\\n    return result\\n\\ndef compute_powers_2(n, *, start=1, end):\\n    # using list comprehension\\n    return [n ** i for i in range(start, end)]\\n\\ndef compute_powers_3(n, *, start=1, end):\\n    # using generator expression\\n    return (n ** i for i in range(start, end))\\n\\nprint(f'{time_it(compute_powers_1, 2, rep=5, end=20000)=}')\\nprint(f'{time_it(compute_powers_2, 2, rep=5, end=20000)=}')\\nprint(f'{time_it(compute_powers_3, 2, rep=5, end=20000)=}')\", \"import datetime\\n\\n# buggy default value for dt\\ndef log_1(msg, *, dt=datetime.datetime.now(datetime.UTC)):\\n    print(f'{dt}: {msg}')\\n\\ndef log_2(msg, *, dt=None):\\n    dt = dt or datetime.datetime.now(datetime.UTC)\\n    print(f'{dt}: {msg}')\\n\\nlog_1('msg_1')\\nlog_1('msg_2')\\nprint('-'*10)\\nlog_2('msg_1')\\nlog_2('msg_2')\", 'my_list = [1, 2]\\ndef func(a=my_list):\\n    print(a)\\n\\nfunc()\\nmy_list.append(3)\\nfunc() # the default value of a was changed unexpectedly', \"# another example of buggy default value\\ndef add_to_list(name, quantity=1, unit='unit', lst=[]):\\n    lst.append(f'{name}: {quantity} {unit}')\\n    return lst\\n\\nshopping_list_1 = add_to_list('apple', 2, 'kilo')\\nadd_to_list('milk', 1, 'liter', shopping_list_1)\\nprint(shopping_list_1)\\n\\nshopping_list_2 = add_to_list('chicken', 2, 'kilo')\\nadd_to_list('eggs', 2, 'dozen', shopping_list_2)\\nprint(shopping_list_2)\\n\\n# because the default value for lst has already been evaluated to the same address for the list when the function is defined\\nprint('shopping_list_1 is shopping_list_2:', shopping_list_1 is shopping_list_2)\", \"def factorial(n: int):\\n    if n < 1:\\n        return 1\\n    else:\\n        print(f'calculating {n}!')\\n        return n * factorial(n - 1)\\n    \\nprint(factorial(3))\\nprint(factorial(3))\", \"# cached version\\n# the same default dictionary will be used by the function\\ndef factorial_cached(n, cache={}):\\n    if n < 1:\\n        return 1\\n    elif n in cache:\\n        return cache[n]\\n    else:\\n        print(f'calculating {n}!')\\n        result = n * factorial_cached(n - 1)\\n        cache[n] = result\\n        return result\\n    \\nprint(factorial_cached(3))\\nprint(factorial_cached(3)) # with cache no need to calculate the same number\\nprint(factorial_cached(2))\\nprint(factorial_cached(4))\", 'def my_func(a: \\'annotation for a\\',\\n            b: \\'annotation for b\\' = 1) -> \\'something annotation for return\\':\\n    \"\"\"documentation for my function\"\"\"\\n    return a * b\\n\\nhelp(my_func)\\nprint(my_func.__doc__)\\nprint(my_func.__annotations__)', \"def my_func(a: str,\\n            b: 'int > 0' = 1,\\n            *args: 'additional args',\\n            k1: 'keyword-only arg 1',\\n            k2: 'keyword-only arg 2' = 100,\\n            **kwargs: 'additional keyword-only args') -> 'return something':\\n    print(a, b, args, k1, k2, kwargs)\\n\\nprint(my_func.__annotations__)\\nmy_func('hello', 1, 2, 3, k1='world', k3='times')\", \"f = lambda x, y, *args, z='z', **kwargs: (x, y, args, z, kwargs) # the () of return expression is required here\\nf('x', 'y', 1, 2, 3, kw1='1', kw2='2')\", 'def apply_func(x, func):\\n    return func(x)\\n\\nprint(apply_func(2, lambda x: x ** 2))\\nprint(apply_func(3, lambda x: x ** 3))', 'def apply_func(func, *args, **kwargs):\\n    return func(*args, **kwargs)\\n\\nprint(apply_func(lambda x, y: x + y, 1, 2))\\nprint(apply_func(lambda x, *, y: x + y, 1, y=2))\\nprint(apply_func(lambda *args: sum(args), 1, 2, 3, 4, 5))', \"complex_list = [3 + 3j, 1 - 1j, 6 + 2j, 0, -1 -4j]\\n# sort complex_list according to the square of the absolute value of a complex number\\nprint(sorted(complex_list, key=lambda c: c.real ** 2 + c.imag ** 2))\\n\\nname_list = ['Tony', 'Chaplin', 'John', 'Helen', 'Max']\\n# sort name_list according to the last letter of a name\\n# stable sort, i.e. the relative order of elements that compare equal will be remained\\nprint(sorted(name_list, key=lambda n: n[-1]))\", '# randomize an iterable using sorted\\n\\nimport random\\n\\nl = [1, 2, 3, 4, 5, 6, 7, 8, 9, 10]\\n\\nprint(sorted(l, key=lambda e: random.random()))\\nprint(sorted(l, key=lambda e: random.random()))\\nprint(sorted(l, key=lambda e: random.random()))', \"from decimal import Decimal\\n\\nprint(callable(print))\\nprint(print()) # if something is callable, it always has a return value\\nprint(callable(Decimal)) # classes are also callable\\n\\nclass MyClass:\\n    def __init__(self):\\n        print('classes are callable')\\n    \\n    def __call__(self):\\n        print('instances can be callable too')\\n\\nmy_class = MyClass()\\nmy_class() # instances can be callable\\nprint(callable(my_class))\", 'l1 = [1, 2, 3, 4, 5]\\nl2 = [7, 8, 9]\\nl3 = map(lambda x, y: x + y, l1, l2)\\nprint(l3)\\nprint(list(l3))\\n\\nl4 = [0, 1, 2, 3, 4, 5, 6, 7, 8, 9]\\nl5 = filter(None, l4)\\nl6 = filter(lambda x: x % 2 == 0, l4)\\nprint(l5)\\nprint(l6)\\nprint(list(l5))\\nprint(list(l6))', \"def factorial(n):\\n    return 1 if n < 2 else n * factorial(n - 1)\\n\\nresult = map(factorial, range(5))\\n\\nfor i in result:\\n    print(i)\\n\\n# won't print anything\\n# generators can only be iterated over once\\n# attempting to iterate over an exhausted generator will not produce any output\\nfor i in result:\\n    print(i)\\n\\nprint(list(result)) # empty list too\", 'def reduce_sequence(func, sequence):\\n    result = sequence[0]\\n    for e in sequence[1:]:\\n        result = func(result, e)\\n    return result\\n\\nprint(reduce_sequence(lambda x, y: x + y, range(10))) # range is actually an immutable sequence type\\nprint(reduce_sequence(lambda x, y: x if x > y else y, range(10)))', \"from functools import reduce\\n\\nprint(reduce(lambda x, y: x + ' ' + y, ('Python', 'is', 'super', 'awesome')))\\n\\n# using reduce to reproduce any()\\nprint(reduce(lambda x, y: bool(x or y), (0, '', 1, 0.0, 'and', False)))\\nprint(reduce(lambda x, y: bool(x or y), (0, '', None, 0.0, [], (), {}, False)))\\n\\n# using reduce to reproduce all()\\nprint(reduce(lambda x, y: bool(x and y), (0, '', 1, 0.0, 'and', False)))\\nprint(reduce(lambda x, y: bool(x and y), (1, 'a', 0.1, [1], True)))\\n\\n# using reduce to calculate factorial\\ndef factorial(n):\\n    return reduce(lambda x, y: x * y, range(1, n + 1), 1)\\n\\nprint(factorial(1))\\nprint(factorial(3))\\nprint(factorial(10))\", \"# similar to functools.partial()\\ndef partial_func(func, /, *args, **kwargs):\\n    def new_func(*new_args, **new_kwargs):\\n        new_kwargs = {**kwargs, **new_kwargs}\\n        return func(*args, *new_args, **new_kwargs)\\n    return new_func\\n\\nint_base_2 = partial_func(int, base=2)\\nprint(f'{int_base_2('1010')=}')\\n\\nsquare = partial_func(pow, exp=2)\\nprint(f'{square(10)=}')\\nprint(f'{square(10, exp=3)}') # you can still overwrite the value of exp predefined in the partial function\\n\\nmodular_multiplicative_inverse = partial_func(pow, exp=-1)\\nprint(f'{modular_multiplicative_inverse(38, mod=97)=}') # here mod must be keyword argument\", \"from functools import partial\\n\\nint_base_2 = partial(int, base=2)\\nprint(int_base_2('1010'))\\n\\ndef my_func(a, b, *args, k1, k2, **kwargs):\\n    print(a, b, args, k1, k2, kwargs)\\n\\n# if want to freeze a and k1 of my_func\\nmy_func_partial = partial(my_func, 'a', k1='k1')\\nmy_func_partial('b', 'args1', 'args2', k2='k2', k3='k3', k4='k4')\\n\\n# sort list of complex numbers according to their absolute value\\nsorted_by_abs = partial(sorted, key=lambda x: abs(x))\\ncomplexes = [1 + 2j, 3 - 4j, 0, 7 - 8j, 4 + 5j]\\nprint(sorted_by_abs(complexes))\\n\\n# sort list of points according to their distance to a certain point\\norigin = (0, 0)\\npoints = [(0, 5), (0, 0), (3, 4), (-5, 1), (-3, -2)]\\ndistance_square = lambda a, b: (a[0] - b[0]) ** 2 + (a[1] - b[1]) ** 2\\npoints_sorted = sorted(points, key=partial(distance_square, origin))\\nprint(points_sorted)\", \"import operator\\nfrom functools import reduce\\n\\nprint(reduce(lambda x, y: x * y, [1, 2, 3, 4]))\\nprint(reduce(operator.mul, [1, 2, 3, 4]))\\n\\nget_item_2 = operator.itemgetter(2)\\nprint(get_item_2([1, 2, 3, 4]))\\nprint(get_item_2('abcde'))\\n\\nget_item_2_3 = operator.itemgetter(2, 3)\\nprint(get_item_2_3([1, 2, 3, 4]))\\nprint(get_item_2_3('abcde'))\\n\\nclass MyClass:\\n    def __init__(self):\\n        self.a = 'a'\\n        self.b = 'b'\\n\\n    def test(self):\\n        print('test method get called')\\n\\nobj = MyClass()\\nget_attr_a = operator.attrgetter('a')\\nprint(get_attr_a(obj))\\n\\nget_attr_test = operator.attrgetter('test')\\nget_attr_test(obj)()\\nmethod_caller_test = operator.methodcaller('test')\\nmethod_caller_test(obj)\\n\\ncomplexes = [5 - 10j, 3 + 2j, -2 - 1j, 2 + 10j, 8 - 5j]\\nsorted_by_real = sorted(complexes, key=operator.attrgetter('real'))\\nprint(sorted_by_real)\\n\\ntuples = [(2, 3, 4), (-2, 3, 1), (0,), (5, 7, 1), (3, 4)]\\nsorted_by_first = sorted(tuples, key=operator.itemgetter(0))\\n# sorted_by_first = sorted(tuples, key=lambda x: x[0])\\nprint(sorted_by_first)\", \"def my_func():\\n    global var\\n    var = 'hello'\\n\\n# print(var) # name 'var' is not defined\\nmy_func() # because of var is global, it is still available after the function finishes\\nprint(var)\\n\\na = 10\\ndef my_func():\\n    print(f'global a? {a=}') # local variable 'a' referenced before assignment\\n    a = 'hello' # a becomes local variable at compile-time\\n\\ndef print(string):\\n    return f'hello {string}'\\n\\nprint('world') # doesn't print anything, only returns a string, because the built-in print function has been masked by the string function in the module scope\\ndel print\\nprint('world')\", \"x = 'python'\\n\\ndef outer():\\n    global x\\n    x = 'monty'\\n\\n    def inner():\\n        # nonlocal x # no binding for nonlocal 'x'\\n        x = 'hello'\\n        print(x)\\n\\n    inner()\\n    print(x)\\n\\nouter()\", \"def outer():\\n    count = 0\\n\\n    def inner1():\\n        nonlocal count\\n        count += 1\\n        return count\\n    \\n    def inner2():\\n        nonlocal count\\n        count += 1\\n        return count\\n    \\n    return inner1, inner2\\n\\nf1, f2 = outer()\\nprint(f'{f1.__code__.co_freevars=}')\\nprint(f'{f2.__code__.co_freevars=}')\\nprint(f'{f1.__closure__=}')\\nprint(f'{f2.__closure__=}') # same cell as above\\nprint(f1())\\nprint(f2())\", \"def create_adders():\\n    adders = []\\n    for n in range(1, 4):\\n        adders.append(lambda x, y=n: x + y) # defaults get evaluated at creation-time\\n    return adders\\n\\nadders = create_adders()\\nprint(f'{adders[0].__code__.co_freevars=}') # no free variables\\nprint(f'{adders[0].__closure__=}') # not a closure, so no cells\\n# at function creation-time, n is evaluated and put that into y as the default for y\\n# there's not even a mention of n in the body of the function\\n\\nprint(f'{adders[0](10)=}')\\nprint(f'{adders[1](10)=}')\\nprint(f'{adders[2](10)=}')\", 'class Averager:\\n    def __init__(self):\\n        self.numbers = []\\n\\n    def add(self, number):\\n        self.numbers.append(number)\\n        return sum(self.numbers) / len(self.numbers)\\n\\ndef outer():\\n    numbers = []\\n    def add(number):\\n        numbers.append(number)\\n        return sum(numbers) / len(numbers)\\n    return add\\n\\naverager = Averager()\\nprint(averager.add(1))\\nprint(averager.add(2))\\nprint(averager.add(3))\\nprint(averager.add(4))\\n\\ncalc_ave = outer()\\nprint(calc_ave(1))\\nprint(calc_ave(2))\\nprint(calc_ave(3))\\nprint(calc_ave(4))', \"def outer_better():\\n    count = 0\\n    total = 0\\n    def add(number):\\n        nonlocal count\\n        nonlocal total\\n        count += 1\\n        total += number\\n        return total / count\\n    return add\\n\\ncalc_ave = outer_better()\\nprint(f'{calc_ave.__code__.co_freevars=}')\\nprint(f'{calc_ave.__closure__=}')\\nprint(calc_ave(1))\\nprint(calc_ave(2))\\nprint(calc_ave(3))\\nprint(calc_ave(4))\", 'from time import perf_counter\\n\\nclass Timer:\\n    def __init__(self):\\n        self.start = perf_counter()\\n\\n    def __call__(self):\\n        return perf_counter() - self.start\\n    \\ndef outer():\\n    start = perf_counter()\\n    def poll():\\n        return perf_counter() - start\\n    return poll\\n    \\nt1 = Timer()\\nprint(t1())\\n\\ntimer = outer()\\nprint(timer())', \"def counter(fn):\\n    # a function report the times of the designated function get called\\n    # it actually works the same way as a decorator\\n    count = 0\\n    def inner(*args, **kwargs):\\n        nonlocal count\\n        count += 1\\n        print(f'{fn.__name__} has been called {count} times')\\n        return fn(*args, **kwargs)\\n    return inner\\n\\ndef add(a, b):\\n    return a + b\\n\\ndef mul(a, b):\\n    return a * b\\n\\nadd = counter(add)\\nprint(add(1, 2))\\nprint(add(2, 3))\\n\\nmul = counter(mul)\\nprint(mul(4, 5))\\nprint(mul(2, 7))\", 'def counter(fn):\\n    count = 0\\n\\n    def inner(*args, **kwargs):\\n        nonlocal count\\n        count += 1\\n        print(f\\'Function {fn.__name__} has been called {count} times\\')\\n        return fn(*args, **kwargs)\\n    return inner\\n\\ndef add(a: int, b: int = 0):\\n    \"\"\"\\n    adds two values\\n    \"\"\"\\n    return a + b\\n\\nhelp(add)\\n\\nadd = counter(add)\\nhelp(add)\\nprint(f\\'{add(1, 2)=}\\')', 'def counter(fn):\\n    count = 0\\n\\n    def inner(*args, **kwargs):\\n        nonlocal count\\n        count += 1\\n        print(f\\'Function {fn.__name__} has been called {count} times\\')\\n        return fn(*args, **kwargs)\\n    return inner\\n\\n# use the @wrapper syntax\\n@counter\\ndef add(a: int, b: int = 0):\\n    \"\"\"\\n    adds two values\\n    \"\"\"\\n    return a + b\\n\\nhelp(add)\\nprint(f\\'{add(1, 2)=}\\')', 'from functools import wraps\\n\\ndef counter(fn):\\n    count = 0\\n\\n    @wraps(fn) # fix the metadata of inner\\n    def inner(*args, **kwargs):\\n        nonlocal count\\n        count += 1\\n        print(f\\'Function {fn.__name__} has been called {count} times\\')\\n        return fn(*args, **kwargs)\\n    # the following can only fix function name and docstring\\n    # inner.__name__ = fn.__name__\\n    # inner.__doc__ = fn.__doc__\\n\\n    # works the same as the @wraps decorator\\n    # inner = wraps(fn)(inner)\\n    return inner\\n\\n@counter\\ndef add(a: int, b: int = 0):\\n    \"\"\"\\n    adds two values\\n    \"\"\"\\n    return a + b\\n\\nhelp(add)\\nprint(f\\'{add(1, 2)=}\\')', 'def timed(fn):\\n    from time import perf_counter\\n    from functools import wraps\\n\\n    @wraps(fn)\\n    def inner(*args, **kwargs):\\n        start = perf_counter()\\n        result = fn(*args, **kwargs)\\n        elapsed = perf_counter() - start\\n\\n        args_list = [str(arg) for arg in args]\\n        kwargs_list = [f\\'{k}={v}\\' for k, v in kwargs.items()]\\n        args_string = \\',\\'.join(args_list + kwargs_list)\\n        print(f\\'{fn.__name__}({args_string}) took {elapsed}s to run\\')\\n        return result\\n    \\n    return inner\\n\\n# recursion\\n# @timed\\ndef calc_nth_fibonacci_recursion(n):\\n    \"\"\"\\n    Return the nth number of a fibonacci series, n starting from 1\\n    \"\"\"\\n    return 1 if n < 3 else calc_nth_fibonacci_recursion(n - 1) + calc_nth_fibonacci_recursion(n - 2)\\n\\n# calculate the total time elapsed\\n@timed\\ndef fib_recursion(n):\\n    return calc_nth_fibonacci_recursion(n)\\n\\n# calc_nth_fibonacci_recursion(6)\\n\\nprint(f\\'{fib_recursion(30)=}\\')\\n\\n# loop\\n@timed\\ndef calc_nth_fibonacci_loop(n):\\n    if n <= 2:\\n        return 1\\n    fib_1 = 1\\n    fib_2 = 1\\n    for n in range(3, n + 1):\\n        fib_1, fib_2 = fib_2, fib_1 + fib_2\\n    return fib_2\\n\\nprint(f\\'{calc_nth_fibonacci_loop(30)=}\\')\\n\\n# reduce\\n@timed\\ndef calc_nth_fibonacci_reduce(n):\\n    from functools import reduce\\n    if n <= 1:\\n        return 1\\n    fib = reduce(lambda x, y: (x[0] + x[1], x[0]),\\n           range(n - 1),\\n           (1, 0))\\n    return fib[0]\\n\\nprint(f\\'{calc_nth_fibonacci_reduce(30)=}\\')', \"def logger(fn):\\n    from functools import wraps\\n    import datetime\\n\\n    @wraps(fn)\\n    def inner(*args, **kwargs):\\n        run_dt = datetime.datetime.now(datetime.UTC)\\n        result = fn(*args, **kwargs)\\n        print(f'{run_dt}: called {fn.__name__}')\\n        return result\\n    \\n    return inner\\n\\ndef timed(fn):\\n    from functools import wraps\\n    from time import perf_counter\\n\\n    @wraps(fn)\\n    def inner(*args, **kwargs):\\n        start = perf_counter()\\n        result = fn(*args, **kwargs)\\n        elapsed = perf_counter() - start\\n        print(f'{fn.__name__} ran for {elapsed}s')\\n        return result\\n    \\n    return inner\\n\\n# stacked decorators\\n# the decorators are executed from top to bottom\\n@logger\\n@timed\\ndef factorial(n):\\n    from functools import reduce\\n    from operator import mul\\n\\n    return reduce(mul, range(1, n + 1))\\n\\n# the equivalent to the above decorators\\n# factorial = logger(timer(factorial))\\n\\nprint(factorial(10))\", \"# fibonacci class with cache\\nclass Fib:\\n    def __init__(self):\\n        self.cache = {1: 1, 2: 1}\\n\\n    def __call__(self, n):\\n        if n in self.cache:\\n            return self.cache[n]\\n        print(f'Calculating fib({n})')\\n        self.cache[n] = self.__call__(n - 1) + self.__call__(n - 2)\\n        return self.cache[n]\\n    \\nfib = Fib()\\nprint(f'{fib(1)=}')\\nprint(f'{fib(2)=}')\\nprint(f'{fib(3)=}')\\nprint(f'{fib(4)=}')\\nprint(f'{fib(5)=}')\\nprint(f'{fib(4)=}')\\nprint(f'{fib(3)=}')\\nprint(f'{fib(2)=}')\", \"# closure with cache\\ndef outer():\\n    cache = {1: 1, 2: 1}\\n\\n    def fib(n):\\n        if n not in cache:\\n            print(f'Calculating fib({n})')\\n            cache[n] = fib(n - 1) + fib(n - 2)\\n        return cache[n]\\n    \\n    return fib\\n\\nfib = outer()\\nprint(f'{fib(1)=}')\\nprint(f'{fib(2)=}')\\nprint(f'{fib(3)=}')\\nprint(f'{fib(4)=}')\\nprint(f'{fib(5)=}')\\nprint(f'{fib(4)=}')\", \"def memoize(fn):\\n    cache = {}\\n\\n    def inner(n):\\n        if n not in cache:\\n            cache[n] = fn(n)\\n        return cache[n]\\n    \\n    return inner\\n\\n# decorator with cache\\n@memoize\\ndef fib(n):\\n    print(f'Calculating fib({n})')\\n    return 1 if n < 3 else fib(n - 1) + fib(n - 2)\\n\\nprint(f'{fib(1)=}')\\nprint(f'{fib(2)=}')\\nprint(f'{fib(3)=}')\\nprint(f'{fib(4)=}')\\nprint(f'{fib(5)=}')\\nprint(f'{fib(4)=}')\", \"from functools import lru_cache\\n\\n# built-in decorator with cache\\n# @cache(user_function) return the same as lru_cache(maxsize=None)\\n# @functools.lru_cache(user_function)\\n# @functools.lru_cache(maxsize=128, typed=False)\\n@lru_cache\\ndef fib(n):\\n    print(f'Calculating fib({n})')\\n    return 1 if n < 3 else fib(n - 1) + fib(n - 2)\\n\\nprint(f'{fib(1)=}')\\nprint(f'{fib(2)=}')\\nprint(f'{fib(3)=}')\\nprint(f'{fib(4)=}')\\nprint(f'{fib(5)=}')\\nprint(f'{fib(4)=}')\\nprint(f'{fib(129)=}') # default maxsize=128, this will cause fib(1) replaced by fib(129)\\nprint(f'{fib(1)=}')\", \"def timed(fn, reps):\\n    from time import perf_counter\\n    from functools import wraps\\n\\n    @wraps(fn)\\n    def inner(*args, **kwargs):\\n        total_elapsed = 0\\n        for i in range(reps):\\n            start = perf_counter()\\n            result = fn(*args, **kwargs)\\n            total_elapsed += perf_counter() - start\\n        print(f'Average execution time: {total_elapsed / reps}')\\n        return result\\n\\n    return inner\\n\\n# @timed(10) # not working\\ndef my_func():\\n    print('my_func executed')\\n\\nmy_func = timed(my_func, 10)\\nmy_func()\", \"# the outer function is not itself a decorator\\n# instead it returns a decorator, just like what wraps do\\n# any arguments passed to outer can be referenced (as free variables) inside the decorator\\n# the outer function is called a decorator factory function\\ndef outer(reps):\\n    def timed(fn):\\n        from time import perf_counter\\n        from functools import wraps\\n\\n        @wraps(fn)\\n        def inner(*args, **kwargs):\\n            total_elapsed = 0\\n            for i in range(reps):\\n                start = perf_counter()\\n                result = fn(*args, **kwargs)\\n                total_elapsed += perf_counter() - start\\n            print(f'Average execution time: {total_elapsed / reps}')\\n            return result\\n\\n        return inner\\n\\n    return timed\\n\\n@outer(10) # outer gets called, and returns a parameterized decorator\\ndef my_func():\\n    print('my_func executed')\\n\\n# my_func = outer(10)(my_func) # equivalent to the decorator above\\nmy_func()\", \"def dec(fn):\\n    print('running dec')\\n\\n    def inner(*args, **kwargs):\\n        print('running inner')\\n        return fn(*args, **kwargs)\\n    \\n    return inner\\n\\n@dec\\ndef func():\\n    print('running func')\\n\\n# func = dec(func) # @dec equivalent\\n\\nprint('after func got decorated')\\nfunc()\", \"class DecoratorClass:\\n    def __init__(self, a, b):\\n        self.a = a\\n        self.b = b\\n\\n    def __call__(self, fn):\\n        print(f'decorate {fn.__name__}')\\n        def inner(*args, **kwargs):\\n            print(f'decorated function called: a={self.a}, b={self.b}')\\n            return fn(*args, **kwargs)\\n        return inner\\n\\n@DecoratorClass(10, 20)\\ndef func():\\n    print('func called')\\n\\nprint('after func decorated')\\nfunc()\", \"class Decorator:\\n    def __init__(self, fn): # cannot parameterized fn\\n        print(f'decorate {fn.__name__}')\\n        self.fn = fn\\n\\n    def __call__(self, *args, **kwargs):\\n        print(f'decorated {self.fn.__name__} called')\\n        return self.fn(*args, **kwargs)\\n    \\n@Decorator\\ndef func(a, b=1, *, c):\\n    print(f'{a=}, {b=}, {c=}')\\n\\nprint('after func decorated')\\nfunc(0, c=2)\", \"def speak_decorator(cls):\\n    cls.speak = lambda self, message: f'{self.__class__.__name__} says {message}'\\n    return cls # the return of cls if not necessary if not using @wrapper syntax or its equivalent\\n\\n@speak_decorator\\nclass Person:\\n    pass\\n\\n# Person = speak_decorator(Person) # decorator equivalent\\n\\np = Person()\\np.speak('Hello world!')\", \"import datetime\\n\\ndef debug_info(cls):\\n    def info(self):\\n        results = []\\n        results.append(f'time: {datetime.datetime.now(datetime.UTC)}')\\n        results.append(f'class: {self.__class__.__name__}')\\n        results.append(f'id: {hex(id(self))}')\\n        for k, v in vars(self).items():\\n            results.append(f'{k}: {v}')\\n        return results\\n    \\n    cls.debug = info\\n    return cls\\n\\n@debug_info\\nclass Person:\\n    def __init__(self, name, birth_year):\\n        self.name = name\\n        self.birth_year = birth_year\\n\\n    def say_hi(self):\\n        return 'Hello there!'\\n    \\np = Person('John', 1999)\\nprint(p.say_hi())\\nprint(p.debug())\", \"@debug_info\\nclass Auto:\\n    def __init__(self, make, model, year, top_speed, speed):\\n        self.make = make\\n        self.model = model\\n        self.year = year\\n        self.top_speed = top_speed\\n        self.speed = speed\\n\\n    @property\\n    def speed(self):\\n        return self._speed\\n    \\n    @speed.setter\\n    def speed(self, speed):\\n        if speed > self.top_speed:\\n            raise ValueError('Speed cannot exceed top_speed')\\n        self._speed = speed\\n\\n    def run(self):\\n        print('The car is running')\\n\\nauto = Auto('Ford', 'Model T', 1908, 45, 10)\\nprint(auto.speed)\\n# auto.speed = 100 # raise ValueError here\\nauto.speed = 20\\nauto.debug()\", \"def complete_ordering(cls):\\n    if '__eq__' in dir(cls) and '__lt__' in dir(cls):\\n        cls.__le__ = lambda self, other: self < other or self == other\\n        cls.__gt__ = lambda self, other: not (self < other or self == other) # raise TypeError if other of unsupported type\\n        cls.__ge__ = lambda self, other: not (self < other)\\n        cls.__ne__ = lambda self, other: not (self == other)\\n    return cls\\n\\n@complete_ordering\\nclass Point:\\n    def __init__(self, x, y):\\n        self.x = x\\n        self.y = y\\n\\n    def __abs__(self):\\n        return (self.x ** 2 + self.y ** 2) ** 0.5\\n    \\n    def __repr__(self):\\n        return f'Point({self.x}, {self.y})'\\n    \\n    def __eq__(self, other):\\n        if isinstance(other, Point):\\n            return self.x == other.x and self.y == other.y\\n        else:\\n            return False\\n        \\n    def __lt__(self, other):\\n        if isinstance(other, Point):\\n            return abs(self) < abs(other)\\n        else:\\n            return NotImplemented\\n\\np1, p2, p3 = Point(1, 2), Point(1, 2), Point(2, 3)\\nn = 1\\nprint(f'{(p1 == p2)=}')\\nprint(f'{(p1 != p2)=}')\\nprint(f'{(p1 > p2)=}')\\nprint(f'{(p1 >= p2)=}')\\nprint(f'{(p1 < p2)=}')\\nprint(f'{(p1 <= p2)=}')\\nprint(f'{(p1 < p3)=}')\\nprint(f'{(p1 >= p3)=}')\\nprint(f'{(p1 != 1)=}')\\n# print(f'{(p1 < 1)=}') # raise TypeError\\n# print(f'{(p1 > 1)=}')\\n# print(f'{(p1 >= 1)=}')\", \"from functools import total_ordering\\n\\n# Given a class defining one or more rich comparison ordering methods, this class decorator supplies the rest.\\n# The class must define one of __lt__(), __le__(), __gt__(), or __ge__(). In addition, the class should supply an __eq__() method.\\n@total_ordering\\nclass Point:\\n    def __init__(self, x, y):\\n        self.x = x\\n        self.y = y\\n\\n    def __abs__(self):\\n        return (self.x ** 2 + self.y ** 2) ** 0.5\\n    \\n    def __repr__(self):\\n        return f'Point({self.x}, {self.y})'\\n    \\n    def __eq__(self, other):\\n        if isinstance(other, Point):\\n            return self.x == other.x and self.y == other.y\\n        else:\\n            return False\\n        \\n    def __lt__(self, other):\\n        if isinstance(other, Point):\\n            return abs(self) < abs(other)\\n        else:\\n            return NotImplemented\\n        \\np1, p2, p3 = Point(1, 2), Point(1, 2), Point(2, 3)\\nn = 1\\nprint(f'{(p1 == p2)=}')\\nprint(f'{(p1 != p2)=}')\\nprint(f'{(p1 > p2)=}')\\nprint(f'{(p1 >= p2)=}')\\nprint(f'{(p1 < p2)=}')\\nprint(f'{(p1 <= p2)=}')\\nprint(f'{(p1 < p3)=}')\\nprint(f'{(p1 >= p3)=}')\\nprint(f'{(p1 != 1)=}')\\n# print(f'{(p1 < 1)=}') # raise TypeError\\n# print(f'{(p1 > 1)=}')\\n# print(f'{(p1 >= 1)=}')\", \"from html import escape\\nfrom decimal import Decimal\\n\\ndef html_escape(obj):\\n    return escape(str(obj))\\n\\ndef html_int(i):\\n    return f'{i} (<i>{hex(i)}</i>)'\\n\\ndef html_real(r):\\n    return f'{r:.2f}'\\n\\ndef html_str(s):\\n    return html_escape(s).replace('\\\\n', '<br>\\\\n')\\n\\ndef html_list(l):\\n    items = (f'<li>{htmlize(item)}</li>' for item in l)\\n    return '<ul>\\\\n' + '\\\\n'.join(items) + '\\\\n</ul>'\\n\\ndef html_dict(d):\\n    items = (f'<li>{html_escape(k)}={htmlize(v)}</li>' for k, v in d.items())\\n    return '<ul>\\\\n' + '\\\\n'.join(items) + '\\\\n</ul>'\\n\\ndef htmlize(arg):\\n    registry = {\\n        object: html_escape,\\n        int: html_int,\\n        float: html_real,\\n        Decimal: html_real,\\n        str: html_str,\\n        list: html_list,\\n        tuple: html_list,\\n        set: html_list,\\n        dict: html_dict\\n    }\\n    return registry.get(type(arg), registry[object])(arg)\\n\\nprint(htmlize(['a', 1, 1.2, 'hello\\\\nworld, 1 > 2 != 3',\\n               (True, False, None),\\n               {1: '1', 2: '2', 3: '3'},\\n               {'x', 'y', 'z'}]))\", \"from html import escape\\n\\ndef single_dispatch(fn):\\n    registry = {}\\n    registry[object] = fn\\n\\n    def decorated(arg):\\n        return registry.get(type(arg), registry[object])(arg)\\n\\n    def register(type_):\\n        def inner(fn_extension):\\n            registry[type_] = fn_extension\\n            return fn_extension # just return back the decorated function as it is\\n        return inner\\n\\n    def dispatch(type_):\\n        return registry.get(type_, registry[object])\\n\\n    decorated.register = register\\n    decorated.dispatch = dispatch\\n    decorated.registry = registry\\n    return decorated\\n\\n@single_dispatch\\ndef htmlize(obj):\\n    return escape(str(obj))\\n\\nprint(f'{htmlize.__name__=}')\\nprint(f'{htmlize.register=}')\\nprint(htmlize('I can fly!\\\\n1 < 100'))\\n\\n# register decorator can be stacked because it returns back the decorated function as it is\\n@htmlize.register(set)\\n@htmlize.register(tuple)\\n@htmlize.register(list)\\ndef html_sequence(sequence):\\n    items = (f'<li>{htmlize(item)}</li>' for item in sequence)\\n    return '<ul>\\\\n' + '\\\\n'.join(items) + '\\\\n</ul>'\\n\\nprint(htmlize(['a', 'b', 'c']))\\nprint(htmlize(('1', '2', '3')))\\nprint(htmlize.registry)\\nprint(htmlize.dispatch(int))\", \"london = 'London', 'UK', 8780000\\nnew_york = 'New York', 'USA', 8500000\\nbeijing = 'Beijing', 'China', 21000000\\ncities = [london, new_york, beijing]\\n\\ntotal = 0\\n# for city in cities:\\n#     total += city[2]\\nfor *_, population in cities:\\n    total += population\\nprint(total)\\n\\ntotal = sum(city[2] for city in cities)\\nprint(total)\", \"# random.uniform(a, b)\\n# Return a random floating point number N such that a <= N <= b for a <= b and b <= N <= a for b < a.\\nfrom random import uniform\\n\\ndef random_shot(radius=1):\\n    random_x = uniform(-radius, radius)\\n    random_y = uniform(-radius, radius)\\n\\n    is_in_circle = random_x ** 2 + random_y ** 2 <= radius ** 2\\n    return random_x, random_y, is_in_circle\\n\\ndef in_circle_rate(repetitions):\\n    count = 0\\n    for _ in range(repetitions):\\n        *_, inside = random_shot()\\n        count += inside # bool is indeed subclass of int\\n    return count / repetitions\\n\\nprint(f'Pi = {in_circle_rate(1000) * 4}')\\nprint(f'Pi = {in_circle_rate(10000) * 4}')\\nprint(f'Pi = {in_circle_rate(100000) * 4}')\\nprint(f'Pi = {in_circle_rate(1000000) * 4}')\", \"from collections import namedtuple\\n\\nPoint2D = namedtuple('Point2D', 'x y')\\n\\ndef dot_product(a, b):\\n    return sum(p[0] * p[1] for p in zip(a, b))\\n\\np1 = Point2D(x=1, y=2)\\n# p1 = Point2D(x=1, y=2, y=3) # SyntaxError: keyword argument repeated: y\\np2 = Point2D(3, 4)\\np3 = Point2D(1, 2)\\nprint(f'{p1=}')\\nprint(f'{type(p2)=}')\\nprint(f'{isinstance(p2, tuple)=}')\\nprint(f'{p1.x=}, {p1.y=}')\\nprint(f'{p2.x=}, {p2.y=}')\\nprint(f'{p3.x=}, {p3.y=}')\\nprint(f'{(p1 == p3)=}')\\nx, y = p1\\nprint(f'{x=}, {y=}')\\nprint(f'p1 dot p2 = {dot_product(p1, p2)}')\\nprint(p1._asdict())\\nprint(Point2D._fields)\\n# print(Point2D._source) # removed in version 3.7\\np1_sliced = p1[:1]\\nprint(f'{p1_sliced=}')\\nprint(f'{type(p1_sliced)=}')\\n# print(f'{(p1_sliced._fields)=}') # after slicing it be a normal tuple\", \"from collections import namedtuple\\n\\nPoint2D = namedtuple('Point2D', 'x y')\\np1 = Point2D(1, 2)\\nprint(f'{p1=} @ {hex(id(p1))}')\\np1 = Point2D(p1.x, y=3)\\nprint(f'{p1=} @ {hex(id(p1))}')\\np1 = p1._replace(y=4) # create a new instance by replacing some values with keyword arguments\\nprint(f'{p1=} @ {hex(id(p1))}')\\n\\nPoint3D = namedtuple('Point3D', Point2D._fields + ('z',)) # extend named tuple\\np2 = Point3D._make(p1 + (5,))\\nprint(f'{p2=} @ {hex(id(p2))}')\\np3 = Point3D(*p1, 6)\\nprint(f'{p3=} @ {hex(id(p3))}')\", \"from collections import namedtuple\\n\\nPoint2D = namedtuple('Point2D', 'x y')\\np1 = Point2D(1, 1)\\nprint(Point2D.__doc__)\\nprint(Point2D.x.__doc__)\\nprint(Point2D.y.__doc__)\", \"from collections import namedtuple\\n\\nVector2D = namedtuple('Vector2D', 'x1 y1 x2 y2 origin_x origin_y')\\nVector2D.__new__.__defaults__ = (0, 0)\\nv1 = Vector2D(1, 1, 2, 2)\\nprint(v1)\\n\\nVector2D = namedtuple('Vector2D', 'x1 y1 x2 y2 origin_x origin_y', defaults=(10, 10))\\nv2 = Vector2D(3, 3, 4, 4)\\nprint(v2)\", \"from random import randint, random\\nfrom collections import namedtuple\\n\\nColor = namedtuple('Color', 'red green blue alpha', defaults=(0, 0, 0, 0))\\n\\ndef random_color():\\n    rgb = (randint(0, 255) for _ in range(3))\\n    a = round(random(), 2)\\n    return Color(*rgb, a)\\n\\nc1 = random_color()\\nc2 = random_color()\\nc3 = random_color()\\nprint(c1)\\nprint(c2)\\nprint(c3)\", \"# alternative to dictionaries\\n\\nfrom collections import namedtuple\\n\\ndata_dict = {'key1': 1, 'key2': 2, 'key3': 3}\\n\\nData = namedtuple('Data', data_dict.keys())\\ndata = Data(**data_dict)\\nprint(data)\\nprint(data._asdict())\\nkey_name = 'key1'\\nprint(f'{getattr(data, key_name)=}')\\nprint(f'{data.key1=}')\", \"# convert a list of dictionaries to a list of named tuples\\n\\nfrom collections import namedtuple\\n\\ndata_dicts = [\\n    {'key1': 1, 'key2': 2},\\n    {'key1': 3, 'key2': 4},\\n    {'key1': 5, 'key2': 6, 'key3': 7},\\n    {'key2': 100}\\n]\\n\\n# keys = set(key for key in data_dict for data_dict in data_dicts)\\n# keys = {key for key in data_dict for data_dict in data_dicts}\\nkeys = {key for data_dict in data_dicts for key in data_dict}\\nprint(keys)\\nData = namedtuple('Data', sorted(keys), defaults=(None for _ in keys))\\ndata_list = [Data(**data_dict) for data_dict in data_dicts]\\nprint(data_list)\", \"from collections import namedtuple\\n\\ndef tuplize_dicts(dicts, struct_name=None):\\n    struct_name = struct_name or 'Struct'\\n    keys = {key for dict_ in dicts for key in dict_}\\n    Struct = namedtuple(struct_name, sorted(keys), rename=True, defaults=(None for _ in keys))\\n    return [Struct(**dict_) for dict_ in dicts]\\n\\ndata_dicts = [\\n    {'key1': 1, 'key2': 2},\\n    {'key1': 3, 'key2': 4},\\n    {'key1': 5, 'key2': 6, 'key3': 7},\\n    {'key2': 100}\\n]\\n\\ndata_list = tuplize_dicts(data_dicts, 'Data')\\nprint(data_list)\", \"import math\\nimport fractions\\nimport sys\\nimport types\\n\\nprint(math) # a built-in module (written in C), providing access to system functionality\\nprint(fractions) # a standard library module (written in Python), providing standardized solutions for many problems that occur in everyday programming\\nprint(sys) # built-in\\nprint(types) # standard library\\nprint(type(math))\\nprint(math.__dict__)\\nprint(dir(math))\\nprint(isinstance(math, types.ModuleType))\\nprint(math.__dict__['pi'])\\nprint(getattr(math, 'pi'))\\n\\n# globals()\\n# return the dictionary implementing the current module namespace\\n# for code within functions, this is set when the function is defined and remains the same regardless of where the function is called\\nprint(globals())\\n\\n# locals()\\n# update and return a dictionary representing the current local symbol table\\n# free variables are returned by locals() when it is called in function blocks, but not in class blocks\\n# at the module level, locals() and globals() are the same dictionary\\nprint(locals())\\nprint(globals() is locals())\\n\\nprint(sys.modules)\"], '_oh': {10: True, 11: True, 12: False, 16: (None, 1440, (1, 2, 1, 2, 1, 2, 1, 2, 1, 2), 'abababababababababab', 'abcabcabcabcabcabcabc', '1', '2', 3), 17: (None, (1, 2, 3)), 51: ('x', 'y', (1, 2, 3), 'z', {'kw1': '1', 'kw2': '2'}), 86: 'Person says Hello world!', 88: ['time: 2024-01-15 20:54:25.376760+00:00', 'class: Auto', 'id: 0x2185dac6420', 'make: Ford', 'model: Model T', 'year: 1908', 'top_speed: 45', '_speed: 20']}, '_dh': [WindowsPath('d:/Study/Programming/Python/python_deep_dive'), WindowsPath('d:/Study/Programming/Python/python_deep_dive')], 'In': ['', 'import this', 'my_list = [\\n    1, # item 1\\n    2, # item 2\\n    3, # item 3\\n]\\n\\ndef my_func(\\n    a,\\n    b, # comment\\n):\\n    print(a, b)\\n\\nprint(my_list)\\nmy_func(10, #comment\\n        20)', \"a = 1\\nb = 2\\nc = 3\\nif a < b \\\\\\n    and b < c \\\\\\n    and a < c:\\n    print('yes')\", \"class Rectangle:\\n    def __init__(self, width, height):\\n        self.width = width # this actually calls the setter of width\\n        self.height = height\\n\\n    @property\\n    def width(self):\\n        return self._width\\n    \\n    @width.setter\\n    def width(self, width):\\n        if width > 0:\\n            self._width = width\\n        else:\\n            raise ValueError('Width should be greater than 0.')\\n        \\n    @property\\n    def height(self):\\n        return self._height\\n    \\n    @height.setter\\n    def height(self, height):\\n        if height > 0:\\n            self._height = height\\n        else:\\n            raise ValueError('Height should be greater than 0.')\\n        \\n    def perimeter(self):\\n        return (self._width + self._height) * 2\\n    \\n    def area(self):\\n        return self._width * self._height\\n    \\n    def __repr__(self):\\n        return f'Rectangle({self._width}, {self._height})'\\n    \\n    def __str__(self):\\n        return f'Rectangle: width {self._width}, height {self._height}'\\n    \\n    def __eq__(self, other):\\n        if isinstance(other, type(self)):\\n        # if issubclass(type(other), type(self)):\\n            return self._width == other._width and self._height == other._height\\n        else:\\n            return False\\n        \\n    def __gt__(self, other):\\n        if issubclass(type(other), type(self)):\\n            return self.area() > other.area()\\n        else:\\n            return NotImplemented\\n        \\n    def __ge__(self, other):\\n        if issubclass(type(other), type(self)):\\n            return self.area() >= other.area()\\n        else:\\n            return NotImplemented\\n        \\nrect1 = Rectangle(10, 5)\\nprint(rect1)\\nprint(repr(rect1))\\nrect1.width = 20\\nprint(f'width: {rect1.width}, height: {rect1.height}')\\nprint(f'Perimeter: {rect1.perimeter()}')\\nprint(f'Area: {rect1.area()}')\\n# rect1.width = 0\\n\\n# rect2 = Rectangle(0, 5)\\nrect2 = Rectangle(20, 5)\\nprint(rect1 == rect2)\\n\\nrect3 = Rectangle(10, 5)\\nprint(f'{rect2.area()=}, {rect3.area()=}')\\nprint('rect2 == rect3:', rect2 == rect3)\\nprint('rect2 != rect3:', rect2 != rect3)\\nprint('rect2 > rect3:', rect2 > rect3)\\nprint('rect2 >= rect3:', rect2 >= rect3)\\nprint('rect2 < rect3:', rect2 < rect3)\\nprint('rect2 == 3:', rect2 == 3)\\n# print('rect2 > 3:', rect2 > 3)\", 'my_var = 10\\nprint(my_var)\\nprint(id(my_var))\\nprint(hex(id(my_var)))', \"import sys\\nimport ctypes\\n\\nmy_list = [1, 2, 3]\\naddress_my_list = id(my_list)\\nmy_list2 = my_list\\nprint('id(my_list) == id(my_list2):', address_my_list == id(my_list2))\\n\\nprint(f'{sys.getrefcount(my_list)=}')\\nprint(f'{ctypes.c_long.from_address(address_my_list).value=}')\", \"import ctypes\\nimport gc\\n\\ndef get_ref_count(address):\\n    return ctypes.c_long.from_address(address).value\\n\\ndef check_obj_by_address(address):\\n    for obj in gc.get_objects():\\n        if id(obj) == address:\\n            return 'Object exists'\\n    return 'Obj not found'\\n\\nclass A:\\n    def __init__(self):\\n        self.b = B(self)\\n        print(f'A: self={id(self)}, b={id(self.b)}')\\n\\nclass B:\\n    def __init__(self, a):\\n        self.a = a\\n        print(f'B: self={id(self)}, a={id(self.a)}')\\n\\ngc.disable()\\n\\na = A()\\naddress_a = id(a)\\naddress_b = id(a.b)\\nprint('a reference count:', get_ref_count(address_a))\\nprint('b reference count:', get_ref_count(address_b))\\nprint('a:', check_obj_by_address(address_a))\\nprint('b:', check_obj_by_address(address_b))\\n\\nprint('\\\\nRemove variable a')\\na = None\\nprint('a reference count:', get_ref_count(address_a))\\nprint('b reference count:', get_ref_count(address_b))\\nprint('a:', check_obj_by_address(address_a))\\nprint('b:', check_obj_by_address(address_b))\\n\\nprint('\\\\nTurn on gc')\\ngc.collect()\\nprint('a reference count:', get_ref_count(address_a))\\nprint('b reference count:', get_ref_count(address_b))\\nprint('a:', check_obj_by_address(address_a))\\nprint('b:', check_obj_by_address(address_b))\", \"a = 10\\nprint(f'{id(a)=}')\\na += 1\\nprint(f'{id(a)=}')\", \"t = ([1, 2], [3, 4])\\nprint(f'{t=}, {id(t)=}')\\nt[0].append(5)\\nprint(f'{t=}, {id(t)=}')\", 'a = 10\\nb = 10\\nid(a) == id(b)', \"s1 = 'hello'\\ns2 = 'hello'\\nid(s1) == id(s2)\", 'list1 = [1, 2, 3]\\nlist2 = [1, 2, 3]\\nid(list1) == id(list2)', \"a = 10\\nb = 10\\nprint(f'{id(a)=}, {id(b)=}')\\nprint('a is b:', a is b)\\n\\na = 257\\nb = 257\\nprint(f'{id(a)=}, {id(b)=}')\\nprint('a is b:', a is b)\", \"import sys\\n\\na = 'hello'\\nb = 'hello'\\nprint(f'{id(a)=}, {id(b)=}')\\nprint('a is b:', a is b)\\n\\na = 'hello world'\\nb = 'hello world'\\nprint(f'{id(a)=}, {id(b)=}')\\nprint('a is b:', a is b)\\n\\na = sys.intern('the quick brown fox')\\nb = sys.intern('the quick brown fox')\\nc = 'the quick brown fox'\\nprint(f'{id(a)=}, {id(b)=}, {id(c)=}')\\nprint('a is b:', a is b)\\nprint('a is c:', a is c)\", \"from sys import intern\\nfrom time import perf_counter\\n\\ndef compare_using_equals(n):\\n    a = 'a very long string that is not automatically interned' * 200\\n    b = 'a very long string that is not automatically interned' * 200\\n    print('a is b:', a is b)\\n    for _ in range(n):\\n        if a == b:\\n            pass\\n\\ndef compare_using_is(n):\\n    a = intern('a very long string that is not automatically interned' * 200)\\n    b = intern('a very long string that is not automatically interned' * 200)\\n    print('a is b:', a is b)\\n    for _ in range(n):\\n        if a is b:\\n            pass\\n\\nstart = perf_counter()\\ncompare_using_equals(10000000)\\nend = perf_counter()\\nprint('Equals:', end - start)\\n\\nstart = perf_counter()\\ncompare_using_is(10000000)\\nend = perf_counter()\\nprint('Is:', end - start)\", \"def my_func():\\n    a = 24 * 60\\n    b = (1, 2) * 5\\n    c = 'ab' * 10\\n    d = 'abc' * 7\\n    e = ['1', '2'] * 3\\n\\nmy_func.__code__.co_consts\", 'def my_func():\\n    for e in [1, 2, 3]:\\n        pass\\n\\nmy_func.__code__.co_consts', \"import string\\nimport time\\n\\nchar_tuple = tuple(string.ascii_letters)\\nchar_set = set(string.ascii_letters)\\n\\ndef membership_test(n, container):\\n    for _ in range(n):\\n        if 'z' in container:\\n            pass\\n\\nn = 10000000\\nstart = time.perf_counter()\\nmembership_test(n, char_tuple)\\nend = time.perf_counter()\\nprint('Tuple:', end - start)\\n\\nstart = time.perf_counter()\\nmembership_test(n, char_set)\\nend = time.perf_counter()\\nprint('Set:', end - start)\", \"import sys\\n\\nprint(f'{type(1)=}')\\nprint(f'{sys.getsizeof(1)=}', 'bytes')\\nprint(f'{sys.getsizeof(0)=}', 'bytes')\", \"print('10 / 2 =', 10 / 2)\\nprint('10 // 3 =', 10 // 3)\\nprint('10 % 3 =', 10 % 3)\\nprint('10 // -3 =', 10 // -3)\\nprint('10 % -3 =', 10 % -3)\\nprint('-10 // 3 =', -10 // 3)\\nprint('-10 % 3 =', -10 % 3)\\nprint('-10 // -3 =', -10 // -3)\\nprint('-10 % -3 =', -10 % -3)\", 'from decimal import Decimal\\n\\nprint(f\\'{int()=}\\')\\nprint(f\\'{int(10)=}\\')\\nprint(f\\'{int(10.1)=}\\')\\nprint(f\\'{int(Decimal(\"10.1\"))=}\\')\\n# print(f\\'{int(\"10.1\")=}\\')\\nprint(f\\'{int(\"10\")=}\\')\\nprint(f\\'{int(\"010\")=}\\')\\n# print(f\\'{int(\"010\", 0)=}\\')\\nprint(f\\'{int(\"010\", 2)=}\\')\\nprint(f\\'{int(\"0b10\", 0)=}\\')', 'import string\\n\\ndef rebase(number: int, base: int):\\n    \"\"\"Rebase base 10 integer number to the designated base\"\"\"\\n    if number == 0:\\n        return \\'0\\'\\n    if base < 2 or base > 36:\\n        raise ValueError(\\'Invalid base: 2 <= base <= 36\\')\\n    \\n    base_letters = string.digits + string.ascii_lowercase\\n\\n    # if number < 0:\\n    #     sign = \\'-\\'\\n    #     number = abs(number)\\n    # else:\\n    #     sign = \\'\\'\\n    number, sign = (number, \\'\\') if number > 0 else (-number, \\'-\\')\\n    \\n    rebased = \\'\\'\\n\\n    while number > 0:\\n        rebased = base_letters[number % base] + rebased\\n        number = number // base\\n        # number, mod = divmod(number, base)\\n        # rebased = base_letters[mod] + rebased\\n\\n    return sign + rebased\\n\\nprint(f\\'{rebase(0, 2)=}\\')\\nprint(f\\'{rebase(10, 2)=}\\')\\nprint(f\\'{rebase(-10, 2)=}\\')\\nprint(f\\'{rebase(9, 3)=}\\')\\nprint(f\\'{rebase(-106, 16)=}\\')\\nprint(f\\'{rebase(1485, 16)=}\\')\\nprint(f\\'{rebase(100, 36)=}\\')\\n# print(f\\'{rebase(5, 1)=}\\')', 'from fractions import Fraction\\n\\nprint(f\\'{Fraction()=}\\')\\nprint(f\\'{Fraction(1, 10)=}\\')\\nprint(f\\'{Fraction(0.1)=}\\') # using float is meaningless, as it may not have an exact representation in base 2\\nprint(f\\'{Fraction(\"0.1\")=}\\')\\nprint(\\'Fraction(0.1) == Fraction(1, 10):\\', Fraction(0.1) == Fraction(1, 10))\\nprint(\\'Fraction(\"0.1\") == Fraction(1, 10):\\', Fraction(\\'0.1\\') == Fraction(1, 10))\\nprint(f\\'{Fraction(\"22/7\")=}\\')\\n\\nprint(Fraction(1, 2) + Fraction(1, 3))\\n\\nx = Fraction(7, 22)\\nprint(f\\'{x.numerator=}\\')\\nprint(f\\'{x.denominator=}\\')\\nx = Fraction(7, -22)\\nprint(f\\'{x.numerator=}\\')\\nprint(f\\'{x.denominator=}\\')', 'import math\\nfrom fractions import Fraction\\n\\nx = Fraction(math.pi)\\nprint(x)\\nprint(x.limit_denominator())\\nprint(x.limit_denominator(10))\\nprint(x.limit_denominator(100))\\nprint(x.limit_denominator(10000))', \"print('\\\\nFloats may not have exact representations in computer:')\\nprint('0.1:', f'{0.1:.25f}')\\nprint('0.1 + 0.1 + 0.1 == 0.3:', 0.1 + 0.1 + 0.1 == 0.3)\\n\\nprint('\\\\nBecause of the inexact internal representation, the result of round() may also be surprising.')\\nprint(f'{round(1.25, 1)=}')\\nprint(f'{round(1.225, 2)=}')\", \"import sys\\nimport math\\n\\nx = 0.1 + 0.1 + 0.1\\ny = 0.3\\nepsilon = sys.float_info.epsilon\\n\\nprint(f'{x=}, {y=}')\\nprint('x == y:', x == y)\\nprint('x is close y:', math.isclose(x, y, rel_tol=epsilon, abs_tol=epsilon))\", 'import math\\n\\ndef traditional_round(f: float):\\n    \"\"\"Round away from zero\"\"\"\\n    return int(f + math.copysign(0.5, f))\\n\\nf = -10.5\\nprint(f\\'{f=}\\')\\nprint(f\\'{round(f)=}\\')\\nprint(f\\'{traditional_round(f)=}\\')\\n\\nf = -10.6\\nprint(f\\'{f=}\\')\\nprint(f\\'{round(f)=}\\')\\nprint(f\\'{traditional_round(f)=}\\')', \"import decimal\\nfrom decimal import Decimal\\n\\nctx = decimal.getcontext()\\nprint(ctx)\\nprint(f'{ctx.prec=}')\\nprint(f'{ctx.rounding=}')\\n\\nwith decimal.localcontext() as ctx:\\n    ctx.rounding = decimal.ROUND_HALF_UP\\n    print('local context:', ctx)\\n    print('getcontext:', decimal.getcontext()) # getcontext will actually get local context\\n    print(f'inside: {round(Decimal('1.25'), 1)=}')\\n\\nprint(f'outside: {round(Decimal('1.25'), 1)=}')\", 'from decimal import Decimal\\n\\nprint(f\\'{Decimal(1)=}\\')\\nprint(f\\'{Decimal(3.14)=}\\')\\nprint(f\\'{Decimal(\"3.14\")=}\\')\\nprint(f\\'{Decimal((1, (3, 1, 4), -2))=}\\')', \"import decimal\\nfrom decimal import Decimal\\n\\ndecimal.getcontext().prec = 2\\n\\na = Decimal('0.12345')\\nb = Decimal('0.12345')\\nc = a + b\\nprint(f'{a=}, {b=}')\\nprint('a + b =', c)\\nprint(f'{c=}') # the actual value of c has been permanently affected by precision\", \"import math\\nimport decimal\\nfrom decimal import Decimal\\n\\nx = 0.01\\nx_dec = Decimal('0.01')\\n\\nroot = math.sqrt(x)\\nroot_mixed = math.sqrt(x_dec)\\nroot_dec = x_dec.sqrt()\\n\\nprint('root:', f'{root:.28f}')\\nprint('root_mixed:', f'{root_mixed:.28f}')\\nprint('root_dec:', f'{root_dec:.28f}')\\n\\nprint('\\\\nquantize method:')\\nprint(Decimal('7.325').quantize(Decimal('0.1'), rounding=decimal.ROUND_DOWN))\\nprint(Decimal('7.325').quantize(Decimal('0.1'), rounding=decimal.ROUND_UP))\\nprint(Decimal('7.325').quantize(Decimal('1'), rounding=decimal.ROUND_UP))\\nprint(Decimal('7.325').quantize(Decimal('1.'), rounding=decimal.ROUND_UP))\\nprint(Decimal('7.325').quantize(Decimal(1), rounding=decimal.ROUND_UP))\", \"# Euler's identity\\n# e^(iπ) + 1 = 0\\n\\nimport cmath\\nimport math\\nimport sys\\n\\nepsilon = sys.float_info.epsilon\\n\\nprint('e^(iπ) + 1 = 0:', cmath.exp(1j * cmath.pi + 1) == 0)\\nprint('e^(iπ) + 1 is close 0:', cmath.isclose(cmath.exp(1j * cmath.pi) + 1, 0, rel_tol=epsilon, abs_tol=epsilon))\\n\\nprint(f'{cmath.rect(2 ** 0.5, cmath.pi / 4)=}')\\nprint('math.pi is cmath.pi:', math.pi is cmath.pi)\\nprint('math.pi == cmath.pi:', math.pi == cmath.pi)\", \"print('bool is subclass of int:', issubclass(bool, int))\\nprint('True is instance of bool:', isinstance(True, bool))\\nprint('False is instance of bool:', isinstance(False, bool))\\nprint(f'{int(True)=}')\\nprint(f'{int(False)=}')\\nprint('True == 1:', True == 1)\\nprint('False == 0:', False == 0)\\nprint('True is 1:', True is 1)\\nprint('True + True ==', True + True)\\nprint('True > False:', True > False)\\nprint('(1 == 2) == False:', (1 == 2) == False)\\nprint('(1 == 2) == 0:', (1 == 2) == 0)\\nprint('-True =', -True)\", \"a = [1, 2, 3]\\n\\nif a: # work the same way as the code below but more concise\\n# if a is not None and len(a) > 0:\\n    print(a[0])\\nelse:\\n    print('Nothing to see here...')\", \"def get_first_letter(s):\\n    # if s:\\n    #     return s[0]\\n    # else:\\n    #     return ''\\n    return s and s[0] or ''\\n\\ns1 = None\\ns2 = ''\\ns3 = 'abc'\\n\\nprint(f'{get_first_letter(s1)=}')\\nprint(f'{get_first_letter(s2)=}')\\nprint(f'{get_first_letter(s3)=}')\", 'from fractions import Fraction\\nfrom decimal import Decimal\\n\\nprint(\\'1 == 1.0:\\', 1 == 1.0)\\nprint(\\'1.0 == Decimal(\"1.0\"):\\', 1.0 == Decimal(\"1.0\"))\\nprint(\\'1 == Fraction(3, 3):\\', 1 == Fraction(3, 3))\\nprint(\\'0.1 == Decimal(\"0.1\"):\\', 0.1 == Decimal(\"0.1\")) # floats representation issue\\nprint(\\'4 == 4 + 0j:\\', 4 == 4 + 0j)\\nprint(\\'3 < 2 < 4 / 0:\\', 3 < 2 < 4 / 0) # short-circuited', \"def my_func(a, b=20, c=30):\\n    print(f'{a=}, {b=}, {c=}')\\n\\nmy_func(1, 2, 3)\\nmy_func(1, 2)\\nmy_func(b=20, a=10)\\nmy_func(10, c=40)\", \"# parentheses are not necessary when defining a tuple, except for empty tuples\\na = (1, 2)\\nprint(type(a))\\na = 1, 2\\nprint(type(a))\\na = (1) # int\\nprint(type(a))\\na = (1,)\\nprint(type(a))\\na = 1,\\nprint(type(a))\\na = ()\\nprint(type(a))\\n\\na, b, c = 'str'\\nprint(f'{a=}, {b=}, {c=}')\", \"s1 = set('python')\\ns2 = {'p', 'y', 't', 'h', 'o', 'n'}\\nd = {'p': 1, 'y': 2, 't': 3, 'h': 4, 'o': 5, 'n': 6}\\n\\ndef print_els(container):\\n    for c in container:\\n        print(c, end='')\\n    print()\\n\\nprint_els(s1)\\nprint_els(s2)\\nprint_els(d)\", \"my_list = [1, 2, 3, (4, 5, 6)]\\na, b, *c = my_list\\nprint(f'{a=}, {b=}, {c=}')\\na, *b, (c, d, e) = my_list # nested unpacking\\nprint(f'{a=}, {b=}, {c=}, {d=}, {e=}')\\na, *b, (c, *d) = my_list # multiple * operators on different levels of unpacking\\nprint(f'{a=}, {b=}, {c=}, {d=}')\\n\\nmy_string = 'uvwxyz'\\na, *b, c, d = my_string\\nprint(f'{a=}, {b=}, {c=}, {d=}')\\n\\nmy_set = {1, 2, 3}\\na, *b = my_set\\nprint(f'{a=}, {b=}')\\n*l, = my_set # convert my_set to a list\\nprint(l)\\n\\nl1 = [1, 2, 3]\\nl2 = [4, 5, 6]\\ns = 'abc'\\nl = [*l1, *l2, *s]\\nprint(l)\\n\\nd1 = {'a': 1, 'b': 2, 'c': 5}\\nd2 = {'c': 3, 'd': 4}\\nl = [*d1, *d2] # get all the keys of both dictionaries\\nd = {**d1, **d2} # merge dictionaries into one\\nprint(l)\\nprint(d)\", \"def average(number, *args):\\n    return (number + sum(args)) / (len(args) + 1)\\n\\ndef my_func(a, *b):\\n    print(f'{a=}, {b=}')\\n\\nprint(average(1, 2, 3))\\n\\nl = [1, 2, 3]\\nmy_func(*l)\", \"def calc_hi_lo_avg(*args, log_to_console=False):\\n    # hi = int(bool(args)) and max(args) # int(bool()) here can be changed to len(), because args will always be a tuple, not None\\n    hi = len(args) and max(args)\\n    lo = len(args) and min(args)\\n    avg = (hi + lo) / 2\\n    if log_to_console:\\n        print(f'{hi=}, {lo=}, {avg=}')\\n    return hi, lo, avg\\n\\nprint(calc_hi_lo_avg())\\nprint(calc_hi_lo_avg(1, 2, 3, 4, 5))\\nprint(calc_hi_lo_avg(1, 2, 3, 4, 5, log_to_console=True))\", \"import time\\n\\ndef time_it(fn, *args, rep=1, **kwargs):\\n    start = time.perf_counter()\\n    for _ in range(rep):\\n        fn(*args, **kwargs)\\n    end = time.perf_counter()\\n    return (end - start) / rep\\n\\ndef compute_powers_1(n, *, start=1, end):\\n    result = []\\n    for i in range(start, end):\\n        result.append(n ** i)\\n    return result\\n\\ndef compute_powers_2(n, *, start=1, end):\\n    # using list comprehension\\n    return [n ** i for i in range(start, end)]\\n\\ndef compute_powers_3(n, *, start=1, end):\\n    # using generator expression\\n    return (n ** i for i in range(start, end))\\n\\nprint(f'{time_it(compute_powers_1, 2, rep=5, end=20000)=}')\\nprint(f'{time_it(compute_powers_2, 2, rep=5, end=20000)=}')\\nprint(f'{time_it(compute_powers_3, 2, rep=5, end=20000)=}')\", \"import datetime\\n\\n# buggy default value for dt\\ndef log_1(msg, *, dt=datetime.datetime.now(datetime.UTC)):\\n    print(f'{dt}: {msg}')\\n\\ndef log_2(msg, *, dt=None):\\n    dt = dt or datetime.datetime.now(datetime.UTC)\\n    print(f'{dt}: {msg}')\\n\\nlog_1('msg_1')\\nlog_1('msg_2')\\nprint('-'*10)\\nlog_2('msg_1')\\nlog_2('msg_2')\", 'my_list = [1, 2]\\ndef func(a=my_list):\\n    print(a)\\n\\nfunc()\\nmy_list.append(3)\\nfunc() # the default value of a was changed unexpectedly', \"# another example of buggy default value\\ndef add_to_list(name, quantity=1, unit='unit', lst=[]):\\n    lst.append(f'{name}: {quantity} {unit}')\\n    return lst\\n\\nshopping_list_1 = add_to_list('apple', 2, 'kilo')\\nadd_to_list('milk', 1, 'liter', shopping_list_1)\\nprint(shopping_list_1)\\n\\nshopping_list_2 = add_to_list('chicken', 2, 'kilo')\\nadd_to_list('eggs', 2, 'dozen', shopping_list_2)\\nprint(shopping_list_2)\\n\\n# because the default value for lst has already been evaluated to the same address for the list when the function is defined\\nprint('shopping_list_1 is shopping_list_2:', shopping_list_1 is shopping_list_2)\", \"def factorial(n: int):\\n    if n < 1:\\n        return 1\\n    else:\\n        print(f'calculating {n}!')\\n        return n * factorial(n - 1)\\n    \\nprint(factorial(3))\\nprint(factorial(3))\", \"# cached version\\n# the same default dictionary will be used by the function\\ndef factorial_cached(n, cache={}):\\n    if n < 1:\\n        return 1\\n    elif n in cache:\\n        return cache[n]\\n    else:\\n        print(f'calculating {n}!')\\n        result = n * factorial_cached(n - 1)\\n        cache[n] = result\\n        return result\\n    \\nprint(factorial_cached(3))\\nprint(factorial_cached(3)) # with cache no need to calculate the same number\\nprint(factorial_cached(2))\\nprint(factorial_cached(4))\", 'def my_func(a: \\'annotation for a\\',\\n            b: \\'annotation for b\\' = 1) -> \\'something annotation for return\\':\\n    \"\"\"documentation for my function\"\"\"\\n    return a * b\\n\\nhelp(my_func)\\nprint(my_func.__doc__)\\nprint(my_func.__annotations__)', \"def my_func(a: str,\\n            b: 'int > 0' = 1,\\n            *args: 'additional args',\\n            k1: 'keyword-only arg 1',\\n            k2: 'keyword-only arg 2' = 100,\\n            **kwargs: 'additional keyword-only args') -> 'return something':\\n    print(a, b, args, k1, k2, kwargs)\\n\\nprint(my_func.__annotations__)\\nmy_func('hello', 1, 2, 3, k1='world', k3='times')\", \"f = lambda x, y, *args, z='z', **kwargs: (x, y, args, z, kwargs) # the () of return expression is required here\\nf('x', 'y', 1, 2, 3, kw1='1', kw2='2')\", 'def apply_func(x, func):\\n    return func(x)\\n\\nprint(apply_func(2, lambda x: x ** 2))\\nprint(apply_func(3, lambda x: x ** 3))', 'def apply_func(func, *args, **kwargs):\\n    return func(*args, **kwargs)\\n\\nprint(apply_func(lambda x, y: x + y, 1, 2))\\nprint(apply_func(lambda x, *, y: x + y, 1, y=2))\\nprint(apply_func(lambda *args: sum(args), 1, 2, 3, 4, 5))', \"complex_list = [3 + 3j, 1 - 1j, 6 + 2j, 0, -1 -4j]\\n# sort complex_list according to the square of the absolute value of a complex number\\nprint(sorted(complex_list, key=lambda c: c.real ** 2 + c.imag ** 2))\\n\\nname_list = ['Tony', 'Chaplin', 'John', 'Helen', 'Max']\\n# sort name_list according to the last letter of a name\\n# stable sort, i.e. the relative order of elements that compare equal will be remained\\nprint(sorted(name_list, key=lambda n: n[-1]))\", '# randomize an iterable using sorted\\n\\nimport random\\n\\nl = [1, 2, 3, 4, 5, 6, 7, 8, 9, 10]\\n\\nprint(sorted(l, key=lambda e: random.random()))\\nprint(sorted(l, key=lambda e: random.random()))\\nprint(sorted(l, key=lambda e: random.random()))', \"from decimal import Decimal\\n\\nprint(callable(print))\\nprint(print()) # if something is callable, it always has a return value\\nprint(callable(Decimal)) # classes are also callable\\n\\nclass MyClass:\\n    def __init__(self):\\n        print('classes are callable')\\n    \\n    def __call__(self):\\n        print('instances can be callable too')\\n\\nmy_class = MyClass()\\nmy_class() # instances can be callable\\nprint(callable(my_class))\", 'l1 = [1, 2, 3, 4, 5]\\nl2 = [7, 8, 9]\\nl3 = map(lambda x, y: x + y, l1, l2)\\nprint(l3)\\nprint(list(l3))\\n\\nl4 = [0, 1, 2, 3, 4, 5, 6, 7, 8, 9]\\nl5 = filter(None, l4)\\nl6 = filter(lambda x: x % 2 == 0, l4)\\nprint(l5)\\nprint(l6)\\nprint(list(l5))\\nprint(list(l6))', \"def factorial(n):\\n    return 1 if n < 2 else n * factorial(n - 1)\\n\\nresult = map(factorial, range(5))\\n\\nfor i in result:\\n    print(i)\\n\\n# won't print anything\\n# generators can only be iterated over once\\n# attempting to iterate over an exhausted generator will not produce any output\\nfor i in result:\\n    print(i)\\n\\nprint(list(result)) # empty list too\", 'def reduce_sequence(func, sequence):\\n    result = sequence[0]\\n    for e in sequence[1:]:\\n        result = func(result, e)\\n    return result\\n\\nprint(reduce_sequence(lambda x, y: x + y, range(10))) # range is actually an immutable sequence type\\nprint(reduce_sequence(lambda x, y: x if x > y else y, range(10)))', \"from functools import reduce\\n\\nprint(reduce(lambda x, y: x + ' ' + y, ('Python', 'is', 'super', 'awesome')))\\n\\n# using reduce to reproduce any()\\nprint(reduce(lambda x, y: bool(x or y), (0, '', 1, 0.0, 'and', False)))\\nprint(reduce(lambda x, y: bool(x or y), (0, '', None, 0.0, [], (), {}, False)))\\n\\n# using reduce to reproduce all()\\nprint(reduce(lambda x, y: bool(x and y), (0, '', 1, 0.0, 'and', False)))\\nprint(reduce(lambda x, y: bool(x and y), (1, 'a', 0.1, [1], True)))\\n\\n# using reduce to calculate factorial\\ndef factorial(n):\\n    return reduce(lambda x, y: x * y, range(1, n + 1), 1)\\n\\nprint(factorial(1))\\nprint(factorial(3))\\nprint(factorial(10))\", \"# similar to functools.partial()\\ndef partial_func(func, /, *args, **kwargs):\\n    def new_func(*new_args, **new_kwargs):\\n        new_kwargs = {**kwargs, **new_kwargs}\\n        return func(*args, *new_args, **new_kwargs)\\n    return new_func\\n\\nint_base_2 = partial_func(int, base=2)\\nprint(f'{int_base_2('1010')=}')\\n\\nsquare = partial_func(pow, exp=2)\\nprint(f'{square(10)=}')\\nprint(f'{square(10, exp=3)}') # you can still overwrite the value of exp predefined in the partial function\\n\\nmodular_multiplicative_inverse = partial_func(pow, exp=-1)\\nprint(f'{modular_multiplicative_inverse(38, mod=97)=}') # here mod must be keyword argument\", \"from functools import partial\\n\\nint_base_2 = partial(int, base=2)\\nprint(int_base_2('1010'))\\n\\ndef my_func(a, b, *args, k1, k2, **kwargs):\\n    print(a, b, args, k1, k2, kwargs)\\n\\n# if want to freeze a and k1 of my_func\\nmy_func_partial = partial(my_func, 'a', k1='k1')\\nmy_func_partial('b', 'args1', 'args2', k2='k2', k3='k3', k4='k4')\\n\\n# sort list of complex numbers according to their absolute value\\nsorted_by_abs = partial(sorted, key=lambda x: abs(x))\\ncomplexes = [1 + 2j, 3 - 4j, 0, 7 - 8j, 4 + 5j]\\nprint(sorted_by_abs(complexes))\\n\\n# sort list of points according to their distance to a certain point\\norigin = (0, 0)\\npoints = [(0, 5), (0, 0), (3, 4), (-5, 1), (-3, -2)]\\ndistance_square = lambda a, b: (a[0] - b[0]) ** 2 + (a[1] - b[1]) ** 2\\npoints_sorted = sorted(points, key=partial(distance_square, origin))\\nprint(points_sorted)\", \"import operator\\nfrom functools import reduce\\n\\nprint(reduce(lambda x, y: x * y, [1, 2, 3, 4]))\\nprint(reduce(operator.mul, [1, 2, 3, 4]))\\n\\nget_item_2 = operator.itemgetter(2)\\nprint(get_item_2([1, 2, 3, 4]))\\nprint(get_item_2('abcde'))\\n\\nget_item_2_3 = operator.itemgetter(2, 3)\\nprint(get_item_2_3([1, 2, 3, 4]))\\nprint(get_item_2_3('abcde'))\\n\\nclass MyClass:\\n    def __init__(self):\\n        self.a = 'a'\\n        self.b = 'b'\\n\\n    def test(self):\\n        print('test method get called')\\n\\nobj = MyClass()\\nget_attr_a = operator.attrgetter('a')\\nprint(get_attr_a(obj))\\n\\nget_attr_test = operator.attrgetter('test')\\nget_attr_test(obj)()\\nmethod_caller_test = operator.methodcaller('test')\\nmethod_caller_test(obj)\\n\\ncomplexes = [5 - 10j, 3 + 2j, -2 - 1j, 2 + 10j, 8 - 5j]\\nsorted_by_real = sorted(complexes, key=operator.attrgetter('real'))\\nprint(sorted_by_real)\\n\\ntuples = [(2, 3, 4), (-2, 3, 1), (0,), (5, 7, 1), (3, 4)]\\nsorted_by_first = sorted(tuples, key=operator.itemgetter(0))\\n# sorted_by_first = sorted(tuples, key=lambda x: x[0])\\nprint(sorted_by_first)\", \"def my_func():\\n    global var\\n    var = 'hello'\\n\\n# print(var) # name 'var' is not defined\\nmy_func() # because of var is global, it is still available after the function finishes\\nprint(var)\\n\\na = 10\\ndef my_func():\\n    print(f'global a? {a=}') # local variable 'a' referenced before assignment\\n    a = 'hello' # a becomes local variable at compile-time\\n\\ndef print(string):\\n    return f'hello {string}'\\n\\nprint('world') # doesn't print anything, only returns a string, because the built-in print function has been masked by the string function in the module scope\\ndel print\\nprint('world')\", \"x = 'python'\\n\\ndef outer():\\n    global x\\n    x = 'monty'\\n\\n    def inner():\\n        # nonlocal x # no binding for nonlocal 'x'\\n        x = 'hello'\\n        print(x)\\n\\n    inner()\\n    print(x)\\n\\nouter()\", \"def outer():\\n    count = 0\\n\\n    def inner1():\\n        nonlocal count\\n        count += 1\\n        return count\\n    \\n    def inner2():\\n        nonlocal count\\n        count += 1\\n        return count\\n    \\n    return inner1, inner2\\n\\nf1, f2 = outer()\\nprint(f'{f1.__code__.co_freevars=}')\\nprint(f'{f2.__code__.co_freevars=}')\\nprint(f'{f1.__closure__=}')\\nprint(f'{f2.__closure__=}') # same cell as above\\nprint(f1())\\nprint(f2())\", \"def create_adders():\\n    adders = []\\n    for n in range(1, 4):\\n        adders.append(lambda x, y=n: x + y) # defaults get evaluated at creation-time\\n    return adders\\n\\nadders = create_adders()\\nprint(f'{adders[0].__code__.co_freevars=}') # no free variables\\nprint(f'{adders[0].__closure__=}') # not a closure, so no cells\\n# at function creation-time, n is evaluated and put that into y as the default for y\\n# there's not even a mention of n in the body of the function\\n\\nprint(f'{adders[0](10)=}')\\nprint(f'{adders[1](10)=}')\\nprint(f'{adders[2](10)=}')\", 'class Averager:\\n    def __init__(self):\\n        self.numbers = []\\n\\n    def add(self, number):\\n        self.numbers.append(number)\\n        return sum(self.numbers) / len(self.numbers)\\n\\ndef outer():\\n    numbers = []\\n    def add(number):\\n        numbers.append(number)\\n        return sum(numbers) / len(numbers)\\n    return add\\n\\naverager = Averager()\\nprint(averager.add(1))\\nprint(averager.add(2))\\nprint(averager.add(3))\\nprint(averager.add(4))\\n\\ncalc_ave = outer()\\nprint(calc_ave(1))\\nprint(calc_ave(2))\\nprint(calc_ave(3))\\nprint(calc_ave(4))', \"def outer_better():\\n    count = 0\\n    total = 0\\n    def add(number):\\n        nonlocal count\\n        nonlocal total\\n        count += 1\\n        total += number\\n        return total / count\\n    return add\\n\\ncalc_ave = outer_better()\\nprint(f'{calc_ave.__code__.co_freevars=}')\\nprint(f'{calc_ave.__closure__=}')\\nprint(calc_ave(1))\\nprint(calc_ave(2))\\nprint(calc_ave(3))\\nprint(calc_ave(4))\", 'from time import perf_counter\\n\\nclass Timer:\\n    def __init__(self):\\n        self.start = perf_counter()\\n\\n    def __call__(self):\\n        return perf_counter() - self.start\\n    \\ndef outer():\\n    start = perf_counter()\\n    def poll():\\n        return perf_counter() - start\\n    return poll\\n    \\nt1 = Timer()\\nprint(t1())\\n\\ntimer = outer()\\nprint(timer())', \"def counter(fn):\\n    # a function report the times of the designated function get called\\n    # it actually works the same way as a decorator\\n    count = 0\\n    def inner(*args, **kwargs):\\n        nonlocal count\\n        count += 1\\n        print(f'{fn.__name__} has been called {count} times')\\n        return fn(*args, **kwargs)\\n    return inner\\n\\ndef add(a, b):\\n    return a + b\\n\\ndef mul(a, b):\\n    return a * b\\n\\nadd = counter(add)\\nprint(add(1, 2))\\nprint(add(2, 3))\\n\\nmul = counter(mul)\\nprint(mul(4, 5))\\nprint(mul(2, 7))\", 'def counter(fn):\\n    count = 0\\n\\n    def inner(*args, **kwargs):\\n        nonlocal count\\n        count += 1\\n        print(f\\'Function {fn.__name__} has been called {count} times\\')\\n        return fn(*args, **kwargs)\\n    return inner\\n\\ndef add(a: int, b: int = 0):\\n    \"\"\"\\n    adds two values\\n    \"\"\"\\n    return a + b\\n\\nhelp(add)\\n\\nadd = counter(add)\\nhelp(add)\\nprint(f\\'{add(1, 2)=}\\')', 'def counter(fn):\\n    count = 0\\n\\n    def inner(*args, **kwargs):\\n        nonlocal count\\n        count += 1\\n        print(f\\'Function {fn.__name__} has been called {count} times\\')\\n        return fn(*args, **kwargs)\\n    return inner\\n\\n# use the @wrapper syntax\\n@counter\\ndef add(a: int, b: int = 0):\\n    \"\"\"\\n    adds two values\\n    \"\"\"\\n    return a + b\\n\\nhelp(add)\\nprint(f\\'{add(1, 2)=}\\')', 'from functools import wraps\\n\\ndef counter(fn):\\n    count = 0\\n\\n    @wraps(fn) # fix the metadata of inner\\n    def inner(*args, **kwargs):\\n        nonlocal count\\n        count += 1\\n        print(f\\'Function {fn.__name__} has been called {count} times\\')\\n        return fn(*args, **kwargs)\\n    # the following can only fix function name and docstring\\n    # inner.__name__ = fn.__name__\\n    # inner.__doc__ = fn.__doc__\\n\\n    # works the same as the @wraps decorator\\n    # inner = wraps(fn)(inner)\\n    return inner\\n\\n@counter\\ndef add(a: int, b: int = 0):\\n    \"\"\"\\n    adds two values\\n    \"\"\"\\n    return a + b\\n\\nhelp(add)\\nprint(f\\'{add(1, 2)=}\\')', 'def timed(fn):\\n    from time import perf_counter\\n    from functools import wraps\\n\\n    @wraps(fn)\\n    def inner(*args, **kwargs):\\n        start = perf_counter()\\n        result = fn(*args, **kwargs)\\n        elapsed = perf_counter() - start\\n\\n        args_list = [str(arg) for arg in args]\\n        kwargs_list = [f\\'{k}={v}\\' for k, v in kwargs.items()]\\n        args_string = \\',\\'.join(args_list + kwargs_list)\\n        print(f\\'{fn.__name__}({args_string}) took {elapsed}s to run\\')\\n        return result\\n    \\n    return inner\\n\\n# recursion\\n# @timed\\ndef calc_nth_fibonacci_recursion(n):\\n    \"\"\"\\n    Return the nth number of a fibonacci series, n starting from 1\\n    \"\"\"\\n    return 1 if n < 3 else calc_nth_fibonacci_recursion(n - 1) + calc_nth_fibonacci_recursion(n - 2)\\n\\n# calculate the total time elapsed\\n@timed\\ndef fib_recursion(n):\\n    return calc_nth_fibonacci_recursion(n)\\n\\n# calc_nth_fibonacci_recursion(6)\\n\\nprint(f\\'{fib_recursion(30)=}\\')\\n\\n# loop\\n@timed\\ndef calc_nth_fibonacci_loop(n):\\n    if n <= 2:\\n        return 1\\n    fib_1 = 1\\n    fib_2 = 1\\n    for n in range(3, n + 1):\\n        fib_1, fib_2 = fib_2, fib_1 + fib_2\\n    return fib_2\\n\\nprint(f\\'{calc_nth_fibonacci_loop(30)=}\\')\\n\\n# reduce\\n@timed\\ndef calc_nth_fibonacci_reduce(n):\\n    from functools import reduce\\n    if n <= 1:\\n        return 1\\n    fib = reduce(lambda x, y: (x[0] + x[1], x[0]),\\n           range(n - 1),\\n           (1, 0))\\n    return fib[0]\\n\\nprint(f\\'{calc_nth_fibonacci_reduce(30)=}\\')', \"def logger(fn):\\n    from functools import wraps\\n    import datetime\\n\\n    @wraps(fn)\\n    def inner(*args, **kwargs):\\n        run_dt = datetime.datetime.now(datetime.UTC)\\n        result = fn(*args, **kwargs)\\n        print(f'{run_dt}: called {fn.__name__}')\\n        return result\\n    \\n    return inner\\n\\ndef timed(fn):\\n    from functools import wraps\\n    from time import perf_counter\\n\\n    @wraps(fn)\\n    def inner(*args, **kwargs):\\n        start = perf_counter()\\n        result = fn(*args, **kwargs)\\n        elapsed = perf_counter() - start\\n        print(f'{fn.__name__} ran for {elapsed}s')\\n        return result\\n    \\n    return inner\\n\\n# stacked decorators\\n# the decorators are executed from top to bottom\\n@logger\\n@timed\\ndef factorial(n):\\n    from functools import reduce\\n    from operator import mul\\n\\n    return reduce(mul, range(1, n + 1))\\n\\n# the equivalent to the above decorators\\n# factorial = logger(timer(factorial))\\n\\nprint(factorial(10))\", \"# fibonacci class with cache\\nclass Fib:\\n    def __init__(self):\\n        self.cache = {1: 1, 2: 1}\\n\\n    def __call__(self, n):\\n        if n in self.cache:\\n            return self.cache[n]\\n        print(f'Calculating fib({n})')\\n        self.cache[n] = self.__call__(n - 1) + self.__call__(n - 2)\\n        return self.cache[n]\\n    \\nfib = Fib()\\nprint(f'{fib(1)=}')\\nprint(f'{fib(2)=}')\\nprint(f'{fib(3)=}')\\nprint(f'{fib(4)=}')\\nprint(f'{fib(5)=}')\\nprint(f'{fib(4)=}')\\nprint(f'{fib(3)=}')\\nprint(f'{fib(2)=}')\", \"# closure with cache\\ndef outer():\\n    cache = {1: 1, 2: 1}\\n\\n    def fib(n):\\n        if n not in cache:\\n            print(f'Calculating fib({n})')\\n            cache[n] = fib(n - 1) + fib(n - 2)\\n        return cache[n]\\n    \\n    return fib\\n\\nfib = outer()\\nprint(f'{fib(1)=}')\\nprint(f'{fib(2)=}')\\nprint(f'{fib(3)=}')\\nprint(f'{fib(4)=}')\\nprint(f'{fib(5)=}')\\nprint(f'{fib(4)=}')\", \"def memoize(fn):\\n    cache = {}\\n\\n    def inner(n):\\n        if n not in cache:\\n            cache[n] = fn(n)\\n        return cache[n]\\n    \\n    return inner\\n\\n# decorator with cache\\n@memoize\\ndef fib(n):\\n    print(f'Calculating fib({n})')\\n    return 1 if n < 3 else fib(n - 1) + fib(n - 2)\\n\\nprint(f'{fib(1)=}')\\nprint(f'{fib(2)=}')\\nprint(f'{fib(3)=}')\\nprint(f'{fib(4)=}')\\nprint(f'{fib(5)=}')\\nprint(f'{fib(4)=}')\", \"from functools import lru_cache\\n\\n# built-in decorator with cache\\n# @cache(user_function) return the same as lru_cache(maxsize=None)\\n# @functools.lru_cache(user_function)\\n# @functools.lru_cache(maxsize=128, typed=False)\\n@lru_cache\\ndef fib(n):\\n    print(f'Calculating fib({n})')\\n    return 1 if n < 3 else fib(n - 1) + fib(n - 2)\\n\\nprint(f'{fib(1)=}')\\nprint(f'{fib(2)=}')\\nprint(f'{fib(3)=}')\\nprint(f'{fib(4)=}')\\nprint(f'{fib(5)=}')\\nprint(f'{fib(4)=}')\\nprint(f'{fib(129)=}') # default maxsize=128, this will cause fib(1) replaced by fib(129)\\nprint(f'{fib(1)=}')\", \"def timed(fn, reps):\\n    from time import perf_counter\\n    from functools import wraps\\n\\n    @wraps(fn)\\n    def inner(*args, **kwargs):\\n        total_elapsed = 0\\n        for i in range(reps):\\n            start = perf_counter()\\n            result = fn(*args, **kwargs)\\n            total_elapsed += perf_counter() - start\\n        print(f'Average execution time: {total_elapsed / reps}')\\n        return result\\n\\n    return inner\\n\\n# @timed(10) # not working\\ndef my_func():\\n    print('my_func executed')\\n\\nmy_func = timed(my_func, 10)\\nmy_func()\", \"# the outer function is not itself a decorator\\n# instead it returns a decorator, just like what wraps do\\n# any arguments passed to outer can be referenced (as free variables) inside the decorator\\n# the outer function is called a decorator factory function\\ndef outer(reps):\\n    def timed(fn):\\n        from time import perf_counter\\n        from functools import wraps\\n\\n        @wraps(fn)\\n        def inner(*args, **kwargs):\\n            total_elapsed = 0\\n            for i in range(reps):\\n                start = perf_counter()\\n                result = fn(*args, **kwargs)\\n                total_elapsed += perf_counter() - start\\n            print(f'Average execution time: {total_elapsed / reps}')\\n            return result\\n\\n        return inner\\n\\n    return timed\\n\\n@outer(10) # outer gets called, and returns a parameterized decorator\\ndef my_func():\\n    print('my_func executed')\\n\\n# my_func = outer(10)(my_func) # equivalent to the decorator above\\nmy_func()\", \"def dec(fn):\\n    print('running dec')\\n\\n    def inner(*args, **kwargs):\\n        print('running inner')\\n        return fn(*args, **kwargs)\\n    \\n    return inner\\n\\n@dec\\ndef func():\\n    print('running func')\\n\\n# func = dec(func) # @dec equivalent\\n\\nprint('after func got decorated')\\nfunc()\", \"class DecoratorClass:\\n    def __init__(self, a, b):\\n        self.a = a\\n        self.b = b\\n\\n    def __call__(self, fn):\\n        print(f'decorate {fn.__name__}')\\n        def inner(*args, **kwargs):\\n            print(f'decorated function called: a={self.a}, b={self.b}')\\n            return fn(*args, **kwargs)\\n        return inner\\n\\n@DecoratorClass(10, 20)\\ndef func():\\n    print('func called')\\n\\nprint('after func decorated')\\nfunc()\", \"class Decorator:\\n    def __init__(self, fn): # cannot parameterized fn\\n        print(f'decorate {fn.__name__}')\\n        self.fn = fn\\n\\n    def __call__(self, *args, **kwargs):\\n        print(f'decorated {self.fn.__name__} called')\\n        return self.fn(*args, **kwargs)\\n    \\n@Decorator\\ndef func(a, b=1, *, c):\\n    print(f'{a=}, {b=}, {c=}')\\n\\nprint('after func decorated')\\nfunc(0, c=2)\", \"def speak_decorator(cls):\\n    cls.speak = lambda self, message: f'{self.__class__.__name__} says {message}'\\n    return cls # the return of cls if not necessary if not using @wrapper syntax or its equivalent\\n\\n@speak_decorator\\nclass Person:\\n    pass\\n\\n# Person = speak_decorator(Person) # decorator equivalent\\n\\np = Person()\\np.speak('Hello world!')\", \"import datetime\\n\\ndef debug_info(cls):\\n    def info(self):\\n        results = []\\n        results.append(f'time: {datetime.datetime.now(datetime.UTC)}')\\n        results.append(f'class: {self.__class__.__name__}')\\n        results.append(f'id: {hex(id(self))}')\\n        for k, v in vars(self).items():\\n            results.append(f'{k}: {v}')\\n        return results\\n    \\n    cls.debug = info\\n    return cls\\n\\n@debug_info\\nclass Person:\\n    def __init__(self, name, birth_year):\\n        self.name = name\\n        self.birth_year = birth_year\\n\\n    def say_hi(self):\\n        return 'Hello there!'\\n    \\np = Person('John', 1999)\\nprint(p.say_hi())\\nprint(p.debug())\", \"@debug_info\\nclass Auto:\\n    def __init__(self, make, model, year, top_speed, speed):\\n        self.make = make\\n        self.model = model\\n        self.year = year\\n        self.top_speed = top_speed\\n        self.speed = speed\\n\\n    @property\\n    def speed(self):\\n        return self._speed\\n    \\n    @speed.setter\\n    def speed(self, speed):\\n        if speed > self.top_speed:\\n            raise ValueError('Speed cannot exceed top_speed')\\n        self._speed = speed\\n\\n    def run(self):\\n        print('The car is running')\\n\\nauto = Auto('Ford', 'Model T', 1908, 45, 10)\\nprint(auto.speed)\\n# auto.speed = 100 # raise ValueError here\\nauto.speed = 20\\nauto.debug()\", \"def complete_ordering(cls):\\n    if '__eq__' in dir(cls) and '__lt__' in dir(cls):\\n        cls.__le__ = lambda self, other: self < other or self == other\\n        cls.__gt__ = lambda self, other: not (self < other or self == other) # raise TypeError if other of unsupported type\\n        cls.__ge__ = lambda self, other: not (self < other)\\n        cls.__ne__ = lambda self, other: not (self == other)\\n    return cls\\n\\n@complete_ordering\\nclass Point:\\n    def __init__(self, x, y):\\n        self.x = x\\n        self.y = y\\n\\n    def __abs__(self):\\n        return (self.x ** 2 + self.y ** 2) ** 0.5\\n    \\n    def __repr__(self):\\n        return f'Point({self.x}, {self.y})'\\n    \\n    def __eq__(self, other):\\n        if isinstance(other, Point):\\n            return self.x == other.x and self.y == other.y\\n        else:\\n            return False\\n        \\n    def __lt__(self, other):\\n        if isinstance(other, Point):\\n            return abs(self) < abs(other)\\n        else:\\n            return NotImplemented\\n\\np1, p2, p3 = Point(1, 2), Point(1, 2), Point(2, 3)\\nn = 1\\nprint(f'{(p1 == p2)=}')\\nprint(f'{(p1 != p2)=}')\\nprint(f'{(p1 > p2)=}')\\nprint(f'{(p1 >= p2)=}')\\nprint(f'{(p1 < p2)=}')\\nprint(f'{(p1 <= p2)=}')\\nprint(f'{(p1 < p3)=}')\\nprint(f'{(p1 >= p3)=}')\\nprint(f'{(p1 != 1)=}')\\n# print(f'{(p1 < 1)=}') # raise TypeError\\n# print(f'{(p1 > 1)=}')\\n# print(f'{(p1 >= 1)=}')\", \"from functools import total_ordering\\n\\n# Given a class defining one or more rich comparison ordering methods, this class decorator supplies the rest.\\n# The class must define one of __lt__(), __le__(), __gt__(), or __ge__(). In addition, the class should supply an __eq__() method.\\n@total_ordering\\nclass Point:\\n    def __init__(self, x, y):\\n        self.x = x\\n        self.y = y\\n\\n    def __abs__(self):\\n        return (self.x ** 2 + self.y ** 2) ** 0.5\\n    \\n    def __repr__(self):\\n        return f'Point({self.x}, {self.y})'\\n    \\n    def __eq__(self, other):\\n        if isinstance(other, Point):\\n            return self.x == other.x and self.y == other.y\\n        else:\\n            return False\\n        \\n    def __lt__(self, other):\\n        if isinstance(other, Point):\\n            return abs(self) < abs(other)\\n        else:\\n            return NotImplemented\\n        \\np1, p2, p3 = Point(1, 2), Point(1, 2), Point(2, 3)\\nn = 1\\nprint(f'{(p1 == p2)=}')\\nprint(f'{(p1 != p2)=}')\\nprint(f'{(p1 > p2)=}')\\nprint(f'{(p1 >= p2)=}')\\nprint(f'{(p1 < p2)=}')\\nprint(f'{(p1 <= p2)=}')\\nprint(f'{(p1 < p3)=}')\\nprint(f'{(p1 >= p3)=}')\\nprint(f'{(p1 != 1)=}')\\n# print(f'{(p1 < 1)=}') # raise TypeError\\n# print(f'{(p1 > 1)=}')\\n# print(f'{(p1 >= 1)=}')\", \"from html import escape\\nfrom decimal import Decimal\\n\\ndef html_escape(obj):\\n    return escape(str(obj))\\n\\ndef html_int(i):\\n    return f'{i} (<i>{hex(i)}</i>)'\\n\\ndef html_real(r):\\n    return f'{r:.2f}'\\n\\ndef html_str(s):\\n    return html_escape(s).replace('\\\\n', '<br>\\\\n')\\n\\ndef html_list(l):\\n    items = (f'<li>{htmlize(item)}</li>' for item in l)\\n    return '<ul>\\\\n' + '\\\\n'.join(items) + '\\\\n</ul>'\\n\\ndef html_dict(d):\\n    items = (f'<li>{html_escape(k)}={htmlize(v)}</li>' for k, v in d.items())\\n    return '<ul>\\\\n' + '\\\\n'.join(items) + '\\\\n</ul>'\\n\\ndef htmlize(arg):\\n    registry = {\\n        object: html_escape,\\n        int: html_int,\\n        float: html_real,\\n        Decimal: html_real,\\n        str: html_str,\\n        list: html_list,\\n        tuple: html_list,\\n        set: html_list,\\n        dict: html_dict\\n    }\\n    return registry.get(type(arg), registry[object])(arg)\\n\\nprint(htmlize(['a', 1, 1.2, 'hello\\\\nworld, 1 > 2 != 3',\\n               (True, False, None),\\n               {1: '1', 2: '2', 3: '3'},\\n               {'x', 'y', 'z'}]))\", \"from html import escape\\n\\ndef single_dispatch(fn):\\n    registry = {}\\n    registry[object] = fn\\n\\n    def decorated(arg):\\n        return registry.get(type(arg), registry[object])(arg)\\n\\n    def register(type_):\\n        def inner(fn_extension):\\n            registry[type_] = fn_extension\\n            return fn_extension # just return back the decorated function as it is\\n        return inner\\n\\n    def dispatch(type_):\\n        return registry.get(type_, registry[object])\\n\\n    decorated.register = register\\n    decorated.dispatch = dispatch\\n    decorated.registry = registry\\n    return decorated\\n\\n@single_dispatch\\ndef htmlize(obj):\\n    return escape(str(obj))\\n\\nprint(f'{htmlize.__name__=}')\\nprint(f'{htmlize.register=}')\\nprint(htmlize('I can fly!\\\\n1 < 100'))\\n\\n# register decorator can be stacked because it returns back the decorated function as it is\\n@htmlize.register(set)\\n@htmlize.register(tuple)\\n@htmlize.register(list)\\ndef html_sequence(sequence):\\n    items = (f'<li>{htmlize(item)}</li>' for item in sequence)\\n    return '<ul>\\\\n' + '\\\\n'.join(items) + '\\\\n</ul>'\\n\\nprint(htmlize(['a', 'b', 'c']))\\nprint(htmlize(('1', '2', '3')))\\nprint(htmlize.registry)\\nprint(htmlize.dispatch(int))\", \"london = 'London', 'UK', 8780000\\nnew_york = 'New York', 'USA', 8500000\\nbeijing = 'Beijing', 'China', 21000000\\ncities = [london, new_york, beijing]\\n\\ntotal = 0\\n# for city in cities:\\n#     total += city[2]\\nfor *_, population in cities:\\n    total += population\\nprint(total)\\n\\ntotal = sum(city[2] for city in cities)\\nprint(total)\", \"# random.uniform(a, b)\\n# Return a random floating point number N such that a <= N <= b for a <= b and b <= N <= a for b < a.\\nfrom random import uniform\\n\\ndef random_shot(radius=1):\\n    random_x = uniform(-radius, radius)\\n    random_y = uniform(-radius, radius)\\n\\n    is_in_circle = random_x ** 2 + random_y ** 2 <= radius ** 2\\n    return random_x, random_y, is_in_circle\\n\\ndef in_circle_rate(repetitions):\\n    count = 0\\n    for _ in range(repetitions):\\n        *_, inside = random_shot()\\n        count += inside # bool is indeed subclass of int\\n    return count / repetitions\\n\\nprint(f'Pi = {in_circle_rate(1000) * 4}')\\nprint(f'Pi = {in_circle_rate(10000) * 4}')\\nprint(f'Pi = {in_circle_rate(100000) * 4}')\\nprint(f'Pi = {in_circle_rate(1000000) * 4}')\", \"from collections import namedtuple\\n\\nPoint2D = namedtuple('Point2D', 'x y')\\n\\ndef dot_product(a, b):\\n    return sum(p[0] * p[1] for p in zip(a, b))\\n\\np1 = Point2D(x=1, y=2)\\n# p1 = Point2D(x=1, y=2, y=3) # SyntaxError: keyword argument repeated: y\\np2 = Point2D(3, 4)\\np3 = Point2D(1, 2)\\nprint(f'{p1=}')\\nprint(f'{type(p2)=}')\\nprint(f'{isinstance(p2, tuple)=}')\\nprint(f'{p1.x=}, {p1.y=}')\\nprint(f'{p2.x=}, {p2.y=}')\\nprint(f'{p3.x=}, {p3.y=}')\\nprint(f'{(p1 == p3)=}')\\nx, y = p1\\nprint(f'{x=}, {y=}')\\nprint(f'p1 dot p2 = {dot_product(p1, p2)}')\\nprint(p1._asdict())\\nprint(Point2D._fields)\\n# print(Point2D._source) # removed in version 3.7\\np1_sliced = p1[:1]\\nprint(f'{p1_sliced=}')\\nprint(f'{type(p1_sliced)=}')\\n# print(f'{(p1_sliced._fields)=}') # after slicing it be a normal tuple\", \"from collections import namedtuple\\n\\nPoint2D = namedtuple('Point2D', 'x y')\\np1 = Point2D(1, 2)\\nprint(f'{p1=} @ {hex(id(p1))}')\\np1 = Point2D(p1.x, y=3)\\nprint(f'{p1=} @ {hex(id(p1))}')\\np1 = p1._replace(y=4) # create a new instance by replacing some values with keyword arguments\\nprint(f'{p1=} @ {hex(id(p1))}')\\n\\nPoint3D = namedtuple('Point3D', Point2D._fields + ('z',)) # extend named tuple\\np2 = Point3D._make(p1 + (5,))\\nprint(f'{p2=} @ {hex(id(p2))}')\\np3 = Point3D(*p1, 6)\\nprint(f'{p3=} @ {hex(id(p3))}')\", \"from collections import namedtuple\\n\\nPoint2D = namedtuple('Point2D', 'x y')\\np1 = Point2D(1, 1)\\nprint(Point2D.__doc__)\\nprint(Point2D.x.__doc__)\\nprint(Point2D.y.__doc__)\", \"from collections import namedtuple\\n\\nVector2D = namedtuple('Vector2D', 'x1 y1 x2 y2 origin_x origin_y')\\nVector2D.__new__.__defaults__ = (0, 0)\\nv1 = Vector2D(1, 1, 2, 2)\\nprint(v1)\\n\\nVector2D = namedtuple('Vector2D', 'x1 y1 x2 y2 origin_x origin_y', defaults=(10, 10))\\nv2 = Vector2D(3, 3, 4, 4)\\nprint(v2)\", \"from random import randint, random\\nfrom collections import namedtuple\\n\\nColor = namedtuple('Color', 'red green blue alpha', defaults=(0, 0, 0, 0))\\n\\ndef random_color():\\n    rgb = (randint(0, 255) for _ in range(3))\\n    a = round(random(), 2)\\n    return Color(*rgb, a)\\n\\nc1 = random_color()\\nc2 = random_color()\\nc3 = random_color()\\nprint(c1)\\nprint(c2)\\nprint(c3)\", \"# alternative to dictionaries\\n\\nfrom collections import namedtuple\\n\\ndata_dict = {'key1': 1, 'key2': 2, 'key3': 3}\\n\\nData = namedtuple('Data', data_dict.keys())\\ndata = Data(**data_dict)\\nprint(data)\\nprint(data._asdict())\\nkey_name = 'key1'\\nprint(f'{getattr(data, key_name)=}')\\nprint(f'{data.key1=}')\", \"# convert a list of dictionaries to a list of named tuples\\n\\nfrom collections import namedtuple\\n\\ndata_dicts = [\\n    {'key1': 1, 'key2': 2},\\n    {'key1': 3, 'key2': 4},\\n    {'key1': 5, 'key2': 6, 'key3': 7},\\n    {'key2': 100}\\n]\\n\\n# keys = set(key for key in data_dict for data_dict in data_dicts)\\n# keys = {key for key in data_dict for data_dict in data_dicts}\\nkeys = {key for data_dict in data_dicts for key in data_dict}\\nprint(keys)\\nData = namedtuple('Data', sorted(keys), defaults=(None for _ in keys))\\ndata_list = [Data(**data_dict) for data_dict in data_dicts]\\nprint(data_list)\", \"from collections import namedtuple\\n\\ndef tuplize_dicts(dicts, struct_name=None):\\n    struct_name = struct_name or 'Struct'\\n    keys = {key for dict_ in dicts for key in dict_}\\n    Struct = namedtuple(struct_name, sorted(keys), rename=True, defaults=(None for _ in keys))\\n    return [Struct(**dict_) for dict_ in dicts]\\n\\ndata_dicts = [\\n    {'key1': 1, 'key2': 2},\\n    {'key1': 3, 'key2': 4},\\n    {'key1': 5, 'key2': 6, 'key3': 7},\\n    {'key2': 100}\\n]\\n\\ndata_list = tuplize_dicts(data_dicts, 'Data')\\nprint(data_list)\", \"import math\\nimport fractions\\nimport sys\\nimport types\\n\\nprint(math) # a built-in module (written in C), providing access to system functionality\\nprint(fractions) # a standard library module (written in Python), providing standardized solutions for many problems that occur in everyday programming\\nprint(sys) # built-in\\nprint(types) # standard library\\nprint(type(math))\\nprint(math.__dict__)\\nprint(dir(math))\\nprint(isinstance(math, types.ModuleType))\\nprint(math.__dict__['pi'])\\nprint(getattr(math, 'pi'))\\n\\n# globals()\\n# return the dictionary implementing the current module namespace\\n# for code within functions, this is set when the function is defined and remains the same regardless of where the function is called\\nprint(globals())\\n\\n# locals()\\n# update and return a dictionary representing the current local symbol table\\n# free variables are returned by locals() when it is called in function blocks, but not in class blocks\\n# at the module level, locals() and globals() are the same dictionary\\nprint(locals())\\nprint(globals() is locals())\\n\\nprint(sys.modules)\"], 'Out': {10: True, 11: True, 12: False, 16: (None, 1440, (1, 2, 1, 2, 1, 2, 1, 2, 1, 2), 'abababababababababab', 'abcabcabcabcabcabcabc', '1', '2', 3), 17: (None, (1, 2, 3)), 51: ('x', 'y', (1, 2, 3), 'z', {'kw1': '1', 'kw2': '2'}), 86: 'Person says Hello world!', 88: ['time: 2024-01-15 20:54:25.376760+00:00', 'class: Auto', 'id: 0x2185dac6420', 'make: Ford', 'model: Model T', 'year: 1908', 'top_speed: 45', '_speed: 20']}, 'get_ipython': <bound method InteractiveShell.get_ipython of <ipykernel.zmqshell.ZMQInteractiveShell object at 0x000002185DA88A40>>, 'exit': <IPython.core.autocall.ZMQExitAutocall object at 0x000002185DA8B3E0>, 'quit': <IPython.core.autocall.ZMQExitAutocall object at 0x000002185DA8B3E0>, 'open': <function open at 0x000002185BB06980>, '_': ['Beijing', 'China'], '__': 'Person says Hello world!', '___': ('x', 'y', (1, 2, 3), 'z', {'kw1': '1', 'kw2': '2'}), '__vsc_ipynb_file__': 'd:\\\\Study\\\\Programming\\\\Python\\\\python_deep_dive\\\\python3_deep_dive_p1.ipynb', '_i': \"from collections import namedtuple\\n\\ndef tuplize_dicts(dicts, struct_name=None):\\n    struct_name = struct_name or 'Struct'\\n    keys = {key for dict_ in dicts for key in dict_}\\n    Struct = namedtuple(struct_name, sorted(keys), rename=True, defaults=(None for _ in keys))\\n    return [Struct(**dict_) for dict_ in dicts]\\n\\ndata_dicts = [\\n    {'key1': 1, 'key2': 2},\\n    {'key1': 3, 'key2': 4},\\n    {'key1': 5, 'key2': 6, 'key3': 7},\\n    {'key2': 100}\\n]\\n\\ndata_list = tuplize_dicts(data_dicts, 'Data')\\nprint(data_list)\", '_ii': \"# convert a list of dictionaries to a list of named tuples\\n\\nfrom collections import namedtuple\\n\\ndata_dicts = [\\n    {'key1': 1, 'key2': 2},\\n    {'key1': 3, 'key2': 4},\\n    {'key1': 5, 'key2': 6, 'key3': 7},\\n    {'key2': 100}\\n]\\n\\n# keys = set(key for key in data_dict for data_dict in data_dicts)\\n# keys = {key for key in data_dict for data_dict in data_dicts}\\nkeys = {key for data_dict in data_dicts for key in data_dict}\\nprint(keys)\\nData = namedtuple('Data', sorted(keys), defaults=(None for _ in keys))\\ndata_list = [Data(**data_dict) for data_dict in data_dicts]\\nprint(data_list)\", '_iii': \"# alternative to dictionaries\\n\\nfrom collections import namedtuple\\n\\ndata_dict = {'key1': 1, 'key2': 2, 'key3': 3}\\n\\nData = namedtuple('Data', data_dict.keys())\\ndata = Data(**data_dict)\\nprint(data)\\nprint(data._asdict())\\nkey_name = 'key1'\\nprint(f'{getattr(data, key_name)=}')\\nprint(f'{data.key1=}')\", '_i1': 'import this', 'this': <module 'this' from 'c:\\\\Users\\\\FREEDEMPIRE-XL\\\\AppData\\\\Local\\\\Programs\\\\Python\\\\Python312\\\\Lib\\\\this.py'>, '_i2': 'my_list = [\\n    1, # item 1\\n    2, # item 2\\n    3, # item 3\\n]\\n\\ndef my_func(\\n    a,\\n    b, # comment\\n):\\n    print(a, b)\\n\\nprint(my_list)\\nmy_func(10, #comment\\n        20)', 'my_list': [1, 2, 3], 'my_func': <function my_func at 0x000002185DB6C900>, '_i3': \"a = 1\\nb = 2\\nc = 3\\nif a < b \\\\\\n    and b < c \\\\\\n    and a < c:\\n    print('yes')\", 'a': 10, 'b': [2, 3], 'c': 'y', '_i4': \"class Rectangle:\\n    def __init__(self, width, height):\\n        self.width = width # this actually calls the setter of width\\n        self.height = height\\n\\n    @property\\n    def width(self):\\n        return self._width\\n    \\n    @width.setter\\n    def width(self, width):\\n        if width > 0:\\n            self._width = width\\n        else:\\n            raise ValueError('Width should be greater than 0.')\\n        \\n    @property\\n    def height(self):\\n        return self._height\\n    \\n    @height.setter\\n    def height(self, height):\\n        if height > 0:\\n            self._height = height\\n        else:\\n            raise ValueError('Height should be greater than 0.')\\n        \\n    def perimeter(self):\\n        return (self._width + self._height) * 2\\n    \\n    def area(self):\\n        return self._width * self._height\\n    \\n    def __repr__(self):\\n        return f'Rectangle({self._width}, {self._height})'\\n    \\n    def __str__(self):\\n        return f'Rectangle: width {self._width}, height {self._height}'\\n    \\n    def __eq__(self, other):\\n        if isinstance(other, type(self)):\\n        # if issubclass(type(other), type(self)):\\n            return self._width == other._width and self._height == other._height\\n        else:\\n            return False\\n        \\n    def __gt__(self, other):\\n        if issubclass(type(other), type(self)):\\n            return self.area() > other.area()\\n        else:\\n            return NotImplemented\\n        \\n    def __ge__(self, other):\\n        if issubclass(type(other), type(self)):\\n            return self.area() >= other.area()\\n        else:\\n            return NotImplemented\\n        \\nrect1 = Rectangle(10, 5)\\nprint(rect1)\\nprint(repr(rect1))\\nrect1.width = 20\\nprint(f'width: {rect1.width}, height: {rect1.height}')\\nprint(f'Perimeter: {rect1.perimeter()}')\\nprint(f'Area: {rect1.area()}')\\n# rect1.width = 0\\n\\n# rect2 = Rectangle(0, 5)\\nrect2 = Rectangle(20, 5)\\nprint(rect1 == rect2)\\n\\nrect3 = Rectangle(10, 5)\\nprint(f'{rect2.area()=}, {rect3.area()=}')\\nprint('rect2 == rect3:', rect2 == rect3)\\nprint('rect2 != rect3:', rect2 != rect3)\\nprint('rect2 > rect3:', rect2 > rect3)\\nprint('rect2 >= rect3:', rect2 >= rect3)\\nprint('rect2 < rect3:', rect2 < rect3)\\nprint('rect2 == 3:', rect2 == 3)\\n# print('rect2 > 3:', rect2 > 3)\", 'Rectangle': <class '__main__.Rectangle'>, 'rect1': Rectangle(20, 5), 'rect2': Rectangle(20, 5), 'rect3': Rectangle(10, 5), '_i5': 'my_var = 10\\nprint(my_var)\\nprint(id(my_var))\\nprint(hex(id(my_var)))', 'my_var': 10, '_i6': \"import sys\\nimport ctypes\\n\\nmy_list = [1, 2, 3]\\naddress_my_list = id(my_list)\\nmy_list2 = my_list\\nprint('id(my_list) == id(my_list2):', address_my_list == id(my_list2))\\n\\nprint(f'{sys.getrefcount(my_list)=}')\\nprint(f'{ctypes.c_long.from_address(address_my_list).value=}')\", 'sys': <module 'sys' (built-in)>, 'ctypes': <module 'ctypes' from 'c:\\\\Users\\\\FREEDEMPIRE-XL\\\\AppData\\\\Local\\\\Programs\\\\Python\\\\Python312\\\\Lib\\\\ctypes\\\\__init__.py'>, 'address_my_list': 2303674087104, 'my_list2': [1, 2, 3], '_i7': \"import ctypes\\nimport gc\\n\\ndef get_ref_count(address):\\n    return ctypes.c_long.from_address(address).value\\n\\ndef check_obj_by_address(address):\\n    for obj in gc.get_objects():\\n        if id(obj) == address:\\n            return 'Object exists'\\n    return 'Obj not found'\\n\\nclass A:\\n    def __init__(self):\\n        self.b = B(self)\\n        print(f'A: self={id(self)}, b={id(self.b)}')\\n\\nclass B:\\n    def __init__(self, a):\\n        self.a = a\\n        print(f'B: self={id(self)}, a={id(self.a)}')\\n\\ngc.disable()\\n\\na = A()\\naddress_a = id(a)\\naddress_b = id(a.b)\\nprint('a reference count:', get_ref_count(address_a))\\nprint('b reference count:', get_ref_count(address_b))\\nprint('a:', check_obj_by_address(address_a))\\nprint('b:', check_obj_by_address(address_b))\\n\\nprint('\\\\nRemove variable a')\\na = None\\nprint('a reference count:', get_ref_count(address_a))\\nprint('b reference count:', get_ref_count(address_b))\\nprint('a:', check_obj_by_address(address_a))\\nprint('b:', check_obj_by_address(address_b))\\n\\nprint('\\\\nTurn on gc')\\ngc.collect()\\nprint('a reference count:', get_ref_count(address_a))\\nprint('b reference count:', get_ref_count(address_b))\\nprint('a:', check_obj_by_address(address_a))\\nprint('b:', check_obj_by_address(address_b))\", 'gc': <module 'gc' (built-in)>, 'get_ref_count': <function get_ref_count at 0x000002185DAD6700>, 'check_obj_by_address': <function check_obj_by_address at 0x000002185DAD65C0>, 'A': <class '__main__.A'>, 'B': <class '__main__.B'>, 'address_a': 2303673496496, 'address_b': 2303649047920, '_i8': \"a = 10\\nprint(f'{id(a)=}')\\na += 1\\nprint(f'{id(a)=}')\", '_i9': \"t = ([1, 2], [3, 4])\\nprint(f'{t=}, {id(t)=}')\\nt[0].append(5)\\nprint(f'{t=}, {id(t)=}')\", 't': ([1, 2, 5], [3, 4]), '_i10': 'a = 10\\nb = 10\\nid(a) == id(b)', '_10': True, '_i11': \"s1 = 'hello'\\ns2 = 'hello'\\nid(s1) == id(s2)\", 's1': {'h', 'p', 'o', 'y', 't', 'n'}, 's2': {'h', 't', 'n', 'p', 'o', 'y'}, '_11': True, '_i12': 'list1 = [1, 2, 3]\\nlist2 = [1, 2, 3]\\nid(list1) == id(list2)', 'list1': [1, 2, 3], 'list2': [1, 2, 3], '_12': False, '_i13': \"a = 10\\nb = 10\\nprint(f'{id(a)=}, {id(b)=}')\\nprint('a is b:', a is b)\\n\\na = 257\\nb = 257\\nprint(f'{id(a)=}, {id(b)=}')\\nprint('a is b:', a is b)\", '_i14': \"import sys\\n\\na = 'hello'\\nb = 'hello'\\nprint(f'{id(a)=}, {id(b)=}')\\nprint('a is b:', a is b)\\n\\na = 'hello world'\\nb = 'hello world'\\nprint(f'{id(a)=}, {id(b)=}')\\nprint('a is b:', a is b)\\n\\na = sys.intern('the quick brown fox')\\nb = sys.intern('the quick brown fox')\\nc = 'the quick brown fox'\\nprint(f'{id(a)=}, {id(b)=}, {id(c)=}')\\nprint('a is b:', a is b)\\nprint('a is c:', a is c)\", '_i15': \"from sys import intern\\nfrom time import perf_counter\\n\\ndef compare_using_equals(n):\\n    a = 'a very long string that is not automatically interned' * 200\\n    b = 'a very long string that is not automatically interned' * 200\\n    print('a is b:', a is b)\\n    for _ in range(n):\\n        if a == b:\\n            pass\\n\\ndef compare_using_is(n):\\n    a = intern('a very long string that is not automatically interned' * 200)\\n    b = intern('a very long string that is not automatically interned' * 200)\\n    print('a is b:', a is b)\\n    for _ in range(n):\\n        if a is b:\\n            pass\\n\\nstart = perf_counter()\\ncompare_using_equals(10000000)\\nend = perf_counter()\\nprint('Equals:', end - start)\\n\\nstart = perf_counter()\\ncompare_using_is(10000000)\\nend = perf_counter()\\nprint('Is:', end - start)\", 'intern': <built-in function intern>, 'perf_counter': <built-in function perf_counter>, 'compare_using_equals': <function compare_using_equals at 0x000002185DAD6020>, 'compare_using_is': <function compare_using_is at 0x000002185DAD5F80>, 'start': 347676.5040796, 'end': 347677.0509796, '_i16': \"def my_func():\\n    a = 24 * 60\\n    b = (1, 2) * 5\\n    c = 'ab' * 10\\n    d = 'abc' * 7\\n    e = ['1', '2'] * 3\\n\\nmy_func.__code__.co_consts\", '_16': (None, 1440, (1, 2, 1, 2, 1, 2, 1, 2, 1, 2), 'abababababababababab', 'abcabcabcabcabcabcabc', '1', '2', 3), '_i17': 'def my_func():\\n    for e in [1, 2, 3]:\\n        pass\\n\\nmy_func.__code__.co_consts', '_17': (None, (1, 2, 3)), '_i18': \"import string\\nimport time\\n\\nchar_tuple = tuple(string.ascii_letters)\\nchar_set = set(string.ascii_letters)\\n\\ndef membership_test(n, container):\\n    for _ in range(n):\\n        if 'z' in container:\\n            pass\\n\\nn = 10000000\\nstart = time.perf_counter()\\nmembership_test(n, char_tuple)\\nend = time.perf_counter()\\nprint('Tuple:', end - start)\\n\\nstart = time.perf_counter()\\nmembership_test(n, char_set)\\nend = time.perf_counter()\\nprint('Set:', end - start)\", 'string': <module 'string' from 'c:\\\\Users\\\\FREEDEMPIRE-XL\\\\AppData\\\\Local\\\\Programs\\\\Python\\\\Python312\\\\Lib\\\\string.py'>, 'time': <module 'time' (built-in)>, 'char_tuple': ('a', 'b', 'c', 'd', 'e', 'f', 'g', 'h', 'i', 'j', 'k', 'l', 'm', 'n', 'o', 'p', 'q', 'r', 's', 't', 'u', 'v', 'w', 'x', 'y', 'z', 'A', 'B', 'C', 'D', 'E', 'F', 'G', 'H', 'I', 'J', 'K', 'L', 'M', 'N', 'O', 'P', 'Q', 'R', 'S', 'T', 'U', 'V', 'W', 'X', 'Y', 'Z'), 'char_set': {'q', 'O', 'B', 'N', 'M', 'r', 'I', 'u', 'A', 'g', 'C', 'i', 'e', 'J', 'S', 'R', 'W', 'o', 'D', 'V', 'c', 't', 'T', 'd', 'G', 'j', 'a', 'f', 'P', 'h', 'v', 'H', 'Q', 'z', 'k', 'Z', 's', 'n', 'L', 'l', 'p', 'F', 'U', 'y', 'E', 'b', 'x', 'Y', 'w', 'm', 'X', 'K'}, 'membership_test': <function membership_test at 0x000002185DAD6AC0>, 'n': 1, '_i19': \"import sys\\n\\nprint(f'{type(1)=}')\\nprint(f'{sys.getsizeof(1)=}', 'bytes')\\nprint(f'{sys.getsizeof(0)=}', 'bytes')\", '_i20': \"print('10 / 2 =', 10 / 2)\\nprint('10 // 3 =', 10 // 3)\\nprint('10 % 3 =', 10 % 3)\\nprint('10 // -3 =', 10 // -3)\\nprint('10 % -3 =', 10 % -3)\\nprint('-10 // 3 =', -10 // 3)\\nprint('-10 % 3 =', -10 % 3)\\nprint('-10 // -3 =', -10 // -3)\\nprint('-10 % -3 =', -10 % -3)\", '_i21': 'from decimal import Decimal\\n\\nprint(f\\'{int()=}\\')\\nprint(f\\'{int(10)=}\\')\\nprint(f\\'{int(10.1)=}\\')\\nprint(f\\'{int(Decimal(\"10.1\"))=}\\')\\n# print(f\\'{int(\"10.1\")=}\\')\\nprint(f\\'{int(\"10\")=}\\')\\nprint(f\\'{int(\"010\")=}\\')\\n# print(f\\'{int(\"010\", 0)=}\\')\\nprint(f\\'{int(\"010\", 2)=}\\')\\nprint(f\\'{int(\"0b10\", 0)=}\\')', 'Decimal': <class 'decimal.Decimal'>, '_i22': 'import string\\n\\ndef rebase(number: int, base: int):\\n    \"\"\"Rebase base 10 integer number to the designated base\"\"\"\\n    if number == 0:\\n        return \\'0\\'\\n    if base < 2 or base > 36:\\n        raise ValueError(\\'Invalid base: 2 <= base <= 36\\')\\n    \\n    base_letters = string.digits + string.ascii_lowercase\\n\\n    # if number < 0:\\n    #     sign = \\'-\\'\\n    #     number = abs(number)\\n    # else:\\n    #     sign = \\'\\'\\n    number, sign = (number, \\'\\') if number > 0 else (-number, \\'-\\')\\n    \\n    rebased = \\'\\'\\n\\n    while number > 0:\\n        rebased = base_letters[number % base] + rebased\\n        number = number // base\\n        # number, mod = divmod(number, base)\\n        # rebased = base_letters[mod] + rebased\\n\\n    return sign + rebased\\n\\nprint(f\\'{rebase(0, 2)=}\\')\\nprint(f\\'{rebase(10, 2)=}\\')\\nprint(f\\'{rebase(-10, 2)=}\\')\\nprint(f\\'{rebase(9, 3)=}\\')\\nprint(f\\'{rebase(-106, 16)=}\\')\\nprint(f\\'{rebase(1485, 16)=}\\')\\nprint(f\\'{rebase(100, 36)=}\\')\\n# print(f\\'{rebase(5, 1)=}\\')', 'rebase': <function rebase at 0x000002185DAD6A20>, '_i23': 'from fractions import Fraction\\n\\nprint(f\\'{Fraction()=}\\')\\nprint(f\\'{Fraction(1, 10)=}\\')\\nprint(f\\'{Fraction(0.1)=}\\') # using float is meaningless, as it may not have an exact representation in base 2\\nprint(f\\'{Fraction(\"0.1\")=}\\')\\nprint(\\'Fraction(0.1) == Fraction(1, 10):\\', Fraction(0.1) == Fraction(1, 10))\\nprint(\\'Fraction(\"0.1\") == Fraction(1, 10):\\', Fraction(\\'0.1\\') == Fraction(1, 10))\\nprint(f\\'{Fraction(\"22/7\")=}\\')\\n\\nprint(Fraction(1, 2) + Fraction(1, 3))\\n\\nx = Fraction(7, 22)\\nprint(f\\'{x.numerator=}\\')\\nprint(f\\'{x.denominator=}\\')\\nx = Fraction(7, -22)\\nprint(f\\'{x.numerator=}\\')\\nprint(f\\'{x.denominator=}\\')', 'Fraction': <class 'fractions.Fraction'>, 'x': 1, '_i24': 'import math\\nfrom fractions import Fraction\\n\\nx = Fraction(math.pi)\\nprint(x)\\nprint(x.limit_denominator())\\nprint(x.limit_denominator(10))\\nprint(x.limit_denominator(100))\\nprint(x.limit_denominator(10000))', 'math': <module 'math' (built-in)>, '_i25': \"print('\\\\nFloats may not have exact representations in computer:')\\nprint('0.1:', f'{0.1:.25f}')\\nprint('0.1 + 0.1 + 0.1 == 0.3:', 0.1 + 0.1 + 0.1 == 0.3)\\n\\nprint('\\\\nBecause of the inexact internal representation, the result of round() may also be surprising.')\\nprint(f'{round(1.25, 1)=}')\\nprint(f'{round(1.225, 2)=}')\", '_i26': \"import sys\\nimport math\\n\\nx = 0.1 + 0.1 + 0.1\\ny = 0.3\\nepsilon = sys.float_info.epsilon\\n\\nprint(f'{x=}, {y=}')\\nprint('x == y:', x == y)\\nprint('x is close y:', math.isclose(x, y, rel_tol=epsilon, abs_tol=epsilon))\", 'y': 2, 'epsilon': 2.220446049250313e-16, '_i27': 'import math\\n\\ndef traditional_round(f: float):\\n    \"\"\"Round away from zero\"\"\"\\n    return int(f + math.copysign(0.5, f))\\n\\nf = -10.5\\nprint(f\\'{f=}\\')\\nprint(f\\'{round(f)=}\\')\\nprint(f\\'{traditional_round(f)=}\\')\\n\\nf = -10.6\\nprint(f\\'{f=}\\')\\nprint(f\\'{round(f)=}\\')\\nprint(f\\'{traditional_round(f)=}\\')', 'traditional_round': <function traditional_round at 0x000002185DAD6D40>, 'f': <function <lambda> at 0x000002185DAD7380>, '_i28': \"import decimal\\nfrom decimal import Decimal\\n\\nctx = decimal.getcontext()\\nprint(ctx)\\nprint(f'{ctx.prec=}')\\nprint(f'{ctx.rounding=}')\\n\\nwith decimal.localcontext() as ctx:\\n    ctx.rounding = decimal.ROUND_HALF_UP\\n    print('local context:', ctx)\\n    print('getcontext:', decimal.getcontext()) # getcontext will actually get local context\\n    print(f'inside: {round(Decimal('1.25'), 1)=}')\\n\\nprint(f'outside: {round(Decimal('1.25'), 1)=}')\", 'decimal': <module 'decimal' from 'c:\\\\Users\\\\FREEDEMPIRE-XL\\\\AppData\\\\Local\\\\Programs\\\\Python\\\\Python312\\\\Lib\\\\decimal.py'>, 'ctx': Context(prec=28, rounding=ROUND_HALF_UP, Emin=-999999, Emax=999999, capitals=1, clamp=0, flags=[Inexact, Rounded], traps=[InvalidOperation, DivisionByZero, Overflow]), '_i29': 'from decimal import Decimal\\n\\nprint(f\\'{Decimal(1)=}\\')\\nprint(f\\'{Decimal(3.14)=}\\')\\nprint(f\\'{Decimal(\"3.14\")=}\\')\\nprint(f\\'{Decimal((1, (3, 1, 4), -2))=}\\')', '_i30': \"import decimal\\nfrom decimal import Decimal\\n\\ndecimal.getcontext().prec = 2\\n\\na = Decimal('0.12345')\\nb = Decimal('0.12345')\\nc = a + b\\nprint(f'{a=}, {b=}')\\nprint('a + b =', c)\\nprint(f'{c=}') # the actual value of c has been permanently affected by precision\", '_i31': \"import math\\nimport decimal\\nfrom decimal import Decimal\\n\\nx = 0.01\\nx_dec = Decimal('0.01')\\n\\nroot = math.sqrt(x)\\nroot_mixed = math.sqrt(x_dec)\\nroot_dec = x_dec.sqrt()\\n\\nprint('root:', f'{root:.28f}')\\nprint('root_mixed:', f'{root_mixed:.28f}')\\nprint('root_dec:', f'{root_dec:.28f}')\\n\\nprint('\\\\nquantize method:')\\nprint(Decimal('7.325').quantize(Decimal('0.1'), rounding=decimal.ROUND_DOWN))\\nprint(Decimal('7.325').quantize(Decimal('0.1'), rounding=decimal.ROUND_UP))\\nprint(Decimal('7.325').quantize(Decimal('1'), rounding=decimal.ROUND_UP))\\nprint(Decimal('7.325').quantize(Decimal('1.'), rounding=decimal.ROUND_UP))\\nprint(Decimal('7.325').quantize(Decimal(1), rounding=decimal.ROUND_UP))\", 'x_dec': Decimal('0.01'), 'root': 0.1, 'root_mixed': 0.1, 'root_dec': Decimal('0.1'), '_i32': \"# Euler's identity\\n# e^(iπ) + 1 = 0\\n\\nimport cmath\\nimport math\\nimport sys\\n\\nepsilon = sys.float_info.epsilon\\n\\nprint('e^(iπ) + 1 = 0:', cmath.exp(1j * cmath.pi + 1) == 0)\\nprint('e^(iπ) + 1 is close 0:', cmath.isclose(cmath.exp(1j * cmath.pi) + 1, 0, rel_tol=epsilon, abs_tol=epsilon))\\n\\nprint(f'{cmath.rect(2 ** 0.5, cmath.pi / 4)=}')\\nprint('math.pi is cmath.pi:', math.pi is cmath.pi)\\nprint('math.pi == cmath.pi:', math.pi == cmath.pi)\", 'cmath': <module 'cmath' (built-in)>, '_i33': \"print('bool is subclass of int:', issubclass(bool, int))\\nprint('True is instance of bool:', isinstance(True, bool))\\nprint('False is instance of bool:', isinstance(False, bool))\\nprint(f'{int(True)=}')\\nprint(f'{int(False)=}')\\nprint('True == 1:', True == 1)\\nprint('False == 0:', False == 0)\\nprint('True is 1:', True is 1)\\nprint('True + True ==', True + True)\\nprint('True > False:', True > False)\\nprint('(1 == 2) == False:', (1 == 2) == False)\\nprint('(1 == 2) == 0:', (1 == 2) == 0)\\nprint('-True =', -True)\", '_i34': \"a = [1, 2, 3]\\n\\nif a: # work the same way as the code below but more concise\\n# if a is not None and len(a) > 0:\\n    print(a[0])\\nelse:\\n    print('Nothing to see here...')\", '_i35': \"def get_first_letter(s):\\n    # if s:\\n    #     return s[0]\\n    # else:\\n    #     return ''\\n    return s and s[0] or ''\\n\\ns1 = None\\ns2 = ''\\ns3 = 'abc'\\n\\nprint(f'{get_first_letter(s1)=}')\\nprint(f'{get_first_letter(s2)=}')\\nprint(f'{get_first_letter(s3)=}')\", 'get_first_letter': <function get_first_letter at 0x000002185DA5F7E0>, 's3': 'abc', '_i36': 'from fractions import Fraction\\nfrom decimal import Decimal\\n\\nprint(\\'1 == 1.0:\\', 1 == 1.0)\\nprint(\\'1.0 == Decimal(\"1.0\"):\\', 1.0 == Decimal(\"1.0\"))\\nprint(\\'1 == Fraction(3, 3):\\', 1 == Fraction(3, 3))\\nprint(\\'0.1 == Decimal(\"0.1\"):\\', 0.1 == Decimal(\"0.1\")) # floats representation issue\\nprint(\\'4 == 4 + 0j:\\', 4 == 4 + 0j)\\nprint(\\'3 < 2 < 4 / 0:\\', 3 < 2 < 4 / 0) # short-circuited', '_i37': \"def my_func(a, b=20, c=30):\\n    print(f'{a=}, {b=}, {c=}')\\n\\nmy_func(1, 2, 3)\\nmy_func(1, 2)\\nmy_func(b=20, a=10)\\nmy_func(10, c=40)\", '_i38': \"# parentheses are not necessary when defining a tuple, except for empty tuples\\na = (1, 2)\\nprint(type(a))\\na = 1, 2\\nprint(type(a))\\na = (1) # int\\nprint(type(a))\\na = (1,)\\nprint(type(a))\\na = 1,\\nprint(type(a))\\na = ()\\nprint(type(a))\\n\\na, b, c = 'str'\\nprint(f'{a=}, {b=}, {c=}')\", '_i39': \"s1 = set('python')\\ns2 = {'p', 'y', 't', 'h', 'o', 'n'}\\nd = {'p': 1, 'y': 2, 't': 3, 'h': 4, 'o': 5, 'n': 6}\\n\\ndef print_els(container):\\n    for c in container:\\n        print(c, end='')\\n    print()\\n\\nprint_els(s1)\\nprint_els(s2)\\nprint_els(d)\", 'd': {'a': 1, 'b': 2, 'c': 3, 'd': 4}, 'print_els': <function print_els at 0x000002185DAD71A0>, '_i40': \"my_list = [1, 2, 3, (4, 5, 6)]\\na, b, *c = my_list\\nprint(f'{a=}, {b=}, {c=}')\\na, *b, (c, d, e) = my_list # nested unpacking\\nprint(f'{a=}, {b=}, {c=}, {d=}, {e=}')\\na, *b, (c, *d) = my_list # multiple * operators on different levels of unpacking\\nprint(f'{a=}, {b=}, {c=}, {d=}')\\n\\nmy_string = 'uvwxyz'\\na, *b, c, d = my_string\\nprint(f'{a=}, {b=}, {c=}, {d=}')\\n\\nmy_set = {1, 2, 3}\\na, *b = my_set\\nprint(f'{a=}, {b=}')\\n*l, = my_set # convert my_set to a list\\nprint(l)\\n\\nl1 = [1, 2, 3]\\nl2 = [4, 5, 6]\\ns = 'abc'\\nl = [*l1, *l2, *s]\\nprint(l)\\n\\nd1 = {'a': 1, 'b': 2, 'c': 5}\\nd2 = {'c': 3, 'd': 4}\\nl = [*d1, *d2] # get all the keys of both dictionaries\\nd = {**d1, **d2} # merge dictionaries into one\\nprint(l)\\nprint(d)\", 'e': 6, 'my_string': 'uvwxyz', 'my_set': {1, 2, 3}, 'l': [1, 2, 3, 4, 5, 6, 7, 8, 9, 10], 'l1': [1, 2, 3, 4, 5], 'l2': [7, 8, 9], 's': 'abc', 'd1': {'a': 1, 'b': 2, 'c': 5}, 'd2': {'c': 3, 'd': 4}, '_i41': \"def average(number, *args):\\n    return (number + sum(args)) / (len(args) + 1)\\n\\ndef my_func(a, *b):\\n    print(f'{a=}, {b=}')\\n\\nprint(average(1, 2, 3))\\n\\nl = [1, 2, 3]\\nmy_func(*l)\", 'average': <function average at 0x000002185DAD7100>, '_i42': \"def calc_hi_lo_avg(*args, log_to_console=False):\\n    # hi = int(bool(args)) and max(args) # int(bool()) here can be changed to len(), because args will always be a tuple, not None\\n    hi = len(args) and max(args)\\n    lo = len(args) and min(args)\\n    avg = (hi + lo) / 2\\n    if log_to_console:\\n        print(f'{hi=}, {lo=}, {avg=}')\\n    return hi, lo, avg\\n\\nprint(calc_hi_lo_avg())\\nprint(calc_hi_lo_avg(1, 2, 3, 4, 5))\\nprint(calc_hi_lo_avg(1, 2, 3, 4, 5, log_to_console=True))\", 'calc_hi_lo_avg': <function calc_hi_lo_avg at 0x000002185DAD51C0>, '_i43': \"import time\\n\\ndef time_it(fn, *args, rep=1, **kwargs):\\n    start = time.perf_counter()\\n    for _ in range(rep):\\n        fn(*args, **kwargs)\\n    end = time.perf_counter()\\n    return (end - start) / rep\\n\\ndef compute_powers_1(n, *, start=1, end):\\n    result = []\\n    for i in range(start, end):\\n        result.append(n ** i)\\n    return result\\n\\ndef compute_powers_2(n, *, start=1, end):\\n    # using list comprehension\\n    return [n ** i for i in range(start, end)]\\n\\ndef compute_powers_3(n, *, start=1, end):\\n    # using generator expression\\n    return (n ** i for i in range(start, end))\\n\\nprint(f'{time_it(compute_powers_1, 2, rep=5, end=20000)=}')\\nprint(f'{time_it(compute_powers_2, 2, rep=5, end=20000)=}')\\nprint(f'{time_it(compute_powers_3, 2, rep=5, end=20000)=}')\", 'time_it': <function time_it at 0x000002185DAD6C00>, 'compute_powers_1': <function compute_powers_1 at 0x000002185DAD74C0>, 'compute_powers_2': <function compute_powers_2 at 0x000002185DAD7240>, 'compute_powers_3': <function compute_powers_3 at 0x000002185DAD7600>, '_i44': \"import datetime\\n\\n# buggy default value for dt\\ndef log_1(msg, *, dt=datetime.datetime.now(datetime.UTC)):\\n    print(f'{dt}: {msg}')\\n\\ndef log_2(msg, *, dt=None):\\n    dt = dt or datetime.datetime.now(datetime.UTC)\\n    print(f'{dt}: {msg}')\\n\\nlog_1('msg_1')\\nlog_1('msg_2')\\nprint('-'*10)\\nlog_2('msg_1')\\nlog_2('msg_2')\", 'datetime': <module 'datetime' from 'c:\\\\Users\\\\FREEDEMPIRE-XL\\\\AppData\\\\Local\\\\Programs\\\\Python\\\\Python312\\\\Lib\\\\datetime.py'>, 'log_1': <function log_1 at 0x000002185DAD72E0>, 'log_2': <function log_2 at 0x000002185DAD79C0>, '_i45': 'my_list = [1, 2]\\ndef func(a=my_list):\\n    print(a)\\n\\nfunc()\\nmy_list.append(3)\\nfunc() # the default value of a was changed unexpectedly', 'func': <__main__.Decorator object at 0x000002185DB43950>, '_i46': \"# another example of buggy default value\\ndef add_to_list(name, quantity=1, unit='unit', lst=[]):\\n    lst.append(f'{name}: {quantity} {unit}')\\n    return lst\\n\\nshopping_list_1 = add_to_list('apple', 2, 'kilo')\\nadd_to_list('milk', 1, 'liter', shopping_list_1)\\nprint(shopping_list_1)\\n\\nshopping_list_2 = add_to_list('chicken', 2, 'kilo')\\nadd_to_list('eggs', 2, 'dozen', shopping_list_2)\\nprint(shopping_list_2)\\n\\n# because the default value for lst has already been evaluated to the same address for the list when the function is defined\\nprint('shopping_list_1 is shopping_list_2:', shopping_list_1 is shopping_list_2)\", 'add_to_list': <function add_to_list at 0x000002185DAD7B00>, 'shopping_list_1': ['apple: 2 kilo', 'milk: 1 liter', 'chicken: 2 kilo', 'eggs: 2 dozen'], 'shopping_list_2': ['apple: 2 kilo', 'milk: 1 liter', 'chicken: 2 kilo', 'eggs: 2 dozen'], '_i47': \"def factorial(n: int):\\n    if n < 1:\\n        return 1\\n    else:\\n        print(f'calculating {n}!')\\n        return n * factorial(n - 1)\\n    \\nprint(factorial(3))\\nprint(factorial(3))\", 'factorial': <function factorial at 0x000002185DB6D300>, '_i48': \"# cached version\\n# the same default dictionary will be used by the function\\ndef factorial_cached(n, cache={}):\\n    if n < 1:\\n        return 1\\n    elif n in cache:\\n        return cache[n]\\n    else:\\n        print(f'calculating {n}!')\\n        result = n * factorial_cached(n - 1)\\n        cache[n] = result\\n        return result\\n    \\nprint(factorial_cached(3))\\nprint(factorial_cached(3)) # with cache no need to calculate the same number\\nprint(factorial_cached(2))\\nprint(factorial_cached(4))\", 'factorial_cached': <function factorial_cached at 0x000002185DAD77E0>, '_i49': 'def my_func(a: \\'annotation for a\\',\\n            b: \\'annotation for b\\' = 1) -> \\'something annotation for return\\':\\n    \"\"\"documentation for my function\"\"\"\\n    return a * b\\n\\nhelp(my_func)\\nprint(my_func.__doc__)\\nprint(my_func.__annotations__)', '_i50': \"def my_func(a: str,\\n            b: 'int > 0' = 1,\\n            *args: 'additional args',\\n            k1: 'keyword-only arg 1',\\n            k2: 'keyword-only arg 2' = 100,\\n            **kwargs: 'additional keyword-only args') -> 'return something':\\n    print(a, b, args, k1, k2, kwargs)\\n\\nprint(my_func.__annotations__)\\nmy_func('hello', 1, 2, 3, k1='world', k3='times')\", '_i51': \"f = lambda x, y, *args, z='z', **kwargs: (x, y, args, z, kwargs) # the () of return expression is required here\\nf('x', 'y', 1, 2, 3, kw1='1', kw2='2')\", '_51': ('x', 'y', (1, 2, 3), 'z', {'kw1': '1', 'kw2': '2'}), '_i52': 'def apply_func(x, func):\\n    return func(x)\\n\\nprint(apply_func(2, lambda x: x ** 2))\\nprint(apply_func(3, lambda x: x ** 3))', 'apply_func': <function apply_func at 0x000002185DAD5940>, '_i53': 'def apply_func(func, *args, **kwargs):\\n    return func(*args, **kwargs)\\n\\nprint(apply_func(lambda x, y: x + y, 1, 2))\\nprint(apply_func(lambda x, *, y: x + y, 1, y=2))\\nprint(apply_func(lambda *args: sum(args), 1, 2, 3, 4, 5))', '_i54': \"complex_list = [3 + 3j, 1 - 1j, 6 + 2j, 0, -1 -4j]\\n# sort complex_list according to the square of the absolute value of a complex number\\nprint(sorted(complex_list, key=lambda c: c.real ** 2 + c.imag ** 2))\\n\\nname_list = ['Tony', 'Chaplin', 'John', 'Helen', 'Max']\\n# sort name_list according to the last letter of a name\\n# stable sort, i.e. the relative order of elements that compare equal will be remained\\nprint(sorted(name_list, key=lambda n: n[-1]))\", 'complex_list': [(3+3j), (1-1j), (6+2j), 0, (-1-4j)], 'name_list': ['Tony', 'Chaplin', 'John', 'Helen', 'Max'], '_i55': '# randomize an iterable using sorted\\n\\nimport random\\n\\nl = [1, 2, 3, 4, 5, 6, 7, 8, 9, 10]\\n\\nprint(sorted(l, key=lambda e: random.random()))\\nprint(sorted(l, key=lambda e: random.random()))\\nprint(sorted(l, key=lambda e: random.random()))', 'random': <built-in method random of Random object at 0x00000218587ECF80>, '_i56': \"from decimal import Decimal\\n\\nprint(callable(print))\\nprint(print()) # if something is callable, it always has a return value\\nprint(callable(Decimal)) # classes are also callable\\n\\nclass MyClass:\\n    def __init__(self):\\n        print('classes are callable')\\n    \\n    def __call__(self):\\n        print('instances can be callable too')\\n\\nmy_class = MyClass()\\nmy_class() # instances can be callable\\nprint(callable(my_class))\", 'MyClass': <class '__main__.MyClass'>, 'my_class': <__main__.MyClass object at 0x000002185DA3EA80>, '_i57': 'l1 = [1, 2, 3, 4, 5]\\nl2 = [7, 8, 9]\\nl3 = map(lambda x, y: x + y, l1, l2)\\nprint(l3)\\nprint(list(l3))\\n\\nl4 = [0, 1, 2, 3, 4, 5, 6, 7, 8, 9]\\nl5 = filter(None, l4)\\nl6 = filter(lambda x: x % 2 == 0, l4)\\nprint(l5)\\nprint(l6)\\nprint(list(l5))\\nprint(list(l6))', 'l3': <map object at 0x000002185DB400D0>, 'l4': [0, 1, 2, 3, 4, 5, 6, 7, 8, 9], 'l5': <filter object at 0x000002185DAE7C70>, 'l6': <filter object at 0x000002185DAE6560>, '_i58': \"def factorial(n):\\n    return 1 if n < 2 else n * factorial(n - 1)\\n\\nresult = map(factorial, range(5))\\n\\nfor i in result:\\n    print(i)\\n\\n# won't print anything\\n# generators can only be iterated over once\\n# attempting to iterate over an exhausted generator will not produce any output\\nfor i in result:\\n    print(i)\\n\\nprint(list(result)) # empty list too\", 'result': <map object at 0x000002185DAE59F0>, 'i': 24, '_i59': 'def reduce_sequence(func, sequence):\\n    result = sequence[0]\\n    for e in sequence[1:]:\\n        result = func(result, e)\\n    return result\\n\\nprint(reduce_sequence(lambda x, y: x + y, range(10))) # range is actually an immutable sequence type\\nprint(reduce_sequence(lambda x, y: x if x > y else y, range(10)))', 'reduce_sequence': <function reduce_sequence at 0x000002185DAD6FC0>, '_i60': \"from functools import reduce\\n\\nprint(reduce(lambda x, y: x + ' ' + y, ('Python', 'is', 'super', 'awesome')))\\n\\n# using reduce to reproduce any()\\nprint(reduce(lambda x, y: bool(x or y), (0, '', 1, 0.0, 'and', False)))\\nprint(reduce(lambda x, y: bool(x or y), (0, '', None, 0.0, [], (), {}, False)))\\n\\n# using reduce to reproduce all()\\nprint(reduce(lambda x, y: bool(x and y), (0, '', 1, 0.0, 'and', False)))\\nprint(reduce(lambda x, y: bool(x and y), (1, 'a', 0.1, [1], True)))\\n\\n# using reduce to calculate factorial\\ndef factorial(n):\\n    return reduce(lambda x, y: x * y, range(1, n + 1), 1)\\n\\nprint(factorial(1))\\nprint(factorial(3))\\nprint(factorial(10))\", 'reduce': <built-in function reduce>, '_i61': \"# similar to functools.partial()\\ndef partial_func(func, /, *args, **kwargs):\\n    def new_func(*new_args, **new_kwargs):\\n        new_kwargs = {**kwargs, **new_kwargs}\\n        return func(*args, *new_args, **new_kwargs)\\n    return new_func\\n\\nint_base_2 = partial_func(int, base=2)\\nprint(f'{int_base_2('1010')=}')\\n\\nsquare = partial_func(pow, exp=2)\\nprint(f'{square(10)=}')\\nprint(f'{square(10, exp=3)}') # you can still overwrite the value of exp predefined in the partial function\\n\\nmodular_multiplicative_inverse = partial_func(pow, exp=-1)\\nprint(f'{modular_multiplicative_inverse(38, mod=97)=}') # here mod must be keyword argument\", 'partial_func': <function partial_func at 0x000002185DAD7BA0>, 'int_base_2': functools.partial(<class 'int'>, base=2), 'square': <function partial_func.<locals>.new_func at 0x000002185DA9FD80>, 'modular_multiplicative_inverse': <function partial_func.<locals>.new_func at 0x000002185DB6C040>, '_i62': \"from functools import partial\\n\\nint_base_2 = partial(int, base=2)\\nprint(int_base_2('1010'))\\n\\ndef my_func(a, b, *args, k1, k2, **kwargs):\\n    print(a, b, args, k1, k2, kwargs)\\n\\n# if want to freeze a and k1 of my_func\\nmy_func_partial = partial(my_func, 'a', k1='k1')\\nmy_func_partial('b', 'args1', 'args2', k2='k2', k3='k3', k4='k4')\\n\\n# sort list of complex numbers according to their absolute value\\nsorted_by_abs = partial(sorted, key=lambda x: abs(x))\\ncomplexes = [1 + 2j, 3 - 4j, 0, 7 - 8j, 4 + 5j]\\nprint(sorted_by_abs(complexes))\\n\\n# sort list of points according to their distance to a certain point\\norigin = (0, 0)\\npoints = [(0, 5), (0, 0), (3, 4), (-5, 1), (-3, -2)]\\ndistance_square = lambda a, b: (a[0] - b[0]) ** 2 + (a[1] - b[1]) ** 2\\npoints_sorted = sorted(points, key=partial(distance_square, origin))\\nprint(points_sorted)\", 'partial': <class 'functools.partial'>, 'my_func_partial': functools.partial(<function my_func at 0x000002185DB6C2C0>, 'a', k1='k1'), 'sorted_by_abs': functools.partial(<built-in function sorted>, key=<function <lambda> at 0x000002185DAD68E0>), 'complexes': [(5-10j), (3+2j), (-2-1j), (2+10j), (8-5j)], 'origin': (0, 0), 'points': [(0, 5), (0, 0), (3, 4), (-5, 1), (-3, -2)], 'distance_square': <function <lambda> at 0x000002185DB6C360>, 'points_sorted': [(0, 0), (-3, -2), (0, 5), (3, 4), (-5, 1)], '_i63': \"import operator\\nfrom functools import reduce\\n\\nprint(reduce(lambda x, y: x * y, [1, 2, 3, 4]))\\nprint(reduce(operator.mul, [1, 2, 3, 4]))\\n\\nget_item_2 = operator.itemgetter(2)\\nprint(get_item_2([1, 2, 3, 4]))\\nprint(get_item_2('abcde'))\\n\\nget_item_2_3 = operator.itemgetter(2, 3)\\nprint(get_item_2_3([1, 2, 3, 4]))\\nprint(get_item_2_3('abcde'))\\n\\nclass MyClass:\\n    def __init__(self):\\n        self.a = 'a'\\n        self.b = 'b'\\n\\n    def test(self):\\n        print('test method get called')\\n\\nobj = MyClass()\\nget_attr_a = operator.attrgetter('a')\\nprint(get_attr_a(obj))\\n\\nget_attr_test = operator.attrgetter('test')\\nget_attr_test(obj)()\\nmethod_caller_test = operator.methodcaller('test')\\nmethod_caller_test(obj)\\n\\ncomplexes = [5 - 10j, 3 + 2j, -2 - 1j, 2 + 10j, 8 - 5j]\\nsorted_by_real = sorted(complexes, key=operator.attrgetter('real'))\\nprint(sorted_by_real)\\n\\ntuples = [(2, 3, 4), (-2, 3, 1), (0,), (5, 7, 1), (3, 4)]\\nsorted_by_first = sorted(tuples, key=operator.itemgetter(0))\\n# sorted_by_first = sorted(tuples, key=lambda x: x[0])\\nprint(sorted_by_first)\", 'operator': <module 'operator' from 'c:\\\\Users\\\\FREEDEMPIRE-XL\\\\AppData\\\\Local\\\\Programs\\\\Python\\\\Python312\\\\Lib\\\\operator.py'>, 'get_item_2': operator.itemgetter(2), 'get_item_2_3': operator.itemgetter(2, 3), 'obj': <__main__.MyClass object at 0x000002185DAE6450>, 'get_attr_a': operator.attrgetter('a'), 'get_attr_test': operator.attrgetter('test'), 'method_caller_test': operator.methodcaller('test'), 'sorted_by_real': [(-2-1j), (2+10j), (3+2j), (5-10j), (8-5j)], 'tuples': [(2, 3, 4), (-2, 3, 1), (0,), (5, 7, 1), (3, 4)], 'sorted_by_first': [(-2, 3, 1), (0,), (2, 3, 4), (3, 4), (5, 7, 1)], '_i64': \"def my_func():\\n    global var\\n    var = 'hello'\\n\\n# print(var) # name 'var' is not defined\\nmy_func() # because of var is global, it is still available after the function finishes\\nprint(var)\\n\\na = 10\\ndef my_func():\\n    print(f'global a? {a=}') # local variable 'a' referenced before assignment\\n    a = 'hello' # a becomes local variable at compile-time\\n\\ndef print(string):\\n    return f'hello {string}'\\n\\nprint('world') # doesn't print anything, only returns a string, because the built-in print function has been masked by the string function in the module scope\\ndel print\\nprint('world')\", 'var': 'hello', '_i65': \"x = 'python'\\n\\ndef outer():\\n    global x\\n    x = 'monty'\\n\\n    def inner():\\n        # nonlocal x # no binding for nonlocal 'x'\\n        x = 'hello'\\n        print(x)\\n\\n    inner()\\n    print(x)\\n\\nouter()\", 'outer': <function outer at 0x000002185DB6D260>, '_i66': \"def outer():\\n    count = 0\\n\\n    def inner1():\\n        nonlocal count\\n        count += 1\\n        return count\\n    \\n    def inner2():\\n        nonlocal count\\n        count += 1\\n        return count\\n    \\n    return inner1, inner2\\n\\nf1, f2 = outer()\\nprint(f'{f1.__code__.co_freevars=}')\\nprint(f'{f2.__code__.co_freevars=}')\\nprint(f'{f1.__closure__=}')\\nprint(f'{f2.__closure__=}') # same cell as above\\nprint(f1())\\nprint(f2())\", 'f1': <function outer.<locals>.inner1 at 0x000002185DAD6F20>, 'f2': <function outer.<locals>.inner2 at 0x000002185DB6C0E0>, '_i67': \"def create_adders():\\n    adders = []\\n    for n in range(1, 4):\\n        adders.append(lambda x, y=n: x + y) # defaults get evaluated at creation-time\\n    return adders\\n\\nadders = create_adders()\\nprint(f'{adders[0].__code__.co_freevars=}') # no free variables\\nprint(f'{adders[0].__closure__=}') # not a closure, so no cells\\n# at function creation-time, n is evaluated and put that into y as the default for y\\n# there's not even a mention of n in the body of the function\\n\\nprint(f'{adders[0](10)=}')\\nprint(f'{adders[1](10)=}')\\nprint(f'{adders[2](10)=}')\", 'create_adders': <function create_adders at 0x000002185DB6C7C0>, 'adders': [<function create_adders.<locals>.<lambda> at 0x000002185DB6C720>, <function create_adders.<locals>.<lambda> at 0x000002185DB6C680>, <function create_adders.<locals>.<lambda> at 0x000002185DB6C860>], '_i68': 'class Averager:\\n    def __init__(self):\\n        self.numbers = []\\n\\n    def add(self, number):\\n        self.numbers.append(number)\\n        return sum(self.numbers) / len(self.numbers)\\n\\ndef outer():\\n    numbers = []\\n    def add(number):\\n        numbers.append(number)\\n        return sum(numbers) / len(numbers)\\n    return add\\n\\naverager = Averager()\\nprint(averager.add(1))\\nprint(averager.add(2))\\nprint(averager.add(3))\\nprint(averager.add(4))\\n\\ncalc_ave = outer()\\nprint(calc_ave(1))\\nprint(calc_ave(2))\\nprint(calc_ave(3))\\nprint(calc_ave(4))', 'Averager': <class '__main__.Averager'>, 'averager': <__main__.Averager object at 0x000002185DB42930>, 'calc_ave': <function outer_better.<locals>.add at 0x000002185DB6CD60>, '_i69': \"def outer_better():\\n    count = 0\\n    total = 0\\n    def add(number):\\n        nonlocal count\\n        nonlocal total\\n        count += 1\\n        total += number\\n        return total / count\\n    return add\\n\\ncalc_ave = outer_better()\\nprint(f'{calc_ave.__code__.co_freevars=}')\\nprint(f'{calc_ave.__closure__=}')\\nprint(calc_ave(1))\\nprint(calc_ave(2))\\nprint(calc_ave(3))\\nprint(calc_ave(4))\", 'outer_better': <function outer_better at 0x000002185DB6CC20>, '_i70': 'from time import perf_counter\\n\\nclass Timer:\\n    def __init__(self):\\n        self.start = perf_counter()\\n\\n    def __call__(self):\\n        return perf_counter() - self.start\\n    \\ndef outer():\\n    start = perf_counter()\\n    def poll():\\n        return perf_counter() - start\\n    return poll\\n    \\nt1 = Timer()\\nprint(t1())\\n\\ntimer = outer()\\nprint(timer())', 'Timer': <class '__main__.Timer'>, 't1': <__main__.Timer object at 0x000002185DB42390>, 'timer': <function outer.<locals>.poll at 0x000002185DB6C5E0>, '_i71': \"def counter(fn):\\n    # a function report the times of the designated function get called\\n    # it actually works the same way as a decorator\\n    count = 0\\n    def inner(*args, **kwargs):\\n        nonlocal count\\n        count += 1\\n        print(f'{fn.__name__} has been called {count} times')\\n        return fn(*args, **kwargs)\\n    return inner\\n\\ndef add(a, b):\\n    return a + b\\n\\ndef mul(a, b):\\n    return a * b\\n\\nadd = counter(add)\\nprint(add(1, 2))\\nprint(add(2, 3))\\n\\nmul = counter(mul)\\nprint(mul(4, 5))\\nprint(mul(2, 7))\", 'counter': <function counter at 0x000002185DAD7740>, 'add': <function add at 0x000002185DB6D3A0>, 'mul': <function counter.<locals>.inner at 0x000002185DB6D1C0>, '_i72': 'def counter(fn):\\n    count = 0\\n\\n    def inner(*args, **kwargs):\\n        nonlocal count\\n        count += 1\\n        print(f\\'Function {fn.__name__} has been called {count} times\\')\\n        return fn(*args, **kwargs)\\n    return inner\\n\\ndef add(a: int, b: int = 0):\\n    \"\"\"\\n    adds two values\\n    \"\"\"\\n    return a + b\\n\\nhelp(add)\\n\\nadd = counter(add)\\nhelp(add)\\nprint(f\\'{add(1, 2)=}\\')', '_i73': 'def counter(fn):\\n    count = 0\\n\\n    def inner(*args, **kwargs):\\n        nonlocal count\\n        count += 1\\n        print(f\\'Function {fn.__name__} has been called {count} times\\')\\n        return fn(*args, **kwargs)\\n    return inner\\n\\n# use the @wrapper syntax\\n@counter\\ndef add(a: int, b: int = 0):\\n    \"\"\"\\n    adds two values\\n    \"\"\"\\n    return a + b\\n\\nhelp(add)\\nprint(f\\'{add(1, 2)=}\\')', '_i74': 'from functools import wraps\\n\\ndef counter(fn):\\n    count = 0\\n\\n    @wraps(fn) # fix the metadata of inner\\n    def inner(*args, **kwargs):\\n        nonlocal count\\n        count += 1\\n        print(f\\'Function {fn.__name__} has been called {count} times\\')\\n        return fn(*args, **kwargs)\\n    # the following can only fix function name and docstring\\n    # inner.__name__ = fn.__name__\\n    # inner.__doc__ = fn.__doc__\\n\\n    # works the same as the @wraps decorator\\n    # inner = wraps(fn)(inner)\\n    return inner\\n\\n@counter\\ndef add(a: int, b: int = 0):\\n    \"\"\"\\n    adds two values\\n    \"\"\"\\n    return a + b\\n\\nhelp(add)\\nprint(f\\'{add(1, 2)=}\\')', 'wraps': <function wraps at 0x00000218585A5F80>, '_i75': 'def timed(fn):\\n    from time import perf_counter\\n    from functools import wraps\\n\\n    @wraps(fn)\\n    def inner(*args, **kwargs):\\n        start = perf_counter()\\n        result = fn(*args, **kwargs)\\n        elapsed = perf_counter() - start\\n\\n        args_list = [str(arg) for arg in args]\\n        kwargs_list = [f\\'{k}={v}\\' for k, v in kwargs.items()]\\n        args_string = \\',\\'.join(args_list + kwargs_list)\\n        print(f\\'{fn.__name__}({args_string}) took {elapsed}s to run\\')\\n        return result\\n    \\n    return inner\\n\\n# recursion\\n# @timed\\ndef calc_nth_fibonacci_recursion(n):\\n    \"\"\"\\n    Return the nth number of a fibonacci series, n starting from 1\\n    \"\"\"\\n    return 1 if n < 3 else calc_nth_fibonacci_recursion(n - 1) + calc_nth_fibonacci_recursion(n - 2)\\n\\n# calculate the total time elapsed\\n@timed\\ndef fib_recursion(n):\\n    return calc_nth_fibonacci_recursion(n)\\n\\n# calc_nth_fibonacci_recursion(6)\\n\\nprint(f\\'{fib_recursion(30)=}\\')\\n\\n# loop\\n@timed\\ndef calc_nth_fibonacci_loop(n):\\n    if n <= 2:\\n        return 1\\n    fib_1 = 1\\n    fib_2 = 1\\n    for n in range(3, n + 1):\\n        fib_1, fib_2 = fib_2, fib_1 + fib_2\\n    return fib_2\\n\\nprint(f\\'{calc_nth_fibonacci_loop(30)=}\\')\\n\\n# reduce\\n@timed\\ndef calc_nth_fibonacci_reduce(n):\\n    from functools import reduce\\n    if n <= 1:\\n        return 1\\n    fib = reduce(lambda x, y: (x[0] + x[1], x[0]),\\n           range(n - 1),\\n           (1, 0))\\n    return fib[0]\\n\\nprint(f\\'{calc_nth_fibonacci_reduce(30)=}\\')', 'timed': <function timed at 0x000002185DAD6660>, 'calc_nth_fibonacci_recursion': <function calc_nth_fibonacci_recursion at 0x000002185DB6D080>, 'fib_recursion': <function fib_recursion at 0x000002185DB6D120>, 'calc_nth_fibonacci_loop': <function calc_nth_fibonacci_loop at 0x000002185DB6D620>, 'calc_nth_fibonacci_reduce': <function calc_nth_fibonacci_reduce at 0x000002185DB6D6C0>, '_i76': \"def logger(fn):\\n    from functools import wraps\\n    import datetime\\n\\n    @wraps(fn)\\n    def inner(*args, **kwargs):\\n        run_dt = datetime.datetime.now(datetime.UTC)\\n        result = fn(*args, **kwargs)\\n        print(f'{run_dt}: called {fn.__name__}')\\n        return result\\n    \\n    return inner\\n\\ndef timed(fn):\\n    from functools import wraps\\n    from time import perf_counter\\n\\n    @wraps(fn)\\n    def inner(*args, **kwargs):\\n        start = perf_counter()\\n        result = fn(*args, **kwargs)\\n        elapsed = perf_counter() - start\\n        print(f'{fn.__name__} ran for {elapsed}s')\\n        return result\\n    \\n    return inner\\n\\n# stacked decorators\\n# the decorators are executed from top to bottom\\n@logger\\n@timed\\ndef factorial(n):\\n    from functools import reduce\\n    from operator import mul\\n\\n    return reduce(mul, range(1, n + 1))\\n\\n# the equivalent to the above decorators\\n# factorial = logger(timer(factorial))\\n\\nprint(factorial(10))\", 'logger': <function logger at 0x000002185DB6D440>, '_i77': \"# fibonacci class with cache\\nclass Fib:\\n    def __init__(self):\\n        self.cache = {1: 1, 2: 1}\\n\\n    def __call__(self, n):\\n        if n in self.cache:\\n            return self.cache[n]\\n        print(f'Calculating fib({n})')\\n        self.cache[n] = self.__call__(n - 1) + self.__call__(n - 2)\\n        return self.cache[n]\\n    \\nfib = Fib()\\nprint(f'{fib(1)=}')\\nprint(f'{fib(2)=}')\\nprint(f'{fib(3)=}')\\nprint(f'{fib(4)=}')\\nprint(f'{fib(5)=}')\\nprint(f'{fib(4)=}')\\nprint(f'{fib(3)=}')\\nprint(f'{fib(2)=}')\", 'Fib': <class '__main__.Fib'>, 'fib': <functools._lru_cache_wrapper object at 0x000002185D88EE50>, '_i78': \"# closure with cache\\ndef outer():\\n    cache = {1: 1, 2: 1}\\n\\n    def fib(n):\\n        if n not in cache:\\n            print(f'Calculating fib({n})')\\n            cache[n] = fib(n - 1) + fib(n - 2)\\n        return cache[n]\\n    \\n    return fib\\n\\nfib = outer()\\nprint(f'{fib(1)=}')\\nprint(f'{fib(2)=}')\\nprint(f'{fib(3)=}')\\nprint(f'{fib(4)=}')\\nprint(f'{fib(5)=}')\\nprint(f'{fib(4)=}')\", '_i79': \"def memoize(fn):\\n    cache = {}\\n\\n    def inner(n):\\n        if n not in cache:\\n            cache[n] = fn(n)\\n        return cache[n]\\n    \\n    return inner\\n\\n# decorator with cache\\n@memoize\\ndef fib(n):\\n    print(f'Calculating fib({n})')\\n    return 1 if n < 3 else fib(n - 1) + fib(n - 2)\\n\\nprint(f'{fib(1)=}')\\nprint(f'{fib(2)=}')\\nprint(f'{fib(3)=}')\\nprint(f'{fib(4)=}')\\nprint(f'{fib(5)=}')\\nprint(f'{fib(4)=}')\", 'memoize': <function memoize at 0x000002185DB6CF40>, '_i80': \"from functools import lru_cache\\n\\n# built-in decorator with cache\\n# @cache(user_function) return the same as lru_cache(maxsize=None)\\n# @functools.lru_cache(user_function)\\n# @functools.lru_cache(maxsize=128, typed=False)\\n@lru_cache\\ndef fib(n):\\n    print(f'Calculating fib({n})')\\n    return 1 if n < 3 else fib(n - 1) + fib(n - 2)\\n\\nprint(f'{fib(1)=}')\\nprint(f'{fib(2)=}')\\nprint(f'{fib(3)=}')\\nprint(f'{fib(4)=}')\\nprint(f'{fib(5)=}')\\nprint(f'{fib(4)=}')\\nprint(f'{fib(129)=}') # default maxsize=128, this will cause fib(1) replaced by fib(129)\\nprint(f'{fib(1)=}')\", 'lru_cache': <function lru_cache at 0x000002185860B380>, '_i81': \"def timed(fn, reps):\\n    from time import perf_counter\\n    from functools import wraps\\n\\n    @wraps(fn)\\n    def inner(*args, **kwargs):\\n        total_elapsed = 0\\n        for i in range(reps):\\n            start = perf_counter()\\n            result = fn(*args, **kwargs)\\n            total_elapsed += perf_counter() - start\\n        print(f'Average execution time: {total_elapsed / reps}')\\n        return result\\n\\n    return inner\\n\\n# @timed(10) # not working\\ndef my_func():\\n    print('my_func executed')\\n\\nmy_func = timed(my_func, 10)\\nmy_func()\", '_i82': \"# the outer function is not itself a decorator\\n# instead it returns a decorator, just like what wraps do\\n# any arguments passed to outer can be referenced (as free variables) inside the decorator\\n# the outer function is called a decorator factory function\\ndef outer(reps):\\n    def timed(fn):\\n        from time import perf_counter\\n        from functools import wraps\\n\\n        @wraps(fn)\\n        def inner(*args, **kwargs):\\n            total_elapsed = 0\\n            for i in range(reps):\\n                start = perf_counter()\\n                result = fn(*args, **kwargs)\\n                total_elapsed += perf_counter() - start\\n            print(f'Average execution time: {total_elapsed / reps}')\\n            return result\\n\\n        return inner\\n\\n    return timed\\n\\n@outer(10) # outer gets called, and returns a parameterized decorator\\ndef my_func():\\n    print('my_func executed')\\n\\n# my_func = outer(10)(my_func) # equivalent to the decorator above\\nmy_func()\", '_i83': \"def dec(fn):\\n    print('running dec')\\n\\n    def inner(*args, **kwargs):\\n        print('running inner')\\n        return fn(*args, **kwargs)\\n    \\n    return inner\\n\\n@dec\\ndef func():\\n    print('running func')\\n\\n# func = dec(func) # @dec equivalent\\n\\nprint('after func got decorated')\\nfunc()\", 'dec': <function dec at 0x000002185DB6D9E0>, '_i84': \"class DecoratorClass:\\n    def __init__(self, a, b):\\n        self.a = a\\n        self.b = b\\n\\n    def __call__(self, fn):\\n        print(f'decorate {fn.__name__}')\\n        def inner(*args, **kwargs):\\n            print(f'decorated function called: a={self.a}, b={self.b}')\\n            return fn(*args, **kwargs)\\n        return inner\\n\\n@DecoratorClass(10, 20)\\ndef func():\\n    print('func called')\\n\\nprint('after func decorated')\\nfunc()\", 'DecoratorClass': <class '__main__.DecoratorClass'>, '_i85': \"class Decorator:\\n    def __init__(self, fn): # cannot parameterized fn\\n        print(f'decorate {fn.__name__}')\\n        self.fn = fn\\n\\n    def __call__(self, *args, **kwargs):\\n        print(f'decorated {self.fn.__name__} called')\\n        return self.fn(*args, **kwargs)\\n    \\n@Decorator\\ndef func(a, b=1, *, c):\\n    print(f'{a=}, {b=}, {c=}')\\n\\nprint('after func decorated')\\nfunc(0, c=2)\", 'Decorator': <class '__main__.Decorator'>, '_i86': \"def speak_decorator(cls):\\n    cls.speak = lambda self, message: f'{self.__class__.__name__} says {message}'\\n    return cls # the return of cls if not necessary if not using @wrapper syntax or its equivalent\\n\\n@speak_decorator\\nclass Person:\\n    pass\\n\\n# Person = speak_decorator(Person) # decorator equivalent\\n\\np = Person()\\np.speak('Hello world!')\", 'speak_decorator': <function speak_decorator at 0x000002185DB6DF80>, 'Person': <class '__main__.Person'>, 'p': <__main__.Person object at 0x000002185DC30170>, '_86': 'Person says Hello world!', '_i87': \"import datetime\\n\\ndef debug_info(cls):\\n    def info(self):\\n        results = []\\n        results.append(f'time: {datetime.datetime.now(datetime.UTC)}')\\n        results.append(f'class: {self.__class__.__name__}')\\n        results.append(f'id: {hex(id(self))}')\\n        for k, v in vars(self).items():\\n            results.append(f'{k}: {v}')\\n        return results\\n    \\n    cls.debug = info\\n    return cls\\n\\n@debug_info\\nclass Person:\\n    def __init__(self, name, birth_year):\\n        self.name = name\\n        self.birth_year = birth_year\\n\\n    def say_hi(self):\\n        return 'Hello there!'\\n    \\np = Person('John', 1999)\\nprint(p.say_hi())\\nprint(p.debug())\", 'debug_info': <function debug_info at 0x000002185ABC9C60>, '_i88': \"@debug_info\\nclass Auto:\\n    def __init__(self, make, model, year, top_speed, speed):\\n        self.make = make\\n        self.model = model\\n        self.year = year\\n        self.top_speed = top_speed\\n        self.speed = speed\\n\\n    @property\\n    def speed(self):\\n        return self._speed\\n    \\n    @speed.setter\\n    def speed(self, speed):\\n        if speed > self.top_speed:\\n            raise ValueError('Speed cannot exceed top_speed')\\n        self._speed = speed\\n\\n    def run(self):\\n        print('The car is running')\\n\\nauto = Auto('Ford', 'Model T', 1908, 45, 10)\\nprint(auto.speed)\\n# auto.speed = 100 # raise ValueError here\\nauto.speed = 20\\nauto.debug()\", 'Auto': <class '__main__.Auto'>, 'auto': <__main__.Auto object at 0x000002185DAC6420>, '_88': ['time: 2024-01-15 20:54:25.376760+00:00', 'class: Auto', 'id: 0x2185dac6420', 'make: Ford', 'model: Model T', 'year: 1908', 'top_speed: 45', '_speed: 20'], '_i89': \"def complete_ordering(cls):\\n    if '__eq__' in dir(cls) and '__lt__' in dir(cls):\\n        cls.__le__ = lambda self, other: self < other or self == other\\n        cls.__gt__ = lambda self, other: not (self < other or self == other) # raise TypeError if other of unsupported type\\n        cls.__ge__ = lambda self, other: not (self < other)\\n        cls.__ne__ = lambda self, other: not (self == other)\\n    return cls\\n\\n@complete_ordering\\nclass Point:\\n    def __init__(self, x, y):\\n        self.x = x\\n        self.y = y\\n\\n    def __abs__(self):\\n        return (self.x ** 2 + self.y ** 2) ** 0.5\\n    \\n    def __repr__(self):\\n        return f'Point({self.x}, {self.y})'\\n    \\n    def __eq__(self, other):\\n        if isinstance(other, Point):\\n            return self.x == other.x and self.y == other.y\\n        else:\\n            return False\\n        \\n    def __lt__(self, other):\\n        if isinstance(other, Point):\\n            return abs(self) < abs(other)\\n        else:\\n            return NotImplemented\\n\\np1, p2, p3 = Point(1, 2), Point(1, 2), Point(2, 3)\\nn = 1\\nprint(f'{(p1 == p2)=}')\\nprint(f'{(p1 != p2)=}')\\nprint(f'{(p1 > p2)=}')\\nprint(f'{(p1 >= p2)=}')\\nprint(f'{(p1 < p2)=}')\\nprint(f'{(p1 <= p2)=}')\\nprint(f'{(p1 < p3)=}')\\nprint(f'{(p1 >= p3)=}')\\nprint(f'{(p1 != 1)=}')\\n# print(f'{(p1 < 1)=}') # raise TypeError\\n# print(f'{(p1 > 1)=}')\\n# print(f'{(p1 >= 1)=}')\", 'complete_ordering': <function complete_ordering at 0x000002185DB6E0C0>, 'Point': <class '__main__.Point'>, 'p1': Point2D(x=1, y=1), 'p2': Point3D(x=1, y=4, z=5), 'p3': Point3D(x=1, y=4, z=6), '_i90': \"from functools import total_ordering\\n\\n# Given a class defining one or more rich comparison ordering methods, this class decorator supplies the rest.\\n# The class must define one of __lt__(), __le__(), __gt__(), or __ge__(). In addition, the class should supply an __eq__() method.\\n@total_ordering\\nclass Point:\\n    def __init__(self, x, y):\\n        self.x = x\\n        self.y = y\\n\\n    def __abs__(self):\\n        return (self.x ** 2 + self.y ** 2) ** 0.5\\n    \\n    def __repr__(self):\\n        return f'Point({self.x}, {self.y})'\\n    \\n    def __eq__(self, other):\\n        if isinstance(other, Point):\\n            return self.x == other.x and self.y == other.y\\n        else:\\n            return False\\n        \\n    def __lt__(self, other):\\n        if isinstance(other, Point):\\n            return abs(self) < abs(other)\\n        else:\\n            return NotImplemented\\n        \\np1, p2, p3 = Point(1, 2), Point(1, 2), Point(2, 3)\\nn = 1\\nprint(f'{(p1 == p2)=}')\\nprint(f'{(p1 != p2)=}')\\nprint(f'{(p1 > p2)=}')\\nprint(f'{(p1 >= p2)=}')\\nprint(f'{(p1 < p2)=}')\\nprint(f'{(p1 <= p2)=}')\\nprint(f'{(p1 < p3)=}')\\nprint(f'{(p1 >= p3)=}')\\nprint(f'{(p1 != 1)=}')\\n# print(f'{(p1 < 1)=}') # raise TypeError\\n# print(f'{(p1 > 1)=}')\\n# print(f'{(p1 >= 1)=}')\", 'total_ordering': <function total_ordering at 0x00000218585A6660>, '_i91': \"from html import escape\\nfrom decimal import Decimal\\n\\ndef html_escape(obj):\\n    return escape(str(obj))\\n\\ndef html_int(i):\\n    return f'{i} (<i>{hex(i)}</i>)'\\n\\ndef html_real(r):\\n    return f'{r:.2f}'\\n\\ndef html_str(s):\\n    return html_escape(s).replace('\\\\n', '<br>\\\\n')\\n\\ndef html_list(l):\\n    items = (f'<li>{htmlize(item)}</li>' for item in l)\\n    return '<ul>\\\\n' + '\\\\n'.join(items) + '\\\\n</ul>'\\n\\ndef html_dict(d):\\n    items = (f'<li>{html_escape(k)}={htmlize(v)}</li>' for k, v in d.items())\\n    return '<ul>\\\\n' + '\\\\n'.join(items) + '\\\\n</ul>'\\n\\ndef htmlize(arg):\\n    registry = {\\n        object: html_escape,\\n        int: html_int,\\n        float: html_real,\\n        Decimal: html_real,\\n        str: html_str,\\n        list: html_list,\\n        tuple: html_list,\\n        set: html_list,\\n        dict: html_dict\\n    }\\n    return registry.get(type(arg), registry[object])(arg)\\n\\nprint(htmlize(['a', 1, 1.2, 'hello\\\\nworld, 1 > 2 != 3',\\n               (True, False, None),\\n               {1: '1', 2: '2', 3: '3'},\\n               {'x', 'y', 'z'}]))\", 'escape': <function escape at 0x000002185AB489A0>, 'html_escape': <function html_escape at 0x000002185DB6F380>, 'html_int': <function html_int at 0x000002185DB6F2E0>, 'html_real': <function html_real at 0x000002185DB6F420>, 'html_str': <function html_str at 0x000002185DB6F4C0>, 'html_list': <function html_list at 0x000002185DB6F560>, 'html_dict': <function html_dict at 0x000002185DB6F600>, 'htmlize': <function single_dispatch.<locals>.decorated at 0x000002185DB6ECA0>, '_i92': \"from html import escape\\n\\ndef single_dispatch(fn):\\n    registry = {}\\n    registry[object] = fn\\n\\n    def decorated(arg):\\n        return registry.get(type(arg), registry[object])(arg)\\n\\n    def register(type_):\\n        def inner(fn_extension):\\n            registry[type_] = fn_extension\\n            return fn_extension # just return back the decorated function as it is\\n        return inner\\n\\n    def dispatch(type_):\\n        return registry.get(type_, registry[object])\\n\\n    decorated.register = register\\n    decorated.dispatch = dispatch\\n    decorated.registry = registry\\n    return decorated\\n\\n@single_dispatch\\ndef htmlize(obj):\\n    return escape(str(obj))\\n\\nprint(f'{htmlize.__name__=}')\\nprint(f'{htmlize.register=}')\\nprint(htmlize('I can fly!\\\\n1 < 100'))\\n\\n# register decorator can be stacked because it returns back the decorated function as it is\\n@htmlize.register(set)\\n@htmlize.register(tuple)\\n@htmlize.register(list)\\ndef html_sequence(sequence):\\n    items = (f'<li>{htmlize(item)}</li>' for item in sequence)\\n    return '<ul>\\\\n' + '\\\\n'.join(items) + '\\\\n</ul>'\\n\\nprint(htmlize(['a', 'b', 'c']))\\nprint(htmlize(('1', '2', '3')))\\nprint(htmlize.registry)\\nprint(htmlize.dispatch(int))\", 'single_dispatch': <function single_dispatch at 0x000002185DB6E160>, 'html_sequence': <function html_sequence at 0x000002185DB6FA60>, '_i93': \"london = 'London', 'UK', 8780000\\nnew_york = 'New York', 'USA', 8500000\\nbeijing = 'Beijing', 'China', 21000000\\ncities = [london, new_york, beijing]\\n\\ntotal = 0\\n# for city in cities:\\n#     total += city[2]\\nfor *_, population in cities:\\n    total += population\\nprint(total)\\n\\ntotal = sum(city[2] for city in cities)\\nprint(total)\", 'london': ('London', 'UK', 8780000), 'new_york': ('New York', 'USA', 8500000), 'beijing': ('Beijing', 'China', 21000000), 'cities': [('London', 'UK', 8780000), ('New York', 'USA', 8500000), ('Beijing', 'China', 21000000)], 'total': 38280000, 'population': 21000000, '_i94': \"# random.uniform(a, b)\\n# Return a random floating point number N such that a <= N <= b for a <= b and b <= N <= a for b < a.\\nfrom random import uniform\\n\\ndef random_shot(radius=1):\\n    random_x = uniform(-radius, radius)\\n    random_y = uniform(-radius, radius)\\n\\n    is_in_circle = random_x ** 2 + random_y ** 2 <= radius ** 2\\n    return random_x, random_y, is_in_circle\\n\\ndef in_circle_rate(repetitions):\\n    count = 0\\n    for _ in range(repetitions):\\n        *_, inside = random_shot()\\n        count += inside # bool is indeed subclass of int\\n    return count / repetitions\\n\\nprint(f'Pi = {in_circle_rate(1000) * 4}')\\nprint(f'Pi = {in_circle_rate(10000) * 4}')\\nprint(f'Pi = {in_circle_rate(100000) * 4}')\\nprint(f'Pi = {in_circle_rate(1000000) * 4}')\", 'uniform': <bound method Random.uniform of <random.Random object at 0x00000218587ECF80>>, 'random_shot': <function random_shot at 0x000002185DB6FBA0>, 'in_circle_rate': <function in_circle_rate at 0x000002185DB6FB00>, '_i95': \"from collections import namedtuple\\n\\nPoint2D = namedtuple('Point2D', 'x y')\\n\\ndef dot_product(a, b):\\n    return sum(p[0] * p[1] for p in zip(a, b))\\n\\np1 = Point2D(x=1, y=2)\\n# p1 = Point2D(x=1, y=2, y=3) # SyntaxError: keyword argument repeated: y\\np2 = Point2D(3, 4)\\np3 = Point2D(1, 2)\\nprint(f'{p1=}')\\nprint(f'{type(p2)=}')\\nprint(f'{isinstance(p2, tuple)=}')\\nprint(f'{p1.x=}, {p1.y=}')\\nprint(f'{p2.x=}, {p2.y=}')\\nprint(f'{p3.x=}, {p3.y=}')\\nprint(f'{(p1 == p3)=}')\\nx, y = p1\\nprint(f'{x=}, {y=}')\\nprint(f'p1 dot p2 = {dot_product(p1, p2)}')\\nprint(p1._asdict())\\nprint(Point2D._fields)\\n# print(Point2D._source) # removed in version 3.7\\np1_sliced = p1[:1]\\nprint(f'{p1_sliced=}')\\nprint(f'{type(p1_sliced)=}')\\n# print(f'{(p1_sliced._fields)=}') # after slicing it be a normal tuple\", 'namedtuple': <function namedtuple at 0x00000218585A7CE0>, 'Point2D': <class '__main__.Point2D'>, 'dot_product': <function dot_product at 0x000002185DB6FEC0>, 'p1_sliced': (1,), '_i96': \"from collections import namedtuple\\n\\nPoint2D = namedtuple('Point2D', 'x y')\\np1 = Point2D(1, 2)\\nprint(f'{p1=} @ {hex(id(p1))}')\\np1 = Point2D(p1.x, y=3)\\nprint(f'{p1=} @ {hex(id(p1))}')\\np1 = p1._replace(y=4) # create a new instance by replacing some values with keyword arguments\\nprint(f'{p1=} @ {hex(id(p1))}')\\n\\nPoint3D = namedtuple('Point3D', Point2D._fields + ('z',)) # extend named tuple\\np2 = Point3D._make(p1 + (5,))\\nprint(f'{p2=} @ {hex(id(p2))}')\\np3 = Point3D(*p1, 6)\\nprint(f'{p3=} @ {hex(id(p3))}')\", 'Point3D': <class '__main__.Point3D'>, '_i97': \"from collections import namedtuple\\n\\nPoint2D = namedtuple('Point2D', 'x y')\\np1 = Point2D(1, 1)\\nprint(Point2D.__doc__)\\nprint(Point2D.x.__doc__)\\nprint(Point2D.y.__doc__)\", '_i98': \"from collections import namedtuple\\n\\nVector2D = namedtuple('Vector2D', 'x1 y1 x2 y2 origin_x origin_y')\\nVector2D.__new__.__defaults__ = (0, 0)\\nv1 = Vector2D(1, 1, 2, 2)\\nprint(v1)\\n\\nVector2D = namedtuple('Vector2D', 'x1 y1 x2 y2 origin_x origin_y', defaults=(10, 10))\\nv2 = Vector2D(3, 3, 4, 4)\\nprint(v2)\", 'Vector2D': <class '__main__.Vector2D'>, 'v1': Vector2D(x1=1, y1=1, x2=2, y2=2, origin_x=0, origin_y=0), 'v2': Vector2D(x1=3, y1=3, x2=4, y2=4, origin_x=10, origin_y=10), '_i99': \"from random import randint, random\\nfrom collections import namedtuple\\n\\nColor = namedtuple('Color', 'red green blue alpha', defaults=(0, 0, 0, 0))\\n\\ndef random_color():\\n    rgb = (randint(0, 255) for _ in range(3))\\n    a = round(random(), 2)\\n    return Color(*rgb, a)\\n\\nc1 = random_color()\\nc2 = random_color()\\nc3 = random_color()\\nprint(c1)\\nprint(c2)\\nprint(c3)\", 'randint': <bound method Random.randint of <random.Random object at 0x00000218587ECF80>>, 'Color': <class '__main__.Color'>, 'random_color': <function random_color at 0x000002185DB9D6C0>, 'c1': Color(red=48, green=229, blue=30, alpha=0.24), 'c2': Color(red=239, green=72, blue=254, alpha=0.2), 'c3': Color(red=125, green=154, blue=42, alpha=0.06), '_i100': \"# alternative to dictionaries\\n\\nfrom collections import namedtuple\\n\\ndata_dict = {'key1': 1, 'key2': 2, 'key3': 3}\\n\\nData = namedtuple('Data', data_dict.keys())\\ndata = Data(**data_dict)\\nprint(data)\\nprint(data._asdict())\\nkey_name = 'key1'\\nprint(f'{getattr(data, key_name)=}')\\nprint(f'{data.key1=}')\", 'data_dict': {'key1': 1, 'key2': 2, 'key3': 3}, 'Data': <class '__main__.Data'>, 'data': Data(key1=1, key2=2, key3=3), 'key_name': 'key1', '_i101': \"# convert a list of dictionaries to a list of named tuples\\n\\nfrom collections import namedtuple\\n\\ndata_dicts = [\\n    {'key1': 1, 'key2': 2},\\n    {'key1': 3, 'key2': 4},\\n    {'key1': 5, 'key2': 6, 'key3': 7},\\n    {'key2': 100}\\n]\\n\\n# keys = set(key for key in data_dict for data_dict in data_dicts)\\n# keys = {key for key in data_dict for data_dict in data_dicts}\\nkeys = {key for data_dict in data_dicts for key in data_dict}\\nprint(keys)\\nData = namedtuple('Data', sorted(keys), defaults=(None for _ in keys))\\ndata_list = [Data(**data_dict) for data_dict in data_dicts]\\nprint(data_list)\", 'data_dicts': [{'key1': 1, 'key2': 2}, {'key1': 3, 'key2': 4}, {'key1': 5, 'key2': 6, 'key3': 7}, {'key2': 100}], 'keys': {'key3', 'key2', 'key1'}, 'data_list': [Data(key1=1, key2=2, key3=None), Data(key1=3, key2=4, key3=None), Data(key1=5, key2=6, key3=7), Data(key1=None, key2=100, key3=None)], '_i102': \"from collections import namedtuple\\n\\ndef tuplize_dicts(dicts, struct_name=None):\\n    struct_name = struct_name or 'Struct'\\n    keys = {key for dict_ in dicts for key in dict_}\\n    Struct = namedtuple(struct_name, sorted(keys), rename=True, defaults=(None for _ in keys))\\n    return [Struct(**dict_) for dict_ in dicts]\\n\\ndata_dicts = [\\n    {'key1': 1, 'key2': 2},\\n    {'key1': 3, 'key2': 4},\\n    {'key1': 5, 'key2': 6, 'key3': 7},\\n    {'key2': 100}\\n]\\n\\ndata_list = tuplize_dicts(data_dicts, 'Data')\\nprint(data_list)\", 'tuplize_dicts': <function tuplize_dicts at 0x000002185DAD7D80>, '_i103': \"import math\\nimport fractions\\nimport sys\\nimport types\\n\\nprint(math) # a built-in module (written in C), providing access to system functionality\\nprint(fractions) # a standard library module (written in Python), providing standardized solutions for many problems that occur in everyday programming\\nprint(sys) # built-in\\nprint(types) # standard library\\nprint(type(math))\\nprint(math.__dict__)\\nprint(dir(math))\\nprint(isinstance(math, types.ModuleType))\\nprint(math.__dict__['pi'])\\nprint(getattr(math, 'pi'))\\n\\n# globals()\\n# return the dictionary implementing the current module namespace\\n# for code within functions, this is set when the function is defined and remains the same regardless of where the function is called\\nprint(globals())\\n\\n# locals()\\n# update and return a dictionary representing the current local symbol table\\n# free variables are returned by locals() when it is called in function blocks, but not in class blocks\\n# at the module level, locals() and globals() are the same dictionary\\nprint(locals())\\nprint(globals() is locals())\\n\\nprint(sys.modules)\", 'fractions': <module 'fractions' from 'c:\\\\Users\\\\FREEDEMPIRE-XL\\\\AppData\\\\Local\\\\Programs\\\\Python\\\\Python312\\\\Lib\\\\fractions.py'>, 'types': <module 'types' from 'c:\\\\Users\\\\FREEDEMPIRE-XL\\\\AppData\\\\Local\\\\Programs\\\\Python\\\\Python312\\\\Lib\\\\types.py'>}\n",
      "{'__name__': '__main__', '__doc__': 'Automatically created module for IPython interactive environment', '__package__': None, '__loader__': None, '__spec__': None, '__builtin__': <module 'builtins' (built-in)>, '__builtins__': <module 'builtins' (built-in)>, '_ih': ['', 'import this', 'my_list = [\\n    1, # item 1\\n    2, # item 2\\n    3, # item 3\\n]\\n\\ndef my_func(\\n    a,\\n    b, # comment\\n):\\n    print(a, b)\\n\\nprint(my_list)\\nmy_func(10, #comment\\n        20)', \"a = 1\\nb = 2\\nc = 3\\nif a < b \\\\\\n    and b < c \\\\\\n    and a < c:\\n    print('yes')\", \"class Rectangle:\\n    def __init__(self, width, height):\\n        self.width = width # this actually calls the setter of width\\n        self.height = height\\n\\n    @property\\n    def width(self):\\n        return self._width\\n    \\n    @width.setter\\n    def width(self, width):\\n        if width > 0:\\n            self._width = width\\n        else:\\n            raise ValueError('Width should be greater than 0.')\\n        \\n    @property\\n    def height(self):\\n        return self._height\\n    \\n    @height.setter\\n    def height(self, height):\\n        if height > 0:\\n            self._height = height\\n        else:\\n            raise ValueError('Height should be greater than 0.')\\n        \\n    def perimeter(self):\\n        return (self._width + self._height) * 2\\n    \\n    def area(self):\\n        return self._width * self._height\\n    \\n    def __repr__(self):\\n        return f'Rectangle({self._width}, {self._height})'\\n    \\n    def __str__(self):\\n        return f'Rectangle: width {self._width}, height {self._height}'\\n    \\n    def __eq__(self, other):\\n        if isinstance(other, type(self)):\\n        # if issubclass(type(other), type(self)):\\n            return self._width == other._width and self._height == other._height\\n        else:\\n            return False\\n        \\n    def __gt__(self, other):\\n        if issubclass(type(other), type(self)):\\n            return self.area() > other.area()\\n        else:\\n            return NotImplemented\\n        \\n    def __ge__(self, other):\\n        if issubclass(type(other), type(self)):\\n            return self.area() >= other.area()\\n        else:\\n            return NotImplemented\\n        \\nrect1 = Rectangle(10, 5)\\nprint(rect1)\\nprint(repr(rect1))\\nrect1.width = 20\\nprint(f'width: {rect1.width}, height: {rect1.height}')\\nprint(f'Perimeter: {rect1.perimeter()}')\\nprint(f'Area: {rect1.area()}')\\n# rect1.width = 0\\n\\n# rect2 = Rectangle(0, 5)\\nrect2 = Rectangle(20, 5)\\nprint(rect1 == rect2)\\n\\nrect3 = Rectangle(10, 5)\\nprint(f'{rect2.area()=}, {rect3.area()=}')\\nprint('rect2 == rect3:', rect2 == rect3)\\nprint('rect2 != rect3:', rect2 != rect3)\\nprint('rect2 > rect3:', rect2 > rect3)\\nprint('rect2 >= rect3:', rect2 >= rect3)\\nprint('rect2 < rect3:', rect2 < rect3)\\nprint('rect2 == 3:', rect2 == 3)\\n# print('rect2 > 3:', rect2 > 3)\", 'my_var = 10\\nprint(my_var)\\nprint(id(my_var))\\nprint(hex(id(my_var)))', \"import sys\\nimport ctypes\\n\\nmy_list = [1, 2, 3]\\naddress_my_list = id(my_list)\\nmy_list2 = my_list\\nprint('id(my_list) == id(my_list2):', address_my_list == id(my_list2))\\n\\nprint(f'{sys.getrefcount(my_list)=}')\\nprint(f'{ctypes.c_long.from_address(address_my_list).value=}')\", \"import ctypes\\nimport gc\\n\\ndef get_ref_count(address):\\n    return ctypes.c_long.from_address(address).value\\n\\ndef check_obj_by_address(address):\\n    for obj in gc.get_objects():\\n        if id(obj) == address:\\n            return 'Object exists'\\n    return 'Obj not found'\\n\\nclass A:\\n    def __init__(self):\\n        self.b = B(self)\\n        print(f'A: self={id(self)}, b={id(self.b)}')\\n\\nclass B:\\n    def __init__(self, a):\\n        self.a = a\\n        print(f'B: self={id(self)}, a={id(self.a)}')\\n\\ngc.disable()\\n\\na = A()\\naddress_a = id(a)\\naddress_b = id(a.b)\\nprint('a reference count:', get_ref_count(address_a))\\nprint('b reference count:', get_ref_count(address_b))\\nprint('a:', check_obj_by_address(address_a))\\nprint('b:', check_obj_by_address(address_b))\\n\\nprint('\\\\nRemove variable a')\\na = None\\nprint('a reference count:', get_ref_count(address_a))\\nprint('b reference count:', get_ref_count(address_b))\\nprint('a:', check_obj_by_address(address_a))\\nprint('b:', check_obj_by_address(address_b))\\n\\nprint('\\\\nTurn on gc')\\ngc.collect()\\nprint('a reference count:', get_ref_count(address_a))\\nprint('b reference count:', get_ref_count(address_b))\\nprint('a:', check_obj_by_address(address_a))\\nprint('b:', check_obj_by_address(address_b))\", \"a = 10\\nprint(f'{id(a)=}')\\na += 1\\nprint(f'{id(a)=}')\", \"t = ([1, 2], [3, 4])\\nprint(f'{t=}, {id(t)=}')\\nt[0].append(5)\\nprint(f'{t=}, {id(t)=}')\", 'a = 10\\nb = 10\\nid(a) == id(b)', \"s1 = 'hello'\\ns2 = 'hello'\\nid(s1) == id(s2)\", 'list1 = [1, 2, 3]\\nlist2 = [1, 2, 3]\\nid(list1) == id(list2)', \"a = 10\\nb = 10\\nprint(f'{id(a)=}, {id(b)=}')\\nprint('a is b:', a is b)\\n\\na = 257\\nb = 257\\nprint(f'{id(a)=}, {id(b)=}')\\nprint('a is b:', a is b)\", \"import sys\\n\\na = 'hello'\\nb = 'hello'\\nprint(f'{id(a)=}, {id(b)=}')\\nprint('a is b:', a is b)\\n\\na = 'hello world'\\nb = 'hello world'\\nprint(f'{id(a)=}, {id(b)=}')\\nprint('a is b:', a is b)\\n\\na = sys.intern('the quick brown fox')\\nb = sys.intern('the quick brown fox')\\nc = 'the quick brown fox'\\nprint(f'{id(a)=}, {id(b)=}, {id(c)=}')\\nprint('a is b:', a is b)\\nprint('a is c:', a is c)\", \"from sys import intern\\nfrom time import perf_counter\\n\\ndef compare_using_equals(n):\\n    a = 'a very long string that is not automatically interned' * 200\\n    b = 'a very long string that is not automatically interned' * 200\\n    print('a is b:', a is b)\\n    for _ in range(n):\\n        if a == b:\\n            pass\\n\\ndef compare_using_is(n):\\n    a = intern('a very long string that is not automatically interned' * 200)\\n    b = intern('a very long string that is not automatically interned' * 200)\\n    print('a is b:', a is b)\\n    for _ in range(n):\\n        if a is b:\\n            pass\\n\\nstart = perf_counter()\\ncompare_using_equals(10000000)\\nend = perf_counter()\\nprint('Equals:', end - start)\\n\\nstart = perf_counter()\\ncompare_using_is(10000000)\\nend = perf_counter()\\nprint('Is:', end - start)\", \"def my_func():\\n    a = 24 * 60\\n    b = (1, 2) * 5\\n    c = 'ab' * 10\\n    d = 'abc' * 7\\n    e = ['1', '2'] * 3\\n\\nmy_func.__code__.co_consts\", 'def my_func():\\n    for e in [1, 2, 3]:\\n        pass\\n\\nmy_func.__code__.co_consts', \"import string\\nimport time\\n\\nchar_tuple = tuple(string.ascii_letters)\\nchar_set = set(string.ascii_letters)\\n\\ndef membership_test(n, container):\\n    for _ in range(n):\\n        if 'z' in container:\\n            pass\\n\\nn = 10000000\\nstart = time.perf_counter()\\nmembership_test(n, char_tuple)\\nend = time.perf_counter()\\nprint('Tuple:', end - start)\\n\\nstart = time.perf_counter()\\nmembership_test(n, char_set)\\nend = time.perf_counter()\\nprint('Set:', end - start)\", \"import sys\\n\\nprint(f'{type(1)=}')\\nprint(f'{sys.getsizeof(1)=}', 'bytes')\\nprint(f'{sys.getsizeof(0)=}', 'bytes')\", \"print('10 / 2 =', 10 / 2)\\nprint('10 // 3 =', 10 // 3)\\nprint('10 % 3 =', 10 % 3)\\nprint('10 // -3 =', 10 // -3)\\nprint('10 % -3 =', 10 % -3)\\nprint('-10 // 3 =', -10 // 3)\\nprint('-10 % 3 =', -10 % 3)\\nprint('-10 // -3 =', -10 // -3)\\nprint('-10 % -3 =', -10 % -3)\", 'from decimal import Decimal\\n\\nprint(f\\'{int()=}\\')\\nprint(f\\'{int(10)=}\\')\\nprint(f\\'{int(10.1)=}\\')\\nprint(f\\'{int(Decimal(\"10.1\"))=}\\')\\n# print(f\\'{int(\"10.1\")=}\\')\\nprint(f\\'{int(\"10\")=}\\')\\nprint(f\\'{int(\"010\")=}\\')\\n# print(f\\'{int(\"010\", 0)=}\\')\\nprint(f\\'{int(\"010\", 2)=}\\')\\nprint(f\\'{int(\"0b10\", 0)=}\\')', 'import string\\n\\ndef rebase(number: int, base: int):\\n    \"\"\"Rebase base 10 integer number to the designated base\"\"\"\\n    if number == 0:\\n        return \\'0\\'\\n    if base < 2 or base > 36:\\n        raise ValueError(\\'Invalid base: 2 <= base <= 36\\')\\n    \\n    base_letters = string.digits + string.ascii_lowercase\\n\\n    # if number < 0:\\n    #     sign = \\'-\\'\\n    #     number = abs(number)\\n    # else:\\n    #     sign = \\'\\'\\n    number, sign = (number, \\'\\') if number > 0 else (-number, \\'-\\')\\n    \\n    rebased = \\'\\'\\n\\n    while number > 0:\\n        rebased = base_letters[number % base] + rebased\\n        number = number // base\\n        # number, mod = divmod(number, base)\\n        # rebased = base_letters[mod] + rebased\\n\\n    return sign + rebased\\n\\nprint(f\\'{rebase(0, 2)=}\\')\\nprint(f\\'{rebase(10, 2)=}\\')\\nprint(f\\'{rebase(-10, 2)=}\\')\\nprint(f\\'{rebase(9, 3)=}\\')\\nprint(f\\'{rebase(-106, 16)=}\\')\\nprint(f\\'{rebase(1485, 16)=}\\')\\nprint(f\\'{rebase(100, 36)=}\\')\\n# print(f\\'{rebase(5, 1)=}\\')', 'from fractions import Fraction\\n\\nprint(f\\'{Fraction()=}\\')\\nprint(f\\'{Fraction(1, 10)=}\\')\\nprint(f\\'{Fraction(0.1)=}\\') # using float is meaningless, as it may not have an exact representation in base 2\\nprint(f\\'{Fraction(\"0.1\")=}\\')\\nprint(\\'Fraction(0.1) == Fraction(1, 10):\\', Fraction(0.1) == Fraction(1, 10))\\nprint(\\'Fraction(\"0.1\") == Fraction(1, 10):\\', Fraction(\\'0.1\\') == Fraction(1, 10))\\nprint(f\\'{Fraction(\"22/7\")=}\\')\\n\\nprint(Fraction(1, 2) + Fraction(1, 3))\\n\\nx = Fraction(7, 22)\\nprint(f\\'{x.numerator=}\\')\\nprint(f\\'{x.denominator=}\\')\\nx = Fraction(7, -22)\\nprint(f\\'{x.numerator=}\\')\\nprint(f\\'{x.denominator=}\\')', 'import math\\nfrom fractions import Fraction\\n\\nx = Fraction(math.pi)\\nprint(x)\\nprint(x.limit_denominator())\\nprint(x.limit_denominator(10))\\nprint(x.limit_denominator(100))\\nprint(x.limit_denominator(10000))', \"print('\\\\nFloats may not have exact representations in computer:')\\nprint('0.1:', f'{0.1:.25f}')\\nprint('0.1 + 0.1 + 0.1 == 0.3:', 0.1 + 0.1 + 0.1 == 0.3)\\n\\nprint('\\\\nBecause of the inexact internal representation, the result of round() may also be surprising.')\\nprint(f'{round(1.25, 1)=}')\\nprint(f'{round(1.225, 2)=}')\", \"import sys\\nimport math\\n\\nx = 0.1 + 0.1 + 0.1\\ny = 0.3\\nepsilon = sys.float_info.epsilon\\n\\nprint(f'{x=}, {y=}')\\nprint('x == y:', x == y)\\nprint('x is close y:', math.isclose(x, y, rel_tol=epsilon, abs_tol=epsilon))\", 'import math\\n\\ndef traditional_round(f: float):\\n    \"\"\"Round away from zero\"\"\"\\n    return int(f + math.copysign(0.5, f))\\n\\nf = -10.5\\nprint(f\\'{f=}\\')\\nprint(f\\'{round(f)=}\\')\\nprint(f\\'{traditional_round(f)=}\\')\\n\\nf = -10.6\\nprint(f\\'{f=}\\')\\nprint(f\\'{round(f)=}\\')\\nprint(f\\'{traditional_round(f)=}\\')', \"import decimal\\nfrom decimal import Decimal\\n\\nctx = decimal.getcontext()\\nprint(ctx)\\nprint(f'{ctx.prec=}')\\nprint(f'{ctx.rounding=}')\\n\\nwith decimal.localcontext() as ctx:\\n    ctx.rounding = decimal.ROUND_HALF_UP\\n    print('local context:', ctx)\\n    print('getcontext:', decimal.getcontext()) # getcontext will actually get local context\\n    print(f'inside: {round(Decimal('1.25'), 1)=}')\\n\\nprint(f'outside: {round(Decimal('1.25'), 1)=}')\", 'from decimal import Decimal\\n\\nprint(f\\'{Decimal(1)=}\\')\\nprint(f\\'{Decimal(3.14)=}\\')\\nprint(f\\'{Decimal(\"3.14\")=}\\')\\nprint(f\\'{Decimal((1, (3, 1, 4), -2))=}\\')', \"import decimal\\nfrom decimal import Decimal\\n\\ndecimal.getcontext().prec = 2\\n\\na = Decimal('0.12345')\\nb = Decimal('0.12345')\\nc = a + b\\nprint(f'{a=}, {b=}')\\nprint('a + b =', c)\\nprint(f'{c=}') # the actual value of c has been permanently affected by precision\", \"import math\\nimport decimal\\nfrom decimal import Decimal\\n\\nx = 0.01\\nx_dec = Decimal('0.01')\\n\\nroot = math.sqrt(x)\\nroot_mixed = math.sqrt(x_dec)\\nroot_dec = x_dec.sqrt()\\n\\nprint('root:', f'{root:.28f}')\\nprint('root_mixed:', f'{root_mixed:.28f}')\\nprint('root_dec:', f'{root_dec:.28f}')\\n\\nprint('\\\\nquantize method:')\\nprint(Decimal('7.325').quantize(Decimal('0.1'), rounding=decimal.ROUND_DOWN))\\nprint(Decimal('7.325').quantize(Decimal('0.1'), rounding=decimal.ROUND_UP))\\nprint(Decimal('7.325').quantize(Decimal('1'), rounding=decimal.ROUND_UP))\\nprint(Decimal('7.325').quantize(Decimal('1.'), rounding=decimal.ROUND_UP))\\nprint(Decimal('7.325').quantize(Decimal(1), rounding=decimal.ROUND_UP))\", \"# Euler's identity\\n# e^(iπ) + 1 = 0\\n\\nimport cmath\\nimport math\\nimport sys\\n\\nepsilon = sys.float_info.epsilon\\n\\nprint('e^(iπ) + 1 = 0:', cmath.exp(1j * cmath.pi + 1) == 0)\\nprint('e^(iπ) + 1 is close 0:', cmath.isclose(cmath.exp(1j * cmath.pi) + 1, 0, rel_tol=epsilon, abs_tol=epsilon))\\n\\nprint(f'{cmath.rect(2 ** 0.5, cmath.pi / 4)=}')\\nprint('math.pi is cmath.pi:', math.pi is cmath.pi)\\nprint('math.pi == cmath.pi:', math.pi == cmath.pi)\", \"print('bool is subclass of int:', issubclass(bool, int))\\nprint('True is instance of bool:', isinstance(True, bool))\\nprint('False is instance of bool:', isinstance(False, bool))\\nprint(f'{int(True)=}')\\nprint(f'{int(False)=}')\\nprint('True == 1:', True == 1)\\nprint('False == 0:', False == 0)\\nprint('True is 1:', True is 1)\\nprint('True + True ==', True + True)\\nprint('True > False:', True > False)\\nprint('(1 == 2) == False:', (1 == 2) == False)\\nprint('(1 == 2) == 0:', (1 == 2) == 0)\\nprint('-True =', -True)\", \"a = [1, 2, 3]\\n\\nif a: # work the same way as the code below but more concise\\n# if a is not None and len(a) > 0:\\n    print(a[0])\\nelse:\\n    print('Nothing to see here...')\", \"def get_first_letter(s):\\n    # if s:\\n    #     return s[0]\\n    # else:\\n    #     return ''\\n    return s and s[0] or ''\\n\\ns1 = None\\ns2 = ''\\ns3 = 'abc'\\n\\nprint(f'{get_first_letter(s1)=}')\\nprint(f'{get_first_letter(s2)=}')\\nprint(f'{get_first_letter(s3)=}')\", 'from fractions import Fraction\\nfrom decimal import Decimal\\n\\nprint(\\'1 == 1.0:\\', 1 == 1.0)\\nprint(\\'1.0 == Decimal(\"1.0\"):\\', 1.0 == Decimal(\"1.0\"))\\nprint(\\'1 == Fraction(3, 3):\\', 1 == Fraction(3, 3))\\nprint(\\'0.1 == Decimal(\"0.1\"):\\', 0.1 == Decimal(\"0.1\")) # floats representation issue\\nprint(\\'4 == 4 + 0j:\\', 4 == 4 + 0j)\\nprint(\\'3 < 2 < 4 / 0:\\', 3 < 2 < 4 / 0) # short-circuited', \"def my_func(a, b=20, c=30):\\n    print(f'{a=}, {b=}, {c=}')\\n\\nmy_func(1, 2, 3)\\nmy_func(1, 2)\\nmy_func(b=20, a=10)\\nmy_func(10, c=40)\", \"# parentheses are not necessary when defining a tuple, except for empty tuples\\na = (1, 2)\\nprint(type(a))\\na = 1, 2\\nprint(type(a))\\na = (1) # int\\nprint(type(a))\\na = (1,)\\nprint(type(a))\\na = 1,\\nprint(type(a))\\na = ()\\nprint(type(a))\\n\\na, b, c = 'str'\\nprint(f'{a=}, {b=}, {c=}')\", \"s1 = set('python')\\ns2 = {'p', 'y', 't', 'h', 'o', 'n'}\\nd = {'p': 1, 'y': 2, 't': 3, 'h': 4, 'o': 5, 'n': 6}\\n\\ndef print_els(container):\\n    for c in container:\\n        print(c, end='')\\n    print()\\n\\nprint_els(s1)\\nprint_els(s2)\\nprint_els(d)\", \"my_list = [1, 2, 3, (4, 5, 6)]\\na, b, *c = my_list\\nprint(f'{a=}, {b=}, {c=}')\\na, *b, (c, d, e) = my_list # nested unpacking\\nprint(f'{a=}, {b=}, {c=}, {d=}, {e=}')\\na, *b, (c, *d) = my_list # multiple * operators on different levels of unpacking\\nprint(f'{a=}, {b=}, {c=}, {d=}')\\n\\nmy_string = 'uvwxyz'\\na, *b, c, d = my_string\\nprint(f'{a=}, {b=}, {c=}, {d=}')\\n\\nmy_set = {1, 2, 3}\\na, *b = my_set\\nprint(f'{a=}, {b=}')\\n*l, = my_set # convert my_set to a list\\nprint(l)\\n\\nl1 = [1, 2, 3]\\nl2 = [4, 5, 6]\\ns = 'abc'\\nl = [*l1, *l2, *s]\\nprint(l)\\n\\nd1 = {'a': 1, 'b': 2, 'c': 5}\\nd2 = {'c': 3, 'd': 4}\\nl = [*d1, *d2] # get all the keys of both dictionaries\\nd = {**d1, **d2} # merge dictionaries into one\\nprint(l)\\nprint(d)\", \"def average(number, *args):\\n    return (number + sum(args)) / (len(args) + 1)\\n\\ndef my_func(a, *b):\\n    print(f'{a=}, {b=}')\\n\\nprint(average(1, 2, 3))\\n\\nl = [1, 2, 3]\\nmy_func(*l)\", \"def calc_hi_lo_avg(*args, log_to_console=False):\\n    # hi = int(bool(args)) and max(args) # int(bool()) here can be changed to len(), because args will always be a tuple, not None\\n    hi = len(args) and max(args)\\n    lo = len(args) and min(args)\\n    avg = (hi + lo) / 2\\n    if log_to_console:\\n        print(f'{hi=}, {lo=}, {avg=}')\\n    return hi, lo, avg\\n\\nprint(calc_hi_lo_avg())\\nprint(calc_hi_lo_avg(1, 2, 3, 4, 5))\\nprint(calc_hi_lo_avg(1, 2, 3, 4, 5, log_to_console=True))\", \"import time\\n\\ndef time_it(fn, *args, rep=1, **kwargs):\\n    start = time.perf_counter()\\n    for _ in range(rep):\\n        fn(*args, **kwargs)\\n    end = time.perf_counter()\\n    return (end - start) / rep\\n\\ndef compute_powers_1(n, *, start=1, end):\\n    result = []\\n    for i in range(start, end):\\n        result.append(n ** i)\\n    return result\\n\\ndef compute_powers_2(n, *, start=1, end):\\n    # using list comprehension\\n    return [n ** i for i in range(start, end)]\\n\\ndef compute_powers_3(n, *, start=1, end):\\n    # using generator expression\\n    return (n ** i for i in range(start, end))\\n\\nprint(f'{time_it(compute_powers_1, 2, rep=5, end=20000)=}')\\nprint(f'{time_it(compute_powers_2, 2, rep=5, end=20000)=}')\\nprint(f'{time_it(compute_powers_3, 2, rep=5, end=20000)=}')\", \"import datetime\\n\\n# buggy default value for dt\\ndef log_1(msg, *, dt=datetime.datetime.now(datetime.UTC)):\\n    print(f'{dt}: {msg}')\\n\\ndef log_2(msg, *, dt=None):\\n    dt = dt or datetime.datetime.now(datetime.UTC)\\n    print(f'{dt}: {msg}')\\n\\nlog_1('msg_1')\\nlog_1('msg_2')\\nprint('-'*10)\\nlog_2('msg_1')\\nlog_2('msg_2')\", 'my_list = [1, 2]\\ndef func(a=my_list):\\n    print(a)\\n\\nfunc()\\nmy_list.append(3)\\nfunc() # the default value of a was changed unexpectedly', \"# another example of buggy default value\\ndef add_to_list(name, quantity=1, unit='unit', lst=[]):\\n    lst.append(f'{name}: {quantity} {unit}')\\n    return lst\\n\\nshopping_list_1 = add_to_list('apple', 2, 'kilo')\\nadd_to_list('milk', 1, 'liter', shopping_list_1)\\nprint(shopping_list_1)\\n\\nshopping_list_2 = add_to_list('chicken', 2, 'kilo')\\nadd_to_list('eggs', 2, 'dozen', shopping_list_2)\\nprint(shopping_list_2)\\n\\n# because the default value for lst has already been evaluated to the same address for the list when the function is defined\\nprint('shopping_list_1 is shopping_list_2:', shopping_list_1 is shopping_list_2)\", \"def factorial(n: int):\\n    if n < 1:\\n        return 1\\n    else:\\n        print(f'calculating {n}!')\\n        return n * factorial(n - 1)\\n    \\nprint(factorial(3))\\nprint(factorial(3))\", \"# cached version\\n# the same default dictionary will be used by the function\\ndef factorial_cached(n, cache={}):\\n    if n < 1:\\n        return 1\\n    elif n in cache:\\n        return cache[n]\\n    else:\\n        print(f'calculating {n}!')\\n        result = n * factorial_cached(n - 1)\\n        cache[n] = result\\n        return result\\n    \\nprint(factorial_cached(3))\\nprint(factorial_cached(3)) # with cache no need to calculate the same number\\nprint(factorial_cached(2))\\nprint(factorial_cached(4))\", 'def my_func(a: \\'annotation for a\\',\\n            b: \\'annotation for b\\' = 1) -> \\'something annotation for return\\':\\n    \"\"\"documentation for my function\"\"\"\\n    return a * b\\n\\nhelp(my_func)\\nprint(my_func.__doc__)\\nprint(my_func.__annotations__)', \"def my_func(a: str,\\n            b: 'int > 0' = 1,\\n            *args: 'additional args',\\n            k1: 'keyword-only arg 1',\\n            k2: 'keyword-only arg 2' = 100,\\n            **kwargs: 'additional keyword-only args') -> 'return something':\\n    print(a, b, args, k1, k2, kwargs)\\n\\nprint(my_func.__annotations__)\\nmy_func('hello', 1, 2, 3, k1='world', k3='times')\", \"f = lambda x, y, *args, z='z', **kwargs: (x, y, args, z, kwargs) # the () of return expression is required here\\nf('x', 'y', 1, 2, 3, kw1='1', kw2='2')\", 'def apply_func(x, func):\\n    return func(x)\\n\\nprint(apply_func(2, lambda x: x ** 2))\\nprint(apply_func(3, lambda x: x ** 3))', 'def apply_func(func, *args, **kwargs):\\n    return func(*args, **kwargs)\\n\\nprint(apply_func(lambda x, y: x + y, 1, 2))\\nprint(apply_func(lambda x, *, y: x + y, 1, y=2))\\nprint(apply_func(lambda *args: sum(args), 1, 2, 3, 4, 5))', \"complex_list = [3 + 3j, 1 - 1j, 6 + 2j, 0, -1 -4j]\\n# sort complex_list according to the square of the absolute value of a complex number\\nprint(sorted(complex_list, key=lambda c: c.real ** 2 + c.imag ** 2))\\n\\nname_list = ['Tony', 'Chaplin', 'John', 'Helen', 'Max']\\n# sort name_list according to the last letter of a name\\n# stable sort, i.e. the relative order of elements that compare equal will be remained\\nprint(sorted(name_list, key=lambda n: n[-1]))\", '# randomize an iterable using sorted\\n\\nimport random\\n\\nl = [1, 2, 3, 4, 5, 6, 7, 8, 9, 10]\\n\\nprint(sorted(l, key=lambda e: random.random()))\\nprint(sorted(l, key=lambda e: random.random()))\\nprint(sorted(l, key=lambda e: random.random()))', \"from decimal import Decimal\\n\\nprint(callable(print))\\nprint(print()) # if something is callable, it always has a return value\\nprint(callable(Decimal)) # classes are also callable\\n\\nclass MyClass:\\n    def __init__(self):\\n        print('classes are callable')\\n    \\n    def __call__(self):\\n        print('instances can be callable too')\\n\\nmy_class = MyClass()\\nmy_class() # instances can be callable\\nprint(callable(my_class))\", 'l1 = [1, 2, 3, 4, 5]\\nl2 = [7, 8, 9]\\nl3 = map(lambda x, y: x + y, l1, l2)\\nprint(l3)\\nprint(list(l3))\\n\\nl4 = [0, 1, 2, 3, 4, 5, 6, 7, 8, 9]\\nl5 = filter(None, l4)\\nl6 = filter(lambda x: x % 2 == 0, l4)\\nprint(l5)\\nprint(l6)\\nprint(list(l5))\\nprint(list(l6))', \"def factorial(n):\\n    return 1 if n < 2 else n * factorial(n - 1)\\n\\nresult = map(factorial, range(5))\\n\\nfor i in result:\\n    print(i)\\n\\n# won't print anything\\n# generators can only be iterated over once\\n# attempting to iterate over an exhausted generator will not produce any output\\nfor i in result:\\n    print(i)\\n\\nprint(list(result)) # empty list too\", 'def reduce_sequence(func, sequence):\\n    result = sequence[0]\\n    for e in sequence[1:]:\\n        result = func(result, e)\\n    return result\\n\\nprint(reduce_sequence(lambda x, y: x + y, range(10))) # range is actually an immutable sequence type\\nprint(reduce_sequence(lambda x, y: x if x > y else y, range(10)))', \"from functools import reduce\\n\\nprint(reduce(lambda x, y: x + ' ' + y, ('Python', 'is', 'super', 'awesome')))\\n\\n# using reduce to reproduce any()\\nprint(reduce(lambda x, y: bool(x or y), (0, '', 1, 0.0, 'and', False)))\\nprint(reduce(lambda x, y: bool(x or y), (0, '', None, 0.0, [], (), {}, False)))\\n\\n# using reduce to reproduce all()\\nprint(reduce(lambda x, y: bool(x and y), (0, '', 1, 0.0, 'and', False)))\\nprint(reduce(lambda x, y: bool(x and y), (1, 'a', 0.1, [1], True)))\\n\\n# using reduce to calculate factorial\\ndef factorial(n):\\n    return reduce(lambda x, y: x * y, range(1, n + 1), 1)\\n\\nprint(factorial(1))\\nprint(factorial(3))\\nprint(factorial(10))\", \"# similar to functools.partial()\\ndef partial_func(func, /, *args, **kwargs):\\n    def new_func(*new_args, **new_kwargs):\\n        new_kwargs = {**kwargs, **new_kwargs}\\n        return func(*args, *new_args, **new_kwargs)\\n    return new_func\\n\\nint_base_2 = partial_func(int, base=2)\\nprint(f'{int_base_2('1010')=}')\\n\\nsquare = partial_func(pow, exp=2)\\nprint(f'{square(10)=}')\\nprint(f'{square(10, exp=3)}') # you can still overwrite the value of exp predefined in the partial function\\n\\nmodular_multiplicative_inverse = partial_func(pow, exp=-1)\\nprint(f'{modular_multiplicative_inverse(38, mod=97)=}') # here mod must be keyword argument\", \"from functools import partial\\n\\nint_base_2 = partial(int, base=2)\\nprint(int_base_2('1010'))\\n\\ndef my_func(a, b, *args, k1, k2, **kwargs):\\n    print(a, b, args, k1, k2, kwargs)\\n\\n# if want to freeze a and k1 of my_func\\nmy_func_partial = partial(my_func, 'a', k1='k1')\\nmy_func_partial('b', 'args1', 'args2', k2='k2', k3='k3', k4='k4')\\n\\n# sort list of complex numbers according to their absolute value\\nsorted_by_abs = partial(sorted, key=lambda x: abs(x))\\ncomplexes = [1 + 2j, 3 - 4j, 0, 7 - 8j, 4 + 5j]\\nprint(sorted_by_abs(complexes))\\n\\n# sort list of points according to their distance to a certain point\\norigin = (0, 0)\\npoints = [(0, 5), (0, 0), (3, 4), (-5, 1), (-3, -2)]\\ndistance_square = lambda a, b: (a[0] - b[0]) ** 2 + (a[1] - b[1]) ** 2\\npoints_sorted = sorted(points, key=partial(distance_square, origin))\\nprint(points_sorted)\", \"import operator\\nfrom functools import reduce\\n\\nprint(reduce(lambda x, y: x * y, [1, 2, 3, 4]))\\nprint(reduce(operator.mul, [1, 2, 3, 4]))\\n\\nget_item_2 = operator.itemgetter(2)\\nprint(get_item_2([1, 2, 3, 4]))\\nprint(get_item_2('abcde'))\\n\\nget_item_2_3 = operator.itemgetter(2, 3)\\nprint(get_item_2_3([1, 2, 3, 4]))\\nprint(get_item_2_3('abcde'))\\n\\nclass MyClass:\\n    def __init__(self):\\n        self.a = 'a'\\n        self.b = 'b'\\n\\n    def test(self):\\n        print('test method get called')\\n\\nobj = MyClass()\\nget_attr_a = operator.attrgetter('a')\\nprint(get_attr_a(obj))\\n\\nget_attr_test = operator.attrgetter('test')\\nget_attr_test(obj)()\\nmethod_caller_test = operator.methodcaller('test')\\nmethod_caller_test(obj)\\n\\ncomplexes = [5 - 10j, 3 + 2j, -2 - 1j, 2 + 10j, 8 - 5j]\\nsorted_by_real = sorted(complexes, key=operator.attrgetter('real'))\\nprint(sorted_by_real)\\n\\ntuples = [(2, 3, 4), (-2, 3, 1), (0,), (5, 7, 1), (3, 4)]\\nsorted_by_first = sorted(tuples, key=operator.itemgetter(0))\\n# sorted_by_first = sorted(tuples, key=lambda x: x[0])\\nprint(sorted_by_first)\", \"def my_func():\\n    global var\\n    var = 'hello'\\n\\n# print(var) # name 'var' is not defined\\nmy_func() # because of var is global, it is still available after the function finishes\\nprint(var)\\n\\na = 10\\ndef my_func():\\n    print(f'global a? {a=}') # local variable 'a' referenced before assignment\\n    a = 'hello' # a becomes local variable at compile-time\\n\\ndef print(string):\\n    return f'hello {string}'\\n\\nprint('world') # doesn't print anything, only returns a string, because the built-in print function has been masked by the string function in the module scope\\ndel print\\nprint('world')\", \"x = 'python'\\n\\ndef outer():\\n    global x\\n    x = 'monty'\\n\\n    def inner():\\n        # nonlocal x # no binding for nonlocal 'x'\\n        x = 'hello'\\n        print(x)\\n\\n    inner()\\n    print(x)\\n\\nouter()\", \"def outer():\\n    count = 0\\n\\n    def inner1():\\n        nonlocal count\\n        count += 1\\n        return count\\n    \\n    def inner2():\\n        nonlocal count\\n        count += 1\\n        return count\\n    \\n    return inner1, inner2\\n\\nf1, f2 = outer()\\nprint(f'{f1.__code__.co_freevars=}')\\nprint(f'{f2.__code__.co_freevars=}')\\nprint(f'{f1.__closure__=}')\\nprint(f'{f2.__closure__=}') # same cell as above\\nprint(f1())\\nprint(f2())\", \"def create_adders():\\n    adders = []\\n    for n in range(1, 4):\\n        adders.append(lambda x, y=n: x + y) # defaults get evaluated at creation-time\\n    return adders\\n\\nadders = create_adders()\\nprint(f'{adders[0].__code__.co_freevars=}') # no free variables\\nprint(f'{adders[0].__closure__=}') # not a closure, so no cells\\n# at function creation-time, n is evaluated and put that into y as the default for y\\n# there's not even a mention of n in the body of the function\\n\\nprint(f'{adders[0](10)=}')\\nprint(f'{adders[1](10)=}')\\nprint(f'{adders[2](10)=}')\", 'class Averager:\\n    def __init__(self):\\n        self.numbers = []\\n\\n    def add(self, number):\\n        self.numbers.append(number)\\n        return sum(self.numbers) / len(self.numbers)\\n\\ndef outer():\\n    numbers = []\\n    def add(number):\\n        numbers.append(number)\\n        return sum(numbers) / len(numbers)\\n    return add\\n\\naverager = Averager()\\nprint(averager.add(1))\\nprint(averager.add(2))\\nprint(averager.add(3))\\nprint(averager.add(4))\\n\\ncalc_ave = outer()\\nprint(calc_ave(1))\\nprint(calc_ave(2))\\nprint(calc_ave(3))\\nprint(calc_ave(4))', \"def outer_better():\\n    count = 0\\n    total = 0\\n    def add(number):\\n        nonlocal count\\n        nonlocal total\\n        count += 1\\n        total += number\\n        return total / count\\n    return add\\n\\ncalc_ave = outer_better()\\nprint(f'{calc_ave.__code__.co_freevars=}')\\nprint(f'{calc_ave.__closure__=}')\\nprint(calc_ave(1))\\nprint(calc_ave(2))\\nprint(calc_ave(3))\\nprint(calc_ave(4))\", 'from time import perf_counter\\n\\nclass Timer:\\n    def __init__(self):\\n        self.start = perf_counter()\\n\\n    def __call__(self):\\n        return perf_counter() - self.start\\n    \\ndef outer():\\n    start = perf_counter()\\n    def poll():\\n        return perf_counter() - start\\n    return poll\\n    \\nt1 = Timer()\\nprint(t1())\\n\\ntimer = outer()\\nprint(timer())', \"def counter(fn):\\n    # a function report the times of the designated function get called\\n    # it actually works the same way as a decorator\\n    count = 0\\n    def inner(*args, **kwargs):\\n        nonlocal count\\n        count += 1\\n        print(f'{fn.__name__} has been called {count} times')\\n        return fn(*args, **kwargs)\\n    return inner\\n\\ndef add(a, b):\\n    return a + b\\n\\ndef mul(a, b):\\n    return a * b\\n\\nadd = counter(add)\\nprint(add(1, 2))\\nprint(add(2, 3))\\n\\nmul = counter(mul)\\nprint(mul(4, 5))\\nprint(mul(2, 7))\", 'def counter(fn):\\n    count = 0\\n\\n    def inner(*args, **kwargs):\\n        nonlocal count\\n        count += 1\\n        print(f\\'Function {fn.__name__} has been called {count} times\\')\\n        return fn(*args, **kwargs)\\n    return inner\\n\\ndef add(a: int, b: int = 0):\\n    \"\"\"\\n    adds two values\\n    \"\"\"\\n    return a + b\\n\\nhelp(add)\\n\\nadd = counter(add)\\nhelp(add)\\nprint(f\\'{add(1, 2)=}\\')', 'def counter(fn):\\n    count = 0\\n\\n    def inner(*args, **kwargs):\\n        nonlocal count\\n        count += 1\\n        print(f\\'Function {fn.__name__} has been called {count} times\\')\\n        return fn(*args, **kwargs)\\n    return inner\\n\\n# use the @wrapper syntax\\n@counter\\ndef add(a: int, b: int = 0):\\n    \"\"\"\\n    adds two values\\n    \"\"\"\\n    return a + b\\n\\nhelp(add)\\nprint(f\\'{add(1, 2)=}\\')', 'from functools import wraps\\n\\ndef counter(fn):\\n    count = 0\\n\\n    @wraps(fn) # fix the metadata of inner\\n    def inner(*args, **kwargs):\\n        nonlocal count\\n        count += 1\\n        print(f\\'Function {fn.__name__} has been called {count} times\\')\\n        return fn(*args, **kwargs)\\n    # the following can only fix function name and docstring\\n    # inner.__name__ = fn.__name__\\n    # inner.__doc__ = fn.__doc__\\n\\n    # works the same as the @wraps decorator\\n    # inner = wraps(fn)(inner)\\n    return inner\\n\\n@counter\\ndef add(a: int, b: int = 0):\\n    \"\"\"\\n    adds two values\\n    \"\"\"\\n    return a + b\\n\\nhelp(add)\\nprint(f\\'{add(1, 2)=}\\')', 'def timed(fn):\\n    from time import perf_counter\\n    from functools import wraps\\n\\n    @wraps(fn)\\n    def inner(*args, **kwargs):\\n        start = perf_counter()\\n        result = fn(*args, **kwargs)\\n        elapsed = perf_counter() - start\\n\\n        args_list = [str(arg) for arg in args]\\n        kwargs_list = [f\\'{k}={v}\\' for k, v in kwargs.items()]\\n        args_string = \\',\\'.join(args_list + kwargs_list)\\n        print(f\\'{fn.__name__}({args_string}) took {elapsed}s to run\\')\\n        return result\\n    \\n    return inner\\n\\n# recursion\\n# @timed\\ndef calc_nth_fibonacci_recursion(n):\\n    \"\"\"\\n    Return the nth number of a fibonacci series, n starting from 1\\n    \"\"\"\\n    return 1 if n < 3 else calc_nth_fibonacci_recursion(n - 1) + calc_nth_fibonacci_recursion(n - 2)\\n\\n# calculate the total time elapsed\\n@timed\\ndef fib_recursion(n):\\n    return calc_nth_fibonacci_recursion(n)\\n\\n# calc_nth_fibonacci_recursion(6)\\n\\nprint(f\\'{fib_recursion(30)=}\\')\\n\\n# loop\\n@timed\\ndef calc_nth_fibonacci_loop(n):\\n    if n <= 2:\\n        return 1\\n    fib_1 = 1\\n    fib_2 = 1\\n    for n in range(3, n + 1):\\n        fib_1, fib_2 = fib_2, fib_1 + fib_2\\n    return fib_2\\n\\nprint(f\\'{calc_nth_fibonacci_loop(30)=}\\')\\n\\n# reduce\\n@timed\\ndef calc_nth_fibonacci_reduce(n):\\n    from functools import reduce\\n    if n <= 1:\\n        return 1\\n    fib = reduce(lambda x, y: (x[0] + x[1], x[0]),\\n           range(n - 1),\\n           (1, 0))\\n    return fib[0]\\n\\nprint(f\\'{calc_nth_fibonacci_reduce(30)=}\\')', \"def logger(fn):\\n    from functools import wraps\\n    import datetime\\n\\n    @wraps(fn)\\n    def inner(*args, **kwargs):\\n        run_dt = datetime.datetime.now(datetime.UTC)\\n        result = fn(*args, **kwargs)\\n        print(f'{run_dt}: called {fn.__name__}')\\n        return result\\n    \\n    return inner\\n\\ndef timed(fn):\\n    from functools import wraps\\n    from time import perf_counter\\n\\n    @wraps(fn)\\n    def inner(*args, **kwargs):\\n        start = perf_counter()\\n        result = fn(*args, **kwargs)\\n        elapsed = perf_counter() - start\\n        print(f'{fn.__name__} ran for {elapsed}s')\\n        return result\\n    \\n    return inner\\n\\n# stacked decorators\\n# the decorators are executed from top to bottom\\n@logger\\n@timed\\ndef factorial(n):\\n    from functools import reduce\\n    from operator import mul\\n\\n    return reduce(mul, range(1, n + 1))\\n\\n# the equivalent to the above decorators\\n# factorial = logger(timer(factorial))\\n\\nprint(factorial(10))\", \"# fibonacci class with cache\\nclass Fib:\\n    def __init__(self):\\n        self.cache = {1: 1, 2: 1}\\n\\n    def __call__(self, n):\\n        if n in self.cache:\\n            return self.cache[n]\\n        print(f'Calculating fib({n})')\\n        self.cache[n] = self.__call__(n - 1) + self.__call__(n - 2)\\n        return self.cache[n]\\n    \\nfib = Fib()\\nprint(f'{fib(1)=}')\\nprint(f'{fib(2)=}')\\nprint(f'{fib(3)=}')\\nprint(f'{fib(4)=}')\\nprint(f'{fib(5)=}')\\nprint(f'{fib(4)=}')\\nprint(f'{fib(3)=}')\\nprint(f'{fib(2)=}')\", \"# closure with cache\\ndef outer():\\n    cache = {1: 1, 2: 1}\\n\\n    def fib(n):\\n        if n not in cache:\\n            print(f'Calculating fib({n})')\\n            cache[n] = fib(n - 1) + fib(n - 2)\\n        return cache[n]\\n    \\n    return fib\\n\\nfib = outer()\\nprint(f'{fib(1)=}')\\nprint(f'{fib(2)=}')\\nprint(f'{fib(3)=}')\\nprint(f'{fib(4)=}')\\nprint(f'{fib(5)=}')\\nprint(f'{fib(4)=}')\", \"def memoize(fn):\\n    cache = {}\\n\\n    def inner(n):\\n        if n not in cache:\\n            cache[n] = fn(n)\\n        return cache[n]\\n    \\n    return inner\\n\\n# decorator with cache\\n@memoize\\ndef fib(n):\\n    print(f'Calculating fib({n})')\\n    return 1 if n < 3 else fib(n - 1) + fib(n - 2)\\n\\nprint(f'{fib(1)=}')\\nprint(f'{fib(2)=}')\\nprint(f'{fib(3)=}')\\nprint(f'{fib(4)=}')\\nprint(f'{fib(5)=}')\\nprint(f'{fib(4)=}')\", \"from functools import lru_cache\\n\\n# built-in decorator with cache\\n# @cache(user_function) return the same as lru_cache(maxsize=None)\\n# @functools.lru_cache(user_function)\\n# @functools.lru_cache(maxsize=128, typed=False)\\n@lru_cache\\ndef fib(n):\\n    print(f'Calculating fib({n})')\\n    return 1 if n < 3 else fib(n - 1) + fib(n - 2)\\n\\nprint(f'{fib(1)=}')\\nprint(f'{fib(2)=}')\\nprint(f'{fib(3)=}')\\nprint(f'{fib(4)=}')\\nprint(f'{fib(5)=}')\\nprint(f'{fib(4)=}')\\nprint(f'{fib(129)=}') # default maxsize=128, this will cause fib(1) replaced by fib(129)\\nprint(f'{fib(1)=}')\", \"def timed(fn, reps):\\n    from time import perf_counter\\n    from functools import wraps\\n\\n    @wraps(fn)\\n    def inner(*args, **kwargs):\\n        total_elapsed = 0\\n        for i in range(reps):\\n            start = perf_counter()\\n            result = fn(*args, **kwargs)\\n            total_elapsed += perf_counter() - start\\n        print(f'Average execution time: {total_elapsed / reps}')\\n        return result\\n\\n    return inner\\n\\n# @timed(10) # not working\\ndef my_func():\\n    print('my_func executed')\\n\\nmy_func = timed(my_func, 10)\\nmy_func()\", \"# the outer function is not itself a decorator\\n# instead it returns a decorator, just like what wraps do\\n# any arguments passed to outer can be referenced (as free variables) inside the decorator\\n# the outer function is called a decorator factory function\\ndef outer(reps):\\n    def timed(fn):\\n        from time import perf_counter\\n        from functools import wraps\\n\\n        @wraps(fn)\\n        def inner(*args, **kwargs):\\n            total_elapsed = 0\\n            for i in range(reps):\\n                start = perf_counter()\\n                result = fn(*args, **kwargs)\\n                total_elapsed += perf_counter() - start\\n            print(f'Average execution time: {total_elapsed / reps}')\\n            return result\\n\\n        return inner\\n\\n    return timed\\n\\n@outer(10) # outer gets called, and returns a parameterized decorator\\ndef my_func():\\n    print('my_func executed')\\n\\n# my_func = outer(10)(my_func) # equivalent to the decorator above\\nmy_func()\", \"def dec(fn):\\n    print('running dec')\\n\\n    def inner(*args, **kwargs):\\n        print('running inner')\\n        return fn(*args, **kwargs)\\n    \\n    return inner\\n\\n@dec\\ndef func():\\n    print('running func')\\n\\n# func = dec(func) # @dec equivalent\\n\\nprint('after func got decorated')\\nfunc()\", \"class DecoratorClass:\\n    def __init__(self, a, b):\\n        self.a = a\\n        self.b = b\\n\\n    def __call__(self, fn):\\n        print(f'decorate {fn.__name__}')\\n        def inner(*args, **kwargs):\\n            print(f'decorated function called: a={self.a}, b={self.b}')\\n            return fn(*args, **kwargs)\\n        return inner\\n\\n@DecoratorClass(10, 20)\\ndef func():\\n    print('func called')\\n\\nprint('after func decorated')\\nfunc()\", \"class Decorator:\\n    def __init__(self, fn): # cannot parameterized fn\\n        print(f'decorate {fn.__name__}')\\n        self.fn = fn\\n\\n    def __call__(self, *args, **kwargs):\\n        print(f'decorated {self.fn.__name__} called')\\n        return self.fn(*args, **kwargs)\\n    \\n@Decorator\\ndef func(a, b=1, *, c):\\n    print(f'{a=}, {b=}, {c=}')\\n\\nprint('after func decorated')\\nfunc(0, c=2)\", \"def speak_decorator(cls):\\n    cls.speak = lambda self, message: f'{self.__class__.__name__} says {message}'\\n    return cls # the return of cls if not necessary if not using @wrapper syntax or its equivalent\\n\\n@speak_decorator\\nclass Person:\\n    pass\\n\\n# Person = speak_decorator(Person) # decorator equivalent\\n\\np = Person()\\np.speak('Hello world!')\", \"import datetime\\n\\ndef debug_info(cls):\\n    def info(self):\\n        results = []\\n        results.append(f'time: {datetime.datetime.now(datetime.UTC)}')\\n        results.append(f'class: {self.__class__.__name__}')\\n        results.append(f'id: {hex(id(self))}')\\n        for k, v in vars(self).items():\\n            results.append(f'{k}: {v}')\\n        return results\\n    \\n    cls.debug = info\\n    return cls\\n\\n@debug_info\\nclass Person:\\n    def __init__(self, name, birth_year):\\n        self.name = name\\n        self.birth_year = birth_year\\n\\n    def say_hi(self):\\n        return 'Hello there!'\\n    \\np = Person('John', 1999)\\nprint(p.say_hi())\\nprint(p.debug())\", \"@debug_info\\nclass Auto:\\n    def __init__(self, make, model, year, top_speed, speed):\\n        self.make = make\\n        self.model = model\\n        self.year = year\\n        self.top_speed = top_speed\\n        self.speed = speed\\n\\n    @property\\n    def speed(self):\\n        return self._speed\\n    \\n    @speed.setter\\n    def speed(self, speed):\\n        if speed > self.top_speed:\\n            raise ValueError('Speed cannot exceed top_speed')\\n        self._speed = speed\\n\\n    def run(self):\\n        print('The car is running')\\n\\nauto = Auto('Ford', 'Model T', 1908, 45, 10)\\nprint(auto.speed)\\n# auto.speed = 100 # raise ValueError here\\nauto.speed = 20\\nauto.debug()\", \"def complete_ordering(cls):\\n    if '__eq__' in dir(cls) and '__lt__' in dir(cls):\\n        cls.__le__ = lambda self, other: self < other or self == other\\n        cls.__gt__ = lambda self, other: not (self < other or self == other) # raise TypeError if other of unsupported type\\n        cls.__ge__ = lambda self, other: not (self < other)\\n        cls.__ne__ = lambda self, other: not (self == other)\\n    return cls\\n\\n@complete_ordering\\nclass Point:\\n    def __init__(self, x, y):\\n        self.x = x\\n        self.y = y\\n\\n    def __abs__(self):\\n        return (self.x ** 2 + self.y ** 2) ** 0.5\\n    \\n    def __repr__(self):\\n        return f'Point({self.x}, {self.y})'\\n    \\n    def __eq__(self, other):\\n        if isinstance(other, Point):\\n            return self.x == other.x and self.y == other.y\\n        else:\\n            return False\\n        \\n    def __lt__(self, other):\\n        if isinstance(other, Point):\\n            return abs(self) < abs(other)\\n        else:\\n            return NotImplemented\\n\\np1, p2, p3 = Point(1, 2), Point(1, 2), Point(2, 3)\\nn = 1\\nprint(f'{(p1 == p2)=}')\\nprint(f'{(p1 != p2)=}')\\nprint(f'{(p1 > p2)=}')\\nprint(f'{(p1 >= p2)=}')\\nprint(f'{(p1 < p2)=}')\\nprint(f'{(p1 <= p2)=}')\\nprint(f'{(p1 < p3)=}')\\nprint(f'{(p1 >= p3)=}')\\nprint(f'{(p1 != 1)=}')\\n# print(f'{(p1 < 1)=}') # raise TypeError\\n# print(f'{(p1 > 1)=}')\\n# print(f'{(p1 >= 1)=}')\", \"from functools import total_ordering\\n\\n# Given a class defining one or more rich comparison ordering methods, this class decorator supplies the rest.\\n# The class must define one of __lt__(), __le__(), __gt__(), or __ge__(). In addition, the class should supply an __eq__() method.\\n@total_ordering\\nclass Point:\\n    def __init__(self, x, y):\\n        self.x = x\\n        self.y = y\\n\\n    def __abs__(self):\\n        return (self.x ** 2 + self.y ** 2) ** 0.5\\n    \\n    def __repr__(self):\\n        return f'Point({self.x}, {self.y})'\\n    \\n    def __eq__(self, other):\\n        if isinstance(other, Point):\\n            return self.x == other.x and self.y == other.y\\n        else:\\n            return False\\n        \\n    def __lt__(self, other):\\n        if isinstance(other, Point):\\n            return abs(self) < abs(other)\\n        else:\\n            return NotImplemented\\n        \\np1, p2, p3 = Point(1, 2), Point(1, 2), Point(2, 3)\\nn = 1\\nprint(f'{(p1 == p2)=}')\\nprint(f'{(p1 != p2)=}')\\nprint(f'{(p1 > p2)=}')\\nprint(f'{(p1 >= p2)=}')\\nprint(f'{(p1 < p2)=}')\\nprint(f'{(p1 <= p2)=}')\\nprint(f'{(p1 < p3)=}')\\nprint(f'{(p1 >= p3)=}')\\nprint(f'{(p1 != 1)=}')\\n# print(f'{(p1 < 1)=}') # raise TypeError\\n# print(f'{(p1 > 1)=}')\\n# print(f'{(p1 >= 1)=}')\", \"from html import escape\\nfrom decimal import Decimal\\n\\ndef html_escape(obj):\\n    return escape(str(obj))\\n\\ndef html_int(i):\\n    return f'{i} (<i>{hex(i)}</i>)'\\n\\ndef html_real(r):\\n    return f'{r:.2f}'\\n\\ndef html_str(s):\\n    return html_escape(s).replace('\\\\n', '<br>\\\\n')\\n\\ndef html_list(l):\\n    items = (f'<li>{htmlize(item)}</li>' for item in l)\\n    return '<ul>\\\\n' + '\\\\n'.join(items) + '\\\\n</ul>'\\n\\ndef html_dict(d):\\n    items = (f'<li>{html_escape(k)}={htmlize(v)}</li>' for k, v in d.items())\\n    return '<ul>\\\\n' + '\\\\n'.join(items) + '\\\\n</ul>'\\n\\ndef htmlize(arg):\\n    registry = {\\n        object: html_escape,\\n        int: html_int,\\n        float: html_real,\\n        Decimal: html_real,\\n        str: html_str,\\n        list: html_list,\\n        tuple: html_list,\\n        set: html_list,\\n        dict: html_dict\\n    }\\n    return registry.get(type(arg), registry[object])(arg)\\n\\nprint(htmlize(['a', 1, 1.2, 'hello\\\\nworld, 1 > 2 != 3',\\n               (True, False, None),\\n               {1: '1', 2: '2', 3: '3'},\\n               {'x', 'y', 'z'}]))\", \"from html import escape\\n\\ndef single_dispatch(fn):\\n    registry = {}\\n    registry[object] = fn\\n\\n    def decorated(arg):\\n        return registry.get(type(arg), registry[object])(arg)\\n\\n    def register(type_):\\n        def inner(fn_extension):\\n            registry[type_] = fn_extension\\n            return fn_extension # just return back the decorated function as it is\\n        return inner\\n\\n    def dispatch(type_):\\n        return registry.get(type_, registry[object])\\n\\n    decorated.register = register\\n    decorated.dispatch = dispatch\\n    decorated.registry = registry\\n    return decorated\\n\\n@single_dispatch\\ndef htmlize(obj):\\n    return escape(str(obj))\\n\\nprint(f'{htmlize.__name__=}')\\nprint(f'{htmlize.register=}')\\nprint(htmlize('I can fly!\\\\n1 < 100'))\\n\\n# register decorator can be stacked because it returns back the decorated function as it is\\n@htmlize.register(set)\\n@htmlize.register(tuple)\\n@htmlize.register(list)\\ndef html_sequence(sequence):\\n    items = (f'<li>{htmlize(item)}</li>' for item in sequence)\\n    return '<ul>\\\\n' + '\\\\n'.join(items) + '\\\\n</ul>'\\n\\nprint(htmlize(['a', 'b', 'c']))\\nprint(htmlize(('1', '2', '3')))\\nprint(htmlize.registry)\\nprint(htmlize.dispatch(int))\", \"london = 'London', 'UK', 8780000\\nnew_york = 'New York', 'USA', 8500000\\nbeijing = 'Beijing', 'China', 21000000\\ncities = [london, new_york, beijing]\\n\\ntotal = 0\\n# for city in cities:\\n#     total += city[2]\\nfor *_, population in cities:\\n    total += population\\nprint(total)\\n\\ntotal = sum(city[2] for city in cities)\\nprint(total)\", \"# random.uniform(a, b)\\n# Return a random floating point number N such that a <= N <= b for a <= b and b <= N <= a for b < a.\\nfrom random import uniform\\n\\ndef random_shot(radius=1):\\n    random_x = uniform(-radius, radius)\\n    random_y = uniform(-radius, radius)\\n\\n    is_in_circle = random_x ** 2 + random_y ** 2 <= radius ** 2\\n    return random_x, random_y, is_in_circle\\n\\ndef in_circle_rate(repetitions):\\n    count = 0\\n    for _ in range(repetitions):\\n        *_, inside = random_shot()\\n        count += inside # bool is indeed subclass of int\\n    return count / repetitions\\n\\nprint(f'Pi = {in_circle_rate(1000) * 4}')\\nprint(f'Pi = {in_circle_rate(10000) * 4}')\\nprint(f'Pi = {in_circle_rate(100000) * 4}')\\nprint(f'Pi = {in_circle_rate(1000000) * 4}')\", \"from collections import namedtuple\\n\\nPoint2D = namedtuple('Point2D', 'x y')\\n\\ndef dot_product(a, b):\\n    return sum(p[0] * p[1] for p in zip(a, b))\\n\\np1 = Point2D(x=1, y=2)\\n# p1 = Point2D(x=1, y=2, y=3) # SyntaxError: keyword argument repeated: y\\np2 = Point2D(3, 4)\\np3 = Point2D(1, 2)\\nprint(f'{p1=}')\\nprint(f'{type(p2)=}')\\nprint(f'{isinstance(p2, tuple)=}')\\nprint(f'{p1.x=}, {p1.y=}')\\nprint(f'{p2.x=}, {p2.y=}')\\nprint(f'{p3.x=}, {p3.y=}')\\nprint(f'{(p1 == p3)=}')\\nx, y = p1\\nprint(f'{x=}, {y=}')\\nprint(f'p1 dot p2 = {dot_product(p1, p2)}')\\nprint(p1._asdict())\\nprint(Point2D._fields)\\n# print(Point2D._source) # removed in version 3.7\\np1_sliced = p1[:1]\\nprint(f'{p1_sliced=}')\\nprint(f'{type(p1_sliced)=}')\\n# print(f'{(p1_sliced._fields)=}') # after slicing it be a normal tuple\", \"from collections import namedtuple\\n\\nPoint2D = namedtuple('Point2D', 'x y')\\np1 = Point2D(1, 2)\\nprint(f'{p1=} @ {hex(id(p1))}')\\np1 = Point2D(p1.x, y=3)\\nprint(f'{p1=} @ {hex(id(p1))}')\\np1 = p1._replace(y=4) # create a new instance by replacing some values with keyword arguments\\nprint(f'{p1=} @ {hex(id(p1))}')\\n\\nPoint3D = namedtuple('Point3D', Point2D._fields + ('z',)) # extend named tuple\\np2 = Point3D._make(p1 + (5,))\\nprint(f'{p2=} @ {hex(id(p2))}')\\np3 = Point3D(*p1, 6)\\nprint(f'{p3=} @ {hex(id(p3))}')\", \"from collections import namedtuple\\n\\nPoint2D = namedtuple('Point2D', 'x y')\\np1 = Point2D(1, 1)\\nprint(Point2D.__doc__)\\nprint(Point2D.x.__doc__)\\nprint(Point2D.y.__doc__)\", \"from collections import namedtuple\\n\\nVector2D = namedtuple('Vector2D', 'x1 y1 x2 y2 origin_x origin_y')\\nVector2D.__new__.__defaults__ = (0, 0)\\nv1 = Vector2D(1, 1, 2, 2)\\nprint(v1)\\n\\nVector2D = namedtuple('Vector2D', 'x1 y1 x2 y2 origin_x origin_y', defaults=(10, 10))\\nv2 = Vector2D(3, 3, 4, 4)\\nprint(v2)\", \"from random import randint, random\\nfrom collections import namedtuple\\n\\nColor = namedtuple('Color', 'red green blue alpha', defaults=(0, 0, 0, 0))\\n\\ndef random_color():\\n    rgb = (randint(0, 255) for _ in range(3))\\n    a = round(random(), 2)\\n    return Color(*rgb, a)\\n\\nc1 = random_color()\\nc2 = random_color()\\nc3 = random_color()\\nprint(c1)\\nprint(c2)\\nprint(c3)\", \"# alternative to dictionaries\\n\\nfrom collections import namedtuple\\n\\ndata_dict = {'key1': 1, 'key2': 2, 'key3': 3}\\n\\nData = namedtuple('Data', data_dict.keys())\\ndata = Data(**data_dict)\\nprint(data)\\nprint(data._asdict())\\nkey_name = 'key1'\\nprint(f'{getattr(data, key_name)=}')\\nprint(f'{data.key1=}')\", \"# convert a list of dictionaries to a list of named tuples\\n\\nfrom collections import namedtuple\\n\\ndata_dicts = [\\n    {'key1': 1, 'key2': 2},\\n    {'key1': 3, 'key2': 4},\\n    {'key1': 5, 'key2': 6, 'key3': 7},\\n    {'key2': 100}\\n]\\n\\n# keys = set(key for key in data_dict for data_dict in data_dicts)\\n# keys = {key for key in data_dict for data_dict in data_dicts}\\nkeys = {key for data_dict in data_dicts for key in data_dict}\\nprint(keys)\\nData = namedtuple('Data', sorted(keys), defaults=(None for _ in keys))\\ndata_list = [Data(**data_dict) for data_dict in data_dicts]\\nprint(data_list)\", \"from collections import namedtuple\\n\\ndef tuplize_dicts(dicts, struct_name=None):\\n    struct_name = struct_name or 'Struct'\\n    keys = {key for dict_ in dicts for key in dict_}\\n    Struct = namedtuple(struct_name, sorted(keys), rename=True, defaults=(None for _ in keys))\\n    return [Struct(**dict_) for dict_ in dicts]\\n\\ndata_dicts = [\\n    {'key1': 1, 'key2': 2},\\n    {'key1': 3, 'key2': 4},\\n    {'key1': 5, 'key2': 6, 'key3': 7},\\n    {'key2': 100}\\n]\\n\\ndata_list = tuplize_dicts(data_dicts, 'Data')\\nprint(data_list)\", \"import math\\nimport fractions\\nimport sys\\nimport types\\n\\nprint(math) # a built-in module (written in C), providing access to system functionality\\nprint(fractions) # a standard library module (written in Python), providing standardized solutions for many problems that occur in everyday programming\\nprint(sys) # built-in\\nprint(types) # standard library\\nprint(type(math))\\nprint(math.__dict__)\\nprint(dir(math))\\nprint(isinstance(math, types.ModuleType))\\nprint(math.__dict__['pi'])\\nprint(getattr(math, 'pi'))\\n\\n# globals()\\n# return the dictionary implementing the current module namespace\\n# for code within functions, this is set when the function is defined and remains the same regardless of where the function is called\\nprint(globals())\\n\\n# locals()\\n# update and return a dictionary representing the current local symbol table\\n# free variables are returned by locals() when it is called in function blocks, but not in class blocks\\n# at the module level, locals() and globals() are the same dictionary\\nprint(locals())\\nprint(globals() is locals())\\n\\nprint(sys.modules)\"], '_oh': {10: True, 11: True, 12: False, 16: (None, 1440, (1, 2, 1, 2, 1, 2, 1, 2, 1, 2), 'abababababababababab', 'abcabcabcabcabcabcabc', '1', '2', 3), 17: (None, (1, 2, 3)), 51: ('x', 'y', (1, 2, 3), 'z', {'kw1': '1', 'kw2': '2'}), 86: 'Person says Hello world!', 88: ['time: 2024-01-15 20:54:25.376760+00:00', 'class: Auto', 'id: 0x2185dac6420', 'make: Ford', 'model: Model T', 'year: 1908', 'top_speed: 45', '_speed: 20']}, '_dh': [WindowsPath('d:/Study/Programming/Python/python_deep_dive'), WindowsPath('d:/Study/Programming/Python/python_deep_dive')], 'In': ['', 'import this', 'my_list = [\\n    1, # item 1\\n    2, # item 2\\n    3, # item 3\\n]\\n\\ndef my_func(\\n    a,\\n    b, # comment\\n):\\n    print(a, b)\\n\\nprint(my_list)\\nmy_func(10, #comment\\n        20)', \"a = 1\\nb = 2\\nc = 3\\nif a < b \\\\\\n    and b < c \\\\\\n    and a < c:\\n    print('yes')\", \"class Rectangle:\\n    def __init__(self, width, height):\\n        self.width = width # this actually calls the setter of width\\n        self.height = height\\n\\n    @property\\n    def width(self):\\n        return self._width\\n    \\n    @width.setter\\n    def width(self, width):\\n        if width > 0:\\n            self._width = width\\n        else:\\n            raise ValueError('Width should be greater than 0.')\\n        \\n    @property\\n    def height(self):\\n        return self._height\\n    \\n    @height.setter\\n    def height(self, height):\\n        if height > 0:\\n            self._height = height\\n        else:\\n            raise ValueError('Height should be greater than 0.')\\n        \\n    def perimeter(self):\\n        return (self._width + self._height) * 2\\n    \\n    def area(self):\\n        return self._width * self._height\\n    \\n    def __repr__(self):\\n        return f'Rectangle({self._width}, {self._height})'\\n    \\n    def __str__(self):\\n        return f'Rectangle: width {self._width}, height {self._height}'\\n    \\n    def __eq__(self, other):\\n        if isinstance(other, type(self)):\\n        # if issubclass(type(other), type(self)):\\n            return self._width == other._width and self._height == other._height\\n        else:\\n            return False\\n        \\n    def __gt__(self, other):\\n        if issubclass(type(other), type(self)):\\n            return self.area() > other.area()\\n        else:\\n            return NotImplemented\\n        \\n    def __ge__(self, other):\\n        if issubclass(type(other), type(self)):\\n            return self.area() >= other.area()\\n        else:\\n            return NotImplemented\\n        \\nrect1 = Rectangle(10, 5)\\nprint(rect1)\\nprint(repr(rect1))\\nrect1.width = 20\\nprint(f'width: {rect1.width}, height: {rect1.height}')\\nprint(f'Perimeter: {rect1.perimeter()}')\\nprint(f'Area: {rect1.area()}')\\n# rect1.width = 0\\n\\n# rect2 = Rectangle(0, 5)\\nrect2 = Rectangle(20, 5)\\nprint(rect1 == rect2)\\n\\nrect3 = Rectangle(10, 5)\\nprint(f'{rect2.area()=}, {rect3.area()=}')\\nprint('rect2 == rect3:', rect2 == rect3)\\nprint('rect2 != rect3:', rect2 != rect3)\\nprint('rect2 > rect3:', rect2 > rect3)\\nprint('rect2 >= rect3:', rect2 >= rect3)\\nprint('rect2 < rect3:', rect2 < rect3)\\nprint('rect2 == 3:', rect2 == 3)\\n# print('rect2 > 3:', rect2 > 3)\", 'my_var = 10\\nprint(my_var)\\nprint(id(my_var))\\nprint(hex(id(my_var)))', \"import sys\\nimport ctypes\\n\\nmy_list = [1, 2, 3]\\naddress_my_list = id(my_list)\\nmy_list2 = my_list\\nprint('id(my_list) == id(my_list2):', address_my_list == id(my_list2))\\n\\nprint(f'{sys.getrefcount(my_list)=}')\\nprint(f'{ctypes.c_long.from_address(address_my_list).value=}')\", \"import ctypes\\nimport gc\\n\\ndef get_ref_count(address):\\n    return ctypes.c_long.from_address(address).value\\n\\ndef check_obj_by_address(address):\\n    for obj in gc.get_objects():\\n        if id(obj) == address:\\n            return 'Object exists'\\n    return 'Obj not found'\\n\\nclass A:\\n    def __init__(self):\\n        self.b = B(self)\\n        print(f'A: self={id(self)}, b={id(self.b)}')\\n\\nclass B:\\n    def __init__(self, a):\\n        self.a = a\\n        print(f'B: self={id(self)}, a={id(self.a)}')\\n\\ngc.disable()\\n\\na = A()\\naddress_a = id(a)\\naddress_b = id(a.b)\\nprint('a reference count:', get_ref_count(address_a))\\nprint('b reference count:', get_ref_count(address_b))\\nprint('a:', check_obj_by_address(address_a))\\nprint('b:', check_obj_by_address(address_b))\\n\\nprint('\\\\nRemove variable a')\\na = None\\nprint('a reference count:', get_ref_count(address_a))\\nprint('b reference count:', get_ref_count(address_b))\\nprint('a:', check_obj_by_address(address_a))\\nprint('b:', check_obj_by_address(address_b))\\n\\nprint('\\\\nTurn on gc')\\ngc.collect()\\nprint('a reference count:', get_ref_count(address_a))\\nprint('b reference count:', get_ref_count(address_b))\\nprint('a:', check_obj_by_address(address_a))\\nprint('b:', check_obj_by_address(address_b))\", \"a = 10\\nprint(f'{id(a)=}')\\na += 1\\nprint(f'{id(a)=}')\", \"t = ([1, 2], [3, 4])\\nprint(f'{t=}, {id(t)=}')\\nt[0].append(5)\\nprint(f'{t=}, {id(t)=}')\", 'a = 10\\nb = 10\\nid(a) == id(b)', \"s1 = 'hello'\\ns2 = 'hello'\\nid(s1) == id(s2)\", 'list1 = [1, 2, 3]\\nlist2 = [1, 2, 3]\\nid(list1) == id(list2)', \"a = 10\\nb = 10\\nprint(f'{id(a)=}, {id(b)=}')\\nprint('a is b:', a is b)\\n\\na = 257\\nb = 257\\nprint(f'{id(a)=}, {id(b)=}')\\nprint('a is b:', a is b)\", \"import sys\\n\\na = 'hello'\\nb = 'hello'\\nprint(f'{id(a)=}, {id(b)=}')\\nprint('a is b:', a is b)\\n\\na = 'hello world'\\nb = 'hello world'\\nprint(f'{id(a)=}, {id(b)=}')\\nprint('a is b:', a is b)\\n\\na = sys.intern('the quick brown fox')\\nb = sys.intern('the quick brown fox')\\nc = 'the quick brown fox'\\nprint(f'{id(a)=}, {id(b)=}, {id(c)=}')\\nprint('a is b:', a is b)\\nprint('a is c:', a is c)\", \"from sys import intern\\nfrom time import perf_counter\\n\\ndef compare_using_equals(n):\\n    a = 'a very long string that is not automatically interned' * 200\\n    b = 'a very long string that is not automatically interned' * 200\\n    print('a is b:', a is b)\\n    for _ in range(n):\\n        if a == b:\\n            pass\\n\\ndef compare_using_is(n):\\n    a = intern('a very long string that is not automatically interned' * 200)\\n    b = intern('a very long string that is not automatically interned' * 200)\\n    print('a is b:', a is b)\\n    for _ in range(n):\\n        if a is b:\\n            pass\\n\\nstart = perf_counter()\\ncompare_using_equals(10000000)\\nend = perf_counter()\\nprint('Equals:', end - start)\\n\\nstart = perf_counter()\\ncompare_using_is(10000000)\\nend = perf_counter()\\nprint('Is:', end - start)\", \"def my_func():\\n    a = 24 * 60\\n    b = (1, 2) * 5\\n    c = 'ab' * 10\\n    d = 'abc' * 7\\n    e = ['1', '2'] * 3\\n\\nmy_func.__code__.co_consts\", 'def my_func():\\n    for e in [1, 2, 3]:\\n        pass\\n\\nmy_func.__code__.co_consts', \"import string\\nimport time\\n\\nchar_tuple = tuple(string.ascii_letters)\\nchar_set = set(string.ascii_letters)\\n\\ndef membership_test(n, container):\\n    for _ in range(n):\\n        if 'z' in container:\\n            pass\\n\\nn = 10000000\\nstart = time.perf_counter()\\nmembership_test(n, char_tuple)\\nend = time.perf_counter()\\nprint('Tuple:', end - start)\\n\\nstart = time.perf_counter()\\nmembership_test(n, char_set)\\nend = time.perf_counter()\\nprint('Set:', end - start)\", \"import sys\\n\\nprint(f'{type(1)=}')\\nprint(f'{sys.getsizeof(1)=}', 'bytes')\\nprint(f'{sys.getsizeof(0)=}', 'bytes')\", \"print('10 / 2 =', 10 / 2)\\nprint('10 // 3 =', 10 // 3)\\nprint('10 % 3 =', 10 % 3)\\nprint('10 // -3 =', 10 // -3)\\nprint('10 % -3 =', 10 % -3)\\nprint('-10 // 3 =', -10 // 3)\\nprint('-10 % 3 =', -10 % 3)\\nprint('-10 // -3 =', -10 // -3)\\nprint('-10 % -3 =', -10 % -3)\", 'from decimal import Decimal\\n\\nprint(f\\'{int()=}\\')\\nprint(f\\'{int(10)=}\\')\\nprint(f\\'{int(10.1)=}\\')\\nprint(f\\'{int(Decimal(\"10.1\"))=}\\')\\n# print(f\\'{int(\"10.1\")=}\\')\\nprint(f\\'{int(\"10\")=}\\')\\nprint(f\\'{int(\"010\")=}\\')\\n# print(f\\'{int(\"010\", 0)=}\\')\\nprint(f\\'{int(\"010\", 2)=}\\')\\nprint(f\\'{int(\"0b10\", 0)=}\\')', 'import string\\n\\ndef rebase(number: int, base: int):\\n    \"\"\"Rebase base 10 integer number to the designated base\"\"\"\\n    if number == 0:\\n        return \\'0\\'\\n    if base < 2 or base > 36:\\n        raise ValueError(\\'Invalid base: 2 <= base <= 36\\')\\n    \\n    base_letters = string.digits + string.ascii_lowercase\\n\\n    # if number < 0:\\n    #     sign = \\'-\\'\\n    #     number = abs(number)\\n    # else:\\n    #     sign = \\'\\'\\n    number, sign = (number, \\'\\') if number > 0 else (-number, \\'-\\')\\n    \\n    rebased = \\'\\'\\n\\n    while number > 0:\\n        rebased = base_letters[number % base] + rebased\\n        number = number // base\\n        # number, mod = divmod(number, base)\\n        # rebased = base_letters[mod] + rebased\\n\\n    return sign + rebased\\n\\nprint(f\\'{rebase(0, 2)=}\\')\\nprint(f\\'{rebase(10, 2)=}\\')\\nprint(f\\'{rebase(-10, 2)=}\\')\\nprint(f\\'{rebase(9, 3)=}\\')\\nprint(f\\'{rebase(-106, 16)=}\\')\\nprint(f\\'{rebase(1485, 16)=}\\')\\nprint(f\\'{rebase(100, 36)=}\\')\\n# print(f\\'{rebase(5, 1)=}\\')', 'from fractions import Fraction\\n\\nprint(f\\'{Fraction()=}\\')\\nprint(f\\'{Fraction(1, 10)=}\\')\\nprint(f\\'{Fraction(0.1)=}\\') # using float is meaningless, as it may not have an exact representation in base 2\\nprint(f\\'{Fraction(\"0.1\")=}\\')\\nprint(\\'Fraction(0.1) == Fraction(1, 10):\\', Fraction(0.1) == Fraction(1, 10))\\nprint(\\'Fraction(\"0.1\") == Fraction(1, 10):\\', Fraction(\\'0.1\\') == Fraction(1, 10))\\nprint(f\\'{Fraction(\"22/7\")=}\\')\\n\\nprint(Fraction(1, 2) + Fraction(1, 3))\\n\\nx = Fraction(7, 22)\\nprint(f\\'{x.numerator=}\\')\\nprint(f\\'{x.denominator=}\\')\\nx = Fraction(7, -22)\\nprint(f\\'{x.numerator=}\\')\\nprint(f\\'{x.denominator=}\\')', 'import math\\nfrom fractions import Fraction\\n\\nx = Fraction(math.pi)\\nprint(x)\\nprint(x.limit_denominator())\\nprint(x.limit_denominator(10))\\nprint(x.limit_denominator(100))\\nprint(x.limit_denominator(10000))', \"print('\\\\nFloats may not have exact representations in computer:')\\nprint('0.1:', f'{0.1:.25f}')\\nprint('0.1 + 0.1 + 0.1 == 0.3:', 0.1 + 0.1 + 0.1 == 0.3)\\n\\nprint('\\\\nBecause of the inexact internal representation, the result of round() may also be surprising.')\\nprint(f'{round(1.25, 1)=}')\\nprint(f'{round(1.225, 2)=}')\", \"import sys\\nimport math\\n\\nx = 0.1 + 0.1 + 0.1\\ny = 0.3\\nepsilon = sys.float_info.epsilon\\n\\nprint(f'{x=}, {y=}')\\nprint('x == y:', x == y)\\nprint('x is close y:', math.isclose(x, y, rel_tol=epsilon, abs_tol=epsilon))\", 'import math\\n\\ndef traditional_round(f: float):\\n    \"\"\"Round away from zero\"\"\"\\n    return int(f + math.copysign(0.5, f))\\n\\nf = -10.5\\nprint(f\\'{f=}\\')\\nprint(f\\'{round(f)=}\\')\\nprint(f\\'{traditional_round(f)=}\\')\\n\\nf = -10.6\\nprint(f\\'{f=}\\')\\nprint(f\\'{round(f)=}\\')\\nprint(f\\'{traditional_round(f)=}\\')', \"import decimal\\nfrom decimal import Decimal\\n\\nctx = decimal.getcontext()\\nprint(ctx)\\nprint(f'{ctx.prec=}')\\nprint(f'{ctx.rounding=}')\\n\\nwith decimal.localcontext() as ctx:\\n    ctx.rounding = decimal.ROUND_HALF_UP\\n    print('local context:', ctx)\\n    print('getcontext:', decimal.getcontext()) # getcontext will actually get local context\\n    print(f'inside: {round(Decimal('1.25'), 1)=}')\\n\\nprint(f'outside: {round(Decimal('1.25'), 1)=}')\", 'from decimal import Decimal\\n\\nprint(f\\'{Decimal(1)=}\\')\\nprint(f\\'{Decimal(3.14)=}\\')\\nprint(f\\'{Decimal(\"3.14\")=}\\')\\nprint(f\\'{Decimal((1, (3, 1, 4), -2))=}\\')', \"import decimal\\nfrom decimal import Decimal\\n\\ndecimal.getcontext().prec = 2\\n\\na = Decimal('0.12345')\\nb = Decimal('0.12345')\\nc = a + b\\nprint(f'{a=}, {b=}')\\nprint('a + b =', c)\\nprint(f'{c=}') # the actual value of c has been permanently affected by precision\", \"import math\\nimport decimal\\nfrom decimal import Decimal\\n\\nx = 0.01\\nx_dec = Decimal('0.01')\\n\\nroot = math.sqrt(x)\\nroot_mixed = math.sqrt(x_dec)\\nroot_dec = x_dec.sqrt()\\n\\nprint('root:', f'{root:.28f}')\\nprint('root_mixed:', f'{root_mixed:.28f}')\\nprint('root_dec:', f'{root_dec:.28f}')\\n\\nprint('\\\\nquantize method:')\\nprint(Decimal('7.325').quantize(Decimal('0.1'), rounding=decimal.ROUND_DOWN))\\nprint(Decimal('7.325').quantize(Decimal('0.1'), rounding=decimal.ROUND_UP))\\nprint(Decimal('7.325').quantize(Decimal('1'), rounding=decimal.ROUND_UP))\\nprint(Decimal('7.325').quantize(Decimal('1.'), rounding=decimal.ROUND_UP))\\nprint(Decimal('7.325').quantize(Decimal(1), rounding=decimal.ROUND_UP))\", \"# Euler's identity\\n# e^(iπ) + 1 = 0\\n\\nimport cmath\\nimport math\\nimport sys\\n\\nepsilon = sys.float_info.epsilon\\n\\nprint('e^(iπ) + 1 = 0:', cmath.exp(1j * cmath.pi + 1) == 0)\\nprint('e^(iπ) + 1 is close 0:', cmath.isclose(cmath.exp(1j * cmath.pi) + 1, 0, rel_tol=epsilon, abs_tol=epsilon))\\n\\nprint(f'{cmath.rect(2 ** 0.5, cmath.pi / 4)=}')\\nprint('math.pi is cmath.pi:', math.pi is cmath.pi)\\nprint('math.pi == cmath.pi:', math.pi == cmath.pi)\", \"print('bool is subclass of int:', issubclass(bool, int))\\nprint('True is instance of bool:', isinstance(True, bool))\\nprint('False is instance of bool:', isinstance(False, bool))\\nprint(f'{int(True)=}')\\nprint(f'{int(False)=}')\\nprint('True == 1:', True == 1)\\nprint('False == 0:', False == 0)\\nprint('True is 1:', True is 1)\\nprint('True + True ==', True + True)\\nprint('True > False:', True > False)\\nprint('(1 == 2) == False:', (1 == 2) == False)\\nprint('(1 == 2) == 0:', (1 == 2) == 0)\\nprint('-True =', -True)\", \"a = [1, 2, 3]\\n\\nif a: # work the same way as the code below but more concise\\n# if a is not None and len(a) > 0:\\n    print(a[0])\\nelse:\\n    print('Nothing to see here...')\", \"def get_first_letter(s):\\n    # if s:\\n    #     return s[0]\\n    # else:\\n    #     return ''\\n    return s and s[0] or ''\\n\\ns1 = None\\ns2 = ''\\ns3 = 'abc'\\n\\nprint(f'{get_first_letter(s1)=}')\\nprint(f'{get_first_letter(s2)=}')\\nprint(f'{get_first_letter(s3)=}')\", 'from fractions import Fraction\\nfrom decimal import Decimal\\n\\nprint(\\'1 == 1.0:\\', 1 == 1.0)\\nprint(\\'1.0 == Decimal(\"1.0\"):\\', 1.0 == Decimal(\"1.0\"))\\nprint(\\'1 == Fraction(3, 3):\\', 1 == Fraction(3, 3))\\nprint(\\'0.1 == Decimal(\"0.1\"):\\', 0.1 == Decimal(\"0.1\")) # floats representation issue\\nprint(\\'4 == 4 + 0j:\\', 4 == 4 + 0j)\\nprint(\\'3 < 2 < 4 / 0:\\', 3 < 2 < 4 / 0) # short-circuited', \"def my_func(a, b=20, c=30):\\n    print(f'{a=}, {b=}, {c=}')\\n\\nmy_func(1, 2, 3)\\nmy_func(1, 2)\\nmy_func(b=20, a=10)\\nmy_func(10, c=40)\", \"# parentheses are not necessary when defining a tuple, except for empty tuples\\na = (1, 2)\\nprint(type(a))\\na = 1, 2\\nprint(type(a))\\na = (1) # int\\nprint(type(a))\\na = (1,)\\nprint(type(a))\\na = 1,\\nprint(type(a))\\na = ()\\nprint(type(a))\\n\\na, b, c = 'str'\\nprint(f'{a=}, {b=}, {c=}')\", \"s1 = set('python')\\ns2 = {'p', 'y', 't', 'h', 'o', 'n'}\\nd = {'p': 1, 'y': 2, 't': 3, 'h': 4, 'o': 5, 'n': 6}\\n\\ndef print_els(container):\\n    for c in container:\\n        print(c, end='')\\n    print()\\n\\nprint_els(s1)\\nprint_els(s2)\\nprint_els(d)\", \"my_list = [1, 2, 3, (4, 5, 6)]\\na, b, *c = my_list\\nprint(f'{a=}, {b=}, {c=}')\\na, *b, (c, d, e) = my_list # nested unpacking\\nprint(f'{a=}, {b=}, {c=}, {d=}, {e=}')\\na, *b, (c, *d) = my_list # multiple * operators on different levels of unpacking\\nprint(f'{a=}, {b=}, {c=}, {d=}')\\n\\nmy_string = 'uvwxyz'\\na, *b, c, d = my_string\\nprint(f'{a=}, {b=}, {c=}, {d=}')\\n\\nmy_set = {1, 2, 3}\\na, *b = my_set\\nprint(f'{a=}, {b=}')\\n*l, = my_set # convert my_set to a list\\nprint(l)\\n\\nl1 = [1, 2, 3]\\nl2 = [4, 5, 6]\\ns = 'abc'\\nl = [*l1, *l2, *s]\\nprint(l)\\n\\nd1 = {'a': 1, 'b': 2, 'c': 5}\\nd2 = {'c': 3, 'd': 4}\\nl = [*d1, *d2] # get all the keys of both dictionaries\\nd = {**d1, **d2} # merge dictionaries into one\\nprint(l)\\nprint(d)\", \"def average(number, *args):\\n    return (number + sum(args)) / (len(args) + 1)\\n\\ndef my_func(a, *b):\\n    print(f'{a=}, {b=}')\\n\\nprint(average(1, 2, 3))\\n\\nl = [1, 2, 3]\\nmy_func(*l)\", \"def calc_hi_lo_avg(*args, log_to_console=False):\\n    # hi = int(bool(args)) and max(args) # int(bool()) here can be changed to len(), because args will always be a tuple, not None\\n    hi = len(args) and max(args)\\n    lo = len(args) and min(args)\\n    avg = (hi + lo) / 2\\n    if log_to_console:\\n        print(f'{hi=}, {lo=}, {avg=}')\\n    return hi, lo, avg\\n\\nprint(calc_hi_lo_avg())\\nprint(calc_hi_lo_avg(1, 2, 3, 4, 5))\\nprint(calc_hi_lo_avg(1, 2, 3, 4, 5, log_to_console=True))\", \"import time\\n\\ndef time_it(fn, *args, rep=1, **kwargs):\\n    start = time.perf_counter()\\n    for _ in range(rep):\\n        fn(*args, **kwargs)\\n    end = time.perf_counter()\\n    return (end - start) / rep\\n\\ndef compute_powers_1(n, *, start=1, end):\\n    result = []\\n    for i in range(start, end):\\n        result.append(n ** i)\\n    return result\\n\\ndef compute_powers_2(n, *, start=1, end):\\n    # using list comprehension\\n    return [n ** i for i in range(start, end)]\\n\\ndef compute_powers_3(n, *, start=1, end):\\n    # using generator expression\\n    return (n ** i for i in range(start, end))\\n\\nprint(f'{time_it(compute_powers_1, 2, rep=5, end=20000)=}')\\nprint(f'{time_it(compute_powers_2, 2, rep=5, end=20000)=}')\\nprint(f'{time_it(compute_powers_3, 2, rep=5, end=20000)=}')\", \"import datetime\\n\\n# buggy default value for dt\\ndef log_1(msg, *, dt=datetime.datetime.now(datetime.UTC)):\\n    print(f'{dt}: {msg}')\\n\\ndef log_2(msg, *, dt=None):\\n    dt = dt or datetime.datetime.now(datetime.UTC)\\n    print(f'{dt}: {msg}')\\n\\nlog_1('msg_1')\\nlog_1('msg_2')\\nprint('-'*10)\\nlog_2('msg_1')\\nlog_2('msg_2')\", 'my_list = [1, 2]\\ndef func(a=my_list):\\n    print(a)\\n\\nfunc()\\nmy_list.append(3)\\nfunc() # the default value of a was changed unexpectedly', \"# another example of buggy default value\\ndef add_to_list(name, quantity=1, unit='unit', lst=[]):\\n    lst.append(f'{name}: {quantity} {unit}')\\n    return lst\\n\\nshopping_list_1 = add_to_list('apple', 2, 'kilo')\\nadd_to_list('milk', 1, 'liter', shopping_list_1)\\nprint(shopping_list_1)\\n\\nshopping_list_2 = add_to_list('chicken', 2, 'kilo')\\nadd_to_list('eggs', 2, 'dozen', shopping_list_2)\\nprint(shopping_list_2)\\n\\n# because the default value for lst has already been evaluated to the same address for the list when the function is defined\\nprint('shopping_list_1 is shopping_list_2:', shopping_list_1 is shopping_list_2)\", \"def factorial(n: int):\\n    if n < 1:\\n        return 1\\n    else:\\n        print(f'calculating {n}!')\\n        return n * factorial(n - 1)\\n    \\nprint(factorial(3))\\nprint(factorial(3))\", \"# cached version\\n# the same default dictionary will be used by the function\\ndef factorial_cached(n, cache={}):\\n    if n < 1:\\n        return 1\\n    elif n in cache:\\n        return cache[n]\\n    else:\\n        print(f'calculating {n}!')\\n        result = n * factorial_cached(n - 1)\\n        cache[n] = result\\n        return result\\n    \\nprint(factorial_cached(3))\\nprint(factorial_cached(3)) # with cache no need to calculate the same number\\nprint(factorial_cached(2))\\nprint(factorial_cached(4))\", 'def my_func(a: \\'annotation for a\\',\\n            b: \\'annotation for b\\' = 1) -> \\'something annotation for return\\':\\n    \"\"\"documentation for my function\"\"\"\\n    return a * b\\n\\nhelp(my_func)\\nprint(my_func.__doc__)\\nprint(my_func.__annotations__)', \"def my_func(a: str,\\n            b: 'int > 0' = 1,\\n            *args: 'additional args',\\n            k1: 'keyword-only arg 1',\\n            k2: 'keyword-only arg 2' = 100,\\n            **kwargs: 'additional keyword-only args') -> 'return something':\\n    print(a, b, args, k1, k2, kwargs)\\n\\nprint(my_func.__annotations__)\\nmy_func('hello', 1, 2, 3, k1='world', k3='times')\", \"f = lambda x, y, *args, z='z', **kwargs: (x, y, args, z, kwargs) # the () of return expression is required here\\nf('x', 'y', 1, 2, 3, kw1='1', kw2='2')\", 'def apply_func(x, func):\\n    return func(x)\\n\\nprint(apply_func(2, lambda x: x ** 2))\\nprint(apply_func(3, lambda x: x ** 3))', 'def apply_func(func, *args, **kwargs):\\n    return func(*args, **kwargs)\\n\\nprint(apply_func(lambda x, y: x + y, 1, 2))\\nprint(apply_func(lambda x, *, y: x + y, 1, y=2))\\nprint(apply_func(lambda *args: sum(args), 1, 2, 3, 4, 5))', \"complex_list = [3 + 3j, 1 - 1j, 6 + 2j, 0, -1 -4j]\\n# sort complex_list according to the square of the absolute value of a complex number\\nprint(sorted(complex_list, key=lambda c: c.real ** 2 + c.imag ** 2))\\n\\nname_list = ['Tony', 'Chaplin', 'John', 'Helen', 'Max']\\n# sort name_list according to the last letter of a name\\n# stable sort, i.e. the relative order of elements that compare equal will be remained\\nprint(sorted(name_list, key=lambda n: n[-1]))\", '# randomize an iterable using sorted\\n\\nimport random\\n\\nl = [1, 2, 3, 4, 5, 6, 7, 8, 9, 10]\\n\\nprint(sorted(l, key=lambda e: random.random()))\\nprint(sorted(l, key=lambda e: random.random()))\\nprint(sorted(l, key=lambda e: random.random()))', \"from decimal import Decimal\\n\\nprint(callable(print))\\nprint(print()) # if something is callable, it always has a return value\\nprint(callable(Decimal)) # classes are also callable\\n\\nclass MyClass:\\n    def __init__(self):\\n        print('classes are callable')\\n    \\n    def __call__(self):\\n        print('instances can be callable too')\\n\\nmy_class = MyClass()\\nmy_class() # instances can be callable\\nprint(callable(my_class))\", 'l1 = [1, 2, 3, 4, 5]\\nl2 = [7, 8, 9]\\nl3 = map(lambda x, y: x + y, l1, l2)\\nprint(l3)\\nprint(list(l3))\\n\\nl4 = [0, 1, 2, 3, 4, 5, 6, 7, 8, 9]\\nl5 = filter(None, l4)\\nl6 = filter(lambda x: x % 2 == 0, l4)\\nprint(l5)\\nprint(l6)\\nprint(list(l5))\\nprint(list(l6))', \"def factorial(n):\\n    return 1 if n < 2 else n * factorial(n - 1)\\n\\nresult = map(factorial, range(5))\\n\\nfor i in result:\\n    print(i)\\n\\n# won't print anything\\n# generators can only be iterated over once\\n# attempting to iterate over an exhausted generator will not produce any output\\nfor i in result:\\n    print(i)\\n\\nprint(list(result)) # empty list too\", 'def reduce_sequence(func, sequence):\\n    result = sequence[0]\\n    for e in sequence[1:]:\\n        result = func(result, e)\\n    return result\\n\\nprint(reduce_sequence(lambda x, y: x + y, range(10))) # range is actually an immutable sequence type\\nprint(reduce_sequence(lambda x, y: x if x > y else y, range(10)))', \"from functools import reduce\\n\\nprint(reduce(lambda x, y: x + ' ' + y, ('Python', 'is', 'super', 'awesome')))\\n\\n# using reduce to reproduce any()\\nprint(reduce(lambda x, y: bool(x or y), (0, '', 1, 0.0, 'and', False)))\\nprint(reduce(lambda x, y: bool(x or y), (0, '', None, 0.0, [], (), {}, False)))\\n\\n# using reduce to reproduce all()\\nprint(reduce(lambda x, y: bool(x and y), (0, '', 1, 0.0, 'and', False)))\\nprint(reduce(lambda x, y: bool(x and y), (1, 'a', 0.1, [1], True)))\\n\\n# using reduce to calculate factorial\\ndef factorial(n):\\n    return reduce(lambda x, y: x * y, range(1, n + 1), 1)\\n\\nprint(factorial(1))\\nprint(factorial(3))\\nprint(factorial(10))\", \"# similar to functools.partial()\\ndef partial_func(func, /, *args, **kwargs):\\n    def new_func(*new_args, **new_kwargs):\\n        new_kwargs = {**kwargs, **new_kwargs}\\n        return func(*args, *new_args, **new_kwargs)\\n    return new_func\\n\\nint_base_2 = partial_func(int, base=2)\\nprint(f'{int_base_2('1010')=}')\\n\\nsquare = partial_func(pow, exp=2)\\nprint(f'{square(10)=}')\\nprint(f'{square(10, exp=3)}') # you can still overwrite the value of exp predefined in the partial function\\n\\nmodular_multiplicative_inverse = partial_func(pow, exp=-1)\\nprint(f'{modular_multiplicative_inverse(38, mod=97)=}') # here mod must be keyword argument\", \"from functools import partial\\n\\nint_base_2 = partial(int, base=2)\\nprint(int_base_2('1010'))\\n\\ndef my_func(a, b, *args, k1, k2, **kwargs):\\n    print(a, b, args, k1, k2, kwargs)\\n\\n# if want to freeze a and k1 of my_func\\nmy_func_partial = partial(my_func, 'a', k1='k1')\\nmy_func_partial('b', 'args1', 'args2', k2='k2', k3='k3', k4='k4')\\n\\n# sort list of complex numbers according to their absolute value\\nsorted_by_abs = partial(sorted, key=lambda x: abs(x))\\ncomplexes = [1 + 2j, 3 - 4j, 0, 7 - 8j, 4 + 5j]\\nprint(sorted_by_abs(complexes))\\n\\n# sort list of points according to their distance to a certain point\\norigin = (0, 0)\\npoints = [(0, 5), (0, 0), (3, 4), (-5, 1), (-3, -2)]\\ndistance_square = lambda a, b: (a[0] - b[0]) ** 2 + (a[1] - b[1]) ** 2\\npoints_sorted = sorted(points, key=partial(distance_square, origin))\\nprint(points_sorted)\", \"import operator\\nfrom functools import reduce\\n\\nprint(reduce(lambda x, y: x * y, [1, 2, 3, 4]))\\nprint(reduce(operator.mul, [1, 2, 3, 4]))\\n\\nget_item_2 = operator.itemgetter(2)\\nprint(get_item_2([1, 2, 3, 4]))\\nprint(get_item_2('abcde'))\\n\\nget_item_2_3 = operator.itemgetter(2, 3)\\nprint(get_item_2_3([1, 2, 3, 4]))\\nprint(get_item_2_3('abcde'))\\n\\nclass MyClass:\\n    def __init__(self):\\n        self.a = 'a'\\n        self.b = 'b'\\n\\n    def test(self):\\n        print('test method get called')\\n\\nobj = MyClass()\\nget_attr_a = operator.attrgetter('a')\\nprint(get_attr_a(obj))\\n\\nget_attr_test = operator.attrgetter('test')\\nget_attr_test(obj)()\\nmethod_caller_test = operator.methodcaller('test')\\nmethod_caller_test(obj)\\n\\ncomplexes = [5 - 10j, 3 + 2j, -2 - 1j, 2 + 10j, 8 - 5j]\\nsorted_by_real = sorted(complexes, key=operator.attrgetter('real'))\\nprint(sorted_by_real)\\n\\ntuples = [(2, 3, 4), (-2, 3, 1), (0,), (5, 7, 1), (3, 4)]\\nsorted_by_first = sorted(tuples, key=operator.itemgetter(0))\\n# sorted_by_first = sorted(tuples, key=lambda x: x[0])\\nprint(sorted_by_first)\", \"def my_func():\\n    global var\\n    var = 'hello'\\n\\n# print(var) # name 'var' is not defined\\nmy_func() # because of var is global, it is still available after the function finishes\\nprint(var)\\n\\na = 10\\ndef my_func():\\n    print(f'global a? {a=}') # local variable 'a' referenced before assignment\\n    a = 'hello' # a becomes local variable at compile-time\\n\\ndef print(string):\\n    return f'hello {string}'\\n\\nprint('world') # doesn't print anything, only returns a string, because the built-in print function has been masked by the string function in the module scope\\ndel print\\nprint('world')\", \"x = 'python'\\n\\ndef outer():\\n    global x\\n    x = 'monty'\\n\\n    def inner():\\n        # nonlocal x # no binding for nonlocal 'x'\\n        x = 'hello'\\n        print(x)\\n\\n    inner()\\n    print(x)\\n\\nouter()\", \"def outer():\\n    count = 0\\n\\n    def inner1():\\n        nonlocal count\\n        count += 1\\n        return count\\n    \\n    def inner2():\\n        nonlocal count\\n        count += 1\\n        return count\\n    \\n    return inner1, inner2\\n\\nf1, f2 = outer()\\nprint(f'{f1.__code__.co_freevars=}')\\nprint(f'{f2.__code__.co_freevars=}')\\nprint(f'{f1.__closure__=}')\\nprint(f'{f2.__closure__=}') # same cell as above\\nprint(f1())\\nprint(f2())\", \"def create_adders():\\n    adders = []\\n    for n in range(1, 4):\\n        adders.append(lambda x, y=n: x + y) # defaults get evaluated at creation-time\\n    return adders\\n\\nadders = create_adders()\\nprint(f'{adders[0].__code__.co_freevars=}') # no free variables\\nprint(f'{adders[0].__closure__=}') # not a closure, so no cells\\n# at function creation-time, n is evaluated and put that into y as the default for y\\n# there's not even a mention of n in the body of the function\\n\\nprint(f'{adders[0](10)=}')\\nprint(f'{adders[1](10)=}')\\nprint(f'{adders[2](10)=}')\", 'class Averager:\\n    def __init__(self):\\n        self.numbers = []\\n\\n    def add(self, number):\\n        self.numbers.append(number)\\n        return sum(self.numbers) / len(self.numbers)\\n\\ndef outer():\\n    numbers = []\\n    def add(number):\\n        numbers.append(number)\\n        return sum(numbers) / len(numbers)\\n    return add\\n\\naverager = Averager()\\nprint(averager.add(1))\\nprint(averager.add(2))\\nprint(averager.add(3))\\nprint(averager.add(4))\\n\\ncalc_ave = outer()\\nprint(calc_ave(1))\\nprint(calc_ave(2))\\nprint(calc_ave(3))\\nprint(calc_ave(4))', \"def outer_better():\\n    count = 0\\n    total = 0\\n    def add(number):\\n        nonlocal count\\n        nonlocal total\\n        count += 1\\n        total += number\\n        return total / count\\n    return add\\n\\ncalc_ave = outer_better()\\nprint(f'{calc_ave.__code__.co_freevars=}')\\nprint(f'{calc_ave.__closure__=}')\\nprint(calc_ave(1))\\nprint(calc_ave(2))\\nprint(calc_ave(3))\\nprint(calc_ave(4))\", 'from time import perf_counter\\n\\nclass Timer:\\n    def __init__(self):\\n        self.start = perf_counter()\\n\\n    def __call__(self):\\n        return perf_counter() - self.start\\n    \\ndef outer():\\n    start = perf_counter()\\n    def poll():\\n        return perf_counter() - start\\n    return poll\\n    \\nt1 = Timer()\\nprint(t1())\\n\\ntimer = outer()\\nprint(timer())', \"def counter(fn):\\n    # a function report the times of the designated function get called\\n    # it actually works the same way as a decorator\\n    count = 0\\n    def inner(*args, **kwargs):\\n        nonlocal count\\n        count += 1\\n        print(f'{fn.__name__} has been called {count} times')\\n        return fn(*args, **kwargs)\\n    return inner\\n\\ndef add(a, b):\\n    return a + b\\n\\ndef mul(a, b):\\n    return a * b\\n\\nadd = counter(add)\\nprint(add(1, 2))\\nprint(add(2, 3))\\n\\nmul = counter(mul)\\nprint(mul(4, 5))\\nprint(mul(2, 7))\", 'def counter(fn):\\n    count = 0\\n\\n    def inner(*args, **kwargs):\\n        nonlocal count\\n        count += 1\\n        print(f\\'Function {fn.__name__} has been called {count} times\\')\\n        return fn(*args, **kwargs)\\n    return inner\\n\\ndef add(a: int, b: int = 0):\\n    \"\"\"\\n    adds two values\\n    \"\"\"\\n    return a + b\\n\\nhelp(add)\\n\\nadd = counter(add)\\nhelp(add)\\nprint(f\\'{add(1, 2)=}\\')', 'def counter(fn):\\n    count = 0\\n\\n    def inner(*args, **kwargs):\\n        nonlocal count\\n        count += 1\\n        print(f\\'Function {fn.__name__} has been called {count} times\\')\\n        return fn(*args, **kwargs)\\n    return inner\\n\\n# use the @wrapper syntax\\n@counter\\ndef add(a: int, b: int = 0):\\n    \"\"\"\\n    adds two values\\n    \"\"\"\\n    return a + b\\n\\nhelp(add)\\nprint(f\\'{add(1, 2)=}\\')', 'from functools import wraps\\n\\ndef counter(fn):\\n    count = 0\\n\\n    @wraps(fn) # fix the metadata of inner\\n    def inner(*args, **kwargs):\\n        nonlocal count\\n        count += 1\\n        print(f\\'Function {fn.__name__} has been called {count} times\\')\\n        return fn(*args, **kwargs)\\n    # the following can only fix function name and docstring\\n    # inner.__name__ = fn.__name__\\n    # inner.__doc__ = fn.__doc__\\n\\n    # works the same as the @wraps decorator\\n    # inner = wraps(fn)(inner)\\n    return inner\\n\\n@counter\\ndef add(a: int, b: int = 0):\\n    \"\"\"\\n    adds two values\\n    \"\"\"\\n    return a + b\\n\\nhelp(add)\\nprint(f\\'{add(1, 2)=}\\')', 'def timed(fn):\\n    from time import perf_counter\\n    from functools import wraps\\n\\n    @wraps(fn)\\n    def inner(*args, **kwargs):\\n        start = perf_counter()\\n        result = fn(*args, **kwargs)\\n        elapsed = perf_counter() - start\\n\\n        args_list = [str(arg) for arg in args]\\n        kwargs_list = [f\\'{k}={v}\\' for k, v in kwargs.items()]\\n        args_string = \\',\\'.join(args_list + kwargs_list)\\n        print(f\\'{fn.__name__}({args_string}) took {elapsed}s to run\\')\\n        return result\\n    \\n    return inner\\n\\n# recursion\\n# @timed\\ndef calc_nth_fibonacci_recursion(n):\\n    \"\"\"\\n    Return the nth number of a fibonacci series, n starting from 1\\n    \"\"\"\\n    return 1 if n < 3 else calc_nth_fibonacci_recursion(n - 1) + calc_nth_fibonacci_recursion(n - 2)\\n\\n# calculate the total time elapsed\\n@timed\\ndef fib_recursion(n):\\n    return calc_nth_fibonacci_recursion(n)\\n\\n# calc_nth_fibonacci_recursion(6)\\n\\nprint(f\\'{fib_recursion(30)=}\\')\\n\\n# loop\\n@timed\\ndef calc_nth_fibonacci_loop(n):\\n    if n <= 2:\\n        return 1\\n    fib_1 = 1\\n    fib_2 = 1\\n    for n in range(3, n + 1):\\n        fib_1, fib_2 = fib_2, fib_1 + fib_2\\n    return fib_2\\n\\nprint(f\\'{calc_nth_fibonacci_loop(30)=}\\')\\n\\n# reduce\\n@timed\\ndef calc_nth_fibonacci_reduce(n):\\n    from functools import reduce\\n    if n <= 1:\\n        return 1\\n    fib = reduce(lambda x, y: (x[0] + x[1], x[0]),\\n           range(n - 1),\\n           (1, 0))\\n    return fib[0]\\n\\nprint(f\\'{calc_nth_fibonacci_reduce(30)=}\\')', \"def logger(fn):\\n    from functools import wraps\\n    import datetime\\n\\n    @wraps(fn)\\n    def inner(*args, **kwargs):\\n        run_dt = datetime.datetime.now(datetime.UTC)\\n        result = fn(*args, **kwargs)\\n        print(f'{run_dt}: called {fn.__name__}')\\n        return result\\n    \\n    return inner\\n\\ndef timed(fn):\\n    from functools import wraps\\n    from time import perf_counter\\n\\n    @wraps(fn)\\n    def inner(*args, **kwargs):\\n        start = perf_counter()\\n        result = fn(*args, **kwargs)\\n        elapsed = perf_counter() - start\\n        print(f'{fn.__name__} ran for {elapsed}s')\\n        return result\\n    \\n    return inner\\n\\n# stacked decorators\\n# the decorators are executed from top to bottom\\n@logger\\n@timed\\ndef factorial(n):\\n    from functools import reduce\\n    from operator import mul\\n\\n    return reduce(mul, range(1, n + 1))\\n\\n# the equivalent to the above decorators\\n# factorial = logger(timer(factorial))\\n\\nprint(factorial(10))\", \"# fibonacci class with cache\\nclass Fib:\\n    def __init__(self):\\n        self.cache = {1: 1, 2: 1}\\n\\n    def __call__(self, n):\\n        if n in self.cache:\\n            return self.cache[n]\\n        print(f'Calculating fib({n})')\\n        self.cache[n] = self.__call__(n - 1) + self.__call__(n - 2)\\n        return self.cache[n]\\n    \\nfib = Fib()\\nprint(f'{fib(1)=}')\\nprint(f'{fib(2)=}')\\nprint(f'{fib(3)=}')\\nprint(f'{fib(4)=}')\\nprint(f'{fib(5)=}')\\nprint(f'{fib(4)=}')\\nprint(f'{fib(3)=}')\\nprint(f'{fib(2)=}')\", \"# closure with cache\\ndef outer():\\n    cache = {1: 1, 2: 1}\\n\\n    def fib(n):\\n        if n not in cache:\\n            print(f'Calculating fib({n})')\\n            cache[n] = fib(n - 1) + fib(n - 2)\\n        return cache[n]\\n    \\n    return fib\\n\\nfib = outer()\\nprint(f'{fib(1)=}')\\nprint(f'{fib(2)=}')\\nprint(f'{fib(3)=}')\\nprint(f'{fib(4)=}')\\nprint(f'{fib(5)=}')\\nprint(f'{fib(4)=}')\", \"def memoize(fn):\\n    cache = {}\\n\\n    def inner(n):\\n        if n not in cache:\\n            cache[n] = fn(n)\\n        return cache[n]\\n    \\n    return inner\\n\\n# decorator with cache\\n@memoize\\ndef fib(n):\\n    print(f'Calculating fib({n})')\\n    return 1 if n < 3 else fib(n - 1) + fib(n - 2)\\n\\nprint(f'{fib(1)=}')\\nprint(f'{fib(2)=}')\\nprint(f'{fib(3)=}')\\nprint(f'{fib(4)=}')\\nprint(f'{fib(5)=}')\\nprint(f'{fib(4)=}')\", \"from functools import lru_cache\\n\\n# built-in decorator with cache\\n# @cache(user_function) return the same as lru_cache(maxsize=None)\\n# @functools.lru_cache(user_function)\\n# @functools.lru_cache(maxsize=128, typed=False)\\n@lru_cache\\ndef fib(n):\\n    print(f'Calculating fib({n})')\\n    return 1 if n < 3 else fib(n - 1) + fib(n - 2)\\n\\nprint(f'{fib(1)=}')\\nprint(f'{fib(2)=}')\\nprint(f'{fib(3)=}')\\nprint(f'{fib(4)=}')\\nprint(f'{fib(5)=}')\\nprint(f'{fib(4)=}')\\nprint(f'{fib(129)=}') # default maxsize=128, this will cause fib(1) replaced by fib(129)\\nprint(f'{fib(1)=}')\", \"def timed(fn, reps):\\n    from time import perf_counter\\n    from functools import wraps\\n\\n    @wraps(fn)\\n    def inner(*args, **kwargs):\\n        total_elapsed = 0\\n        for i in range(reps):\\n            start = perf_counter()\\n            result = fn(*args, **kwargs)\\n            total_elapsed += perf_counter() - start\\n        print(f'Average execution time: {total_elapsed / reps}')\\n        return result\\n\\n    return inner\\n\\n# @timed(10) # not working\\ndef my_func():\\n    print('my_func executed')\\n\\nmy_func = timed(my_func, 10)\\nmy_func()\", \"# the outer function is not itself a decorator\\n# instead it returns a decorator, just like what wraps do\\n# any arguments passed to outer can be referenced (as free variables) inside the decorator\\n# the outer function is called a decorator factory function\\ndef outer(reps):\\n    def timed(fn):\\n        from time import perf_counter\\n        from functools import wraps\\n\\n        @wraps(fn)\\n        def inner(*args, **kwargs):\\n            total_elapsed = 0\\n            for i in range(reps):\\n                start = perf_counter()\\n                result = fn(*args, **kwargs)\\n                total_elapsed += perf_counter() - start\\n            print(f'Average execution time: {total_elapsed / reps}')\\n            return result\\n\\n        return inner\\n\\n    return timed\\n\\n@outer(10) # outer gets called, and returns a parameterized decorator\\ndef my_func():\\n    print('my_func executed')\\n\\n# my_func = outer(10)(my_func) # equivalent to the decorator above\\nmy_func()\", \"def dec(fn):\\n    print('running dec')\\n\\n    def inner(*args, **kwargs):\\n        print('running inner')\\n        return fn(*args, **kwargs)\\n    \\n    return inner\\n\\n@dec\\ndef func():\\n    print('running func')\\n\\n# func = dec(func) # @dec equivalent\\n\\nprint('after func got decorated')\\nfunc()\", \"class DecoratorClass:\\n    def __init__(self, a, b):\\n        self.a = a\\n        self.b = b\\n\\n    def __call__(self, fn):\\n        print(f'decorate {fn.__name__}')\\n        def inner(*args, **kwargs):\\n            print(f'decorated function called: a={self.a}, b={self.b}')\\n            return fn(*args, **kwargs)\\n        return inner\\n\\n@DecoratorClass(10, 20)\\ndef func():\\n    print('func called')\\n\\nprint('after func decorated')\\nfunc()\", \"class Decorator:\\n    def __init__(self, fn): # cannot parameterized fn\\n        print(f'decorate {fn.__name__}')\\n        self.fn = fn\\n\\n    def __call__(self, *args, **kwargs):\\n        print(f'decorated {self.fn.__name__} called')\\n        return self.fn(*args, **kwargs)\\n    \\n@Decorator\\ndef func(a, b=1, *, c):\\n    print(f'{a=}, {b=}, {c=}')\\n\\nprint('after func decorated')\\nfunc(0, c=2)\", \"def speak_decorator(cls):\\n    cls.speak = lambda self, message: f'{self.__class__.__name__} says {message}'\\n    return cls # the return of cls if not necessary if not using @wrapper syntax or its equivalent\\n\\n@speak_decorator\\nclass Person:\\n    pass\\n\\n# Person = speak_decorator(Person) # decorator equivalent\\n\\np = Person()\\np.speak('Hello world!')\", \"import datetime\\n\\ndef debug_info(cls):\\n    def info(self):\\n        results = []\\n        results.append(f'time: {datetime.datetime.now(datetime.UTC)}')\\n        results.append(f'class: {self.__class__.__name__}')\\n        results.append(f'id: {hex(id(self))}')\\n        for k, v in vars(self).items():\\n            results.append(f'{k}: {v}')\\n        return results\\n    \\n    cls.debug = info\\n    return cls\\n\\n@debug_info\\nclass Person:\\n    def __init__(self, name, birth_year):\\n        self.name = name\\n        self.birth_year = birth_year\\n\\n    def say_hi(self):\\n        return 'Hello there!'\\n    \\np = Person('John', 1999)\\nprint(p.say_hi())\\nprint(p.debug())\", \"@debug_info\\nclass Auto:\\n    def __init__(self, make, model, year, top_speed, speed):\\n        self.make = make\\n        self.model = model\\n        self.year = year\\n        self.top_speed = top_speed\\n        self.speed = speed\\n\\n    @property\\n    def speed(self):\\n        return self._speed\\n    \\n    @speed.setter\\n    def speed(self, speed):\\n        if speed > self.top_speed:\\n            raise ValueError('Speed cannot exceed top_speed')\\n        self._speed = speed\\n\\n    def run(self):\\n        print('The car is running')\\n\\nauto = Auto('Ford', 'Model T', 1908, 45, 10)\\nprint(auto.speed)\\n# auto.speed = 100 # raise ValueError here\\nauto.speed = 20\\nauto.debug()\", \"def complete_ordering(cls):\\n    if '__eq__' in dir(cls) and '__lt__' in dir(cls):\\n        cls.__le__ = lambda self, other: self < other or self == other\\n        cls.__gt__ = lambda self, other: not (self < other or self == other) # raise TypeError if other of unsupported type\\n        cls.__ge__ = lambda self, other: not (self < other)\\n        cls.__ne__ = lambda self, other: not (self == other)\\n    return cls\\n\\n@complete_ordering\\nclass Point:\\n    def __init__(self, x, y):\\n        self.x = x\\n        self.y = y\\n\\n    def __abs__(self):\\n        return (self.x ** 2 + self.y ** 2) ** 0.5\\n    \\n    def __repr__(self):\\n        return f'Point({self.x}, {self.y})'\\n    \\n    def __eq__(self, other):\\n        if isinstance(other, Point):\\n            return self.x == other.x and self.y == other.y\\n        else:\\n            return False\\n        \\n    def __lt__(self, other):\\n        if isinstance(other, Point):\\n            return abs(self) < abs(other)\\n        else:\\n            return NotImplemented\\n\\np1, p2, p3 = Point(1, 2), Point(1, 2), Point(2, 3)\\nn = 1\\nprint(f'{(p1 == p2)=}')\\nprint(f'{(p1 != p2)=}')\\nprint(f'{(p1 > p2)=}')\\nprint(f'{(p1 >= p2)=}')\\nprint(f'{(p1 < p2)=}')\\nprint(f'{(p1 <= p2)=}')\\nprint(f'{(p1 < p3)=}')\\nprint(f'{(p1 >= p3)=}')\\nprint(f'{(p1 != 1)=}')\\n# print(f'{(p1 < 1)=}') # raise TypeError\\n# print(f'{(p1 > 1)=}')\\n# print(f'{(p1 >= 1)=}')\", \"from functools import total_ordering\\n\\n# Given a class defining one or more rich comparison ordering methods, this class decorator supplies the rest.\\n# The class must define one of __lt__(), __le__(), __gt__(), or __ge__(). In addition, the class should supply an __eq__() method.\\n@total_ordering\\nclass Point:\\n    def __init__(self, x, y):\\n        self.x = x\\n        self.y = y\\n\\n    def __abs__(self):\\n        return (self.x ** 2 + self.y ** 2) ** 0.5\\n    \\n    def __repr__(self):\\n        return f'Point({self.x}, {self.y})'\\n    \\n    def __eq__(self, other):\\n        if isinstance(other, Point):\\n            return self.x == other.x and self.y == other.y\\n        else:\\n            return False\\n        \\n    def __lt__(self, other):\\n        if isinstance(other, Point):\\n            return abs(self) < abs(other)\\n        else:\\n            return NotImplemented\\n        \\np1, p2, p3 = Point(1, 2), Point(1, 2), Point(2, 3)\\nn = 1\\nprint(f'{(p1 == p2)=}')\\nprint(f'{(p1 != p2)=}')\\nprint(f'{(p1 > p2)=}')\\nprint(f'{(p1 >= p2)=}')\\nprint(f'{(p1 < p2)=}')\\nprint(f'{(p1 <= p2)=}')\\nprint(f'{(p1 < p3)=}')\\nprint(f'{(p1 >= p3)=}')\\nprint(f'{(p1 != 1)=}')\\n# print(f'{(p1 < 1)=}') # raise TypeError\\n# print(f'{(p1 > 1)=}')\\n# print(f'{(p1 >= 1)=}')\", \"from html import escape\\nfrom decimal import Decimal\\n\\ndef html_escape(obj):\\n    return escape(str(obj))\\n\\ndef html_int(i):\\n    return f'{i} (<i>{hex(i)}</i>)'\\n\\ndef html_real(r):\\n    return f'{r:.2f}'\\n\\ndef html_str(s):\\n    return html_escape(s).replace('\\\\n', '<br>\\\\n')\\n\\ndef html_list(l):\\n    items = (f'<li>{htmlize(item)}</li>' for item in l)\\n    return '<ul>\\\\n' + '\\\\n'.join(items) + '\\\\n</ul>'\\n\\ndef html_dict(d):\\n    items = (f'<li>{html_escape(k)}={htmlize(v)}</li>' for k, v in d.items())\\n    return '<ul>\\\\n' + '\\\\n'.join(items) + '\\\\n</ul>'\\n\\ndef htmlize(arg):\\n    registry = {\\n        object: html_escape,\\n        int: html_int,\\n        float: html_real,\\n        Decimal: html_real,\\n        str: html_str,\\n        list: html_list,\\n        tuple: html_list,\\n        set: html_list,\\n        dict: html_dict\\n    }\\n    return registry.get(type(arg), registry[object])(arg)\\n\\nprint(htmlize(['a', 1, 1.2, 'hello\\\\nworld, 1 > 2 != 3',\\n               (True, False, None),\\n               {1: '1', 2: '2', 3: '3'},\\n               {'x', 'y', 'z'}]))\", \"from html import escape\\n\\ndef single_dispatch(fn):\\n    registry = {}\\n    registry[object] = fn\\n\\n    def decorated(arg):\\n        return registry.get(type(arg), registry[object])(arg)\\n\\n    def register(type_):\\n        def inner(fn_extension):\\n            registry[type_] = fn_extension\\n            return fn_extension # just return back the decorated function as it is\\n        return inner\\n\\n    def dispatch(type_):\\n        return registry.get(type_, registry[object])\\n\\n    decorated.register = register\\n    decorated.dispatch = dispatch\\n    decorated.registry = registry\\n    return decorated\\n\\n@single_dispatch\\ndef htmlize(obj):\\n    return escape(str(obj))\\n\\nprint(f'{htmlize.__name__=}')\\nprint(f'{htmlize.register=}')\\nprint(htmlize('I can fly!\\\\n1 < 100'))\\n\\n# register decorator can be stacked because it returns back the decorated function as it is\\n@htmlize.register(set)\\n@htmlize.register(tuple)\\n@htmlize.register(list)\\ndef html_sequence(sequence):\\n    items = (f'<li>{htmlize(item)}</li>' for item in sequence)\\n    return '<ul>\\\\n' + '\\\\n'.join(items) + '\\\\n</ul>'\\n\\nprint(htmlize(['a', 'b', 'c']))\\nprint(htmlize(('1', '2', '3')))\\nprint(htmlize.registry)\\nprint(htmlize.dispatch(int))\", \"london = 'London', 'UK', 8780000\\nnew_york = 'New York', 'USA', 8500000\\nbeijing = 'Beijing', 'China', 21000000\\ncities = [london, new_york, beijing]\\n\\ntotal = 0\\n# for city in cities:\\n#     total += city[2]\\nfor *_, population in cities:\\n    total += population\\nprint(total)\\n\\ntotal = sum(city[2] for city in cities)\\nprint(total)\", \"# random.uniform(a, b)\\n# Return a random floating point number N such that a <= N <= b for a <= b and b <= N <= a for b < a.\\nfrom random import uniform\\n\\ndef random_shot(radius=1):\\n    random_x = uniform(-radius, radius)\\n    random_y = uniform(-radius, radius)\\n\\n    is_in_circle = random_x ** 2 + random_y ** 2 <= radius ** 2\\n    return random_x, random_y, is_in_circle\\n\\ndef in_circle_rate(repetitions):\\n    count = 0\\n    for _ in range(repetitions):\\n        *_, inside = random_shot()\\n        count += inside # bool is indeed subclass of int\\n    return count / repetitions\\n\\nprint(f'Pi = {in_circle_rate(1000) * 4}')\\nprint(f'Pi = {in_circle_rate(10000) * 4}')\\nprint(f'Pi = {in_circle_rate(100000) * 4}')\\nprint(f'Pi = {in_circle_rate(1000000) * 4}')\", \"from collections import namedtuple\\n\\nPoint2D = namedtuple('Point2D', 'x y')\\n\\ndef dot_product(a, b):\\n    return sum(p[0] * p[1] for p in zip(a, b))\\n\\np1 = Point2D(x=1, y=2)\\n# p1 = Point2D(x=1, y=2, y=3) # SyntaxError: keyword argument repeated: y\\np2 = Point2D(3, 4)\\np3 = Point2D(1, 2)\\nprint(f'{p1=}')\\nprint(f'{type(p2)=}')\\nprint(f'{isinstance(p2, tuple)=}')\\nprint(f'{p1.x=}, {p1.y=}')\\nprint(f'{p2.x=}, {p2.y=}')\\nprint(f'{p3.x=}, {p3.y=}')\\nprint(f'{(p1 == p3)=}')\\nx, y = p1\\nprint(f'{x=}, {y=}')\\nprint(f'p1 dot p2 = {dot_product(p1, p2)}')\\nprint(p1._asdict())\\nprint(Point2D._fields)\\n# print(Point2D._source) # removed in version 3.7\\np1_sliced = p1[:1]\\nprint(f'{p1_sliced=}')\\nprint(f'{type(p1_sliced)=}')\\n# print(f'{(p1_sliced._fields)=}') # after slicing it be a normal tuple\", \"from collections import namedtuple\\n\\nPoint2D = namedtuple('Point2D', 'x y')\\np1 = Point2D(1, 2)\\nprint(f'{p1=} @ {hex(id(p1))}')\\np1 = Point2D(p1.x, y=3)\\nprint(f'{p1=} @ {hex(id(p1))}')\\np1 = p1._replace(y=4) # create a new instance by replacing some values with keyword arguments\\nprint(f'{p1=} @ {hex(id(p1))}')\\n\\nPoint3D = namedtuple('Point3D', Point2D._fields + ('z',)) # extend named tuple\\np2 = Point3D._make(p1 + (5,))\\nprint(f'{p2=} @ {hex(id(p2))}')\\np3 = Point3D(*p1, 6)\\nprint(f'{p3=} @ {hex(id(p3))}')\", \"from collections import namedtuple\\n\\nPoint2D = namedtuple('Point2D', 'x y')\\np1 = Point2D(1, 1)\\nprint(Point2D.__doc__)\\nprint(Point2D.x.__doc__)\\nprint(Point2D.y.__doc__)\", \"from collections import namedtuple\\n\\nVector2D = namedtuple('Vector2D', 'x1 y1 x2 y2 origin_x origin_y')\\nVector2D.__new__.__defaults__ = (0, 0)\\nv1 = Vector2D(1, 1, 2, 2)\\nprint(v1)\\n\\nVector2D = namedtuple('Vector2D', 'x1 y1 x2 y2 origin_x origin_y', defaults=(10, 10))\\nv2 = Vector2D(3, 3, 4, 4)\\nprint(v2)\", \"from random import randint, random\\nfrom collections import namedtuple\\n\\nColor = namedtuple('Color', 'red green blue alpha', defaults=(0, 0, 0, 0))\\n\\ndef random_color():\\n    rgb = (randint(0, 255) for _ in range(3))\\n    a = round(random(), 2)\\n    return Color(*rgb, a)\\n\\nc1 = random_color()\\nc2 = random_color()\\nc3 = random_color()\\nprint(c1)\\nprint(c2)\\nprint(c3)\", \"# alternative to dictionaries\\n\\nfrom collections import namedtuple\\n\\ndata_dict = {'key1': 1, 'key2': 2, 'key3': 3}\\n\\nData = namedtuple('Data', data_dict.keys())\\ndata = Data(**data_dict)\\nprint(data)\\nprint(data._asdict())\\nkey_name = 'key1'\\nprint(f'{getattr(data, key_name)=}')\\nprint(f'{data.key1=}')\", \"# convert a list of dictionaries to a list of named tuples\\n\\nfrom collections import namedtuple\\n\\ndata_dicts = [\\n    {'key1': 1, 'key2': 2},\\n    {'key1': 3, 'key2': 4},\\n    {'key1': 5, 'key2': 6, 'key3': 7},\\n    {'key2': 100}\\n]\\n\\n# keys = set(key for key in data_dict for data_dict in data_dicts)\\n# keys = {key for key in data_dict for data_dict in data_dicts}\\nkeys = {key for data_dict in data_dicts for key in data_dict}\\nprint(keys)\\nData = namedtuple('Data', sorted(keys), defaults=(None for _ in keys))\\ndata_list = [Data(**data_dict) for data_dict in data_dicts]\\nprint(data_list)\", \"from collections import namedtuple\\n\\ndef tuplize_dicts(dicts, struct_name=None):\\n    struct_name = struct_name or 'Struct'\\n    keys = {key for dict_ in dicts for key in dict_}\\n    Struct = namedtuple(struct_name, sorted(keys), rename=True, defaults=(None for _ in keys))\\n    return [Struct(**dict_) for dict_ in dicts]\\n\\ndata_dicts = [\\n    {'key1': 1, 'key2': 2},\\n    {'key1': 3, 'key2': 4},\\n    {'key1': 5, 'key2': 6, 'key3': 7},\\n    {'key2': 100}\\n]\\n\\ndata_list = tuplize_dicts(data_dicts, 'Data')\\nprint(data_list)\", \"import math\\nimport fractions\\nimport sys\\nimport types\\n\\nprint(math) # a built-in module (written in C), providing access to system functionality\\nprint(fractions) # a standard library module (written in Python), providing standardized solutions for many problems that occur in everyday programming\\nprint(sys) # built-in\\nprint(types) # standard library\\nprint(type(math))\\nprint(math.__dict__)\\nprint(dir(math))\\nprint(isinstance(math, types.ModuleType))\\nprint(math.__dict__['pi'])\\nprint(getattr(math, 'pi'))\\n\\n# globals()\\n# return the dictionary implementing the current module namespace\\n# for code within functions, this is set when the function is defined and remains the same regardless of where the function is called\\nprint(globals())\\n\\n# locals()\\n# update and return a dictionary representing the current local symbol table\\n# free variables are returned by locals() when it is called in function blocks, but not in class blocks\\n# at the module level, locals() and globals() are the same dictionary\\nprint(locals())\\nprint(globals() is locals())\\n\\nprint(sys.modules)\"], 'Out': {10: True, 11: True, 12: False, 16: (None, 1440, (1, 2, 1, 2, 1, 2, 1, 2, 1, 2), 'abababababababababab', 'abcabcabcabcabcabcabc', '1', '2', 3), 17: (None, (1, 2, 3)), 51: ('x', 'y', (1, 2, 3), 'z', {'kw1': '1', 'kw2': '2'}), 86: 'Person says Hello world!', 88: ['time: 2024-01-15 20:54:25.376760+00:00', 'class: Auto', 'id: 0x2185dac6420', 'make: Ford', 'model: Model T', 'year: 1908', 'top_speed: 45', '_speed: 20']}, 'get_ipython': <bound method InteractiveShell.get_ipython of <ipykernel.zmqshell.ZMQInteractiveShell object at 0x000002185DA88A40>>, 'exit': <IPython.core.autocall.ZMQExitAutocall object at 0x000002185DA8B3E0>, 'quit': <IPython.core.autocall.ZMQExitAutocall object at 0x000002185DA8B3E0>, 'open': <function open at 0x000002185BB06980>, '_': ['Beijing', 'China'], '__': 'Person says Hello world!', '___': ('x', 'y', (1, 2, 3), 'z', {'kw1': '1', 'kw2': '2'}), '__vsc_ipynb_file__': 'd:\\\\Study\\\\Programming\\\\Python\\\\python_deep_dive\\\\python3_deep_dive_p1.ipynb', '_i': \"from collections import namedtuple\\n\\ndef tuplize_dicts(dicts, struct_name=None):\\n    struct_name = struct_name or 'Struct'\\n    keys = {key for dict_ in dicts for key in dict_}\\n    Struct = namedtuple(struct_name, sorted(keys), rename=True, defaults=(None for _ in keys))\\n    return [Struct(**dict_) for dict_ in dicts]\\n\\ndata_dicts = [\\n    {'key1': 1, 'key2': 2},\\n    {'key1': 3, 'key2': 4},\\n    {'key1': 5, 'key2': 6, 'key3': 7},\\n    {'key2': 100}\\n]\\n\\ndata_list = tuplize_dicts(data_dicts, 'Data')\\nprint(data_list)\", '_ii': \"# convert a list of dictionaries to a list of named tuples\\n\\nfrom collections import namedtuple\\n\\ndata_dicts = [\\n    {'key1': 1, 'key2': 2},\\n    {'key1': 3, 'key2': 4},\\n    {'key1': 5, 'key2': 6, 'key3': 7},\\n    {'key2': 100}\\n]\\n\\n# keys = set(key for key in data_dict for data_dict in data_dicts)\\n# keys = {key for key in data_dict for data_dict in data_dicts}\\nkeys = {key for data_dict in data_dicts for key in data_dict}\\nprint(keys)\\nData = namedtuple('Data', sorted(keys), defaults=(None for _ in keys))\\ndata_list = [Data(**data_dict) for data_dict in data_dicts]\\nprint(data_list)\", '_iii': \"# alternative to dictionaries\\n\\nfrom collections import namedtuple\\n\\ndata_dict = {'key1': 1, 'key2': 2, 'key3': 3}\\n\\nData = namedtuple('Data', data_dict.keys())\\ndata = Data(**data_dict)\\nprint(data)\\nprint(data._asdict())\\nkey_name = 'key1'\\nprint(f'{getattr(data, key_name)=}')\\nprint(f'{data.key1=}')\", '_i1': 'import this', 'this': <module 'this' from 'c:\\\\Users\\\\FREEDEMPIRE-XL\\\\AppData\\\\Local\\\\Programs\\\\Python\\\\Python312\\\\Lib\\\\this.py'>, '_i2': 'my_list = [\\n    1, # item 1\\n    2, # item 2\\n    3, # item 3\\n]\\n\\ndef my_func(\\n    a,\\n    b, # comment\\n):\\n    print(a, b)\\n\\nprint(my_list)\\nmy_func(10, #comment\\n        20)', 'my_list': [1, 2, 3], 'my_func': <function my_func at 0x000002185DB6C900>, '_i3': \"a = 1\\nb = 2\\nc = 3\\nif a < b \\\\\\n    and b < c \\\\\\n    and a < c:\\n    print('yes')\", 'a': 10, 'b': [2, 3], 'c': 'y', '_i4': \"class Rectangle:\\n    def __init__(self, width, height):\\n        self.width = width # this actually calls the setter of width\\n        self.height = height\\n\\n    @property\\n    def width(self):\\n        return self._width\\n    \\n    @width.setter\\n    def width(self, width):\\n        if width > 0:\\n            self._width = width\\n        else:\\n            raise ValueError('Width should be greater than 0.')\\n        \\n    @property\\n    def height(self):\\n        return self._height\\n    \\n    @height.setter\\n    def height(self, height):\\n        if height > 0:\\n            self._height = height\\n        else:\\n            raise ValueError('Height should be greater than 0.')\\n        \\n    def perimeter(self):\\n        return (self._width + self._height) * 2\\n    \\n    def area(self):\\n        return self._width * self._height\\n    \\n    def __repr__(self):\\n        return f'Rectangle({self._width}, {self._height})'\\n    \\n    def __str__(self):\\n        return f'Rectangle: width {self._width}, height {self._height}'\\n    \\n    def __eq__(self, other):\\n        if isinstance(other, type(self)):\\n        # if issubclass(type(other), type(self)):\\n            return self._width == other._width and self._height == other._height\\n        else:\\n            return False\\n        \\n    def __gt__(self, other):\\n        if issubclass(type(other), type(self)):\\n            return self.area() > other.area()\\n        else:\\n            return NotImplemented\\n        \\n    def __ge__(self, other):\\n        if issubclass(type(other), type(self)):\\n            return self.area() >= other.area()\\n        else:\\n            return NotImplemented\\n        \\nrect1 = Rectangle(10, 5)\\nprint(rect1)\\nprint(repr(rect1))\\nrect1.width = 20\\nprint(f'width: {rect1.width}, height: {rect1.height}')\\nprint(f'Perimeter: {rect1.perimeter()}')\\nprint(f'Area: {rect1.area()}')\\n# rect1.width = 0\\n\\n# rect2 = Rectangle(0, 5)\\nrect2 = Rectangle(20, 5)\\nprint(rect1 == rect2)\\n\\nrect3 = Rectangle(10, 5)\\nprint(f'{rect2.area()=}, {rect3.area()=}')\\nprint('rect2 == rect3:', rect2 == rect3)\\nprint('rect2 != rect3:', rect2 != rect3)\\nprint('rect2 > rect3:', rect2 > rect3)\\nprint('rect2 >= rect3:', rect2 >= rect3)\\nprint('rect2 < rect3:', rect2 < rect3)\\nprint('rect2 == 3:', rect2 == 3)\\n# print('rect2 > 3:', rect2 > 3)\", 'Rectangle': <class '__main__.Rectangle'>, 'rect1': Rectangle(20, 5), 'rect2': Rectangle(20, 5), 'rect3': Rectangle(10, 5), '_i5': 'my_var = 10\\nprint(my_var)\\nprint(id(my_var))\\nprint(hex(id(my_var)))', 'my_var': 10, '_i6': \"import sys\\nimport ctypes\\n\\nmy_list = [1, 2, 3]\\naddress_my_list = id(my_list)\\nmy_list2 = my_list\\nprint('id(my_list) == id(my_list2):', address_my_list == id(my_list2))\\n\\nprint(f'{sys.getrefcount(my_list)=}')\\nprint(f'{ctypes.c_long.from_address(address_my_list).value=}')\", 'sys': <module 'sys' (built-in)>, 'ctypes': <module 'ctypes' from 'c:\\\\Users\\\\FREEDEMPIRE-XL\\\\AppData\\\\Local\\\\Programs\\\\Python\\\\Python312\\\\Lib\\\\ctypes\\\\__init__.py'>, 'address_my_list': 2303674087104, 'my_list2': [1, 2, 3], '_i7': \"import ctypes\\nimport gc\\n\\ndef get_ref_count(address):\\n    return ctypes.c_long.from_address(address).value\\n\\ndef check_obj_by_address(address):\\n    for obj in gc.get_objects():\\n        if id(obj) == address:\\n            return 'Object exists'\\n    return 'Obj not found'\\n\\nclass A:\\n    def __init__(self):\\n        self.b = B(self)\\n        print(f'A: self={id(self)}, b={id(self.b)}')\\n\\nclass B:\\n    def __init__(self, a):\\n        self.a = a\\n        print(f'B: self={id(self)}, a={id(self.a)}')\\n\\ngc.disable()\\n\\na = A()\\naddress_a = id(a)\\naddress_b = id(a.b)\\nprint('a reference count:', get_ref_count(address_a))\\nprint('b reference count:', get_ref_count(address_b))\\nprint('a:', check_obj_by_address(address_a))\\nprint('b:', check_obj_by_address(address_b))\\n\\nprint('\\\\nRemove variable a')\\na = None\\nprint('a reference count:', get_ref_count(address_a))\\nprint('b reference count:', get_ref_count(address_b))\\nprint('a:', check_obj_by_address(address_a))\\nprint('b:', check_obj_by_address(address_b))\\n\\nprint('\\\\nTurn on gc')\\ngc.collect()\\nprint('a reference count:', get_ref_count(address_a))\\nprint('b reference count:', get_ref_count(address_b))\\nprint('a:', check_obj_by_address(address_a))\\nprint('b:', check_obj_by_address(address_b))\", 'gc': <module 'gc' (built-in)>, 'get_ref_count': <function get_ref_count at 0x000002185DAD6700>, 'check_obj_by_address': <function check_obj_by_address at 0x000002185DAD65C0>, 'A': <class '__main__.A'>, 'B': <class '__main__.B'>, 'address_a': 2303673496496, 'address_b': 2303649047920, '_i8': \"a = 10\\nprint(f'{id(a)=}')\\na += 1\\nprint(f'{id(a)=}')\", '_i9': \"t = ([1, 2], [3, 4])\\nprint(f'{t=}, {id(t)=}')\\nt[0].append(5)\\nprint(f'{t=}, {id(t)=}')\", 't': ([1, 2, 5], [3, 4]), '_i10': 'a = 10\\nb = 10\\nid(a) == id(b)', '_10': True, '_i11': \"s1 = 'hello'\\ns2 = 'hello'\\nid(s1) == id(s2)\", 's1': {'h', 'p', 'o', 'y', 't', 'n'}, 's2': {'h', 't', 'n', 'p', 'o', 'y'}, '_11': True, '_i12': 'list1 = [1, 2, 3]\\nlist2 = [1, 2, 3]\\nid(list1) == id(list2)', 'list1': [1, 2, 3], 'list2': [1, 2, 3], '_12': False, '_i13': \"a = 10\\nb = 10\\nprint(f'{id(a)=}, {id(b)=}')\\nprint('a is b:', a is b)\\n\\na = 257\\nb = 257\\nprint(f'{id(a)=}, {id(b)=}')\\nprint('a is b:', a is b)\", '_i14': \"import sys\\n\\na = 'hello'\\nb = 'hello'\\nprint(f'{id(a)=}, {id(b)=}')\\nprint('a is b:', a is b)\\n\\na = 'hello world'\\nb = 'hello world'\\nprint(f'{id(a)=}, {id(b)=}')\\nprint('a is b:', a is b)\\n\\na = sys.intern('the quick brown fox')\\nb = sys.intern('the quick brown fox')\\nc = 'the quick brown fox'\\nprint(f'{id(a)=}, {id(b)=}, {id(c)=}')\\nprint('a is b:', a is b)\\nprint('a is c:', a is c)\", '_i15': \"from sys import intern\\nfrom time import perf_counter\\n\\ndef compare_using_equals(n):\\n    a = 'a very long string that is not automatically interned' * 200\\n    b = 'a very long string that is not automatically interned' * 200\\n    print('a is b:', a is b)\\n    for _ in range(n):\\n        if a == b:\\n            pass\\n\\ndef compare_using_is(n):\\n    a = intern('a very long string that is not automatically interned' * 200)\\n    b = intern('a very long string that is not automatically interned' * 200)\\n    print('a is b:', a is b)\\n    for _ in range(n):\\n        if a is b:\\n            pass\\n\\nstart = perf_counter()\\ncompare_using_equals(10000000)\\nend = perf_counter()\\nprint('Equals:', end - start)\\n\\nstart = perf_counter()\\ncompare_using_is(10000000)\\nend = perf_counter()\\nprint('Is:', end - start)\", 'intern': <built-in function intern>, 'perf_counter': <built-in function perf_counter>, 'compare_using_equals': <function compare_using_equals at 0x000002185DAD6020>, 'compare_using_is': <function compare_using_is at 0x000002185DAD5F80>, 'start': 347676.5040796, 'end': 347677.0509796, '_i16': \"def my_func():\\n    a = 24 * 60\\n    b = (1, 2) * 5\\n    c = 'ab' * 10\\n    d = 'abc' * 7\\n    e = ['1', '2'] * 3\\n\\nmy_func.__code__.co_consts\", '_16': (None, 1440, (1, 2, 1, 2, 1, 2, 1, 2, 1, 2), 'abababababababababab', 'abcabcabcabcabcabcabc', '1', '2', 3), '_i17': 'def my_func():\\n    for e in [1, 2, 3]:\\n        pass\\n\\nmy_func.__code__.co_consts', '_17': (None, (1, 2, 3)), '_i18': \"import string\\nimport time\\n\\nchar_tuple = tuple(string.ascii_letters)\\nchar_set = set(string.ascii_letters)\\n\\ndef membership_test(n, container):\\n    for _ in range(n):\\n        if 'z' in container:\\n            pass\\n\\nn = 10000000\\nstart = time.perf_counter()\\nmembership_test(n, char_tuple)\\nend = time.perf_counter()\\nprint('Tuple:', end - start)\\n\\nstart = time.perf_counter()\\nmembership_test(n, char_set)\\nend = time.perf_counter()\\nprint('Set:', end - start)\", 'string': <module 'string' from 'c:\\\\Users\\\\FREEDEMPIRE-XL\\\\AppData\\\\Local\\\\Programs\\\\Python\\\\Python312\\\\Lib\\\\string.py'>, 'time': <module 'time' (built-in)>, 'char_tuple': ('a', 'b', 'c', 'd', 'e', 'f', 'g', 'h', 'i', 'j', 'k', 'l', 'm', 'n', 'o', 'p', 'q', 'r', 's', 't', 'u', 'v', 'w', 'x', 'y', 'z', 'A', 'B', 'C', 'D', 'E', 'F', 'G', 'H', 'I', 'J', 'K', 'L', 'M', 'N', 'O', 'P', 'Q', 'R', 'S', 'T', 'U', 'V', 'W', 'X', 'Y', 'Z'), 'char_set': {'q', 'O', 'B', 'N', 'M', 'r', 'I', 'u', 'A', 'g', 'C', 'i', 'e', 'J', 'S', 'R', 'W', 'o', 'D', 'V', 'c', 't', 'T', 'd', 'G', 'j', 'a', 'f', 'P', 'h', 'v', 'H', 'Q', 'z', 'k', 'Z', 's', 'n', 'L', 'l', 'p', 'F', 'U', 'y', 'E', 'b', 'x', 'Y', 'w', 'm', 'X', 'K'}, 'membership_test': <function membership_test at 0x000002185DAD6AC0>, 'n': 1, '_i19': \"import sys\\n\\nprint(f'{type(1)=}')\\nprint(f'{sys.getsizeof(1)=}', 'bytes')\\nprint(f'{sys.getsizeof(0)=}', 'bytes')\", '_i20': \"print('10 / 2 =', 10 / 2)\\nprint('10 // 3 =', 10 // 3)\\nprint('10 % 3 =', 10 % 3)\\nprint('10 // -3 =', 10 // -3)\\nprint('10 % -3 =', 10 % -3)\\nprint('-10 // 3 =', -10 // 3)\\nprint('-10 % 3 =', -10 % 3)\\nprint('-10 // -3 =', -10 // -3)\\nprint('-10 % -3 =', -10 % -3)\", '_i21': 'from decimal import Decimal\\n\\nprint(f\\'{int()=}\\')\\nprint(f\\'{int(10)=}\\')\\nprint(f\\'{int(10.1)=}\\')\\nprint(f\\'{int(Decimal(\"10.1\"))=}\\')\\n# print(f\\'{int(\"10.1\")=}\\')\\nprint(f\\'{int(\"10\")=}\\')\\nprint(f\\'{int(\"010\")=}\\')\\n# print(f\\'{int(\"010\", 0)=}\\')\\nprint(f\\'{int(\"010\", 2)=}\\')\\nprint(f\\'{int(\"0b10\", 0)=}\\')', 'Decimal': <class 'decimal.Decimal'>, '_i22': 'import string\\n\\ndef rebase(number: int, base: int):\\n    \"\"\"Rebase base 10 integer number to the designated base\"\"\"\\n    if number == 0:\\n        return \\'0\\'\\n    if base < 2 or base > 36:\\n        raise ValueError(\\'Invalid base: 2 <= base <= 36\\')\\n    \\n    base_letters = string.digits + string.ascii_lowercase\\n\\n    # if number < 0:\\n    #     sign = \\'-\\'\\n    #     number = abs(number)\\n    # else:\\n    #     sign = \\'\\'\\n    number, sign = (number, \\'\\') if number > 0 else (-number, \\'-\\')\\n    \\n    rebased = \\'\\'\\n\\n    while number > 0:\\n        rebased = base_letters[number % base] + rebased\\n        number = number // base\\n        # number, mod = divmod(number, base)\\n        # rebased = base_letters[mod] + rebased\\n\\n    return sign + rebased\\n\\nprint(f\\'{rebase(0, 2)=}\\')\\nprint(f\\'{rebase(10, 2)=}\\')\\nprint(f\\'{rebase(-10, 2)=}\\')\\nprint(f\\'{rebase(9, 3)=}\\')\\nprint(f\\'{rebase(-106, 16)=}\\')\\nprint(f\\'{rebase(1485, 16)=}\\')\\nprint(f\\'{rebase(100, 36)=}\\')\\n# print(f\\'{rebase(5, 1)=}\\')', 'rebase': <function rebase at 0x000002185DAD6A20>, '_i23': 'from fractions import Fraction\\n\\nprint(f\\'{Fraction()=}\\')\\nprint(f\\'{Fraction(1, 10)=}\\')\\nprint(f\\'{Fraction(0.1)=}\\') # using float is meaningless, as it may not have an exact representation in base 2\\nprint(f\\'{Fraction(\"0.1\")=}\\')\\nprint(\\'Fraction(0.1) == Fraction(1, 10):\\', Fraction(0.1) == Fraction(1, 10))\\nprint(\\'Fraction(\"0.1\") == Fraction(1, 10):\\', Fraction(\\'0.1\\') == Fraction(1, 10))\\nprint(f\\'{Fraction(\"22/7\")=}\\')\\n\\nprint(Fraction(1, 2) + Fraction(1, 3))\\n\\nx = Fraction(7, 22)\\nprint(f\\'{x.numerator=}\\')\\nprint(f\\'{x.denominator=}\\')\\nx = Fraction(7, -22)\\nprint(f\\'{x.numerator=}\\')\\nprint(f\\'{x.denominator=}\\')', 'Fraction': <class 'fractions.Fraction'>, 'x': 1, '_i24': 'import math\\nfrom fractions import Fraction\\n\\nx = Fraction(math.pi)\\nprint(x)\\nprint(x.limit_denominator())\\nprint(x.limit_denominator(10))\\nprint(x.limit_denominator(100))\\nprint(x.limit_denominator(10000))', 'math': <module 'math' (built-in)>, '_i25': \"print('\\\\nFloats may not have exact representations in computer:')\\nprint('0.1:', f'{0.1:.25f}')\\nprint('0.1 + 0.1 + 0.1 == 0.3:', 0.1 + 0.1 + 0.1 == 0.3)\\n\\nprint('\\\\nBecause of the inexact internal representation, the result of round() may also be surprising.')\\nprint(f'{round(1.25, 1)=}')\\nprint(f'{round(1.225, 2)=}')\", '_i26': \"import sys\\nimport math\\n\\nx = 0.1 + 0.1 + 0.1\\ny = 0.3\\nepsilon = sys.float_info.epsilon\\n\\nprint(f'{x=}, {y=}')\\nprint('x == y:', x == y)\\nprint('x is close y:', math.isclose(x, y, rel_tol=epsilon, abs_tol=epsilon))\", 'y': 2, 'epsilon': 2.220446049250313e-16, '_i27': 'import math\\n\\ndef traditional_round(f: float):\\n    \"\"\"Round away from zero\"\"\"\\n    return int(f + math.copysign(0.5, f))\\n\\nf = -10.5\\nprint(f\\'{f=}\\')\\nprint(f\\'{round(f)=}\\')\\nprint(f\\'{traditional_round(f)=}\\')\\n\\nf = -10.6\\nprint(f\\'{f=}\\')\\nprint(f\\'{round(f)=}\\')\\nprint(f\\'{traditional_round(f)=}\\')', 'traditional_round': <function traditional_round at 0x000002185DAD6D40>, 'f': <function <lambda> at 0x000002185DAD7380>, '_i28': \"import decimal\\nfrom decimal import Decimal\\n\\nctx = decimal.getcontext()\\nprint(ctx)\\nprint(f'{ctx.prec=}')\\nprint(f'{ctx.rounding=}')\\n\\nwith decimal.localcontext() as ctx:\\n    ctx.rounding = decimal.ROUND_HALF_UP\\n    print('local context:', ctx)\\n    print('getcontext:', decimal.getcontext()) # getcontext will actually get local context\\n    print(f'inside: {round(Decimal('1.25'), 1)=}')\\n\\nprint(f'outside: {round(Decimal('1.25'), 1)=}')\", 'decimal': <module 'decimal' from 'c:\\\\Users\\\\FREEDEMPIRE-XL\\\\AppData\\\\Local\\\\Programs\\\\Python\\\\Python312\\\\Lib\\\\decimal.py'>, 'ctx': Context(prec=28, rounding=ROUND_HALF_UP, Emin=-999999, Emax=999999, capitals=1, clamp=0, flags=[Inexact, Rounded], traps=[InvalidOperation, DivisionByZero, Overflow]), '_i29': 'from decimal import Decimal\\n\\nprint(f\\'{Decimal(1)=}\\')\\nprint(f\\'{Decimal(3.14)=}\\')\\nprint(f\\'{Decimal(\"3.14\")=}\\')\\nprint(f\\'{Decimal((1, (3, 1, 4), -2))=}\\')', '_i30': \"import decimal\\nfrom decimal import Decimal\\n\\ndecimal.getcontext().prec = 2\\n\\na = Decimal('0.12345')\\nb = Decimal('0.12345')\\nc = a + b\\nprint(f'{a=}, {b=}')\\nprint('a + b =', c)\\nprint(f'{c=}') # the actual value of c has been permanently affected by precision\", '_i31': \"import math\\nimport decimal\\nfrom decimal import Decimal\\n\\nx = 0.01\\nx_dec = Decimal('0.01')\\n\\nroot = math.sqrt(x)\\nroot_mixed = math.sqrt(x_dec)\\nroot_dec = x_dec.sqrt()\\n\\nprint('root:', f'{root:.28f}')\\nprint('root_mixed:', f'{root_mixed:.28f}')\\nprint('root_dec:', f'{root_dec:.28f}')\\n\\nprint('\\\\nquantize method:')\\nprint(Decimal('7.325').quantize(Decimal('0.1'), rounding=decimal.ROUND_DOWN))\\nprint(Decimal('7.325').quantize(Decimal('0.1'), rounding=decimal.ROUND_UP))\\nprint(Decimal('7.325').quantize(Decimal('1'), rounding=decimal.ROUND_UP))\\nprint(Decimal('7.325').quantize(Decimal('1.'), rounding=decimal.ROUND_UP))\\nprint(Decimal('7.325').quantize(Decimal(1), rounding=decimal.ROUND_UP))\", 'x_dec': Decimal('0.01'), 'root': 0.1, 'root_mixed': 0.1, 'root_dec': Decimal('0.1'), '_i32': \"# Euler's identity\\n# e^(iπ) + 1 = 0\\n\\nimport cmath\\nimport math\\nimport sys\\n\\nepsilon = sys.float_info.epsilon\\n\\nprint('e^(iπ) + 1 = 0:', cmath.exp(1j * cmath.pi + 1) == 0)\\nprint('e^(iπ) + 1 is close 0:', cmath.isclose(cmath.exp(1j * cmath.pi) + 1, 0, rel_tol=epsilon, abs_tol=epsilon))\\n\\nprint(f'{cmath.rect(2 ** 0.5, cmath.pi / 4)=}')\\nprint('math.pi is cmath.pi:', math.pi is cmath.pi)\\nprint('math.pi == cmath.pi:', math.pi == cmath.pi)\", 'cmath': <module 'cmath' (built-in)>, '_i33': \"print('bool is subclass of int:', issubclass(bool, int))\\nprint('True is instance of bool:', isinstance(True, bool))\\nprint('False is instance of bool:', isinstance(False, bool))\\nprint(f'{int(True)=}')\\nprint(f'{int(False)=}')\\nprint('True == 1:', True == 1)\\nprint('False == 0:', False == 0)\\nprint('True is 1:', True is 1)\\nprint('True + True ==', True + True)\\nprint('True > False:', True > False)\\nprint('(1 == 2) == False:', (1 == 2) == False)\\nprint('(1 == 2) == 0:', (1 == 2) == 0)\\nprint('-True =', -True)\", '_i34': \"a = [1, 2, 3]\\n\\nif a: # work the same way as the code below but more concise\\n# if a is not None and len(a) > 0:\\n    print(a[0])\\nelse:\\n    print('Nothing to see here...')\", '_i35': \"def get_first_letter(s):\\n    # if s:\\n    #     return s[0]\\n    # else:\\n    #     return ''\\n    return s and s[0] or ''\\n\\ns1 = None\\ns2 = ''\\ns3 = 'abc'\\n\\nprint(f'{get_first_letter(s1)=}')\\nprint(f'{get_first_letter(s2)=}')\\nprint(f'{get_first_letter(s3)=}')\", 'get_first_letter': <function get_first_letter at 0x000002185DA5F7E0>, 's3': 'abc', '_i36': 'from fractions import Fraction\\nfrom decimal import Decimal\\n\\nprint(\\'1 == 1.0:\\', 1 == 1.0)\\nprint(\\'1.0 == Decimal(\"1.0\"):\\', 1.0 == Decimal(\"1.0\"))\\nprint(\\'1 == Fraction(3, 3):\\', 1 == Fraction(3, 3))\\nprint(\\'0.1 == Decimal(\"0.1\"):\\', 0.1 == Decimal(\"0.1\")) # floats representation issue\\nprint(\\'4 == 4 + 0j:\\', 4 == 4 + 0j)\\nprint(\\'3 < 2 < 4 / 0:\\', 3 < 2 < 4 / 0) # short-circuited', '_i37': \"def my_func(a, b=20, c=30):\\n    print(f'{a=}, {b=}, {c=}')\\n\\nmy_func(1, 2, 3)\\nmy_func(1, 2)\\nmy_func(b=20, a=10)\\nmy_func(10, c=40)\", '_i38': \"# parentheses are not necessary when defining a tuple, except for empty tuples\\na = (1, 2)\\nprint(type(a))\\na = 1, 2\\nprint(type(a))\\na = (1) # int\\nprint(type(a))\\na = (1,)\\nprint(type(a))\\na = 1,\\nprint(type(a))\\na = ()\\nprint(type(a))\\n\\na, b, c = 'str'\\nprint(f'{a=}, {b=}, {c=}')\", '_i39': \"s1 = set('python')\\ns2 = {'p', 'y', 't', 'h', 'o', 'n'}\\nd = {'p': 1, 'y': 2, 't': 3, 'h': 4, 'o': 5, 'n': 6}\\n\\ndef print_els(container):\\n    for c in container:\\n        print(c, end='')\\n    print()\\n\\nprint_els(s1)\\nprint_els(s2)\\nprint_els(d)\", 'd': {'a': 1, 'b': 2, 'c': 3, 'd': 4}, 'print_els': <function print_els at 0x000002185DAD71A0>, '_i40': \"my_list = [1, 2, 3, (4, 5, 6)]\\na, b, *c = my_list\\nprint(f'{a=}, {b=}, {c=}')\\na, *b, (c, d, e) = my_list # nested unpacking\\nprint(f'{a=}, {b=}, {c=}, {d=}, {e=}')\\na, *b, (c, *d) = my_list # multiple * operators on different levels of unpacking\\nprint(f'{a=}, {b=}, {c=}, {d=}')\\n\\nmy_string = 'uvwxyz'\\na, *b, c, d = my_string\\nprint(f'{a=}, {b=}, {c=}, {d=}')\\n\\nmy_set = {1, 2, 3}\\na, *b = my_set\\nprint(f'{a=}, {b=}')\\n*l, = my_set # convert my_set to a list\\nprint(l)\\n\\nl1 = [1, 2, 3]\\nl2 = [4, 5, 6]\\ns = 'abc'\\nl = [*l1, *l2, *s]\\nprint(l)\\n\\nd1 = {'a': 1, 'b': 2, 'c': 5}\\nd2 = {'c': 3, 'd': 4}\\nl = [*d1, *d2] # get all the keys of both dictionaries\\nd = {**d1, **d2} # merge dictionaries into one\\nprint(l)\\nprint(d)\", 'e': 6, 'my_string': 'uvwxyz', 'my_set': {1, 2, 3}, 'l': [1, 2, 3, 4, 5, 6, 7, 8, 9, 10], 'l1': [1, 2, 3, 4, 5], 'l2': [7, 8, 9], 's': 'abc', 'd1': {'a': 1, 'b': 2, 'c': 5}, 'd2': {'c': 3, 'd': 4}, '_i41': \"def average(number, *args):\\n    return (number + sum(args)) / (len(args) + 1)\\n\\ndef my_func(a, *b):\\n    print(f'{a=}, {b=}')\\n\\nprint(average(1, 2, 3))\\n\\nl = [1, 2, 3]\\nmy_func(*l)\", 'average': <function average at 0x000002185DAD7100>, '_i42': \"def calc_hi_lo_avg(*args, log_to_console=False):\\n    # hi = int(bool(args)) and max(args) # int(bool()) here can be changed to len(), because args will always be a tuple, not None\\n    hi = len(args) and max(args)\\n    lo = len(args) and min(args)\\n    avg = (hi + lo) / 2\\n    if log_to_console:\\n        print(f'{hi=}, {lo=}, {avg=}')\\n    return hi, lo, avg\\n\\nprint(calc_hi_lo_avg())\\nprint(calc_hi_lo_avg(1, 2, 3, 4, 5))\\nprint(calc_hi_lo_avg(1, 2, 3, 4, 5, log_to_console=True))\", 'calc_hi_lo_avg': <function calc_hi_lo_avg at 0x000002185DAD51C0>, '_i43': \"import time\\n\\ndef time_it(fn, *args, rep=1, **kwargs):\\n    start = time.perf_counter()\\n    for _ in range(rep):\\n        fn(*args, **kwargs)\\n    end = time.perf_counter()\\n    return (end - start) / rep\\n\\ndef compute_powers_1(n, *, start=1, end):\\n    result = []\\n    for i in range(start, end):\\n        result.append(n ** i)\\n    return result\\n\\ndef compute_powers_2(n, *, start=1, end):\\n    # using list comprehension\\n    return [n ** i for i in range(start, end)]\\n\\ndef compute_powers_3(n, *, start=1, end):\\n    # using generator expression\\n    return (n ** i for i in range(start, end))\\n\\nprint(f'{time_it(compute_powers_1, 2, rep=5, end=20000)=}')\\nprint(f'{time_it(compute_powers_2, 2, rep=5, end=20000)=}')\\nprint(f'{time_it(compute_powers_3, 2, rep=5, end=20000)=}')\", 'time_it': <function time_it at 0x000002185DAD6C00>, 'compute_powers_1': <function compute_powers_1 at 0x000002185DAD74C0>, 'compute_powers_2': <function compute_powers_2 at 0x000002185DAD7240>, 'compute_powers_3': <function compute_powers_3 at 0x000002185DAD7600>, '_i44': \"import datetime\\n\\n# buggy default value for dt\\ndef log_1(msg, *, dt=datetime.datetime.now(datetime.UTC)):\\n    print(f'{dt}: {msg}')\\n\\ndef log_2(msg, *, dt=None):\\n    dt = dt or datetime.datetime.now(datetime.UTC)\\n    print(f'{dt}: {msg}')\\n\\nlog_1('msg_1')\\nlog_1('msg_2')\\nprint('-'*10)\\nlog_2('msg_1')\\nlog_2('msg_2')\", 'datetime': <module 'datetime' from 'c:\\\\Users\\\\FREEDEMPIRE-XL\\\\AppData\\\\Local\\\\Programs\\\\Python\\\\Python312\\\\Lib\\\\datetime.py'>, 'log_1': <function log_1 at 0x000002185DAD72E0>, 'log_2': <function log_2 at 0x000002185DAD79C0>, '_i45': 'my_list = [1, 2]\\ndef func(a=my_list):\\n    print(a)\\n\\nfunc()\\nmy_list.append(3)\\nfunc() # the default value of a was changed unexpectedly', 'func': <__main__.Decorator object at 0x000002185DB43950>, '_i46': \"# another example of buggy default value\\ndef add_to_list(name, quantity=1, unit='unit', lst=[]):\\n    lst.append(f'{name}: {quantity} {unit}')\\n    return lst\\n\\nshopping_list_1 = add_to_list('apple', 2, 'kilo')\\nadd_to_list('milk', 1, 'liter', shopping_list_1)\\nprint(shopping_list_1)\\n\\nshopping_list_2 = add_to_list('chicken', 2, 'kilo')\\nadd_to_list('eggs', 2, 'dozen', shopping_list_2)\\nprint(shopping_list_2)\\n\\n# because the default value for lst has already been evaluated to the same address for the list when the function is defined\\nprint('shopping_list_1 is shopping_list_2:', shopping_list_1 is shopping_list_2)\", 'add_to_list': <function add_to_list at 0x000002185DAD7B00>, 'shopping_list_1': ['apple: 2 kilo', 'milk: 1 liter', 'chicken: 2 kilo', 'eggs: 2 dozen'], 'shopping_list_2': ['apple: 2 kilo', 'milk: 1 liter', 'chicken: 2 kilo', 'eggs: 2 dozen'], '_i47': \"def factorial(n: int):\\n    if n < 1:\\n        return 1\\n    else:\\n        print(f'calculating {n}!')\\n        return n * factorial(n - 1)\\n    \\nprint(factorial(3))\\nprint(factorial(3))\", 'factorial': <function factorial at 0x000002185DB6D300>, '_i48': \"# cached version\\n# the same default dictionary will be used by the function\\ndef factorial_cached(n, cache={}):\\n    if n < 1:\\n        return 1\\n    elif n in cache:\\n        return cache[n]\\n    else:\\n        print(f'calculating {n}!')\\n        result = n * factorial_cached(n - 1)\\n        cache[n] = result\\n        return result\\n    \\nprint(factorial_cached(3))\\nprint(factorial_cached(3)) # with cache no need to calculate the same number\\nprint(factorial_cached(2))\\nprint(factorial_cached(4))\", 'factorial_cached': <function factorial_cached at 0x000002185DAD77E0>, '_i49': 'def my_func(a: \\'annotation for a\\',\\n            b: \\'annotation for b\\' = 1) -> \\'something annotation for return\\':\\n    \"\"\"documentation for my function\"\"\"\\n    return a * b\\n\\nhelp(my_func)\\nprint(my_func.__doc__)\\nprint(my_func.__annotations__)', '_i50': \"def my_func(a: str,\\n            b: 'int > 0' = 1,\\n            *args: 'additional args',\\n            k1: 'keyword-only arg 1',\\n            k2: 'keyword-only arg 2' = 100,\\n            **kwargs: 'additional keyword-only args') -> 'return something':\\n    print(a, b, args, k1, k2, kwargs)\\n\\nprint(my_func.__annotations__)\\nmy_func('hello', 1, 2, 3, k1='world', k3='times')\", '_i51': \"f = lambda x, y, *args, z='z', **kwargs: (x, y, args, z, kwargs) # the () of return expression is required here\\nf('x', 'y', 1, 2, 3, kw1='1', kw2='2')\", '_51': ('x', 'y', (1, 2, 3), 'z', {'kw1': '1', 'kw2': '2'}), '_i52': 'def apply_func(x, func):\\n    return func(x)\\n\\nprint(apply_func(2, lambda x: x ** 2))\\nprint(apply_func(3, lambda x: x ** 3))', 'apply_func': <function apply_func at 0x000002185DAD5940>, '_i53': 'def apply_func(func, *args, **kwargs):\\n    return func(*args, **kwargs)\\n\\nprint(apply_func(lambda x, y: x + y, 1, 2))\\nprint(apply_func(lambda x, *, y: x + y, 1, y=2))\\nprint(apply_func(lambda *args: sum(args), 1, 2, 3, 4, 5))', '_i54': \"complex_list = [3 + 3j, 1 - 1j, 6 + 2j, 0, -1 -4j]\\n# sort complex_list according to the square of the absolute value of a complex number\\nprint(sorted(complex_list, key=lambda c: c.real ** 2 + c.imag ** 2))\\n\\nname_list = ['Tony', 'Chaplin', 'John', 'Helen', 'Max']\\n# sort name_list according to the last letter of a name\\n# stable sort, i.e. the relative order of elements that compare equal will be remained\\nprint(sorted(name_list, key=lambda n: n[-1]))\", 'complex_list': [(3+3j), (1-1j), (6+2j), 0, (-1-4j)], 'name_list': ['Tony', 'Chaplin', 'John', 'Helen', 'Max'], '_i55': '# randomize an iterable using sorted\\n\\nimport random\\n\\nl = [1, 2, 3, 4, 5, 6, 7, 8, 9, 10]\\n\\nprint(sorted(l, key=lambda e: random.random()))\\nprint(sorted(l, key=lambda e: random.random()))\\nprint(sorted(l, key=lambda e: random.random()))', 'random': <built-in method random of Random object at 0x00000218587ECF80>, '_i56': \"from decimal import Decimal\\n\\nprint(callable(print))\\nprint(print()) # if something is callable, it always has a return value\\nprint(callable(Decimal)) # classes are also callable\\n\\nclass MyClass:\\n    def __init__(self):\\n        print('classes are callable')\\n    \\n    def __call__(self):\\n        print('instances can be callable too')\\n\\nmy_class = MyClass()\\nmy_class() # instances can be callable\\nprint(callable(my_class))\", 'MyClass': <class '__main__.MyClass'>, 'my_class': <__main__.MyClass object at 0x000002185DA3EA80>, '_i57': 'l1 = [1, 2, 3, 4, 5]\\nl2 = [7, 8, 9]\\nl3 = map(lambda x, y: x + y, l1, l2)\\nprint(l3)\\nprint(list(l3))\\n\\nl4 = [0, 1, 2, 3, 4, 5, 6, 7, 8, 9]\\nl5 = filter(None, l4)\\nl6 = filter(lambda x: x % 2 == 0, l4)\\nprint(l5)\\nprint(l6)\\nprint(list(l5))\\nprint(list(l6))', 'l3': <map object at 0x000002185DB400D0>, 'l4': [0, 1, 2, 3, 4, 5, 6, 7, 8, 9], 'l5': <filter object at 0x000002185DAE7C70>, 'l6': <filter object at 0x000002185DAE6560>, '_i58': \"def factorial(n):\\n    return 1 if n < 2 else n * factorial(n - 1)\\n\\nresult = map(factorial, range(5))\\n\\nfor i in result:\\n    print(i)\\n\\n# won't print anything\\n# generators can only be iterated over once\\n# attempting to iterate over an exhausted generator will not produce any output\\nfor i in result:\\n    print(i)\\n\\nprint(list(result)) # empty list too\", 'result': <map object at 0x000002185DAE59F0>, 'i': 24, '_i59': 'def reduce_sequence(func, sequence):\\n    result = sequence[0]\\n    for e in sequence[1:]:\\n        result = func(result, e)\\n    return result\\n\\nprint(reduce_sequence(lambda x, y: x + y, range(10))) # range is actually an immutable sequence type\\nprint(reduce_sequence(lambda x, y: x if x > y else y, range(10)))', 'reduce_sequence': <function reduce_sequence at 0x000002185DAD6FC0>, '_i60': \"from functools import reduce\\n\\nprint(reduce(lambda x, y: x + ' ' + y, ('Python', 'is', 'super', 'awesome')))\\n\\n# using reduce to reproduce any()\\nprint(reduce(lambda x, y: bool(x or y), (0, '', 1, 0.0, 'and', False)))\\nprint(reduce(lambda x, y: bool(x or y), (0, '', None, 0.0, [], (), {}, False)))\\n\\n# using reduce to reproduce all()\\nprint(reduce(lambda x, y: bool(x and y), (0, '', 1, 0.0, 'and', False)))\\nprint(reduce(lambda x, y: bool(x and y), (1, 'a', 0.1, [1], True)))\\n\\n# using reduce to calculate factorial\\ndef factorial(n):\\n    return reduce(lambda x, y: x * y, range(1, n + 1), 1)\\n\\nprint(factorial(1))\\nprint(factorial(3))\\nprint(factorial(10))\", 'reduce': <built-in function reduce>, '_i61': \"# similar to functools.partial()\\ndef partial_func(func, /, *args, **kwargs):\\n    def new_func(*new_args, **new_kwargs):\\n        new_kwargs = {**kwargs, **new_kwargs}\\n        return func(*args, *new_args, **new_kwargs)\\n    return new_func\\n\\nint_base_2 = partial_func(int, base=2)\\nprint(f'{int_base_2('1010')=}')\\n\\nsquare = partial_func(pow, exp=2)\\nprint(f'{square(10)=}')\\nprint(f'{square(10, exp=3)}') # you can still overwrite the value of exp predefined in the partial function\\n\\nmodular_multiplicative_inverse = partial_func(pow, exp=-1)\\nprint(f'{modular_multiplicative_inverse(38, mod=97)=}') # here mod must be keyword argument\", 'partial_func': <function partial_func at 0x000002185DAD7BA0>, 'int_base_2': functools.partial(<class 'int'>, base=2), 'square': <function partial_func.<locals>.new_func at 0x000002185DA9FD80>, 'modular_multiplicative_inverse': <function partial_func.<locals>.new_func at 0x000002185DB6C040>, '_i62': \"from functools import partial\\n\\nint_base_2 = partial(int, base=2)\\nprint(int_base_2('1010'))\\n\\ndef my_func(a, b, *args, k1, k2, **kwargs):\\n    print(a, b, args, k1, k2, kwargs)\\n\\n# if want to freeze a and k1 of my_func\\nmy_func_partial = partial(my_func, 'a', k1='k1')\\nmy_func_partial('b', 'args1', 'args2', k2='k2', k3='k3', k4='k4')\\n\\n# sort list of complex numbers according to their absolute value\\nsorted_by_abs = partial(sorted, key=lambda x: abs(x))\\ncomplexes = [1 + 2j, 3 - 4j, 0, 7 - 8j, 4 + 5j]\\nprint(sorted_by_abs(complexes))\\n\\n# sort list of points according to their distance to a certain point\\norigin = (0, 0)\\npoints = [(0, 5), (0, 0), (3, 4), (-5, 1), (-3, -2)]\\ndistance_square = lambda a, b: (a[0] - b[0]) ** 2 + (a[1] - b[1]) ** 2\\npoints_sorted = sorted(points, key=partial(distance_square, origin))\\nprint(points_sorted)\", 'partial': <class 'functools.partial'>, 'my_func_partial': functools.partial(<function my_func at 0x000002185DB6C2C0>, 'a', k1='k1'), 'sorted_by_abs': functools.partial(<built-in function sorted>, key=<function <lambda> at 0x000002185DAD68E0>), 'complexes': [(5-10j), (3+2j), (-2-1j), (2+10j), (8-5j)], 'origin': (0, 0), 'points': [(0, 5), (0, 0), (3, 4), (-5, 1), (-3, -2)], 'distance_square': <function <lambda> at 0x000002185DB6C360>, 'points_sorted': [(0, 0), (-3, -2), (0, 5), (3, 4), (-5, 1)], '_i63': \"import operator\\nfrom functools import reduce\\n\\nprint(reduce(lambda x, y: x * y, [1, 2, 3, 4]))\\nprint(reduce(operator.mul, [1, 2, 3, 4]))\\n\\nget_item_2 = operator.itemgetter(2)\\nprint(get_item_2([1, 2, 3, 4]))\\nprint(get_item_2('abcde'))\\n\\nget_item_2_3 = operator.itemgetter(2, 3)\\nprint(get_item_2_3([1, 2, 3, 4]))\\nprint(get_item_2_3('abcde'))\\n\\nclass MyClass:\\n    def __init__(self):\\n        self.a = 'a'\\n        self.b = 'b'\\n\\n    def test(self):\\n        print('test method get called')\\n\\nobj = MyClass()\\nget_attr_a = operator.attrgetter('a')\\nprint(get_attr_a(obj))\\n\\nget_attr_test = operator.attrgetter('test')\\nget_attr_test(obj)()\\nmethod_caller_test = operator.methodcaller('test')\\nmethod_caller_test(obj)\\n\\ncomplexes = [5 - 10j, 3 + 2j, -2 - 1j, 2 + 10j, 8 - 5j]\\nsorted_by_real = sorted(complexes, key=operator.attrgetter('real'))\\nprint(sorted_by_real)\\n\\ntuples = [(2, 3, 4), (-2, 3, 1), (0,), (5, 7, 1), (3, 4)]\\nsorted_by_first = sorted(tuples, key=operator.itemgetter(0))\\n# sorted_by_first = sorted(tuples, key=lambda x: x[0])\\nprint(sorted_by_first)\", 'operator': <module 'operator' from 'c:\\\\Users\\\\FREEDEMPIRE-XL\\\\AppData\\\\Local\\\\Programs\\\\Python\\\\Python312\\\\Lib\\\\operator.py'>, 'get_item_2': operator.itemgetter(2), 'get_item_2_3': operator.itemgetter(2, 3), 'obj': <__main__.MyClass object at 0x000002185DAE6450>, 'get_attr_a': operator.attrgetter('a'), 'get_attr_test': operator.attrgetter('test'), 'method_caller_test': operator.methodcaller('test'), 'sorted_by_real': [(-2-1j), (2+10j), (3+2j), (5-10j), (8-5j)], 'tuples': [(2, 3, 4), (-2, 3, 1), (0,), (5, 7, 1), (3, 4)], 'sorted_by_first': [(-2, 3, 1), (0,), (2, 3, 4), (3, 4), (5, 7, 1)], '_i64': \"def my_func():\\n    global var\\n    var = 'hello'\\n\\n# print(var) # name 'var' is not defined\\nmy_func() # because of var is global, it is still available after the function finishes\\nprint(var)\\n\\na = 10\\ndef my_func():\\n    print(f'global a? {a=}') # local variable 'a' referenced before assignment\\n    a = 'hello' # a becomes local variable at compile-time\\n\\ndef print(string):\\n    return f'hello {string}'\\n\\nprint('world') # doesn't print anything, only returns a string, because the built-in print function has been masked by the string function in the module scope\\ndel print\\nprint('world')\", 'var': 'hello', '_i65': \"x = 'python'\\n\\ndef outer():\\n    global x\\n    x = 'monty'\\n\\n    def inner():\\n        # nonlocal x # no binding for nonlocal 'x'\\n        x = 'hello'\\n        print(x)\\n\\n    inner()\\n    print(x)\\n\\nouter()\", 'outer': <function outer at 0x000002185DB6D260>, '_i66': \"def outer():\\n    count = 0\\n\\n    def inner1():\\n        nonlocal count\\n        count += 1\\n        return count\\n    \\n    def inner2():\\n        nonlocal count\\n        count += 1\\n        return count\\n    \\n    return inner1, inner2\\n\\nf1, f2 = outer()\\nprint(f'{f1.__code__.co_freevars=}')\\nprint(f'{f2.__code__.co_freevars=}')\\nprint(f'{f1.__closure__=}')\\nprint(f'{f2.__closure__=}') # same cell as above\\nprint(f1())\\nprint(f2())\", 'f1': <function outer.<locals>.inner1 at 0x000002185DAD6F20>, 'f2': <function outer.<locals>.inner2 at 0x000002185DB6C0E0>, '_i67': \"def create_adders():\\n    adders = []\\n    for n in range(1, 4):\\n        adders.append(lambda x, y=n: x + y) # defaults get evaluated at creation-time\\n    return adders\\n\\nadders = create_adders()\\nprint(f'{adders[0].__code__.co_freevars=}') # no free variables\\nprint(f'{adders[0].__closure__=}') # not a closure, so no cells\\n# at function creation-time, n is evaluated and put that into y as the default for y\\n# there's not even a mention of n in the body of the function\\n\\nprint(f'{adders[0](10)=}')\\nprint(f'{adders[1](10)=}')\\nprint(f'{adders[2](10)=}')\", 'create_adders': <function create_adders at 0x000002185DB6C7C0>, 'adders': [<function create_adders.<locals>.<lambda> at 0x000002185DB6C720>, <function create_adders.<locals>.<lambda> at 0x000002185DB6C680>, <function create_adders.<locals>.<lambda> at 0x000002185DB6C860>], '_i68': 'class Averager:\\n    def __init__(self):\\n        self.numbers = []\\n\\n    def add(self, number):\\n        self.numbers.append(number)\\n        return sum(self.numbers) / len(self.numbers)\\n\\ndef outer():\\n    numbers = []\\n    def add(number):\\n        numbers.append(number)\\n        return sum(numbers) / len(numbers)\\n    return add\\n\\naverager = Averager()\\nprint(averager.add(1))\\nprint(averager.add(2))\\nprint(averager.add(3))\\nprint(averager.add(4))\\n\\ncalc_ave = outer()\\nprint(calc_ave(1))\\nprint(calc_ave(2))\\nprint(calc_ave(3))\\nprint(calc_ave(4))', 'Averager': <class '__main__.Averager'>, 'averager': <__main__.Averager object at 0x000002185DB42930>, 'calc_ave': <function outer_better.<locals>.add at 0x000002185DB6CD60>, '_i69': \"def outer_better():\\n    count = 0\\n    total = 0\\n    def add(number):\\n        nonlocal count\\n        nonlocal total\\n        count += 1\\n        total += number\\n        return total / count\\n    return add\\n\\ncalc_ave = outer_better()\\nprint(f'{calc_ave.__code__.co_freevars=}')\\nprint(f'{calc_ave.__closure__=}')\\nprint(calc_ave(1))\\nprint(calc_ave(2))\\nprint(calc_ave(3))\\nprint(calc_ave(4))\", 'outer_better': <function outer_better at 0x000002185DB6CC20>, '_i70': 'from time import perf_counter\\n\\nclass Timer:\\n    def __init__(self):\\n        self.start = perf_counter()\\n\\n    def __call__(self):\\n        return perf_counter() - self.start\\n    \\ndef outer():\\n    start = perf_counter()\\n    def poll():\\n        return perf_counter() - start\\n    return poll\\n    \\nt1 = Timer()\\nprint(t1())\\n\\ntimer = outer()\\nprint(timer())', 'Timer': <class '__main__.Timer'>, 't1': <__main__.Timer object at 0x000002185DB42390>, 'timer': <function outer.<locals>.poll at 0x000002185DB6C5E0>, '_i71': \"def counter(fn):\\n    # a function report the times of the designated function get called\\n    # it actually works the same way as a decorator\\n    count = 0\\n    def inner(*args, **kwargs):\\n        nonlocal count\\n        count += 1\\n        print(f'{fn.__name__} has been called {count} times')\\n        return fn(*args, **kwargs)\\n    return inner\\n\\ndef add(a, b):\\n    return a + b\\n\\ndef mul(a, b):\\n    return a * b\\n\\nadd = counter(add)\\nprint(add(1, 2))\\nprint(add(2, 3))\\n\\nmul = counter(mul)\\nprint(mul(4, 5))\\nprint(mul(2, 7))\", 'counter': <function counter at 0x000002185DAD7740>, 'add': <function add at 0x000002185DB6D3A0>, 'mul': <function counter.<locals>.inner at 0x000002185DB6D1C0>, '_i72': 'def counter(fn):\\n    count = 0\\n\\n    def inner(*args, **kwargs):\\n        nonlocal count\\n        count += 1\\n        print(f\\'Function {fn.__name__} has been called {count} times\\')\\n        return fn(*args, **kwargs)\\n    return inner\\n\\ndef add(a: int, b: int = 0):\\n    \"\"\"\\n    adds two values\\n    \"\"\"\\n    return a + b\\n\\nhelp(add)\\n\\nadd = counter(add)\\nhelp(add)\\nprint(f\\'{add(1, 2)=}\\')', '_i73': 'def counter(fn):\\n    count = 0\\n\\n    def inner(*args, **kwargs):\\n        nonlocal count\\n        count += 1\\n        print(f\\'Function {fn.__name__} has been called {count} times\\')\\n        return fn(*args, **kwargs)\\n    return inner\\n\\n# use the @wrapper syntax\\n@counter\\ndef add(a: int, b: int = 0):\\n    \"\"\"\\n    adds two values\\n    \"\"\"\\n    return a + b\\n\\nhelp(add)\\nprint(f\\'{add(1, 2)=}\\')', '_i74': 'from functools import wraps\\n\\ndef counter(fn):\\n    count = 0\\n\\n    @wraps(fn) # fix the metadata of inner\\n    def inner(*args, **kwargs):\\n        nonlocal count\\n        count += 1\\n        print(f\\'Function {fn.__name__} has been called {count} times\\')\\n        return fn(*args, **kwargs)\\n    # the following can only fix function name and docstring\\n    # inner.__name__ = fn.__name__\\n    # inner.__doc__ = fn.__doc__\\n\\n    # works the same as the @wraps decorator\\n    # inner = wraps(fn)(inner)\\n    return inner\\n\\n@counter\\ndef add(a: int, b: int = 0):\\n    \"\"\"\\n    adds two values\\n    \"\"\"\\n    return a + b\\n\\nhelp(add)\\nprint(f\\'{add(1, 2)=}\\')', 'wraps': <function wraps at 0x00000218585A5F80>, '_i75': 'def timed(fn):\\n    from time import perf_counter\\n    from functools import wraps\\n\\n    @wraps(fn)\\n    def inner(*args, **kwargs):\\n        start = perf_counter()\\n        result = fn(*args, **kwargs)\\n        elapsed = perf_counter() - start\\n\\n        args_list = [str(arg) for arg in args]\\n        kwargs_list = [f\\'{k}={v}\\' for k, v in kwargs.items()]\\n        args_string = \\',\\'.join(args_list + kwargs_list)\\n        print(f\\'{fn.__name__}({args_string}) took {elapsed}s to run\\')\\n        return result\\n    \\n    return inner\\n\\n# recursion\\n# @timed\\ndef calc_nth_fibonacci_recursion(n):\\n    \"\"\"\\n    Return the nth number of a fibonacci series, n starting from 1\\n    \"\"\"\\n    return 1 if n < 3 else calc_nth_fibonacci_recursion(n - 1) + calc_nth_fibonacci_recursion(n - 2)\\n\\n# calculate the total time elapsed\\n@timed\\ndef fib_recursion(n):\\n    return calc_nth_fibonacci_recursion(n)\\n\\n# calc_nth_fibonacci_recursion(6)\\n\\nprint(f\\'{fib_recursion(30)=}\\')\\n\\n# loop\\n@timed\\ndef calc_nth_fibonacci_loop(n):\\n    if n <= 2:\\n        return 1\\n    fib_1 = 1\\n    fib_2 = 1\\n    for n in range(3, n + 1):\\n        fib_1, fib_2 = fib_2, fib_1 + fib_2\\n    return fib_2\\n\\nprint(f\\'{calc_nth_fibonacci_loop(30)=}\\')\\n\\n# reduce\\n@timed\\ndef calc_nth_fibonacci_reduce(n):\\n    from functools import reduce\\n    if n <= 1:\\n        return 1\\n    fib = reduce(lambda x, y: (x[0] + x[1], x[0]),\\n           range(n - 1),\\n           (1, 0))\\n    return fib[0]\\n\\nprint(f\\'{calc_nth_fibonacci_reduce(30)=}\\')', 'timed': <function timed at 0x000002185DAD6660>, 'calc_nth_fibonacci_recursion': <function calc_nth_fibonacci_recursion at 0x000002185DB6D080>, 'fib_recursion': <function fib_recursion at 0x000002185DB6D120>, 'calc_nth_fibonacci_loop': <function calc_nth_fibonacci_loop at 0x000002185DB6D620>, 'calc_nth_fibonacci_reduce': <function calc_nth_fibonacci_reduce at 0x000002185DB6D6C0>, '_i76': \"def logger(fn):\\n    from functools import wraps\\n    import datetime\\n\\n    @wraps(fn)\\n    def inner(*args, **kwargs):\\n        run_dt = datetime.datetime.now(datetime.UTC)\\n        result = fn(*args, **kwargs)\\n        print(f'{run_dt}: called {fn.__name__}')\\n        return result\\n    \\n    return inner\\n\\ndef timed(fn):\\n    from functools import wraps\\n    from time import perf_counter\\n\\n    @wraps(fn)\\n    def inner(*args, **kwargs):\\n        start = perf_counter()\\n        result = fn(*args, **kwargs)\\n        elapsed = perf_counter() - start\\n        print(f'{fn.__name__} ran for {elapsed}s')\\n        return result\\n    \\n    return inner\\n\\n# stacked decorators\\n# the decorators are executed from top to bottom\\n@logger\\n@timed\\ndef factorial(n):\\n    from functools import reduce\\n    from operator import mul\\n\\n    return reduce(mul, range(1, n + 1))\\n\\n# the equivalent to the above decorators\\n# factorial = logger(timer(factorial))\\n\\nprint(factorial(10))\", 'logger': <function logger at 0x000002185DB6D440>, '_i77': \"# fibonacci class with cache\\nclass Fib:\\n    def __init__(self):\\n        self.cache = {1: 1, 2: 1}\\n\\n    def __call__(self, n):\\n        if n in self.cache:\\n            return self.cache[n]\\n        print(f'Calculating fib({n})')\\n        self.cache[n] = self.__call__(n - 1) + self.__call__(n - 2)\\n        return self.cache[n]\\n    \\nfib = Fib()\\nprint(f'{fib(1)=}')\\nprint(f'{fib(2)=}')\\nprint(f'{fib(3)=}')\\nprint(f'{fib(4)=}')\\nprint(f'{fib(5)=}')\\nprint(f'{fib(4)=}')\\nprint(f'{fib(3)=}')\\nprint(f'{fib(2)=}')\", 'Fib': <class '__main__.Fib'>, 'fib': <functools._lru_cache_wrapper object at 0x000002185D88EE50>, '_i78': \"# closure with cache\\ndef outer():\\n    cache = {1: 1, 2: 1}\\n\\n    def fib(n):\\n        if n not in cache:\\n            print(f'Calculating fib({n})')\\n            cache[n] = fib(n - 1) + fib(n - 2)\\n        return cache[n]\\n    \\n    return fib\\n\\nfib = outer()\\nprint(f'{fib(1)=}')\\nprint(f'{fib(2)=}')\\nprint(f'{fib(3)=}')\\nprint(f'{fib(4)=}')\\nprint(f'{fib(5)=}')\\nprint(f'{fib(4)=}')\", '_i79': \"def memoize(fn):\\n    cache = {}\\n\\n    def inner(n):\\n        if n not in cache:\\n            cache[n] = fn(n)\\n        return cache[n]\\n    \\n    return inner\\n\\n# decorator with cache\\n@memoize\\ndef fib(n):\\n    print(f'Calculating fib({n})')\\n    return 1 if n < 3 else fib(n - 1) + fib(n - 2)\\n\\nprint(f'{fib(1)=}')\\nprint(f'{fib(2)=}')\\nprint(f'{fib(3)=}')\\nprint(f'{fib(4)=}')\\nprint(f'{fib(5)=}')\\nprint(f'{fib(4)=}')\", 'memoize': <function memoize at 0x000002185DB6CF40>, '_i80': \"from functools import lru_cache\\n\\n# built-in decorator with cache\\n# @cache(user_function) return the same as lru_cache(maxsize=None)\\n# @functools.lru_cache(user_function)\\n# @functools.lru_cache(maxsize=128, typed=False)\\n@lru_cache\\ndef fib(n):\\n    print(f'Calculating fib({n})')\\n    return 1 if n < 3 else fib(n - 1) + fib(n - 2)\\n\\nprint(f'{fib(1)=}')\\nprint(f'{fib(2)=}')\\nprint(f'{fib(3)=}')\\nprint(f'{fib(4)=}')\\nprint(f'{fib(5)=}')\\nprint(f'{fib(4)=}')\\nprint(f'{fib(129)=}') # default maxsize=128, this will cause fib(1) replaced by fib(129)\\nprint(f'{fib(1)=}')\", 'lru_cache': <function lru_cache at 0x000002185860B380>, '_i81': \"def timed(fn, reps):\\n    from time import perf_counter\\n    from functools import wraps\\n\\n    @wraps(fn)\\n    def inner(*args, **kwargs):\\n        total_elapsed = 0\\n        for i in range(reps):\\n            start = perf_counter()\\n            result = fn(*args, **kwargs)\\n            total_elapsed += perf_counter() - start\\n        print(f'Average execution time: {total_elapsed / reps}')\\n        return result\\n\\n    return inner\\n\\n# @timed(10) # not working\\ndef my_func():\\n    print('my_func executed')\\n\\nmy_func = timed(my_func, 10)\\nmy_func()\", '_i82': \"# the outer function is not itself a decorator\\n# instead it returns a decorator, just like what wraps do\\n# any arguments passed to outer can be referenced (as free variables) inside the decorator\\n# the outer function is called a decorator factory function\\ndef outer(reps):\\n    def timed(fn):\\n        from time import perf_counter\\n        from functools import wraps\\n\\n        @wraps(fn)\\n        def inner(*args, **kwargs):\\n            total_elapsed = 0\\n            for i in range(reps):\\n                start = perf_counter()\\n                result = fn(*args, **kwargs)\\n                total_elapsed += perf_counter() - start\\n            print(f'Average execution time: {total_elapsed / reps}')\\n            return result\\n\\n        return inner\\n\\n    return timed\\n\\n@outer(10) # outer gets called, and returns a parameterized decorator\\ndef my_func():\\n    print('my_func executed')\\n\\n# my_func = outer(10)(my_func) # equivalent to the decorator above\\nmy_func()\", '_i83': \"def dec(fn):\\n    print('running dec')\\n\\n    def inner(*args, **kwargs):\\n        print('running inner')\\n        return fn(*args, **kwargs)\\n    \\n    return inner\\n\\n@dec\\ndef func():\\n    print('running func')\\n\\n# func = dec(func) # @dec equivalent\\n\\nprint('after func got decorated')\\nfunc()\", 'dec': <function dec at 0x000002185DB6D9E0>, '_i84': \"class DecoratorClass:\\n    def __init__(self, a, b):\\n        self.a = a\\n        self.b = b\\n\\n    def __call__(self, fn):\\n        print(f'decorate {fn.__name__}')\\n        def inner(*args, **kwargs):\\n            print(f'decorated function called: a={self.a}, b={self.b}')\\n            return fn(*args, **kwargs)\\n        return inner\\n\\n@DecoratorClass(10, 20)\\ndef func():\\n    print('func called')\\n\\nprint('after func decorated')\\nfunc()\", 'DecoratorClass': <class '__main__.DecoratorClass'>, '_i85': \"class Decorator:\\n    def __init__(self, fn): # cannot parameterized fn\\n        print(f'decorate {fn.__name__}')\\n        self.fn = fn\\n\\n    def __call__(self, *args, **kwargs):\\n        print(f'decorated {self.fn.__name__} called')\\n        return self.fn(*args, **kwargs)\\n    \\n@Decorator\\ndef func(a, b=1, *, c):\\n    print(f'{a=}, {b=}, {c=}')\\n\\nprint('after func decorated')\\nfunc(0, c=2)\", 'Decorator': <class '__main__.Decorator'>, '_i86': \"def speak_decorator(cls):\\n    cls.speak = lambda self, message: f'{self.__class__.__name__} says {message}'\\n    return cls # the return of cls if not necessary if not using @wrapper syntax or its equivalent\\n\\n@speak_decorator\\nclass Person:\\n    pass\\n\\n# Person = speak_decorator(Person) # decorator equivalent\\n\\np = Person()\\np.speak('Hello world!')\", 'speak_decorator': <function speak_decorator at 0x000002185DB6DF80>, 'Person': <class '__main__.Person'>, 'p': <__main__.Person object at 0x000002185DC30170>, '_86': 'Person says Hello world!', '_i87': \"import datetime\\n\\ndef debug_info(cls):\\n    def info(self):\\n        results = []\\n        results.append(f'time: {datetime.datetime.now(datetime.UTC)}')\\n        results.append(f'class: {self.__class__.__name__}')\\n        results.append(f'id: {hex(id(self))}')\\n        for k, v in vars(self).items():\\n            results.append(f'{k}: {v}')\\n        return results\\n    \\n    cls.debug = info\\n    return cls\\n\\n@debug_info\\nclass Person:\\n    def __init__(self, name, birth_year):\\n        self.name = name\\n        self.birth_year = birth_year\\n\\n    def say_hi(self):\\n        return 'Hello there!'\\n    \\np = Person('John', 1999)\\nprint(p.say_hi())\\nprint(p.debug())\", 'debug_info': <function debug_info at 0x000002185ABC9C60>, '_i88': \"@debug_info\\nclass Auto:\\n    def __init__(self, make, model, year, top_speed, speed):\\n        self.make = make\\n        self.model = model\\n        self.year = year\\n        self.top_speed = top_speed\\n        self.speed = speed\\n\\n    @property\\n    def speed(self):\\n        return self._speed\\n    \\n    @speed.setter\\n    def speed(self, speed):\\n        if speed > self.top_speed:\\n            raise ValueError('Speed cannot exceed top_speed')\\n        self._speed = speed\\n\\n    def run(self):\\n        print('The car is running')\\n\\nauto = Auto('Ford', 'Model T', 1908, 45, 10)\\nprint(auto.speed)\\n# auto.speed = 100 # raise ValueError here\\nauto.speed = 20\\nauto.debug()\", 'Auto': <class '__main__.Auto'>, 'auto': <__main__.Auto object at 0x000002185DAC6420>, '_88': ['time: 2024-01-15 20:54:25.376760+00:00', 'class: Auto', 'id: 0x2185dac6420', 'make: Ford', 'model: Model T', 'year: 1908', 'top_speed: 45', '_speed: 20'], '_i89': \"def complete_ordering(cls):\\n    if '__eq__' in dir(cls) and '__lt__' in dir(cls):\\n        cls.__le__ = lambda self, other: self < other or self == other\\n        cls.__gt__ = lambda self, other: not (self < other or self == other) # raise TypeError if other of unsupported type\\n        cls.__ge__ = lambda self, other: not (self < other)\\n        cls.__ne__ = lambda self, other: not (self == other)\\n    return cls\\n\\n@complete_ordering\\nclass Point:\\n    def __init__(self, x, y):\\n        self.x = x\\n        self.y = y\\n\\n    def __abs__(self):\\n        return (self.x ** 2 + self.y ** 2) ** 0.5\\n    \\n    def __repr__(self):\\n        return f'Point({self.x}, {self.y})'\\n    \\n    def __eq__(self, other):\\n        if isinstance(other, Point):\\n            return self.x == other.x and self.y == other.y\\n        else:\\n            return False\\n        \\n    def __lt__(self, other):\\n        if isinstance(other, Point):\\n            return abs(self) < abs(other)\\n        else:\\n            return NotImplemented\\n\\np1, p2, p3 = Point(1, 2), Point(1, 2), Point(2, 3)\\nn = 1\\nprint(f'{(p1 == p2)=}')\\nprint(f'{(p1 != p2)=}')\\nprint(f'{(p1 > p2)=}')\\nprint(f'{(p1 >= p2)=}')\\nprint(f'{(p1 < p2)=}')\\nprint(f'{(p1 <= p2)=}')\\nprint(f'{(p1 < p3)=}')\\nprint(f'{(p1 >= p3)=}')\\nprint(f'{(p1 != 1)=}')\\n# print(f'{(p1 < 1)=}') # raise TypeError\\n# print(f'{(p1 > 1)=}')\\n# print(f'{(p1 >= 1)=}')\", 'complete_ordering': <function complete_ordering at 0x000002185DB6E0C0>, 'Point': <class '__main__.Point'>, 'p1': Point2D(x=1, y=1), 'p2': Point3D(x=1, y=4, z=5), 'p3': Point3D(x=1, y=4, z=6), '_i90': \"from functools import total_ordering\\n\\n# Given a class defining one or more rich comparison ordering methods, this class decorator supplies the rest.\\n# The class must define one of __lt__(), __le__(), __gt__(), or __ge__(). In addition, the class should supply an __eq__() method.\\n@total_ordering\\nclass Point:\\n    def __init__(self, x, y):\\n        self.x = x\\n        self.y = y\\n\\n    def __abs__(self):\\n        return (self.x ** 2 + self.y ** 2) ** 0.5\\n    \\n    def __repr__(self):\\n        return f'Point({self.x}, {self.y})'\\n    \\n    def __eq__(self, other):\\n        if isinstance(other, Point):\\n            return self.x == other.x and self.y == other.y\\n        else:\\n            return False\\n        \\n    def __lt__(self, other):\\n        if isinstance(other, Point):\\n            return abs(self) < abs(other)\\n        else:\\n            return NotImplemented\\n        \\np1, p2, p3 = Point(1, 2), Point(1, 2), Point(2, 3)\\nn = 1\\nprint(f'{(p1 == p2)=}')\\nprint(f'{(p1 != p2)=}')\\nprint(f'{(p1 > p2)=}')\\nprint(f'{(p1 >= p2)=}')\\nprint(f'{(p1 < p2)=}')\\nprint(f'{(p1 <= p2)=}')\\nprint(f'{(p1 < p3)=}')\\nprint(f'{(p1 >= p3)=}')\\nprint(f'{(p1 != 1)=}')\\n# print(f'{(p1 < 1)=}') # raise TypeError\\n# print(f'{(p1 > 1)=}')\\n# print(f'{(p1 >= 1)=}')\", 'total_ordering': <function total_ordering at 0x00000218585A6660>, '_i91': \"from html import escape\\nfrom decimal import Decimal\\n\\ndef html_escape(obj):\\n    return escape(str(obj))\\n\\ndef html_int(i):\\n    return f'{i} (<i>{hex(i)}</i>)'\\n\\ndef html_real(r):\\n    return f'{r:.2f}'\\n\\ndef html_str(s):\\n    return html_escape(s).replace('\\\\n', '<br>\\\\n')\\n\\ndef html_list(l):\\n    items = (f'<li>{htmlize(item)}</li>' for item in l)\\n    return '<ul>\\\\n' + '\\\\n'.join(items) + '\\\\n</ul>'\\n\\ndef html_dict(d):\\n    items = (f'<li>{html_escape(k)}={htmlize(v)}</li>' for k, v in d.items())\\n    return '<ul>\\\\n' + '\\\\n'.join(items) + '\\\\n</ul>'\\n\\ndef htmlize(arg):\\n    registry = {\\n        object: html_escape,\\n        int: html_int,\\n        float: html_real,\\n        Decimal: html_real,\\n        str: html_str,\\n        list: html_list,\\n        tuple: html_list,\\n        set: html_list,\\n        dict: html_dict\\n    }\\n    return registry.get(type(arg), registry[object])(arg)\\n\\nprint(htmlize(['a', 1, 1.2, 'hello\\\\nworld, 1 > 2 != 3',\\n               (True, False, None),\\n               {1: '1', 2: '2', 3: '3'},\\n               {'x', 'y', 'z'}]))\", 'escape': <function escape at 0x000002185AB489A0>, 'html_escape': <function html_escape at 0x000002185DB6F380>, 'html_int': <function html_int at 0x000002185DB6F2E0>, 'html_real': <function html_real at 0x000002185DB6F420>, 'html_str': <function html_str at 0x000002185DB6F4C0>, 'html_list': <function html_list at 0x000002185DB6F560>, 'html_dict': <function html_dict at 0x000002185DB6F600>, 'htmlize': <function single_dispatch.<locals>.decorated at 0x000002185DB6ECA0>, '_i92': \"from html import escape\\n\\ndef single_dispatch(fn):\\n    registry = {}\\n    registry[object] = fn\\n\\n    def decorated(arg):\\n        return registry.get(type(arg), registry[object])(arg)\\n\\n    def register(type_):\\n        def inner(fn_extension):\\n            registry[type_] = fn_extension\\n            return fn_extension # just return back the decorated function as it is\\n        return inner\\n\\n    def dispatch(type_):\\n        return registry.get(type_, registry[object])\\n\\n    decorated.register = register\\n    decorated.dispatch = dispatch\\n    decorated.registry = registry\\n    return decorated\\n\\n@single_dispatch\\ndef htmlize(obj):\\n    return escape(str(obj))\\n\\nprint(f'{htmlize.__name__=}')\\nprint(f'{htmlize.register=}')\\nprint(htmlize('I can fly!\\\\n1 < 100'))\\n\\n# register decorator can be stacked because it returns back the decorated function as it is\\n@htmlize.register(set)\\n@htmlize.register(tuple)\\n@htmlize.register(list)\\ndef html_sequence(sequence):\\n    items = (f'<li>{htmlize(item)}</li>' for item in sequence)\\n    return '<ul>\\\\n' + '\\\\n'.join(items) + '\\\\n</ul>'\\n\\nprint(htmlize(['a', 'b', 'c']))\\nprint(htmlize(('1', '2', '3')))\\nprint(htmlize.registry)\\nprint(htmlize.dispatch(int))\", 'single_dispatch': <function single_dispatch at 0x000002185DB6E160>, 'html_sequence': <function html_sequence at 0x000002185DB6FA60>, '_i93': \"london = 'London', 'UK', 8780000\\nnew_york = 'New York', 'USA', 8500000\\nbeijing = 'Beijing', 'China', 21000000\\ncities = [london, new_york, beijing]\\n\\ntotal = 0\\n# for city in cities:\\n#     total += city[2]\\nfor *_, population in cities:\\n    total += population\\nprint(total)\\n\\ntotal = sum(city[2] for city in cities)\\nprint(total)\", 'london': ('London', 'UK', 8780000), 'new_york': ('New York', 'USA', 8500000), 'beijing': ('Beijing', 'China', 21000000), 'cities': [('London', 'UK', 8780000), ('New York', 'USA', 8500000), ('Beijing', 'China', 21000000)], 'total': 38280000, 'population': 21000000, '_i94': \"# random.uniform(a, b)\\n# Return a random floating point number N such that a <= N <= b for a <= b and b <= N <= a for b < a.\\nfrom random import uniform\\n\\ndef random_shot(radius=1):\\n    random_x = uniform(-radius, radius)\\n    random_y = uniform(-radius, radius)\\n\\n    is_in_circle = random_x ** 2 + random_y ** 2 <= radius ** 2\\n    return random_x, random_y, is_in_circle\\n\\ndef in_circle_rate(repetitions):\\n    count = 0\\n    for _ in range(repetitions):\\n        *_, inside = random_shot()\\n        count += inside # bool is indeed subclass of int\\n    return count / repetitions\\n\\nprint(f'Pi = {in_circle_rate(1000) * 4}')\\nprint(f'Pi = {in_circle_rate(10000) * 4}')\\nprint(f'Pi = {in_circle_rate(100000) * 4}')\\nprint(f'Pi = {in_circle_rate(1000000) * 4}')\", 'uniform': <bound method Random.uniform of <random.Random object at 0x00000218587ECF80>>, 'random_shot': <function random_shot at 0x000002185DB6FBA0>, 'in_circle_rate': <function in_circle_rate at 0x000002185DB6FB00>, '_i95': \"from collections import namedtuple\\n\\nPoint2D = namedtuple('Point2D', 'x y')\\n\\ndef dot_product(a, b):\\n    return sum(p[0] * p[1] for p in zip(a, b))\\n\\np1 = Point2D(x=1, y=2)\\n# p1 = Point2D(x=1, y=2, y=3) # SyntaxError: keyword argument repeated: y\\np2 = Point2D(3, 4)\\np3 = Point2D(1, 2)\\nprint(f'{p1=}')\\nprint(f'{type(p2)=}')\\nprint(f'{isinstance(p2, tuple)=}')\\nprint(f'{p1.x=}, {p1.y=}')\\nprint(f'{p2.x=}, {p2.y=}')\\nprint(f'{p3.x=}, {p3.y=}')\\nprint(f'{(p1 == p3)=}')\\nx, y = p1\\nprint(f'{x=}, {y=}')\\nprint(f'p1 dot p2 = {dot_product(p1, p2)}')\\nprint(p1._asdict())\\nprint(Point2D._fields)\\n# print(Point2D._source) # removed in version 3.7\\np1_sliced = p1[:1]\\nprint(f'{p1_sliced=}')\\nprint(f'{type(p1_sliced)=}')\\n# print(f'{(p1_sliced._fields)=}') # after slicing it be a normal tuple\", 'namedtuple': <function namedtuple at 0x00000218585A7CE0>, 'Point2D': <class '__main__.Point2D'>, 'dot_product': <function dot_product at 0x000002185DB6FEC0>, 'p1_sliced': (1,), '_i96': \"from collections import namedtuple\\n\\nPoint2D = namedtuple('Point2D', 'x y')\\np1 = Point2D(1, 2)\\nprint(f'{p1=} @ {hex(id(p1))}')\\np1 = Point2D(p1.x, y=3)\\nprint(f'{p1=} @ {hex(id(p1))}')\\np1 = p1._replace(y=4) # create a new instance by replacing some values with keyword arguments\\nprint(f'{p1=} @ {hex(id(p1))}')\\n\\nPoint3D = namedtuple('Point3D', Point2D._fields + ('z',)) # extend named tuple\\np2 = Point3D._make(p1 + (5,))\\nprint(f'{p2=} @ {hex(id(p2))}')\\np3 = Point3D(*p1, 6)\\nprint(f'{p3=} @ {hex(id(p3))}')\", 'Point3D': <class '__main__.Point3D'>, '_i97': \"from collections import namedtuple\\n\\nPoint2D = namedtuple('Point2D', 'x y')\\np1 = Point2D(1, 1)\\nprint(Point2D.__doc__)\\nprint(Point2D.x.__doc__)\\nprint(Point2D.y.__doc__)\", '_i98': \"from collections import namedtuple\\n\\nVector2D = namedtuple('Vector2D', 'x1 y1 x2 y2 origin_x origin_y')\\nVector2D.__new__.__defaults__ = (0, 0)\\nv1 = Vector2D(1, 1, 2, 2)\\nprint(v1)\\n\\nVector2D = namedtuple('Vector2D', 'x1 y1 x2 y2 origin_x origin_y', defaults=(10, 10))\\nv2 = Vector2D(3, 3, 4, 4)\\nprint(v2)\", 'Vector2D': <class '__main__.Vector2D'>, 'v1': Vector2D(x1=1, y1=1, x2=2, y2=2, origin_x=0, origin_y=0), 'v2': Vector2D(x1=3, y1=3, x2=4, y2=4, origin_x=10, origin_y=10), '_i99': \"from random import randint, random\\nfrom collections import namedtuple\\n\\nColor = namedtuple('Color', 'red green blue alpha', defaults=(0, 0, 0, 0))\\n\\ndef random_color():\\n    rgb = (randint(0, 255) for _ in range(3))\\n    a = round(random(), 2)\\n    return Color(*rgb, a)\\n\\nc1 = random_color()\\nc2 = random_color()\\nc3 = random_color()\\nprint(c1)\\nprint(c2)\\nprint(c3)\", 'randint': <bound method Random.randint of <random.Random object at 0x00000218587ECF80>>, 'Color': <class '__main__.Color'>, 'random_color': <function random_color at 0x000002185DB9D6C0>, 'c1': Color(red=48, green=229, blue=30, alpha=0.24), 'c2': Color(red=239, green=72, blue=254, alpha=0.2), 'c3': Color(red=125, green=154, blue=42, alpha=0.06), '_i100': \"# alternative to dictionaries\\n\\nfrom collections import namedtuple\\n\\ndata_dict = {'key1': 1, 'key2': 2, 'key3': 3}\\n\\nData = namedtuple('Data', data_dict.keys())\\ndata = Data(**data_dict)\\nprint(data)\\nprint(data._asdict())\\nkey_name = 'key1'\\nprint(f'{getattr(data, key_name)=}')\\nprint(f'{data.key1=}')\", 'data_dict': {'key1': 1, 'key2': 2, 'key3': 3}, 'Data': <class '__main__.Data'>, 'data': Data(key1=1, key2=2, key3=3), 'key_name': 'key1', '_i101': \"# convert a list of dictionaries to a list of named tuples\\n\\nfrom collections import namedtuple\\n\\ndata_dicts = [\\n    {'key1': 1, 'key2': 2},\\n    {'key1': 3, 'key2': 4},\\n    {'key1': 5, 'key2': 6, 'key3': 7},\\n    {'key2': 100}\\n]\\n\\n# keys = set(key for key in data_dict for data_dict in data_dicts)\\n# keys = {key for key in data_dict for data_dict in data_dicts}\\nkeys = {key for data_dict in data_dicts for key in data_dict}\\nprint(keys)\\nData = namedtuple('Data', sorted(keys), defaults=(None for _ in keys))\\ndata_list = [Data(**data_dict) for data_dict in data_dicts]\\nprint(data_list)\", 'data_dicts': [{'key1': 1, 'key2': 2}, {'key1': 3, 'key2': 4}, {'key1': 5, 'key2': 6, 'key3': 7}, {'key2': 100}], 'keys': {'key3', 'key2', 'key1'}, 'data_list': [Data(key1=1, key2=2, key3=None), Data(key1=3, key2=4, key3=None), Data(key1=5, key2=6, key3=7), Data(key1=None, key2=100, key3=None)], '_i102': \"from collections import namedtuple\\n\\ndef tuplize_dicts(dicts, struct_name=None):\\n    struct_name = struct_name or 'Struct'\\n    keys = {key for dict_ in dicts for key in dict_}\\n    Struct = namedtuple(struct_name, sorted(keys), rename=True, defaults=(None for _ in keys))\\n    return [Struct(**dict_) for dict_ in dicts]\\n\\ndata_dicts = [\\n    {'key1': 1, 'key2': 2},\\n    {'key1': 3, 'key2': 4},\\n    {'key1': 5, 'key2': 6, 'key3': 7},\\n    {'key2': 100}\\n]\\n\\ndata_list = tuplize_dicts(data_dicts, 'Data')\\nprint(data_list)\", 'tuplize_dicts': <function tuplize_dicts at 0x000002185DAD7D80>, '_i103': \"import math\\nimport fractions\\nimport sys\\nimport types\\n\\nprint(math) # a built-in module (written in C), providing access to system functionality\\nprint(fractions) # a standard library module (written in Python), providing standardized solutions for many problems that occur in everyday programming\\nprint(sys) # built-in\\nprint(types) # standard library\\nprint(type(math))\\nprint(math.__dict__)\\nprint(dir(math))\\nprint(isinstance(math, types.ModuleType))\\nprint(math.__dict__['pi'])\\nprint(getattr(math, 'pi'))\\n\\n# globals()\\n# return the dictionary implementing the current module namespace\\n# for code within functions, this is set when the function is defined and remains the same regardless of where the function is called\\nprint(globals())\\n\\n# locals()\\n# update and return a dictionary representing the current local symbol table\\n# free variables are returned by locals() when it is called in function blocks, but not in class blocks\\n# at the module level, locals() and globals() are the same dictionary\\nprint(locals())\\nprint(globals() is locals())\\n\\nprint(sys.modules)\", 'fractions': <module 'fractions' from 'c:\\\\Users\\\\FREEDEMPIRE-XL\\\\AppData\\\\Local\\\\Programs\\\\Python\\\\Python312\\\\Lib\\\\fractions.py'>, 'types': <module 'types' from 'c:\\\\Users\\\\FREEDEMPIRE-XL\\\\AppData\\\\Local\\\\Programs\\\\Python\\\\Python312\\\\Lib\\\\types.py'>}\n",
      "True\n",
      "{'sys': <module 'sys' (built-in)>, 'builtins': <module 'builtins' (built-in)>, '_frozen_importlib': <module '_frozen_importlib' (frozen)>, '_imp': <module '_imp' (built-in)>, '_thread': <module '_thread' (built-in)>, '_warnings': <module '_warnings' (built-in)>, '_weakref': <module '_weakref' (built-in)>, 'winreg': <module 'winreg' (built-in)>, '_io': <module '_io' (built-in)>, 'marshal': <module 'marshal' (built-in)>, 'nt': <module 'nt' (built-in)>, '_frozen_importlib_external': <module '_frozen_importlib_external' (frozen)>, 'time': <module 'time' (built-in)>, 'zipimport': <module 'zipimport' (frozen)>, '_codecs': <module '_codecs' (built-in)>, 'codecs': <module 'codecs' (frozen)>, 'encodings.aliases': <module 'encodings.aliases' from 'c:\\\\Users\\\\FREEDEMPIRE-XL\\\\AppData\\\\Local\\\\Programs\\\\Python\\\\Python312\\\\Lib\\\\encodings\\\\aliases.py'>, 'encodings': <module 'encodings' from 'c:\\\\Users\\\\FREEDEMPIRE-XL\\\\AppData\\\\Local\\\\Programs\\\\Python\\\\Python312\\\\Lib\\\\encodings\\\\__init__.py'>, 'encodings.utf_8': <module 'encodings.utf_8' from 'c:\\\\Users\\\\FREEDEMPIRE-XL\\\\AppData\\\\Local\\\\Programs\\\\Python\\\\Python312\\\\Lib\\\\encodings\\\\utf_8.py'>, '_signal': <module '_signal' (built-in)>, '_abc': <module '_abc' (built-in)>, 'abc': <module 'abc' (frozen)>, 'io': <module 'io' (frozen)>, '__main__': <module '__main__'>, '_stat': <module '_stat' (built-in)>, 'stat': <module 'stat' (frozen)>, '_collections_abc': <module '_collections_abc' (frozen)>, 'genericpath': <module 'genericpath' (frozen)>, '_winapi': <module '_winapi' (built-in)>, 'ntpath': <module 'ntpath' (frozen)>, 'os.path': <module 'ntpath' (frozen)>, 'os': <module 'os' (frozen)>, '_sitebuiltins': <module '_sitebuiltins' (frozen)>, '_codecs_cn': <module '_codecs_cn' (built-in)>, '_multibytecodec': <module '_multibytecodec' (built-in)>, 'encodings.gbk': <module 'encodings.gbk' from 'c:\\\\Users\\\\FREEDEMPIRE-XL\\\\AppData\\\\Local\\\\Programs\\\\Python\\\\Python312\\\\Lib\\\\encodings\\\\gbk.py'>, 'pywin32_system32': <module 'pywin32_system32' (namespace) from ['C:\\\\Users\\\\FREEDEMPIRE-XL\\\\AppData\\\\Roaming\\\\Python\\\\Python312\\\\site-packages\\\\pywin32_system32']>, 'pywin32_bootstrap': <module 'pywin32_bootstrap' from 'C:\\\\Users\\\\FREEDEMPIRE-XL\\\\AppData\\\\Roaming\\\\Python\\\\Python312\\\\site-packages\\\\win32\\\\lib\\\\pywin32_bootstrap.py'>, 'site': <module 'site' (frozen)>, 'importlib._bootstrap': <module '_frozen_importlib' (frozen)>, 'importlib._bootstrap_external': <module '_frozen_importlib_external' (frozen)>, 'warnings': <module 'warnings' from 'c:\\\\Users\\\\FREEDEMPIRE-XL\\\\AppData\\\\Local\\\\Programs\\\\Python\\\\Python312\\\\Lib\\\\warnings.py'>, 'importlib': <module 'importlib' from 'c:\\\\Users\\\\FREEDEMPIRE-XL\\\\AppData\\\\Local\\\\Programs\\\\Python\\\\Python312\\\\Lib\\\\importlib\\\\__init__.py'>, 'importlib.machinery': <module 'importlib.machinery' (frozen)>, 'importlib._abc': <module 'importlib._abc' from 'c:\\\\Users\\\\FREEDEMPIRE-XL\\\\AppData\\\\Local\\\\Programs\\\\Python\\\\Python312\\\\Lib\\\\importlib\\\\_abc.py'>, 'types': <module 'types' from 'c:\\\\Users\\\\FREEDEMPIRE-XL\\\\AppData\\\\Local\\\\Programs\\\\Python\\\\Python312\\\\Lib\\\\types.py'>, 'importlib.util': <module 'importlib.util' (frozen)>, 'runpy': <module 'runpy' (frozen)>, '_operator': <module '_operator' (built-in)>, 'operator': <module 'operator' from 'c:\\\\Users\\\\FREEDEMPIRE-XL\\\\AppData\\\\Local\\\\Programs\\\\Python\\\\Python312\\\\Lib\\\\operator.py'>, 'itertools': <module 'itertools' (built-in)>, 'keyword': <module 'keyword' from 'c:\\\\Users\\\\FREEDEMPIRE-XL\\\\AppData\\\\Local\\\\Programs\\\\Python\\\\Python312\\\\Lib\\\\keyword.py'>, 'reprlib': <module 'reprlib' from 'c:\\\\Users\\\\FREEDEMPIRE-XL\\\\AppData\\\\Local\\\\Programs\\\\Python\\\\Python312\\\\Lib\\\\reprlib.py'>, '_collections': <module '_collections' (built-in)>, 'collections': <module 'collections' from 'c:\\\\Users\\\\FREEDEMPIRE-XL\\\\AppData\\\\Local\\\\Programs\\\\Python\\\\Python312\\\\Lib\\\\collections\\\\__init__.py'>, '_functools': <module '_functools' (built-in)>, 'functools': <module 'functools' from 'c:\\\\Users\\\\FREEDEMPIRE-XL\\\\AppData\\\\Local\\\\Programs\\\\Python\\\\Python312\\\\Lib\\\\functools.py'>, 'enum': <module 'enum' from 'c:\\\\Users\\\\FREEDEMPIRE-XL\\\\AppData\\\\Local\\\\Programs\\\\Python\\\\Python312\\\\Lib\\\\enum.py'>, '_sre': <module '_sre' (built-in)>, 're._constants': <module 're._constants' from 'c:\\\\Users\\\\FREEDEMPIRE-XL\\\\AppData\\\\Local\\\\Programs\\\\Python\\\\Python312\\\\Lib\\\\re\\\\_constants.py'>, 're._parser': <module 're._parser' from 'c:\\\\Users\\\\FREEDEMPIRE-XL\\\\AppData\\\\Local\\\\Programs\\\\Python\\\\Python312\\\\Lib\\\\re\\\\_parser.py'>, 're._casefix': <module 're._casefix' from 'c:\\\\Users\\\\FREEDEMPIRE-XL\\\\AppData\\\\Local\\\\Programs\\\\Python\\\\Python312\\\\Lib\\\\re\\\\_casefix.py'>, 're._compiler': <module 're._compiler' from 'c:\\\\Users\\\\FREEDEMPIRE-XL\\\\AppData\\\\Local\\\\Programs\\\\Python\\\\Python312\\\\Lib\\\\re\\\\_compiler.py'>, 'copyreg': <module 'copyreg' from 'c:\\\\Users\\\\FREEDEMPIRE-XL\\\\AppData\\\\Local\\\\Programs\\\\Python\\\\Python312\\\\Lib\\\\copyreg.py'>, 're': <module 're' from 'c:\\\\Users\\\\FREEDEMPIRE-XL\\\\AppData\\\\Local\\\\Programs\\\\Python\\\\Python312\\\\Lib\\\\re\\\\__init__.py'>, 'collections.abc': <module 'collections.abc' from 'c:\\\\Users\\\\FREEDEMPIRE-XL\\\\AppData\\\\Local\\\\Programs\\\\Python\\\\Python312\\\\Lib\\\\collections\\\\abc.py'>, 'contextlib': <module 'contextlib' from 'c:\\\\Users\\\\FREEDEMPIRE-XL\\\\AppData\\\\Local\\\\Programs\\\\Python\\\\Python312\\\\Lib\\\\contextlib.py'>, '_typing': <module '_typing' (built-in)>, 'typing.io': <class 'typing.io'>, 'typing.re': <class 'typing.re'>, 'typing': <module 'typing' from 'c:\\\\Users\\\\FREEDEMPIRE-XL\\\\AppData\\\\Local\\\\Programs\\\\Python\\\\Python312\\\\Lib\\\\typing.py'>, 'ipykernel._version': <module 'ipykernel._version' from 'C:\\\\Users\\\\FREEDEMPIRE-XL\\\\AppData\\\\Roaming\\\\Python\\\\Python312\\\\site-packages\\\\ipykernel\\\\_version.py'>, '__future__': <module '__future__' from 'c:\\\\Users\\\\FREEDEMPIRE-XL\\\\AppData\\\\Local\\\\Programs\\\\Python\\\\Python312\\\\Lib\\\\__future__.py'>, '_json': <module '_json' (built-in)>, 'json.scanner': <module 'json.scanner' from 'c:\\\\Users\\\\FREEDEMPIRE-XL\\\\AppData\\\\Local\\\\Programs\\\\Python\\\\Python312\\\\Lib\\\\json\\\\scanner.py'>, 'json.decoder': <module 'json.decoder' from 'c:\\\\Users\\\\FREEDEMPIRE-XL\\\\AppData\\\\Local\\\\Programs\\\\Python\\\\Python312\\\\Lib\\\\json\\\\decoder.py'>, 'json.encoder': <module 'json.encoder' from 'c:\\\\Users\\\\FREEDEMPIRE-XL\\\\AppData\\\\Local\\\\Programs\\\\Python\\\\Python312\\\\Lib\\\\json\\\\encoder.py'>, 'json': <module 'json' from 'c:\\\\Users\\\\FREEDEMPIRE-XL\\\\AppData\\\\Local\\\\Programs\\\\Python\\\\Python312\\\\Lib\\\\json\\\\__init__.py'>, 'errno': <module 'errno' (built-in)>, '_locale': <module '_locale' (built-in)>, 'locale': <module 'locale' from 'c:\\\\Users\\\\FREEDEMPIRE-XL\\\\AppData\\\\Local\\\\Programs\\\\Python\\\\Python312\\\\Lib\\\\locale.py'>, 'signal': <module 'signal' from 'c:\\\\Users\\\\FREEDEMPIRE-XL\\\\AppData\\\\Local\\\\Programs\\\\Python\\\\Python312\\\\Lib\\\\signal.py'>, '_weakrefset': <module '_weakrefset' from 'c:\\\\Users\\\\FREEDEMPIRE-XL\\\\AppData\\\\Local\\\\Programs\\\\Python\\\\Python312\\\\Lib\\\\_weakrefset.py'>, 'threading': <module 'threading' from 'c:\\\\Users\\\\FREEDEMPIRE-XL\\\\AppData\\\\Local\\\\Programs\\\\Python\\\\Python312\\\\Lib\\\\threading.py'>, 'msvcrt': <module 'msvcrt' (built-in)>, 'subprocess': <module 'subprocess' from 'c:\\\\Users\\\\FREEDEMPIRE-XL\\\\AppData\\\\Local\\\\Programs\\\\Python\\\\Python312\\\\Lib\\\\subprocess.py'>, 'jupyter_client._version': <module 'jupyter_client._version' from 'C:\\\\Users\\\\FREEDEMPIRE-XL\\\\AppData\\\\Roaming\\\\Python\\\\Python312\\\\site-packages\\\\jupyter_client\\\\_version.py'>, '_wmi': <module '_wmi' from 'c:\\\\Users\\\\FREEDEMPIRE-XL\\\\AppData\\\\Local\\\\Programs\\\\Python\\\\Python312\\\\DLLs\\\\_wmi.pyd'>, 'platform': <module 'platform' from 'c:\\\\Users\\\\FREEDEMPIRE-XL\\\\AppData\\\\Local\\\\Programs\\\\Python\\\\Python312\\\\Lib\\\\platform.py'>, 'zmq.backend.select': <module 'zmq.backend.select' from 'C:\\\\Users\\\\FREEDEMPIRE-XL\\\\AppData\\\\Roaming\\\\Python\\\\Python312\\\\site-packages\\\\zmq\\\\backend\\\\select.py'>, 'cython_runtime': <module 'cython_runtime'>, '_cython_3_0_6': <module '_cython_3_0_6'>, 'zmq.error': <module 'zmq.error' from 'C:\\\\Users\\\\FREEDEMPIRE-XL\\\\AppData\\\\Roaming\\\\Python\\\\Python312\\\\site-packages\\\\zmq\\\\error.py'>, 'zmq.backend.cython.context': <module 'zmq.backend.cython.context' from 'C:\\\\Users\\\\FREEDEMPIRE-XL\\\\AppData\\\\Roaming\\\\Python\\\\Python312\\\\site-packages\\\\zmq\\\\backend\\\\cython\\\\context.cp312-win_amd64.pyd'>, 'weakref': <module 'weakref' from 'c:\\\\Users\\\\FREEDEMPIRE-XL\\\\AppData\\\\Local\\\\Programs\\\\Python\\\\Python312\\\\Lib\\\\weakref.py'>, 'zmq.backend.cython.message': <module 'zmq.backend.cython.message' from 'C:\\\\Users\\\\FREEDEMPIRE-XL\\\\AppData\\\\Roaming\\\\Python\\\\Python312\\\\site-packages\\\\zmq\\\\backend\\\\cython\\\\message.cp312-win_amd64.pyd'>, 'copy': <module 'copy' from 'c:\\\\Users\\\\FREEDEMPIRE-XL\\\\AppData\\\\Local\\\\Programs\\\\Python\\\\Python312\\\\Lib\\\\copy.py'>, 'math': <module 'math' (built-in)>, '_bisect': <module '_bisect' (built-in)>, 'bisect': <module 'bisect' from 'c:\\\\Users\\\\FREEDEMPIRE-XL\\\\AppData\\\\Local\\\\Programs\\\\Python\\\\Python312\\\\Lib\\\\bisect.py'>, '_random': <module '_random' (built-in)>, '_sha2': <module '_sha2' (built-in)>, 'random': <module 'random' from 'c:\\\\Users\\\\FREEDEMPIRE-XL\\\\AppData\\\\Local\\\\Programs\\\\Python\\\\Python312\\\\Lib\\\\random.py'>, '_struct': <module '_struct' (built-in)>, 'struct': <module 'struct' from 'c:\\\\Users\\\\FREEDEMPIRE-XL\\\\AppData\\\\Local\\\\Programs\\\\Python\\\\Python312\\\\Lib\\\\struct.py'>, '_compat_pickle': <module '_compat_pickle' from 'c:\\\\Users\\\\FREEDEMPIRE-XL\\\\AppData\\\\Local\\\\Programs\\\\Python\\\\Python312\\\\Lib\\\\_compat_pickle.py'>, '_pickle': <module '_pickle' (built-in)>, 'pickle': <module 'pickle' from 'c:\\\\Users\\\\FREEDEMPIRE-XL\\\\AppData\\\\Local\\\\Programs\\\\Python\\\\Python312\\\\Lib\\\\pickle.py'>, 'zmq.constants': <module 'zmq.constants' from 'C:\\\\Users\\\\FREEDEMPIRE-XL\\\\AppData\\\\Roaming\\\\Python\\\\Python312\\\\site-packages\\\\zmq\\\\constants.py'>, 'zmq.backend.cython.socket': <module 'zmq.backend.cython.socket' from 'C:\\\\Users\\\\FREEDEMPIRE-XL\\\\AppData\\\\Roaming\\\\Python\\\\Python312\\\\site-packages\\\\zmq\\\\backend\\\\cython\\\\socket.cp312-win_amd64.pyd'>, 'zmq.backend.cython._device': <module 'zmq.backend.cython._device' from 'C:\\\\Users\\\\FREEDEMPIRE-XL\\\\AppData\\\\Roaming\\\\Python\\\\Python312\\\\site-packages\\\\zmq\\\\backend\\\\cython\\\\_device.cp312-win_amd64.pyd'>, 'zmq.backend.cython._poll': <module 'zmq.backend.cython._poll' from 'C:\\\\Users\\\\FREEDEMPIRE-XL\\\\AppData\\\\Roaming\\\\Python\\\\Python312\\\\site-packages\\\\zmq\\\\backend\\\\cython\\\\_poll.cp312-win_amd64.pyd'>, 'zmq.backend.cython._proxy_steerable': <module 'zmq.backend.cython._proxy_steerable' from 'C:\\\\Users\\\\FREEDEMPIRE-XL\\\\AppData\\\\Roaming\\\\Python\\\\Python312\\\\site-packages\\\\zmq\\\\backend\\\\cython\\\\_proxy_steerable.cp312-win_amd64.pyd'>, 'zmq.backend.cython._version': <module 'zmq.backend.cython._version' from 'C:\\\\Users\\\\FREEDEMPIRE-XL\\\\AppData\\\\Roaming\\\\Python\\\\Python312\\\\site-packages\\\\zmq\\\\backend\\\\cython\\\\_version.cp312-win_amd64.pyd'>, 'zmq.backend.cython.error': <module 'zmq.backend.cython.error' from 'C:\\\\Users\\\\FREEDEMPIRE-XL\\\\AppData\\\\Roaming\\\\Python\\\\Python312\\\\site-packages\\\\zmq\\\\backend\\\\cython\\\\error.cp312-win_amd64.pyd'>, 'zmq.backend.cython.utils': <module 'zmq.backend.cython.utils' from 'C:\\\\Users\\\\FREEDEMPIRE-XL\\\\AppData\\\\Roaming\\\\Python\\\\Python312\\\\site-packages\\\\zmq\\\\backend\\\\cython\\\\utils.cp312-win_amd64.pyd'>, 'zmq.backend.cython': <module 'zmq.backend.cython' from 'C:\\\\Users\\\\FREEDEMPIRE-XL\\\\AppData\\\\Roaming\\\\Python\\\\Python312\\\\site-packages\\\\zmq\\\\backend\\\\cython\\\\__init__.py'>, 'zmq.backend': <module 'zmq.backend' from 'C:\\\\Users\\\\FREEDEMPIRE-XL\\\\AppData\\\\Roaming\\\\Python\\\\Python312\\\\site-packages\\\\zmq\\\\backend\\\\__init__.py'>, 'atexit': <module 'atexit' (built-in)>, 'zmq.utils': <module 'zmq.utils' from 'C:\\\\Users\\\\FREEDEMPIRE-XL\\\\AppData\\\\Roaming\\\\Python\\\\Python312\\\\site-packages\\\\zmq\\\\utils\\\\__init__.py'>, 'zmq.utils.interop': <module 'zmq.utils.interop' from 'C:\\\\Users\\\\FREEDEMPIRE-XL\\\\AppData\\\\Roaming\\\\Python\\\\Python312\\\\site-packages\\\\zmq\\\\utils\\\\interop.py'>, 'zmq.sugar.attrsettr': <module 'zmq.sugar.attrsettr' from 'C:\\\\Users\\\\FREEDEMPIRE-XL\\\\AppData\\\\Roaming\\\\Python\\\\Python312\\\\site-packages\\\\zmq\\\\sugar\\\\attrsettr.py'>, 'zmq._typing': <module 'zmq._typing' from 'C:\\\\Users\\\\FREEDEMPIRE-XL\\\\AppData\\\\Roaming\\\\Python\\\\Python312\\\\site-packages\\\\zmq\\\\_typing.py'>, 'zmq.utils.jsonapi': <module 'zmq.utils.jsonapi' from 'C:\\\\Users\\\\FREEDEMPIRE-XL\\\\AppData\\\\Roaming\\\\Python\\\\Python312\\\\site-packages\\\\zmq\\\\utils\\\\jsonapi.py'>, 'zmq.sugar.poll': <module 'zmq.sugar.poll' from 'C:\\\\Users\\\\FREEDEMPIRE-XL\\\\AppData\\\\Roaming\\\\Python\\\\Python312\\\\site-packages\\\\zmq\\\\sugar\\\\poll.py'>, 'zmq.sugar.socket': <module 'zmq.sugar.socket' from 'C:\\\\Users\\\\FREEDEMPIRE-XL\\\\AppData\\\\Roaming\\\\Python\\\\Python312\\\\site-packages\\\\zmq\\\\sugar\\\\socket.py'>, 'zmq.sugar.context': <module 'zmq.sugar.context' from 'C:\\\\Users\\\\FREEDEMPIRE-XL\\\\AppData\\\\Roaming\\\\Python\\\\Python312\\\\site-packages\\\\zmq\\\\sugar\\\\context.py'>, 'zmq.sugar.frame': <module 'zmq.sugar.frame' from 'C:\\\\Users\\\\FREEDEMPIRE-XL\\\\AppData\\\\Roaming\\\\Python\\\\Python312\\\\site-packages\\\\zmq\\\\sugar\\\\frame.py'>, 'zmq.sugar.tracker': <module 'zmq.sugar.tracker' from 'C:\\\\Users\\\\FREEDEMPIRE-XL\\\\AppData\\\\Roaming\\\\Python\\\\Python312\\\\site-packages\\\\zmq\\\\sugar\\\\tracker.py'>, 'zmq.sugar.version': <module 'zmq.sugar.version' from 'C:\\\\Users\\\\FREEDEMPIRE-XL\\\\AppData\\\\Roaming\\\\Python\\\\Python312\\\\site-packages\\\\zmq\\\\sugar\\\\version.py'>, 'zmq.sugar.stopwatch': <module 'zmq.sugar.stopwatch' from 'C:\\\\Users\\\\FREEDEMPIRE-XL\\\\AppData\\\\Roaming\\\\Python\\\\Python312\\\\site-packages\\\\zmq\\\\sugar\\\\stopwatch.py'>, 'zmq.sugar': <module 'zmq.sugar' from 'C:\\\\Users\\\\FREEDEMPIRE-XL\\\\AppData\\\\Roaming\\\\Python\\\\Python312\\\\site-packages\\\\zmq\\\\sugar\\\\__init__.py'>, 'zmq': <module 'zmq' from 'C:\\\\Users\\\\FREEDEMPIRE-XL\\\\AppData\\\\Roaming\\\\Python\\\\Python312\\\\site-packages\\\\zmq\\\\__init__.py'>, 'concurrent': <module 'concurrent' from 'c:\\\\Users\\\\FREEDEMPIRE-XL\\\\AppData\\\\Local\\\\Programs\\\\Python\\\\Python312\\\\Lib\\\\concurrent\\\\__init__.py'>, 'token': <module 'token' from 'c:\\\\Users\\\\FREEDEMPIRE-XL\\\\AppData\\\\Local\\\\Programs\\\\Python\\\\Python312\\\\Lib\\\\token.py'>, '_tokenize': <module '_tokenize' (built-in)>, 'tokenize': <module 'tokenize' from 'c:\\\\Users\\\\FREEDEMPIRE-XL\\\\AppData\\\\Local\\\\Programs\\\\Python\\\\Python312\\\\Lib\\\\tokenize.py'>, 'linecache': <module 'linecache' from 'c:\\\\Users\\\\FREEDEMPIRE-XL\\\\AppData\\\\Local\\\\Programs\\\\Python\\\\Python312\\\\Lib\\\\linecache.py'>, 'textwrap': <module 'textwrap' from 'c:\\\\Users\\\\FREEDEMPIRE-XL\\\\AppData\\\\Local\\\\Programs\\\\Python\\\\Python312\\\\Lib\\\\textwrap.py'>, 'traceback': <module 'traceback' from 'c:\\\\Users\\\\FREEDEMPIRE-XL\\\\AppData\\\\Local\\\\Programs\\\\Python\\\\Python312\\\\Lib\\\\traceback.py'>, '_string': <module '_string' (built-in)>, 'string': <module 'string' from 'c:\\\\Users\\\\FREEDEMPIRE-XL\\\\AppData\\\\Local\\\\Programs\\\\Python\\\\Python312\\\\Lib\\\\string.py'>, 'logging': <module 'logging' from 'c:\\\\Users\\\\FREEDEMPIRE-XL\\\\AppData\\\\Local\\\\Programs\\\\Python\\\\Python312\\\\Lib\\\\logging\\\\__init__.py'>, 'concurrent.futures._base': <module 'concurrent.futures._base' from 'c:\\\\Users\\\\FREEDEMPIRE-XL\\\\AppData\\\\Local\\\\Programs\\\\Python\\\\Python312\\\\Lib\\\\concurrent\\\\futures\\\\_base.py'>, 'concurrent.futures': <module 'concurrent.futures' from 'c:\\\\Users\\\\FREEDEMPIRE-XL\\\\AppData\\\\Local\\\\Programs\\\\Python\\\\Python312\\\\Lib\\\\concurrent\\\\futures\\\\__init__.py'>, '_heapq': <module '_heapq' (built-in)>, 'heapq': <module 'heapq' from 'c:\\\\Users\\\\FREEDEMPIRE-XL\\\\AppData\\\\Local\\\\Programs\\\\Python\\\\Python312\\\\Lib\\\\heapq.py'>, '_socket': <module '_socket' from 'c:\\\\Users\\\\FREEDEMPIRE-XL\\\\AppData\\\\Local\\\\Programs\\\\Python\\\\Python312\\\\DLLs\\\\_socket.pyd'>, 'select': <module 'select' from 'c:\\\\Users\\\\FREEDEMPIRE-XL\\\\AppData\\\\Local\\\\Programs\\\\Python\\\\Python312\\\\DLLs\\\\select.pyd'>, 'selectors': <module 'selectors' from 'c:\\\\Users\\\\FREEDEMPIRE-XL\\\\AppData\\\\Local\\\\Programs\\\\Python\\\\Python312\\\\Lib\\\\selectors.py'>, 'socket': <module 'socket' from 'c:\\\\Users\\\\FREEDEMPIRE-XL\\\\AppData\\\\Local\\\\Programs\\\\Python\\\\Python312\\\\Lib\\\\socket.py'>, '_ssl': <module '_ssl' from 'c:\\\\Users\\\\FREEDEMPIRE-XL\\\\AppData\\\\Local\\\\Programs\\\\Python\\\\Python312\\\\DLLs\\\\_ssl.pyd'>, 'binascii': <module 'binascii' (built-in)>, 'base64': <module 'base64' from 'c:\\\\Users\\\\FREEDEMPIRE-XL\\\\AppData\\\\Local\\\\Programs\\\\Python\\\\Python312\\\\Lib\\\\base64.py'>, 'ssl': <module 'ssl' from 'c:\\\\Users\\\\FREEDEMPIRE-XL\\\\AppData\\\\Local\\\\Programs\\\\Python\\\\Python312\\\\Lib\\\\ssl.py'>, 'asyncio.constants': <module 'asyncio.constants' from 'c:\\\\Users\\\\FREEDEMPIRE-XL\\\\AppData\\\\Local\\\\Programs\\\\Python\\\\Python312\\\\Lib\\\\asyncio\\\\constants.py'>, '_ast': <module '_ast' (built-in)>, 'ast': <module 'ast' from 'c:\\\\Users\\\\FREEDEMPIRE-XL\\\\AppData\\\\Local\\\\Programs\\\\Python\\\\Python312\\\\Lib\\\\ast.py'>, '_opcode': <module '_opcode' (built-in)>, 'opcode': <module 'opcode' from 'c:\\\\Users\\\\FREEDEMPIRE-XL\\\\AppData\\\\Local\\\\Programs\\\\Python\\\\Python312\\\\Lib\\\\opcode.py'>, 'dis': <module 'dis' from 'c:\\\\Users\\\\FREEDEMPIRE-XL\\\\AppData\\\\Local\\\\Programs\\\\Python\\\\Python312\\\\Lib\\\\dis.py'>, 'inspect': <module 'inspect' from 'c:\\\\Users\\\\FREEDEMPIRE-XL\\\\AppData\\\\Local\\\\Programs\\\\Python\\\\Python312\\\\Lib\\\\inspect.py'>, 'asyncio.coroutines': <module 'asyncio.coroutines' from 'c:\\\\Users\\\\FREEDEMPIRE-XL\\\\AppData\\\\Local\\\\Programs\\\\Python\\\\Python312\\\\Lib\\\\asyncio\\\\coroutines.py'>, '_contextvars': <module '_contextvars' (built-in)>, 'contextvars': <module 'contextvars' from 'c:\\\\Users\\\\FREEDEMPIRE-XL\\\\AppData\\\\Local\\\\Programs\\\\Python\\\\Python312\\\\Lib\\\\contextvars.py'>, 'asyncio.format_helpers': <module 'asyncio.format_helpers' from 'c:\\\\Users\\\\FREEDEMPIRE-XL\\\\AppData\\\\Local\\\\Programs\\\\Python\\\\Python312\\\\Lib\\\\asyncio\\\\format_helpers.py'>, 'asyncio.base_futures': <module 'asyncio.base_futures' from 'c:\\\\Users\\\\FREEDEMPIRE-XL\\\\AppData\\\\Local\\\\Programs\\\\Python\\\\Python312\\\\Lib\\\\asyncio\\\\base_futures.py'>, 'asyncio.exceptions': <module 'asyncio.exceptions' from 'c:\\\\Users\\\\FREEDEMPIRE-XL\\\\AppData\\\\Local\\\\Programs\\\\Python\\\\Python312\\\\Lib\\\\asyncio\\\\exceptions.py'>, 'asyncio.base_tasks': <module 'asyncio.base_tasks' from 'c:\\\\Users\\\\FREEDEMPIRE-XL\\\\AppData\\\\Local\\\\Programs\\\\Python\\\\Python312\\\\Lib\\\\asyncio\\\\base_tasks.py'>, '_asyncio': <module '_asyncio' from 'c:\\\\Users\\\\FREEDEMPIRE-XL\\\\AppData\\\\Local\\\\Programs\\\\Python\\\\Python312\\\\DLLs\\\\_asyncio.pyd'>, 'asyncio.events': <module 'asyncio.events' from 'c:\\\\Users\\\\FREEDEMPIRE-XL\\\\AppData\\\\Local\\\\Programs\\\\Python\\\\Python312\\\\Lib\\\\asyncio\\\\events.py'>, 'asyncio.futures': <module 'asyncio.futures' from 'c:\\\\Users\\\\FREEDEMPIRE-XL\\\\AppData\\\\Local\\\\Programs\\\\Python\\\\Python312\\\\Lib\\\\asyncio\\\\futures.py'>, 'asyncio.protocols': <module 'asyncio.protocols' from 'c:\\\\Users\\\\FREEDEMPIRE-XL\\\\AppData\\\\Local\\\\Programs\\\\Python\\\\Python312\\\\Lib\\\\asyncio\\\\protocols.py'>, 'asyncio.transports': <module 'asyncio.transports' from 'c:\\\\Users\\\\FREEDEMPIRE-XL\\\\AppData\\\\Local\\\\Programs\\\\Python\\\\Python312\\\\Lib\\\\asyncio\\\\transports.py'>, 'asyncio.log': <module 'asyncio.log' from 'c:\\\\Users\\\\FREEDEMPIRE-XL\\\\AppData\\\\Local\\\\Programs\\\\Python\\\\Python312\\\\Lib\\\\asyncio\\\\log.py'>, 'asyncio.sslproto': <module 'asyncio.sslproto' from 'c:\\\\Users\\\\FREEDEMPIRE-XL\\\\AppData\\\\Local\\\\Programs\\\\Python\\\\Python312\\\\Lib\\\\asyncio\\\\sslproto.py'>, 'asyncio.mixins': <module 'asyncio.mixins' from 'c:\\\\Users\\\\FREEDEMPIRE-XL\\\\AppData\\\\Local\\\\Programs\\\\Python\\\\Python312\\\\Lib\\\\asyncio\\\\mixins.py'>, 'asyncio.locks': <module 'asyncio.locks' from 'c:\\\\Users\\\\FREEDEMPIRE-XL\\\\AppData\\\\Local\\\\Programs\\\\Python\\\\Python312\\\\Lib\\\\asyncio\\\\locks.py'>, 'asyncio.timeouts': <module 'asyncio.timeouts' from 'c:\\\\Users\\\\FREEDEMPIRE-XL\\\\AppData\\\\Local\\\\Programs\\\\Python\\\\Python312\\\\Lib\\\\asyncio\\\\timeouts.py'>, 'asyncio.tasks': <module 'asyncio.tasks' from 'c:\\\\Users\\\\FREEDEMPIRE-XL\\\\AppData\\\\Local\\\\Programs\\\\Python\\\\Python312\\\\Lib\\\\asyncio\\\\tasks.py'>, 'asyncio.staggered': <module 'asyncio.staggered' from 'c:\\\\Users\\\\FREEDEMPIRE-XL\\\\AppData\\\\Local\\\\Programs\\\\Python\\\\Python312\\\\Lib\\\\asyncio\\\\staggered.py'>, 'asyncio.trsock': <module 'asyncio.trsock' from 'c:\\\\Users\\\\FREEDEMPIRE-XL\\\\AppData\\\\Local\\\\Programs\\\\Python\\\\Python312\\\\Lib\\\\asyncio\\\\trsock.py'>, 'asyncio.base_events': <module 'asyncio.base_events' from 'c:\\\\Users\\\\FREEDEMPIRE-XL\\\\AppData\\\\Local\\\\Programs\\\\Python\\\\Python312\\\\Lib\\\\asyncio\\\\base_events.py'>, 'asyncio.runners': <module 'asyncio.runners' from 'c:\\\\Users\\\\FREEDEMPIRE-XL\\\\AppData\\\\Local\\\\Programs\\\\Python\\\\Python312\\\\Lib\\\\asyncio\\\\runners.py'>, 'asyncio.queues': <module 'asyncio.queues' from 'c:\\\\Users\\\\FREEDEMPIRE-XL\\\\AppData\\\\Local\\\\Programs\\\\Python\\\\Python312\\\\Lib\\\\asyncio\\\\queues.py'>, 'asyncio.streams': <module 'asyncio.streams' from 'c:\\\\Users\\\\FREEDEMPIRE-XL\\\\AppData\\\\Local\\\\Programs\\\\Python\\\\Python312\\\\Lib\\\\asyncio\\\\streams.py'>, 'asyncio.subprocess': <module 'asyncio.subprocess' from 'c:\\\\Users\\\\FREEDEMPIRE-XL\\\\AppData\\\\Local\\\\Programs\\\\Python\\\\Python312\\\\Lib\\\\asyncio\\\\subprocess.py'>, 'asyncio.taskgroups': <module 'asyncio.taskgroups' from 'c:\\\\Users\\\\FREEDEMPIRE-XL\\\\AppData\\\\Local\\\\Programs\\\\Python\\\\Python312\\\\Lib\\\\asyncio\\\\taskgroups.py'>, 'asyncio.threads': <module 'asyncio.threads' from 'c:\\\\Users\\\\FREEDEMPIRE-XL\\\\AppData\\\\Local\\\\Programs\\\\Python\\\\Python312\\\\Lib\\\\asyncio\\\\threads.py'>, '_overlapped': <module '_overlapped' from 'c:\\\\Users\\\\FREEDEMPIRE-XL\\\\AppData\\\\Local\\\\Programs\\\\Python\\\\Python312\\\\DLLs\\\\_overlapped.pyd'>, 'asyncio.base_subprocess': <module 'asyncio.base_subprocess' from 'c:\\\\Users\\\\FREEDEMPIRE-XL\\\\AppData\\\\Local\\\\Programs\\\\Python\\\\Python312\\\\Lib\\\\asyncio\\\\base_subprocess.py'>, 'asyncio.proactor_events': <module 'asyncio.proactor_events' from 'c:\\\\Users\\\\FREEDEMPIRE-XL\\\\AppData\\\\Local\\\\Programs\\\\Python\\\\Python312\\\\Lib\\\\asyncio\\\\proactor_events.py'>, 'asyncio.selector_events': <module 'asyncio.selector_events' from 'c:\\\\Users\\\\FREEDEMPIRE-XL\\\\AppData\\\\Local\\\\Programs\\\\Python\\\\Python312\\\\Lib\\\\asyncio\\\\selector_events.py'>, 'posixpath': <module 'posixpath' (frozen)>, 'fnmatch': <module 'fnmatch' from 'c:\\\\Users\\\\FREEDEMPIRE-XL\\\\AppData\\\\Local\\\\Programs\\\\Python\\\\Python312\\\\Lib\\\\fnmatch.py'>, 'zlib': <module 'zlib' (built-in)>, '_compression': <module '_compression' from 'c:\\\\Users\\\\FREEDEMPIRE-XL\\\\AppData\\\\Local\\\\Programs\\\\Python\\\\Python312\\\\Lib\\\\_compression.py'>, '_bz2': <module '_bz2' from 'c:\\\\Users\\\\FREEDEMPIRE-XL\\\\AppData\\\\Local\\\\Programs\\\\Python\\\\Python312\\\\DLLs\\\\_bz2.pyd'>, 'bz2': <module 'bz2' from 'c:\\\\Users\\\\FREEDEMPIRE-XL\\\\AppData\\\\Local\\\\Programs\\\\Python\\\\Python312\\\\Lib\\\\bz2.py'>, '_lzma': <module '_lzma' from 'c:\\\\Users\\\\FREEDEMPIRE-XL\\\\AppData\\\\Local\\\\Programs\\\\Python\\\\Python312\\\\DLLs\\\\_lzma.pyd'>, 'lzma': <module 'lzma' from 'c:\\\\Users\\\\FREEDEMPIRE-XL\\\\AppData\\\\Local\\\\Programs\\\\Python\\\\Python312\\\\Lib\\\\lzma.py'>, 'shutil': <module 'shutil' from 'c:\\\\Users\\\\FREEDEMPIRE-XL\\\\AppData\\\\Local\\\\Programs\\\\Python\\\\Python312\\\\Lib\\\\shutil.py'>, 'tempfile': <module 'tempfile' from 'c:\\\\Users\\\\FREEDEMPIRE-XL\\\\AppData\\\\Local\\\\Programs\\\\Python\\\\Python312\\\\Lib\\\\tempfile.py'>, 'asyncio.windows_utils': <module 'asyncio.windows_utils' from 'c:\\\\Users\\\\FREEDEMPIRE-XL\\\\AppData\\\\Local\\\\Programs\\\\Python\\\\Python312\\\\Lib\\\\asyncio\\\\windows_utils.py'>, 'asyncio.windows_events': <module 'asyncio.windows_events' from 'c:\\\\Users\\\\FREEDEMPIRE-XL\\\\AppData\\\\Local\\\\Programs\\\\Python\\\\Python312\\\\Lib\\\\asyncio\\\\windows_events.py'>, 'asyncio': <module 'asyncio' from 'c:\\\\Users\\\\FREEDEMPIRE-XL\\\\AppData\\\\Local\\\\Programs\\\\Python\\\\Python312\\\\Lib\\\\asyncio\\\\__init__.py'>, 'zmq._future': <module 'zmq._future' from 'C:\\\\Users\\\\FREEDEMPIRE-XL\\\\AppData\\\\Roaming\\\\Python\\\\Python312\\\\site-packages\\\\zmq\\\\_future.py'>, 'zmq.asyncio': <module 'zmq.asyncio' from 'C:\\\\Users\\\\FREEDEMPIRE-XL\\\\AppData\\\\Roaming\\\\Python\\\\Python312\\\\site-packages\\\\zmq\\\\asyncio.py'>, 'urllib': <module 'urllib' from 'c:\\\\Users\\\\FREEDEMPIRE-XL\\\\AppData\\\\Local\\\\Programs\\\\Python\\\\Python312\\\\Lib\\\\urllib\\\\__init__.py'>, 'ipaddress': <module 'ipaddress' from 'c:\\\\Users\\\\FREEDEMPIRE-XL\\\\AppData\\\\Local\\\\Programs\\\\Python\\\\Python312\\\\Lib\\\\ipaddress.py'>, 'urllib.parse': <module 'urllib.parse' from 'c:\\\\Users\\\\FREEDEMPIRE-XL\\\\AppData\\\\Local\\\\Programs\\\\Python\\\\Python312\\\\Lib\\\\urllib\\\\parse.py'>, 'pathlib': <module 'pathlib' from 'c:\\\\Users\\\\FREEDEMPIRE-XL\\\\AppData\\\\Local\\\\Programs\\\\Python\\\\Python312\\\\Lib\\\\pathlib.py'>, 'traitlets.utils': <module 'traitlets.utils' from 'C:\\\\Users\\\\FREEDEMPIRE-XL\\\\AppData\\\\Roaming\\\\Python\\\\Python312\\\\site-packages\\\\traitlets\\\\utils\\\\__init__.py'>, 'traitlets.utils.bunch': <module 'traitlets.utils.bunch' from 'C:\\\\Users\\\\FREEDEMPIRE-XL\\\\AppData\\\\Roaming\\\\Python\\\\Python312\\\\site-packages\\\\traitlets\\\\utils\\\\bunch.py'>, 'traitlets.utils.descriptions': <module 'traitlets.utils.descriptions' from 'C:\\\\Users\\\\FREEDEMPIRE-XL\\\\AppData\\\\Roaming\\\\Python\\\\Python312\\\\site-packages\\\\traitlets\\\\utils\\\\descriptions.py'>, 'traitlets.utils.getargspec': <module 'traitlets.utils.getargspec' from 'C:\\\\Users\\\\FREEDEMPIRE-XL\\\\AppData\\\\Roaming\\\\Python\\\\Python312\\\\site-packages\\\\traitlets\\\\utils\\\\getargspec.py'>, 'traitlets.utils.importstring': <module 'traitlets.utils.importstring' from 'C:\\\\Users\\\\FREEDEMPIRE-XL\\\\AppData\\\\Roaming\\\\Python\\\\Python312\\\\site-packages\\\\traitlets\\\\utils\\\\importstring.py'>, 'traitlets.utils.sentinel': <module 'traitlets.utils.sentinel' from 'C:\\\\Users\\\\FREEDEMPIRE-XL\\\\AppData\\\\Roaming\\\\Python\\\\Python312\\\\site-packages\\\\traitlets\\\\utils\\\\sentinel.py'>, 'traitlets.utils.warnings': <module 'traitlets.utils.warnings' from 'C:\\\\Users\\\\FREEDEMPIRE-XL\\\\AppData\\\\Roaming\\\\Python\\\\Python312\\\\site-packages\\\\traitlets\\\\utils\\\\warnings.py'>, 'traitlets.traitlets': <module 'traitlets.traitlets' from 'C:\\\\Users\\\\FREEDEMPIRE-XL\\\\AppData\\\\Roaming\\\\Python\\\\Python312\\\\site-packages\\\\traitlets\\\\traitlets.py'>, 'traitlets._version': <module 'traitlets._version' from 'C:\\\\Users\\\\FREEDEMPIRE-XL\\\\AppData\\\\Roaming\\\\Python\\\\Python312\\\\site-packages\\\\traitlets\\\\_version.py'>, 'traitlets.utils.decorators': <module 'traitlets.utils.decorators' from 'C:\\\\Users\\\\FREEDEMPIRE-XL\\\\AppData\\\\Roaming\\\\Python\\\\Python312\\\\site-packages\\\\traitlets\\\\utils\\\\decorators.py'>, 'traitlets': <module 'traitlets' from 'C:\\\\Users\\\\FREEDEMPIRE-XL\\\\AppData\\\\Roaming\\\\Python\\\\Python312\\\\site-packages\\\\traitlets\\\\__init__.py'>, '_queue': <module '_queue' from 'c:\\\\Users\\\\FREEDEMPIRE-XL\\\\AppData\\\\Local\\\\Programs\\\\Python\\\\Python312\\\\DLLs\\\\_queue.pyd'>, 'queue': <module 'queue' from 'c:\\\\Users\\\\FREEDEMPIRE-XL\\\\AppData\\\\Local\\\\Programs\\\\Python\\\\Python312\\\\Lib\\\\queue.py'>, 'jupyter_core': <module 'jupyter_core' from 'C:\\\\Users\\\\FREEDEMPIRE-XL\\\\AppData\\\\Roaming\\\\Python\\\\Python312\\\\site-packages\\\\jupyter_core\\\\__init__.py'>, 'jupyter_core.utils': <module 'jupyter_core.utils' from 'C:\\\\Users\\\\FREEDEMPIRE-XL\\\\AppData\\\\Roaming\\\\Python\\\\Python312\\\\site-packages\\\\jupyter_core\\\\utils\\\\__init__.py'>, 'jupyter_client.channelsabc': <module 'jupyter_client.channelsabc' from 'C:\\\\Users\\\\FREEDEMPIRE-XL\\\\AppData\\\\Roaming\\\\Python\\\\Python312\\\\site-packages\\\\jupyter_client\\\\channelsabc.py'>, '_hashlib': <module '_hashlib' from 'c:\\\\Users\\\\FREEDEMPIRE-XL\\\\AppData\\\\Local\\\\Programs\\\\Python\\\\Python312\\\\DLLs\\\\_hashlib.pyd'>, '_blake2': <module '_blake2' (built-in)>, 'hashlib': <module 'hashlib' from 'c:\\\\Users\\\\FREEDEMPIRE-XL\\\\AppData\\\\Local\\\\Programs\\\\Python\\\\Python312\\\\Lib\\\\hashlib.py'>, 'hmac': <module 'hmac' from 'c:\\\\Users\\\\FREEDEMPIRE-XL\\\\AppData\\\\Local\\\\Programs\\\\Python\\\\Python312\\\\Lib\\\\hmac.py'>, 'dataclasses': <module 'dataclasses' from 'c:\\\\Users\\\\FREEDEMPIRE-XL\\\\AppData\\\\Local\\\\Programs\\\\Python\\\\Python312\\\\Lib\\\\dataclasses.py'>, 'pprint': <module 'pprint' from 'c:\\\\Users\\\\FREEDEMPIRE-XL\\\\AppData\\\\Local\\\\Programs\\\\Python\\\\Python312\\\\Lib\\\\pprint.py'>, '_datetime': <module '_datetime' (built-in)>, 'datetime': <module 'datetime' from 'c:\\\\Users\\\\FREEDEMPIRE-XL\\\\AppData\\\\Local\\\\Programs\\\\Python\\\\Python312\\\\Lib\\\\datetime.py'>, 'tornado': <module 'tornado' from 'C:\\\\Users\\\\FREEDEMPIRE-XL\\\\AppData\\\\Roaming\\\\Python\\\\Python312\\\\site-packages\\\\tornado\\\\__init__.py'>, 'numbers': <module 'numbers' from 'c:\\\\Users\\\\FREEDEMPIRE-XL\\\\AppData\\\\Local\\\\Programs\\\\Python\\\\Python312\\\\Lib\\\\numbers.py'>, 'logging.handlers': <module 'logging.handlers' from 'c:\\\\Users\\\\FREEDEMPIRE-XL\\\\AppData\\\\Local\\\\Programs\\\\Python\\\\Python312\\\\Lib\\\\logging\\\\handlers.py'>, 'html.entities': <module 'html.entities' from 'c:\\\\Users\\\\FREEDEMPIRE-XL\\\\AppData\\\\Local\\\\Programs\\\\Python\\\\Python312\\\\Lib\\\\html\\\\entities.py'>, 'html': <module 'html' from 'c:\\\\Users\\\\FREEDEMPIRE-XL\\\\AppData\\\\Local\\\\Programs\\\\Python\\\\Python312\\\\Lib\\\\html\\\\__init__.py'>, 'array': <module 'array' (built-in)>, 'tornado.speedups': <module 'tornado.speedups' from 'C:\\\\Users\\\\FREEDEMPIRE-XL\\\\AppData\\\\Roaming\\\\Python\\\\Python312\\\\site-packages\\\\tornado\\\\speedups.pyd'>, 'tornado.util': <module 'tornado.util' from 'C:\\\\Users\\\\FREEDEMPIRE-XL\\\\AppData\\\\Roaming\\\\Python\\\\Python312\\\\site-packages\\\\tornado\\\\util.py'>, 'tornado.escape': <module 'tornado.escape' from 'C:\\\\Users\\\\FREEDEMPIRE-XL\\\\AppData\\\\Roaming\\\\Python\\\\Python312\\\\site-packages\\\\tornado\\\\escape.py'>, 'colorama.ansi': <module 'colorama.ansi' from 'C:\\\\Users\\\\FREEDEMPIRE-XL\\\\AppData\\\\Roaming\\\\Python\\\\Python312\\\\site-packages\\\\colorama\\\\ansi.py'>, '_ctypes': <module '_ctypes' from 'c:\\\\Users\\\\FREEDEMPIRE-XL\\\\AppData\\\\Local\\\\Programs\\\\Python\\\\Python312\\\\DLLs\\\\_ctypes.pyd'>, 'ctypes._endian': <module 'ctypes._endian' from 'c:\\\\Users\\\\FREEDEMPIRE-XL\\\\AppData\\\\Local\\\\Programs\\\\Python\\\\Python312\\\\Lib\\\\ctypes\\\\_endian.py'>, 'ctypes': <module 'ctypes' from 'c:\\\\Users\\\\FREEDEMPIRE-XL\\\\AppData\\\\Local\\\\Programs\\\\Python\\\\Python312\\\\Lib\\\\ctypes\\\\__init__.py'>, 'ctypes.wintypes': <module 'ctypes.wintypes' from 'c:\\\\Users\\\\FREEDEMPIRE-XL\\\\AppData\\\\Local\\\\Programs\\\\Python\\\\Python312\\\\Lib\\\\ctypes\\\\wintypes.py'>, 'colorama.win32': <module 'colorama.win32' from 'C:\\\\Users\\\\FREEDEMPIRE-XL\\\\AppData\\\\Roaming\\\\Python\\\\Python312\\\\site-packages\\\\colorama\\\\win32.py'>, 'colorama.winterm': <module 'colorama.winterm' from 'C:\\\\Users\\\\FREEDEMPIRE-XL\\\\AppData\\\\Roaming\\\\Python\\\\Python312\\\\site-packages\\\\colorama\\\\winterm.py'>, 'colorama.ansitowin32': <module 'colorama.ansitowin32' from 'C:\\\\Users\\\\FREEDEMPIRE-XL\\\\AppData\\\\Roaming\\\\Python\\\\Python312\\\\site-packages\\\\colorama\\\\ansitowin32.py'>, 'colorama.initialise': <module 'colorama.initialise' from 'C:\\\\Users\\\\FREEDEMPIRE-XL\\\\AppData\\\\Roaming\\\\Python\\\\Python312\\\\site-packages\\\\colorama\\\\initialise.py'>, 'colorama': <module 'colorama' from 'C:\\\\Users\\\\FREEDEMPIRE-XL\\\\AppData\\\\Roaming\\\\Python\\\\Python312\\\\site-packages\\\\colorama\\\\__init__.py'>, 'tornado.log': <module 'tornado.log' from 'C:\\\\Users\\\\FREEDEMPIRE-XL\\\\AppData\\\\Roaming\\\\Python\\\\Python312\\\\site-packages\\\\tornado\\\\log.py'>, 'tornado.concurrent': <module 'tornado.concurrent' from 'C:\\\\Users\\\\FREEDEMPIRE-XL\\\\AppData\\\\Roaming\\\\Python\\\\Python312\\\\site-packages\\\\tornado\\\\concurrent.py'>, 'tornado.ioloop': <module 'tornado.ioloop' from 'C:\\\\Users\\\\FREEDEMPIRE-XL\\\\AppData\\\\Roaming\\\\Python\\\\Python312\\\\site-packages\\\\tornado\\\\ioloop.py'>, 'socketserver': <module 'socketserver' from 'c:\\\\Users\\\\FREEDEMPIRE-XL\\\\AppData\\\\Local\\\\Programs\\\\Python\\\\Python312\\\\Lib\\\\socketserver.py'>, 'logging.config': <module 'logging.config' from 'c:\\\\Users\\\\FREEDEMPIRE-XL\\\\AppData\\\\Local\\\\Programs\\\\Python\\\\Python312\\\\Lib\\\\logging\\\\config.py'>, 'traitlets.utils.text': <module 'traitlets.utils.text' from 'C:\\\\Users\\\\FREEDEMPIRE-XL\\\\AppData\\\\Roaming\\\\Python\\\\Python312\\\\site-packages\\\\traitlets\\\\utils\\\\text.py'>, 'gettext': <module 'gettext' from 'c:\\\\Users\\\\FREEDEMPIRE-XL\\\\AppData\\\\Local\\\\Programs\\\\Python\\\\Python312\\\\Lib\\\\gettext.py'>, 'argparse': <module 'argparse' from 'c:\\\\Users\\\\FREEDEMPIRE-XL\\\\AppData\\\\Local\\\\Programs\\\\Python\\\\Python312\\\\Lib\\\\argparse.py'>, 'traitlets.config.loader': <module 'traitlets.config.loader' from 'C:\\\\Users\\\\FREEDEMPIRE-XL\\\\AppData\\\\Roaming\\\\Python\\\\Python312\\\\site-packages\\\\traitlets\\\\config\\\\loader.py'>, 'traitlets.config.configurable': <module 'traitlets.config.configurable' from 'C:\\\\Users\\\\FREEDEMPIRE-XL\\\\AppData\\\\Roaming\\\\Python\\\\Python312\\\\site-packages\\\\traitlets\\\\config\\\\configurable.py'>, 'traitlets.utils.nested_update': <module 'traitlets.utils.nested_update' from 'C:\\\\Users\\\\FREEDEMPIRE-XL\\\\AppData\\\\Roaming\\\\Python\\\\Python312\\\\site-packages\\\\traitlets\\\\utils\\\\nested_update.py'>, 'traitlets.config.application': <module 'traitlets.config.application' from 'C:\\\\Users\\\\FREEDEMPIRE-XL\\\\AppData\\\\Roaming\\\\Python\\\\Python312\\\\site-packages\\\\traitlets\\\\config\\\\application.py'>, 'traitlets.config': <module 'traitlets.config' from 'C:\\\\Users\\\\FREEDEMPIRE-XL\\\\AppData\\\\Roaming\\\\Python\\\\Python312\\\\site-packages\\\\traitlets\\\\config\\\\__init__.py'>, 'traitlets.log': <module 'traitlets.log' from 'C:\\\\Users\\\\FREEDEMPIRE-XL\\\\AppData\\\\Roaming\\\\Python\\\\Python312\\\\site-packages\\\\traitlets\\\\log.py'>, 'zmq.eventloop': <module 'zmq.eventloop' from 'C:\\\\Users\\\\FREEDEMPIRE-XL\\\\AppData\\\\Roaming\\\\Python\\\\Python312\\\\site-packages\\\\zmq\\\\eventloop\\\\__init__.py'>, 'zmq.eventloop.zmqstream': <module 'zmq.eventloop.zmqstream' from 'C:\\\\Users\\\\FREEDEMPIRE-XL\\\\AppData\\\\Roaming\\\\Python\\\\Python312\\\\site-packages\\\\zmq\\\\eventloop\\\\zmqstream.py'>, 'jupyter_client.adapter': <module 'jupyter_client.adapter' from 'C:\\\\Users\\\\FREEDEMPIRE-XL\\\\AppData\\\\Roaming\\\\Python\\\\Python312\\\\site-packages\\\\jupyter_client\\\\adapter.py'>, 'dateutil._version': <module 'dateutil._version' from 'C:\\\\Users\\\\FREEDEMPIRE-XL\\\\AppData\\\\Roaming\\\\Python\\\\Python312\\\\site-packages\\\\dateutil\\\\_version.py'>, 'dateutil': <module 'dateutil' from 'C:\\\\Users\\\\FREEDEMPIRE-XL\\\\AppData\\\\Roaming\\\\Python\\\\Python312\\\\site-packages\\\\dateutil\\\\__init__.py'>, 'calendar': <module 'calendar' from 'c:\\\\Users\\\\FREEDEMPIRE-XL\\\\AppData\\\\Local\\\\Programs\\\\Python\\\\Python312\\\\Lib\\\\calendar.py'>, 'six': <module 'six' from 'C:\\\\Users\\\\FREEDEMPIRE-XL\\\\AppData\\\\Roaming\\\\Python\\\\Python312\\\\site-packages\\\\six.py'>, '_decimal': <module '_decimal' from 'c:\\\\Users\\\\FREEDEMPIRE-XL\\\\AppData\\\\Local\\\\Programs\\\\Python\\\\Python312\\\\DLLs\\\\_decimal.pyd'>, 'decimal': <module 'decimal' from 'c:\\\\Users\\\\FREEDEMPIRE-XL\\\\AppData\\\\Local\\\\Programs\\\\Python\\\\Python312\\\\Lib\\\\decimal.py'>, 'dateutil._common': <module 'dateutil._common' from 'C:\\\\Users\\\\FREEDEMPIRE-XL\\\\AppData\\\\Roaming\\\\Python\\\\Python312\\\\site-packages\\\\dateutil\\\\_common.py'>, 'dateutil.relativedelta': <module 'dateutil.relativedelta' from 'C:\\\\Users\\\\FREEDEMPIRE-XL\\\\AppData\\\\Roaming\\\\Python\\\\Python312\\\\site-packages\\\\dateutil\\\\relativedelta.py'>, 'six.moves': <module 'six.moves' (<six._SixMetaPathImporter object at 0x000002185AD0DA30>)>, 'dateutil.tz._common': <module 'dateutil.tz._common' from 'C:\\\\Users\\\\FREEDEMPIRE-XL\\\\AppData\\\\Roaming\\\\Python\\\\Python312\\\\site-packages\\\\dateutil\\\\tz\\\\_common.py'>, 'dateutil.tz._factories': <module 'dateutil.tz._factories' from 'C:\\\\Users\\\\FREEDEMPIRE-XL\\\\AppData\\\\Roaming\\\\Python\\\\Python312\\\\site-packages\\\\dateutil\\\\tz\\\\_factories.py'>, 'dateutil.tz.win': <module 'dateutil.tz.win' from 'C:\\\\Users\\\\FREEDEMPIRE-XL\\\\AppData\\\\Roaming\\\\Python\\\\Python312\\\\site-packages\\\\dateutil\\\\tz\\\\win.py'>, 'dateutil.tz.tz': <module 'dateutil.tz.tz' from 'C:\\\\Users\\\\FREEDEMPIRE-XL\\\\AppData\\\\Roaming\\\\Python\\\\Python312\\\\site-packages\\\\dateutil\\\\tz\\\\tz.py'>, 'dateutil.tz': <module 'dateutil.tz' from 'C:\\\\Users\\\\FREEDEMPIRE-XL\\\\AppData\\\\Roaming\\\\Python\\\\Python312\\\\site-packages\\\\dateutil\\\\tz\\\\__init__.py'>, 'dateutil.parser._parser': <module 'dateutil.parser._parser' from 'C:\\\\Users\\\\FREEDEMPIRE-XL\\\\AppData\\\\Roaming\\\\Python\\\\Python312\\\\site-packages\\\\dateutil\\\\parser\\\\_parser.py'>, 'dateutil.parser.isoparser': <module 'dateutil.parser.isoparser' from 'C:\\\\Users\\\\FREEDEMPIRE-XL\\\\AppData\\\\Roaming\\\\Python\\\\Python312\\\\site-packages\\\\dateutil\\\\parser\\\\isoparser.py'>, 'dateutil.parser': <module 'dateutil.parser' from 'C:\\\\Users\\\\FREEDEMPIRE-XL\\\\AppData\\\\Roaming\\\\Python\\\\Python312\\\\site-packages\\\\dateutil\\\\parser\\\\__init__.py'>, '_strptime': <module '_strptime' from 'c:\\\\Users\\\\FREEDEMPIRE-XL\\\\AppData\\\\Local\\\\Programs\\\\Python\\\\Python312\\\\Lib\\\\_strptime.py'>, 'jupyter_client.jsonutil': <module 'jupyter_client.jsonutil' from 'C:\\\\Users\\\\FREEDEMPIRE-XL\\\\AppData\\\\Roaming\\\\Python\\\\Python312\\\\site-packages\\\\jupyter_client\\\\jsonutil.py'>, 'jupyter_client.session': <module 'jupyter_client.session' from 'C:\\\\Users\\\\FREEDEMPIRE-XL\\\\AppData\\\\Roaming\\\\Python\\\\Python312\\\\site-packages\\\\jupyter_client\\\\session.py'>, 'jupyter_client.channels': <module 'jupyter_client.channels' from 'C:\\\\Users\\\\FREEDEMPIRE-XL\\\\AppData\\\\Roaming\\\\Python\\\\Python312\\\\site-packages\\\\jupyter_client\\\\channels.py'>, 'getpass': <module 'getpass' from 'c:\\\\Users\\\\FREEDEMPIRE-XL\\\\AppData\\\\Local\\\\Programs\\\\Python\\\\Python312\\\\Lib\\\\getpass.py'>, 'jupyter_client.clientabc': <module 'jupyter_client.clientabc' from 'C:\\\\Users\\\\FREEDEMPIRE-XL\\\\AppData\\\\Roaming\\\\Python\\\\Python312\\\\site-packages\\\\jupyter_client\\\\clientabc.py'>, 'glob': <module 'glob' from 'c:\\\\Users\\\\FREEDEMPIRE-XL\\\\AppData\\\\Local\\\\Programs\\\\Python\\\\Python312\\\\Lib\\\\glob.py'>, 'platformdirs.api': <module 'platformdirs.api' from 'C:\\\\Users\\\\FREEDEMPIRE-XL\\\\AppData\\\\Roaming\\\\Python\\\\Python312\\\\site-packages\\\\platformdirs\\\\api.py'>, 'platformdirs.version': <module 'platformdirs.version' from 'C:\\\\Users\\\\FREEDEMPIRE-XL\\\\AppData\\\\Roaming\\\\Python\\\\Python312\\\\site-packages\\\\platformdirs\\\\version.py'>, 'platformdirs.windows': <module 'platformdirs.windows' from 'C:\\\\Users\\\\FREEDEMPIRE-XL\\\\AppData\\\\Roaming\\\\Python\\\\Python312\\\\site-packages\\\\platformdirs\\\\windows.py'>, 'platformdirs': <module 'platformdirs' from 'C:\\\\Users\\\\FREEDEMPIRE-XL\\\\AppData\\\\Roaming\\\\Python\\\\Python312\\\\site-packages\\\\platformdirs\\\\__init__.py'>, 'jupyter_core.paths': <module 'jupyter_core.paths' from 'C:\\\\Users\\\\FREEDEMPIRE-XL\\\\AppData\\\\Roaming\\\\Python\\\\Python312\\\\site-packages\\\\jupyter_core\\\\paths.py'>, 'jupyter_client.localinterfaces': <module 'jupyter_client.localinterfaces' from 'C:\\\\Users\\\\FREEDEMPIRE-XL\\\\AppData\\\\Roaming\\\\Python\\\\Python312\\\\site-packages\\\\jupyter_client\\\\localinterfaces.py'>, 'jupyter_client.utils': <module 'jupyter_client.utils' from 'C:\\\\Users\\\\FREEDEMPIRE-XL\\\\AppData\\\\Roaming\\\\Python\\\\Python312\\\\site-packages\\\\jupyter_client\\\\utils.py'>, 'jupyter_client.connect': <module 'jupyter_client.connect' from 'C:\\\\Users\\\\FREEDEMPIRE-XL\\\\AppData\\\\Roaming\\\\Python\\\\Python312\\\\site-packages\\\\jupyter_client\\\\connect.py'>, 'jupyter_client.client': <module 'jupyter_client.client' from 'C:\\\\Users\\\\FREEDEMPIRE-XL\\\\AppData\\\\Roaming\\\\Python\\\\Python312\\\\site-packages\\\\jupyter_client\\\\client.py'>, 'jupyter_client.asynchronous.client': <module 'jupyter_client.asynchronous.client' from 'C:\\\\Users\\\\FREEDEMPIRE-XL\\\\AppData\\\\Roaming\\\\Python\\\\Python312\\\\site-packages\\\\jupyter_client\\\\asynchronous\\\\client.py'>, 'jupyter_client.asynchronous': <module 'jupyter_client.asynchronous' from 'C:\\\\Users\\\\FREEDEMPIRE-XL\\\\AppData\\\\Roaming\\\\Python\\\\Python312\\\\site-packages\\\\jupyter_client\\\\asynchronous\\\\__init__.py'>, 'jupyter_client.blocking.client': <module 'jupyter_client.blocking.client' from 'C:\\\\Users\\\\FREEDEMPIRE-XL\\\\AppData\\\\Roaming\\\\Python\\\\Python312\\\\site-packages\\\\jupyter_client\\\\blocking\\\\client.py'>, 'jupyter_client.blocking': <module 'jupyter_client.blocking' from 'C:\\\\Users\\\\FREEDEMPIRE-XL\\\\AppData\\\\Roaming\\\\Python\\\\Python312\\\\site-packages\\\\jupyter_client\\\\blocking\\\\__init__.py'>, 'jupyter_client.launcher': <module 'jupyter_client.launcher' from 'C:\\\\Users\\\\FREEDEMPIRE-XL\\\\AppData\\\\Roaming\\\\Python\\\\Python312\\\\site-packages\\\\jupyter_client\\\\launcher.py'>, '_uuid': <module '_uuid' from 'c:\\\\Users\\\\FREEDEMPIRE-XL\\\\AppData\\\\Local\\\\Programs\\\\Python\\\\Python312\\\\DLLs\\\\_uuid.pyd'>, 'uuid': <module 'uuid' from 'c:\\\\Users\\\\FREEDEMPIRE-XL\\\\AppData\\\\Local\\\\Programs\\\\Python\\\\Python312\\\\Lib\\\\uuid.py'>, '_csv': <module '_csv' (built-in)>, 'csv': <module 'csv' from 'c:\\\\Users\\\\FREEDEMPIRE-XL\\\\AppData\\\\Local\\\\Programs\\\\Python\\\\Python312\\\\Lib\\\\csv.py'>, 'email': <module 'email' from 'c:\\\\Users\\\\FREEDEMPIRE-XL\\\\AppData\\\\Local\\\\Programs\\\\Python\\\\Python312\\\\Lib\\\\email\\\\__init__.py'>, 'zipfile._path.glob': <module 'zipfile._path.glob' from 'c:\\\\Users\\\\FREEDEMPIRE-XL\\\\AppData\\\\Local\\\\Programs\\\\Python\\\\Python312\\\\Lib\\\\zipfile\\\\_path\\\\glob.py'>, 'zipfile._path': <module 'zipfile._path' from 'c:\\\\Users\\\\FREEDEMPIRE-XL\\\\AppData\\\\Local\\\\Programs\\\\Python\\\\Python312\\\\Lib\\\\zipfile\\\\_path\\\\__init__.py'>, 'zipfile': <module 'zipfile' from 'c:\\\\Users\\\\FREEDEMPIRE-XL\\\\AppData\\\\Local\\\\Programs\\\\Python\\\\Python312\\\\Lib\\\\zipfile\\\\__init__.py'>, 'quopri': <module 'quopri' from 'c:\\\\Users\\\\FREEDEMPIRE-XL\\\\AppData\\\\Local\\\\Programs\\\\Python\\\\Python312\\\\Lib\\\\quopri.py'>, 'email._parseaddr': <module 'email._parseaddr' from 'c:\\\\Users\\\\FREEDEMPIRE-XL\\\\AppData\\\\Local\\\\Programs\\\\Python\\\\Python312\\\\Lib\\\\email\\\\_parseaddr.py'>, 'email.base64mime': <module 'email.base64mime' from 'c:\\\\Users\\\\FREEDEMPIRE-XL\\\\AppData\\\\Local\\\\Programs\\\\Python\\\\Python312\\\\Lib\\\\email\\\\base64mime.py'>, 'email.quoprimime': <module 'email.quoprimime' from 'c:\\\\Users\\\\FREEDEMPIRE-XL\\\\AppData\\\\Local\\\\Programs\\\\Python\\\\Python312\\\\Lib\\\\email\\\\quoprimime.py'>, 'email.errors': <module 'email.errors' from 'c:\\\\Users\\\\FREEDEMPIRE-XL\\\\AppData\\\\Local\\\\Programs\\\\Python\\\\Python312\\\\Lib\\\\email\\\\errors.py'>, 'email.encoders': <module 'email.encoders' from 'c:\\\\Users\\\\FREEDEMPIRE-XL\\\\AppData\\\\Local\\\\Programs\\\\Python\\\\Python312\\\\Lib\\\\email\\\\encoders.py'>, 'email.charset': <module 'email.charset' from 'c:\\\\Users\\\\FREEDEMPIRE-XL\\\\AppData\\\\Local\\\\Programs\\\\Python\\\\Python312\\\\Lib\\\\email\\\\charset.py'>, 'email.utils': <module 'email.utils' from 'c:\\\\Users\\\\FREEDEMPIRE-XL\\\\AppData\\\\Local\\\\Programs\\\\Python\\\\Python312\\\\Lib\\\\email\\\\utils.py'>, 'email.header': <module 'email.header' from 'c:\\\\Users\\\\FREEDEMPIRE-XL\\\\AppData\\\\Local\\\\Programs\\\\Python\\\\Python312\\\\Lib\\\\email\\\\header.py'>, 'email._policybase': <module 'email._policybase' from 'c:\\\\Users\\\\FREEDEMPIRE-XL\\\\AppData\\\\Local\\\\Programs\\\\Python\\\\Python312\\\\Lib\\\\email\\\\_policybase.py'>, 'email._encoded_words': <module 'email._encoded_words' from 'c:\\\\Users\\\\FREEDEMPIRE-XL\\\\AppData\\\\Local\\\\Programs\\\\Python\\\\Python312\\\\Lib\\\\email\\\\_encoded_words.py'>, 'email.iterators': <module 'email.iterators' from 'c:\\\\Users\\\\FREEDEMPIRE-XL\\\\AppData\\\\Local\\\\Programs\\\\Python\\\\Python312\\\\Lib\\\\email\\\\iterators.py'>, 'email.message': <module 'email.message' from 'c:\\\\Users\\\\FREEDEMPIRE-XL\\\\AppData\\\\Local\\\\Programs\\\\Python\\\\Python312\\\\Lib\\\\email\\\\message.py'>, 'importlib.metadata._functools': <module 'importlib.metadata._functools' from 'c:\\\\Users\\\\FREEDEMPIRE-XL\\\\AppData\\\\Local\\\\Programs\\\\Python\\\\Python312\\\\Lib\\\\importlib\\\\metadata\\\\_functools.py'>, 'importlib.metadata._text': <module 'importlib.metadata._text' from 'c:\\\\Users\\\\FREEDEMPIRE-XL\\\\AppData\\\\Local\\\\Programs\\\\Python\\\\Python312\\\\Lib\\\\importlib\\\\metadata\\\\_text.py'>, 'importlib.metadata._adapters': <module 'importlib.metadata._adapters' from 'c:\\\\Users\\\\FREEDEMPIRE-XL\\\\AppData\\\\Local\\\\Programs\\\\Python\\\\Python312\\\\Lib\\\\importlib\\\\metadata\\\\_adapters.py'>, 'importlib.metadata._meta': <module 'importlib.metadata._meta' from 'c:\\\\Users\\\\FREEDEMPIRE-XL\\\\AppData\\\\Local\\\\Programs\\\\Python\\\\Python312\\\\Lib\\\\importlib\\\\metadata\\\\_meta.py'>, 'importlib.metadata._collections': <module 'importlib.metadata._collections' from 'c:\\\\Users\\\\FREEDEMPIRE-XL\\\\AppData\\\\Local\\\\Programs\\\\Python\\\\Python312\\\\Lib\\\\importlib\\\\metadata\\\\_collections.py'>, 'importlib.metadata._itertools': <module 'importlib.metadata._itertools' from 'c:\\\\Users\\\\FREEDEMPIRE-XL\\\\AppData\\\\Local\\\\Programs\\\\Python\\\\Python312\\\\Lib\\\\importlib\\\\metadata\\\\_itertools.py'>, 'importlib.resources.abc': <module 'importlib.resources.abc' from 'c:\\\\Users\\\\FREEDEMPIRE-XL\\\\AppData\\\\Local\\\\Programs\\\\Python\\\\Python312\\\\Lib\\\\importlib\\\\resources\\\\abc.py'>, 'importlib.resources._adapters': <module 'importlib.resources._adapters' from 'c:\\\\Users\\\\FREEDEMPIRE-XL\\\\AppData\\\\Local\\\\Programs\\\\Python\\\\Python312\\\\Lib\\\\importlib\\\\resources\\\\_adapters.py'>, 'importlib.resources._common': <module 'importlib.resources._common' from 'c:\\\\Users\\\\FREEDEMPIRE-XL\\\\AppData\\\\Local\\\\Programs\\\\Python\\\\Python312\\\\Lib\\\\importlib\\\\resources\\\\_common.py'>, 'importlib.resources._legacy': <module 'importlib.resources._legacy' from 'c:\\\\Users\\\\FREEDEMPIRE-XL\\\\AppData\\\\Local\\\\Programs\\\\Python\\\\Python312\\\\Lib\\\\importlib\\\\resources\\\\_legacy.py'>, 'importlib.resources': <module 'importlib.resources' from 'c:\\\\Users\\\\FREEDEMPIRE-XL\\\\AppData\\\\Local\\\\Programs\\\\Python\\\\Python312\\\\Lib\\\\importlib\\\\resources\\\\__init__.py'>, 'importlib.abc': <module 'importlib.abc' from 'c:\\\\Users\\\\FREEDEMPIRE-XL\\\\AppData\\\\Local\\\\Programs\\\\Python\\\\Python312\\\\Lib\\\\importlib\\\\abc.py'>, 'importlib.metadata': <module 'importlib.metadata' from 'c:\\\\Users\\\\FREEDEMPIRE-XL\\\\AppData\\\\Local\\\\Programs\\\\Python\\\\Python312\\\\Lib\\\\importlib\\\\metadata\\\\__init__.py'>, 'jupyter_client.provisioning.provisioner_base': <module 'jupyter_client.provisioning.provisioner_base' from 'C:\\\\Users\\\\FREEDEMPIRE-XL\\\\AppData\\\\Roaming\\\\Python\\\\Python312\\\\site-packages\\\\jupyter_client\\\\provisioning\\\\provisioner_base.py'>, 'jupyter_client.provisioning.factory': <module 'jupyter_client.provisioning.factory' from 'C:\\\\Users\\\\FREEDEMPIRE-XL\\\\AppData\\\\Roaming\\\\Python\\\\Python312\\\\site-packages\\\\jupyter_client\\\\provisioning\\\\factory.py'>, 'jupyter_client.provisioning.local_provisioner': <module 'jupyter_client.provisioning.local_provisioner' from 'C:\\\\Users\\\\FREEDEMPIRE-XL\\\\AppData\\\\Roaming\\\\Python\\\\Python312\\\\site-packages\\\\jupyter_client\\\\provisioning\\\\local_provisioner.py'>, 'jupyter_client.provisioning': <module 'jupyter_client.provisioning' from 'C:\\\\Users\\\\FREEDEMPIRE-XL\\\\AppData\\\\Roaming\\\\Python\\\\Python312\\\\site-packages\\\\jupyter_client\\\\provisioning\\\\__init__.py'>, 'jupyter_client.kernelspec': <module 'jupyter_client.kernelspec' from 'C:\\\\Users\\\\FREEDEMPIRE-XL\\\\AppData\\\\Roaming\\\\Python\\\\Python312\\\\site-packages\\\\jupyter_client\\\\kernelspec.py'>, 'jupyter_client.managerabc': <module 'jupyter_client.managerabc' from 'C:\\\\Users\\\\FREEDEMPIRE-XL\\\\AppData\\\\Roaming\\\\Python\\\\Python312\\\\site-packages\\\\jupyter_client\\\\managerabc.py'>, 'jupyter_client.manager': <module 'jupyter_client.manager' from 'C:\\\\Users\\\\FREEDEMPIRE-XL\\\\AppData\\\\Roaming\\\\Python\\\\Python312\\\\site-packages\\\\jupyter_client\\\\manager.py'>, 'jupyter_client.multikernelmanager': <module 'jupyter_client.multikernelmanager' from 'C:\\\\Users\\\\FREEDEMPIRE-XL\\\\AppData\\\\Roaming\\\\Python\\\\Python312\\\\site-packages\\\\jupyter_client\\\\multikernelmanager.py'>, 'jupyter_client': <module 'jupyter_client' from 'C:\\\\Users\\\\FREEDEMPIRE-XL\\\\AppData\\\\Roaming\\\\Python\\\\Python312\\\\site-packages\\\\jupyter_client\\\\__init__.py'>, 'ipykernel.connect': <module 'ipykernel.connect' from 'C:\\\\Users\\\\FREEDEMPIRE-XL\\\\AppData\\\\Roaming\\\\Python\\\\Python312\\\\site-packages\\\\ipykernel\\\\connect.py'>, 'ipykernel': <module 'ipykernel' from 'C:\\\\Users\\\\FREEDEMPIRE-XL\\\\AppData\\\\Roaming\\\\Python\\\\Python312\\\\site-packages\\\\ipykernel\\\\__init__.py'>, 'IPython.core': <module 'IPython.core' from 'C:\\\\Users\\\\FREEDEMPIRE-XL\\\\AppData\\\\Roaming\\\\Python\\\\Python312\\\\site-packages\\\\IPython\\\\core\\\\__init__.py'>, 'IPython.core.getipython': <module 'IPython.core.getipython' from 'C:\\\\Users\\\\FREEDEMPIRE-XL\\\\AppData\\\\Roaming\\\\Python\\\\Python312\\\\site-packages\\\\IPython\\\\core\\\\getipython.py'>, 'IPython.core.release': <module 'IPython.core.release' from 'C:\\\\Users\\\\FREEDEMPIRE-XL\\\\AppData\\\\Roaming\\\\Python\\\\Python312\\\\site-packages\\\\IPython\\\\core\\\\release.py'>, 'pkgutil': <module 'pkgutil' from 'c:\\\\Users\\\\FREEDEMPIRE-XL\\\\AppData\\\\Local\\\\Programs\\\\Python\\\\Python312\\\\Lib\\\\pkgutil.py'>, 'sysconfig': <module 'sysconfig' from 'c:\\\\Users\\\\FREEDEMPIRE-XL\\\\AppData\\\\Local\\\\Programs\\\\Python\\\\Python312\\\\Lib\\\\sysconfig.py'>, 'pydoc': <module 'pydoc' from 'c:\\\\Users\\\\FREEDEMPIRE-XL\\\\AppData\\\\Local\\\\Programs\\\\Python\\\\Python312\\\\Lib\\\\pydoc.py'>, 'executing._exceptions': <module 'executing._exceptions' from 'C:\\\\Users\\\\FREEDEMPIRE-XL\\\\AppData\\\\Roaming\\\\Python\\\\Python312\\\\site-packages\\\\executing\\\\_exceptions.py'>, 'executing._position_node_finder': <module 'executing._position_node_finder' from 'C:\\\\Users\\\\FREEDEMPIRE-XL\\\\AppData\\\\Roaming\\\\Python\\\\Python312\\\\site-packages\\\\executing\\\\_position_node_finder.py'>, 'executing.executing': <module 'executing.executing' from 'C:\\\\Users\\\\FREEDEMPIRE-XL\\\\AppData\\\\Roaming\\\\Python\\\\Python312\\\\site-packages\\\\executing\\\\executing.py'>, 'executing.version': <module 'executing.version' from 'C:\\\\Users\\\\FREEDEMPIRE-XL\\\\AppData\\\\Roaming\\\\Python\\\\Python312\\\\site-packages\\\\executing\\\\version.py'>, 'executing': <module 'executing' from 'C:\\\\Users\\\\FREEDEMPIRE-XL\\\\AppData\\\\Roaming\\\\Python\\\\Python312\\\\site-packages\\\\executing\\\\__init__.py'>, 'asttokens.line_numbers': <module 'asttokens.line_numbers' from 'C:\\\\Users\\\\FREEDEMPIRE-XL\\\\AppData\\\\Roaming\\\\Python\\\\Python312\\\\site-packages\\\\asttokens\\\\line_numbers.py'>, 'asttokens.util': <module 'asttokens.util' from 'C:\\\\Users\\\\FREEDEMPIRE-XL\\\\AppData\\\\Roaming\\\\Python\\\\Python312\\\\site-packages\\\\asttokens\\\\util.py'>, 'asttokens.asttokens': <module 'asttokens.asttokens' from 'C:\\\\Users\\\\FREEDEMPIRE-XL\\\\AppData\\\\Roaming\\\\Python\\\\Python312\\\\site-packages\\\\asttokens\\\\asttokens.py'>, 'asttokens': <module 'asttokens' from 'C:\\\\Users\\\\FREEDEMPIRE-XL\\\\AppData\\\\Roaming\\\\Python\\\\Python312\\\\site-packages\\\\asttokens\\\\__init__.py'>, 'fractions': <module 'fractions' from 'c:\\\\Users\\\\FREEDEMPIRE-XL\\\\AppData\\\\Local\\\\Programs\\\\Python\\\\Python312\\\\Lib\\\\fractions.py'>, 'pure_eval.utils': <module 'pure_eval.utils' from 'C:\\\\Users\\\\FREEDEMPIRE-XL\\\\AppData\\\\Roaming\\\\Python\\\\Python312\\\\site-packages\\\\pure_eval\\\\utils.py'>, 'pure_eval.my_getattr_static': <module 'pure_eval.my_getattr_static' from 'C:\\\\Users\\\\FREEDEMPIRE-XL\\\\AppData\\\\Roaming\\\\Python\\\\Python312\\\\site-packages\\\\pure_eval\\\\my_getattr_static.py'>, 'pure_eval.core': <module 'pure_eval.core' from 'C:\\\\Users\\\\FREEDEMPIRE-XL\\\\AppData\\\\Roaming\\\\Python\\\\Python312\\\\site-packages\\\\pure_eval\\\\core.py'>, 'pure_eval.version': <module 'pure_eval.version' from 'C:\\\\Users\\\\FREEDEMPIRE-XL\\\\AppData\\\\Roaming\\\\Python\\\\Python312\\\\site-packages\\\\pure_eval\\\\version.py'>, 'pure_eval': <module 'pure_eval' from 'C:\\\\Users\\\\FREEDEMPIRE-XL\\\\AppData\\\\Roaming\\\\Python\\\\Python312\\\\site-packages\\\\pure_eval\\\\__init__.py'>, 'stack_data.utils': <module 'stack_data.utils' from 'C:\\\\Users\\\\FREEDEMPIRE-XL\\\\AppData\\\\Roaming\\\\Python\\\\Python312\\\\site-packages\\\\stack_data\\\\utils.py'>, 'stack_data.core': <module 'stack_data.core' from 'C:\\\\Users\\\\FREEDEMPIRE-XL\\\\AppData\\\\Roaming\\\\Python\\\\Python312\\\\site-packages\\\\stack_data\\\\core.py'>, 'stack_data.formatting': <module 'stack_data.formatting' from 'C:\\\\Users\\\\FREEDEMPIRE-XL\\\\AppData\\\\Roaming\\\\Python\\\\Python312\\\\site-packages\\\\stack_data\\\\formatting.py'>, 'stack_data.serializing': <module 'stack_data.serializing' from 'C:\\\\Users\\\\FREEDEMPIRE-XL\\\\AppData\\\\Roaming\\\\Python\\\\Python312\\\\site-packages\\\\stack_data\\\\serializing.py'>, 'stack_data.version': <module 'stack_data.version' from 'C:\\\\Users\\\\FREEDEMPIRE-XL\\\\AppData\\\\Roaming\\\\Python\\\\Python312\\\\site-packages\\\\stack_data\\\\version.py'>, 'stack_data': <module 'stack_data' from 'C:\\\\Users\\\\FREEDEMPIRE-XL\\\\AppData\\\\Roaming\\\\Python\\\\Python312\\\\site-packages\\\\stack_data\\\\__init__.py'>, 'pygments': <module 'pygments' from 'C:\\\\Users\\\\FREEDEMPIRE-XL\\\\AppData\\\\Roaming\\\\Python\\\\Python312\\\\site-packages\\\\pygments\\\\__init__.py'>, 'pygments.formatters._mapping': <module 'pygments.formatters._mapping' from 'C:\\\\Users\\\\FREEDEMPIRE-XL\\\\AppData\\\\Roaming\\\\Python\\\\Python312\\\\site-packages\\\\pygments\\\\formatters\\\\_mapping.py'>, 'pygments.plugin': <module 'pygments.plugin' from 'C:\\\\Users\\\\FREEDEMPIRE-XL\\\\AppData\\\\Roaming\\\\Python\\\\Python312\\\\site-packages\\\\pygments\\\\plugin.py'>, 'pygments.util': <module 'pygments.util' from 'C:\\\\Users\\\\FREEDEMPIRE-XL\\\\AppData\\\\Roaming\\\\Python\\\\Python312\\\\site-packages\\\\pygments\\\\util.py'>, 'pygments.formatters': <module 'pygments.formatters' from 'C:\\\\Users\\\\FREEDEMPIRE-XL\\\\AppData\\\\Roaming\\\\Python\\\\Python312\\\\site-packages\\\\pygments\\\\formatters\\\\__init__.py'>, 'pygments.styles._mapping': <module 'pygments.styles._mapping' from 'C:\\\\Users\\\\FREEDEMPIRE-XL\\\\AppData\\\\Roaming\\\\Python\\\\Python312\\\\site-packages\\\\pygments\\\\styles\\\\_mapping.py'>, 'pygments.styles': <module 'pygments.styles' from 'C:\\\\Users\\\\FREEDEMPIRE-XL\\\\AppData\\\\Roaming\\\\Python\\\\Python312\\\\site-packages\\\\pygments\\\\styles\\\\__init__.py'>, 'pygments.formatter': <module 'pygments.formatter' from 'C:\\\\Users\\\\FREEDEMPIRE-XL\\\\AppData\\\\Roaming\\\\Python\\\\Python312\\\\site-packages\\\\pygments\\\\formatter.py'>, 'pygments.console': <module 'pygments.console' from 'C:\\\\Users\\\\FREEDEMPIRE-XL\\\\AppData\\\\Roaming\\\\Python\\\\Python312\\\\site-packages\\\\pygments\\\\console.py'>, 'pygments.token': <module 'pygments.token' from 'C:\\\\Users\\\\FREEDEMPIRE-XL\\\\AppData\\\\Roaming\\\\Python\\\\Python312\\\\site-packages\\\\pygments\\\\token.py'>, 'pygments.style': <module 'pygments.style' from 'C:\\\\Users\\\\FREEDEMPIRE-XL\\\\AppData\\\\Roaming\\\\Python\\\\Python312\\\\site-packages\\\\pygments\\\\style.py'>, 'pygments.formatters.terminal256': <module 'pygments.formatters.terminal256' from 'C:\\\\Users\\\\FREEDEMPIRE-XL\\\\AppData\\\\Roaming\\\\Python\\\\Python312\\\\site-packages\\\\pygments\\\\formatters\\\\terminal256.py'>, 'IPython.utils': <module 'IPython.utils' from 'C:\\\\Users\\\\FREEDEMPIRE-XL\\\\AppData\\\\Roaming\\\\Python\\\\Python312\\\\site-packages\\\\IPython\\\\utils\\\\__init__.py'>, 'IPython.utils.colorable': <module 'IPython.utils.colorable' from 'C:\\\\Users\\\\FREEDEMPIRE-XL\\\\AppData\\\\Roaming\\\\Python\\\\Python312\\\\site-packages\\\\IPython\\\\utils\\\\colorable.py'>, 'IPython.utils.ipstruct': <module 'IPython.utils.ipstruct' from 'C:\\\\Users\\\\FREEDEMPIRE-XL\\\\AppData\\\\Roaming\\\\Python\\\\Python312\\\\site-packages\\\\IPython\\\\utils\\\\ipstruct.py'>, 'IPython.utils.coloransi': <module 'IPython.utils.coloransi' from 'C:\\\\Users\\\\FREEDEMPIRE-XL\\\\AppData\\\\Roaming\\\\Python\\\\Python312\\\\site-packages\\\\IPython\\\\utils\\\\coloransi.py'>, 'IPython.utils.PyColorize': <module 'IPython.utils.PyColorize' from 'C:\\\\Users\\\\FREEDEMPIRE-XL\\\\AppData\\\\Roaming\\\\Python\\\\Python312\\\\site-packages\\\\IPython\\\\utils\\\\PyColorize.py'>, 'IPython.utils.encoding': <module 'IPython.utils.encoding' from 'C:\\\\Users\\\\FREEDEMPIRE-XL\\\\AppData\\\\Roaming\\\\Python\\\\Python312\\\\site-packages\\\\IPython\\\\utils\\\\encoding.py'>, 'IPython.utils.py3compat': <module 'IPython.utils.py3compat' from 'C:\\\\Users\\\\FREEDEMPIRE-XL\\\\AppData\\\\Roaming\\\\Python\\\\Python312\\\\site-packages\\\\IPython\\\\utils\\\\py3compat.py'>, 'IPython.core.excolors': <module 'IPython.core.excolors' from 'C:\\\\Users\\\\FREEDEMPIRE-XL\\\\AppData\\\\Roaming\\\\Python\\\\Python312\\\\site-packages\\\\IPython\\\\core\\\\excolors.py'>, 'cmd': <module 'cmd' from 'c:\\\\Users\\\\FREEDEMPIRE-XL\\\\AppData\\\\Local\\\\Programs\\\\Python\\\\Python312\\\\Lib\\\\cmd.py'>, 'bdb': <module 'bdb' from 'c:\\\\Users\\\\FREEDEMPIRE-XL\\\\AppData\\\\Local\\\\Programs\\\\Python\\\\Python312\\\\Lib\\\\bdb.py'>, 'codeop': <module 'codeop' from 'c:\\\\Users\\\\FREEDEMPIRE-XL\\\\AppData\\\\Local\\\\Programs\\\\Python\\\\Python312\\\\Lib\\\\codeop.py'>, 'code': <module 'code' from 'c:\\\\Users\\\\FREEDEMPIRE-XL\\\\AppData\\\\Local\\\\Programs\\\\Python\\\\Python312\\\\Lib\\\\code.py'>, 'pdb': <module 'pdb' from 'c:\\\\Users\\\\FREEDEMPIRE-XL\\\\AppData\\\\Local\\\\Programs\\\\Python\\\\Python312\\\\Lib\\\\pdb.py'>, 'IPython.core.debugger': <module 'IPython.core.debugger' from 'C:\\\\Users\\\\FREEDEMPIRE-XL\\\\AppData\\\\Roaming\\\\Python\\\\Python312\\\\site-packages\\\\IPython\\\\core\\\\debugger.py'>, 'IPython.core.display_trap': <module 'IPython.core.display_trap' from 'C:\\\\Users\\\\FREEDEMPIRE-XL\\\\AppData\\\\Roaming\\\\Python\\\\Python312\\\\site-packages\\\\IPython\\\\core\\\\display_trap.py'>, 'shlex': <module 'shlex' from 'c:\\\\Users\\\\FREEDEMPIRE-XL\\\\AppData\\\\Local\\\\Programs\\\\Python\\\\Python312\\\\Lib\\\\shlex.py'>, 'IPython.utils._process_common': <module 'IPython.utils._process_common' from 'C:\\\\Users\\\\FREEDEMPIRE-XL\\\\AppData\\\\Roaming\\\\Python\\\\Python312\\\\site-packages\\\\IPython\\\\utils\\\\_process_common.py'>, 'IPython.utils._process_win32': <module 'IPython.utils._process_win32' from 'C:\\\\Users\\\\FREEDEMPIRE-XL\\\\AppData\\\\Roaming\\\\Python\\\\Python312\\\\site-packages\\\\IPython\\\\utils\\\\_process_win32.py'>, 'IPython.utils.process': <module 'IPython.utils.process' from 'C:\\\\Users\\\\FREEDEMPIRE-XL\\\\AppData\\\\Roaming\\\\Python\\\\Python312\\\\site-packages\\\\IPython\\\\utils\\\\process.py'>, 'IPython.utils.path': <module 'IPython.utils.path' from 'C:\\\\Users\\\\FREEDEMPIRE-XL\\\\AppData\\\\Roaming\\\\Python\\\\Python312\\\\site-packages\\\\IPython\\\\utils\\\\path.py'>, 'IPython.utils.terminal': <module 'IPython.utils.terminal' from 'C:\\\\Users\\\\FREEDEMPIRE-XL\\\\AppData\\\\Roaming\\\\Python\\\\Python312\\\\site-packages\\\\IPython\\\\utils\\\\terminal.py'>, 'IPython.core.ultratb': <module 'IPython.core.ultratb' from 'C:\\\\Users\\\\FREEDEMPIRE-XL\\\\AppData\\\\Roaming\\\\Python\\\\Python312\\\\site-packages\\\\IPython\\\\core\\\\ultratb.py'>, 'IPython.utils._sysinfo': <module 'IPython.utils._sysinfo' from 'C:\\\\Users\\\\FREEDEMPIRE-XL\\\\AppData\\\\Roaming\\\\Python\\\\Python312\\\\site-packages\\\\IPython\\\\utils\\\\_sysinfo.py'>, 'IPython.utils.sysinfo': <module 'IPython.utils.sysinfo' from 'C:\\\\Users\\\\FREEDEMPIRE-XL\\\\AppData\\\\Roaming\\\\Python\\\\Python312\\\\site-packages\\\\IPython\\\\utils\\\\sysinfo.py'>, 'IPython.core.crashhandler': <module 'IPython.core.crashhandler' from 'C:\\\\Users\\\\FREEDEMPIRE-XL\\\\AppData\\\\Roaming\\\\Python\\\\Python312\\\\site-packages\\\\IPython\\\\core\\\\crashhandler.py'>, 'IPython.utils.importstring': <module 'IPython.utils.importstring' from 'C:\\\\Users\\\\FREEDEMPIRE-XL\\\\AppData\\\\Roaming\\\\Python\\\\Python312\\\\site-packages\\\\IPython\\\\utils\\\\importstring.py'>, 'IPython.paths': <module 'IPython.paths' from 'C:\\\\Users\\\\FREEDEMPIRE-XL\\\\AppData\\\\Roaming\\\\Python\\\\Python312\\\\site-packages\\\\IPython\\\\paths.py'>, 'IPython.core.profiledir': <module 'IPython.core.profiledir' from 'C:\\\\Users\\\\FREEDEMPIRE-XL\\\\AppData\\\\Roaming\\\\Python\\\\Python312\\\\site-packages\\\\IPython\\\\core\\\\profiledir.py'>, 'IPython.core.application': <module 'IPython.core.application' from 'C:\\\\Users\\\\FREEDEMPIRE-XL\\\\AppData\\\\Roaming\\\\Python\\\\Python312\\\\site-packages\\\\IPython\\\\core\\\\application.py'>, 'IPython.terminal': <module 'IPython.terminal' from 'C:\\\\Users\\\\FREEDEMPIRE-XL\\\\AppData\\\\Roaming\\\\Python\\\\Python312\\\\site-packages\\\\IPython\\\\terminal\\\\__init__.py'>, 'IPython.core.compilerop': <module 'IPython.core.compilerop' from 'C:\\\\Users\\\\FREEDEMPIRE-XL\\\\AppData\\\\Roaming\\\\Python\\\\Python312\\\\site-packages\\\\IPython\\\\core\\\\compilerop.py'>, 'IPython.core.error': <module 'IPython.core.error' from 'C:\\\\Users\\\\FREEDEMPIRE-XL\\\\AppData\\\\Roaming\\\\Python\\\\Python312\\\\site-packages\\\\IPython\\\\core\\\\error.py'>, 'IPython.utils.docs': <module 'IPython.utils.docs' from 'C:\\\\Users\\\\FREEDEMPIRE-XL\\\\AppData\\\\Roaming\\\\Python\\\\Python312\\\\site-packages\\\\IPython\\\\utils\\\\docs.py'>, 'IPython.utils.decorators': <module 'IPython.utils.decorators' from 'C:\\\\Users\\\\FREEDEMPIRE-XL\\\\AppData\\\\Roaming\\\\Python\\\\Python312\\\\site-packages\\\\IPython\\\\utils\\\\decorators.py'>, 'IPython.utils.text': <module 'IPython.utils.text' from 'C:\\\\Users\\\\FREEDEMPIRE-XL\\\\AppData\\\\Roaming\\\\Python\\\\Python312\\\\site-packages\\\\IPython\\\\utils\\\\text.py'>, 'IPython.core.magic_arguments': <module 'IPython.core.magic_arguments' from 'C:\\\\Users\\\\FREEDEMPIRE-XL\\\\AppData\\\\Roaming\\\\Python\\\\Python312\\\\site-packages\\\\IPython\\\\core\\\\magic_arguments.py'>, 'getopt': <module 'getopt' from 'c:\\\\Users\\\\FREEDEMPIRE-XL\\\\AppData\\\\Local\\\\Programs\\\\Python\\\\Python312\\\\Lib\\\\getopt.py'>, 'IPython.core.display_functions': <module 'IPython.core.display_functions' from 'C:\\\\Users\\\\FREEDEMPIRE-XL\\\\AppData\\\\Roaming\\\\Python\\\\Python312\\\\site-packages\\\\IPython\\\\core\\\\display_functions.py'>, 'mimetypes': <module 'mimetypes' from 'c:\\\\Users\\\\FREEDEMPIRE-XL\\\\AppData\\\\Local\\\\Programs\\\\Python\\\\Python312\\\\Lib\\\\mimetypes.py'>, 'IPython.testing': <module 'IPython.testing' from 'C:\\\\Users\\\\FREEDEMPIRE-XL\\\\AppData\\\\Roaming\\\\Python\\\\Python312\\\\site-packages\\\\IPython\\\\testing\\\\__init__.py'>, 'IPython.testing.skipdoctest': <module 'IPython.testing.skipdoctest' from 'C:\\\\Users\\\\FREEDEMPIRE-XL\\\\AppData\\\\Roaming\\\\Python\\\\Python312\\\\site-packages\\\\IPython\\\\testing\\\\skipdoctest.py'>, 'IPython.core.display': <module 'IPython.core.display' from 'C:\\\\Users\\\\FREEDEMPIRE-XL\\\\AppData\\\\Roaming\\\\Python\\\\Python312\\\\site-packages\\\\IPython\\\\core\\\\display.py'>, 'IPython.lib': <module 'IPython.lib' from 'C:\\\\Users\\\\FREEDEMPIRE-XL\\\\AppData\\\\Roaming\\\\Python\\\\Python312\\\\site-packages\\\\IPython\\\\lib\\\\__init__.py'>, 'IPython.lib.display': <module 'IPython.lib.display' from 'C:\\\\Users\\\\FREEDEMPIRE-XL\\\\AppData\\\\Roaming\\\\Python\\\\Python312\\\\site-packages\\\\IPython\\\\lib\\\\display.py'>, 'IPython.display': <module 'IPython.display' from 'C:\\\\Users\\\\FREEDEMPIRE-XL\\\\AppData\\\\Roaming\\\\Python\\\\Python312\\\\site-packages\\\\IPython\\\\display.py'>, 'IPython.utils.data': <module 'IPython.utils.data' from 'C:\\\\Users\\\\FREEDEMPIRE-XL\\\\AppData\\\\Roaming\\\\Python\\\\Python312\\\\site-packages\\\\IPython\\\\utils\\\\data.py'>, 'IPython.core.page': <module 'IPython.core.page' from 'C:\\\\Users\\\\FREEDEMPIRE-XL\\\\AppData\\\\Roaming\\\\Python\\\\Python312\\\\site-packages\\\\IPython\\\\core\\\\page.py'>, 'IPython.lib.pretty': <module 'IPython.lib.pretty' from 'C:\\\\Users\\\\FREEDEMPIRE-XL\\\\AppData\\\\Roaming\\\\Python\\\\Python312\\\\site-packages\\\\IPython\\\\lib\\\\pretty.py'>, 'IPython.utils.openpy': <module 'IPython.utils.openpy' from 'C:\\\\Users\\\\FREEDEMPIRE-XL\\\\AppData\\\\Roaming\\\\Python\\\\Python312\\\\site-packages\\\\IPython\\\\utils\\\\openpy.py'>, 'IPython.utils.dir2': <module 'IPython.utils.dir2' from 'C:\\\\Users\\\\FREEDEMPIRE-XL\\\\AppData\\\\Roaming\\\\Python\\\\Python312\\\\site-packages\\\\IPython\\\\utils\\\\dir2.py'>, 'IPython.utils.wildcard': <module 'IPython.utils.wildcard' from 'C:\\\\Users\\\\FREEDEMPIRE-XL\\\\AppData\\\\Roaming\\\\Python\\\\Python312\\\\site-packages\\\\IPython\\\\utils\\\\wildcard.py'>, 'pygments.lexers._mapping': <module 'pygments.lexers._mapping' from 'C:\\\\Users\\\\FREEDEMPIRE-XL\\\\AppData\\\\Roaming\\\\Python\\\\Python312\\\\site-packages\\\\pygments\\\\lexers\\\\_mapping.py'>, 'pygments.modeline': <module 'pygments.modeline' from 'C:\\\\Users\\\\FREEDEMPIRE-XL\\\\AppData\\\\Roaming\\\\Python\\\\Python312\\\\site-packages\\\\pygments\\\\modeline.py'>, 'pygments.lexers': <module 'pygments.lexers' from 'C:\\\\Users\\\\FREEDEMPIRE-XL\\\\AppData\\\\Roaming\\\\Python\\\\Python312\\\\site-packages\\\\pygments\\\\lexers\\\\__init__.py'>, 'pygments.filter': <module 'pygments.filter' from 'C:\\\\Users\\\\FREEDEMPIRE-XL\\\\AppData\\\\Roaming\\\\Python\\\\Python312\\\\site-packages\\\\pygments\\\\filter.py'>, 'pygments.filters': <module 'pygments.filters' from 'C:\\\\Users\\\\FREEDEMPIRE-XL\\\\AppData\\\\Roaming\\\\Python\\\\Python312\\\\site-packages\\\\pygments\\\\filters\\\\__init__.py'>, 'pygments.regexopt': <module 'pygments.regexopt' from 'C:\\\\Users\\\\FREEDEMPIRE-XL\\\\AppData\\\\Roaming\\\\Python\\\\Python312\\\\site-packages\\\\pygments\\\\regexopt.py'>, 'pygments.lexer': <module 'pygments.lexer' from 'C:\\\\Users\\\\FREEDEMPIRE-XL\\\\AppData\\\\Roaming\\\\Python\\\\Python312\\\\site-packages\\\\pygments\\\\lexer.py'>, 'pygments.unistring': <module 'pygments.unistring' from 'C:\\\\Users\\\\FREEDEMPIRE-XL\\\\AppData\\\\Roaming\\\\Python\\\\Python312\\\\site-packages\\\\pygments\\\\unistring.py'>, 'pygments.lexers.python': <module 'pygments.lexers.python' from 'C:\\\\Users\\\\FREEDEMPIRE-XL\\\\AppData\\\\Roaming\\\\Python\\\\Python312\\\\site-packages\\\\pygments\\\\lexers\\\\python.py'>, 'pygments.formatters.html': <module 'pygments.formatters.html' from 'C:\\\\Users\\\\FREEDEMPIRE-XL\\\\AppData\\\\Roaming\\\\Python\\\\Python312\\\\site-packages\\\\pygments\\\\formatters\\\\html.py'>, 'IPython.core.oinspect': <module 'IPython.core.oinspect' from 'C:\\\\Users\\\\FREEDEMPIRE-XL\\\\AppData\\\\Roaming\\\\Python\\\\Python312\\\\site-packages\\\\IPython\\\\core\\\\oinspect.py'>, 'IPython.utils.tokenutil': <module 'IPython.utils.tokenutil' from 'C:\\\\Users\\\\FREEDEMPIRE-XL\\\\AppData\\\\Roaming\\\\Python\\\\Python312\\\\site-packages\\\\IPython\\\\utils\\\\tokenutil.py'>, 'IPython.core.inputtransformer2': <module 'IPython.core.inputtransformer2' from 'C:\\\\Users\\\\FREEDEMPIRE-XL\\\\AppData\\\\Roaming\\\\Python\\\\Python312\\\\site-packages\\\\IPython\\\\core\\\\inputtransformer2.py'>, 'IPython.core.magic': <module 'IPython.core.magic' from 'C:\\\\Users\\\\FREEDEMPIRE-XL\\\\AppData\\\\Roaming\\\\Python\\\\Python312\\\\site-packages\\\\IPython\\\\core\\\\magic.py'>, 'IPython.core.hooks': <module 'IPython.core.hooks' from 'C:\\\\Users\\\\FREEDEMPIRE-XL\\\\AppData\\\\Roaming\\\\Python\\\\Python312\\\\site-packages\\\\IPython\\\\core\\\\hooks.py'>, 'IPython.core.autocall': <module 'IPython.core.autocall' from 'C:\\\\Users\\\\FREEDEMPIRE-XL\\\\AppData\\\\Roaming\\\\Python\\\\Python312\\\\site-packages\\\\IPython\\\\core\\\\autocall.py'>, 'IPython.core.macro': <module 'IPython.core.macro' from 'C:\\\\Users\\\\FREEDEMPIRE-XL\\\\AppData\\\\Roaming\\\\Python\\\\Python312\\\\site-packages\\\\IPython\\\\core\\\\macro.py'>, 'IPython.core.splitinput': <module 'IPython.core.splitinput' from 'C:\\\\Users\\\\FREEDEMPIRE-XL\\\\AppData\\\\Roaming\\\\Python\\\\Python312\\\\site-packages\\\\IPython\\\\core\\\\splitinput.py'>, 'IPython.core.prefilter': <module 'IPython.core.prefilter' from 'C:\\\\Users\\\\FREEDEMPIRE-XL\\\\AppData\\\\Roaming\\\\Python\\\\Python312\\\\site-packages\\\\IPython\\\\core\\\\prefilter.py'>, 'IPython.core.alias': <module 'IPython.core.alias' from 'C:\\\\Users\\\\FREEDEMPIRE-XL\\\\AppData\\\\Roaming\\\\Python\\\\Python312\\\\site-packages\\\\IPython\\\\core\\\\alias.py'>, 'IPython.core.builtin_trap': <module 'IPython.core.builtin_trap' from 'C:\\\\Users\\\\FREEDEMPIRE-XL\\\\AppData\\\\Roaming\\\\Python\\\\Python312\\\\site-packages\\\\IPython\\\\core\\\\builtin_trap.py'>, 'IPython.core.displayhook': <module 'IPython.core.displayhook' from 'C:\\\\Users\\\\FREEDEMPIRE-XL\\\\AppData\\\\Roaming\\\\Python\\\\Python312\\\\site-packages\\\\IPython\\\\core\\\\displayhook.py'>, 'IPython.core.displaypub': <module 'IPython.core.displaypub' from 'C:\\\\Users\\\\FREEDEMPIRE-XL\\\\AppData\\\\Roaming\\\\Python\\\\Python312\\\\site-packages\\\\IPython\\\\core\\\\displaypub.py'>, 'IPython.core.events': <module 'IPython.core.events' from 'C:\\\\Users\\\\FREEDEMPIRE-XL\\\\AppData\\\\Roaming\\\\Python\\\\Python312\\\\site-packages\\\\IPython\\\\core\\\\events.py'>, 'IPython.core.extensions': <module 'IPython.core.extensions' from 'C:\\\\Users\\\\FREEDEMPIRE-XL\\\\AppData\\\\Roaming\\\\Python\\\\Python312\\\\site-packages\\\\IPython\\\\core\\\\extensions.py'>, 'decorator': <module 'decorator' from 'C:\\\\Users\\\\FREEDEMPIRE-XL\\\\AppData\\\\Roaming\\\\Python\\\\Python312\\\\site-packages\\\\decorator.py'>, 'IPython.utils.sentinel': <module 'IPython.utils.sentinel' from 'C:\\\\Users\\\\FREEDEMPIRE-XL\\\\AppData\\\\Roaming\\\\Python\\\\Python312\\\\site-packages\\\\IPython\\\\utils\\\\sentinel.py'>, 'IPython.core.formatters': <module 'IPython.core.formatters' from 'C:\\\\Users\\\\FREEDEMPIRE-XL\\\\AppData\\\\Roaming\\\\Python\\\\Python312\\\\site-packages\\\\IPython\\\\core\\\\formatters.py'>, '_sqlite3': <module '_sqlite3' from 'c:\\\\Users\\\\FREEDEMPIRE-XL\\\\AppData\\\\Local\\\\Programs\\\\Python\\\\Python312\\\\DLLs\\\\_sqlite3.pyd'>, 'sqlite3.dbapi2': <module 'sqlite3.dbapi2' from 'c:\\\\Users\\\\FREEDEMPIRE-XL\\\\AppData\\\\Local\\\\Programs\\\\Python\\\\Python312\\\\Lib\\\\sqlite3\\\\dbapi2.py'>, 'sqlite3': <module 'sqlite3' from 'c:\\\\Users\\\\FREEDEMPIRE-XL\\\\AppData\\\\Local\\\\Programs\\\\Python\\\\Python312\\\\Lib\\\\sqlite3\\\\__init__.py'>, 'IPython.core.history': <module 'IPython.core.history' from 'C:\\\\Users\\\\FREEDEMPIRE-XL\\\\AppData\\\\Roaming\\\\Python\\\\Python312\\\\site-packages\\\\IPython\\\\core\\\\history.py'>, 'IPython.core.logger': <module 'IPython.core.logger' from 'C:\\\\Users\\\\FREEDEMPIRE-XL\\\\AppData\\\\Roaming\\\\Python\\\\Python312\\\\site-packages\\\\IPython\\\\core\\\\logger.py'>, 'IPython.core.payload': <module 'IPython.core.payload' from 'C:\\\\Users\\\\FREEDEMPIRE-XL\\\\AppData\\\\Roaming\\\\Python\\\\Python312\\\\site-packages\\\\IPython\\\\core\\\\payload.py'>, 'IPython.core.usage': <module 'IPython.core.usage' from 'C:\\\\Users\\\\FREEDEMPIRE-XL\\\\AppData\\\\Roaming\\\\Python\\\\Python312\\\\site-packages\\\\IPython\\\\core\\\\usage.py'>, 'IPython.utils.capture': <module 'IPython.utils.capture' from 'C:\\\\Users\\\\FREEDEMPIRE-XL\\\\AppData\\\\Roaming\\\\Python\\\\Python312\\\\site-packages\\\\IPython\\\\utils\\\\capture.py'>, 'IPython.utils.io': <module 'IPython.utils.io' from 'C:\\\\Users\\\\FREEDEMPIRE-XL\\\\AppData\\\\Roaming\\\\Python\\\\Python312\\\\site-packages\\\\IPython\\\\utils\\\\io.py'>, 'IPython.utils.strdispatch': <module 'IPython.utils.strdispatch' from 'C:\\\\Users\\\\FREEDEMPIRE-XL\\\\AppData\\\\Roaming\\\\Python\\\\Python312\\\\site-packages\\\\IPython\\\\utils\\\\strdispatch.py'>, 'IPython.utils.syspathcontext': <module 'IPython.utils.syspathcontext' from 'C:\\\\Users\\\\FREEDEMPIRE-XL\\\\AppData\\\\Roaming\\\\Python\\\\Python312\\\\site-packages\\\\IPython\\\\utils\\\\syspathcontext.py'>, 'IPython.core.async_helpers': <module 'IPython.core.async_helpers' from 'C:\\\\Users\\\\FREEDEMPIRE-XL\\\\AppData\\\\Roaming\\\\Python\\\\Python312\\\\site-packages\\\\IPython\\\\core\\\\async_helpers.py'>, 'IPython.core.interactiveshell': <module 'IPython.core.interactiveshell' from 'C:\\\\Users\\\\FREEDEMPIRE-XL\\\\AppData\\\\Roaming\\\\Python\\\\Python312\\\\site-packages\\\\IPython\\\\core\\\\interactiveshell.py'>, 'prompt_toolkit.application.current': <module 'prompt_toolkit.application.current' from 'C:\\\\Users\\\\FREEDEMPIRE-XL\\\\AppData\\\\Roaming\\\\Python\\\\Python312\\\\site-packages\\\\prompt_toolkit\\\\application\\\\current.py'>, 'prompt_toolkit.eventloop.utils': <module 'prompt_toolkit.eventloop.utils' from 'C:\\\\Users\\\\FREEDEMPIRE-XL\\\\AppData\\\\Roaming\\\\Python\\\\Python312\\\\site-packages\\\\prompt_toolkit\\\\eventloop\\\\utils.py'>, 'prompt_toolkit.eventloop.async_generator': <module 'prompt_toolkit.eventloop.async_generator' from 'C:\\\\Users\\\\FREEDEMPIRE-XL\\\\AppData\\\\Roaming\\\\Python\\\\Python312\\\\site-packages\\\\prompt_toolkit\\\\eventloop\\\\async_generator.py'>, 'prompt_toolkit.eventloop.inputhook': <module 'prompt_toolkit.eventloop.inputhook' from 'C:\\\\Users\\\\FREEDEMPIRE-XL\\\\AppData\\\\Roaming\\\\Python\\\\Python312\\\\site-packages\\\\prompt_toolkit\\\\eventloop\\\\inputhook.py'>, 'prompt_toolkit.eventloop': <module 'prompt_toolkit.eventloop' from 'C:\\\\Users\\\\FREEDEMPIRE-XL\\\\AppData\\\\Roaming\\\\Python\\\\Python312\\\\site-packages\\\\prompt_toolkit\\\\eventloop\\\\__init__.py'>, 'prompt_toolkit.application.run_in_terminal': <module 'prompt_toolkit.application.run_in_terminal' from 'C:\\\\Users\\\\FREEDEMPIRE-XL\\\\AppData\\\\Roaming\\\\Python\\\\Python312\\\\site-packages\\\\prompt_toolkit\\\\application\\\\run_in_terminal.py'>, 'prompt_toolkit.selection': <module 'prompt_toolkit.selection' from 'C:\\\\Users\\\\FREEDEMPIRE-XL\\\\AppData\\\\Roaming\\\\Python\\\\Python312\\\\site-packages\\\\prompt_toolkit\\\\selection.py'>, 'prompt_toolkit.clipboard.base': <module 'prompt_toolkit.clipboard.base' from 'C:\\\\Users\\\\FREEDEMPIRE-XL\\\\AppData\\\\Roaming\\\\Python\\\\Python312\\\\site-packages\\\\prompt_toolkit\\\\clipboard\\\\base.py'>, 'prompt_toolkit.clipboard.in_memory': <module 'prompt_toolkit.clipboard.in_memory' from 'C:\\\\Users\\\\FREEDEMPIRE-XL\\\\AppData\\\\Roaming\\\\Python\\\\Python312\\\\site-packages\\\\prompt_toolkit\\\\clipboard\\\\in_memory.py'>, 'prompt_toolkit.clipboard': <module 'prompt_toolkit.clipboard' from 'C:\\\\Users\\\\FREEDEMPIRE-XL\\\\AppData\\\\Roaming\\\\Python\\\\Python312\\\\site-packages\\\\prompt_toolkit\\\\clipboard\\\\__init__.py'>, 'prompt_toolkit.cache': <module 'prompt_toolkit.cache' from 'C:\\\\Users\\\\FREEDEMPIRE-XL\\\\AppData\\\\Roaming\\\\Python\\\\Python312\\\\site-packages\\\\prompt_toolkit\\\\cache.py'>, 'prompt_toolkit.enums': <module 'prompt_toolkit.enums' from 'C:\\\\Users\\\\FREEDEMPIRE-XL\\\\AppData\\\\Roaming\\\\Python\\\\Python312\\\\site-packages\\\\prompt_toolkit\\\\enums.py'>, 'prompt_toolkit.filters.base': <module 'prompt_toolkit.filters.base' from 'C:\\\\Users\\\\FREEDEMPIRE-XL\\\\AppData\\\\Roaming\\\\Python\\\\Python312\\\\site-packages\\\\prompt_toolkit\\\\filters\\\\base.py'>, 'prompt_toolkit.filters.app': <module 'prompt_toolkit.filters.app' from 'C:\\\\Users\\\\FREEDEMPIRE-XL\\\\AppData\\\\Roaming\\\\Python\\\\Python312\\\\site-packages\\\\prompt_toolkit\\\\filters\\\\app.py'>, 'prompt_toolkit.filters.cli': <module 'prompt_toolkit.filters.cli' from 'C:\\\\Users\\\\FREEDEMPIRE-XL\\\\AppData\\\\Roaming\\\\Python\\\\Python312\\\\site-packages\\\\prompt_toolkit\\\\filters\\\\cli.py'>, 'prompt_toolkit.filters.utils': <module 'prompt_toolkit.filters.utils' from 'C:\\\\Users\\\\FREEDEMPIRE-XL\\\\AppData\\\\Roaming\\\\Python\\\\Python312\\\\site-packages\\\\prompt_toolkit\\\\filters\\\\utils.py'>, 'prompt_toolkit.filters': <module 'prompt_toolkit.filters' from 'C:\\\\Users\\\\FREEDEMPIRE-XL\\\\AppData\\\\Roaming\\\\Python\\\\Python312\\\\site-packages\\\\prompt_toolkit\\\\filters\\\\__init__.py'>, 'prompt_toolkit.document': <module 'prompt_toolkit.document' from 'C:\\\\Users\\\\FREEDEMPIRE-XL\\\\AppData\\\\Roaming\\\\Python\\\\Python312\\\\site-packages\\\\prompt_toolkit\\\\document.py'>, 'prompt_toolkit.auto_suggest': <module 'prompt_toolkit.auto_suggest' from 'C:\\\\Users\\\\FREEDEMPIRE-XL\\\\AppData\\\\Roaming\\\\Python\\\\Python312\\\\site-packages\\\\prompt_toolkit\\\\auto_suggest.py'>, 'prompt_toolkit.keys': <module 'prompt_toolkit.keys' from 'C:\\\\Users\\\\FREEDEMPIRE-XL\\\\AppData\\\\Roaming\\\\Python\\\\Python312\\\\site-packages\\\\prompt_toolkit\\\\keys.py'>, 'prompt_toolkit.key_binding.key_bindings': <module 'prompt_toolkit.key_binding.key_bindings' from 'C:\\\\Users\\\\FREEDEMPIRE-XL\\\\AppData\\\\Roaming\\\\Python\\\\Python312\\\\site-packages\\\\prompt_toolkit\\\\key_binding\\\\key_bindings.py'>, 'wcwidth.table_vs16': <module 'wcwidth.table_vs16' from 'C:\\\\Users\\\\FREEDEMPIRE-XL\\\\AppData\\\\Roaming\\\\Python\\\\Python312\\\\site-packages\\\\wcwidth\\\\table_vs16.py'>, 'wcwidth.table_wide': <module 'wcwidth.table_wide' from 'C:\\\\Users\\\\FREEDEMPIRE-XL\\\\AppData\\\\Roaming\\\\Python\\\\Python312\\\\site-packages\\\\wcwidth\\\\table_wide.py'>, 'wcwidth.table_zero': <module 'wcwidth.table_zero' from 'C:\\\\Users\\\\FREEDEMPIRE-XL\\\\AppData\\\\Roaming\\\\Python\\\\Python312\\\\site-packages\\\\wcwidth\\\\table_zero.py'>, 'wcwidth.unicode_versions': <module 'wcwidth.unicode_versions' from 'C:\\\\Users\\\\FREEDEMPIRE-XL\\\\AppData\\\\Roaming\\\\Python\\\\Python312\\\\site-packages\\\\wcwidth\\\\unicode_versions.py'>, 'wcwidth.wcwidth': <module 'wcwidth.wcwidth' from 'C:\\\\Users\\\\FREEDEMPIRE-XL\\\\AppData\\\\Roaming\\\\Python\\\\Python312\\\\site-packages\\\\wcwidth\\\\wcwidth.py'>, 'wcwidth': <module 'wcwidth' from 'C:\\\\Users\\\\FREEDEMPIRE-XL\\\\AppData\\\\Roaming\\\\Python\\\\Python312\\\\site-packages\\\\wcwidth\\\\__init__.py'>, 'prompt_toolkit.utils': <module 'prompt_toolkit.utils' from 'C:\\\\Users\\\\FREEDEMPIRE-XL\\\\AppData\\\\Roaming\\\\Python\\\\Python312\\\\site-packages\\\\prompt_toolkit\\\\utils.py'>, 'prompt_toolkit.key_binding.key_processor': <module 'prompt_toolkit.key_binding.key_processor' from 'C:\\\\Users\\\\FREEDEMPIRE-XL\\\\AppData\\\\Roaming\\\\Python\\\\Python312\\\\site-packages\\\\prompt_toolkit\\\\key_binding\\\\key_processor.py'>, 'prompt_toolkit.key_binding': <module 'prompt_toolkit.key_binding' from 'C:\\\\Users\\\\FREEDEMPIRE-XL\\\\AppData\\\\Roaming\\\\Python\\\\Python312\\\\site-packages\\\\prompt_toolkit\\\\key_binding\\\\__init__.py'>, 'prompt_toolkit.key_binding.vi_state': <module 'prompt_toolkit.key_binding.vi_state' from 'C:\\\\Users\\\\FREEDEMPIRE-XL\\\\AppData\\\\Roaming\\\\Python\\\\Python312\\\\site-packages\\\\prompt_toolkit\\\\key_binding\\\\vi_state.py'>, 'prompt_toolkit.cursor_shapes': <module 'prompt_toolkit.cursor_shapes' from 'C:\\\\Users\\\\FREEDEMPIRE-XL\\\\AppData\\\\Roaming\\\\Python\\\\Python312\\\\site-packages\\\\prompt_toolkit\\\\cursor_shapes.py'>, 'prompt_toolkit.data_structures': <module 'prompt_toolkit.data_structures' from 'C:\\\\Users\\\\FREEDEMPIRE-XL\\\\AppData\\\\Roaming\\\\Python\\\\Python312\\\\site-packages\\\\prompt_toolkit\\\\data_structures.py'>, 'prompt_toolkit.styles.base': <module 'prompt_toolkit.styles.base' from 'C:\\\\Users\\\\FREEDEMPIRE-XL\\\\AppData\\\\Roaming\\\\Python\\\\Python312\\\\site-packages\\\\prompt_toolkit\\\\styles\\\\base.py'>, 'prompt_toolkit.styles.named_colors': <module 'prompt_toolkit.styles.named_colors' from 'C:\\\\Users\\\\FREEDEMPIRE-XL\\\\AppData\\\\Roaming\\\\Python\\\\Python312\\\\site-packages\\\\prompt_toolkit\\\\styles\\\\named_colors.py'>, 'prompt_toolkit.styles.style': <module 'prompt_toolkit.styles.style' from 'C:\\\\Users\\\\FREEDEMPIRE-XL\\\\AppData\\\\Roaming\\\\Python\\\\Python312\\\\site-packages\\\\prompt_toolkit\\\\styles\\\\style.py'>, 'prompt_toolkit.styles.defaults': <module 'prompt_toolkit.styles.defaults' from 'C:\\\\Users\\\\FREEDEMPIRE-XL\\\\AppData\\\\Roaming\\\\Python\\\\Python312\\\\site-packages\\\\prompt_toolkit\\\\styles\\\\defaults.py'>, 'prompt_toolkit.styles.pygments': <module 'prompt_toolkit.styles.pygments' from 'C:\\\\Users\\\\FREEDEMPIRE-XL\\\\AppData\\\\Roaming\\\\Python\\\\Python312\\\\site-packages\\\\prompt_toolkit\\\\styles\\\\pygments.py'>, 'colorsys': <module 'colorsys' from 'c:\\\\Users\\\\FREEDEMPIRE-XL\\\\AppData\\\\Local\\\\Programs\\\\Python\\\\Python312\\\\Lib\\\\colorsys.py'>, 'prompt_toolkit.styles.style_transformation': <module 'prompt_toolkit.styles.style_transformation' from 'C:\\\\Users\\\\FREEDEMPIRE-XL\\\\AppData\\\\Roaming\\\\Python\\\\Python312\\\\site-packages\\\\prompt_toolkit\\\\styles\\\\style_transformation.py'>, 'prompt_toolkit.styles': <module 'prompt_toolkit.styles' from 'C:\\\\Users\\\\FREEDEMPIRE-XL\\\\AppData\\\\Roaming\\\\Python\\\\Python312\\\\site-packages\\\\prompt_toolkit\\\\styles\\\\__init__.py'>, 'prompt_toolkit.output.color_depth': <module 'prompt_toolkit.output.color_depth' from 'C:\\\\Users\\\\FREEDEMPIRE-XL\\\\AppData\\\\Roaming\\\\Python\\\\Python312\\\\site-packages\\\\prompt_toolkit\\\\output\\\\color_depth.py'>, 'prompt_toolkit.output.base': <module 'prompt_toolkit.output.base' from 'C:\\\\Users\\\\FREEDEMPIRE-XL\\\\AppData\\\\Roaming\\\\Python\\\\Python312\\\\site-packages\\\\prompt_toolkit\\\\output\\\\base.py'>, 'prompt_toolkit.output.flush_stdout': <module 'prompt_toolkit.output.flush_stdout' from 'C:\\\\Users\\\\FREEDEMPIRE-XL\\\\AppData\\\\Roaming\\\\Python\\\\Python312\\\\site-packages\\\\prompt_toolkit\\\\output\\\\flush_stdout.py'>, 'prompt_toolkit.output.plain_text': <module 'prompt_toolkit.output.plain_text' from 'C:\\\\Users\\\\FREEDEMPIRE-XL\\\\AppData\\\\Roaming\\\\Python\\\\Python312\\\\site-packages\\\\prompt_toolkit\\\\output\\\\plain_text.py'>, 'prompt_toolkit.output.defaults': <module 'prompt_toolkit.output.defaults' from 'C:\\\\Users\\\\FREEDEMPIRE-XL\\\\AppData\\\\Roaming\\\\Python\\\\Python312\\\\site-packages\\\\prompt_toolkit\\\\output\\\\defaults.py'>, 'prompt_toolkit.output': <module 'prompt_toolkit.output' from 'C:\\\\Users\\\\FREEDEMPIRE-XL\\\\AppData\\\\Roaming\\\\Python\\\\Python312\\\\site-packages\\\\prompt_toolkit\\\\output\\\\__init__.py'>, 'prompt_toolkit.output.vt100': <module 'prompt_toolkit.output.vt100' from 'C:\\\\Users\\\\FREEDEMPIRE-XL\\\\AppData\\\\Roaming\\\\Python\\\\Python312\\\\site-packages\\\\prompt_toolkit\\\\output\\\\vt100.py'>, 'prompt_toolkit.mouse_events': <module 'prompt_toolkit.mouse_events' from 'C:\\\\Users\\\\FREEDEMPIRE-XL\\\\AppData\\\\Roaming\\\\Python\\\\Python312\\\\site-packages\\\\prompt_toolkit\\\\mouse_events.py'>, 'prompt_toolkit.formatted_text.base': <module 'prompt_toolkit.formatted_text.base' from 'C:\\\\Users\\\\FREEDEMPIRE-XL\\\\AppData\\\\Roaming\\\\Python\\\\Python312\\\\site-packages\\\\prompt_toolkit\\\\formatted_text\\\\base.py'>, 'prompt_toolkit.formatted_text.ansi': <module 'prompt_toolkit.formatted_text.ansi' from 'C:\\\\Users\\\\FREEDEMPIRE-XL\\\\AppData\\\\Roaming\\\\Python\\\\Python312\\\\site-packages\\\\prompt_toolkit\\\\formatted_text\\\\ansi.py'>, 'xml': <module 'xml' from 'c:\\\\Users\\\\FREEDEMPIRE-XL\\\\AppData\\\\Local\\\\Programs\\\\Python\\\\Python312\\\\Lib\\\\xml\\\\__init__.py'>, 'xml.dom.domreg': <module 'xml.dom.domreg' from 'c:\\\\Users\\\\FREEDEMPIRE-XL\\\\AppData\\\\Local\\\\Programs\\\\Python\\\\Python312\\\\Lib\\\\xml\\\\dom\\\\domreg.py'>, 'xml.dom': <module 'xml.dom' from 'c:\\\\Users\\\\FREEDEMPIRE-XL\\\\AppData\\\\Local\\\\Programs\\\\Python\\\\Python312\\\\Lib\\\\xml\\\\dom\\\\__init__.py'>, 'xml.dom.minicompat': <module 'xml.dom.minicompat' from 'c:\\\\Users\\\\FREEDEMPIRE-XL\\\\AppData\\\\Local\\\\Programs\\\\Python\\\\Python312\\\\Lib\\\\xml\\\\dom\\\\minicompat.py'>, 'xml.dom.NodeFilter': <module 'xml.dom.NodeFilter' from 'c:\\\\Users\\\\FREEDEMPIRE-XL\\\\AppData\\\\Local\\\\Programs\\\\Python\\\\Python312\\\\Lib\\\\xml\\\\dom\\\\NodeFilter.py'>, 'xml.dom.xmlbuilder': <module 'xml.dom.xmlbuilder' from 'c:\\\\Users\\\\FREEDEMPIRE-XL\\\\AppData\\\\Local\\\\Programs\\\\Python\\\\Python312\\\\Lib\\\\xml\\\\dom\\\\xmlbuilder.py'>, 'xml.dom.minidom': <module 'xml.dom.minidom' from 'c:\\\\Users\\\\FREEDEMPIRE-XL\\\\AppData\\\\Local\\\\Programs\\\\Python\\\\Python312\\\\Lib\\\\xml\\\\dom\\\\minidom.py'>, 'prompt_toolkit.formatted_text.html': <module 'prompt_toolkit.formatted_text.html' from 'C:\\\\Users\\\\FREEDEMPIRE-XL\\\\AppData\\\\Roaming\\\\Python\\\\Python312\\\\site-packages\\\\prompt_toolkit\\\\formatted_text\\\\html.py'>, 'prompt_toolkit.formatted_text.pygments': <module 'prompt_toolkit.formatted_text.pygments' from 'C:\\\\Users\\\\FREEDEMPIRE-XL\\\\AppData\\\\Roaming\\\\Python\\\\Python312\\\\site-packages\\\\prompt_toolkit\\\\formatted_text\\\\pygments.py'>, 'prompt_toolkit.formatted_text.utils': <module 'prompt_toolkit.formatted_text.utils' from 'C:\\\\Users\\\\FREEDEMPIRE-XL\\\\AppData\\\\Roaming\\\\Python\\\\Python312\\\\site-packages\\\\prompt_toolkit\\\\formatted_text\\\\utils.py'>, 'prompt_toolkit.formatted_text': <module 'prompt_toolkit.formatted_text' from 'C:\\\\Users\\\\FREEDEMPIRE-XL\\\\AppData\\\\Roaming\\\\Python\\\\Python312\\\\site-packages\\\\prompt_toolkit\\\\formatted_text\\\\__init__.py'>, 'prompt_toolkit.completion.base': <module 'prompt_toolkit.completion.base' from 'C:\\\\Users\\\\FREEDEMPIRE-XL\\\\AppData\\\\Roaming\\\\Python\\\\Python312\\\\site-packages\\\\prompt_toolkit\\\\completion\\\\base.py'>, 'prompt_toolkit.completion.deduplicate': <module 'prompt_toolkit.completion.deduplicate' from 'C:\\\\Users\\\\FREEDEMPIRE-XL\\\\AppData\\\\Roaming\\\\Python\\\\Python312\\\\site-packages\\\\prompt_toolkit\\\\completion\\\\deduplicate.py'>, 'prompt_toolkit.completion.filesystem': <module 'prompt_toolkit.completion.filesystem' from 'C:\\\\Users\\\\FREEDEMPIRE-XL\\\\AppData\\\\Roaming\\\\Python\\\\Python312\\\\site-packages\\\\prompt_toolkit\\\\completion\\\\filesystem.py'>, 'prompt_toolkit.completion.word_completer': <module 'prompt_toolkit.completion.word_completer' from 'C:\\\\Users\\\\FREEDEMPIRE-XL\\\\AppData\\\\Roaming\\\\Python\\\\Python312\\\\site-packages\\\\prompt_toolkit\\\\completion\\\\word_completer.py'>, 'prompt_toolkit.completion.fuzzy_completer': <module 'prompt_toolkit.completion.fuzzy_completer' from 'C:\\\\Users\\\\FREEDEMPIRE-XL\\\\AppData\\\\Roaming\\\\Python\\\\Python312\\\\site-packages\\\\prompt_toolkit\\\\completion\\\\fuzzy_completer.py'>, 'prompt_toolkit.completion.nested': <module 'prompt_toolkit.completion.nested' from 'C:\\\\Users\\\\FREEDEMPIRE-XL\\\\AppData\\\\Roaming\\\\Python\\\\Python312\\\\site-packages\\\\prompt_toolkit\\\\completion\\\\nested.py'>, 'prompt_toolkit.completion': <module 'prompt_toolkit.completion' from 'C:\\\\Users\\\\FREEDEMPIRE-XL\\\\AppData\\\\Roaming\\\\Python\\\\Python312\\\\site-packages\\\\prompt_toolkit\\\\completion\\\\__init__.py'>, 'prompt_toolkit.history': <module 'prompt_toolkit.history' from 'C:\\\\Users\\\\FREEDEMPIRE-XL\\\\AppData\\\\Roaming\\\\Python\\\\Python312\\\\site-packages\\\\prompt_toolkit\\\\history.py'>, 'prompt_toolkit.search': <module 'prompt_toolkit.search' from 'C:\\\\Users\\\\FREEDEMPIRE-XL\\\\AppData\\\\Roaming\\\\Python\\\\Python312\\\\site-packages\\\\prompt_toolkit\\\\search.py'>, 'prompt_toolkit.validation': <module 'prompt_toolkit.validation' from 'C:\\\\Users\\\\FREEDEMPIRE-XL\\\\AppData\\\\Roaming\\\\Python\\\\Python312\\\\site-packages\\\\prompt_toolkit\\\\validation.py'>, 'prompt_toolkit.buffer': <module 'prompt_toolkit.buffer' from 'C:\\\\Users\\\\FREEDEMPIRE-XL\\\\AppData\\\\Roaming\\\\Python\\\\Python312\\\\site-packages\\\\prompt_toolkit\\\\buffer.py'>, 'prompt_toolkit.input.base': <module 'prompt_toolkit.input.base' from 'C:\\\\Users\\\\FREEDEMPIRE-XL\\\\AppData\\\\Roaming\\\\Python\\\\Python312\\\\site-packages\\\\prompt_toolkit\\\\input\\\\base.py'>, 'prompt_toolkit.input.defaults': <module 'prompt_toolkit.input.defaults' from 'C:\\\\Users\\\\FREEDEMPIRE-XL\\\\AppData\\\\Roaming\\\\Python\\\\Python312\\\\site-packages\\\\prompt_toolkit\\\\input\\\\defaults.py'>, 'prompt_toolkit.input': <module 'prompt_toolkit.input' from 'C:\\\\Users\\\\FREEDEMPIRE-XL\\\\AppData\\\\Roaming\\\\Python\\\\Python312\\\\site-packages\\\\prompt_toolkit\\\\input\\\\__init__.py'>, 'prompt_toolkit.input.typeahead': <module 'prompt_toolkit.input.typeahead' from 'C:\\\\Users\\\\FREEDEMPIRE-XL\\\\AppData\\\\Roaming\\\\Python\\\\Python312\\\\site-packages\\\\prompt_toolkit\\\\input\\\\typeahead.py'>, 'prompt_toolkit.key_binding.bindings': <module 'prompt_toolkit.key_binding.bindings' from 'C:\\\\Users\\\\FREEDEMPIRE-XL\\\\AppData\\\\Roaming\\\\Python\\\\Python312\\\\site-packages\\\\prompt_toolkit\\\\key_binding\\\\bindings\\\\__init__.py'>, 'prompt_toolkit.key_binding.bindings.scroll': <module 'prompt_toolkit.key_binding.bindings.scroll' from 'C:\\\\Users\\\\FREEDEMPIRE-XL\\\\AppData\\\\Roaming\\\\Python\\\\Python312\\\\site-packages\\\\prompt_toolkit\\\\key_binding\\\\bindings\\\\scroll.py'>, 'prompt_toolkit.key_binding.bindings.page_navigation': <module 'prompt_toolkit.key_binding.bindings.page_navigation' from 'C:\\\\Users\\\\FREEDEMPIRE-XL\\\\AppData\\\\Roaming\\\\Python\\\\Python312\\\\site-packages\\\\prompt_toolkit\\\\key_binding\\\\bindings\\\\page_navigation.py'>, 'prompt_toolkit.lexers.base': <module 'prompt_toolkit.lexers.base' from 'C:\\\\Users\\\\FREEDEMPIRE-XL\\\\AppData\\\\Roaming\\\\Python\\\\Python312\\\\site-packages\\\\prompt_toolkit\\\\lexers\\\\base.py'>, 'prompt_toolkit.lexers.pygments': <module 'prompt_toolkit.lexers.pygments' from 'C:\\\\Users\\\\FREEDEMPIRE-XL\\\\AppData\\\\Roaming\\\\Python\\\\Python312\\\\site-packages\\\\prompt_toolkit\\\\lexers\\\\pygments.py'>, 'prompt_toolkit.lexers': <module 'prompt_toolkit.lexers' from 'C:\\\\Users\\\\FREEDEMPIRE-XL\\\\AppData\\\\Roaming\\\\Python\\\\Python312\\\\site-packages\\\\prompt_toolkit\\\\lexers\\\\__init__.py'>, 'prompt_toolkit.layout.utils': <module 'prompt_toolkit.layout.utils' from 'C:\\\\Users\\\\FREEDEMPIRE-XL\\\\AppData\\\\Roaming\\\\Python\\\\Python312\\\\site-packages\\\\prompt_toolkit\\\\layout\\\\utils.py'>, 'prompt_toolkit.layout.processors': <module 'prompt_toolkit.layout.processors' from 'C:\\\\Users\\\\FREEDEMPIRE-XL\\\\AppData\\\\Roaming\\\\Python\\\\Python312\\\\site-packages\\\\prompt_toolkit\\\\layout\\\\processors.py'>, 'prompt_toolkit.layout.controls': <module 'prompt_toolkit.layout.controls' from 'C:\\\\Users\\\\FREEDEMPIRE-XL\\\\AppData\\\\Roaming\\\\Python\\\\Python312\\\\site-packages\\\\prompt_toolkit\\\\layout\\\\controls.py'>, 'prompt_toolkit.layout.dimension': <module 'prompt_toolkit.layout.dimension' from 'C:\\\\Users\\\\FREEDEMPIRE-XL\\\\AppData\\\\Roaming\\\\Python\\\\Python312\\\\site-packages\\\\prompt_toolkit\\\\layout\\\\dimension.py'>, 'prompt_toolkit.layout.margins': <module 'prompt_toolkit.layout.margins' from 'C:\\\\Users\\\\FREEDEMPIRE-XL\\\\AppData\\\\Roaming\\\\Python\\\\Python312\\\\site-packages\\\\prompt_toolkit\\\\layout\\\\margins.py'>, 'prompt_toolkit.layout.mouse_handlers': <module 'prompt_toolkit.layout.mouse_handlers' from 'C:\\\\Users\\\\FREEDEMPIRE-XL\\\\AppData\\\\Roaming\\\\Python\\\\Python312\\\\site-packages\\\\prompt_toolkit\\\\layout\\\\mouse_handlers.py'>, 'prompt_toolkit.layout.screen': <module 'prompt_toolkit.layout.screen' from 'C:\\\\Users\\\\FREEDEMPIRE-XL\\\\AppData\\\\Roaming\\\\Python\\\\Python312\\\\site-packages\\\\prompt_toolkit\\\\layout\\\\screen.py'>, 'prompt_toolkit.layout.containers': <module 'prompt_toolkit.layout.containers' from 'C:\\\\Users\\\\FREEDEMPIRE-XL\\\\AppData\\\\Roaming\\\\Python\\\\Python312\\\\site-packages\\\\prompt_toolkit\\\\layout\\\\containers.py'>, 'prompt_toolkit.layout.layout': <module 'prompt_toolkit.layout.layout' from 'C:\\\\Users\\\\FREEDEMPIRE-XL\\\\AppData\\\\Roaming\\\\Python\\\\Python312\\\\site-packages\\\\prompt_toolkit\\\\layout\\\\layout.py'>, 'prompt_toolkit.layout.menus': <module 'prompt_toolkit.layout.menus' from 'C:\\\\Users\\\\FREEDEMPIRE-XL\\\\AppData\\\\Roaming\\\\Python\\\\Python312\\\\site-packages\\\\prompt_toolkit\\\\layout\\\\menus.py'>, 'prompt_toolkit.layout.scrollable_pane': <module 'prompt_toolkit.layout.scrollable_pane' from 'C:\\\\Users\\\\FREEDEMPIRE-XL\\\\AppData\\\\Roaming\\\\Python\\\\Python312\\\\site-packages\\\\prompt_toolkit\\\\layout\\\\scrollable_pane.py'>, 'prompt_toolkit.layout': <module 'prompt_toolkit.layout' from 'C:\\\\Users\\\\FREEDEMPIRE-XL\\\\AppData\\\\Roaming\\\\Python\\\\Python312\\\\site-packages\\\\prompt_toolkit\\\\layout\\\\__init__.py'>, 'prompt_toolkit.key_binding.bindings.completion': <module 'prompt_toolkit.key_binding.bindings.completion' from 'C:\\\\Users\\\\FREEDEMPIRE-XL\\\\AppData\\\\Roaming\\\\Python\\\\Python312\\\\site-packages\\\\prompt_toolkit\\\\key_binding\\\\bindings\\\\completion.py'>, 'prompt_toolkit.key_binding.bindings.named_commands': <module 'prompt_toolkit.key_binding.bindings.named_commands' from 'C:\\\\Users\\\\FREEDEMPIRE-XL\\\\AppData\\\\Roaming\\\\Python\\\\Python312\\\\site-packages\\\\prompt_toolkit\\\\key_binding\\\\bindings\\\\named_commands.py'>, 'prompt_toolkit.key_binding.bindings.basic': <module 'prompt_toolkit.key_binding.bindings.basic' from 'C:\\\\Users\\\\FREEDEMPIRE-XL\\\\AppData\\\\Roaming\\\\Python\\\\Python312\\\\site-packages\\\\prompt_toolkit\\\\key_binding\\\\bindings\\\\basic.py'>, 'prompt_toolkit.key_binding.bindings.cpr': <module 'prompt_toolkit.key_binding.bindings.cpr' from 'C:\\\\Users\\\\FREEDEMPIRE-XL\\\\AppData\\\\Roaming\\\\Python\\\\Python312\\\\site-packages\\\\prompt_toolkit\\\\key_binding\\\\bindings\\\\cpr.py'>, 'prompt_toolkit.key_binding.bindings.emacs': <module 'prompt_toolkit.key_binding.bindings.emacs' from 'C:\\\\Users\\\\FREEDEMPIRE-XL\\\\AppData\\\\Roaming\\\\Python\\\\Python312\\\\site-packages\\\\prompt_toolkit\\\\key_binding\\\\bindings\\\\emacs.py'>, 'prompt_toolkit.key_binding.bindings.mouse': <module 'prompt_toolkit.key_binding.bindings.mouse' from 'C:\\\\Users\\\\FREEDEMPIRE-XL\\\\AppData\\\\Roaming\\\\Python\\\\Python312\\\\site-packages\\\\prompt_toolkit\\\\key_binding\\\\bindings\\\\mouse.py'>, 'prompt_toolkit.input.ansi_escape_sequences': <module 'prompt_toolkit.input.ansi_escape_sequences' from 'C:\\\\Users\\\\FREEDEMPIRE-XL\\\\AppData\\\\Roaming\\\\Python\\\\Python312\\\\site-packages\\\\prompt_toolkit\\\\input\\\\ansi_escape_sequences.py'>, 'prompt_toolkit.input.vt100_parser': <module 'prompt_toolkit.input.vt100_parser' from 'C:\\\\Users\\\\FREEDEMPIRE-XL\\\\AppData\\\\Roaming\\\\Python\\\\Python312\\\\site-packages\\\\prompt_toolkit\\\\input\\\\vt100_parser.py'>, 'prompt_toolkit.key_binding.digraphs': <module 'prompt_toolkit.key_binding.digraphs' from 'C:\\\\Users\\\\FREEDEMPIRE-XL\\\\AppData\\\\Roaming\\\\Python\\\\Python312\\\\site-packages\\\\prompt_toolkit\\\\key_binding\\\\digraphs.py'>, 'prompt_toolkit.key_binding.bindings.vi': <module 'prompt_toolkit.key_binding.bindings.vi' from 'C:\\\\Users\\\\FREEDEMPIRE-XL\\\\AppData\\\\Roaming\\\\Python\\\\Python312\\\\site-packages\\\\prompt_toolkit\\\\key_binding\\\\bindings\\\\vi.py'>, 'prompt_toolkit.key_binding.defaults': <module 'prompt_toolkit.key_binding.defaults' from 'C:\\\\Users\\\\FREEDEMPIRE-XL\\\\AppData\\\\Roaming\\\\Python\\\\Python312\\\\site-packages\\\\prompt_toolkit\\\\key_binding\\\\defaults.py'>, 'prompt_toolkit.key_binding.emacs_state': <module 'prompt_toolkit.key_binding.emacs_state' from 'C:\\\\Users\\\\FREEDEMPIRE-XL\\\\AppData\\\\Roaming\\\\Python\\\\Python312\\\\site-packages\\\\prompt_toolkit\\\\key_binding\\\\emacs_state.py'>, 'prompt_toolkit.layout.dummy': <module 'prompt_toolkit.layout.dummy' from 'C:\\\\Users\\\\FREEDEMPIRE-XL\\\\AppData\\\\Roaming\\\\Python\\\\Python312\\\\site-packages\\\\prompt_toolkit\\\\layout\\\\dummy.py'>, 'prompt_toolkit.renderer': <module 'prompt_toolkit.renderer' from 'C:\\\\Users\\\\FREEDEMPIRE-XL\\\\AppData\\\\Roaming\\\\Python\\\\Python312\\\\site-packages\\\\prompt_toolkit\\\\renderer.py'>, 'prompt_toolkit.application.application': <module 'prompt_toolkit.application.application' from 'C:\\\\Users\\\\FREEDEMPIRE-XL\\\\AppData\\\\Roaming\\\\Python\\\\Python312\\\\site-packages\\\\prompt_toolkit\\\\application\\\\application.py'>, 'prompt_toolkit.application.dummy': <module 'prompt_toolkit.application.dummy' from 'C:\\\\Users\\\\FREEDEMPIRE-XL\\\\AppData\\\\Roaming\\\\Python\\\\Python312\\\\site-packages\\\\prompt_toolkit\\\\application\\\\dummy.py'>, 'prompt_toolkit.application': <module 'prompt_toolkit.application' from 'C:\\\\Users\\\\FREEDEMPIRE-XL\\\\AppData\\\\Roaming\\\\Python\\\\Python312\\\\site-packages\\\\prompt_toolkit\\\\application\\\\__init__.py'>, 'prompt_toolkit.key_binding.bindings.focus': <module 'prompt_toolkit.key_binding.bindings.focus' from 'C:\\\\Users\\\\FREEDEMPIRE-XL\\\\AppData\\\\Roaming\\\\Python\\\\Python312\\\\site-packages\\\\prompt_toolkit\\\\key_binding\\\\bindings\\\\focus.py'>, 'prompt_toolkit.widgets.toolbars': <module 'prompt_toolkit.widgets.toolbars' from 'C:\\\\Users\\\\FREEDEMPIRE-XL\\\\AppData\\\\Roaming\\\\Python\\\\Python312\\\\site-packages\\\\prompt_toolkit\\\\widgets\\\\toolbars.py'>, 'prompt_toolkit.widgets.base': <module 'prompt_toolkit.widgets.base' from 'C:\\\\Users\\\\FREEDEMPIRE-XL\\\\AppData\\\\Roaming\\\\Python\\\\Python312\\\\site-packages\\\\prompt_toolkit\\\\widgets\\\\base.py'>, 'prompt_toolkit.widgets.dialogs': <module 'prompt_toolkit.widgets.dialogs' from 'C:\\\\Users\\\\FREEDEMPIRE-XL\\\\AppData\\\\Roaming\\\\Python\\\\Python312\\\\site-packages\\\\prompt_toolkit\\\\widgets\\\\dialogs.py'>, 'prompt_toolkit.widgets.menus': <module 'prompt_toolkit.widgets.menus' from 'C:\\\\Users\\\\FREEDEMPIRE-XL\\\\AppData\\\\Roaming\\\\Python\\\\Python312\\\\site-packages\\\\prompt_toolkit\\\\widgets\\\\menus.py'>, 'prompt_toolkit.widgets': <module 'prompt_toolkit.widgets' from 'C:\\\\Users\\\\FREEDEMPIRE-XL\\\\AppData\\\\Roaming\\\\Python\\\\Python312\\\\site-packages\\\\prompt_toolkit\\\\widgets\\\\__init__.py'>, 'prompt_toolkit.shortcuts.dialogs': <module 'prompt_toolkit.shortcuts.dialogs' from 'C:\\\\Users\\\\FREEDEMPIRE-XL\\\\AppData\\\\Roaming\\\\Python\\\\Python312\\\\site-packages\\\\prompt_toolkit\\\\shortcuts\\\\dialogs.py'>, 'prompt_toolkit.shortcuts.progress_bar.formatters': <module 'prompt_toolkit.shortcuts.progress_bar.formatters' from 'C:\\\\Users\\\\FREEDEMPIRE-XL\\\\AppData\\\\Roaming\\\\Python\\\\Python312\\\\site-packages\\\\prompt_toolkit\\\\shortcuts\\\\progress_bar\\\\formatters.py'>, 'prompt_toolkit.shortcuts.progress_bar.base': <module 'prompt_toolkit.shortcuts.progress_bar.base' from 'C:\\\\Users\\\\FREEDEMPIRE-XL\\\\AppData\\\\Roaming\\\\Python\\\\Python312\\\\site-packages\\\\prompt_toolkit\\\\shortcuts\\\\progress_bar\\\\base.py'>, 'prompt_toolkit.shortcuts.progress_bar': <module 'prompt_toolkit.shortcuts.progress_bar' from 'C:\\\\Users\\\\FREEDEMPIRE-XL\\\\AppData\\\\Roaming\\\\Python\\\\Python312\\\\site-packages\\\\prompt_toolkit\\\\shortcuts\\\\progress_bar\\\\__init__.py'>, 'prompt_toolkit.key_binding.bindings.auto_suggest': <module 'prompt_toolkit.key_binding.bindings.auto_suggest' from 'C:\\\\Users\\\\FREEDEMPIRE-XL\\\\AppData\\\\Roaming\\\\Python\\\\Python312\\\\site-packages\\\\prompt_toolkit\\\\key_binding\\\\bindings\\\\auto_suggest.py'>, 'prompt_toolkit.key_binding.bindings.open_in_editor': <module 'prompt_toolkit.key_binding.bindings.open_in_editor' from 'C:\\\\Users\\\\FREEDEMPIRE-XL\\\\AppData\\\\Roaming\\\\Python\\\\Python312\\\\site-packages\\\\prompt_toolkit\\\\key_binding\\\\bindings\\\\open_in_editor.py'>, 'prompt_toolkit.shortcuts.prompt': <module 'prompt_toolkit.shortcuts.prompt' from 'C:\\\\Users\\\\FREEDEMPIRE-XL\\\\AppData\\\\Roaming\\\\Python\\\\Python312\\\\site-packages\\\\prompt_toolkit\\\\shortcuts\\\\prompt.py'>, 'prompt_toolkit.shortcuts.utils': <module 'prompt_toolkit.shortcuts.utils' from 'C:\\\\Users\\\\FREEDEMPIRE-XL\\\\AppData\\\\Roaming\\\\Python\\\\Python312\\\\site-packages\\\\prompt_toolkit\\\\shortcuts\\\\utils.py'>, 'prompt_toolkit.shortcuts': <module 'prompt_toolkit.shortcuts' from 'C:\\\\Users\\\\FREEDEMPIRE-XL\\\\AppData\\\\Roaming\\\\Python\\\\Python312\\\\site-packages\\\\prompt_toolkit\\\\shortcuts\\\\__init__.py'>, 'prompt_toolkit': <module 'prompt_toolkit' from 'C:\\\\Users\\\\FREEDEMPIRE-XL\\\\AppData\\\\Roaming\\\\Python\\\\Python312\\\\site-packages\\\\prompt_toolkit\\\\__init__.py'>, 'prompt_toolkit.patch_stdout': <module 'prompt_toolkit.patch_stdout' from 'C:\\\\Users\\\\FREEDEMPIRE-XL\\\\AppData\\\\Roaming\\\\Python\\\\Python312\\\\site-packages\\\\prompt_toolkit\\\\patch_stdout.py'>, 'unicodedata': <module 'unicodedata' from 'c:\\\\Users\\\\FREEDEMPIRE-XL\\\\AppData\\\\Local\\\\Programs\\\\Python\\\\Python312\\\\DLLs\\\\unicodedata.pyd'>, 'IPython.core.guarded_eval': <module 'IPython.core.guarded_eval' from 'C:\\\\Users\\\\FREEDEMPIRE-XL\\\\AppData\\\\Roaming\\\\Python\\\\Python312\\\\site-packages\\\\IPython\\\\core\\\\guarded_eval.py'>, 'IPython.core.latex_symbols': <module 'IPython.core.latex_symbols' from 'C:\\\\Users\\\\FREEDEMPIRE-XL\\\\AppData\\\\Roaming\\\\Python\\\\Python312\\\\site-packages\\\\IPython\\\\core\\\\latex_symbols.py'>, 'IPython.utils.generics': <module 'IPython.utils.generics' from 'C:\\\\Users\\\\FREEDEMPIRE-XL\\\\AppData\\\\Roaming\\\\Python\\\\Python312\\\\site-packages\\\\IPython\\\\utils\\\\generics.py'>, 'parso.utils': <module 'parso.utils' from 'C:\\\\Users\\\\FREEDEMPIRE-XL\\\\AppData\\\\Roaming\\\\Python\\\\Python312\\\\site-packages\\\\parso\\\\utils.py'>, 'parso.tree': <module 'parso.tree' from 'C:\\\\Users\\\\FREEDEMPIRE-XL\\\\AppData\\\\Roaming\\\\Python\\\\Python312\\\\site-packages\\\\parso\\\\tree.py'>, 'parso.python': <module 'parso.python' from 'C:\\\\Users\\\\FREEDEMPIRE-XL\\\\AppData\\\\Roaming\\\\Python\\\\Python312\\\\site-packages\\\\parso\\\\python\\\\__init__.py'>, 'parso.python.token': <module 'parso.python.token' from 'C:\\\\Users\\\\FREEDEMPIRE-XL\\\\AppData\\\\Roaming\\\\Python\\\\Python312\\\\site-packages\\\\parso\\\\python\\\\token.py'>, 'parso.python.tokenize': <module 'parso.python.tokenize' from 'C:\\\\Users\\\\FREEDEMPIRE-XL\\\\AppData\\\\Roaming\\\\Python\\\\Python312\\\\site-packages\\\\parso\\\\python\\\\tokenize.py'>, 'parso.pgen2.grammar_parser': <module 'parso.pgen2.grammar_parser' from 'C:\\\\Users\\\\FREEDEMPIRE-XL\\\\AppData\\\\Roaming\\\\Python\\\\Python312\\\\site-packages\\\\parso\\\\pgen2\\\\grammar_parser.py'>, 'parso.pgen2.generator': <module 'parso.pgen2.generator' from 'C:\\\\Users\\\\FREEDEMPIRE-XL\\\\AppData\\\\Roaming\\\\Python\\\\Python312\\\\site-packages\\\\parso\\\\pgen2\\\\generator.py'>, 'parso.pgen2': <module 'parso.pgen2' from 'C:\\\\Users\\\\FREEDEMPIRE-XL\\\\AppData\\\\Roaming\\\\Python\\\\Python312\\\\site-packages\\\\parso\\\\pgen2\\\\__init__.py'>, 'parso.parser': <module 'parso.parser' from 'C:\\\\Users\\\\FREEDEMPIRE-XL\\\\AppData\\\\Roaming\\\\Python\\\\Python312\\\\site-packages\\\\parso\\\\parser.py'>, 'parso._compatibility': <module 'parso._compatibility' from 'C:\\\\Users\\\\FREEDEMPIRE-XL\\\\AppData\\\\Roaming\\\\Python\\\\Python312\\\\site-packages\\\\parso\\\\_compatibility.py'>, 'difflib': <module 'difflib' from 'c:\\\\Users\\\\FREEDEMPIRE-XL\\\\AppData\\\\Local\\\\Programs\\\\Python\\\\Python312\\\\Lib\\\\difflib.py'>, 'parso.python.prefix': <module 'parso.python.prefix' from 'C:\\\\Users\\\\FREEDEMPIRE-XL\\\\AppData\\\\Roaming\\\\Python\\\\Python312\\\\site-packages\\\\parso\\\\python\\\\prefix.py'>, 'parso.python.tree': <module 'parso.python.tree' from 'C:\\\\Users\\\\FREEDEMPIRE-XL\\\\AppData\\\\Roaming\\\\Python\\\\Python312\\\\site-packages\\\\parso\\\\python\\\\tree.py'>, 'parso.python.parser': <module 'parso.python.parser' from 'C:\\\\Users\\\\FREEDEMPIRE-XL\\\\AppData\\\\Roaming\\\\Python\\\\Python312\\\\site-packages\\\\parso\\\\python\\\\parser.py'>, 'parso.python.diff': <module 'parso.python.diff' from 'C:\\\\Users\\\\FREEDEMPIRE-XL\\\\AppData\\\\Roaming\\\\Python\\\\Python312\\\\site-packages\\\\parso\\\\python\\\\diff.py'>, 'gc': <module 'gc' (built-in)>, 'parso.cache': <module 'parso.cache' from 'C:\\\\Users\\\\FREEDEMPIRE-XL\\\\AppData\\\\Roaming\\\\Python\\\\Python312\\\\site-packages\\\\parso\\\\cache.py'>, 'parso.normalizer': <module 'parso.normalizer' from 'C:\\\\Users\\\\FREEDEMPIRE-XL\\\\AppData\\\\Roaming\\\\Python\\\\Python312\\\\site-packages\\\\parso\\\\normalizer.py'>, 'parso.python.errors': <module 'parso.python.errors' from 'C:\\\\Users\\\\FREEDEMPIRE-XL\\\\AppData\\\\Roaming\\\\Python\\\\Python312\\\\site-packages\\\\parso\\\\python\\\\errors.py'>, 'parso.python.pep8': <module 'parso.python.pep8' from 'C:\\\\Users\\\\FREEDEMPIRE-XL\\\\AppData\\\\Roaming\\\\Python\\\\Python312\\\\site-packages\\\\parso\\\\python\\\\pep8.py'>, 'parso.file_io': <module 'parso.file_io' from 'C:\\\\Users\\\\FREEDEMPIRE-XL\\\\AppData\\\\Roaming\\\\Python\\\\Python312\\\\site-packages\\\\parso\\\\file_io.py'>, 'parso.grammar': <module 'parso.grammar' from 'C:\\\\Users\\\\FREEDEMPIRE-XL\\\\AppData\\\\Roaming\\\\Python\\\\Python312\\\\site-packages\\\\parso\\\\grammar.py'>, 'parso': <module 'parso' from 'C:\\\\Users\\\\FREEDEMPIRE-XL\\\\AppData\\\\Roaming\\\\Python\\\\Python312\\\\site-packages\\\\parso\\\\__init__.py'>, 'jedi.parser_utils': <module 'jedi.parser_utils' from 'C:\\\\Users\\\\FREEDEMPIRE-XL\\\\AppData\\\\Roaming\\\\Python\\\\Python312\\\\site-packages\\\\jedi\\\\parser_utils.py'>, 'jedi.debug': <module 'jedi.debug' from 'C:\\\\Users\\\\FREEDEMPIRE-XL\\\\AppData\\\\Roaming\\\\Python\\\\Python312\\\\site-packages\\\\jedi\\\\debug.py'>, 'jedi.settings': <module 'jedi.settings' from 'C:\\\\Users\\\\FREEDEMPIRE-XL\\\\AppData\\\\Roaming\\\\Python\\\\Python312\\\\site-packages\\\\jedi\\\\settings.py'>, 'jedi.cache': <module 'jedi.cache' from 'C:\\\\Users\\\\FREEDEMPIRE-XL\\\\AppData\\\\Roaming\\\\Python\\\\Python312\\\\site-packages\\\\jedi\\\\cache.py'>, 'jedi.file_io': <module 'jedi.file_io' from 'C:\\\\Users\\\\FREEDEMPIRE-XL\\\\AppData\\\\Roaming\\\\Python\\\\Python312\\\\site-packages\\\\jedi\\\\file_io.py'>, 'jedi.inference.cache': <module 'jedi.inference.cache' from 'C:\\\\Users\\\\FREEDEMPIRE-XL\\\\AppData\\\\Roaming\\\\Python\\\\Python312\\\\site-packages\\\\jedi\\\\inference\\\\cache.py'>, 'jedi.inference.helpers': <module 'jedi.inference.helpers' from 'C:\\\\Users\\\\FREEDEMPIRE-XL\\\\AppData\\\\Roaming\\\\Python\\\\Python312\\\\site-packages\\\\jedi\\\\inference\\\\helpers.py'>, 'jedi.inference.utils': <module 'jedi.inference.utils' from 'C:\\\\Users\\\\FREEDEMPIRE-XL\\\\AppData\\\\Roaming\\\\Python\\\\Python312\\\\site-packages\\\\jedi\\\\inference\\\\utils.py'>, 'jedi.inference.base_value': <module 'jedi.inference.base_value' from 'C:\\\\Users\\\\FREEDEMPIRE-XL\\\\AppData\\\\Roaming\\\\Python\\\\Python312\\\\site-packages\\\\jedi\\\\inference\\\\base_value.py'>, 'jedi.inference.sys_path': <module 'jedi.inference.sys_path' from 'C:\\\\Users\\\\FREEDEMPIRE-XL\\\\AppData\\\\Roaming\\\\Python\\\\Python312\\\\site-packages\\\\jedi\\\\inference\\\\sys_path.py'>, 'jedi.inference.recursion': <module 'jedi.inference.recursion' from 'C:\\\\Users\\\\FREEDEMPIRE-XL\\\\AppData\\\\Roaming\\\\Python\\\\Python312\\\\site-packages\\\\jedi\\\\inference\\\\recursion.py'>, 'jedi.inference.flow_analysis': <module 'jedi.inference.flow_analysis' from 'C:\\\\Users\\\\FREEDEMPIRE-XL\\\\AppData\\\\Roaming\\\\Python\\\\Python312\\\\site-packages\\\\jedi\\\\inference\\\\flow_analysis.py'>, 'jedi.common': <module 'jedi.common' from 'C:\\\\Users\\\\FREEDEMPIRE-XL\\\\AppData\\\\Roaming\\\\Python\\\\Python312\\\\site-packages\\\\jedi\\\\common.py'>, 'jedi.inference.lazy_value': <module 'jedi.inference.lazy_value' from 'C:\\\\Users\\\\FREEDEMPIRE-XL\\\\AppData\\\\Roaming\\\\Python\\\\Python312\\\\site-packages\\\\jedi\\\\inference\\\\lazy_value.py'>, 'jedi.inference.docstrings': <module 'jedi.inference.docstrings' from 'C:\\\\Users\\\\FREEDEMPIRE-XL\\\\AppData\\\\Roaming\\\\Python\\\\Python312\\\\site-packages\\\\jedi\\\\inference\\\\docstrings.py'>, 'jedi.plugins': <module 'jedi.plugins' from 'C:\\\\Users\\\\FREEDEMPIRE-XL\\\\AppData\\\\Roaming\\\\Python\\\\Python312\\\\site-packages\\\\jedi\\\\plugins\\\\__init__.py'>, 'jedi.inference.names': <module 'jedi.inference.names' from 'C:\\\\Users\\\\FREEDEMPIRE-XL\\\\AppData\\\\Roaming\\\\Python\\\\Python312\\\\site-packages\\\\jedi\\\\inference\\\\names.py'>, 'jedi.inference.filters': <module 'jedi.inference.filters' from 'C:\\\\Users\\\\FREEDEMPIRE-XL\\\\AppData\\\\Roaming\\\\Python\\\\Python312\\\\site-packages\\\\jedi\\\\inference\\\\filters.py'>, 'jedi.inference.compiled.getattr_static': <module 'jedi.inference.compiled.getattr_static' from 'C:\\\\Users\\\\FREEDEMPIRE-XL\\\\AppData\\\\Roaming\\\\Python\\\\Python312\\\\site-packages\\\\jedi\\\\inference\\\\compiled\\\\getattr_static.py'>, 'jedi.inference.compiled.access': <module 'jedi.inference.compiled.access' from 'C:\\\\Users\\\\FREEDEMPIRE-XL\\\\AppData\\\\Roaming\\\\Python\\\\Python312\\\\site-packages\\\\jedi\\\\inference\\\\compiled\\\\access.py'>, 'jedi.inference.signature': <module 'jedi.inference.signature' from 'C:\\\\Users\\\\FREEDEMPIRE-XL\\\\AppData\\\\Roaming\\\\Python\\\\Python312\\\\site-packages\\\\jedi\\\\inference\\\\signature.py'>, 'jedi.inference.context': <module 'jedi.inference.context' from 'C:\\\\Users\\\\FREEDEMPIRE-XL\\\\AppData\\\\Roaming\\\\Python\\\\Python312\\\\site-packages\\\\jedi\\\\inference\\\\context.py'>, 'jedi.inference.compiled.value': <module 'jedi.inference.compiled.value' from 'C:\\\\Users\\\\FREEDEMPIRE-XL\\\\AppData\\\\Roaming\\\\Python\\\\Python312\\\\site-packages\\\\jedi\\\\inference\\\\compiled\\\\value.py'>, 'jedi.inference.compiled': <module 'jedi.inference.compiled' from 'C:\\\\Users\\\\FREEDEMPIRE-XL\\\\AppData\\\\Roaming\\\\Python\\\\Python312\\\\site-packages\\\\jedi\\\\inference\\\\compiled\\\\__init__.py'>, 'jedi.inference.analysis': <module 'jedi.inference.analysis' from 'C:\\\\Users\\\\FREEDEMPIRE-XL\\\\AppData\\\\Roaming\\\\Python\\\\Python312\\\\site-packages\\\\jedi\\\\inference\\\\analysis.py'>, 'jedi.inference.gradual': <module 'jedi.inference.gradual' from 'C:\\\\Users\\\\FREEDEMPIRE-XL\\\\AppData\\\\Roaming\\\\Python\\\\Python312\\\\site-packages\\\\jedi\\\\inference\\\\gradual\\\\__init__.py'>, 'jedi.inference.value.module': <module 'jedi.inference.value.module' from 'C:\\\\Users\\\\FREEDEMPIRE-XL\\\\AppData\\\\Roaming\\\\Python\\\\Python312\\\\site-packages\\\\jedi\\\\inference\\\\value\\\\module.py'>, 'jedi.inference.value.dynamic_arrays': <module 'jedi.inference.value.dynamic_arrays' from 'C:\\\\Users\\\\FREEDEMPIRE-XL\\\\AppData\\\\Roaming\\\\Python\\\\Python312\\\\site-packages\\\\jedi\\\\inference\\\\value\\\\dynamic_arrays.py'>, 'jedi.inference.value.iterable': <module 'jedi.inference.value.iterable' from 'C:\\\\Users\\\\FREEDEMPIRE-XL\\\\AppData\\\\Roaming\\\\Python\\\\Python312\\\\site-packages\\\\jedi\\\\inference\\\\value\\\\iterable.py'>, 'jedi.inference.arguments': <module 'jedi.inference.arguments' from 'C:\\\\Users\\\\FREEDEMPIRE-XL\\\\AppData\\\\Roaming\\\\Python\\\\Python312\\\\site-packages\\\\jedi\\\\inference\\\\arguments.py'>, 'jedi.inference.parser_cache': <module 'jedi.inference.parser_cache' from 'C:\\\\Users\\\\FREEDEMPIRE-XL\\\\AppData\\\\Roaming\\\\Python\\\\Python312\\\\site-packages\\\\jedi\\\\inference\\\\parser_cache.py'>, 'jedi.inference.gradual.generics': <module 'jedi.inference.gradual.generics' from 'C:\\\\Users\\\\FREEDEMPIRE-XL\\\\AppData\\\\Roaming\\\\Python\\\\Python312\\\\site-packages\\\\jedi\\\\inference\\\\gradual\\\\generics.py'>, 'jedi.inference.value.function': <module 'jedi.inference.value.function' from 'C:\\\\Users\\\\FREEDEMPIRE-XL\\\\AppData\\\\Roaming\\\\Python\\\\Python312\\\\site-packages\\\\jedi\\\\inference\\\\value\\\\function.py'>, 'jedi.inference.value.klass': <module 'jedi.inference.value.klass' from 'C:\\\\Users\\\\FREEDEMPIRE-XL\\\\AppData\\\\Roaming\\\\Python\\\\Python312\\\\site-packages\\\\jedi\\\\inference\\\\value\\\\klass.py'>, 'jedi.inference.value.instance': <module 'jedi.inference.value.instance' from 'C:\\\\Users\\\\FREEDEMPIRE-XL\\\\AppData\\\\Roaming\\\\Python\\\\Python312\\\\site-packages\\\\jedi\\\\inference\\\\value\\\\instance.py'>, 'jedi.inference.value': <module 'jedi.inference.value' from 'C:\\\\Users\\\\FREEDEMPIRE-XL\\\\AppData\\\\Roaming\\\\Python\\\\Python312\\\\site-packages\\\\jedi\\\\inference\\\\value\\\\__init__.py'>, 'jedi.inference.gradual.base': <module 'jedi.inference.gradual.base' from 'C:\\\\Users\\\\FREEDEMPIRE-XL\\\\AppData\\\\Roaming\\\\Python\\\\Python312\\\\site-packages\\\\jedi\\\\inference\\\\gradual\\\\base.py'>, 'jedi.inference.gradual.type_var': <module 'jedi.inference.gradual.type_var' from 'C:\\\\Users\\\\FREEDEMPIRE-XL\\\\AppData\\\\Roaming\\\\Python\\\\Python312\\\\site-packages\\\\jedi\\\\inference\\\\gradual\\\\type_var.py'>, 'jedi.inference.gradual.typing': <module 'jedi.inference.gradual.typing' from 'C:\\\\Users\\\\FREEDEMPIRE-XL\\\\AppData\\\\Roaming\\\\Python\\\\Python312\\\\site-packages\\\\jedi\\\\inference\\\\gradual\\\\typing.py'>, 'jedi.inference.gradual.stub_value': <module 'jedi.inference.gradual.stub_value' from 'C:\\\\Users\\\\FREEDEMPIRE-XL\\\\AppData\\\\Roaming\\\\Python\\\\Python312\\\\site-packages\\\\jedi\\\\inference\\\\gradual\\\\stub_value.py'>, 'jedi.inference.gradual.typeshed': <module 'jedi.inference.gradual.typeshed' from 'C:\\\\Users\\\\FREEDEMPIRE-XL\\\\AppData\\\\Roaming\\\\Python\\\\Python312\\\\site-packages\\\\jedi\\\\inference\\\\gradual\\\\typeshed.py'>, 'jedi._compatibility': <module 'jedi._compatibility' from 'C:\\\\Users\\\\FREEDEMPIRE-XL\\\\AppData\\\\Roaming\\\\Python\\\\Python312\\\\site-packages\\\\jedi\\\\_compatibility.py'>, 'jedi.inference.compiled.subprocess.functions': <module 'jedi.inference.compiled.subprocess.functions' from 'C:\\\\Users\\\\FREEDEMPIRE-XL\\\\AppData\\\\Roaming\\\\Python\\\\Python312\\\\site-packages\\\\jedi\\\\inference\\\\compiled\\\\subprocess\\\\functions.py'>, 'jedi.api.exceptions': <module 'jedi.api.exceptions' from 'C:\\\\Users\\\\FREEDEMPIRE-XL\\\\AppData\\\\Roaming\\\\Python\\\\Python312\\\\site-packages\\\\jedi\\\\api\\\\exceptions.py'>, 'jedi.inference.compiled.subprocess': <module 'jedi.inference.compiled.subprocess' from 'C:\\\\Users\\\\FREEDEMPIRE-XL\\\\AppData\\\\Roaming\\\\Python\\\\Python312\\\\site-packages\\\\jedi\\\\inference\\\\compiled\\\\subprocess\\\\__init__.py'>, 'jedi.inference.imports': <module 'jedi.inference.imports' from 'C:\\\\Users\\\\FREEDEMPIRE-XL\\\\AppData\\\\Roaming\\\\Python\\\\Python312\\\\site-packages\\\\jedi\\\\inference\\\\imports.py'>, 'jedi.inference.param': <module 'jedi.inference.param' from 'C:\\\\Users\\\\FREEDEMPIRE-XL\\\\AppData\\\\Roaming\\\\Python\\\\Python312\\\\site-packages\\\\jedi\\\\inference\\\\param.py'>, 'jedi.inference.gradual.annotation': <module 'jedi.inference.gradual.annotation' from 'C:\\\\Users\\\\FREEDEMPIRE-XL\\\\AppData\\\\Roaming\\\\Python\\\\Python312\\\\site-packages\\\\jedi\\\\inference\\\\gradual\\\\annotation.py'>, 'jedi.inference.value.decorator': <module 'jedi.inference.value.decorator' from 'C:\\\\Users\\\\FREEDEMPIRE-XL\\\\AppData\\\\Roaming\\\\Python\\\\Python312\\\\site-packages\\\\jedi\\\\inference\\\\value\\\\decorator.py'>, 'jedi.inference.syntax_tree': <module 'jedi.inference.syntax_tree' from 'C:\\\\Users\\\\FREEDEMPIRE-XL\\\\AppData\\\\Roaming\\\\Python\\\\Python312\\\\site-packages\\\\jedi\\\\inference\\\\syntax_tree.py'>, 'jedi.inference': <module 'jedi.inference' from 'C:\\\\Users\\\\FREEDEMPIRE-XL\\\\AppData\\\\Roaming\\\\Python\\\\Python312\\\\site-packages\\\\jedi\\\\inference\\\\__init__.py'>, 'jedi.inference.gradual.conversion': <module 'jedi.inference.gradual.conversion' from 'C:\\\\Users\\\\FREEDEMPIRE-XL\\\\AppData\\\\Roaming\\\\Python\\\\Python312\\\\site-packages\\\\jedi\\\\inference\\\\gradual\\\\conversion.py'>, 'jedi.inference.compiled.mixed': <module 'jedi.inference.compiled.mixed' from 'C:\\\\Users\\\\FREEDEMPIRE-XL\\\\AppData\\\\Roaming\\\\Python\\\\Python312\\\\site-packages\\\\jedi\\\\inference\\\\compiled\\\\mixed.py'>, 'pydoc_data': <module 'pydoc_data' from 'c:\\\\Users\\\\FREEDEMPIRE-XL\\\\AppData\\\\Local\\\\Programs\\\\Python\\\\Python312\\\\Lib\\\\pydoc_data\\\\__init__.py'>, 'pydoc_data.topics': <module 'pydoc_data.topics' from 'c:\\\\Users\\\\FREEDEMPIRE-XL\\\\AppData\\\\Local\\\\Programs\\\\Python\\\\Python312\\\\Lib\\\\pydoc_data\\\\topics.py'>, 'jedi.api.keywords': <module 'jedi.api.keywords' from 'C:\\\\Users\\\\FREEDEMPIRE-XL\\\\AppData\\\\Roaming\\\\Python\\\\Python312\\\\site-packages\\\\jedi\\\\api\\\\keywords.py'>, 'jedi.api.completion_cache': <module 'jedi.api.completion_cache' from 'C:\\\\Users\\\\FREEDEMPIRE-XL\\\\AppData\\\\Roaming\\\\Python\\\\Python312\\\\site-packages\\\\jedi\\\\api\\\\completion_cache.py'>, 'jedi.api.helpers': <module 'jedi.api.helpers' from 'C:\\\\Users\\\\FREEDEMPIRE-XL\\\\AppData\\\\Roaming\\\\Python\\\\Python312\\\\site-packages\\\\jedi\\\\api\\\\helpers.py'>, 'jedi.api.classes': <module 'jedi.api.classes' from 'C:\\\\Users\\\\FREEDEMPIRE-XL\\\\AppData\\\\Roaming\\\\Python\\\\Python312\\\\site-packages\\\\jedi\\\\api\\\\classes.py'>, 'jedi.api.interpreter': <module 'jedi.api.interpreter' from 'C:\\\\Users\\\\FREEDEMPIRE-XL\\\\AppData\\\\Roaming\\\\Python\\\\Python312\\\\site-packages\\\\jedi\\\\api\\\\interpreter.py'>, 'jedi.api.strings': <module 'jedi.api.strings' from 'C:\\\\Users\\\\FREEDEMPIRE-XL\\\\AppData\\\\Roaming\\\\Python\\\\Python312\\\\site-packages\\\\jedi\\\\api\\\\strings.py'>, 'jedi.api.file_name': <module 'jedi.api.file_name' from 'C:\\\\Users\\\\FREEDEMPIRE-XL\\\\AppData\\\\Roaming\\\\Python\\\\Python312\\\\site-packages\\\\jedi\\\\api\\\\file_name.py'>, 'jedi.inference.docstring_utils': <module 'jedi.inference.docstring_utils' from 'C:\\\\Users\\\\FREEDEMPIRE-XL\\\\AppData\\\\Roaming\\\\Python\\\\Python312\\\\site-packages\\\\jedi\\\\inference\\\\docstring_utils.py'>, 'jedi.api.completion': <module 'jedi.api.completion' from 'C:\\\\Users\\\\FREEDEMPIRE-XL\\\\AppData\\\\Roaming\\\\Python\\\\Python312\\\\site-packages\\\\jedi\\\\api\\\\completion.py'>, 'filecmp': <module 'filecmp' from 'c:\\\\Users\\\\FREEDEMPIRE-XL\\\\AppData\\\\Local\\\\Programs\\\\Python\\\\Python312\\\\Lib\\\\filecmp.py'>, 'jedi.api.environment': <module 'jedi.api.environment' from 'C:\\\\Users\\\\FREEDEMPIRE-XL\\\\AppData\\\\Roaming\\\\Python\\\\Python312\\\\site-packages\\\\jedi\\\\api\\\\environment.py'>, 'jedi.inference.references': <module 'jedi.inference.references' from 'C:\\\\Users\\\\FREEDEMPIRE-XL\\\\AppData\\\\Roaming\\\\Python\\\\Python312\\\\site-packages\\\\jedi\\\\inference\\\\references.py'>, 'jedi.api.project': <module 'jedi.api.project' from 'C:\\\\Users\\\\FREEDEMPIRE-XL\\\\AppData\\\\Roaming\\\\Python\\\\Python312\\\\site-packages\\\\jedi\\\\api\\\\project.py'>, 'jedi.api.errors': <module 'jedi.api.errors' from 'C:\\\\Users\\\\FREEDEMPIRE-XL\\\\AppData\\\\Roaming\\\\Python\\\\Python312\\\\site-packages\\\\jedi\\\\api\\\\errors.py'>, 'jedi.inference.value.namespace': <module 'jedi.inference.value.namespace' from 'C:\\\\Users\\\\FREEDEMPIRE-XL\\\\AppData\\\\Roaming\\\\Python\\\\Python312\\\\site-packages\\\\jedi\\\\inference\\\\value\\\\namespace.py'>, 'jedi.api.refactoring': <module 'jedi.api.refactoring' from 'C:\\\\Users\\\\FREEDEMPIRE-XL\\\\AppData\\\\Roaming\\\\Python\\\\Python312\\\\site-packages\\\\jedi\\\\api\\\\refactoring\\\\__init__.py'>, 'jedi.api.refactoring.extract': <module 'jedi.api.refactoring.extract' from 'C:\\\\Users\\\\FREEDEMPIRE-XL\\\\AppData\\\\Roaming\\\\Python\\\\Python312\\\\site-packages\\\\jedi\\\\api\\\\refactoring\\\\extract.py'>, 'jedi.inference.gradual.utils': <module 'jedi.inference.gradual.utils' from 'C:\\\\Users\\\\FREEDEMPIRE-XL\\\\AppData\\\\Roaming\\\\Python\\\\Python312\\\\site-packages\\\\jedi\\\\inference\\\\gradual\\\\utils.py'>, 'jedi.api': <module 'jedi.api' from 'C:\\\\Users\\\\FREEDEMPIRE-XL\\\\AppData\\\\Roaming\\\\Python\\\\Python312\\\\site-packages\\\\jedi\\\\api\\\\__init__.py'>, 'jedi.plugins.stdlib': <module 'jedi.plugins.stdlib' from 'C:\\\\Users\\\\FREEDEMPIRE-XL\\\\AppData\\\\Roaming\\\\Python\\\\Python312\\\\site-packages\\\\jedi\\\\plugins\\\\stdlib.py'>, 'jedi.plugins.flask': <module 'jedi.plugins.flask' from 'C:\\\\Users\\\\FREEDEMPIRE-XL\\\\AppData\\\\Roaming\\\\Python\\\\Python312\\\\site-packages\\\\jedi\\\\plugins\\\\flask.py'>, 'jedi.plugins.pytest': <module 'jedi.plugins.pytest' from 'C:\\\\Users\\\\FREEDEMPIRE-XL\\\\AppData\\\\Roaming\\\\Python\\\\Python312\\\\site-packages\\\\jedi\\\\plugins\\\\pytest.py'>, 'jedi.plugins.django': <module 'jedi.plugins.django' from 'C:\\\\Users\\\\FREEDEMPIRE-XL\\\\AppData\\\\Roaming\\\\Python\\\\Python312\\\\site-packages\\\\jedi\\\\plugins\\\\django.py'>, 'jedi.plugins.registry': <module 'jedi.plugins.registry' from 'C:\\\\Users\\\\FREEDEMPIRE-XL\\\\AppData\\\\Roaming\\\\Python\\\\Python312\\\\site-packages\\\\jedi\\\\plugins\\\\registry.py'>, 'jedi': <module 'jedi' from 'C:\\\\Users\\\\FREEDEMPIRE-XL\\\\AppData\\\\Roaming\\\\Python\\\\Python312\\\\site-packages\\\\jedi\\\\__init__.py'>, 'IPython.core.completer': <module 'IPython.core.completer' from 'C:\\\\Users\\\\FREEDEMPIRE-XL\\\\AppData\\\\Roaming\\\\Python\\\\Python312\\\\site-packages\\\\IPython\\\\core\\\\completer.py'>, 'IPython.terminal.ptutils': <module 'IPython.terminal.ptutils' from 'C:\\\\Users\\\\FREEDEMPIRE-XL\\\\AppData\\\\Roaming\\\\Python\\\\Python312\\\\site-packages\\\\IPython\\\\terminal\\\\ptutils.py'>, 'IPython.terminal.shortcuts.auto_match': <module 'IPython.terminal.shortcuts.auto_match' from 'C:\\\\Users\\\\FREEDEMPIRE-XL\\\\AppData\\\\Roaming\\\\Python\\\\Python312\\\\site-packages\\\\IPython\\\\terminal\\\\shortcuts\\\\auto_match.py'>, 'IPython.terminal.shortcuts.filters': <module 'IPython.terminal.shortcuts.filters' from 'C:\\\\Users\\\\FREEDEMPIRE-XL\\\\AppData\\\\Roaming\\\\Python\\\\Python312\\\\site-packages\\\\IPython\\\\terminal\\\\shortcuts\\\\filters.py'>, 'IPython.terminal.shortcuts.auto_suggest': <module 'IPython.terminal.shortcuts.auto_suggest' from 'C:\\\\Users\\\\FREEDEMPIRE-XL\\\\AppData\\\\Roaming\\\\Python\\\\Python312\\\\site-packages\\\\IPython\\\\terminal\\\\shortcuts\\\\auto_suggest.py'>, 'IPython.lib.clipboard': <module 'IPython.lib.clipboard' from 'C:\\\\Users\\\\FREEDEMPIRE-XL\\\\AppData\\\\Roaming\\\\Python\\\\Python312\\\\site-packages\\\\IPython\\\\lib\\\\clipboard.py'>, 'IPython.terminal.shortcuts': <module 'IPython.terminal.shortcuts' from 'C:\\\\Users\\\\FREEDEMPIRE-XL\\\\AppData\\\\Roaming\\\\Python\\\\Python312\\\\site-packages\\\\IPython\\\\terminal\\\\shortcuts\\\\__init__.py'>, 'concurrent.futures.thread': <module 'concurrent.futures.thread' from 'c:\\\\Users\\\\FREEDEMPIRE-XL\\\\AppData\\\\Local\\\\Programs\\\\Python\\\\Python312\\\\Lib\\\\concurrent\\\\futures\\\\thread.py'>, 'IPython.terminal.debugger': <module 'IPython.terminal.debugger' from 'C:\\\\Users\\\\FREEDEMPIRE-XL\\\\AppData\\\\Roaming\\\\Python\\\\Python312\\\\site-packages\\\\IPython\\\\terminal\\\\debugger.py'>, 'IPython.terminal.magics': <module 'IPython.terminal.magics' from 'C:\\\\Users\\\\FREEDEMPIRE-XL\\\\AppData\\\\Roaming\\\\Python\\\\Python312\\\\site-packages\\\\IPython\\\\terminal\\\\magics.py'>, 'IPython.terminal.pt_inputhooks': <module 'IPython.terminal.pt_inputhooks' from 'C:\\\\Users\\\\FREEDEMPIRE-XL\\\\AppData\\\\Roaming\\\\Python\\\\Python312\\\\site-packages\\\\IPython\\\\terminal\\\\pt_inputhooks\\\\__init__.py'>, 'IPython.terminal.prompts': <module 'IPython.terminal.prompts' from 'C:\\\\Users\\\\FREEDEMPIRE-XL\\\\AppData\\\\Roaming\\\\Python\\\\Python312\\\\site-packages\\\\IPython\\\\terminal\\\\prompts.py'>, 'IPython.terminal.interactiveshell': <module 'IPython.terminal.interactiveshell' from 'C:\\\\Users\\\\FREEDEMPIRE-XL\\\\AppData\\\\Roaming\\\\Python\\\\Python312\\\\site-packages\\\\IPython\\\\terminal\\\\interactiveshell.py'>, 'IPython.core.magics.auto': <module 'IPython.core.magics.auto' from 'C:\\\\Users\\\\FREEDEMPIRE-XL\\\\AppData\\\\Roaming\\\\Python\\\\Python312\\\\site-packages\\\\IPython\\\\core\\\\magics\\\\auto.py'>, 'IPython.core.magics.basic': <module 'IPython.core.magics.basic' from 'C:\\\\Users\\\\FREEDEMPIRE-XL\\\\AppData\\\\Roaming\\\\Python\\\\Python312\\\\site-packages\\\\IPython\\\\core\\\\magics\\\\basic.py'>, 'http': <module 'http' from 'c:\\\\Users\\\\FREEDEMPIRE-XL\\\\AppData\\\\Local\\\\Programs\\\\Python\\\\Python312\\\\Lib\\\\http\\\\__init__.py'>, 'email.feedparser': <module 'email.feedparser' from 'c:\\\\Users\\\\FREEDEMPIRE-XL\\\\AppData\\\\Local\\\\Programs\\\\Python\\\\Python312\\\\Lib\\\\email\\\\feedparser.py'>, 'email.parser': <module 'email.parser' from 'c:\\\\Users\\\\FREEDEMPIRE-XL\\\\AppData\\\\Local\\\\Programs\\\\Python\\\\Python312\\\\Lib\\\\email\\\\parser.py'>, 'http.client': <module 'http.client' from 'c:\\\\Users\\\\FREEDEMPIRE-XL\\\\AppData\\\\Local\\\\Programs\\\\Python\\\\Python312\\\\Lib\\\\http\\\\client.py'>, 'urllib.response': <module 'urllib.response' from 'c:\\\\Users\\\\FREEDEMPIRE-XL\\\\AppData\\\\Local\\\\Programs\\\\Python\\\\Python312\\\\Lib\\\\urllib\\\\response.py'>, 'urllib.error': <module 'urllib.error' from 'c:\\\\Users\\\\FREEDEMPIRE-XL\\\\AppData\\\\Local\\\\Programs\\\\Python\\\\Python312\\\\Lib\\\\urllib\\\\error.py'>, 'nturl2path': <module 'nturl2path' from 'c:\\\\Users\\\\FREEDEMPIRE-XL\\\\AppData\\\\Local\\\\Programs\\\\Python\\\\Python312\\\\Lib\\\\nturl2path.py'>, 'urllib.request': <module 'urllib.request' from 'c:\\\\Users\\\\FREEDEMPIRE-XL\\\\AppData\\\\Local\\\\Programs\\\\Python\\\\Python312\\\\Lib\\\\urllib\\\\request.py'>, 'IPython.utils.contexts': <module 'IPython.utils.contexts' from 'C:\\\\Users\\\\FREEDEMPIRE-XL\\\\AppData\\\\Roaming\\\\Python\\\\Python312\\\\site-packages\\\\IPython\\\\utils\\\\contexts.py'>, 'IPython.core.magics.code': <module 'IPython.core.magics.code' from 'C:\\\\Users\\\\FREEDEMPIRE-XL\\\\AppData\\\\Roaming\\\\Python\\\\Python312\\\\site-packages\\\\IPython\\\\core\\\\magics\\\\code.py'>, 'IPython.core.magics.config': <module 'IPython.core.magics.config' from 'C:\\\\Users\\\\FREEDEMPIRE-XL\\\\AppData\\\\Roaming\\\\Python\\\\Python312\\\\site-packages\\\\IPython\\\\core\\\\magics\\\\config.py'>, 'IPython.core.magics.display': <module 'IPython.core.magics.display' from 'C:\\\\Users\\\\FREEDEMPIRE-XL\\\\AppData\\\\Roaming\\\\Python\\\\Python312\\\\site-packages\\\\IPython\\\\core\\\\magics\\\\display.py'>, '_lsprof': <module '_lsprof' (built-in)>, 'profile': <module 'profile' from 'c:\\\\Users\\\\FREEDEMPIRE-XL\\\\AppData\\\\Local\\\\Programs\\\\Python\\\\Python312\\\\Lib\\\\profile.py'>, 'cProfile': <module 'cProfile' from 'c:\\\\Users\\\\FREEDEMPIRE-XL\\\\AppData\\\\Local\\\\Programs\\\\Python\\\\Python312\\\\Lib\\\\cProfile.py'>, 'pstats': <module 'pstats' from 'c:\\\\Users\\\\FREEDEMPIRE-XL\\\\AppData\\\\Local\\\\Programs\\\\Python\\\\Python312\\\\Lib\\\\pstats.py'>, 'timeit': <module 'timeit' from 'c:\\\\Users\\\\FREEDEMPIRE-XL\\\\AppData\\\\Local\\\\Programs\\\\Python\\\\Python312\\\\Lib\\\\timeit.py'>, 'IPython.utils.module_paths': <module 'IPython.utils.module_paths' from 'C:\\\\Users\\\\FREEDEMPIRE-XL\\\\AppData\\\\Roaming\\\\Python\\\\Python312\\\\site-packages\\\\IPython\\\\utils\\\\module_paths.py'>, 'IPython.utils.timing': <module 'IPython.utils.timing' from 'C:\\\\Users\\\\FREEDEMPIRE-XL\\\\AppData\\\\Roaming\\\\Python\\\\Python312\\\\site-packages\\\\IPython\\\\utils\\\\timing.py'>, 'IPython.core.magics.ast_mod': <module 'IPython.core.magics.ast_mod' from 'C:\\\\Users\\\\FREEDEMPIRE-XL\\\\AppData\\\\Roaming\\\\Python\\\\Python312\\\\site-packages\\\\IPython\\\\core\\\\magics\\\\ast_mod.py'>, 'IPython.core.magics.execution': <module 'IPython.core.magics.execution' from 'C:\\\\Users\\\\FREEDEMPIRE-XL\\\\AppData\\\\Roaming\\\\Python\\\\Python312\\\\site-packages\\\\IPython\\\\core\\\\magics\\\\execution.py'>, 'IPython.core.magics.extension': <module 'IPython.core.magics.extension' from 'C:\\\\Users\\\\FREEDEMPIRE-XL\\\\AppData\\\\Roaming\\\\Python\\\\Python312\\\\site-packages\\\\IPython\\\\core\\\\magics\\\\extension.py'>, 'IPython.core.magics.history': <module 'IPython.core.magics.history' from 'C:\\\\Users\\\\FREEDEMPIRE-XL\\\\AppData\\\\Roaming\\\\Python\\\\Python312\\\\site-packages\\\\IPython\\\\core\\\\magics\\\\history.py'>, 'IPython.core.magics.logging': <module 'IPython.core.magics.logging' from 'C:\\\\Users\\\\FREEDEMPIRE-XL\\\\AppData\\\\Roaming\\\\Python\\\\Python312\\\\site-packages\\\\IPython\\\\core\\\\magics\\\\logging.py'>, 'IPython.core.magics.namespace': <module 'IPython.core.magics.namespace' from 'C:\\\\Users\\\\FREEDEMPIRE-XL\\\\AppData\\\\Roaming\\\\Python\\\\Python312\\\\site-packages\\\\IPython\\\\core\\\\magics\\\\namespace.py'>, 'IPython.core.magics.osm': <module 'IPython.core.magics.osm' from 'C:\\\\Users\\\\FREEDEMPIRE-XL\\\\AppData\\\\Roaming\\\\Python\\\\Python312\\\\site-packages\\\\IPython\\\\core\\\\magics\\\\osm.py'>, 'IPython.core.magics.packaging': <module 'IPython.core.magics.packaging' from 'C:\\\\Users\\\\FREEDEMPIRE-XL\\\\AppData\\\\Roaming\\\\Python\\\\Python312\\\\site-packages\\\\IPython\\\\core\\\\magics\\\\packaging.py'>, 'IPython.core.pylabtools': <module 'IPython.core.pylabtools' from 'C:\\\\Users\\\\FREEDEMPIRE-XL\\\\AppData\\\\Roaming\\\\Python\\\\Python312\\\\site-packages\\\\IPython\\\\core\\\\pylabtools.py'>, 'IPython.core.magics.pylab': <module 'IPython.core.magics.pylab' from 'C:\\\\Users\\\\FREEDEMPIRE-XL\\\\AppData\\\\Roaming\\\\Python\\\\Python312\\\\site-packages\\\\IPython\\\\core\\\\magics\\\\pylab.py'>, 'IPython.core.magics.script': <module 'IPython.core.magics.script' from 'C:\\\\Users\\\\FREEDEMPIRE-XL\\\\AppData\\\\Roaming\\\\Python\\\\Python312\\\\site-packages\\\\IPython\\\\core\\\\magics\\\\script.py'>, 'IPython.core.magics': <module 'IPython.core.magics' from 'C:\\\\Users\\\\FREEDEMPIRE-XL\\\\AppData\\\\Roaming\\\\Python\\\\Python312\\\\site-packages\\\\IPython\\\\core\\\\magics\\\\__init__.py'>, 'IPython.core.shellapp': <module 'IPython.core.shellapp' from 'C:\\\\Users\\\\FREEDEMPIRE-XL\\\\AppData\\\\Roaming\\\\Python\\\\Python312\\\\site-packages\\\\IPython\\\\core\\\\shellapp.py'>, 'IPython.extensions': <module 'IPython.extensions' from 'C:\\\\Users\\\\FREEDEMPIRE-XL\\\\AppData\\\\Roaming\\\\Python\\\\Python312\\\\site-packages\\\\IPython\\\\extensions\\\\__init__.py'>, 'IPython.extensions.storemagic': <module 'IPython.extensions.storemagic' from 'C:\\\\Users\\\\FREEDEMPIRE-XL\\\\AppData\\\\Roaming\\\\Python\\\\Python312\\\\site-packages\\\\IPython\\\\extensions\\\\storemagic.py'>, 'IPython.terminal.ipapp': <module 'IPython.terminal.ipapp' from 'C:\\\\Users\\\\FREEDEMPIRE-XL\\\\AppData\\\\Roaming\\\\Python\\\\Python312\\\\site-packages\\\\IPython\\\\terminal\\\\ipapp.py'>, 'IPython.terminal.embed': <module 'IPython.terminal.embed' from 'C:\\\\Users\\\\FREEDEMPIRE-XL\\\\AppData\\\\Roaming\\\\Python\\\\Python312\\\\site-packages\\\\IPython\\\\terminal\\\\embed.py'>, 'IPython.utils.frame': <module 'IPython.utils.frame' from 'C:\\\\Users\\\\FREEDEMPIRE-XL\\\\AppData\\\\Roaming\\\\Python\\\\Python312\\\\site-packages\\\\IPython\\\\utils\\\\frame.py'>, 'IPython': <module 'IPython' from 'C:\\\\Users\\\\FREEDEMPIRE-XL\\\\AppData\\\\Roaming\\\\Python\\\\Python312\\\\site-packages\\\\IPython\\\\__init__.py'>, 'ipykernel.control': <module 'ipykernel.control' from 'C:\\\\Users\\\\FREEDEMPIRE-XL\\\\AppData\\\\Roaming\\\\Python\\\\Python312\\\\site-packages\\\\ipykernel\\\\control.py'>, 'ipykernel.heartbeat': <module 'ipykernel.heartbeat' from 'C:\\\\Users\\\\FREEDEMPIRE-XL\\\\AppData\\\\Roaming\\\\Python\\\\Python312\\\\site-packages\\\\ipykernel\\\\heartbeat.py'>, 'ipykernel.iostream': <module 'ipykernel.iostream' from 'C:\\\\Users\\\\FREEDEMPIRE-XL\\\\AppData\\\\Roaming\\\\Python\\\\Python312\\\\site-packages\\\\ipykernel\\\\iostream.py'>, 'comm.base_comm': <module 'comm.base_comm' from 'C:\\\\Users\\\\FREEDEMPIRE-XL\\\\AppData\\\\Roaming\\\\Python\\\\Python312\\\\site-packages\\\\comm\\\\base_comm.py'>, 'comm': <module 'comm' from 'C:\\\\Users\\\\FREEDEMPIRE-XL\\\\AppData\\\\Roaming\\\\Python\\\\Python312\\\\site-packages\\\\comm\\\\__init__.py'>, 'ipykernel.jsonutil': <module 'ipykernel.jsonutil' from 'C:\\\\Users\\\\FREEDEMPIRE-XL\\\\AppData\\\\Roaming\\\\Python\\\\Python312\\\\site-packages\\\\ipykernel\\\\jsonutil.py'>, 'psutil._common': <module 'psutil._common' from 'C:\\\\Users\\\\FREEDEMPIRE-XL\\\\AppData\\\\Roaming\\\\Python\\\\Python312\\\\site-packages\\\\psutil\\\\_common.py'>, 'psutil._compat': <module 'psutil._compat' from 'C:\\\\Users\\\\FREEDEMPIRE-XL\\\\AppData\\\\Roaming\\\\Python\\\\Python312\\\\site-packages\\\\psutil\\\\_compat.py'>, 'psutil._psutil_windows': <module 'psutil._psutil_windows' from 'C:\\\\Users\\\\FREEDEMPIRE-XL\\\\AppData\\\\Roaming\\\\Python\\\\Python312\\\\site-packages\\\\psutil\\\\_psutil_windows.pyd'>, 'psutil._pswindows': <module 'psutil._pswindows' from 'C:\\\\Users\\\\FREEDEMPIRE-XL\\\\AppData\\\\Roaming\\\\Python\\\\Python312\\\\site-packages\\\\psutil\\\\_pswindows.py'>, 'psutil': <module 'psutil' from 'C:\\\\Users\\\\FREEDEMPIRE-XL\\\\AppData\\\\Roaming\\\\Python\\\\Python312\\\\site-packages\\\\psutil\\\\__init__.py'>, 'tornado.gen': <module 'tornado.gen' from 'C:\\\\Users\\\\FREEDEMPIRE-XL\\\\AppData\\\\Roaming\\\\Python\\\\Python312\\\\site-packages\\\\tornado\\\\gen.py'>, 'tornado.locks': <module 'tornado.locks' from 'C:\\\\Users\\\\FREEDEMPIRE-XL\\\\AppData\\\\Roaming\\\\Python\\\\Python312\\\\site-packages\\\\tornado\\\\locks.py'>, 'tornado.queues': <module 'tornado.queues' from 'C:\\\\Users\\\\FREEDEMPIRE-XL\\\\AppData\\\\Roaming\\\\Python\\\\Python312\\\\site-packages\\\\tornado\\\\queues.py'>, 'ipykernel.kernelbase': <module 'ipykernel.kernelbase' from 'C:\\\\Users\\\\FREEDEMPIRE-XL\\\\AppData\\\\Roaming\\\\Python\\\\Python312\\\\site-packages\\\\ipykernel\\\\kernelbase.py'>, 'ipykernel.comm.comm': <module 'ipykernel.comm.comm' from 'C:\\\\Users\\\\FREEDEMPIRE-XL\\\\AppData\\\\Roaming\\\\Python\\\\Python312\\\\site-packages\\\\ipykernel\\\\comm\\\\comm.py'>, 'ipykernel.comm.manager': <module 'ipykernel.comm.manager' from 'C:\\\\Users\\\\FREEDEMPIRE-XL\\\\AppData\\\\Roaming\\\\Python\\\\Python312\\\\site-packages\\\\ipykernel\\\\comm\\\\manager.py'>, 'ipykernel.comm': <module 'ipykernel.comm' from 'C:\\\\Users\\\\FREEDEMPIRE-XL\\\\AppData\\\\Roaming\\\\Python\\\\Python312\\\\site-packages\\\\ipykernel\\\\comm\\\\__init__.py'>, 'ipykernel.compiler': <module 'ipykernel.compiler' from 'C:\\\\Users\\\\FREEDEMPIRE-XL\\\\AppData\\\\Roaming\\\\Python\\\\Python312\\\\site-packages\\\\ipykernel\\\\compiler.py'>, 'debugpy._version': <module 'debugpy._version' from 'C:\\\\Users\\\\FREEDEMPIRE-XL\\\\AppData\\\\Roaming\\\\Python\\\\Python312\\\\site-packages\\\\debugpy\\\\_version.py'>, 'debugpy.public_api': <module 'debugpy.public_api' from 'C:\\\\Users\\\\FREEDEMPIRE-XL\\\\AppData\\\\Roaming\\\\Python\\\\Python312\\\\site-packages\\\\debugpy\\\\public_api.py'>, 'debugpy': <module 'debugpy' from 'C:\\\\Users\\\\FREEDEMPIRE-XL\\\\AppData\\\\Roaming\\\\Python\\\\Python312\\\\site-packages\\\\debugpy\\\\__init__.py'>, 'debugpy._vendored._util': <module 'debugpy._vendored._util' from 'C:\\\\Users\\\\FREEDEMPIRE-XL\\\\AppData\\\\Roaming\\\\Python\\\\Python312\\\\site-packages\\\\debugpy\\\\_vendored\\\\_util.py'>, 'debugpy._vendored': <module 'debugpy._vendored' from 'C:\\\\Users\\\\FREEDEMPIRE-XL\\\\AppData\\\\Roaming\\\\Python\\\\Python312\\\\site-packages\\\\debugpy\\\\_vendored\\\\__init__.py'>, '_pydevd_bundle': <module '_pydevd_bundle' from 'C:\\\\Users\\\\FREEDEMPIRE-XL\\\\AppData\\\\Roaming\\\\Python\\\\Python312\\\\site-packages\\\\debugpy\\\\_vendored\\\\pydevd\\\\_pydevd_bundle\\\\__init__.py'>, 'encodings.ascii': <module 'encodings.ascii' from 'c:\\\\Users\\\\FREEDEMPIRE-XL\\\\AppData\\\\Local\\\\Programs\\\\Python\\\\Python312\\\\Lib\\\\encodings\\\\ascii.py'>, 'encodings.latin_1': <module 'encodings.latin_1' from 'c:\\\\Users\\\\FREEDEMPIRE-XL\\\\AppData\\\\Local\\\\Programs\\\\Python\\\\Python312\\\\Lib\\\\encodings\\\\latin_1.py'>, 'stringprep': <module 'stringprep' from 'c:\\\\Users\\\\FREEDEMPIRE-XL\\\\AppData\\\\Local\\\\Programs\\\\Python\\\\Python312\\\\Lib\\\\stringprep.py'>, 'encodings.idna': <module 'encodings.idna' from 'c:\\\\Users\\\\FREEDEMPIRE-XL\\\\AppData\\\\Local\\\\Programs\\\\Python\\\\Python312\\\\Lib\\\\encodings\\\\idna.py'>, '_pydevd_bundle.pydevd_vm_type': <module '_pydevd_bundle.pydevd_vm_type' from 'C:\\\\Users\\\\FREEDEMPIRE-XL\\\\AppData\\\\Roaming\\\\Python\\\\Python312\\\\site-packages\\\\debugpy\\\\_vendored\\\\pydevd\\\\_pydevd_bundle\\\\pydevd_vm_type.py'>, '_pydev_bundle': <module '_pydev_bundle' from 'C:\\\\Users\\\\FREEDEMPIRE-XL\\\\AppData\\\\Roaming\\\\Python\\\\Python312\\\\site-packages\\\\debugpy\\\\_vendored\\\\pydevd\\\\_pydev_bundle\\\\__init__.py'>, 'xmlrpc': <module 'xmlrpc' from 'c:\\\\Users\\\\FREEDEMPIRE-XL\\\\AppData\\\\Local\\\\Programs\\\\Python\\\\Python312\\\\Lib\\\\xmlrpc\\\\__init__.py'>, 'xml.parsers': <module 'xml.parsers' from 'c:\\\\Users\\\\FREEDEMPIRE-XL\\\\AppData\\\\Local\\\\Programs\\\\Python\\\\Python312\\\\Lib\\\\xml\\\\parsers\\\\__init__.py'>, 'pyexpat.errors': <module 'pyexpat.errors'>, 'pyexpat.model': <module 'pyexpat.model'>, 'pyexpat': <module 'pyexpat' from 'c:\\\\Users\\\\FREEDEMPIRE-XL\\\\AppData\\\\Local\\\\Programs\\\\Python\\\\Python312\\\\DLLs\\\\pyexpat.pyd'>, 'xml.parsers.expat.model': <module 'pyexpat.model'>, 'xml.parsers.expat.errors': <module 'pyexpat.errors'>, 'xml.parsers.expat': <module 'xml.parsers.expat' from 'c:\\\\Users\\\\FREEDEMPIRE-XL\\\\AppData\\\\Local\\\\Programs\\\\Python\\\\Python312\\\\Lib\\\\xml\\\\parsers\\\\expat.py'>, 'gzip': <module 'gzip' from 'c:\\\\Users\\\\FREEDEMPIRE-XL\\\\AppData\\\\Local\\\\Programs\\\\Python\\\\Python312\\\\Lib\\\\gzip.py'>, 'xmlrpc.client': <module 'xmlrpc.client' from 'c:\\\\Users\\\\FREEDEMPIRE-XL\\\\AppData\\\\Local\\\\Programs\\\\Python\\\\Python312\\\\Lib\\\\xmlrpc\\\\client.py'>, 'http.server': <module 'http.server' from 'c:\\\\Users\\\\FREEDEMPIRE-XL\\\\AppData\\\\Local\\\\Programs\\\\Python\\\\Python312\\\\Lib\\\\http\\\\server.py'>, 'xmlrpc.server': <module 'xmlrpc.server' from 'c:\\\\Users\\\\FREEDEMPIRE-XL\\\\AppData\\\\Local\\\\Programs\\\\Python\\\\Python312\\\\Lib\\\\xmlrpc\\\\server.py'>, '_pydev_bundle._pydev_saved_modules': <module '_pydev_bundle._pydev_saved_modules' from 'C:\\\\Users\\\\FREEDEMPIRE-XL\\\\AppData\\\\Roaming\\\\Python\\\\Python312\\\\site-packages\\\\debugpy\\\\_vendored\\\\pydevd\\\\_pydev_bundle\\\\_pydev_saved_modules.py'>, '_pydevd_bundle.pydevd_constants': <module '_pydevd_bundle.pydevd_constants' from 'C:\\\\Users\\\\FREEDEMPIRE-XL\\\\AppData\\\\Roaming\\\\Python\\\\Python312\\\\site-packages\\\\debugpy\\\\_vendored\\\\pydevd\\\\_pydevd_bundle\\\\pydevd_constants.py'>, '_pydev_runfiles': <module '_pydev_runfiles' from 'C:\\\\Users\\\\FREEDEMPIRE-XL\\\\AppData\\\\Roaming\\\\Python\\\\Python312\\\\site-packages\\\\debugpy\\\\_vendored\\\\pydevd\\\\_pydev_runfiles\\\\__init__.py'>, '_pydevd_frame_eval': <module '_pydevd_frame_eval' from 'C:\\\\Users\\\\FREEDEMPIRE-XL\\\\AppData\\\\Roaming\\\\Python\\\\Python312\\\\site-packages\\\\debugpy\\\\_vendored\\\\pydevd\\\\_pydevd_frame_eval\\\\__init__.py'>, 'pydev_ipython': <module 'pydev_ipython' from 'C:\\\\Users\\\\FREEDEMPIRE-XL\\\\AppData\\\\Roaming\\\\Python\\\\Python312\\\\site-packages\\\\debugpy\\\\_vendored\\\\pydevd\\\\pydev_ipython\\\\__init__.py'>, 'pydevd_plugins': <module 'pydevd_plugins' (namespace) from ['C:\\\\Users\\\\FREEDEMPIRE-XL\\\\AppData\\\\Roaming\\\\Python\\\\Python312\\\\site-packages\\\\debugpy\\\\_vendored\\\\pydevd\\\\pydevd_plugins']>, '_pydev_bundle.pydev_log': <module '_pydev_bundle.pydev_log' from 'C:\\\\Users\\\\FREEDEMPIRE-XL\\\\AppData\\\\Roaming\\\\Python\\\\Python312\\\\site-packages\\\\debugpy\\\\_vendored\\\\pydevd\\\\_pydev_bundle\\\\pydev_log.py'>, '_pydev_bundle._pydev_filesystem_encoding': <module '_pydev_bundle._pydev_filesystem_encoding' from 'C:\\\\Users\\\\FREEDEMPIRE-XL\\\\AppData\\\\Roaming\\\\Python\\\\Python312\\\\site-packages\\\\debugpy\\\\_vendored\\\\pydevd\\\\_pydev_bundle\\\\_pydev_filesystem_encoding.py'>, '_pydevd_bundle.pydevd_comm_constants': <module '_pydevd_bundle.pydevd_comm_constants' from 'C:\\\\Users\\\\FREEDEMPIRE-XL\\\\AppData\\\\Roaming\\\\Python\\\\Python312\\\\site-packages\\\\debugpy\\\\_vendored\\\\pydevd\\\\_pydevd_bundle\\\\pydevd_comm_constants.py'>, 'pydevd_file_utils': <module 'pydevd_file_utils' from 'C:\\\\Users\\\\FREEDEMPIRE-XL\\\\AppData\\\\Roaming\\\\Python\\\\Python312\\\\site-packages\\\\debugpy\\\\_vendored\\\\pydevd\\\\pydevd_file_utils.py'>, '_pydev_bundle._pydev_execfile': <module '_pydev_bundle._pydev_execfile' from 'C:\\\\Users\\\\FREEDEMPIRE-XL\\\\AppData\\\\Roaming\\\\Python\\\\Python312\\\\site-packages\\\\debugpy\\\\_vendored\\\\pydevd\\\\_pydev_bundle\\\\_pydev_execfile.py'>, '_pydevd_bundle.pydevd_exec2': <module '_pydevd_bundle.pydevd_exec2' from 'C:\\\\Users\\\\FREEDEMPIRE-XL\\\\AppData\\\\Roaming\\\\Python\\\\Python312\\\\site-packages\\\\debugpy\\\\_vendored\\\\pydevd\\\\_pydevd_bundle\\\\pydevd_exec2.py'>, '_pydev_bundle.pydev_imports': <module '_pydev_bundle.pydev_imports' from 'C:\\\\Users\\\\FREEDEMPIRE-XL\\\\AppData\\\\Roaming\\\\Python\\\\Python312\\\\site-packages\\\\debugpy\\\\_vendored\\\\pydevd\\\\_pydev_bundle\\\\pydev_imports.py'>, '_pydev_bundle.pydev_is_thread_alive': <module '_pydev_bundle.pydev_is_thread_alive' from 'C:\\\\Users\\\\FREEDEMPIRE-XL\\\\AppData\\\\Roaming\\\\Python\\\\Python312\\\\site-packages\\\\debugpy\\\\_vendored\\\\pydevd\\\\_pydev_bundle\\\\pydev_is_thread_alive.py'>, '_pydev_bundle.pydev_override': <module '_pydev_bundle.pydev_override' from 'C:\\\\Users\\\\FREEDEMPIRE-XL\\\\AppData\\\\Roaming\\\\Python\\\\Python312\\\\site-packages\\\\debugpy\\\\_vendored\\\\pydevd\\\\_pydev_bundle\\\\pydev_override.py'>, 'pydevd_plugins.extensions': <module 'pydevd_plugins.extensions' (namespace) from ['C:\\\\Users\\\\FREEDEMPIRE-XL\\\\AppData\\\\Roaming\\\\Python\\\\Python312\\\\site-packages\\\\debugpy\\\\_vendored\\\\pydevd\\\\pydevd_plugins\\\\extensions']>, '_pydevd_bundle.pydevd_extension_utils': <module '_pydevd_bundle.pydevd_extension_utils' from 'C:\\\\Users\\\\FREEDEMPIRE-XL\\\\AppData\\\\Roaming\\\\Python\\\\Python312\\\\site-packages\\\\debugpy\\\\_vendored\\\\pydevd\\\\_pydevd_bundle\\\\pydevd_extension_utils.py'>, '_pydevd_bundle.pydevd_frame_utils': <module '_pydevd_bundle.pydevd_frame_utils' from 'C:\\\\Users\\\\FREEDEMPIRE-XL\\\\AppData\\\\Roaming\\\\Python\\\\Python312\\\\site-packages\\\\debugpy\\\\_vendored\\\\pydevd\\\\_pydevd_bundle\\\\pydevd_frame_utils.py'>, '_pydevd_bundle.pydevd_filtering': <module '_pydevd_bundle.pydevd_filtering' from 'C:\\\\Users\\\\FREEDEMPIRE-XL\\\\AppData\\\\Roaming\\\\Python\\\\Python312\\\\site-packages\\\\debugpy\\\\_vendored\\\\pydevd\\\\_pydevd_bundle\\\\pydevd_filtering.py'>, '_pydevd_bundle.pydevd_io': <module '_pydevd_bundle.pydevd_io' from 'C:\\\\Users\\\\FREEDEMPIRE-XL\\\\AppData\\\\Roaming\\\\Python\\\\Python312\\\\site-packages\\\\debugpy\\\\_vendored\\\\pydevd\\\\_pydevd_bundle\\\\pydevd_io.py'>, '_pydevd_bundle.pydevd_defaults': <module '_pydevd_bundle.pydevd_defaults' from 'C:\\\\Users\\\\FREEDEMPIRE-XL\\\\AppData\\\\Roaming\\\\Python\\\\Python312\\\\site-packages\\\\debugpy\\\\_vendored\\\\pydevd\\\\_pydevd_bundle\\\\pydevd_defaults.py'>, '_pydevd_bundle.pydevd_utils': <module '_pydevd_bundle.pydevd_utils' from 'C:\\\\Users\\\\FREEDEMPIRE-XL\\\\AppData\\\\Roaming\\\\Python\\\\Python312\\\\site-packages\\\\debugpy\\\\_vendored\\\\pydevd\\\\_pydevd_bundle\\\\pydevd_utils.py'>, '_pydevd_bundle.pydevd_runpy': <module '_pydevd_bundle.pydevd_runpy' from 'C:\\\\Users\\\\FREEDEMPIRE-XL\\\\AppData\\\\Roaming\\\\Python\\\\Python312\\\\site-packages\\\\debugpy\\\\_vendored\\\\pydevd\\\\_pydevd_bundle\\\\pydevd_runpy.py'>, '_pydev_bundle._pydev_tipper_common': <module '_pydev_bundle._pydev_tipper_common' from 'C:\\\\Users\\\\FREEDEMPIRE-XL\\\\AppData\\\\Roaming\\\\Python\\\\Python312\\\\site-packages\\\\debugpy\\\\_vendored\\\\pydevd\\\\_pydev_bundle\\\\_pydev_tipper_common.py'>, '_pydev_bundle._pydev_imports_tipper': <module '_pydev_bundle._pydev_imports_tipper' from 'C:\\\\Users\\\\FREEDEMPIRE-XL\\\\AppData\\\\Roaming\\\\Python\\\\Python312\\\\site-packages\\\\debugpy\\\\_vendored\\\\pydevd\\\\_pydev_bundle\\\\_pydev_imports_tipper.py'>, '_pydev_bundle._pydev_calltip_util': <module '_pydev_bundle._pydev_calltip_util' from 'C:\\\\Users\\\\FREEDEMPIRE-XL\\\\AppData\\\\Roaming\\\\Python\\\\Python312\\\\site-packages\\\\debugpy\\\\_vendored\\\\pydevd\\\\_pydev_bundle\\\\_pydev_calltip_util.py'>, '_pydevd_bundle.pydevd_safe_repr': <module '_pydevd_bundle.pydevd_safe_repr' from 'C:\\\\Users\\\\FREEDEMPIRE-XL\\\\AppData\\\\Roaming\\\\Python\\\\Python312\\\\site-packages\\\\debugpy\\\\_vendored\\\\pydevd\\\\_pydevd_bundle\\\\pydevd_safe_repr.py'>, '_pydevd_bundle.pydevd_resolver': <module '_pydevd_bundle.pydevd_resolver' from 'C:\\\\Users\\\\FREEDEMPIRE-XL\\\\AppData\\\\Roaming\\\\Python\\\\Python312\\\\site-packages\\\\debugpy\\\\_vendored\\\\pydevd\\\\_pydevd_bundle\\\\pydevd_resolver.py'>, '_pydevd_bundle.pydevd_extension_api': <module '_pydevd_bundle.pydevd_extension_api' from 'C:\\\\Users\\\\FREEDEMPIRE-XL\\\\AppData\\\\Roaming\\\\Python\\\\Python312\\\\site-packages\\\\debugpy\\\\_vendored\\\\pydevd\\\\_pydevd_bundle\\\\pydevd_extension_api.py'>, '_pydevd_bundle.pydevd_xml': <module '_pydevd_bundle.pydevd_xml' from 'C:\\\\Users\\\\FREEDEMPIRE-XL\\\\AppData\\\\Roaming\\\\Python\\\\Python312\\\\site-packages\\\\debugpy\\\\_vendored\\\\pydevd\\\\_pydevd_bundle\\\\pydevd_xml.py'>, '_pydevd_bundle.pydevd_dont_trace': <module '_pydevd_bundle.pydevd_dont_trace' from 'C:\\\\Users\\\\FREEDEMPIRE-XL\\\\AppData\\\\Roaming\\\\Python\\\\Python312\\\\site-packages\\\\debugpy\\\\_vendored\\\\pydevd\\\\_pydevd_bundle\\\\pydevd_dont_trace.py'>, '_pydevd_frame_eval.vendored': <module '_pydevd_frame_eval.vendored' from 'C:\\\\Users\\\\FREEDEMPIRE-XL\\\\AppData\\\\Roaming\\\\Python\\\\Python312\\\\site-packages\\\\debugpy\\\\_vendored\\\\pydevd\\\\_pydevd_frame_eval\\\\vendored\\\\__init__.py'>, '_pydevd_frame_eval.vendored.bytecode.flags': <module '_pydevd_frame_eval.vendored.bytecode.flags' from 'C:\\\\Users\\\\FREEDEMPIRE-XL\\\\AppData\\\\Roaming\\\\Python\\\\Python312\\\\site-packages\\\\debugpy\\\\_vendored\\\\pydevd\\\\_pydevd_frame_eval\\\\vendored\\\\bytecode\\\\flags.py'>, '_pydevd_frame_eval.vendored.bytecode.instr': <module '_pydevd_frame_eval.vendored.bytecode.instr' from 'C:\\\\Users\\\\FREEDEMPIRE-XL\\\\AppData\\\\Roaming\\\\Python\\\\Python312\\\\site-packages\\\\debugpy\\\\_vendored\\\\pydevd\\\\_pydevd_frame_eval\\\\vendored\\\\bytecode\\\\instr.py'>, '_pydevd_frame_eval.vendored.bytecode.bytecode': <module '_pydevd_frame_eval.vendored.bytecode.bytecode' from 'C:\\\\Users\\\\FREEDEMPIRE-XL\\\\AppData\\\\Roaming\\\\Python\\\\Python312\\\\site-packages\\\\debugpy\\\\_vendored\\\\pydevd\\\\_pydevd_frame_eval\\\\vendored\\\\bytecode\\\\bytecode.py'>, '_pydevd_frame_eval.vendored.bytecode.concrete': <module '_pydevd_frame_eval.vendored.bytecode.concrete' from 'C:\\\\Users\\\\FREEDEMPIRE-XL\\\\AppData\\\\Roaming\\\\Python\\\\Python312\\\\site-packages\\\\debugpy\\\\_vendored\\\\pydevd\\\\_pydevd_frame_eval\\\\vendored\\\\bytecode\\\\concrete.py'>, '_pydevd_frame_eval.vendored.bytecode.cfg': <module '_pydevd_frame_eval.vendored.bytecode.cfg' from 'C:\\\\Users\\\\FREEDEMPIRE-XL\\\\AppData\\\\Roaming\\\\Python\\\\Python312\\\\site-packages\\\\debugpy\\\\_vendored\\\\pydevd\\\\_pydevd_frame_eval\\\\vendored\\\\bytecode\\\\cfg.py'>, '_pydevd_frame_eval.vendored.bytecode': <module '_pydevd_frame_eval.vendored.bytecode' from 'C:\\\\Users\\\\FREEDEMPIRE-XL\\\\AppData\\\\Roaming\\\\Python\\\\Python312\\\\site-packages\\\\debugpy\\\\_vendored\\\\pydevd\\\\_pydevd_frame_eval\\\\vendored\\\\bytecode\\\\__init__.py'>, '_pydevd_bundle.pydevd_bytecode_utils': <module '_pydevd_bundle.pydevd_bytecode_utils' from 'C:\\\\Users\\\\FREEDEMPIRE-XL\\\\AppData\\\\Roaming\\\\Python\\\\Python312\\\\site-packages\\\\debugpy\\\\_vendored\\\\pydevd\\\\_pydevd_bundle\\\\pydevd_bytecode_utils.py'>, '_pydevd_bundle.pydevd_frame': <module '_pydevd_bundle.pydevd_frame' from 'C:\\\\Users\\\\FREEDEMPIRE-XL\\\\AppData\\\\Roaming\\\\Python\\\\Python312\\\\site-packages\\\\debugpy\\\\_vendored\\\\pydevd\\\\_pydevd_bundle\\\\pydevd_frame.py'>, '_pydevd_bundle.pydevd_additional_thread_info_regular': <module '_pydevd_bundle.pydevd_additional_thread_info_regular' from 'C:\\\\Users\\\\FREEDEMPIRE-XL\\\\AppData\\\\Roaming\\\\Python\\\\Python312\\\\site-packages\\\\debugpy\\\\_vendored\\\\pydevd\\\\_pydevd_bundle\\\\pydevd_additional_thread_info_regular.py'>, '_pydevd_bundle.pydevd_additional_thread_info': <module '_pydevd_bundle.pydevd_additional_thread_info' from 'C:\\\\Users\\\\FREEDEMPIRE-XL\\\\AppData\\\\Roaming\\\\Python\\\\Python312\\\\site-packages\\\\debugpy\\\\_vendored\\\\pydevd\\\\_pydevd_bundle\\\\pydevd_additional_thread_info.py'>, '_pydevd_bundle.pydevd_thread_lifecycle': <module '_pydevd_bundle.pydevd_thread_lifecycle' from 'C:\\\\Users\\\\FREEDEMPIRE-XL\\\\AppData\\\\Roaming\\\\Python\\\\Python312\\\\site-packages\\\\debugpy\\\\_vendored\\\\pydevd\\\\_pydevd_bundle\\\\pydevd_thread_lifecycle.py'>, '_pydevd_bundle.pydevd_save_locals': <module '_pydevd_bundle.pydevd_save_locals' from 'C:\\\\Users\\\\FREEDEMPIRE-XL\\\\AppData\\\\Roaming\\\\Python\\\\Python312\\\\site-packages\\\\debugpy\\\\_vendored\\\\pydevd\\\\_pydevd_bundle\\\\pydevd_save_locals.py'>, '_pydev_bundle.pydev_monkey': <module '_pydev_bundle.pydev_monkey' from 'C:\\\\Users\\\\FREEDEMPIRE-XL\\\\AppData\\\\Roaming\\\\Python\\\\Python312\\\\site-packages\\\\debugpy\\\\_vendored\\\\pydevd\\\\_pydev_bundle\\\\pydev_monkey.py'>, 'pydevd_tracing': <module 'pydevd_tracing' from 'C:\\\\Users\\\\FREEDEMPIRE-XL\\\\AppData\\\\Roaming\\\\Python\\\\Python312\\\\site-packages\\\\debugpy\\\\_vendored\\\\pydevd\\\\pydevd_tracing.py'>, '_pydevd_bundle.pydevd_collect_bytecode_info': <module '_pydevd_bundle.pydevd_collect_bytecode_info' from 'C:\\\\Users\\\\FREEDEMPIRE-XL\\\\AppData\\\\Roaming\\\\Python\\\\Python312\\\\site-packages\\\\debugpy\\\\_vendored\\\\pydevd\\\\_pydevd_bundle\\\\pydevd_collect_bytecode_info.py'>, '_pydevd_bundle.pydevd_daemon_thread': <module '_pydevd_bundle.pydevd_daemon_thread' from 'C:\\\\Users\\\\FREEDEMPIRE-XL\\\\AppData\\\\Roaming\\\\Python\\\\Python312\\\\site-packages\\\\debugpy\\\\_vendored\\\\pydevd\\\\_pydevd_bundle\\\\pydevd_daemon_thread.py'>, '_pydevd_bundle.pydevd_timeout': <module '_pydevd_bundle.pydevd_timeout' from 'C:\\\\Users\\\\FREEDEMPIRE-XL\\\\AppData\\\\Roaming\\\\Python\\\\Python312\\\\site-packages\\\\debugpy\\\\_vendored\\\\pydevd\\\\_pydevd_bundle\\\\pydevd_timeout.py'>, '_pydevd_bundle.pydevd_vars': <module '_pydevd_bundle.pydevd_vars' from 'C:\\\\Users\\\\FREEDEMPIRE-XL\\\\AppData\\\\Roaming\\\\Python\\\\Python312\\\\site-packages\\\\debugpy\\\\_vendored\\\\pydevd\\\\_pydevd_bundle\\\\pydevd_vars.py'>, '_pydev_bundle.pydev_console_utils': <module '_pydev_bundle.pydev_console_utils' from 'C:\\\\Users\\\\FREEDEMPIRE-XL\\\\AppData\\\\Roaming\\\\Python\\\\Python312\\\\site-packages\\\\debugpy\\\\_vendored\\\\pydevd\\\\_pydev_bundle\\\\pydev_console_utils.py'>, '_pydevd_bundle.pydevd_import_class': <module '_pydevd_bundle.pydevd_import_class' from 'C:\\\\Users\\\\FREEDEMPIRE-XL\\\\AppData\\\\Roaming\\\\Python\\\\Python312\\\\site-packages\\\\debugpy\\\\_vendored\\\\pydevd\\\\_pydevd_bundle\\\\pydevd_import_class.py'>, '_pydevd_bundle.pydevd_breakpoints': <module '_pydevd_bundle.pydevd_breakpoints' from 'C:\\\\Users\\\\FREEDEMPIRE-XL\\\\AppData\\\\Roaming\\\\Python\\\\Python312\\\\site-packages\\\\debugpy\\\\_vendored\\\\pydevd\\\\_pydevd_bundle\\\\pydevd_breakpoints.py'>, '_pydevd_bundle.pydevd_custom_frames': <module '_pydevd_bundle.pydevd_custom_frames' from 'C:\\\\Users\\\\FREEDEMPIRE-XL\\\\AppData\\\\Roaming\\\\Python\\\\Python312\\\\site-packages\\\\debugpy\\\\_vendored\\\\pydevd\\\\_pydevd_bundle\\\\pydevd_custom_frames.py'>, '_pydevd_bundle.pydevd_dont_trace_files': <module '_pydevd_bundle.pydevd_dont_trace_files' from 'C:\\\\Users\\\\FREEDEMPIRE-XL\\\\AppData\\\\Roaming\\\\Python\\\\Python312\\\\site-packages\\\\debugpy\\\\_vendored\\\\pydevd\\\\_pydevd_bundle\\\\pydevd_dont_trace_files.py'>, '_pydevd_bundle.pydevd_net_command': <module '_pydevd_bundle.pydevd_net_command' from 'C:\\\\Users\\\\FREEDEMPIRE-XL\\\\AppData\\\\Roaming\\\\Python\\\\Python312\\\\site-packages\\\\debugpy\\\\_vendored\\\\pydevd\\\\_pydevd_bundle\\\\pydevd_net_command.py'>, '_pydevd_bundle.pydevconsole_code': <module '_pydevd_bundle.pydevconsole_code' from 'C:\\\\Users\\\\FREEDEMPIRE-XL\\\\AppData\\\\Roaming\\\\Python\\\\Python312\\\\site-packages\\\\debugpy\\\\_vendored\\\\pydevd\\\\_pydevd_bundle\\\\pydevconsole_code.py'>, '_pydev_bundle.pydev_umd': <module '_pydev_bundle.pydev_umd' from 'C:\\\\Users\\\\FREEDEMPIRE-XL\\\\AppData\\\\Roaming\\\\Python\\\\Python312\\\\site-packages\\\\debugpy\\\\_vendored\\\\pydevd\\\\_pydev_bundle\\\\pydev_umd.py'>, 'pydevconsole': <module 'pydevconsole' from 'C:\\\\Users\\\\FREEDEMPIRE-XL\\\\AppData\\\\Roaming\\\\Python\\\\Python312\\\\site-packages\\\\debugpy\\\\_vendored\\\\pydevd\\\\pydevconsole.py'>, '_pydev_bundle._pydev_completer': <module '_pydev_bundle._pydev_completer' from 'C:\\\\Users\\\\FREEDEMPIRE-XL\\\\AppData\\\\Roaming\\\\Python\\\\Python312\\\\site-packages\\\\debugpy\\\\_vendored\\\\pydevd\\\\_pydev_bundle\\\\_pydev_completer.py'>, '_pydevd_bundle.pydevd_net_command_factory_xml': <module '_pydevd_bundle.pydevd_net_command_factory_xml' from 'C:\\\\Users\\\\FREEDEMPIRE-XL\\\\AppData\\\\Roaming\\\\Python\\\\Python312\\\\site-packages\\\\debugpy\\\\_vendored\\\\pydevd\\\\_pydevd_bundle\\\\pydevd_net_command_factory_xml.py'>, '_pydevd_bundle.pydevd_trace_dispatch_regular': <module '_pydevd_bundle.pydevd_trace_dispatch_regular' from 'C:\\\\Users\\\\FREEDEMPIRE-XL\\\\AppData\\\\Roaming\\\\Python\\\\Python312\\\\site-packages\\\\debugpy\\\\_vendored\\\\pydevd\\\\_pydevd_bundle\\\\pydevd_trace_dispatch_regular.py'>, '_pydevd_bundle.pydevd_trace_dispatch': <module '_pydevd_bundle.pydevd_trace_dispatch' from 'C:\\\\Users\\\\FREEDEMPIRE-XL\\\\AppData\\\\Roaming\\\\Python\\\\Python312\\\\site-packages\\\\debugpy\\\\_vendored\\\\pydevd\\\\_pydevd_bundle\\\\pydevd_trace_dispatch.py'>, '_pydevd_frame_eval.pydevd_frame_eval_main': <module '_pydevd_frame_eval.pydevd_frame_eval_main' from 'C:\\\\Users\\\\FREEDEMPIRE-XL\\\\AppData\\\\Roaming\\\\Python\\\\Python312\\\\site-packages\\\\debugpy\\\\_vendored\\\\pydevd\\\\_pydevd_frame_eval\\\\pydevd_frame_eval_main.py'>, '_pydevd_bundle.pydevd_source_mapping': <module '_pydevd_bundle.pydevd_source_mapping' from 'C:\\\\Users\\\\FREEDEMPIRE-XL\\\\AppData\\\\Roaming\\\\Python\\\\Python312\\\\site-packages\\\\debugpy\\\\_vendored\\\\pydevd\\\\_pydevd_bundle\\\\pydevd_source_mapping.py'>, '_pydevd_bundle.pydevd_concurrency_analyser': <module '_pydevd_bundle.pydevd_concurrency_analyser' from 'C:\\\\Users\\\\FREEDEMPIRE-XL\\\\AppData\\\\Roaming\\\\Python\\\\Python312\\\\site-packages\\\\debugpy\\\\_vendored\\\\pydevd\\\\_pydevd_bundle\\\\pydevd_concurrency_analyser\\\\__init__.py'>, '_pydevd_bundle.pydevd_concurrency_analyser.pydevd_thread_wrappers': <module '_pydevd_bundle.pydevd_concurrency_analyser.pydevd_thread_wrappers' from 'C:\\\\Users\\\\FREEDEMPIRE-XL\\\\AppData\\\\Roaming\\\\Python\\\\Python312\\\\site-packages\\\\debugpy\\\\_vendored\\\\pydevd\\\\_pydevd_bundle\\\\pydevd_concurrency_analyser\\\\pydevd_thread_wrappers.py'>, '_pydevd_bundle.pydevd_concurrency_analyser.pydevd_concurrency_logger': <module '_pydevd_bundle.pydevd_concurrency_analyser.pydevd_concurrency_logger' from 'C:\\\\Users\\\\FREEDEMPIRE-XL\\\\AppData\\\\Roaming\\\\Python\\\\Python312\\\\site-packages\\\\debugpy\\\\_vendored\\\\pydevd\\\\_pydevd_bundle\\\\pydevd_concurrency_analyser\\\\pydevd_concurrency_logger.py'>, '_pydevd_bundle._debug_adapter': <module '_pydevd_bundle._debug_adapter' from 'C:\\\\Users\\\\FREEDEMPIRE-XL\\\\AppData\\\\Roaming\\\\Python\\\\Python312\\\\site-packages\\\\debugpy\\\\_vendored\\\\pydevd\\\\_pydevd_bundle\\\\_debug_adapter\\\\__init__.py'>, '_pydevd_bundle._debug_adapter.pydevd_schema_log': <module '_pydevd_bundle._debug_adapter.pydevd_schema_log' from 'C:\\\\Users\\\\FREEDEMPIRE-XL\\\\AppData\\\\Roaming\\\\Python\\\\Python312\\\\site-packages\\\\debugpy\\\\_vendored\\\\pydevd\\\\_pydevd_bundle\\\\_debug_adapter\\\\pydevd_schema_log.py'>, '_pydevd_bundle._debug_adapter.pydevd_base_schema': <module '_pydevd_bundle._debug_adapter.pydevd_base_schema' from 'C:\\\\Users\\\\FREEDEMPIRE-XL\\\\AppData\\\\Roaming\\\\Python\\\\Python312\\\\site-packages\\\\debugpy\\\\_vendored\\\\pydevd\\\\_pydevd_bundle\\\\_debug_adapter\\\\pydevd_base_schema.py'>, '_pydevd_bundle._debug_adapter.pydevd_schema': <module '_pydevd_bundle._debug_adapter.pydevd_schema' from 'C:\\\\Users\\\\FREEDEMPIRE-XL\\\\AppData\\\\Roaming\\\\Python\\\\Python312\\\\site-packages\\\\debugpy\\\\_vendored\\\\pydevd\\\\_pydevd_bundle\\\\_debug_adapter\\\\pydevd_schema.py'>, '_pydevd_bundle.pydevd_reload': <module '_pydevd_bundle.pydevd_reload' from 'C:\\\\Users\\\\FREEDEMPIRE-XL\\\\AppData\\\\Roaming\\\\Python\\\\Python312\\\\site-packages\\\\debugpy\\\\_vendored\\\\pydevd\\\\_pydevd_bundle\\\\pydevd_reload.py'>, '_pydev_bundle.fsnotify': <module '_pydev_bundle.fsnotify' from 'C:\\\\Users\\\\FREEDEMPIRE-XL\\\\AppData\\\\Roaming\\\\Python\\\\Python312\\\\site-packages\\\\debugpy\\\\_vendored\\\\pydevd\\\\_pydev_bundle\\\\fsnotify\\\\__init__.py'>, '_pydevd_bundle.pydevd_console': <module '_pydevd_bundle.pydevd_console' from 'C:\\\\Users\\\\FREEDEMPIRE-XL\\\\AppData\\\\Roaming\\\\Python\\\\Python312\\\\site-packages\\\\debugpy\\\\_vendored\\\\pydevd\\\\_pydevd_bundle\\\\pydevd_console.py'>, '_pydevd_bundle.pydevd_comm': <module '_pydevd_bundle.pydevd_comm' from 'C:\\\\Users\\\\FREEDEMPIRE-XL\\\\AppData\\\\Roaming\\\\Python\\\\Python312\\\\site-packages\\\\debugpy\\\\_vendored\\\\pydevd\\\\_pydevd_bundle\\\\pydevd_comm.py'>, '_pydevd_bundle.pydevd_net_command_factory_json': <module '_pydevd_bundle.pydevd_net_command_factory_json' from 'C:\\\\Users\\\\FREEDEMPIRE-XL\\\\AppData\\\\Roaming\\\\Python\\\\Python312\\\\site-packages\\\\debugpy\\\\_vendored\\\\pydevd\\\\_pydevd_bundle\\\\pydevd_net_command_factory_json.py'>, '_pydevd_bundle.pydevd_api': <module '_pydevd_bundle.pydevd_api' from 'C:\\\\Users\\\\FREEDEMPIRE-XL\\\\AppData\\\\Roaming\\\\Python\\\\Python312\\\\site-packages\\\\debugpy\\\\_vendored\\\\pydevd\\\\_pydevd_bundle\\\\pydevd_api.py'>, '_pydevd_bundle.pydevd_json_debug_options': <module '_pydevd_bundle.pydevd_json_debug_options' from 'C:\\\\Users\\\\FREEDEMPIRE-XL\\\\AppData\\\\Roaming\\\\Python\\\\Python312\\\\site-packages\\\\debugpy\\\\_vendored\\\\pydevd\\\\_pydevd_bundle\\\\pydevd_json_debug_options.py'>, '_pydevd_bundle.pydevd_process_net_command_json': <module '_pydevd_bundle.pydevd_process_net_command_json' from 'C:\\\\Users\\\\FREEDEMPIRE-XL\\\\AppData\\\\Roaming\\\\Python\\\\Python312\\\\site-packages\\\\debugpy\\\\_vendored\\\\pydevd\\\\_pydevd_bundle\\\\pydevd_process_net_command_json.py'>, '_pydevd_bundle.pydevd_traceproperty': <module '_pydevd_bundle.pydevd_traceproperty' from 'C:\\\\Users\\\\FREEDEMPIRE-XL\\\\AppData\\\\Roaming\\\\Python\\\\Python312\\\\site-packages\\\\debugpy\\\\_vendored\\\\pydevd\\\\_pydevd_bundle\\\\pydevd_traceproperty.py'>, '_pydevd_bundle.pydevd_process_net_command': <module '_pydevd_bundle.pydevd_process_net_command' from 'C:\\\\Users\\\\FREEDEMPIRE-XL\\\\AppData\\\\Roaming\\\\Python\\\\Python312\\\\site-packages\\\\debugpy\\\\_vendored\\\\pydevd\\\\_pydevd_bundle\\\\pydevd_process_net_command.py'>, '_pydevd_bundle.pydevd_suspended_frames': <module '_pydevd_bundle.pydevd_suspended_frames' from 'C:\\\\Users\\\\FREEDEMPIRE-XL\\\\AppData\\\\Roaming\\\\Python\\\\Python312\\\\site-packages\\\\debugpy\\\\_vendored\\\\pydevd\\\\_pydevd_bundle\\\\pydevd_suspended_frames.py'>, '_pydevd_bundle.pydevd_trace_api': <module '_pydevd_bundle.pydevd_trace_api' from 'C:\\\\Users\\\\FREEDEMPIRE-XL\\\\AppData\\\\Roaming\\\\Python\\\\Python312\\\\site-packages\\\\debugpy\\\\_vendored\\\\pydevd\\\\_pydevd_bundle\\\\pydevd_trace_api.py'>, 'pydevd_plugins.pydevd_line_validation': <module 'pydevd_plugins.pydevd_line_validation' from 'C:\\\\Users\\\\FREEDEMPIRE-XL\\\\AppData\\\\Roaming\\\\Python\\\\Python312\\\\site-packages\\\\debugpy\\\\_vendored\\\\pydevd\\\\pydevd_plugins\\\\pydevd_line_validation.py'>, 'pydevd_plugins.django_debug': <module 'pydevd_plugins.django_debug' from 'C:\\\\Users\\\\FREEDEMPIRE-XL\\\\AppData\\\\Roaming\\\\Python\\\\Python312\\\\site-packages\\\\debugpy\\\\_vendored\\\\pydevd\\\\pydevd_plugins\\\\django_debug.py'>, 'pydevd_plugins.jinja2_debug': <module 'pydevd_plugins.jinja2_debug' from 'C:\\\\Users\\\\FREEDEMPIRE-XL\\\\AppData\\\\Roaming\\\\Python\\\\Python312\\\\site-packages\\\\debugpy\\\\_vendored\\\\pydevd\\\\pydevd_plugins\\\\jinja2_debug.py'>, '_pydevd_bundle.pydevd_plugin_utils': <module '_pydevd_bundle.pydevd_plugin_utils' from 'C:\\\\Users\\\\FREEDEMPIRE-XL\\\\AppData\\\\Roaming\\\\Python\\\\Python312\\\\site-packages\\\\debugpy\\\\_vendored\\\\pydevd\\\\_pydevd_bundle\\\\pydevd_plugin_utils.py'>, 'pydevd': <module 'pydevd' from 'C:\\\\Users\\\\FREEDEMPIRE-XL\\\\AppData\\\\Roaming\\\\Python\\\\Python312\\\\site-packages\\\\debugpy\\\\_vendored\\\\pydevd\\\\pydevd.py'>, 'debugpy._vendored.force_pydevd': <module 'debugpy._vendored.force_pydevd' from 'C:\\\\Users\\\\FREEDEMPIRE-XL\\\\AppData\\\\Roaming\\\\Python\\\\Python312\\\\site-packages\\\\debugpy\\\\_vendored\\\\force_pydevd.py'>, 'debugpy.server': <module 'debugpy.server' from 'C:\\\\Users\\\\FREEDEMPIRE-XL\\\\AppData\\\\Roaming\\\\Python\\\\Python312\\\\site-packages\\\\debugpy\\\\server\\\\__init__.py'>, 'debugpy.adapter': <module 'debugpy.adapter' from 'C:\\\\Users\\\\FREEDEMPIRE-XL\\\\AppData\\\\Roaming\\\\Python\\\\Python312\\\\site-packages\\\\debugpy\\\\adapter\\\\__init__.py'>, 'debugpy.common': <module 'debugpy.common' from 'C:\\\\Users\\\\FREEDEMPIRE-XL\\\\AppData\\\\Roaming\\\\Python\\\\Python312\\\\site-packages\\\\debugpy\\\\common\\\\__init__.py'>, 'debugpy.common.json': <module 'debugpy.common.json' from 'C:\\\\Users\\\\FREEDEMPIRE-XL\\\\AppData\\\\Roaming\\\\Python\\\\Python312\\\\site-packages\\\\debugpy\\\\common\\\\json.py'>, 'debugpy.common.timestamp': <module 'debugpy.common.timestamp' from 'C:\\\\Users\\\\FREEDEMPIRE-XL\\\\AppData\\\\Roaming\\\\Python\\\\Python312\\\\site-packages\\\\debugpy\\\\common\\\\timestamp.py'>, 'debugpy.common.util': <module 'debugpy.common.util' from 'C:\\\\Users\\\\FREEDEMPIRE-XL\\\\AppData\\\\Roaming\\\\Python\\\\Python312\\\\site-packages\\\\debugpy\\\\common\\\\util.py'>, 'debugpy.common.log': <module 'debugpy.common.log' from 'C:\\\\Users\\\\FREEDEMPIRE-XL\\\\AppData\\\\Roaming\\\\Python\\\\Python312\\\\site-packages\\\\debugpy\\\\common\\\\log.py'>, 'debugpy.common.sockets': <module 'debugpy.common.sockets' from 'C:\\\\Users\\\\FREEDEMPIRE-XL\\\\AppData\\\\Roaming\\\\Python\\\\Python312\\\\site-packages\\\\debugpy\\\\common\\\\sockets.py'>, 'debugpy.server.api': <module 'debugpy.server.api' from 'C:\\\\Users\\\\FREEDEMPIRE-XL\\\\AppData\\\\Roaming\\\\Python\\\\Python312\\\\site-packages\\\\debugpy\\\\server\\\\api.py'>, 'ipykernel.debugger': <module 'ipykernel.debugger' from 'C:\\\\Users\\\\FREEDEMPIRE-XL\\\\AppData\\\\Roaming\\\\Python\\\\Python312\\\\site-packages\\\\ipykernel\\\\debugger.py'>, 'packaging': <module 'packaging' from 'C:\\\\Users\\\\FREEDEMPIRE-XL\\\\AppData\\\\Roaming\\\\Python\\\\Python312\\\\site-packages\\\\packaging\\\\__init__.py'>, 'packaging._structures': <module 'packaging._structures' from 'C:\\\\Users\\\\FREEDEMPIRE-XL\\\\AppData\\\\Roaming\\\\Python\\\\Python312\\\\site-packages\\\\packaging\\\\_structures.py'>, 'packaging.version': <module 'packaging.version' from 'C:\\\\Users\\\\FREEDEMPIRE-XL\\\\AppData\\\\Roaming\\\\Python\\\\Python312\\\\site-packages\\\\packaging\\\\version.py'>, 'ipykernel.eventloops': <module 'ipykernel.eventloops' from 'C:\\\\Users\\\\FREEDEMPIRE-XL\\\\AppData\\\\Roaming\\\\Python\\\\Python312\\\\site-packages\\\\ipykernel\\\\eventloops.py'>, 'IPython.core.payloadpage': <module 'IPython.core.payloadpage' from 'C:\\\\Users\\\\FREEDEMPIRE-XL\\\\AppData\\\\Roaming\\\\Python\\\\Python312\\\\site-packages\\\\IPython\\\\core\\\\payloadpage.py'>, 'ipykernel.displayhook': <module 'ipykernel.displayhook' from 'C:\\\\Users\\\\FREEDEMPIRE-XL\\\\AppData\\\\Roaming\\\\Python\\\\Python312\\\\site-packages\\\\ipykernel\\\\displayhook.py'>, 'ipykernel.zmqshell': <module 'ipykernel.zmqshell' from 'C:\\\\Users\\\\FREEDEMPIRE-XL\\\\AppData\\\\Roaming\\\\Python\\\\Python312\\\\site-packages\\\\ipykernel\\\\zmqshell.py'>, 'ipykernel.ipkernel': <module 'ipykernel.ipkernel' from 'C:\\\\Users\\\\FREEDEMPIRE-XL\\\\AppData\\\\Roaming\\\\Python\\\\Python312\\\\site-packages\\\\ipykernel\\\\ipkernel.py'>, 'ipykernel.parentpoller': <module 'ipykernel.parentpoller' from 'C:\\\\Users\\\\FREEDEMPIRE-XL\\\\AppData\\\\Roaming\\\\Python\\\\Python312\\\\site-packages\\\\ipykernel\\\\parentpoller.py'>, 'ipykernel.kernelapp': <module 'ipykernel.kernelapp' from 'C:\\\\Users\\\\FREEDEMPIRE-XL\\\\AppData\\\\Roaming\\\\Python\\\\Python312\\\\site-packages\\\\ipykernel\\\\kernelapp.py'>, 'tornado.platform': <module 'tornado.platform' from 'C:\\\\Users\\\\FREEDEMPIRE-XL\\\\AppData\\\\Roaming\\\\Python\\\\Python312\\\\site-packages\\\\tornado\\\\platform\\\\__init__.py'>, 'tornado.platform.asyncio': <module 'tornado.platform.asyncio' from 'C:\\\\Users\\\\FREEDEMPIRE-XL\\\\AppData\\\\Roaming\\\\Python\\\\Python312\\\\site-packages\\\\tornado\\\\platform\\\\asyncio.py'>, 'faulthandler': <module 'faulthandler' (built-in)>, 'IPython.core.completerlib': <module 'IPython.core.completerlib' from 'C:\\\\Users\\\\FREEDEMPIRE-XL\\\\AppData\\\\Roaming\\\\Python\\\\Python312\\\\site-packages\\\\IPython\\\\core\\\\completerlib.py'>, 'this': <module 'this' from 'c:\\\\Users\\\\FREEDEMPIRE-XL\\\\AppData\\\\Local\\\\Programs\\\\Python\\\\Python312\\\\Lib\\\\this.py'>, 'cmath': <module 'cmath' (built-in)>}\n"
     ]
    }
   ],
   "source": [
    "import math\n",
    "import fractions\n",
    "import sys\n",
    "import types\n",
    "\n",
    "print(math) # a built-in module (written in C), providing access to system functionality\n",
    "print(fractions) # a standard library module (written in Python), providing standardized solutions for many problems that occur in everyday programming\n",
    "print(sys) # built-in\n",
    "print(types) # standard library\n",
    "print(type(math))\n",
    "print(math.__dict__)\n",
    "print(dir(math))\n",
    "print(isinstance(math, types.ModuleType))\n",
    "print(math.__dict__['pi'])\n",
    "print(getattr(math, 'pi'))\n",
    "\n",
    "# globals()\n",
    "# return the dictionary implementing the current module namespace\n",
    "# for code within functions, this is set when the function is defined and remains the same regardless of where the function is called\n",
    "print(globals())\n",
    "\n",
    "# locals()\n",
    "# update and return a dictionary representing the current local symbol table\n",
    "# free variables are returned by locals() when it is called in function blocks, but not in class blocks\n",
    "# at the module level, locals() and globals() are the same dictionary\n",
    "print(locals())\n",
    "print(globals() is locals())\n",
    "\n",
    "print(sys.modules)"
   ]
  },
  {
   "cell_type": "markdown",
   "metadata": {},
   "source": [
    "### How does Python import modules\n",
    "\n",
    "* Python is doing the import at run time, i.e. while your code is actually running.\n",
    "* The `sys` module has a few properties that define where Python is going to look for modules.\n",
    "* At a high level, this is how Python imports a module from file\n",
    "  * checks the `sys.modules` cache to see if the module has already been imported -- if so it simply uses the reference in there, otherwise\n",
    "  * module has to be located -- finders\n",
    "  * module has to be retrieved -- loaders (returned by finders, `ModuleSpec`)\n",
    "  * creates an empty new module object (`types.ModuleType`)\n",
    "  * a reference to the module is added to `sys.modules` with name as key\n",
    "  * loads the source code from file\n",
    "  * compiles the module\n",
    "  * execute the module, set up the module's namespace (`module.__dict__ is module.globals()`)\n",
    "* When a module is imported, the module code is *executed*.\n",
    "* The built-in function `compile` compiles source into a code object.\n",
    "* The built-in function `exec` executes a code object."
   ]
  },
  {
   "cell_type": "code",
   "execution_count": 104,
   "metadata": {},
   "outputs": [
    {
     "name": "stdout",
     "output_type": "stream",
     "text": [
      "c:\\Users\\FREEDEMPIRE-XL\\AppData\\Local\\Programs\\Python\\Python312\n",
      "c:\\Users\\FREEDEMPIRE-XL\\AppData\\Local\\Programs\\Python\\Python312\n",
      "['d:\\\\Study\\\\Programming\\\\Python\\\\python_deep_dive', 'c:\\\\Users\\\\FREEDEMPIRE-XL\\\\AppData\\\\Local\\\\Programs\\\\Python\\\\Python312\\\\python312.zip', 'c:\\\\Users\\\\FREEDEMPIRE-XL\\\\AppData\\\\Local\\\\Programs\\\\Python\\\\Python312\\\\DLLs', 'c:\\\\Users\\\\FREEDEMPIRE-XL\\\\AppData\\\\Local\\\\Programs\\\\Python\\\\Python312\\\\Lib', 'c:\\\\Users\\\\FREEDEMPIRE-XL\\\\AppData\\\\Local\\\\Programs\\\\Python\\\\Python312', '', 'C:\\\\Users\\\\FREEDEMPIRE-XL\\\\AppData\\\\Roaming\\\\Python\\\\Python312\\\\site-packages', 'C:\\\\Users\\\\FREEDEMPIRE-XL\\\\AppData\\\\Roaming\\\\Python\\\\Python312\\\\site-packages\\\\win32', 'C:\\\\Users\\\\FREEDEMPIRE-XL\\\\AppData\\\\Roaming\\\\Python\\\\Python312\\\\site-packages\\\\win32\\\\lib', 'C:\\\\Users\\\\FREEDEMPIRE-XL\\\\AppData\\\\Roaming\\\\Python\\\\Python312\\\\site-packages\\\\Pythonwin', 'c:\\\\Users\\\\FREEDEMPIRE-XL\\\\AppData\\\\Local\\\\Programs\\\\Python\\\\Python312\\\\Lib\\\\site-packages']\n",
      "<function <lambda> at 0x000002185DB9F2E0>\n",
      "Testing sys.modules cache\n"
     ]
    }
   ],
   "source": [
    "import sys\n",
    "\n",
    "print(sys.prefix) # where python is installed\n",
    "print(sys.exec_prefix) # where the compiled c binaries are located\n",
    "print(sys.path) # specifies the search path for modules, initialized from the environment variable PYTHONPATH, plus an installation-dependent default\n",
    "\n",
    "sys.modules['test'] = lambda: print('Testing sys.modules cache')\n",
    "import test\n",
    "print(test)\n",
    "test()"
   ]
  },
  {
   "cell_type": "markdown",
   "metadata": {},
   "source": [
    "### Imports and `importlib`\n",
    "\n",
    "* Python code in one module gains access to the code in another module by the process of importing it.\n",
    "* The `import` statement is the most common way of invoking the import machinery, but it is not the only way.\n",
    "* Functions such as `importlib.import_module()` and built-in `__import__()` can also be used to invoke the import machinery.\n",
    "* The `import` statement combines two operations; it searches for the named module, then it binds the results of that search to a name in the local scope.\n",
    "* The search operation of the `import` statement is defined as a call to the `__import__()` function, with the appropriate arguments. The return value of `__import__()` is used to perform the name binding operation of the `import` statement.\n",
    "* A direct call to `__import__()` performs only the module search and, if found, the module creation operation, and certain side-effects may occur, such as the importing of parent packages, and the updating of various caches (including `sys.modules`)\n",
    "* When a module is first imported, Python searches for the module and if found, it creates a module object, initializing it. If the named module cannot be found, a `ModuleNotFoundError` is raised.\n",
    "* `importlib.import_module(name, package=None)`\n",
    "  * Import a module.\n",
    "  * The `name` argument specifies what module to import in absolute or relative terms (e.g. either `pkg.mod` or `..mod`). If the `name` is specified in relative terms, then the `package` argument must be set to the name of the package which is to act as the anchor for resolving the package name (e.g. `import_module('..mod', 'pkg.subpkg')` will import `pkg.mod`).\n",
    "  * The `import_module()` function acts as a simplifying wrapper around `importlib.__import__()`. The most important difference between these two functions is that `import_module()` returns the specified package or module (e.g. `pkg.mod`), while `__import__()` returns the top-level package or module (e.g. `pkg`).\n",
    "  * If you are dynamically importing a module that was created since the interpreter began execution (e.g., created a Python source file), you may need to call `invalidate_caches()` in order for the new module to be noticed by the import system.\n",
    "\n",
    "Module finders\n",
    "\n",
    "* `sys.meta_path`\n",
    "  * `'_frozen_importlib.BuiltinImporter'`: finds built-ins, such as `math`\n",
    "  * `'_frozen_importlib.FrozenImporter'`: finds frozen modules\n",
    "  * `'_frozen_importlib_external.PathFinder'`: file-based modules\n",
    "* `PathFinder`\n",
    "  * Finds file-based modules based on `sys.path` and package `__path__`\n",
    "\n",
    "Module properties\n",
    "\n",
    "* Built-in: e.g. `math`\n",
    "  * `type(math)`: module\n",
    "  * `math.__spec__`: `ModuleSpec(name='math', loader=<class '_frozen_importlib.BuiltinImporter'>, origin='built-in')`\n",
    "  * `math.__name__`: `'math'`\n",
    "  * `math.__package__`: `''`, a module is not a package, unless it has some value in the `__package__`\n",
    "  * `__file__`: not an attribute of `math`. It indicates the pathname of the file from which the module was loaded (if loaded from a file), or the pathname of the shared library file for extension modules loaded dynamically from a shared library. It might be missing for certain types of modules, such as C modules that are statically linked into the interpreter.\n",
    "* Standard library: e.g. `fractions`\n",
    "  * `type(fractions)`: module\n",
    "  * `fractions.__spec__`: `ModuleSpec(name='fractions', loader=<_frozen_importlib_external.SourceFileLoader object at 0x0000022DF92AFCB0>, origin='C:\\\\path\\\\to\\\\Python\\\\Python312\\\\Lib\\\\fractions.py')`\n",
    "  * `fractions.__name__`: `'fractions'`\n",
    "  * `fractions.__package__`: `''`\n",
    "  * `fractions.__file__`: `'C:\\\\path\\\\to\\\\Python\\\\Python312\\\\Lib\\\\fractions.py'`, it is found by `PathFinder` in one of the path listed in `sys.path`.\n",
    "* Custom module: e.g. `module1`\n",
    "  * almost the same as the case in standard library\n",
    "\n",
    "Python modules may reside in:\n",
    "\n",
    "* built-ins\n",
    "* files on disk\n",
    "* pre-compiled, frozen, or zip archives\n",
    "* anywhere else that can be accessed by a finder and a loader\n",
    "\n",
    "For file based modules:\n",
    "\n",
    "* They must exist in a path specified in `sys.path`, or\n",
    "* in a path specified by `<package>.__path__` "
   ]
  },
  {
   "cell_type": "code",
   "execution_count": 105,
   "metadata": {},
   "outputs": [
    {
     "name": "stdout",
     "output_type": "stream",
     "text": [
      "True\n",
      "True\n",
      "True\n",
      "3.141592653589793\n",
      "ModuleSpec(name='math', loader=<class '_frozen_importlib.BuiltinImporter'>, origin='built-in')\n",
      "[<class '_frozen_importlib.BuiltinImporter'>, <class '_frozen_importlib.FrozenImporter'>, <class '_frozen_importlib_external.PathFinder'>, <six._SixMetaPathImporter object at 0x000002185AD0DA30>]\n",
      "['d:\\\\Study\\\\Programming\\\\Python\\\\python_deep_dive', 'c:\\\\Users\\\\FREEDEMPIRE-XL\\\\AppData\\\\Local\\\\Programs\\\\Python\\\\Python312\\\\python312.zip', 'c:\\\\Users\\\\FREEDEMPIRE-XL\\\\AppData\\\\Local\\\\Programs\\\\Python\\\\Python312\\\\DLLs', 'c:\\\\Users\\\\FREEDEMPIRE-XL\\\\AppData\\\\Local\\\\Programs\\\\Python\\\\Python312\\\\Lib', 'c:\\\\Users\\\\FREEDEMPIRE-XL\\\\AppData\\\\Local\\\\Programs\\\\Python\\\\Python312', '', 'C:\\\\Users\\\\FREEDEMPIRE-XL\\\\AppData\\\\Roaming\\\\Python\\\\Python312\\\\site-packages', 'C:\\\\Users\\\\FREEDEMPIRE-XL\\\\AppData\\\\Roaming\\\\Python\\\\Python312\\\\site-packages\\\\win32', 'C:\\\\Users\\\\FREEDEMPIRE-XL\\\\AppData\\\\Roaming\\\\Python\\\\Python312\\\\site-packages\\\\win32\\\\lib', 'C:\\\\Users\\\\FREEDEMPIRE-XL\\\\AppData\\\\Roaming\\\\Python\\\\Python312\\\\site-packages\\\\Pythonwin', 'c:\\\\Users\\\\FREEDEMPIRE-XL\\\\AppData\\\\Local\\\\Programs\\\\Python\\\\Python312\\\\Lib\\\\site-packages']\n"
     ]
    }
   ],
   "source": [
    "import importlib\n",
    "import sys\n",
    "\n",
    "mod_name = 'math'\n",
    "importlib.import_module(mod_name)\n",
    "print(mod_name in sys.modules)\n",
    "# print(math.pi) # name 'math' is not defined\n",
    "print(mod_name in globals())\n",
    "math = sys.modules[mod_name]\n",
    "print(mod_name in globals())\n",
    "print(math.pi)\n",
    "print(math.__spec__) # the module spec that was used when importing the module\n",
    "print(sys.meta_path) # a list of meta path finder objects that have their find_spec() methods called to see if one of the objects can find the module to be imported\n",
    "print(sys.path) # a list of strings that specifies the search path for modules, initialized from the environment variable PYTHONPATH, plus an installation-dependent default."
   ]
  },
  {
   "cell_type": "markdown",
   "metadata": {},
   "source": [
    "### Import variants and misconceptions\n",
    "\n",
    "* `import math`\n",
    "  * check if `math` in `sys.modules`\n",
    "  * if not, load it and insert ref to `sys.modules`\n",
    "  * add symbol `math` to the current global namespace referencing the same module object\n",
    "  * if `math` symbol already exists in the namespace, replace reference\n",
    "* `import math as r_math`\n",
    "  * add symbol `r_math` instead of `math` into the global namespace\n",
    "* `from math import sqrt`\n",
    "  * add symbol `sqrt` into the global namespace\n",
    "* `from math import sqrt as r_sqrt`\n",
    "* `from math import *`\n",
    "  * add all symbols defined in `math` except those begin with an underscore to the global namespace\n",
    "* In every case the `math` is loaded into memory and referenced in `sys.modules`.\n",
    "  * running `from math import sqrt` doesn't partially load `math`\n",
    "  * `from <module> import *` can possibly lead to bugs due to symbol conflicts in the namespace, and makes it unclear which names are present in the namespace\n",
    "* It's recommended to place imports outside functions.\n",
    "  * Imports are conventionally positioned at the top of a file, following module comments and docstrings, and preceding module globals and constants.\n",
    "  * Importing inside a function may cause the code to run less efficiently and hinder its execution in environments with stable module loading requirements.\n",
    "  * Additionally, modules are typically designed to be imported globally for better code organization and readability."
   ]
  },
  {
   "cell_type": "code",
   "execution_count": 106,
   "metadata": {},
   "outputs": [
    {
     "name": "stdout",
     "output_type": "stream",
     "text": [
      "('math' in sys.modules)=True\n",
      "('cmath' in sys.modules)=True\n",
      "('math' in globals())=True\n",
      "math.pi=3.141592653589793\n"
     ]
    }
   ],
   "source": [
    "import sys\n",
    "\n",
    "print(f'{('math' in sys.modules)=}') # math is loaded to sys.modules by default\n",
    "print(f'{('cmath' in sys.modules)=}')\n",
    "print(f'{('math' in globals())=}')\n",
    "math = sys.modules['math'] # add math to the global namespace and reference the corresponding object in sys.modules\n",
    "print(f'{math.pi=}')"
   ]
  },
  {
   "cell_type": "markdown",
   "metadata": {},
   "source": [
    "### Reloading modules\n",
    "\n",
    "* `importlib.reload(module)`\n",
    "  * Reload a previously imported module.\n",
    "  * The argument must be a module object, so it must have been successfully imported before.\n",
    "  * This is useful if you have edited the module source file using an external editor and want to try out the new version without leaving the Python interpreter.\n",
    "  * The return value is the module object (which can be different if re-importing causes a different object to be placed in `sys.modules`).\n",
    "* When `reload()` is executed:\n",
    "  * Python module’s code is recompiled and the module-level code re-executed, defining a new set of objects which are bound to names in the module’s dictionary (the same dictionary as before in most cases) by reusing the loader which originally loaded the module. The `init` function of extension modules is not called a second time.\n",
    "  * As with all other objects in Python the old objects are only reclaimed after their reference counts drop to zero.\n",
    "  * The names in the module namespace are updated to point to any new or changed objects.\n",
    "  * Other references to the old objects (such as names external to the module) are not rebound to refer to the new objects and must be updated in each namespace where they occur if that is desired."
   ]
  },
  {
   "cell_type": "markdown",
   "metadata": {},
   "source": [
    "### Using `__main__`\n",
    "\n",
    "* In Python, the special name `__main__` is used for two important constructs:\n",
    "  * the name of the top-level environment of the program, which can be checked using the `__name__ == '__main__'` expression; and\n",
    "  * the `__main__.py` file in Python packages.\n",
    "* When a Python module or package is imported, `__name__` is set to the module’s name.\n",
    "  * Usually, this is the name of the Python file itself without the `.py` extension.\n",
    "  * If the file is part of a package, `__name__` will also include the parent package’s path.\n",
    "* If the module is executed in the top-level code environment, its `__name__` is set to the string `'__main__'`.\n",
    "  * `__main__` is the name of the environment where top-level code is run.\n",
    "* \"Top-level code\" is the first user-specified Python module that starts running. It's top-level because it imports all other modules that the program needs.\n",
    "  * Sometimes \"top-level code\" is called an entry point to the application.\n",
    "* The top-level code environment can be:\n",
    "  * the scope of an interactive prompt\n",
    "  * the Python module passed to the Python interpreter as a file argument\n",
    "  * the Python module or package passed to the Python interpreter with the `-m` argument\n",
    "    * `-m <module-name>`: search `sys.path` for the named module and execute its contents as the `__main__` module\n",
    "    * since the argument is a module name, you must not give a file extension (`.py`)\n",
    "    * package names (including namespace packages) are also permitted, `<pkg>.__main__` will be executed as the main module\n",
    "    * this option cannot be used with built-in modules and extension modules written in C\n",
    "  * Python code read by the Python interpreter from standard input\n",
    "  * Python code passed to the Python interpreter with the `-c` argument\n",
    "    * `-c <command>`: execute the Python code in command. command can be one or more statements separated by newlines, with significant leading whitespace as in normal module code."
   ]
  },
  {
   "cell_type": "markdown",
   "metadata": {},
   "source": [
    "### What are packages\n",
    "\n",
    "* A Python module which can contain submodules or recursively, subpackages. Technically, a package is a Python module with a `__path__` attribute.\n",
    "* All packages are modules, but not all modules are packages.\n",
    "* Modules do not have be entities in a file system. By the same token, packages do not have to be entities in a file system.\n",
    "* Packages are a way of structuring Python's module namespace by using \"dotted module names\" -- subpackage / module names are separated from their parent package name by a dot.\n",
    "  * Dotted notation indicates the path hierarchy of modules / packages, and is usually found in `__path__`.\n",
    "* If the module is a package (either regular or namespace), the module object's `__path__` attribute must be set. The value must be iterable, but may be empty if `__path__` has no further significance.\n",
    "* `import pkg.subpkg.mod`\n",
    "  * The import system will perform these steps:\n",
    "    * imports `pkg`\n",
    "    * imports `pkg.supkg`\n",
    "    * imports `pkg.subpkg.mod`\n",
    "    * The `sys.modules` cache will contain entries for `pkg`, `pkg.subpkg`, `pkg.subpkg.mod`\n",
    "  * The namespace where the `import` is run contains only `pkg.subpkg.mod`\n",
    "* Python defines two types of packages, regular packages and namespace packages.\n",
    "  * A regular package is typically implemented as a directory containing an `__init__.py` file.\n",
    "    * The `__init__.py` files are required to make Python treat directories containing the file as packages.\n",
    "    * The `__init__.py` file prevents directories with a common name, such as `string`, from unintentionally hiding valid modules that occur later on the module search path.\n",
    "    * In the simplest case, `__init__.py` can just be an empty file, but it can also execute initialization code for the package or set the `__all__` variable.\n",
    "    * When a regular package is imported, this `__init__.py` file is implicitly executed, and the objects it defines are bound to names in the package's namespace.\n",
    "    * The `__init__.py` file can contain the same Python code that any other module can contain, and Python will add some additional attributes to the module when it is imported.\n",
    "  * A namespace package is a composite of various portions, where each portion contributes a subpackage to the parent package.\n",
    "    * Portions may reside in different locations on the file system. Portions may also be found in zip files, on the network, or anywhere else that Python searches during import.\n",
    "    * Namespace packages may or may not correspond directly to objects on the file system; they may be virtual modules that have no concrete representation.\n",
    "    * A namespace package serves only as a container for subpackages. Namespace packages may have no physical representation, and specifically are not like a regular package because they have no `__init__.py` file.\n",
    "\n",
    "What happens when a file based package is imported\n",
    "\n",
    "```text\n",
    "app/\n",
    "    module.py\n",
    "    pkg/\n",
    "        __init__.py\n",
    "        module1.py\n",
    "        module2.py\n",
    "        subpkg/\n",
    "            __init__.py\n",
    "            module3.py\n",
    "            module4.py\n",
    "```\n",
    "\n",
    "* `import pkg`\n",
    "  * the code for `pkg` is in `__init__.py`\n",
    "  * the code is loaded, executed and cached in `sys.modules` with a key of `pkg`\n",
    "  * the symbol `pkg` is added to the namespace referencing the same module object\n",
    "  * the module object has a `__path__` property: absolute file system directory path\n",
    "  * also has a `__file__` property: absolute file system path to `__init__.py`\n",
    "* `import pkg.subpkg.module3`\n",
    "  * `pkg` is imported and added to `sys.modules`\n",
    "  * `subpkg` is imported and added to `sys.modules`\n",
    "  * `module3` is imported and added to `sys.modules`\n",
    "  * but, modules can import other modules\n",
    "    * `pkg.__init__.py` could import other modules / packages\n",
    "    * `subpkg.__init__.py` could import other modules / packages\n",
    "    * `module3.py` could import other modules / packages\n",
    "\n",
    "`__file__`, `__path__` and `__package__` properties\n",
    "\n",
    "* Modules have `__file__` and `__package__` properties.\n",
    "* `__file__` is the location of module code in the file system.\n",
    "* `__package__` is the package the module code is located in, an empty string if the module is located in the application root.\n",
    "* if the module is also a package, then it also has a `__path__` property.\n",
    "* `__path__` is the location of the package (directory) in the file system."
   ]
  },
  {
   "cell_type": "markdown",
   "metadata": {},
   "source": [
    "### Why packages\n",
    "\n",
    "* Packages give us the ability to break code up to smaller chunks, makes our code:\n",
    "  * easier to write\n",
    "  * easier to test and debug\n",
    "  * easier to read / understand\n",
    "  * easier to document\n",
    "* They can still be stitched together, hiding inner implementation from users."
   ]
  },
  {
   "cell_type": "markdown",
   "metadata": {},
   "source": [
    "### Namespace packages\n",
    "\n",
    "* Namespace packages are package-like directories.\n",
    "  * may contain modules\n",
    "  * may contain nested regular packages\n",
    "  * may contain nested namespace packages\n",
    "  * cannot contain `__init__.py`\n",
    "* The directories are implicitly made into these types of packages.\n",
    "\n",
    "Regular vs namespace packages\n",
    "\n",
    "Property|Regular packages|Namespace packages\n",
    "---|---|---\n",
    "type|module|module\n",
    "`__init__.py`|yes|no\n",
    "`__file__.py`|package init file|not set\n",
    "paths|single package lives in single directory|single package can live in multiple (non-nested) directories, even in a zip file"
   ]
  },
  {
   "cell_type": "markdown",
   "metadata": {},
   "source": [
    "### Importing from zip archives\n",
    "\n",
    "To import a package from a zip file in Python:\n",
    "\n",
    "* Add to `sys.path`: use the `sys.path` list to include the zip file path. This enables Python to locate modules within the zip file.\n",
    "* Now you can import modules from the zip file as if they were regular modules."
   ]
  },
  {
   "cell_type": "markdown",
   "metadata": {},
   "source": [
    "## Python updates"
   ]
  },
  {
   "cell_type": "markdown",
   "metadata": {},
   "source": [
    "### Relevant Python changes 3.10\n",
    "\n",
    "[Structural pattern matching](https://docs.python.org/3/whatsnew/3.10.html#pep-634-structural-pattern-matching)\n",
    "\n",
    "* Structural pattern matching has been added in the form of a `match` statement and `case` statements of patterns with associated actions. Patterns consist of sequences, mappings, primitive data types as well as class instances. Pattern matching enables programs to extract information from complex data types, branch on the structure of data, and apply specific actions based on different forms of data.\n",
    "* The generic syntax of pattern matching is:\n",
    "    ```Python\n",
    "    match subject:\n",
    "        case <pattern_1>:\n",
    "            <action_1>\n",
    "        case <pattern_2>:\n",
    "            <action_2>\n",
    "        case <pattern_3>:\n",
    "            <action_3>\n",
    "        case _:\n",
    "            <action_wildcard>\n",
    "    ```\n",
    "* You can combine several literals in a single pattern using `|`.\n",
    "* If an exact match is not confirmed and a wildcard case does not exist, the entire match block is a no-op.\n",
    "\n",
    "The [`zip()`](https://docs.python.org/3/library/functions.html#zip) function now has an optional `strict` flag\n",
    "\n",
    "* It is used to require that all the iterables have an equal length.\n",
    "* It raises a `ValueError` if one iterable is exhausted before the others.\n",
    "* The left-to-right evaluation order of the iterables is guaranteed. This makes possible an idiom for clustering a data series into n-length groups using `zip(*[iter(s)]*n, strict=True)`. This repeats the *same* iterator `n` times so that each output tuple has the result of `n` calls to the iterator. This has the effect of dividing the input into n-length chunks.\n",
    "* `zip()` in conjunction with the `*` operator can be used to unzip a list.\n",
    "* Shorter iterables can be padded with a constant value to make all the iterables have the same length. This is done by `itertools.zip_longest()`."
   ]
  },
  {
   "cell_type": "markdown",
   "metadata": {},
   "source": [
    "### Relevant Python changes 3.9\n",
    "\n",
    "[`zoneinfo`](https://docs.python.org/3/whatsnew/3.9.html#zoneinfo)\n",
    "\n",
    "* The `zoneinfo` module brings support for the IANA time zone database to the standard library. It adds `zoneinfo.ZoneInfo`, a concrete `datetime.tzinfo` implementation backed by the system's time zone data.\n",
    "\n",
    "Dictionary merge & update operators\n",
    "\n",
    "* Merge (`|`) and update (`|=`) operators have been added to the built-in `dict` class. Those complement the existing `dict.update`, `dict(d1, d2)` and `{**d1, **d2}` methods of merging dictionaries.\n",
    "* A `ChainMap` class is provided for quickly linking a number of mappings so they can be treated as a single unit. It is often much faster than creating a new dictionary and running multiple `update()` calls.\n",
    "  * `class collections.ChainMap(*maps)`\n",
    "  * A ChainMap groups multiple dicts or other mappings together to create a single, updateable view.\n",
    "  * If no maps are specified, a single empty dictionary is provided so that a new chain always has at least one mapping.\n",
    "\n",
    "New string methods to remove prefixes and suffixes\n",
    "\n",
    "* `str.removeprefix(prefix)` and `str.removesuffix(suffix)` have been added to easily remove an unneeded prefix or a suffix from a string.\n",
    "\n",
    "Type hinting generics in standard collections\n",
    "\n",
    "```Python\n",
    "def greet_all(names: list[str]) -> None:\n",
    "    for name in names:\n",
    "        print(\"Hello\", name)\n",
    "```\n",
    "\n",
    "* In type annotations you can now use built-in collection types such as `list` and `dict` as generic types instead of importing the corresponding capitalized types (e.g. `List` or `Dict`) from `typing`. Some other types in the standard library are also now generic, for example `queue.Queue`.\n",
    "\n",
    "`Math`\n",
    "\n",
    "* Expanded the `math.gcd()` function to handle multiple arguments. Formerly, it only supported two arguments.\n",
    "* Added `math.lcm()`: return the least common multiple of specified arguments."
   ]
  },
  {
   "cell_type": "markdown",
   "metadata": {},
   "source": [
    "### Relevant Python changes 3.8\n",
    "\n",
    "[Positional-only parameters](https://docs.python.org/3/whatsnew/3.8.html#positional-only-parameters)\n",
    "\n",
    "* There is a new function parameter syntax `/` to indicate that some function parameters must be specified positionally and cannot be used as keyword arguments.\n",
    "* One use case for this notation is that it allows pure Python functions to fully emulate behaviors of existing C coded functions.\n",
    "* Another use case is to preclude keyword arguments when the parameter name is not helpful.\n",
    "* A further benefit of marking a parameter as positional-only is that it allows the parameter name to be changed in the future without risk of breaking client code.\n",
    "* Since the parameters to the left of `/` are not exposed as possible keywords, the parameters names remain available for use in `**kwargs`. This greatly simplifies the implementation of functions and methods that need to accept arbitrary keyword arguments.\n",
    "\n",
    "f-strings support `=` for self-documenting expressions and debugging\n",
    "\n",
    "* Added an `=` specifier to f-strings. An f-string such as `f'{expr=}'` will expand to the text of the expression, an equal sign, then the representation of the evaluated expression.\n",
    "* If a conversion is specified, the result of evaluating the expression is converted before formatting. Conversion `'!s'` calls `str()` on the result, `'!r'` calls `repr()`, and `'!a'` calls `ascii()`.\n",
    "\n",
    "Assignment expressions\n",
    "\n",
    "* There is new syntax `:=` that assigns values to variables as part of a larger expression. It is affectionately known as \"the walrus operator\" due to its resemblance to the eyes and tusks of a walrus.\n",
    "* Try to limit use of the walrus operator to clean cases that reduce complexity and improve readability.\n",
    "\n",
    "The `bool`, `int`, and `fractions.Fraction` types now have an `as_integer_ratio()` method like that found in `float` and `decimal.Decimal`. This minor API extension makes it possible to write `numerator, denominator = x.as_integer_ratio()` and have it work across multiple numeric types.\n",
    "\n",
    "`functools.lru_cache()` can now be used as a straight decorator rather than as a function returning a decorator.\n",
    "\n",
    "`math`\n",
    "\n",
    "* Added new function `math.dist()` for computing Euclidean distance between two points.\n",
    "* Added new function, `math.prod()`, as analogous function to sum() that returns the product of a 'start' value (default: `1`) times an iterable of numbers.\n",
    "* Added two new combinatoric functions `math.perm()` and `math.comb()`.\n",
    "* Added a new function `math.isqrt()` for computing accurate integer square roots without conversion to floating point. The new function supports arbitrarily large integers. It is faster than `floor(sqrt(n))` but slower than `math.sqrt()`.\n",
    "\n",
    "A `continue` statement was illegal in the `finally` clause due to a problem with the implementation. In Python 3.8 this restriction was lifted."
   ]
  },
  {
   "cell_type": "code",
   "execution_count": 1,
   "metadata": {},
   "outputs": [
    {
     "name": "stdout",
     "output_type": "stream",
     "text": [
      "1 2 {'a': 3, 'b': 4, 'c': 5}\n",
      "user='eric_idle' member_since=datetime.date(1999, 1, 1)\n",
      "user=eric_idle member_since.year=1999\n",
      "user=eric_idle member_since.year=1999\n",
      "pi=3.14159\n",
      "(10, 1)\n",
      "math.dist((0, 0), (1, 1))=1.4142135623730951\n",
      "abs(0j - (1 + 1j))=1.4142135623730951\n",
      "math.perm(10, 3)=720\n",
      "math.comb(10, 3)=120\n",
      "math.prod((1, 2, 3, 4))=24\n",
      "math.isqrt(128837987 ** 2 - 1)=128837986\n",
      "math.floor(math.sqrt(128837987 ** 2 - 1))=128837987\n"
     ]
    }
   ],
   "source": [
    "def f(a, b, /, **kwargs):\n",
    "    print(a, b, kwargs)\n",
    "\n",
    "f(1, 2, a=3, b=4, c=5) # a and b are used in two ways\n",
    "\n",
    "\n",
    "import datetime\n",
    "\n",
    "user = 'eric_idle'\n",
    "member_since = datetime.date(1999, 1, 1)\n",
    "pi = 3.141592653589793\n",
    "print(f'{user=} {member_since=}')\n",
    "print(f'{user=!s} {member_since.year=}')\n",
    "print(f'{user=:s} {member_since.year=}') # this works too\n",
    "print(f'{pi=:.5f}')\n",
    "\n",
    "a = 10\n",
    "print(a.as_integer_ratio()) # invalid decimal literal\n",
    "# print(10.as_integer_ratio()) # invalid decimal literal\n",
    "\n",
    "import math\n",
    "\n",
    "print(f'{math.dist((0, 0), (1, 1))=}') # this could also be calculated by calculating the absolute value of complex numbers\n",
    "print(f'{abs(0j - (1 + 1j))=}')\n",
    "print(f'{math.perm(10, 3)=}')\n",
    "print(f'{math.comb(10, 3)=}')\n",
    "print(f'{math.prod((1, 2, 3, 4))=}')\n",
    "\n",
    "print(f'{math.isqrt(128837987 ** 2 - 1)=}')\n",
    "print(f'{math.floor(math.sqrt(128837987 ** 2 - 1))=}') # incorrect result\n"
   ]
  },
  {
   "cell_type": "markdown",
   "metadata": {},
   "source": [
    "### Relevant Python changes 3.7\n",
    "\n",
    "`collections.namedtuple()` now supports default values. The keyword argument `defaults` can be `None` or an iterable of default values. Since fields with a default value must come after any fields without a default, the `defaults` are applied to the rightmost parameters. `somenamedtuple._field_defaults` returns a dictionary mapping field names to default values.\n",
    "\n",
    "The insertion-order preservation nature of `dict` objects has been declared to be an official part of the Python language spec. So the built-in function `reversed()` works on dictionaries too.\n",
    "\n",
    "Python 3.7 includes the new built-in `breakpoint()` function as an easy and consistent way to enter the Python debugger."
   ]
  },
  {
   "cell_type": "code",
   "execution_count": 108,
   "metadata": {},
   "outputs": [
    {
     "name": "stdout",
     "output_type": "stream",
     "text": [
      "['c', 'b', 'a']\n"
     ]
    }
   ],
   "source": [
    "d = {'a': 1, 'b': 2, 'c': 3}\n",
    "r = reversed(d) # only the keys reversed in the returned iterator\n",
    "print(list(r))"
   ]
  },
  {
   "cell_type": "markdown",
   "metadata": {},
   "source": [
    "### Python 3.6 highlights\n",
    "\n",
    "[Formatted string literals](https://docs.python.org/3/whatsnew/3.6.html#pep-498-formatted-string-literals)\n",
    "\n",
    "* PEP 498 introduces a new kind of string literals: f-strings, or formatted string literals.\n",
    "* Formatted string literals are prefixed with `'f'` and are similar to the format strings accepted by `str.format()`.\n",
    "* They contain replacement fields surrounded by curly braces. The replacement fields are expressions, which are evaluated at run time, and then formatted using the `format()` protocol.\n",
    "\n",
    "[Syntax for variable annotations](https://docs.python.org/3/whatsnew/3.6.html#pep-526-syntax-for-variable-annotations)\n",
    "\n",
    "* PEP 484 introduced the standard for type annotations of function parameters, a.k.a. type hints. PEP 526 adds syntax to Python for annotating the types of variables including class variables and instance variables.\n",
    "* Just as for function annotations, the Python interpreter does not attach any particular meaning to variable annotations and only stores them in the `__annotations__` attribute of a class or module.\n",
    "* In contrast to variable declarations in statically typed languages, the goal of annotation syntax is to provide an easy way to specify structured type metadata for third party tools and libraries via the abstract syntax tree and the `__annotations__` attribute.\n",
    "\n",
    "Asynchronous generators\n",
    "\n",
    "* PEP 492 introduced support for native coroutines and `async` / `await` syntax to Python 3.5. A notable limitation of the Python 3.5 implementation is that it was not possible to use `await` and `yield` in the same function body. In Python 3.6 this restriction has been lifted, making it possible to define asynchronous generators:\n",
    "    ```Python\n",
    "    async def ticker(delay, to):\n",
    "    \"\"\"Yield numbers from 0 to *to* every *delay* seconds.\"\"\"\n",
    "    for i in range(to):\n",
    "        yield i\n",
    "        await asyncio.sleep(delay)\n",
    "    ```\n",
    "\n",
    "Asynchronous comprehensions\n",
    "\n",
    "* PEP 530 adds support for using `async for` in `list`, `set`, `dict` comprehensions and generator expressions: `result = [i async for i in aiter() if i % 2]`\n",
    "* Additionally, `await` expressions are supported in all kinds of comprehensions: `result = [await fun() for fun in funcs if await condition()]`\n",
    "\n",
    "Underscores in numeric literals\n",
    "\n",
    "* PEP 515 adds the ability to use underscores in numeric literals for improved readability.\n",
    "* Single underscores are allowed between digits and after any base specifier. Leading, trailing, or multiple underscores in a row are not allowed.\n",
    "* The string formatting language also now has support for the `'_'` option to signal the use of an underscore for a thousands separator for floating point presentation types and for integer presentation type `'d'`. For integer presentation types `'b'`, `'o'`, `'x'`, and `'X'`, underscores will be inserted every 4 digits.\n",
    "\n",
    "Preserving keyword argument order\n",
    "\n",
    "* `**kwargs` in a function signature is now guaranteed to be an insertion-order-preserving mapping."
   ]
  },
  {
   "cell_type": "code",
   "execution_count": 109,
   "metadata": {},
   "outputs": [],
   "source": [
    "# can use built-in collection types such as list and dict as generic types instead of\n",
    "# importing the corresponding capitalized types (e.g. List or Dict) from typing since 3.9\n",
    "primes: list[int] = []\n",
    "\n",
    "captain: str  # Note: no initial value!\n",
    "\n",
    "class Starship:\n",
    "    stats: dict[str, int] = {}"
   ]
  },
  {
   "cell_type": "code",
   "execution_count": 110,
   "metadata": {},
   "outputs": [
    {
     "name": "stdout",
     "output_type": "stream",
     "text": [
      "sys.version_info(major=3, minor=12, micro=1, releaselevel='final', serial=0)\n",
      "{'b': 1, 'a': 2, 'd': 3, 'c': 4, 'e': 5}\n",
      "{'a': 2, 'd': 3, 'c': 4, 'e': 5}\n",
      "{'a': 2, 'c': 4, 'e': 5, 'd': 3}\n",
      "{'c': 4, 'a': 2, 'e': 5, 'd': 3}\n",
      "{'a': 2, 'c': 4, 'e': 5, 'd': 3}\n",
      "{'d': 3, 'e': 5, 'c': 4, 'a': 2}\n"
     ]
    }
   ],
   "source": [
    "from sys import version_info\n",
    "\n",
    "print(version_info)\n",
    "\n",
    "d = {'b': 1, 'a': 2, 'd': 3, 'c': 4, 'e': 5, 'f': 6}\n",
    "\n",
    "# pop the last item\n",
    "d.popitem()\n",
    "print(d)\n",
    "\n",
    "# pop the first item\n",
    "d.pop(next(iter(d.keys())))\n",
    "print(d)\n",
    "\n",
    "# move 'd' to last\n",
    "d['d'] = d.pop('d')\n",
    "print(d)\n",
    "\n",
    "# move 'c' to first\n",
    "d['c'] = d.pop('c')\n",
    "keys_iterator = iter(d.keys())\n",
    "for _ in range(len(d) - 1):\n",
    "    key = next(keys_iterator)\n",
    "    d[key] = d.pop(key)\n",
    "print(d)\n",
    "\n",
    "# move 'a' to first\n",
    "# d = dict([('a', d.pop('a'))], **d)\n",
    "new_d = {'a': d.pop('a')}\n",
    "new_d.update(d) # update returns None\n",
    "d = new_d\n",
    "print(d)\n",
    "\n",
    "# reverse the dictionary\n",
    "print(dict(reversed(d.items())))"
   ]
  },
  {
   "cell_type": "code",
   "execution_count": 111,
   "metadata": {},
   "outputs": [
    {
     "name": "stdout",
     "output_type": "stream",
     "text": [
      "n=10000000\n",
      "n=10_000_000\n",
      "n=0X98_9680\n",
      "n=0x98_9680\n",
      "n=0b1001_1000_1001_0110_1000_0000\n",
      "n=0o4611_3200\n",
      "int('0x_ff_ffff', base=0)=16777215\n"
     ]
    }
   ],
   "source": [
    "n = 10_000_000\n",
    "print(f'{n=}')\n",
    "print(f'{n=:_}')\n",
    "print(f'{n=:#_X}')\n",
    "print(f'{n=:#_x}')\n",
    "print(f'{n=:#_b}')\n",
    "print(f'{n=:#_o}')\n",
    "print(f'{int('0x_ff_ffff', base=0)=}')"
   ]
  },
  {
   "cell_type": "code",
   "execution_count": 112,
   "metadata": {},
   "outputs": [
    {
     "name": "stdout",
     "output_type": "stream",
     "text": [
      "(1, 2)\n",
      "p1=Point(x=0, y=0)\n",
      "p2=Point(x=1, y=1)\n"
     ]
    }
   ],
   "source": [
    "# function.__defaults__\n",
    "# A tuple containing default parameter values for those parameters that have\n",
    "# defaults, or None if no parameters have a default value.\n",
    "\n",
    "def func(a, b, c=1, d=2):\n",
    "    pass\n",
    "\n",
    "print(f'{func.__defaults__}')\n",
    "\n",
    "from collections import namedtuple\n",
    "\n",
    "# Python 3.7 namedtuple supports default values with defaults keyword argument\n",
    "def defaulted_namedtuple(class_name, default_dict):\n",
    "    \"\"\"Custom namedtuple with default values\"\"\"\n",
    "    Struct = namedtuple(class_name, default_dict.keys())\n",
    "    Struct.__new__.__defaults__ = tuple(default_dict.values())\n",
    "    return Struct\n",
    "\n",
    "Point = defaulted_namedtuple('Point', {'x': 0, 'y': 0})\n",
    "p1 = Point()\n",
    "p2 = Point(1, 1)\n",
    "print(f'{p1=}')\n",
    "print(f'{p2=}')"
   ]
  },
  {
   "cell_type": "markdown",
   "metadata": {},
   "source": [
    "## Extras"
   ]
  },
  {
   "cell_type": "markdown",
   "metadata": {},
   "source": [
    "### Additional resources\n",
    "\n",
    "* [The Python documentation](https://docs.python.org/3/contents.html)\n",
    "* [PEPs -- Python Enhancement Proposals](https://peps.python.org/pep-0000/)\n",
    "  * PEP 8: style guide and idiomatic Python\n",
    "  * PEP 20: zen of Python (`import this`)\n",
    "  * PEP 484: Type hints\n",
    "* Wikipedia: great resource for explanations of general computer science concepts\n",
    "* Books\n",
    "  * Learning Python by Mark Lutz\n",
    "  * Fluent Python by Luciano Ramalho\n",
    "  * Python Cookbook by David Beazley & Brian K. Jones\n",
    "  * Effective Python by Brett Slatkin\n",
    "  * Python in a Nutshell by Alex Martelli, Anna Ravenscroft & Steve Holden\n",
    "* Other online resources\n",
    "  * Raymond Hettinger's Twitter feed: @raymondh\n",
    "  * Youtube: PyCon, GvR, Raymond Hettinger, Alex Martelli...\n",
    "  * [Planet Python blog](https://planetpython.org/)\n",
    "  * Stack Overflow"
   ]
  },
  {
   "cell_type": "markdown",
   "metadata": {},
   "source": [
    "### Random seeds\n",
    "\n",
    "* `random.seed(a=None, version=2)`\n",
    "  * Initialize the random number generator.\n",
    "  * If `a` is omitted or `None`, the current system time is used. If randomness sources are provided by the operating system, they are used instead of the system time (`os.urandom()` function).\n",
    "  * If `a` is an `int`, it is used directly.\n",
    "  * With version 2 (the default), a `str`, `bytes`, or `bytearray` object gets converted to an `int` and all of its bits are used.\n",
    "  * With version 1 (provided for reproducing random sequences from older versions of Python), the algorithm for `str` and `bytes` generates a narrower range of seeds."
   ]
  },
  {
   "cell_type": "code",
   "execution_count": 113,
   "metadata": {},
   "outputs": [
    {
     "name": "stdout",
     "output_type": "stream",
     "text": [
      "[(0.8444218515250481, 7), (0.04048437818077755, 9), (0.48592769656281265, 5), (0.9677999949201714, 6), (0.5833820394550312, 4), (0.5046868558173903, 5), (0.1397457849666789, 2), (0.6183689966753316, 5), (0.9872592010330129, 9), (0.9827854760376531, 10)]\n",
      "[(0.8444218515250481, 7), (0.04048437818077755, 9), (0.48592769656281265, 5), (0.9677999949201714, 6), (0.5833820394550312, 4), (0.5046868558173903, 5), (0.1397457849666789, 2), (0.6183689966753316, 5), (0.9872592010330129, 9), (0.9827854760376531, 10)]\n",
      "[4, ['e', 'b', 'f', 'c', 'a', 'd'], -1.4471231264273658]\n",
      "[4, ['e', 'b', 'f', 'c', 'a', 'd'], -1.4471231264273658]\n"
     ]
    }
   ],
   "source": [
    "import random\n",
    "\n",
    "random.seed(0)\n",
    "print([(random.random(), random.randint(1, 10)) for _ in range(10)])\n",
    "random.seed(0) # need to set the seed every time to reset the index of the pseudo-random sequence\n",
    "print([(random.random(), random.randint(1, 10)) for _ in range(10)])\n",
    "\n",
    "def generate_random_stuff(seed=None):\n",
    "    random.seed(seed)\n",
    "\n",
    "    result = []\n",
    "    result.append(random.randint(1, 6))\n",
    "\n",
    "    characters = list('abcdef')\n",
    "    random.shuffle(characters)\n",
    "    result.append(characters)\n",
    "    result.append(random.gauss())\n",
    "\n",
    "    return result\n",
    "\n",
    "print(generate_random_stuff(0))\n",
    "print(generate_random_stuff(0))\n"
   ]
  },
  {
   "cell_type": "code",
   "execution_count": 114,
   "metadata": {},
   "outputs": [
    {
     "name": "stdout",
     "output_type": "stream",
     "text": [
      "{1: 998, 2: 1005, 3: 1009, 4: 1000, 5: 967, 6: 1021}\n",
      "Counter({6: 1021, 3: 1009, 2: 1005, 4: 1000, 1: 998, 5: 967})\n"
     ]
    }
   ],
   "source": [
    "import random\n",
    "\n",
    "def frequency_analysis(lst):\n",
    "    return {k: lst.count(k) for k in set(lst)}\n",
    "\n",
    "lst = [random.randint(1, 6) for _ in range(6000)]\n",
    "\n",
    "print(frequency_analysis(lst))\n",
    "\n",
    "from collections import Counter\n",
    "\n",
    "print(Counter(lst))"
   ]
  },
  {
   "cell_type": "markdown",
   "metadata": {},
   "source": [
    "### Random choices\n",
    "\n",
    "* `random.randrange(stop)`\n",
    "  * `random.randrange(start, stop[, step])`\n",
    "  * Return a randomly selected element from `range(start, stop, step)`.\n",
    "    * This is roughly equivalent to `choice(range(start, stop, step))` but supports arbitrarily large ranges and is optimized for common cases.\n",
    "      * The positional argument pattern matches the `range()` function.\n",
    "      * Keyword arguments should not be used because they can be interpreted in unexpected ways.\n",
    "* `random.randint(a, b)`\n",
    "  * Return a random integer N such that `a <= N <= b`. Alias for `randrange(a, b+1)`.\n",
    "* `random.choice(seq)`\n",
    "  * Return a random element from the non-empty sequence `seq`. If `seq` is empty, raises `IndexError`.\n",
    "* `random.choices(population, weights=None, *, cum_weights=None, k=1)`\n",
    "  * Return a `k` sized list of elements chosen from the `population` with replacement. If the `population` is empty, raises `IndexError`."
   ]
  },
  {
   "cell_type": "code",
   "execution_count": 115,
   "metadata": {},
   "outputs": [
    {
     "name": "stdout",
     "output_type": "stream",
     "text": [
      "[2, 4, 5]\n",
      "[6, 6, 4]\n",
      "[3, 6, 5]\n",
      "[5, 6, 2]\n",
      "[1, 6, 5]\n"
     ]
    }
   ],
   "source": [
    "import random\n",
    "\n",
    "lst = [1, 2, 3, 4, 5, 6] # 6 numbers of a dice\n",
    "print([random.choice(lst) for _ in range(3)]) # number combination of 3 dices\n",
    "print([random.choice(range(1, 7)) for _ in range(3)]) # same as above\n",
    "print(random.choices(range(1, 7), k=3)) # same as above\n",
    "print([random.randrange(1, 7) for _ in range(3)]) # same as above\n",
    "print([random.randint(1, 6) for _ in range(3)]) # same as above"
   ]
  },
  {
   "cell_type": "code",
   "execution_count": 116,
   "metadata": {},
   "outputs": [
    {
     "name": "stdout",
     "output_type": "stream",
     "text": [
      "frequency_count(choices('abc', k=10000))={'a': Frequency(count=3369, frequency=33.69), 'b': Frequency(count=3351, frequency=33.51), 'c': Frequency(count=3280, frequency=32.8)}\n",
      "frequency_count(choices('abc', (8, 1, 1), k=10000))={'a': Frequency(count=7984, frequency=79.84), 'b': Frequency(count=997, frequency=9.97), 'c': Frequency(count=1019, frequency=10.19)}\n"
     ]
    }
   ],
   "source": [
    "from collections import namedtuple\n",
    "from random import choices\n",
    "\n",
    "Frequency = namedtuple('Frequency', 'count frequency')\n",
    "\n",
    "def frequency_count(lst):\n",
    "    return {k: Frequency(count := lst.count(k), round(count / len(lst) * 100, 2)) # used walrus operator for count\n",
    "            for k in sorted(set(lst))}\n",
    "\n",
    "print(f'{frequency_count(choices('abc', k=10000))=}')\n",
    "print(f'{frequency_count(choices('abc', (8, 1, 1), k=10000))=}') # weighted choices"
   ]
  },
  {
   "cell_type": "code",
   "execution_count": 117,
   "metadata": {},
   "outputs": [
    {
     "name": "stdout",
     "output_type": "stream",
     "text": [
      "Average time elapsed (if): 1.1032467000186444e-07s\n",
      "Average time elapsed (try): 2.7834174999734385e-07s\n",
      "Average time elapsed (if): 1.4021780000184662e-07s\n",
      "Average time elapsed (try): 1.3588761999853887e-07s\n"
     ]
    }
   ],
   "source": [
    "# compare efficiency between if and try...except\n",
    "# the latter seems less efficient but to a very minor extent\n",
    "\n",
    "from time import perf_counter\n",
    "from random import choices, seed\n",
    "\n",
    "times = 10000000\n",
    "\n",
    "# unweighted choice\n",
    "seed(0)\n",
    "denominators = choices((0, 1), k = times)\n",
    "start = perf_counter()\n",
    "for d in denominators:\n",
    "    if d == 0:\n",
    "        continue\n",
    "    else:\n",
    "         1 / d\n",
    "end = perf_counter()\n",
    "print(f'Average time elapsed (if): {(end - start) / times}s')\n",
    "\n",
    "start = perf_counter()\n",
    "for d in denominators:\n",
    "    try:\n",
    "        1 / d\n",
    "    except ZeroDivisionError:\n",
    "        continue\n",
    "end = perf_counter()\n",
    "print(f'Average time elapsed (try): {(end - start) / times}s')\n",
    "\n",
    "# weighted choice\n",
    "seed(0)\n",
    "denominators = choices((0, 1), (1, 9), k = times)\n",
    "start = perf_counter()\n",
    "for d in denominators:\n",
    "    if d == 0:\n",
    "        continue\n",
    "    else:\n",
    "         1 / d\n",
    "end = perf_counter()\n",
    "print(f'Average time elapsed (if): {(end - start) / times}s')\n",
    "\n",
    "start = perf_counter()\n",
    "for d in denominators:\n",
    "    try:\n",
    "        1 / d\n",
    "    except ZeroDivisionError:\n",
    "        continue\n",
    "end = perf_counter()\n",
    "print(f'Average time elapsed (try): {(end - start) / times}s')"
   ]
  },
  {
   "cell_type": "markdown",
   "metadata": {},
   "source": [
    "### Random samples\n",
    "\n",
    "* `random.sample(population, k, *, counts=None)`\n",
    "  * Return a `k` length list of *unique* elements chosen from the population sequence. Used for random sampling *without replacement*.\n",
    "  * Returns a new list containing elements from the population while leaving the original population unchanged. The resulting list is in selection order so that all sub-slices will also be valid random samples. This allows raffle winners (the sample) to be partitioned into grand prize and second place winners (the subslices).\n",
    "  * Members of the population need not be hashable or unique. If the population contains repeats, then each occurrence is a possible selection in the sample.\n",
    "  * Repeated elements can be specified one at a time or with the optional keyword-only `counts` parameter. For example, `sample(['red', 'blue'], counts=[4, 2], k=5)` is equivalent to `sample(['red', 'red', 'red', 'red', 'blue', 'blue'], k=5)`.\n",
    "  * To choose a sample from a range of integers, use a `range()` object as an argument. This is especially fast and space efficient for sampling from a large population: `sample(range(10000000), k=60)`.\n",
    "  * If the sample size is larger than the population size, a `ValueError` is raised."
   ]
  },
  {
   "cell_type": "code",
   "execution_count": 118,
   "metadata": {},
   "outputs": [
    {
     "name": "stdout",
     "output_type": "stream",
     "text": [
      "['♠️2', '♠️3', '♠️4', '♠️5', '♠️6', '♠️7', '♠️8', '♠️9', '♠️10', '♠️J', '♠️Q', '♠️K', '♠️A', '♥️2', '♥️3', '♥️4', '♥️5', '♥️6', '♥️7', '♥️8', '♥️9', '♥️10', '♥️J', '♥️Q', '♥️K', '♥️A', '♦️2', '♦️3', '♦️4', '♦️5', '♦️6', '♦️7', '♦️8', '♦️9', '♦️10', '♦️J', '♦️Q', '♦️K', '♦️A', '♣️2', '♣️3', '♣️4', '♣️5', '♣️6', '♣️7', '♣️8', '♣️9', '♣️10', '♣️J', '♣️Q', '♣️K', '♣️A']\n",
      "Counter({'♣️10': 2, '♦️A': 2, '♥️7': 2, '♥️Q': 2, '♠️6': 1, '♦️5': 1, '♣️K': 1, '♦️10': 1, '♠️Q': 1, '♠️A': 1, '♦️4': 1, '♦️K': 1, '♣️7': 1, '♥️J': 1, '♦️2': 1, '♦️7': 1})\n",
      "Counter({'♣️4': 1, '♥️Q': 1, '♠️A': 1, '♠️7': 1, '♥️3': 1, '♦️7': 1, '♣️9': 1, '♥️J': 1, '♠️K': 1, '♦️3': 1, '♥️A': 1, '♥️8': 1, '♥️5': 1, '♦️9': 1, '♣️Q': 1, '♣️3': 1, '♣️5': 1, '♣️A': 1, '♣️6': 1, '♠️4': 1})\n"
     ]
    }
   ],
   "source": [
    "from collections import Counter\n",
    "from random import choices, sample\n",
    "\n",
    "# suits = tuple('♠️♥️♦️♣️') # returns ('♠', '️', '♥', '️', '♦', '️', '♣', '️'), not what expected\n",
    "suits = '♠️', '♥️', '♦️', '♣️'\n",
    "ranks = tuple(map(str, range(2, 11))) + tuple('JQKA')\n",
    "deck = [suit + rank for suit in suits for rank in ranks]\n",
    "print(list(deck))\n",
    "print(Counter(choices(deck, k=20)))\n",
    "print(Counter(sample(deck, 20))) # no repeats"
   ]
  },
  {
   "cell_type": "markdown",
   "metadata": {},
   "source": [
    "### Timing code using `timeit`\n",
    "\n",
    "* `timeit` module provides a simple way to time small bits of Python code.\n",
    "* It has both a Command-Line Interface as well as a callable one.\n",
    "* It avoids a number of common traps for measuring execution times.\n",
    "* `timeit.timeit(stmt='pass', setup='pass', timer=<default timer>, number=1000000, globals=None)`\n",
    "  * Create a `Timer` instance with the given statement, `setup` code and `timer` function and run its `timeit()` method with number executions. The optional globals argument specifies a namespace in which to execute the code."
   ]
  },
  {
   "cell_type": "code",
   "execution_count": 119,
   "metadata": {},
   "outputs": [
    {
     "name": "stdout",
     "output_type": "stream",
     "text": [
      "timeit(stmt='import math;math.sqrt(2)')=0.23970949999056756\n",
      "timeit(stmt='math.sqrt(2)', setup='import math')=0.12231669999891892\n",
      "timeit(stmt='sqrt(2)', setup='from math import sqrt')=0.1600359000149183\n",
      "timeit(stmt='pow(2, 0.5)', setup='from math import pow')=0.21414910000748932\n",
      "timeit(stmt='2 ** 0.5')=0.02602450002450496\n",
      "timeit(stmt='math.sqrt(2)', globals=globals())=0.1747891999548301\n"
     ]
    }
   ],
   "source": [
    "from timeit import timeit\n",
    "\n",
    "\n",
    "print(f'{timeit(stmt='import math;math.sqrt(2)')=}') # bad way, not only less readable, but also unnecessary execution of the import statement\n",
    "# print(f'{timeit(stmt='import math\\nmath.sqrt(2)')=}') # has the same effect as above\n",
    "print(f'{timeit(stmt='math.sqrt(2)', setup='import math')=}')\n",
    "print(f'{timeit(stmt='sqrt(2)', setup='from math import sqrt')=}')\n",
    "print(f'{timeit(stmt='pow(2, 0.5)', setup='from math import pow')=}')\n",
    "print(f'{timeit(stmt='2 ** 0.5')=}')\n",
    "\n",
    "import math\n",
    "print(f'{timeit(stmt='math.sqrt(2)', globals=globals())=}')"
   ]
  },
  {
   "cell_type": "markdown",
   "metadata": {},
   "source": [
    "### Don't use `*args` and `**kwargs` names blindly\n",
    "\n",
    "* Always using `*args` and `**kwargs` may miss an opportunity for better conveying the purpose of the arguments.\n",
    "* Descriptive names improve code readability and adhere to Python conventions."
   ]
  },
  {
   "cell_type": "code",
   "execution_count": 120,
   "metadata": {},
   "outputs": [
    {
     "name": "stdout",
     "output_type": "stream",
     "text": [
      "{'name': 'Polly', 'age': 20, 'status': 'stiff', 'vooms': False}\n",
      "{'name': 'Palin', 'age': 42, 'role': 'shopkeeper', 'crooked': True}\n"
     ]
    }
   ],
   "source": [
    "class Person:\n",
    "    def __init__(self, name, age, **custom_attrs): # use descriptive names instead of **kwargs to improve code readability\n",
    "        self.name = name\n",
    "        self.age = age\n",
    "        for attr_name, attr_value in custom_attrs.items():\n",
    "            setattr(self, attr_name, attr_value)\n",
    "\n",
    "parrot = Person('Polly', 20, status='stiff', vooms=False)\n",
    "print(vars(parrot))\n",
    "michael = Person('Palin', 42, role='shopkeeper', crooked=True)\n",
    "print(vars(michael))"
   ]
  },
  {
   "cell_type": "markdown",
   "metadata": {},
   "source": [
    "### Using the Python interpreter\n",
    "\n",
    "Invoking the interpreter\n",
    "\n",
    "* The Python interpreter is usually installed as `/usr/local/bin/python3.12` on those machines where it is available; putting `/usr/local/bin` in your Unix shell’s search path makes it possible to start it by typing the command: `python3.12`\n",
    "* On Windows machines where you have installed Python from the Microsoft Store, the `python3.12` command will be available. If you have the py.exe launcher installed, you can use the `py` command.\n",
    "  * On the first page of the installer, an option labelled \"Add Python to PATH\" may be selected to have the installer add the install location into the PATH. The location of the `Scripts\\` folder is also added. This allows you to type `python` to run the interpreter, and `pip` for the package installer (alternatively, with Python launcher, you can use the command `py [-specific_python_version] -m pip install <package_name>`). Thus, you can also execute your scripts with command line options, see [Command line](https://docs.python.org/3/using/cmdline.html#command-line) documentation.\n",
    "  * If you don’t enable this option at install time, you can always re-run the installer, select Modify, and enable it. Alternatively, you can manually modify the PATH using the directions in [Excursus: Setting environment variables](https://docs.python.org/3/using/windows.html#setting-envvars).\n",
    "* To run Python conveniently from a command prompt, you might consider changing some default environment variables in Windows. While the installer provides an option to configure the PATH and PATHEXT variables for you, this is only reliable for a single, system-wide installation. If you regularly use multiple versions of Python, consider using the *Python Launcher* for Windows.\n",
    "  * The Python launcher for Windows is a utility which aids in locating and executing of different Python versions. It allows scripts (or the command-line) to indicate a preference for a specific Python version, and will locate and execute that version.\n",
    "  * Unlike the PATH variable, the launcher will correctly select the most appropriate version of Python. It will prefer per-user installations over system-wide ones, and orders by language version rather than using the most recently installed version.\n",
    "  * To check that the launcher is available, execute the following command in Command Prompt: `py`\n",
    "  * You should find that the latest version of Python you have installed is started -- it can be exited as normal, and any additional command-line arguments specified will be sent directly to Python.\n",
    "  * If you have multiple versions of Python installed (e.g., 3.7 and 3.12) you will have noticed that Python 3.12 was started -- to launch Python 3.7, try the command: `py -3.7`\n",
    "  * The command: `py --list` displays the currently installed version(s) of Python.\n",
    "  * The `-x.y` argument is the short form of the `-V:Company/Tag` argument, which allows selecting a specific Python runtime, including those that may have come from somewhere other than python.org.\n",
    "    * `py -V:3`: select any '3.*' tagged runtime\n",
    "    * `py -V:PythonCore/`: select any 'PythonCore' released runtime\n",
    "    * `py -V:PythonCore/3`: select PythonCore's latest Python 3 runtime\n",
    "    * The short form of the argument (`-3`) only ever selects from core Python releases, and not other distributions. However, the longer form (`-V:3`) will select from any.\n",
    "    * The Company is matched on the full string, case-insenitive. The Tag is matched on either the full string, or a prefix, provided the next character is a dot or a hyphen.\n",
    "* Typing an end-of-file character (Control-D on Unix, Control-Z on Windows) at the primary prompt causes the interpreter to exit with a zero exit status. If that doesn’t work, you can exit the interpreter by typing the following command: `quit()`.\n",
    "* A second way of starting the interpreter is `python -c command [arg] ...` (Python launcher works the same way), which executes the statement(s) in `command`, analogous to the shell’s `-c` option. Since Python statements often contain spaces or other characters that are special to the shell, it is usually advised to quote command in its entirety.\n",
    "* Some Python *modules* are also useful as *scripts*. These can be invoked using `python -m module [arg] ...`, which executes the source file for module as if you had spelled out its full name on the command line.\n",
    "* When a script file is used, it is sometimes useful to be able to run the script and enter interactive mode afterwards. This can be done by passing `-i` before the script.\n",
    "* All command line options are described in [Command line and environment](https://docs.python.org/3/using/cmdline.html#command-line-and-environment).\n",
    "\n",
    "Command line\n",
    "\n",
    "* When invoking Python, you may specify any of these options: `python [-bBdEhiIOqsSuvVWx?] [-c command | -m module-name | script | - ] [args]`\n",
    "\n",
    "Interface options\n",
    "\n",
    "* The interpreter interface provides some additional methods of invocation:\n",
    "  * When called with standard input connected to a tty device, it prompts for commands and executes them until an EOF (an end-of-file character, you can produce that with Ctrl-D on UNIX or Ctrl-Z, Enter on Windows) is read.\n",
    "  * When called with a file name argument or with a file as standard input, it reads and executes a script from that file.\n",
    "  * When called with a directory name argument, it reads and executes an *appropriately named script* from that directory.\n",
    "  * When called with `-c command`, it executes the Python statement(s) given as `command`. Here `command` may contain multiple statements separated by *newlines* (`;` seems work too), with significant leading whitespace as in normal module code.\n",
    "  * When called with `-m module-name`, the given module is located on the Python module path and executed as a script.\n",
    "* In non-interactive mode, the entire input is parsed before it is executed.\n",
    "* An interface option terminates the list of options consumed by the interpreter, all consecutive arguments will end up in `sys.argv`.\n",
    "  * The first element, subscript zero (`sys.argv[0]`), is a string reflecting the program’s source.\n",
    "  * The length of the list is at least one; when no script and no arguments are given, `sys.argv[0]` is an empty string.\n",
    "  * When the script name is given as `'-'` (meaning standard input), `sys.argv[0]` is set to `'-'`. When `-c` command is used, `sys.argv[0]` is set to `'-c'`. When `-m` module is used, `sys.argv[0]` is set to the *full name* of the located module.\n",
    "  * Options found after `-c` command or `-m` module are not consumed by the Python interpreter’s option processing but left in `sys.argv` for the command or module to handle.\n",
    "* `-c <command>`\n",
    "  * If this option is given, the current directory will be added to the start of `sys.path` (allowing modules in that directory to be imported as top level modules).\n",
    "* `-m <module-name>`\n",
    "  * Search `sys.path` for the named module and execute its contents as the `__main__` module.\n",
    "  * Since the argument is a module name, you must not give a file extension (`.py`). The module name should be a valid absolute Python module name, but the implementation may not always enforce this (e.g. it may allow you to use a name that includes a hyphen).\n",
    "  * Package names (including namespace packages) are also permitted. When a package name is supplied instead of a normal module, the interpreter will execute `<pkg>.__main__` as the main module.\n",
    "  * This option cannot be used with built-in modules and extension modules written in C, since they do not have Python module files. However, it can still be used for precompiled modules, even if the original source file is not available.\n",
    "  * If this option is given, the first element of `sys.argv` will be the full path to the module file (while the module file is being located, the first element will be set to `'-m'`). As with the `-c` option, the current directory will be added to the start of `sys.path`.\n",
    "  * `-I` option can be used to run the script in isolated mode where `sys.path` contains neither the current directory nor the user’s site-packages directory. All `PYTHON*` environment variables are ignored, too.\n",
    "  * Many standard library modules contain code that is invoked on their execution as a script.\n",
    "* `-`\n",
    "  * Read commands from standard input (`sys.stdin`). If standard input is a terminal, `-i` is implied.\n",
    "  * If this option is given, the first element of `sys.argv` will be `'-'` and the current directory will be added to the start of `sys.path`.\n",
    "* `<script>`\n",
    "  * Execute the Python code contained in `script`, which must be a filesystem path (absolute or relative) referring to either a Python file, a directory containing a `__main__.py` file, or a zipfile containing a `__main__.py` file.\n",
    "  * If this option is given, the first element of `sys.argv` will be the *script name* as given on the command line.\n",
    "  * If the script name refers directly to a Python file, the *directory* containing that file is added to the start of `sys.path`, and the file is executed as the `__main__` module.\n",
    "  * If the script name refers to a directory or zipfile, the script name is added to the start of `sys.path` and the `__main__.py` file in that location is executed as the `__main__` module.\n",
    "  * `-I` option can be used to run the script in isolated mode.\n",
    "* If no interface option is given, `-i` is implied, `sys.argv[0]` is an empty string (`''`) and the current directory will be added to the start of `sys.path`.\n",
    "\n",
    "Generic options\n",
    "\n",
    "* `-?`, `-h`, `--help`\n",
    "  * Print a short description of all command line options and corresponding environment variables and exit.\n",
    "* `--help-env`\n",
    "  * Print a short description of Python-specific environment variables and exit.\n",
    "* `--help-xoptions`\n",
    "  * Print a description of implementation-specific `-X` options and exit.\n",
    "* `--help-all`\n",
    "  * Print complete usage information and exit.\n",
    "* `-V`, `--version`\n",
    "  * Print the Python version number and exit.\n",
    "  * When given twice (`-VV`), print more information about the build.\n",
    "\n",
    "Miscellaneous options\n",
    "\n",
    "* `-i`\n",
    "  * When a script is passed as first argument or the `-c` option is used, enter interactive mode after executing the script or the command, even when `sys.stdin` does not appear to be a terminal. The `PYTHONSTARTUP` file is not read.\n",
    "  * This can be useful to inspect global variables or a stack trace when a script raises an exception.\n",
    "* `-d`\n",
    "  * Turn on parser debugging output (for expert only).\n",
    "  * This option requires a [debug build of Python](https://docs.python.org/3/using/configure.html#debug-build), otherwise it’s ignored.\n",
    "\n",
    "Interactive mode\n",
    "\n",
    "* When commands are read from a tty, the interpreter is said to be in interactive mode. In this mode it prompts for the next command with the *primary prompt*, usually three greater-than signs (`>>>`); for continuation lines it prompts with the *secondary prompt*, by default three dots (`...`). The interpreter prints a welcome message stating its version number and a copyright notice before printing the first prompt.\n",
    "* Continuation lines are needed when entering a multi-line construct.\n",
    "\n",
    "Source code encoding\n",
    "\n",
    "* By default, Python source files are treated as encoded in UTF-8.\n",
    "* In that encoding, characters of most languages in the world can be used simultaneously in *string literals*, *identifiers* and *comments* -- although the standard library only uses *ASCII characters* for identifiers, a convention that any portable code should follow. To display all these characters properly, your editor must recognize that the file is UTF-8, and it must use a font that supports all the characters in the file.\n",
    "* To declare an encoding other than the default one, a special *comment line* should be added as the first line of the file. The syntax is as follows: `# -*- coding: encoding -*-`\n",
    "* One exception to the first line rule is when the source code starts with a UNIX \"shebang\" line. In this case, the encoding declaration should be added as the second line of the file.\n",
    "  * On BSD’ish Unix systems, Python scripts can be made directly executable, like shell scripts, by putting the line `#!/usr/bin/env python3.5` at the beginning of the script and giving the file an executable mode.\n",
    "  * The `#!` must be the first two characters of the file. On some platforms, this first line must end with a Unix-style line ending (`'\\n'`), not a Windows (`'\\r\\n'`) line ending.\n",
    "  * On Windows systems, there is no notion of an \"executable mode\". The Python installer automatically associates `.py` files with python.exe so that a double-click on a Python file will run it as a script. The extension can also be `.pyw`, in that case, the console window that normally appears is suppressed."
   ]
  },
  {
   "cell_type": "markdown",
   "metadata": {},
   "source": [
    "### `argparse`\n",
    "\n",
    "* The [`argparse` module](https://docs.python.org/3/library/argparse.html) makes it easy to write user-friendly command-line interfaces. The program defines what arguments it requires, and `argparse` will figure out how to parse those out of `sys.argv`. The `argparse` module also automatically generates help and usage messages. The module will also issue errors when users give the program invalid arguments.\n",
    "* The `argparse` module’s support for command-line interfaces is built around an instance of `argparse.ArgumentParser`. It is a container for argument specifications and has options that apply to the parser as whole.\n",
    "* The `ArgumentParser.add_argument()` method attaches individual argument specifications to the parser. It supports positional arguments, options that accept values, and on/off flags:\n",
    "    ```Python\n",
    "    parser.add_argument('filename')           # positional argument\n",
    "    parser.add_argument('-c', '--count')      # option that takes a value\n",
    "    parser.add_argument('-v', '--verbose',\n",
    "                        action='store_true')  # on/off flag\n",
    "    ```\n",
    "* The `ArgumentParser.parse_args()` method runs the parser and places the extracted data in a `argparse.Namespace` object:\n",
    "    ```Python\n",
    "    args = parser.parse_args()\n",
    "    print(args.filename, args.count, args.verbose)\n",
    "    ```\n",
    "\n",
    "Creating a parser\n",
    "\n",
    "* The first step in using the argparse is creating an `ArgumentParser` object:\n",
    "    ```Python\n",
    "    parser = argparse.ArgumentParser(description='Process some integers.')\n",
    "    ```\n",
    "    * The `ArgumentParser` object will hold all the information necessary to parse the command line into Python data types.\n",
    "\n",
    "Adding arguments\n",
    "\n",
    "* Filling an `ArgumentParser` with information about program arguments is done by making calls to the `add_argument()` method.\n",
    "* Generally, these calls tell the `ArgumentParser` how to take the strings on the command line and turn them into objects. This information is stored and used when `parse_args()` is called.\n",
    "    ```Python\n",
    "    parser.add_argument('integers', metavar='N', type=int, nargs='+',\n",
    "                        help='an integer for the accumulator')\n",
    "    parser.add_argument('--sum', dest='accumulate', action='store_const',\n",
    "                        const=sum, default=max,\n",
    "                        help='sum the integers (default: find the max)')\n",
    "    ```\n",
    "  * Later, calling `parse_args()` will return an object with two attributes, `integers` and `accumulate`. The `integers` attribute will be a list of one or more integers, and the `accumulate` attribute will be either the `sum()` function, if `--sum` was specified at the command line, or the `max()` function if it was not.\n",
    "\n",
    "Parsing arguments\n",
    "\n",
    "* ArgumentParser parses arguments through the `parse_args()` method. This will inspect the command line, convert each argument to the appropriate type and then invoke the appropriate action. In most cases, this means a simple `Namespace` object will be built up from attributes parsed out of the command line:\n",
    "    ```Python\n",
    "    parser.parse_args(['--sum', '7', '-1', '42'])\n",
    "    # Namespace(accumulate=<built-in function sum>, integers=[7, -1, 42])\n",
    "    ```\n",
    "  * In a script, `parse_args()` will typically be called with no arguments, and the `ArgumentParser` will automatically determine the command-line arguments from `sys.argv`."
   ]
  },
  {
   "cell_type": "markdown",
   "metadata": {},
   "source": [
    "### Sentinel values for parameter defaults\n",
    "\n",
    "* Often we specify the default value for a function parameter as `None`. This allows to determine if the user specified an argument for the parameter or not.\n",
    "* But there's a potential issue if we need to differentiate between the following:\n",
    "  * a `None` value is provided for the argument\n",
    "  * the argument is not provided at all\n",
    "* In Python, sentinel values for parameter defaults in functions are often used to distinguish between the absence of an argument and a deliberately provided default.\n",
    "  * A sentinel value is a unique value signaling a specific condition, such as `None` or a custom sentinel object.\n",
    "  * Python allows using sentinel values in type hints, improving parameter clarity."
   ]
  },
  {
   "cell_type": "code",
   "execution_count": 121,
   "metadata": {},
   "outputs": [
    {
     "name": "stdout",
     "output_type": "stream",
     "text": [
      "argument was NOT provided\n",
      "argument was provided\n",
      "argument was NOT provided\n"
     ]
    }
   ],
   "source": [
    "def validate(arg=None):\n",
    "    if arg is None:\n",
    "        print('argument was NOT provided')\n",
    "    else:\n",
    "        print('argument was provided')\n",
    "\n",
    "validate()\n",
    "validate(1)\n",
    "validate(None) # failed to differentiate"
   ]
  },
  {
   "cell_type": "code",
   "execution_count": 122,
   "metadata": {},
   "outputs": [
    {
     "name": "stdout",
     "output_type": "stream",
     "text": [
      "argument was NOT provided\n",
      "argument was provided\n",
      "argument was provided\n"
     ]
    }
   ],
   "source": [
    "_sentinel = object()\n",
    "\n",
    "def validate(arg=_sentinel):\n",
    "    if arg is _sentinel:\n",
    "        print('argument was NOT provided')\n",
    "    else:\n",
    "        print('argument was provided')\n",
    "\n",
    "validate()\n",
    "validate(1)\n",
    "validate(None) # failed to differentiate"
   ]
  },
  {
   "cell_type": "code",
   "execution_count": 123,
   "metadata": {},
   "outputs": [
    {
     "name": "stdout",
     "output_type": "stream",
     "text": [
      "argument was NOT provided\n",
      "argument was provided\n",
      "argument was None\n"
     ]
    }
   ],
   "source": [
    "class UnusedParam:\n",
    "    pass\n",
    "\n",
    "_sentinel = UnusedParam()\n",
    "\n",
    "def validate(id: int | None | UnusedParam = _sentinel):\n",
    "    if id is _sentinel:\n",
    "        print('argument was NOT provided')\n",
    "    elif id is None:\n",
    "        print('argument was None')\n",
    "    else:\n",
    "        print('argument was provided')\n",
    "\n",
    "validate() # not provided\n",
    "validate(1) # provided\n",
    "validate(None) # provided None"
   ]
  },
  {
   "cell_type": "code",
   "execution_count": 124,
   "metadata": {},
   "outputs": [
    {
     "name": "stdout",
     "output_type": "stream",
     "text": [
      "False\n",
      "False\n",
      "argument a was NOT provided\n",
      "argument b was NOT provided\n",
      "argument kw was NOT provided\n",
      "False\n",
      "False\n",
      "argument a was provided\n",
      "argument b was NOT provided\n",
      "argument kw was provided\n",
      "False\n",
      "False\n",
      "argument a was NOT provided\n",
      "argument b was provided\n",
      "argument kw was provided\n"
     ]
    }
   ],
   "source": [
    "def validate(a=object(), b=object(), *, kw=object()):\n",
    "    default_a = validate.__defaults__[0]\n",
    "    default_b = validate.__defaults__[1]\n",
    "    default_kw = validate.__kwdefaults__['kw']\n",
    "\n",
    "    print(default_a is default_b)\n",
    "    print(default_b is default_kw)\n",
    "\n",
    "    if a is default_a:\n",
    "        print('argument a was NOT provided')\n",
    "    else:\n",
    "        print('argument a was provided')\n",
    "\n",
    "    if b is default_b:\n",
    "        print('argument b was NOT provided')\n",
    "    else:\n",
    "        print('argument b was provided')\n",
    "\n",
    "    if kw is default_kw:\n",
    "        print('argument kw was NOT provided')\n",
    "    else:\n",
    "        print('argument kw was provided')\n",
    "\n",
    "validate()\n",
    "validate(object(), kw=None)\n",
    "validate(b=object(), kw=1)"
   ]
  },
  {
   "cell_type": "markdown",
   "metadata": {},
   "source": [
    "### Different ways of simulating switch statements in Python\n",
    "\n",
    "* Until version 3.10, Python never had a feature that implemented what the switch statement does in other programming languages.\n",
    "* From version 3.10 upwards, Python has implemented a switch case feature called \"structural pattern matching\" with the `match` and `case` keywords.\n",
    "  * Both `match` and `case` are considered \"soft\" keywords, functioning exclusively within the context of a `match` statement.\n",
    "* Methods to implement switch case in Python\n",
    "  * `if...elif` expressions\n",
    "  * Dictionary mapping\n",
    "  * Using class\n",
    "  * Using single dispatch decorators"
   ]
  },
  {
   "cell_type": "code",
   "execution_count": 125,
   "metadata": {},
   "outputs": [
    {
     "name": "stdout",
     "output_type": "stream",
     "text": [
      "Monday\n",
      "Wednesday\n",
      "Thursday\n",
      "Sunday\n",
      "Invalid day of week\n"
     ]
    }
   ],
   "source": [
    "# if...elif\n",
    "\n",
    "def dow_switch_if(dow):\n",
    "    if dow == 1:\n",
    "        weekday = 'Monday'\n",
    "    elif dow == 2:\n",
    "        weekday = 'Tuesday'\n",
    "    elif dow == 3:\n",
    "        weekday = 'Wednesday'\n",
    "    elif dow == 4:\n",
    "        weekday = 'Thursday'\n",
    "    elif dow == 5:\n",
    "        weekday = 'Friday'\n",
    "    elif dow == 6:\n",
    "        weekday = 'Saturday'\n",
    "    elif dow == 7:\n",
    "        weekday = 'Sunday'\n",
    "    else:\n",
    "        weekday = 'Invalid day of week'\n",
    "    return weekday\n",
    "\n",
    "print(f'{dow_switch_if(1)}')\n",
    "print(f'{dow_switch_if(3)}')\n",
    "print(f'{dow_switch_if(4)}')\n",
    "print(f'{dow_switch_if(7)}')\n",
    "print(f'{dow_switch_if(8)}')"
   ]
  },
  {
   "cell_type": "code",
   "execution_count": 126,
   "metadata": {},
   "outputs": [
    {
     "name": "stdout",
     "output_type": "stream",
     "text": [
      "Tuesday\n",
      "Wednesday\n",
      "Friday\n",
      "Saturday\n",
      "Invalid day of week\n"
     ]
    }
   ],
   "source": [
    "# dictionary mapping\n",
    "\n",
    "def dow_switch_dict(dow):\n",
    "    dow_dict = {\n",
    "        1: 'Monday',\n",
    "        2: 'Tuesday',\n",
    "        3: 'Wednesday',\n",
    "        4: 'Thursday',\n",
    "        5: 'Friday',\n",
    "        6: 'Saturday',\n",
    "        7: 'Sunday',\n",
    "        'default': 'Invalid day of week'\n",
    "    }\n",
    "\n",
    "    return dow_dict.get(dow, dow_dict['default'])\n",
    "\n",
    "print(f'{dow_switch_dict(2)}')\n",
    "print(f'{dow_switch_dict(3)}')\n",
    "print(f'{dow_switch_dict(5)}')\n",
    "print(f'{dow_switch_dict(6)}')\n",
    "print(f'{dow_switch_dict(8)}')"
   ]
  },
  {
   "cell_type": "code",
   "execution_count": 127,
   "metadata": {},
   "outputs": [
    {
     "name": "stdout",
     "output_type": "stream",
     "text": [
      "Monday\n",
      "Wednesday\n",
      "Thursday\n",
      "Sunday\n",
      "Invalid day of week\n"
     ]
    }
   ],
   "source": [
    "# class\n",
    "\n",
    "class DowSwitch:\n",
    "    def __call__(self, dow):\n",
    "        default = 'Invalid day of week'\n",
    "        return getattr(self, f'case_{dow}', lambda : default)()\n",
    "    \n",
    "    def case_1(self):\n",
    "        return 'Monday'\n",
    "    \n",
    "    def case_2(self):\n",
    "        return 'Tuesday'\n",
    "    \n",
    "    def case_3(self):\n",
    "        return 'Wednesday'\n",
    "\n",
    "    def case_4(self):\n",
    "        return 'Thursday'\n",
    "    \n",
    "    def case_5(self):\n",
    "        return 'Friday'\n",
    "    \n",
    "    def case_6(self):\n",
    "        return 'Saturday'\n",
    "    \n",
    "    def case_7(self):\n",
    "        return 'Sunday'\n",
    "    \n",
    "dow_switch = DowSwitch()\n",
    "print(dow_switch(1))\n",
    "print(dow_switch(3))\n",
    "print(dow_switch(4))\n",
    "print(dow_switch(7))\n",
    "print(dow_switch(12))"
   ]
  },
  {
   "cell_type": "code",
   "execution_count": 128,
   "metadata": {},
   "outputs": [
    {
     "name": "stdout",
     "output_type": "stream",
     "text": [
      "Monday\n",
      "Tuesday\n",
      "Thursday\n",
      "Sunday\n",
      "Invalid day of week\n"
     ]
    }
   ],
   "source": [
    "# single dispatch decorators\n",
    "\n",
    "def switcher(fn):\n",
    "    registry = {}\n",
    "    registry['default'] = fn # default case function\n",
    "\n",
    "    def switch(case):\n",
    "        return registry.get(case, registry['default'])()\n",
    "\n",
    "    def case_register(case):\n",
    "        def inner(fn):\n",
    "            registry[case] = fn\n",
    "        return inner\n",
    "\n",
    "    switch.case_register = case_register\n",
    "\n",
    "    return switch\n",
    "\n",
    "@switcher # single dispatch decorator\n",
    "def dow():\n",
    "    return 'Invalid day of week'\n",
    "\n",
    "@dow.case_register(1) # register functions by case value\n",
    "def case_1():\n",
    "    return 'Monday'\n",
    "\n",
    "# dow.case_register(1)(lambda: 'Monday') # same as above\n",
    "\n",
    "dow.case_register(2)(lambda: 'Tuesday')\n",
    "dow.case_register(3)(lambda: 'Wednesday')\n",
    "dow.case_register(4)(lambda: 'Thursday')\n",
    "dow.case_register(5)(lambda: 'Friday')\n",
    "dow.case_register(6)(lambda: 'Saturday')\n",
    "dow.case_register(7)(lambda: 'Sunday')\n",
    "\n",
    "print(dow_switch(1))\n",
    "print(dow_switch(2))\n",
    "print(dow_switch(4))\n",
    "print(dow_switch(7))\n",
    "print(dow_switch(100))"
   ]
  }
 ],
 "metadata": {
  "kernelspec": {
   "display_name": "Python 3",
   "language": "python",
   "name": "python3"
  },
  "language_info": {
   "codemirror_mode": {
    "name": "ipython",
    "version": 3
   },
   "file_extension": ".py",
   "mimetype": "text/x-python",
   "name": "python",
   "nbconvert_exporter": "python",
   "pygments_lexer": "ipython3",
   "version": "3.12.1"
  }
 },
 "nbformat": 4,
 "nbformat_minor": 2
}
