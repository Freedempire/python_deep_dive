{
 "cells": [
  {
   "cell_type": "markdown",
   "metadata": {},
   "source": [
    "# Python Deep Dive Part 1 - Functional"
   ]
  },
  {
   "cell_type": "markdown",
   "metadata": {},
   "source": [
    "## Overview\n",
    "\n",
    "It's about the Python language, built-in types, the standard library, and idiomatic Python.\n",
    "\n",
    "Read the Zen of Python:"
   ]
  },
  {
   "cell_type": "code",
   "execution_count": 1,
   "metadata": {},
   "outputs": [
    {
     "name": "stdout",
     "output_type": "stream",
     "text": [
      "The Zen of Python, by Tim Peters\n",
      "\n",
      "Beautiful is better than ugly.\n",
      "Explicit is better than implicit.\n",
      "Simple is better than complex.\n",
      "Complex is better than complicated.\n",
      "Flat is better than nested.\n",
      "Sparse is better than dense.\n",
      "Readability counts.\n",
      "Special cases aren't special enough to break the rules.\n",
      "Although practicality beats purity.\n",
      "Errors should never pass silently.\n",
      "Unless explicitly silenced.\n",
      "In the face of ambiguity, refuse the temptation to guess.\n",
      "There should be one-- and preferably only one --obvious way to do it.\n",
      "Although that way may not be obvious at first unless you're Dutch.\n",
      "Now is better than never.\n",
      "Although never is often better than *right* now.\n",
      "If the implementation is hard to explain, it's a bad idea.\n",
      "If the implementation is easy to explain, it may be a good idea.\n",
      "Namespaces are one honking great idea -- let's do more of those!\n"
     ]
    }
   ],
   "source": [
    "import this"
   ]
  },
  {
   "cell_type": "markdown",
   "metadata": {},
   "source": [
    "## Basics review"
   ]
  },
  {
   "cell_type": "markdown",
   "metadata": {},
   "source": [
    "### The Python type hierarchy\n",
    "\n",
    "* Numbers\n",
    "  * Integral\n",
    "    * Integers\n",
    "    * Booleans\n",
    "  * Non-integral\n",
    "    * Floats\n",
    "    * Decimals\n",
    "    * Complex\n",
    "    * Fractions\n",
    "* Collections\n",
    "  * Sequences\n",
    "    * Mutable\n",
    "      * Lists\n",
    "    * Immutable\n",
    "      * Tuples\n",
    "      * Strings\n",
    "  * Sets\n",
    "    * Mutable\n",
    "      * Sets\n",
    "    * Immutable\n",
    "      * Frozen sets\n",
    "  * Mappings\n",
    "    * Dictionaries\n",
    "* Callables\n",
    "  * User-defined functions\n",
    "  * Generators\n",
    "  * Classes\n",
    "  * Instance methods\n",
    "  * Class instances (`__call__()`)\n",
    "  * Built-in functions (e.g. `len`, `open`)\n",
    "  * Built-in methods (e.g. `my_list.append`)\n",
    "* Singletons\n",
    "  * `None`\n",
    "  * `NotImplemented`\n",
    "  * `Ellipsis` (same as the ellipsis literal `...`)"
   ]
  },
  {
   "cell_type": "markdown",
   "metadata": {},
   "source": [
    "### Multi-line statements and strings\n",
    "\n",
    "A Python program is nothing more than a text file that contains physical lines of code. The code is parsed by Python compiler and it combines certain lines and make up logical lines of code.\n",
    "\n",
    "There is a difference between a physical newline character and a logical newline token. Sometimes physical newlines are ignored in order to combine multiple physical lines into a single logical line of code terminated by a logical newline token. It allows us to write code over multiple lines that technically should be written as a single line for readability.\n",
    "\n",
    "The conversion between physical and logical newlines can be done implicitly or explicitly.\n",
    "\n",
    "* Implicit line breaks, supports inline comments\n",
    "  * List literals: []\n",
    "  * Tuple literals: ()\n",
    "  * Dictionary literals: {}\n",
    "  * Set literals: {}\n",
    "  * Function arguments / parameters"
   ]
  },
  {
   "cell_type": "code",
   "execution_count": 2,
   "metadata": {},
   "outputs": [
    {
     "name": "stdout",
     "output_type": "stream",
     "text": [
      "[1, 2, 3]\n",
      "10 20\n"
     ]
    }
   ],
   "source": [
    "my_list = [\n",
    "    1, # item 1\n",
    "    2, # item 2\n",
    "    3, # item 3\n",
    "]\n",
    "\n",
    "def my_func(\n",
    "    a,\n",
    "    b, # comment\n",
    "):\n",
    "    print(a, b)\n",
    "\n",
    "print(my_list)\n",
    "my_func(10, #comment\n",
    "        20)"
   ]
  },
  {
   "cell_type": "markdown",
   "metadata": {},
   "source": [
    "* Explicit line break, doesn't support inline comments\n",
    "  * You can break up statements over multiple lines explicitly by using `\\`.\n",
    "  * Multiline statements are not implicitly converted to a single logical line."
   ]
  },
  {
   "cell_type": "code",
   "execution_count": 3,
   "metadata": {},
   "outputs": [
    {
     "name": "stdout",
     "output_type": "stream",
     "text": [
      "yes\n"
     ]
    }
   ],
   "source": [
    "a = 1\n",
    "b = 2\n",
    "c = 3\n",
    "if a < b \\\n",
    "    and b < c \\\n",
    "    and a < c:\n",
    "    print('yes')"
   ]
  },
  {
   "cell_type": "markdown",
   "metadata": {},
   "source": [
    "* Multiline string literals\n",
    "  * Multiline string literals can be created using triple delimiters (`'''` or `\"\"\"`).\n",
    "  * Non-visible characters such as newlines, tabs, etc. are actually part of the string.\n",
    "  * A multiline string is just a regular string.\n",
    "  * They are not comments, although they can be used as such, especially with *docstrings*."
   ]
  },
  {
   "cell_type": "markdown",
   "metadata": {},
   "source": [
    "### Variable names\n",
    "\n",
    "Identifier names are case-sensitive and must follow certain rules:\n",
    "\n",
    "* Must start with underscore (`_`) or letter, followed by any number of underscores, letters, or digits.\n",
    "* Cannot be reserved words.\n",
    "* Conventions:\n",
    "  * A single underscore in front of an identifier name indicates this is an internal or private object. Objects named this way will not get imported by a statement such as: `from module import *`\n",
    "  * Double underscore in front of an identifier name is used to mangle class attributes, useful in inheritance chains.\n",
    "  * Double underscore in both start and end of an identifier name is used for system-defined names that have a special meaning to the interpreter. Don't invent them.\n",
    "  * Other naming conventions from [PEP 8 style guide](https://peps.python.org/pep-0008/)\n",
    "    * Packages: short, all lowercases, preferably no underscores (e.g. utilities)\n",
    "    * Modules: short, all lowercases (e.g. db_utils)\n",
    "    * Classes: Upper camel case convention (e.g. CapWords)\n",
    "    * Functions: lowercase, words separated by underscores (snake_case)\n",
    "    * Variables: same as functions\n",
    "    * Constants: all uppercases, words separated by underscores (e.g. CONST_WORDS)"
   ]
  },
  {
   "cell_type": "markdown",
   "metadata": {},
   "source": [
    "### Conditionals\n",
    "\n",
    "The `if` Statements can have zero or more `elif` parts, and the `else` part is optional.\n",
    "\n",
    "Conditional expressions (sometimes called a “ternary operator”) have the lowest priority of all Python operations. The expression `x if C else y` first evaluates the condition. If `C` is true, `x` is evaluated and its value is returned; otherwise, `y` is evaluated and its value is returned.\n",
    "\n",
    "A `match` statement takes an expression and compares its value to successive patterns given as one or more `case` blocks. This is superficially similar to a switch statement in C, Java or JavaScript (and many other languages), but it’s more similar to pattern matching in languages like Rust or Haskell. Only the first pattern that matches gets executed and it can also extract components (sequence elements or object attributes) from the value into variables. You can combine several literals in a single pattern using `|`."
   ]
  },
  {
   "cell_type": "markdown",
   "metadata": {},
   "source": [
    "### Functions\n",
    "\n",
    "The keyword `def` introduces a function definition. It must be followed by the function name and the parenthesized list of formal parameters. The statements that form the body of the function start at the next line, and must be indented.\n",
    "\n",
    "The first statement of the function body can optionally be a string literal; this string literal is the function’s documentation string, or *docstring*."
   ]
  },
  {
   "cell_type": "markdown",
   "metadata": {},
   "source": [
    "### While loop\n",
    "\n",
    "The `while` statement is used for repeated execution as long as an expression is true.\n",
    "\n",
    "This repeatedly tests the expression and, if it is true, executes the suite of the `while` clause; if the expression is false the suite of the `else` clause, if present, is executed and the loop terminates.\n",
    "\n",
    "A `break` statement executed terminates the loop without executing the `else` clause’s suite. A `continue` statement executed skips the rest of the suite and goes back to testing the expression."
   ]
  },
  {
   "cell_type": "markdown",
   "metadata": {},
   "source": [
    "### For loop\n",
    "\n",
    "The `for` statement is used to iterate over the elements of a *sequence* (such as a string, tuple or list) or other iterable object.\n",
    "\n",
    "When the iterator is exhausted, the suite in the `else` clause, if present, is executed, and the loop terminates.\n",
    "\n",
    "A `break` statement executed terminates the loop without executing the `else` clause’s suite. A `continue` statement executed in the first suite skips the rest of the suite and continues with the next item, or with the `else` clause if there is no next item.\n",
    "\n",
    "The for-loop makes assignments to the variables in the target list. This overwrites all previous assignments to those variables including those made in the suite of the for-loop:\n",
    "\n",
    "Names in the target list are not deleted when the loop is finished, but if the sequence is empty, they will not have been assigned to at all by the loop.\n",
    "\n",
    "Code that modifies a collection while iterating over that same collection can be tricky to get right. Instead, it is usually more straight-forward to loop over a copy of the collection or to create a new collection."
   ]
  },
  {
   "cell_type": "markdown",
   "metadata": {},
   "source": [
    "### Classes\n",
    "\n",
    "Classes provide a means of bundling data and functionality together. Creating a new class creates a new type of object, allowing new instances of that type to be made. Each class instance can have attributes attached to it for maintaining its state. Class instances can also have methods (defined by its class) for modifying its state."
   ]
  },
  {
   "cell_type": "code",
   "execution_count": 18,
   "metadata": {},
   "outputs": [
    {
     "name": "stdout",
     "output_type": "stream",
     "text": [
      "Rectangle: width 10, height 5\n",
      "Rectangle(10, 5)\n",
      "width: 20, height: 5\n",
      "Perimeter: 50\n",
      "Area: 100\n",
      "True\n",
      "rect2.area()=100, rect3.area()=50\n",
      "rect2 == rect3: False\n",
      "rect2 != rect3: True\n",
      "rect2 > rect3: True\n",
      "rect2 >= rect3: True\n",
      "rect2 < rect3: False\n",
      "rect2 == 3: False\n"
     ]
    }
   ],
   "source": [
    "class Rectangle:\n",
    "    def __init__(self, width, height):\n",
    "        self.width = width # this actually calls the setter of width\n",
    "        self.height = height\n",
    "\n",
    "    @property\n",
    "    def width(self):\n",
    "        return self._width\n",
    "    \n",
    "    @width.setter\n",
    "    def width(self, width):\n",
    "        if width > 0:\n",
    "            self._width = width\n",
    "        else:\n",
    "            raise ValueError('Width should be greater than 0.')\n",
    "        \n",
    "    @property\n",
    "    def height(self):\n",
    "        return self._height\n",
    "    \n",
    "    @height.setter\n",
    "    def height(self, height):\n",
    "        if height > 0:\n",
    "            self._height = height\n",
    "        else:\n",
    "            raise ValueError('Height should be greater than 0.')\n",
    "        \n",
    "    def perimeter(self):\n",
    "        return (self._width + self._height) * 2\n",
    "    \n",
    "    def area(self):\n",
    "        return self._width * self._height\n",
    "    \n",
    "    def __repr__(self):\n",
    "        return f'Rectangle({self._width}, {self._height})'\n",
    "    \n",
    "    def __str__(self):\n",
    "        return f'Rectangle: width {self._width}, height {self._height}'\n",
    "    \n",
    "    def __eq__(self, other):\n",
    "        if isinstance(other, type(self)):\n",
    "        # if issubclass(type(other), type(self)):\n",
    "            return self._width == other._width and self._height == other._height\n",
    "        else:\n",
    "            return False\n",
    "        \n",
    "    def __gt__(self, other):\n",
    "        if issubclass(type(other), type(self)):\n",
    "            return self.area() > other.area()\n",
    "        else:\n",
    "            return NotImplemented\n",
    "        \n",
    "    def __ge__(self, other):\n",
    "        if issubclass(type(other), type(self)):\n",
    "            return self.area() >= other.area()\n",
    "        else:\n",
    "            return NotImplemented\n",
    "        \n",
    "rect1 = Rectangle(10, 5)\n",
    "print(rect1)\n",
    "print(repr(rect1))\n",
    "rect1.width = 20\n",
    "print(f'width: {rect1.width}, height: {rect1.height}')\n",
    "print(f'Perimeter: {rect1.perimeter()}')\n",
    "print(f'Area: {rect1.area()}')\n",
    "# rect1.width = 0\n",
    "\n",
    "# rect2 = Rectangle(0, 5)\n",
    "rect2 = Rectangle(20, 5)\n",
    "print(rect1 == rect2)\n",
    "\n",
    "rect3 = Rectangle(10, 5)\n",
    "print(f'{rect2.area()=}, {rect3.area()=}')\n",
    "print('rect2 == rect3:', rect2 == rect3)\n",
    "print('rect2 != rect3:', rect2 != rect3)\n",
    "print('rect2 > rect3:', rect2 > rect3)\n",
    "print('rect2 >= rect3:', rect2 >= rect3)\n",
    "print('rect2 < rect3:', rect2 < rect3)\n",
    "print('rect2 == 3:', rect2 == 3)\n",
    "# print('rect2 > 3:', rect2 > 3)"
   ]
  },
  {
   "cell_type": "markdown",
   "metadata": {},
   "source": [
    "## Variables and memory"
   ]
  },
  {
   "cell_type": "markdown",
   "metadata": {},
   "source": [
    "### Variables are memory references\n",
    "\n",
    "* A Python variable is a symbolic name that is a *reference* or *pointer* to an object stored somewhere in the memory.\n",
    "* A reference can be seen as the connection between a variable name and a value, it contains the memory address where the value is held.\n",
    "* Once an object is assigned to a variable, you can refer to the object by that name.\n",
    "* A value is another word for the actual data or object.\n",
    "* When passing a variable to a function in Python, it's important to note that it's passed by reference, meaning the function receives a reference to the existing variable in memory."
   ]
  },
  {
   "cell_type": "code",
   "execution_count": 19,
   "metadata": {},
   "outputs": [
    {
     "name": "stdout",
     "output_type": "stream",
     "text": [
      "10\n",
      "140710205051976\n",
      "0x7ff9a5c9d448\n"
     ]
    }
   ],
   "source": [
    "my_var = 10\n",
    "print(my_var)\n",
    "print(id(my_var))\n",
    "print(hex(id(my_var)))"
   ]
  },
  {
   "cell_type": "markdown",
   "metadata": {},
   "source": [
    "### Reference counting\n",
    "\n",
    "Finding the reference count:\n",
    "\n",
    "* `sys.getrefcount(var)`, passing `var` to it creates an extra reference\n",
    "* `ctypes.c_long.from_address(address).value`, passing memory address, does not affect reference count"
   ]
  },
  {
   "cell_type": "code",
   "execution_count": 21,
   "metadata": {},
   "outputs": [
    {
     "name": "stdout",
     "output_type": "stream",
     "text": [
      "id(my_list) == id(my_list2): True\n",
      "sys.getrefcount(my_list)=3\n",
      "ctypes.c_long.from_address(address_my_list).value=2\n"
     ]
    }
   ],
   "source": [
    "import sys\n",
    "import ctypes\n",
    "\n",
    "my_list = [1, 2, 3]\n",
    "address_my_list = id(my_list)\n",
    "my_list2 = my_list\n",
    "print('id(my_list) == id(my_list2):', address_my_list == id(my_list2))\n",
    "\n",
    "print(f'{sys.getrefcount(my_list)=}')\n",
    "print(f'{ctypes.c_long.from_address(address_my_list).value=}')"
   ]
  },
  {
   "cell_type": "markdown",
   "metadata": {},
   "source": [
    "### Garbage collection\n",
    "\n",
    "* Can be controlled programmatically using the `gc` module\n",
    "* By default it is turned on\n",
    "* You may turn it off for performance reasons if you are sure your code does not create circular references\n",
    "* Runs periodically on its own if turned on\n",
    "* You can call it manually"
   ]
  },
  {
   "cell_type": "code",
   "execution_count": 25,
   "metadata": {},
   "outputs": [
    {
     "name": "stdout",
     "output_type": "stream",
     "text": [
      "B: self=2025821964944, a=2025821970896\n",
      "A: self=2025821970896, b=2025821964944\n",
      "a reference count: 2\n",
      "b reference count: 1\n",
      "a: Object exists\n",
      "b: Object exists\n",
      "\n",
      "Remove variable a\n",
      "a reference count: 1\n",
      "b reference count: 1\n",
      "a: Object exists\n",
      "b: Object exists\n",
      "\n",
      "Turn on gc\n",
      "a reference count: 0\n",
      "b reference count: 0\n",
      "a: Obj not found\n",
      "b: Obj not found\n"
     ]
    }
   ],
   "source": [
    "import ctypes\n",
    "import gc\n",
    "\n",
    "def get_ref_count(address):\n",
    "    return ctypes.c_long.from_address(address).value\n",
    "\n",
    "def check_obj_by_address(address):\n",
    "    for obj in gc.get_objects():\n",
    "        if id(obj) == address:\n",
    "            return 'Object exists'\n",
    "    return 'Obj not found'\n",
    "\n",
    "class A:\n",
    "    def __init__(self):\n",
    "        self.b = B(self)\n",
    "        print(f'A: self={id(self)}, b={id(self.b)}')\n",
    "\n",
    "class B:\n",
    "    def __init__(self, a):\n",
    "        self.a = a\n",
    "        print(f'B: self={id(self)}, a={id(self.a)}')\n",
    "\n",
    "gc.disable()\n",
    "\n",
    "a = A()\n",
    "address_a = id(a)\n",
    "address_b = id(a.b)\n",
    "print('a reference count:', get_ref_count(address_a))\n",
    "print('b reference count:', get_ref_count(address_b))\n",
    "print('a:', check_obj_by_address(address_a))\n",
    "print('b:', check_obj_by_address(address_b))\n",
    "\n",
    "print('\\nRemove variable a')\n",
    "a = None\n",
    "print('a reference count:', get_ref_count(address_a))\n",
    "print('b reference count:', get_ref_count(address_b))\n",
    "print('a:', check_obj_by_address(address_a))\n",
    "print('b:', check_obj_by_address(address_b))\n",
    "\n",
    "print('\\nTurn on gc')\n",
    "gc.collect()\n",
    "print('a reference count:', get_ref_count(address_a))\n",
    "print('b reference count:', get_ref_count(address_b))\n",
    "print('a:', check_obj_by_address(address_a))\n",
    "print('b:', check_obj_by_address(address_b))"
   ]
  },
  {
   "cell_type": "markdown",
   "metadata": {},
   "source": [
    "### Dynamic typing vs static typing\n",
    "\n",
    "Python employs dynamic typing, allowing variable types to be determined and checked at runtime rather than during compilation. Variables are purely references to objects. They don't have an inherent static type.\n",
    "\n",
    "Dynamic typing provides versatility and simplicity, allowing developers to work without specifying types explicitly.\n",
    "\n",
    "In contrast to statically-typed languages, where types are determined at compile-time, Python's dynamic typing offers more flexibility during development."
   ]
  },
  {
   "cell_type": "markdown",
   "metadata": {},
   "source": [
    "### Variable reassignment\n",
    "\n",
    "Variable reassignment is a common practice that involves assigning a new value to an existing variable. When you reassign a variable, you are essentially reassign its reference to a different object. It's important to note that variable reassignment only affects the specific variable being reassigned and doesn't alter other variables referencing the original value."
   ]
  },
  {
   "cell_type": "code",
   "execution_count": 27,
   "metadata": {},
   "outputs": [
    {
     "name": "stdout",
     "output_type": "stream",
     "text": [
      "id(a)=140710205051976\n",
      "id(a)=140710205052008\n"
     ]
    }
   ],
   "source": [
    "a = 10\n",
    "print(f'{id(a)=}')\n",
    "a += 1\n",
    "print(f'{id(a)=}')"
   ]
  },
  {
   "cell_type": "markdown",
   "metadata": {},
   "source": [
    "### Object mutability\n",
    "\n",
    "Changing the data inside the object is called modifying the internal state of the object. An object whose internal state can be changed is called mutable, otherwise immutable.\n",
    "\n",
    "* Immutable\n",
    "  * Numbers (int, float, booleans, etc)\n",
    "  * Strings\n",
    "  * Tuples\n",
    "  * Frozen sets\n",
    "  * User-defined classes\n",
    "* Mutable\n",
    "  * Lists\n",
    "  * Dictionaries\n",
    "  * Sets\n",
    "  * User-defined classes\n",
    "\n",
    "Tuples are immutable: elements cannot be deleted, inserted, or replaced, but tuples can contain mutable elements."
   ]
  },
  {
   "cell_type": "code",
   "execution_count": 28,
   "metadata": {},
   "outputs": [
    {
     "name": "stdout",
     "output_type": "stream",
     "text": [
      "t=([1, 2], [3, 4]), id(t)=2025822634048\n",
      "t=([1, 2, 5], [3, 4]), id(t)=2025822634048\n"
     ]
    }
   ],
   "source": [
    "t = ([1, 2], [3, 4])\n",
    "print(f'{t=}, {id(t)=}')\n",
    "t[0].append(5)\n",
    "print(f'{t=}, {id(t)=}')"
   ]
  },
  {
   "cell_type": "markdown",
   "metadata": {},
   "source": [
    "### Function arguments and mutability\n",
    "\n",
    "Arguments are passed to Python functions by reference.\n",
    "\n",
    "Immutable objects are safe from unintended side-effects. Changes made to immutable arguments within a function result in the creation of a new object. But watch out for immutable collection objects that contain mutable objects.\n",
    "\n",
    "Mutable objects are not safe from unintended side-effects. Modifications to mutable arguments within a function persist outside the function.\n",
    "\n",
    "Be cautious when using mutable objects as *default* function arguments. Default arguments are evaluated only once during function definition, leading to unexpected behavior if the mutable object is modified."
   ]
  },
  {
   "cell_type": "markdown",
   "metadata": {},
   "source": [
    "### Shared references and mutability\n",
    "\n",
    "The term shared references is the concept of two variables referencing the same object in memory.\n",
    "\n",
    "In the following cases, Python's memory manager decides to automatically re-use the memory references:"
   ]
  },
  {
   "cell_type": "code",
   "execution_count": 29,
   "metadata": {},
   "outputs": [
    {
     "data": {
      "text/plain": [
       "True"
      ]
     },
     "execution_count": 29,
     "metadata": {},
     "output_type": "execute_result"
    }
   ],
   "source": [
    "a = 10\n",
    "b = 10\n",
    "id(a) == id(b)"
   ]
  },
  {
   "cell_type": "code",
   "execution_count": 30,
   "metadata": {},
   "outputs": [
    {
     "data": {
      "text/plain": [
       "True"
      ]
     },
     "execution_count": 30,
     "metadata": {},
     "output_type": "execute_result"
    }
   ],
   "source": [
    "s1 = 'hello'\n",
    "s2 = 'hello'\n",
    "id(s1) == id(s2)"
   ]
  },
  {
   "cell_type": "markdown",
   "metadata": {},
   "source": [
    "With mutable objects, the Python memory manager will never create shared references."
   ]
  },
  {
   "cell_type": "code",
   "execution_count": 32,
   "metadata": {},
   "outputs": [
    {
     "data": {
      "text/plain": [
       "False"
      ]
     },
     "execution_count": 32,
     "metadata": {},
     "output_type": "execute_result"
    }
   ],
   "source": [
    "list1 = [1, 2, 3]\n",
    "list2 = [1, 2, 3]\n",
    "id(list1) == id(list2)"
   ]
  },
  {
   "cell_type": "markdown",
   "metadata": {},
   "source": [
    "### Variable equality\n",
    "\n",
    "We can think of variable equality in two fundamental ways:\n",
    "\n",
    "* Memory address\n",
    "  * `is`, identity operator, `var1 is var2`\n",
    "  * `is not`, `var1 is not var2`, or `not(var1 is var2)`\n",
    "* Object state (data)\n",
    "  * `==`, equality operator, `var1 == var2`\n",
    "  * `!=`, `var1 != var2`, or `not(var1 == var2)`\n",
    "\n",
    "The `None` object can be assigned to variables to indicate that they are not set, i.e., an empty value or null pointer. The Python memory manager will always use a shared reference when assigning a variable to `None`. So we can test if a variable is not set by comparing it's memory address to the memory address of `None` using `is` operator."
   ]
  },
  {
   "cell_type": "markdown",
   "metadata": {},
   "source": [
    "### Everything is an object\n",
    "\n",
    "Operators, functions, classes, types are all objects, i.e., instances of classes. They all have a memory address.\n",
    "\n",
    "As a consequence:\n",
    "\n",
    "* Any object can be assigned to a variable\n",
    "* Any object can be passed to a function\n",
    "* Any object can be returned from a function"
   ]
  },
  {
   "cell_type": "markdown",
   "metadata": {},
   "source": [
    "### Interning in CPython\n",
    "\n",
    "Python interning is a technique aimed at optimizing memory usage and improving performance. Interning allows Python to store only one copy of an object in memory and reuse it instead of creating duplicates.\n",
    "\n",
    "* Integer interning\n",
    "  * Small integers (-5 to 256 inclusive) are preloaded into the interpreter's memory on startup to optimize speed and memory. Every time we try to create an integer object in this range, CPython automatically refers to these cached objects in memory instead of creating new integer objects.\n",
    "* String interning\n",
    "  * String interning is a very useful mechanism in CPython that allows you to compare strings much faster.\n",
    "  * As the Python code is compiled, identifiers are interned\n",
    "    * variable names\n",
    "    * function names\n",
    "    * class names\n",
    "    * etc\n",
    "  * Some string literals may also be automatically interned\n",
    "    * string literals look like identifiers\n",
    "  * The rules for *implicit* string interning can be different. Relying on the rules can lead to unexpected errors.\n",
    "  * If for some reason we need to intern a string, we can use `sys.intern` function to intern the string explicitly.\n",
    "  * When should you intern strings explicitly\n",
    "    * dealing with a large number of strings that could have high repetition\n",
    "    * lots of string comparisons\n",
    "    * in general, you do not need to intern strings yourself"
   ]
  },
  {
   "cell_type": "code",
   "execution_count": 33,
   "metadata": {},
   "outputs": [
    {
     "name": "stdout",
     "output_type": "stream",
     "text": [
      "id(a)=140710205051976, id(b)=140710205051976\n",
      "a is b: True\n",
      "id(a)=2025821827632, id(b)=2025821829616\n",
      "a is b: False\n"
     ]
    }
   ],
   "source": [
    "a = 10\n",
    "b = 10\n",
    "print(f'{id(a)=}, {id(b)=}')\n",
    "print('a is b:', a is b)\n",
    "\n",
    "a = 257\n",
    "b = 257\n",
    "print(f'{id(a)=}, {id(b)=}')\n",
    "print('a is b:', a is b)"
   ]
  },
  {
   "cell_type": "code",
   "execution_count": 37,
   "metadata": {},
   "outputs": [
    {
     "name": "stdout",
     "output_type": "stream",
     "text": [
      "id(a)=2025794550192, id(b)=2025794550192\n",
      "a is b: True\n",
      "id(a)=2025821641584, id(b)=2025821634608\n",
      "a is b: False\n",
      "id(a)=2025798438624, id(b)=2025798438624, id(c)=2025821711264\n",
      "a is b: True\n",
      "a is c: False\n"
     ]
    }
   ],
   "source": [
    "import sys\n",
    "\n",
    "a = 'hello'\n",
    "b = 'hello'\n",
    "print(f'{id(a)=}, {id(b)=}')\n",
    "print('a is b:', a is b)\n",
    "\n",
    "a = 'hello world'\n",
    "b = 'hello world'\n",
    "print(f'{id(a)=}, {id(b)=}')\n",
    "print('a is b:', a is b)\n",
    "\n",
    "a = sys.intern('the quick brown fox')\n",
    "b = sys.intern('the quick brown fox')\n",
    "c = 'the quick brown fox'\n",
    "print(f'{id(a)=}, {id(b)=}, {id(c)=}')\n",
    "print('a is b:', a is b)\n",
    "print('a is c:', a is c)"
   ]
  },
  {
   "cell_type": "code",
   "execution_count": 40,
   "metadata": {},
   "outputs": [
    {
     "name": "stdout",
     "output_type": "stream",
     "text": [
      "a is b: False\n"
     ]
    },
    {
     "name": "stdout",
     "output_type": "stream",
     "text": [
      "Equals: 4.68861489999108\n",
      "a is b: True\n",
      "Is: 0.3186644000088563\n"
     ]
    }
   ],
   "source": [
    "from sys import intern\n",
    "from time import perf_counter\n",
    "\n",
    "def compare_using_equals(n):\n",
    "    a = 'a very long string that is not automatically interned' * 200\n",
    "    b = 'a very long string that is not automatically interned' * 200\n",
    "    print('a is b:', a is b)\n",
    "    for _ in range(n):\n",
    "        if a == b:\n",
    "            pass\n",
    "\n",
    "def compare_using_is(n):\n",
    "    a = intern('a very long string that is not automatically interned' * 200)\n",
    "    b = intern('a very long string that is not automatically interned' * 200)\n",
    "    print('a is b:', a is b)\n",
    "    for _ in range(n):\n",
    "        if a is b:\n",
    "            pass\n",
    "\n",
    "start = perf_counter()\n",
    "compare_using_equals(10000000)\n",
    "end = perf_counter()\n",
    "print('Equals:', end - start)\n",
    "\n",
    "start = perf_counter()\n",
    "compare_using_is(10000000)\n",
    "end = perf_counter()\n",
    "print('Is:', end - start)"
   ]
  },
  {
   "cell_type": "markdown",
   "metadata": {},
   "source": [
    "### Peephole optimization in CPython\n",
    "\n",
    "Peephole optimization is a code optimization technique in Python that occurs during compilation.\n",
    "\n",
    "The Python interpreter includes a peephole optimizer that examines and modifies the generated bytecode for better efficiency. It pre-computes constant expressions and replaces them with the result, improving execution speed.\n",
    "\n",
    "Peephole optimizations include:\n",
    "\n",
    "* pre-calculating constant expressions\n",
    "  * numeric calculations: e.g. `24 * 60` -> `1440`\n",
    "  * short sequences length < 20 (the threshold 20 has been changed apparently):\n",
    "    * `(1, 2) * 3` -> `(1, 2, 1, 2, 1, 2)`\n",
    "    * `'abc' * 2` -> `'abcabc'`\n",
    "    * `'hello' + 'world'` -> `'helloworld'`\n",
    "* optimizing membership tests\n",
    "  * mutables are replaced by immutables\n",
    "    * lists -> tuples\n",
    "    * sets -> frozensets\n",
    "\n",
    "Set membership is much faster than list or tuple membership (sets are basically like dictionaries). So instead of writing `if e in [1, 2, 3]:` or `if e in (1, 2, 3):`, write `if e in {1, 2, 3}:`.\n",
    "\n",
    "Python's peephole optimization contributes to faster code execution and reduced memory usage during runtime."
   ]
  },
  {
   "cell_type": "code",
   "execution_count": 46,
   "metadata": {},
   "outputs": [
    {
     "data": {
      "text/plain": [
       "(None,\n",
       " 1440,\n",
       " (1, 2, 1, 2, 1, 2, 1, 2, 1, 2),\n",
       " 'abababababababababab',\n",
       " 'abcabcabcabcabcabcabc',\n",
       " '1',\n",
       " '2',\n",
       " 3)"
      ]
     },
     "execution_count": 46,
     "metadata": {},
     "output_type": "execute_result"
    }
   ],
   "source": [
    "def my_func():\n",
    "    a = 24 * 60\n",
    "    b = (1, 2) * 5\n",
    "    c = 'ab' * 10\n",
    "    d = 'abc' * 7\n",
    "    e = ['1', '2'] * 3\n",
    "\n",
    "my_func.__code__.co_consts"
   ]
  },
  {
   "cell_type": "code",
   "execution_count": 47,
   "metadata": {},
   "outputs": [
    {
     "data": {
      "text/plain": [
       "(None, (1, 2, 3))"
      ]
     },
     "execution_count": 47,
     "metadata": {},
     "output_type": "execute_result"
    }
   ],
   "source": [
    "def my_func():\n",
    "    for e in [1, 2, 3]:\n",
    "        pass\n",
    "\n",
    "my_func.__code__.co_consts"
   ]
  },
  {
   "cell_type": "code",
   "execution_count": 48,
   "metadata": {},
   "outputs": [
    {
     "name": "stdout",
     "output_type": "stream",
     "text": [
      "Tuple: 3.668143000002601\n",
      "Set: 0.34278949999134056\n"
     ]
    }
   ],
   "source": [
    "import string\n",
    "import time\n",
    "\n",
    "char_tuple = tuple(string.ascii_letters)\n",
    "char_set = set(string.ascii_letters)\n",
    "\n",
    "def membership_test(n, container):\n",
    "    for _ in range(n):\n",
    "        if 'z' in container:\n",
    "            pass\n",
    "\n",
    "n = 10000000\n",
    "start = time.perf_counter()\n",
    "membership_test(n, char_tuple)\n",
    "end = time.perf_counter()\n",
    "print('Tuple:', end - start)\n",
    "\n",
    "start = time.perf_counter()\n",
    "membership_test(n, char_set)\n",
    "end = time.perf_counter()\n",
    "print('Set:', end - start)"
   ]
  },
  {
   "cell_type": "markdown",
   "metadata": {},
   "source": [
    "## Numeric types\n",
    "\n",
    "Main types of numbers:\n",
    "\n",
    "* Boolean truth values: `bool`\n",
    "* Integer numbers (ℤ): `int`\n",
    "* Rational numbers (ℚ): `fractions.Fraction`\n",
    "* Real numbers (ℝ): `float`, `decimal.Decimal`\n",
    "* Complex numbers (ℂ): `complex`"
   ]
  },
  {
   "cell_type": "markdown",
   "metadata": {},
   "source": [
    "### Integers\n",
    "\n",
    "Integers are represented internally using base-2 (binary) digits, not decimal.\n",
    "\n",
    "Integers are represented as `int` in Python and can be of unlimited length.\n",
    "\n",
    "The largest integer number that can be represented using 8 bits is 255 (2⁸ - 1).\n",
    "\n",
    "If we care about handling negative integers as well, then 1 bit is reserved to represent the sign of the number, leaving us only 7 bits for the number itself. So the largest number we can represent using 7 bits is 127 (2⁷ - 1), and the range becomes [-127, 127]. But 0 does not require a sign, so we can squeeze out an extra number by adding the negative 0 to the bottom, and we end up with the range [-128, 127].\n",
    "\n",
    "In a 32-bit architecture, the operating system can theoretically support up to 4GB of RAM due to the limited address space. This is because a 32-bit processor can only represent 2³² different numbers, resulting in a maximum addressable memory: 2³² bytes = 2² * 2¹⁰ * 2¹⁰ * 2¹⁰ bytes = 4 GB"
   ]
  },
  {
   "cell_type": "code",
   "execution_count": 51,
   "metadata": {},
   "outputs": [
    {
     "name": "stdout",
     "output_type": "stream",
     "text": [
      "type(1)=<class 'int'>\n",
      "sys.getsizeof(1)=28 bytes\n",
      "sys.getsizeof(0)=24 bytes\n"
     ]
    }
   ],
   "source": [
    "import sys\n",
    "\n",
    "print(f'{type(1)=}')\n",
    "print(f'{sys.getsizeof(1)=}', 'bytes')\n",
    "print(f'{sys.getsizeof(0)=}', 'bytes')"
   ]
  },
  {
   "cell_type": "markdown",
   "metadata": {},
   "source": [
    "Integers support the following arithmetic operations:\n",
    "\n",
    "* addition `+`\n",
    "* subtraction `-`\n",
    "* multiplication `*`\n",
    "* division `/`: always returns a float\n",
    "* exponentiation `**`\n",
    "* floor division `//`: returns the largest integer less than or equal to the result of division\n",
    "* modulo `%`\n",
    "\n",
    "The equation always satisfies: n = d * (n // d) + n % d, n stands for numerator, d denominator."
   ]
  },
  {
   "cell_type": "code",
   "execution_count": 56,
   "metadata": {},
   "outputs": [
    {
     "name": "stdout",
     "output_type": "stream",
     "text": [
      "10 / 2 = 5.0\n",
      "10 // 3 = 3\n",
      "10 % 3 = 1\n",
      "10 // -3 = -4\n",
      "10 % -3 = -2\n",
      "-10 // 3 = -4\n",
      "-10 % 3 = 2\n",
      "-10 // -3 = 3\n",
      "-10 % -3 = -1\n"
     ]
    }
   ],
   "source": [
    "print('10 / 2 =', 10 / 2)\n",
    "print('10 // 3 =', 10 // 3)\n",
    "print('10 % 3 =', 10 % 3)\n",
    "print('10 // -3 =', 10 // -3)\n",
    "print('10 % -3 =', 10 % -3)\n",
    "print('-10 // 3 =', -10 // 3)\n",
    "print('-10 % 3 =', -10 % 3)\n",
    "print('-10 // -3 =', -10 // -3)\n",
    "print('-10 % -3 =', -10 % -3)"
   ]
  },
  {
   "cell_type": "markdown",
   "metadata": {},
   "source": [
    "An integer number is an instance of the `int` class.\n",
    "\n",
    "* Numerical data types are supported in the argument of the `int` constructor.\n",
    "* Strings that can be parsed to a number are supported too.\n",
    "  * constructor can have an optional base parameter\n",
    "  * if base is not specified, the default is base 10\n",
    "  * The allowed bases are 0 and 2–36.\n",
    "  * For base 0, the string is interpreted by the prefix in the it. Base 0 also disallows leading zeros: `int('010', 0)` is not legal, while `int('010')` and `int('010', 8)` are."
   ]
  },
  {
   "cell_type": "code",
   "execution_count": 60,
   "metadata": {},
   "outputs": [
    {
     "name": "stdout",
     "output_type": "stream",
     "text": [
      "int()=0\n",
      "int(10)=10\n",
      "int(10.1)=10\n",
      "int(Decimal(\"10.1\"))=10\n",
      "int(\"10\")=10\n",
      "int(\"010\")=10\n",
      "int(\"010\", 2)=2\n",
      "int(\"0b10\", 0)=2\n"
     ]
    }
   ],
   "source": [
    "from decimal import Decimal\n",
    "\n",
    "print(f'{int()=}')\n",
    "print(f'{int(10)=}')\n",
    "print(f'{int(10.1)=}')\n",
    "print(f'{int(Decimal(\"10.1\"))=}')\n",
    "# print(f'{int(\"10.1\")=}')\n",
    "print(f'{int(\"10\")=}')\n",
    "print(f'{int(\"010\")=}')\n",
    "# print(f'{int(\"010\", 0)=}')\n",
    "print(f'{int(\"010\", 2)=}')\n",
    "print(f'{int(\"0b10\", 0)=}')"
   ]
  },
  {
   "cell_type": "markdown",
   "metadata": {},
   "source": [
    "Changing an integer from base 10 to another base:\n",
    "\n",
    "* `bin`: `bin(10)` -> `'0b1010'`\n",
    "* `oct`: `oct(10)` -> `'0o12'`\n",
    "* `hex`: `hex(10)` -> `'0xa'`"
   ]
  },
  {
   "cell_type": "code",
   "execution_count": 68,
   "metadata": {},
   "outputs": [
    {
     "name": "stdout",
     "output_type": "stream",
     "text": [
      "rebase(0, 2)='0'\n",
      "rebase(10, 2)='1010'\n",
      "rebase(-10, 2)='-1010'\n",
      "rebase(9, 3)='100'\n",
      "rebase(-106, 16)='-6a'\n",
      "rebase(1485, 16)='5cd'\n",
      "rebase(100, 36)='2s'\n"
     ]
    }
   ],
   "source": [
    "import string\n",
    "\n",
    "def rebase(number: int, base: int):\n",
    "    \"\"\"Rebase base 10 integer number to the designated base\"\"\"\n",
    "    if number == 0:\n",
    "        return '0'\n",
    "    if base < 2 or base > 36:\n",
    "        raise ValueError('Invalid base: 2 <= base <= 36')\n",
    "    \n",
    "    base_letters = string.digits + string.ascii_lowercase\n",
    "\n",
    "    # if number < 0:\n",
    "    #     sign = '-'\n",
    "    #     number = abs(number)\n",
    "    # else:\n",
    "    #     sign = ''\n",
    "    number, sign = (number, '') if number > 0 else (-number, '-')\n",
    "    \n",
    "    rebased = ''\n",
    "\n",
    "    while number > 0:\n",
    "        rebased = base_letters[number % base] + rebased\n",
    "        number = number // base\n",
    "        # number, mod = divmod(number, base)\n",
    "        # rebased = base_letters[mod] + rebased\n",
    "\n",
    "    return sign + rebased\n",
    "\n",
    "print(f'{rebase(0, 2)=}')\n",
    "print(f'{rebase(10, 2)=}')\n",
    "print(f'{rebase(-10, 2)=}')\n",
    "print(f'{rebase(9, 3)=}')\n",
    "print(f'{rebase(-106, 16)=}')\n",
    "print(f'{rebase(1485, 16)=}')\n",
    "print(f'{rebase(100, 36)=}')\n",
    "# print(f'{rebase(5, 1)=}')"
   ]
  },
  {
   "cell_type": "markdown",
   "metadata": {},
   "source": [
    "### Rational numbers\n",
    "\n",
    "In mathematics, a rational number is a number that can be expressed as the quotient or fraction of two integers, a numerator p and a non-zero denominator q.\n",
    "\n",
    "The real numbers that are rational are those whose decimal expansion either terminates after a finite number of digits (example: 3/4 = 0.75), or eventually begins to repeat the same finite sequence of digits over and over (example: 9/44 = 0.20454545...). This statement is true not only in base 10, but also in every other integer base, such as the binary and hexadecimal ones.\n",
    "\n",
    "Rational numbers can be represented in Python using the `Fraction` class in the `fractions` module."
   ]
  },
  {
   "cell_type": "code",
   "execution_count": 77,
   "metadata": {},
   "outputs": [
    {
     "name": "stdout",
     "output_type": "stream",
     "text": [
      "Fraction()=Fraction(0, 1)\n",
      "Fraction(1, 10)=Fraction(1, 10)\n",
      "Fraction(0.1)=Fraction(3602879701896397, 36028797018963968)\n",
      "Fraction(\"0.1\")=Fraction(1, 10)\n",
      "Fraction(0.1) == Fraction(1, 10): False\n",
      "Fraction(\"0.1\") == Fraction(1, 10): True\n",
      "Fraction(\"22/7\")=Fraction(22, 7)\n",
      "5/6\n",
      "x.numerator=7\n",
      "x.denominator=22\n",
      "x.numerator=-7\n",
      "x.denominator=22\n"
     ]
    }
   ],
   "source": [
    "from fractions import Fraction\n",
    "\n",
    "print(f'{Fraction()=}')\n",
    "print(f'{Fraction(1, 10)=}')\n",
    "print(f'{Fraction(0.1)=}') # using float is meaningless, as it may not have an exact representation in base 2\n",
    "print(f'{Fraction(\"0.1\")=}')\n",
    "print('Fraction(0.1) == Fraction(1, 10):', Fraction(0.1) == Fraction(1, 10))\n",
    "print('Fraction(\"0.1\") == Fraction(1, 10):', Fraction('0.1') == Fraction(1, 10))\n",
    "print(f'{Fraction(\"22/7\")=}')\n",
    "\n",
    "print(Fraction(1, 2) + Fraction(1, 3))\n",
    "\n",
    "x = Fraction(7, 22)\n",
    "print(f'{x.numerator=}')\n",
    "print(f'{x.denominator=}')\n",
    "x = Fraction(7, -22)\n",
    "print(f'{x.numerator=}')\n",
    "print(f'{x.denominator=}')"
   ]
  },
  {
   "cell_type": "markdown",
   "metadata": {},
   "source": [
    "Given a `Fraction` object, we can find an approximate equivalent fraction with a constrained denominator using the `limit_denominator(max_denominator=1000000)` instance method."
   ]
  },
  {
   "cell_type": "code",
   "execution_count": 73,
   "metadata": {},
   "outputs": [
    {
     "name": "stdout",
     "output_type": "stream",
     "text": [
      "884279719003555/281474976710656\n",
      "3126535/995207\n",
      "22/7\n",
      "311/99\n",
      "355/113\n"
     ]
    }
   ],
   "source": [
    "import math\n",
    "from fractions import Fraction\n",
    "\n",
    "x = Fraction(math.pi)\n",
    "print(x)\n",
    "print(x.limit_denominator())\n",
    "print(x.limit_denominator(10))\n",
    "print(x.limit_denominator(100))\n",
    "print(x.limit_denominator(10000))"
   ]
  },
  {
   "cell_type": "markdown",
   "metadata": {},
   "source": [
    "### Floats\n",
    "\n",
    "The `float` class is Python's default implementation for representing real numbers.\n",
    "\n",
    "The float uses a fixed number of bytes (8 bytes, 64 bits, plus the overhead of objects), unlike integers which can take up more and more memory space as needed."
   ]
  },
  {
   "cell_type": "code",
   "execution_count": 2,
   "metadata": {},
   "outputs": [
    {
     "name": "stdout",
     "output_type": "stream",
     "text": [
      "\n",
      "Floats may not have exact representations in computer:\n",
      "0.1: 0.1000000000000000055511151\n",
      "0.1 + 0.1 + 0.1 == 0.3: False\n",
      "\n",
      "Because of the inexact internal representation, the result of round() may also be surprising.\n",
      "round(1.25, 1)=1.2\n",
      "round(1.225, 2)=1.23\n"
     ]
    }
   ],
   "source": [
    "print('\\nFloats may not have exact representations in computer:')\n",
    "print('0.1:', f'{0.1:.25f}')\n",
    "print('0.1 + 0.1 + 0.1 == 0.3:', 0.1 + 0.1 + 0.1 == 0.3)\n",
    "\n",
    "print('\\nBecause of the inexact internal representation, the result of round() may also be surprising.')\n",
    "print(f'{round(1.25, 1)=}')\n",
    "print(f'{round(1.225, 2)=}')"
   ]
  },
  {
   "cell_type": "markdown",
   "metadata": {},
   "source": [
    "As we have seen that some decimal numbers cannot be represented with a finite binary representation. This can lead to some weirdness and bugs in our code if we don't know how to deal with it.\n",
    "\n",
    "Using rounding will not necessarily solve the problem, although it can be used to round the entirety of both sides of the equality comparison.\n",
    "\n",
    "More generally, use an appropriate range (ε) within which two numbers are deemed equal. The range should be the larger of absolute and relative tolerances.\n",
    "\n",
    "`math.isclose(a, b, *, rel_tol=1e-09, abs_tol=0.0)` return `True` if the values `a` and `b` are close to each other and `False` otherwise. The result will be: `abs(a-b) <= max(rel_tol * max(abs(a), abs(b)), abs_tol)`."
   ]
  },
  {
   "cell_type": "code",
   "execution_count": 79,
   "metadata": {},
   "outputs": [
    {
     "name": "stdout",
     "output_type": "stream",
     "text": [
      "x=0.30000000000000004, y=0.3\n",
      "x == y: False\n",
      "x is close y: True\n"
     ]
    }
   ],
   "source": [
    "import sys\n",
    "import math\n",
    "\n",
    "x = 0.1 + 0.1 + 0.1\n",
    "y = 0.3\n",
    "epsilon = sys.float_info.epsilon\n",
    "\n",
    "print(f'{x=}, {y=}')\n",
    "print('x == y:', x == y)\n",
    "print('x is close y:', math.isclose(x, y, rel_tol=epsilon, abs_tol=epsilon))"
   ]
  },
  {
   "cell_type": "markdown",
   "metadata": {},
   "source": [
    "Coerce a float to an integer:\n",
    "\n",
    "* Truncation: `math.trunc(float)`, `int(float)`\n",
    "* Floor: `math.floor(float)`\n",
    "* Ceiling: `math.ceil(float)`\n",
    "* Rounding: `round(x, n=0)`\n",
    "  * the `round` function will round the number `x` to the closest multiple of 10^-n, `n` can be negative\n",
    "  * banker's rounding, a number is rounded to the nearest value, with ties rounded to the nearest value with an *even* least significant digit\n",
    "  * `round(x)` -> `int`\n",
    "  * `round(x, n)` -> same type as `x`\n",
    "\n",
    "Why banker's rounding? It is less biased rounding than ties away from zero."
   ]
  },
  {
   "cell_type": "code",
   "execution_count": 83,
   "metadata": {},
   "outputs": [
    {
     "name": "stdout",
     "output_type": "stream",
     "text": [
      "f=-10.5\n",
      "round(f)=-10\n",
      "traditional_round(f)=-11\n",
      "f=-10.6\n",
      "round(f)=-11\n",
      "traditional_round(f)=-11\n"
     ]
    }
   ],
   "source": [
    "import math\n",
    "\n",
    "def traditional_round(f: float):\n",
    "    \"\"\"Round away from zero\"\"\"\n",
    "    return int(f + math.copysign(0.5, f))\n",
    "\n",
    "f = -10.5\n",
    "print(f'{f=}')\n",
    "print(f'{round(f)=}')\n",
    "print(f'{traditional_round(f)=}')\n",
    "\n",
    "f = -10.6\n",
    "print(f'{f=}')\n",
    "print(f'{round(f)=}')\n",
    "print(f'{traditional_round(f)=}')"
   ]
  },
  {
   "cell_type": "markdown",
   "metadata": {},
   "source": [
    "### Decimals\n",
    "\n",
    "The `decimal` module provides support for fast correctly rounded decimal floating point arithmetic. It offers several advantages over the float datatype:\n",
    "\n",
    "* Decimal numbers can be represented exactly. In contrast, numbers like `1.1` and `2.2` do not have exact representations in binary floating point. End users typically would not expect `1.1 + 2.2` to display as `3.3000000000000003` as it does with binary floating point.\n",
    "* The exactness carries over into arithmetic. In decimal floating point, `0.1 + 0.1 + 0.1 - 0.3` is exactly equal to zero. In binary floating point, the result is `5.5511151231257827e-017`. While near to zero, the differences prevent reliable equality testing and differences can *accumulate*. For this reason, decimal is preferred in accounting applications which have strict equality invariants.\n",
    "* The decimal module incorporates a notion of significant places so that `1.30 + 1.20` is `2.50`. The trailing zero is kept to indicate significance. This is the customary presentation for monetary applications. For multiplication, the \"schoolbook\" approach uses all the figures in the multiplicands. For instance, `1.3 * 1.2` gives `1.56` while `1.30 * 1.20` gives `1.5600`.\n",
    "* Unlike hardware based binary floating point, the decimal module has a user alterable precision (defaulting to 28 places) which can be as large as needed for a given problem.\n",
    "* Both binary and decimal floating point are implemented in terms of published standards. While the built-in float type exposes only a modest portion of its capabilities, the decimal module exposes all required parts of the standard. When needed, the programmer has full control over rounding and signal handling. This includes an option to enforce exact arithmetic by using exceptions to block any inexact operations.\n",
    "\n",
    "A decimal number is immutable. It has a sign, coefficient digits, and an exponent. To preserve significance, the coefficient digits do not truncate trailing zeros. Decimals also include special values such as `Infinity`, `-Infinity`, and `NaN`. The standard also differentiates `-0` from `+0`.\n",
    "\n",
    "Decimals have a context that controls certain aspects of working with decimals.\n",
    "\n",
    "* The context can be global, the default context\n",
    "  * `decimal.getcontext()`\n",
    "* The context can be temporary (local)\n",
    "  * `decimal.localcontext(ctx=None)`\n",
    "    * creates a new context, copied from `ctx` or from default if `ctx` is not specified\n",
    "    * returns a context manager (use a `with` statement)"
   ]
  },
  {
   "cell_type": "code",
   "execution_count": 6,
   "metadata": {},
   "outputs": [
    {
     "name": "stdout",
     "output_type": "stream",
     "text": [
      "Context(prec=28, rounding=ROUND_HALF_EVEN, Emin=-999999, Emax=999999, capitals=1, clamp=0, flags=[Inexact, Rounded], traps=[InvalidOperation, DivisionByZero, Overflow])\n",
      "ctx.prec=28\n",
      "ctx.rounding='ROUND_HALF_EVEN'\n",
      "local context: Context(prec=28, rounding=ROUND_HALF_UP, Emin=-999999, Emax=999999, capitals=1, clamp=0, flags=[Inexact, Rounded], traps=[InvalidOperation, DivisionByZero, Overflow])\n",
      "getcontext: Context(prec=28, rounding=ROUND_HALF_UP, Emin=-999999, Emax=999999, capitals=1, clamp=0, flags=[Inexact, Rounded], traps=[InvalidOperation, DivisionByZero, Overflow])\n",
      "inside: round(Decimal('1.25'), 1)=Decimal('1.3')\n",
      "outside: round(Decimal('1.25'), 1)=Decimal('1.2')\n"
     ]
    }
   ],
   "source": [
    "import decimal\n",
    "from decimal import Decimal\n",
    "\n",
    "ctx = decimal.getcontext()\n",
    "print(ctx)\n",
    "print(f'{ctx.prec=}')\n",
    "print(f'{ctx.rounding=}')\n",
    "\n",
    "with decimal.localcontext() as ctx:\n",
    "    ctx.rounding = decimal.ROUND_HALF_UP\n",
    "    print('local context:', ctx)\n",
    "    print('getcontext:', decimal.getcontext()) # getcontext will actually get local context\n",
    "    print(f'inside: {round(Decimal('1.25'), 1)=}')\n",
    "\n",
    "print(f'outside: {round(Decimal('1.25'), 1)=}')"
   ]
  },
  {
   "cell_type": "code",
   "execution_count": 7,
   "metadata": {},
   "outputs": [
    {
     "name": "stdout",
     "output_type": "stream",
     "text": [
      "Decimal(1)=Decimal('1')\n",
      "Decimal(3.14)=Decimal('3.140000000000000124344978758017532527446746826171875')\n",
      "Decimal(\"3.14\")=Decimal('3.14')\n",
      "Decimal((1, (3, 1, 4), -2))=Decimal('-3.14')\n"
     ]
    }
   ],
   "source": [
    "from decimal import Decimal\n",
    "\n",
    "print(f'{Decimal(1)=}')\n",
    "print(f'{Decimal(3.14)=}')\n",
    "print(f'{Decimal(\"3.14\")=}')\n",
    "print(f'{Decimal((1, (3, 1, 4), -2))=}')"
   ]
  },
  {
   "cell_type": "markdown",
   "metadata": {},
   "source": [
    "Context precision affects mathematical operation, but it does not affect the constructor."
   ]
  },
  {
   "cell_type": "code",
   "execution_count": 10,
   "metadata": {},
   "outputs": [
    {
     "name": "stdout",
     "output_type": "stream",
     "text": [
      "a=Decimal('0.12345'), b=Decimal('0.12345')\n",
      "a + b = 0.25\n",
      "c=Decimal('0.25')\n"
     ]
    }
   ],
   "source": [
    "import decimal\n",
    "from decimal import Decimal\n",
    "\n",
    "decimal.getcontext().prec = 2\n",
    "\n",
    "a = Decimal('0.12345')\n",
    "b = Decimal('0.12345')\n",
    "c = a + b\n",
    "print(f'{a=}, {b=}')\n",
    "print('a + b =', c)\n",
    "print(f'{c=}') # the actual value of c has been permanently affected by precision"
   ]
  },
  {
   "cell_type": "markdown",
   "metadata": {},
   "source": [
    "Some arithmetic operators don't work the same as floats or integers.\n",
    "\n",
    "* `//`, `%`, and also `divmod()`\n",
    "  * for integers, `//` performs floor division\n",
    "  * for Decimals, `//` performs truncated division\n",
    "  * the equation n = d * (n // d) + n % d still holds\n",
    "* The Decimal class defines a bunch of various mathematical operations, such as `sqrt`, `exp`, `ln`, `log10`, etc.\n",
    "* We can still apply functions from math `module` to Decimals, but `Decimal` objects will first be cast to floats, so we lose the whole precision mechanism that made us use Decimal objects in the first place."
   ]
  },
  {
   "cell_type": "code",
   "execution_count": 15,
   "metadata": {},
   "outputs": [
    {
     "name": "stdout",
     "output_type": "stream",
     "text": [
      "root: 0.1000000000000000055511151231\n",
      "root_mixed: 0.1000000000000000055511151231\n",
      "root_dec: 0.1000000000000000000000000000\n",
      "\n",
      "quantize method:\n",
      "7.3\n",
      "7.4\n",
      "8\n",
      "8\n",
      "8\n"
     ]
    }
   ],
   "source": [
    "import math\n",
    "import decimal\n",
    "from decimal import Decimal\n",
    "\n",
    "x = 0.01\n",
    "x_dec = Decimal('0.01')\n",
    "\n",
    "root = math.sqrt(x)\n",
    "root_mixed = math.sqrt(x_dec)\n",
    "root_dec = x_dec.sqrt()\n",
    "\n",
    "print('root:', f'{root:.28f}')\n",
    "print('root_mixed:', f'{root_mixed:.28f}')\n",
    "print('root_dec:', f'{root_dec:.28f}')\n",
    "\n",
    "print('\\nquantize method:')\n",
    "print(Decimal('7.325').quantize(Decimal('0.1'), rounding=decimal.ROUND_DOWN))\n",
    "print(Decimal('7.325').quantize(Decimal('0.1'), rounding=decimal.ROUND_UP))\n",
    "print(Decimal('7.325').quantize(Decimal('1'), rounding=decimal.ROUND_UP))\n",
    "print(Decimal('7.325').quantize(Decimal('1.'), rounding=decimal.ROUND_UP))\n",
    "print(Decimal('7.325').quantize(Decimal(1), rounding=decimal.ROUND_UP))\n"
   ]
  },
  {
   "cell_type": "markdown",
   "metadata": {},
   "source": [
    "There are some drawbacks to the `Decimal` class vs the `float` class\n",
    "\n",
    "* not as easy to code: construction via strings or tuples\n",
    "* not all mathematical functions that exist in the `math` module have a `Decimal` counterpart\n",
    "* more memory overhead\n",
    "* performance: much slower than floats"
   ]
  },
  {
   "cell_type": "markdown",
   "metadata": {},
   "source": [
    "### Complex numbers\n",
    "\n",
    "The `complex` class:\n",
    "\n",
    "* Constructor: `complex(x, y)`\n",
    "  * `x`: real part, `y`: imaginary part\n",
    "  * `x` and `y` are stored as floats\n",
    "* Literals: `x + yj`, or `x + yJ`\n",
    "* Some instance properties and methods\n",
    "  * `.real`: returns the real part\n",
    "  * `.imag`: returns the imaginary part\n",
    "  * `.conjugate()`: returns the complex conjugate\n",
    "* The standard arithmetic operators (`+`, `-`, `*`, `/`, `**`) works as expected with complex numbers\n",
    "  * real and complex numbers can be mixed\n",
    "  * `//` and `%` operators are not supported\n",
    "* `==` and `!=` operators are supported, but we have the same problem as with floats\n",
    "* Comparison operators such as `<`, `>`, `>=`, and `<=` are not supported\n",
    "* Functions in the `math` module will not work, use the `cmath` module instead\n",
    "\n",
    "Rectangular to polar:\n",
    "\n",
    "* `cmath.phase(x)`: returns the phase φ of the complex number `x`, φ ∈ [-π, π] measured counter-clockwise from the real axis\n",
    "* `abs(x)`: returns the magnitude r of `x`\n",
    "* `cmath.polar(x)`: returns the representation of `x` in polar coordinates. Returns a pair `(r, phi)` where `r` is the modulus of `x` and `phi` is the phase of `x`. `polar(x)` is equivalent to `(abs(x), phase(x))`.\n",
    "\n",
    "Polar to rectangular:\n",
    "\n",
    "* `cmath.rect(r, phi)`: returns a complex number (rectangular coordinates) equivalent to the complex number defined by `(r, phi)` in polar coordinates\n",
    "* the conversion is not exact because of the inexact representation of floats and irrational numbers"
   ]
  },
  {
   "cell_type": "code",
   "execution_count": 25,
   "metadata": {},
   "outputs": [
    {
     "name": "stdout",
     "output_type": "stream",
     "text": [
      "e^(iπ) + 1 = 0: False\n",
      "e^(iπ) + 1 is close 0: True\n",
      "cmath.rect(2 ** 0.5, cmath.pi / 4)=(1.0000000000000002+1.0000000000000002j)\n",
      "math.pi is cmath.pi: False\n",
      "math.pi == cmath.pi: True\n"
     ]
    }
   ],
   "source": [
    "# Euler's identity\n",
    "# e^(iπ) + 1 = 0\n",
    "\n",
    "import cmath\n",
    "import math\n",
    "import sys\n",
    "\n",
    "epsilon = sys.float_info.epsilon\n",
    "\n",
    "print('e^(iπ) + 1 = 0:', cmath.exp(1j * cmath.pi + 1) == 0)\n",
    "print('e^(iπ) + 1 is close 0:', cmath.isclose(cmath.exp(1j * cmath.pi) + 1, 0, rel_tol=epsilon, abs_tol=epsilon))\n",
    "\n",
    "print(f'{cmath.rect(2 ** 0.5, cmath.pi / 4)=}')\n",
    "print('math.pi is cmath.pi:', math.pi is cmath.pi)\n",
    "print('math.pi == cmath.pi:', math.pi == cmath.pi)"
   ]
  },
  {
   "cell_type": "markdown",
   "metadata": {},
   "source": [
    "### Booleans\n",
    "\n",
    "Python has a concrete `bool` class that is used to represent Boolean values.\n",
    "\n",
    "* The `bool` class is a subclass of the `int` class.\n",
    "* They possess all the properties and methods of integers, and add some specialized ones such as `and`, `or`, etc.\n",
    "* Two constants are defined `True` and `False`. \n",
    "* They are singleton objects of `bool`, so they will always retain their same memory address through out the lifetime of your application.\n",
    "\n"
   ]
  },
  {
   "cell_type": "code",
   "execution_count": 30,
   "metadata": {},
   "outputs": [
    {
     "name": "stdout",
     "output_type": "stream",
     "text": [
      "bool is subclass of int: True\n",
      "True is instance of bool: True\n",
      "False is instance of bool: True\n",
      "int(True)=1\n",
      "int(False)=0\n",
      "True == 1: True\n",
      "False == 0: True\n",
      "True is 1: False\n",
      "True + True == 2\n",
      "True > False: True\n",
      "(1 == 2) == False: True\n",
      "(1 == 2) == 0: True\n",
      "-True = -1\n"
     ]
    },
    {
     "name": "stderr",
     "output_type": "stream",
     "text": [
      "<>:8: SyntaxWarning: \"is\" with 'int' literal. Did you mean \"==\"?\n",
      "<>:8: SyntaxWarning: \"is\" with 'int' literal. Did you mean \"==\"?\n",
      "C:\\Users\\FREEDEMPIRE-XL\\AppData\\Local\\Temp\\ipykernel_13724\\1539027584.py:8: SyntaxWarning: \"is\" with 'int' literal. Did you mean \"==\"?\n",
      "  print('True is 1:', True is 1)\n"
     ]
    }
   ],
   "source": [
    "print('bool is subclass of int:', issubclass(bool, int))\n",
    "print('True is instance of bool:', isinstance(True, bool))\n",
    "print('False is instance of bool:', isinstance(False, bool))\n",
    "print(f'{int(True)=}')\n",
    "print(f'{int(False)=}')\n",
    "print('True == 1:', True == 1)\n",
    "print('False == 0:', False == 0)\n",
    "print('True is 1:', True is 1)\n",
    "print('True + True ==', True + True)\n",
    "print('True > False:', True > False)\n",
    "print('(1 == 2) == False:', (1 == 2) == False)\n",
    "print('(1 == 2) == 0:', (1 == 2) == 0)\n",
    "print('-True =', -True)"
   ]
  },
  {
   "cell_type": "markdown",
   "metadata": {},
   "source": [
    "The Boolean constructor:\n",
    "\n",
    "* The Boolean constructor `bool(x)` returns `True` when `x` is `True`, and `False` when `x` is `False`.\n",
    "* Many classes contain a definition of how to cast instances of themselves to a Boolean. \n",
    "  * This is called the truth value of an object.\n",
    "  * Every object has a `True` value, except:\n",
    "    * `None`\n",
    "    * `False`\n",
    "    * `0` in any numeric type (e.g. `0`, `0.0`, `0 + 0j`, ...)\n",
    "    * empty sequences (e.g. list, tuple, string, ...)\n",
    "    * empty mapping types (e.g. dictionary, set, ...)\n",
    "    * custom classes that implement a `__bool__` or `__len__` method that returns `False` or `0`\n",
    "    * the default truthiness of an object is `True`"
   ]
  },
  {
   "cell_type": "code",
   "execution_count": 31,
   "metadata": {},
   "outputs": [
    {
     "name": "stdout",
     "output_type": "stream",
     "text": [
      "1\n"
     ]
    }
   ],
   "source": [
    "a = [1, 2, 3]\n",
    "\n",
    "if a: # work the same way as the code below but more concise\n",
    "# if a is not None and len(a) > 0:\n",
    "    print(a[0])\n",
    "else:\n",
    "    print('Nothing to see here...')"
   ]
  },
  {
   "cell_type": "markdown",
   "metadata": {},
   "source": [
    "The Boolean operators:\n",
    "\n",
    "* `not`\n",
    "* `and`\n",
    "* `or`\n",
    "\n",
    "* Commutativity\n",
    "  * A or B == B or A\n",
    "  * A and B == B and A\n",
    "* Distributivity\n",
    "  * A and (B or C) == (A and B) or (A and C)\n",
    "  * A or (B and C) == (A or B) and (A or C)\n",
    "* Associativity\n",
    "  * A or (B or C) == (A or B) or C == A or B or C\n",
    "  * A and (B and C) == (A and B) and C == A and B and C\n",
    "* De Morgan's theorem\n",
    "  * not (A or B) == not A and not B\n",
    "  * not (A and B) == not A or not B\n",
    "\n",
    "Operator precedence from high to low:\n",
    "\n",
    "* `()`\n",
    "* `<`, `>`, `<=`, `>=`, `==`, `!=`, `in`, `is`, `is not`, `not in`\n",
    "* `not`: `not` has a lower priority than non-Boolean operators, so `not a == b` is interpreted as `not (a == b)`, and `a == not b` is a syntax error\n",
    "* `and`\n",
    "* `or`\n",
    "\n",
    "When in doubt, or to be absolutely sure, use parentheses. Also, use parentheses to make your code more human readable.\n",
    "\n",
    "Short-circuit evaluation:\n",
    "\n",
    "* `and`: returns the first falsy value or the last value, only evaluates the second operand if the first one is true\n",
    "* `or`: returns the first truthy value or the last value, only evaluates the second operand if the first one is false"
   ]
  },
  {
   "cell_type": "code",
   "execution_count": 4,
   "metadata": {},
   "outputs": [
    {
     "name": "stdout",
     "output_type": "stream",
     "text": [
      "get_first_letter(s1)=''\n",
      "get_first_letter(s2)=''\n",
      "get_first_letter(s3)='a'\n"
     ]
    }
   ],
   "source": [
    "def get_first_letter(s):\n",
    "    # if s:\n",
    "    #     return s[0]\n",
    "    # else:\n",
    "    #     return ''\n",
    "    return s and s[0] or ''\n",
    "\n",
    "s1 = None\n",
    "s2 = ''\n",
    "s3 = 'abc'\n",
    "\n",
    "print(f'{get_first_letter(s1)=}')\n",
    "print(f'{get_first_letter(s2)=}')\n",
    "print(f'{get_first_letter(s3)=}')"
   ]
  },
  {
   "cell_type": "markdown",
   "metadata": {},
   "source": [
    "### Comparison operators\n",
    "\n",
    "Categories of operators\n",
    "\n",
    "* General features\n",
    "  * binary operators\n",
    "  * evaluate to a `bool` value\n",
    "* Identity operators\n",
    "  * `is`, `is not`\n",
    "  * compare memory address\n",
    "* Value comparisons\n",
    "  * `==`, `!=`\n",
    "  * compare values, \n",
    "  * different types are OK, but must be compatible\n",
    "* Ordering comparisons\n",
    "  * `<`, `>`, `<=`, `>=`\n",
    "  * doesn't work for all types\n",
    "* Membership operators\n",
    "  * `in`, `not in`\n",
    "  * used with iterable types\n",
    "\n",
    "Numeric types\n",
    "\n",
    "* Value comparisons will work with all numeric types.\n",
    "* Mixed types in value and ordering (except complex) comparisons is supported.\n",
    "* Value equality operators work between floats and Decimals, but using value equality with floats has some issues.\n",
    "\n",
    "Chained comparisons\n",
    "\n",
    "* `a == b == c`: `a == b and b == c`\n",
    "* `a < b < c`: `a < b and b < c`\n",
    "* `a < b > c`: `a < b and b > c`\n",
    "* `a < b < c < d`: `a < b and b < c and c < d`\n",
    "* `'A' < 'a' > 'Z' in string.ascii_letters`: `'A' < 'a' and 'a' > 'Z' and 'Z' in string.ascii_letters`"
   ]
  },
  {
   "cell_type": "code",
   "execution_count": 5,
   "metadata": {},
   "outputs": [
    {
     "name": "stdout",
     "output_type": "stream",
     "text": [
      "1 == 1.0: True\n",
      "1.0 == Decimal(\"1.0\"): True\n",
      "1 == Fraction(3, 3): True\n",
      "0.1 == Decimal(\"0.1\"): False\n",
      "4 == 4 + 0j: True\n",
      "3 < 2 < 4 / 0: False\n"
     ]
    }
   ],
   "source": [
    "from fractions import Fraction\n",
    "from decimal import Decimal\n",
    "\n",
    "print('1 == 1.0:', 1 == 1.0)\n",
    "print('1.0 == Decimal(\"1.0\"):', 1.0 == Decimal(\"1.0\"))\n",
    "print('1 == Fraction(3, 3):', 1 == Fraction(3, 3))\n",
    "print('0.1 == Decimal(\"0.1\"):', 0.1 == Decimal(\"0.1\")) # floats representation issue\n",
    "print('4 == 4 + 0j:', 4 == 4 + 0j)\n",
    "print('3 < 2 < 4 / 0:', 3 < 2 < 4 / 0) # short-circuited"
   ]
  },
  {
   "cell_type": "markdown",
   "metadata": {},
   "source": [
    "## Function parameters"
   ]
  },
  {
   "cell_type": "markdown",
   "metadata": {},
   "source": [
    "### Arguments vs parameters\n",
    "\n",
    "* `def my_func(a, b)`\n",
    "  * in this context, `a` and `b` are called parameters of `my_func`\n",
    "  * `a` and `b` are variables, local to `my_func`\n",
    "* `my_func(x, y)`\n",
    "  * `x` and `y` are called the arguments of `my_func`\n",
    "  * `x` and `y` are passed by reference, i.e., the memory addresses of `x` and `y` are passed"
   ]
  },
  {
   "cell_type": "markdown",
   "metadata": {},
   "source": [
    "### Positional and keyword arguments\n",
    "\n",
    "* Positional arguments\n",
    "  * most common way of assigning arguments to parameters: via the order in which they are passed, i.e., their position\n",
    "  * a positional argument can be made *optional* by specifying a default value for the corresponding parameter\n",
    "  * if a positional parameter is defined with a default value, every positional parameter after it must also be given a default value\n",
    "* Keyword arguments (named arguments)\n",
    "  * positional arguments can, *optionally*, be specified by using the parameter name whether or not the parameters have default values\n",
    "  * the order of keyword arguments doesn't matter\n",
    "  * once you use a named argument, all arguments thereafter must be named too\n",
    "  * default arguments may still be omitted"
   ]
  },
  {
   "cell_type": "code",
   "execution_count": 1,
   "metadata": {},
   "outputs": [
    {
     "name": "stdout",
     "output_type": "stream",
     "text": [
      "a=1, b=2, c=3\n",
      "a=1, b=2, c=30\n",
      "a=10, b=20, c=30\n",
      "a=10, b=20, c=40\n"
     ]
    }
   ],
   "source": [
    "def my_func(a, b=20, c=30):\n",
    "    print(f'{a=}, {b=}, {c=}')\n",
    "\n",
    "my_func(1, 2, 3)\n",
    "my_func(1, 2)\n",
    "my_func(b=20, a=10)\n",
    "my_func(10, c=40)"
   ]
  },
  {
   "cell_type": "markdown",
   "metadata": {},
   "source": [
    "### Unpacking iterables\n",
    "\n",
    "A side note on tuples\n",
    "\n",
    "* What defines a tuple in Python is not `()` but `,`\n",
    "* The `()` are used to make the tuple clearer\n",
    "* To create a tuple with a single element:\n",
    "  * `(1)` will not work as intended -> `int`\n",
    "  * `1,` or `(1,)` -> `tuple`\n",
    "* The only exception is when creating an empty tuple: `()` or `tuple()`\n",
    "\n",
    "Packed values\n",
    "\n",
    "* Packed values refers to values that are bundled together in some way\n",
    "* Tuples and lists are obvious\n",
    "* A string is considered to be a packed value\n",
    "* Sets and dictionaries are also packed values\n",
    "* In fact, any `iterable` can be considered a packed value\n",
    "\n",
    "Unpacking packed values\n",
    "\n",
    "* Unpacking is the act of splitting packed values into individual variables contained in a list or tuple\n",
    "  * `a, b, c = [1, 2, 3]`\n",
    "  * 3 elements in `[1, 2, 3]` need 3 variables to unpack\n",
    "  * `a, b, c` is actually a tuple of 3 variables\n",
    "* The unpacking into individual variables is based on the relative positions of each element\n",
    "  * This is how positional arguments are assigned to parameters in functions\n",
    "\n",
    "Swapping values of two variables\n",
    "\n",
    "* No temporary variable involved\n",
    "* `a, b = b, a`\n",
    "* This works because in Python, the entire right hand side is evaluated first and completely, then assignments are made to the left hand side, i.e., `(a, b) = (b, a)`"
   ]
  },
  {
   "cell_type": "code",
   "execution_count": 6,
   "metadata": {},
   "outputs": [
    {
     "name": "stdout",
     "output_type": "stream",
     "text": [
      "<class 'tuple'>\n",
      "<class 'tuple'>\n",
      "<class 'int'>\n",
      "<class 'tuple'>\n",
      "<class 'tuple'>\n",
      "<class 'tuple'>\n",
      "a='s', b='t', c='r'\n"
     ]
    }
   ],
   "source": [
    "# parentheses are not necessary when defining a tuple, except for empty tuples\n",
    "a = (1, 2)\n",
    "print(type(a))\n",
    "a = 1, 2\n",
    "print(type(a))\n",
    "a = (1) # int\n",
    "print(type(a))\n",
    "a = (1,)\n",
    "print(type(a))\n",
    "a = 1,\n",
    "print(type(a))\n",
    "a = ()\n",
    "print(type(a))\n",
    "\n",
    "a, b, c = 'str'\n",
    "print(f'{a=}, {b=}, {c=}')"
   ]
  },
  {
   "cell_type": "markdown",
   "metadata": {},
   "source": [
    "Unpacking sets and dictionaries\n",
    "\n",
    "* When unpacking dictionaries, we are actually unpacking the keys.\n",
    "* Dictionaries and sets are unordered types. They can be iterated, but there is no guarantee the order of the results will match your expectation.\n",
    "* Starting from Python 3.7, dictionary order is guaranteed to be insertion order. Order is maintained while iterating through the dictionary and while converting a dictionary to some other data type.\n",
    "* Sets are like dictionaries, except they don't have values, only keys."
   ]
  },
  {
   "cell_type": "code",
   "execution_count": 5,
   "metadata": {},
   "outputs": [
    {
     "name": "stdout",
     "output_type": "stream",
     "text": [
      "nhotpy\n",
      "otnhyp\n",
      "python\n"
     ]
    }
   ],
   "source": [
    "s1 = set('python')\n",
    "s2 = {'p', 'y', 't', 'h', 'o', 'n'}\n",
    "d = {'p': 1, 'y': 2, 't': 3, 'h': 4, 'o': 5, 'n': 6}\n",
    "\n",
    "def print_els(container):\n",
    "    for c in container:\n",
    "        print(c, end='')\n",
    "    print()\n",
    "\n",
    "print_els(s1)\n",
    "print_els(s2)\n",
    "print_els(d)"
   ]
  },
  {
   "cell_type": "markdown",
   "metadata": {},
   "source": [
    "### Extended unpacking\n",
    "\n",
    "The use case for `*`\n",
    "\n",
    "* We don't always want to unpack every single item in an iterable. We may, for example, want to unpack the first value, and then unpack the remaining values into another variable.\n",
    "  * we can achieve this using slicing\n",
    "    * `a = my_list[0]`, `b = my_list[1:]`\n",
    "  * or, using simple unpacking\n",
    "    * `a, b = my_list[0], my_list[1:]`\n",
    "  * we can also use the `*` operator\n",
    "    * `a, *b = my_list`\n",
    "    * `b` will be of `list` type\n",
    "    * apart from cleaner syntax, `*` also works with any iterable, not just sequence types\n",
    "    * `*` still works with sets and dictionary keys, but unpacking this way may have no guarantee of preserving the order in which the elements were created or added\n",
    "    * the `*` operator can only be used once on the same level of unpacking in the left hand side of an unpacking assignment\n",
    "* The `*` operator can also be used to merge iterables into one in the right hand side of an expression.\n",
    "  * `my_list = = [*list1, *list2]`\n",
    "  * this is useful in a situation where you might want to create a single collection containing all the items of multiple sets, or all the keys of multiple dictionaries\n",
    "\n",
    "The `**` unpacking operator\n",
    "\n",
    "* The `**` operator is used for dictionary unpacking, also known as keyword argument unpacking.\n",
    "* It allows you to use a dictionary to supply keyword arguments when calling a function.\n",
    "* It can also be used to merge multiple dictionaries into one. If there are common keys, the newer value will overwrite the older one under the same key.\n",
    "* The `**` operator cannot be used in the left hand side of an assignment.\n",
    "\n",
    "Nested unpacking\n",
    "\n",
    "* Python supports nested unpacking as well.\n",
    "  * `a, b, (c, d) = [1, 2, [3, 4]]`\n",
    "  * `a, *b, (c, d, e) = [1, 2, 3, 'xyz']`"
   ]
  },
  {
   "cell_type": "code",
   "execution_count": 8,
   "metadata": {},
   "outputs": [
    {
     "name": "stdout",
     "output_type": "stream",
     "text": [
      "a=1, b=2, c=[3, (4, 5, 6)]\n",
      "a=1, b=[2, 3], c=4, d=5, e=6\n",
      "a=1, b=[2, 3], c=4, d=[5, 6]\n",
      "a='u', b=['v', 'w', 'x'], c='y', d='z'\n",
      "a=1, b=[2, 3]\n",
      "[1, 2, 3]\n",
      "[1, 2, 3, 4, 5, 6, 'a', 'b', 'c']\n",
      "['a', 'b', 'c', 'c', 'd']\n",
      "{'a': 1, 'b': 2, 'c': 3, 'd': 4}\n"
     ]
    }
   ],
   "source": [
    "my_list = [1, 2, 3, (4, 5, 6)]\n",
    "a, b, *c = my_list\n",
    "print(f'{a=}, {b=}, {c=}')\n",
    "a, *b, (c, d, e) = my_list # nested unpacking\n",
    "print(f'{a=}, {b=}, {c=}, {d=}, {e=}')\n",
    "a, *b, (c, *d) = my_list # multiple * operators on different levels of unpacking\n",
    "print(f'{a=}, {b=}, {c=}, {d=}')\n",
    "\n",
    "my_string = 'uvwxyz'\n",
    "a, *b, c, d = my_string\n",
    "print(f'{a=}, {b=}, {c=}, {d=}')\n",
    "\n",
    "my_set = {1, 2, 3}\n",
    "a, *b = my_set\n",
    "print(f'{a=}, {b=}')\n",
    "*l, = my_set # convert my_set to a list\n",
    "print(l)\n",
    "\n",
    "l1 = [1, 2, 3]\n",
    "l2 = [4, 5, 6]\n",
    "s = 'abc'\n",
    "l = [*l1, *l2, *s]\n",
    "print(l)\n",
    "\n",
    "d1 = {'a': 1, 'b': 2, 'c': 5}\n",
    "d2 = {'c': 3, 'd': 4}\n",
    "l = [*d1, *d2] # get all the keys of both dictionaries\n",
    "d = {**d1, **d2} # merge dictionaries into one\n",
    "print(l)\n",
    "print(d)"
   ]
  },
  {
   "cell_type": "markdown",
   "metadata": {},
   "source": [
    "### *args\n",
    "\n",
    "* `*args` allows a function to accept a variable number of non-keyword arguments.\n",
    "* Use it in a function definition to handle an arbitrary number of positional arguments.\n",
    "* It is customary (but not required) to name it `*args`.\n",
    "* `args` will end up a tuple, not a list, unlike what we have when doing iterable unpacking.\n",
    "* `*args` exhausts positional arguments. You cannot add more positional arguments after `*args`.\n",
    "\n",
    "Unpacking arguments: we can unpack or deconstruct a collection when pass the collection to af function, just like iterable unpacking."
   ]
  },
  {
   "cell_type": "code",
   "execution_count": 9,
   "metadata": {},
   "outputs": [
    {
     "name": "stdout",
     "output_type": "stream",
     "text": [
      "2.0\n",
      "a=1, b=(2, 3)\n"
     ]
    }
   ],
   "source": [
    "def average(number, *args):\n",
    "    return (number + sum(args)) / (len(args) + 1)\n",
    "\n",
    "def my_func(a, *b):\n",
    "    print(f'{a=}, {b=}')\n",
    "\n",
    "print(average(1, 2, 3))\n",
    "\n",
    "l = [1, 2, 3]\n",
    "my_func(*l)"
   ]
  },
  {
   "cell_type": "markdown",
   "metadata": {},
   "source": [
    "### Keyword arguments\n",
    "\n",
    "Mandatory keyword arguments\n",
    "\n",
    "* We can make keyword arguments mandatory.\n",
    "* To do so, we create parameters after the positional parameters have been exhausted.\n",
    "  * `def func(a, b, *args, d)`\n",
    "  * `args` effectively exhausted all positional arguments and `d` must be passed as a keyword argument\n",
    "* We can force no positional arguments at all\n",
    "  * `def func(*, d)`\n",
    "  * `*` indicates the end of positional arguments\n",
    "* `def func(a, b=1, *args, d, e=True)`\n",
    "  * `a`: mandatory positional argument, may be specified using a named argument\n",
    "  * `b`: optional positional argument, may be specified positionally, as a named argument, or not at all, defaults to `1`\n",
    "  * `args`: catch-all for any optional additional positional arguments\n",
    "  * `d`: mandatory keyword argument\n",
    "  * `e`: optional keyword argument, defaults to `True`\n",
    "* `def func(a, b=1, *, d, e=True)`\n",
    "  * `*`: no additional positional arguments allowed"
   ]
  },
  {
   "cell_type": "markdown",
   "metadata": {},
   "source": [
    "### **kwargs\n",
    "\n",
    "* `*args` is used to scoop up a variable amount of remaining positional arguments.\n",
    "  * The parameter name `args` is arbitrary.\n",
    "  * `*` is the real performer here.\n",
    "* `**kwargs` is used to scoop up a variable amount of remaining keyword arguments.\n",
    "  * The parameter name `kwargs` is arbitrary.\n",
    "  * `**` is the real performer here.\n",
    "* `**kwargs` can be specified even if the positional arguments have not been exhausted, unlike keyword-only arguments.\n",
    "* No parameter can come after `**kwargs`"
   ]
  },
  {
   "cell_type": "markdown",
   "metadata": {},
   "source": [
    "### Putting all types of parameters together\n",
    "\n",
    "* positional arguments\n",
    "  * may have default value\n",
    "  * non-defaulted parameters are mandatory args\n",
    "  * user may specify them using keywords\n",
    "  * `*args` collects and exhausts remaining positional arguments\n",
    "  * `*` indicates the end of positional arguments\n",
    "* keyword-only arguments\n",
    "  * after positional arguments have been exhausted, i.e., `*` or `*args` must be used\n",
    "  * may have default value\n",
    "  * non-defaulted parameters are mandatory args\n",
    "  * user must specify them using keywords\n",
    "  * `**kwargs` collects any remaining keyword arguments, does not require the use of `*` or `*args`\n",
    "\n",
    "Examples:\n",
    "\n",
    "* `def func(a, b=10)`\n",
    "* `def func(a, b, *args)`\n",
    "* `def func(a, b, *args, kw1, kw2=100)`\n",
    "* `def func(a, b=10, *args, kw1, kw2=100)`: the default value for `b` is not very useful, because if there are additional positional values, you can't assign them to `args` without overwriting the default value of `b`\n",
    "* `def func(a, b=10, *, kw1, kw2=100)`\n",
    "* `def func(a, b, *args, kw1, kw2=100, **kwargs)`\n",
    "* `def func(a, b=10, *, kw1, kw2=100, **kwargs)`\n",
    "* `def func(*args)`\n",
    "* `def func(**kwargs)`\n",
    "* `def func(*args, **kwargs)`: any named arguments passed to the `func` will be collected by `kwargs`\n",
    "\n",
    "Typical use case\n",
    "\n",
    "* Python's `print()` function\n",
    "  * `print(*objects, sep=' ', end='\\n', file=None, flush=False)`\n",
    "* Often, keyword-only arguments are used to modify the default behavior of a function such as the `print()` function we saw.\n",
    "* Other times, keyword-arguments might be used to make things clearer."
   ]
  },
  {
   "cell_type": "code",
   "execution_count": 14,
   "metadata": {},
   "outputs": [
    {
     "name": "stdout",
     "output_type": "stream",
     "text": [
      "(0, 0, 0.0)\n",
      "(5, 1, 3.0)\n",
      "hi=5, lo=1, avg=3.0\n",
      "(5, 1, 3.0)\n"
     ]
    }
   ],
   "source": [
    "def calc_hi_lo_avg(*args, log_to_console=False):\n",
    "    # hi = int(bool(args)) and max(args) # int(bool()) here can be changed to len(), because args will always be a tuple, not None\n",
    "    hi = len(args) and max(args)\n",
    "    lo = len(args) and min(args)\n",
    "    avg = (hi + lo) / 2\n",
    "    if log_to_console:\n",
    "        print(f'{hi=}, {lo=}, {avg=}')\n",
    "    return hi, lo, avg\n",
    "\n",
    "print(calc_hi_lo_avg())\n",
    "print(calc_hi_lo_avg(1, 2, 3, 4, 5))\n",
    "print(calc_hi_lo_avg(1, 2, 3, 4, 5, log_to_console=True))"
   ]
  },
  {
   "cell_type": "code",
   "execution_count": 16,
   "metadata": {},
   "outputs": [
    {
     "name": "stdout",
     "output_type": "stream",
     "text": [
      "time_it(compute_powers_1, 2, rep=5, end=20000)=0.573390859994106\n",
      "time_it(compute_powers_2, 2, rep=5, end=20000)=0.5475154799991288\n",
      "time_it(compute_powers_3, 2, rep=5, end=20000)=2.3799948394298553e-06\n"
     ]
    }
   ],
   "source": [
    "import time\n",
    "\n",
    "def time_it(fn, *args, rep=1, **kwargs):\n",
    "    start = time.perf_counter()\n",
    "    for _ in range(rep):\n",
    "        fn(*args, **kwargs)\n",
    "    end = time.perf_counter()\n",
    "    return (end - start) / rep\n",
    "\n",
    "def compute_powers_1(n, *, start=1, end):\n",
    "    result = []\n",
    "    for i in range(start, end):\n",
    "        result.append(n ** i)\n",
    "    return result\n",
    "\n",
    "def compute_powers_2(n, *, start=1, end):\n",
    "    # using list comprehension\n",
    "    return [n ** i for i in range(start, end)]\n",
    "\n",
    "def compute_powers_3(n, *, start=1, end):\n",
    "    # using generator expression\n",
    "    return (n ** i for i in range(start, end))\n",
    "\n",
    "print(f'{time_it(compute_powers_1, 2, rep=5, end=20000)=}')\n",
    "print(f'{time_it(compute_powers_2, 2, rep=5, end=20000)=}')\n",
    "print(f'{time_it(compute_powers_3, 2, rep=5, end=20000)=}')"
   ]
  },
  {
   "cell_type": "markdown",
   "metadata": {},
   "source": [
    "### Default values\n",
    "\n",
    "What happens at run-time\n",
    "\n",
    "* When a module is loaded, all code is executed immediately\n",
    "  * `def func(a=10)`\n",
    "    * the function object is created, and `func` references it\n",
    "    * the integer object `10` is evaluated/created and is assigned as the default for `a`\n",
    "  * `func()`\n",
    "    * the function is executed\n",
    "    * by the time this happens, the default value for `a` has already been evaluated and assigned -- it is not re-evaluated when the function is called\n",
    "* In general, always beware of using a *mutable* object (or a *callable*) for an argument default."
   ]
  },
  {
   "cell_type": "code",
   "execution_count": 18,
   "metadata": {},
   "outputs": [
    {
     "name": "stdout",
     "output_type": "stream",
     "text": [
      "2023-12-30 05:11:41.142625+00:00: msg_1\n",
      "2023-12-30 05:11:41.142625+00:00: msg_2\n",
      "----------\n",
      "2023-12-30 05:11:41.142625+00:00: msg_1\n",
      "2023-12-30 05:11:41.143587+00:00: msg_2\n"
     ]
    }
   ],
   "source": [
    "import datetime\n",
    "\n",
    "# buggy default value for dt\n",
    "def log_1(msg, *, dt=datetime.datetime.now(datetime.UTC)):\n",
    "    print(f'{dt}: {msg}')\n",
    "\n",
    "def log_2(msg, *, dt=None):\n",
    "    dt = dt or datetime.datetime.now(datetime.UTC)\n",
    "    print(f'{dt}: {msg}')\n",
    "\n",
    "log_1('msg_1')\n",
    "log_1('msg_2')\n",
    "print('-'*10)\n",
    "log_2('msg_1')\n",
    "log_2('msg_2')"
   ]
  },
  {
   "cell_type": "code",
   "execution_count": 19,
   "metadata": {},
   "outputs": [
    {
     "name": "stdout",
     "output_type": "stream",
     "text": [
      "[1, 2]\n",
      "[1, 2, 3]\n"
     ]
    }
   ],
   "source": [
    "my_list = [1, 2]\n",
    "def func(a=my_list):\n",
    "    print(a)\n",
    "\n",
    "func()\n",
    "my_list.append(3)\n",
    "func() # the default value of a was changed unexpectedly"
   ]
  },
  {
   "cell_type": "code",
   "execution_count": 21,
   "metadata": {},
   "outputs": [
    {
     "name": "stdout",
     "output_type": "stream",
     "text": [
      "['apple: 2 kilo', 'milk: 1 liter']\n",
      "['apple: 2 kilo', 'milk: 1 liter', 'chicken: 2 kilo', 'eggs: 2 dozen']\n",
      "shopping_list_1 is shopping_list_2: True\n"
     ]
    }
   ],
   "source": [
    "# another example of buggy default value\n",
    "def add_to_list(name, quantity=1, unit='unit', lst=[]):\n",
    "    lst.append(f'{name}: {quantity} {unit}')\n",
    "    return lst\n",
    "\n",
    "shopping_list_1 = add_to_list('apple', 2, 'kilo')\n",
    "add_to_list('milk', 1, 'liter', shopping_list_1)\n",
    "print(shopping_list_1)\n",
    "\n",
    "shopping_list_2 = add_to_list('chicken', 2, 'kilo')\n",
    "add_to_list('eggs', 2, 'dozen', shopping_list_2)\n",
    "print(shopping_list_2)\n",
    "\n",
    "# because the default value for lst has already been evaluated to the same address for the list when the function is defined\n",
    "print('shopping_list_1 is shopping_list_2:', shopping_list_1 is shopping_list_2)"
   ]
  },
  {
   "cell_type": "code",
   "execution_count": 24,
   "metadata": {},
   "outputs": [
    {
     "name": "stdout",
     "output_type": "stream",
     "text": [
      "calculating 3!\n",
      "calculating 2!\n",
      "calculating 1!\n",
      "6\n",
      "calculating 3!\n",
      "calculating 2!\n",
      "calculating 1!\n",
      "6\n"
     ]
    }
   ],
   "source": [
    "def factorial(n: int):\n",
    "    if n < 1:\n",
    "        return 1\n",
    "    else:\n",
    "        print(f'calculating {n}!')\n",
    "        return n * factorial(n - 1)\n",
    "    \n",
    "print(factorial(3))\n",
    "print(factorial(3))"
   ]
  },
  {
   "cell_type": "code",
   "execution_count": 28,
   "metadata": {},
   "outputs": [
    {
     "name": "stdout",
     "output_type": "stream",
     "text": [
      "calculating 3!\n",
      "calculating 2!\n",
      "calculating 1!\n",
      "6\n",
      "6\n",
      "2\n",
      "calculating 4!\n",
      "24\n"
     ]
    }
   ],
   "source": [
    "# cached version\n",
    "# the same default dictionary will be used by the function\n",
    "def factorial_cached(n, cache={}):\n",
    "    if n < 1:\n",
    "        return 1\n",
    "    elif n in cache:\n",
    "        return cache[n]\n",
    "    else:\n",
    "        print(f'calculating {n}!')\n",
    "        result = n * factorial_cached(n - 1)\n",
    "        cache[n] = result\n",
    "        return result\n",
    "    \n",
    "print(factorial_cached(3))\n",
    "print(factorial_cached(3)) # with cache no need to calculate the same number\n",
    "print(factorial_cached(2))\n",
    "print(factorial_cached(4))"
   ]
  },
  {
   "cell_type": "markdown",
   "metadata": {},
   "source": [
    "## First-class functions"
   ]
  },
  {
   "cell_type": "markdown",
   "metadata": {},
   "source": [
    "First-class objects\n",
    "\n",
    "* can be passed to a function as an argument\n",
    "* can be returned from a function\n",
    "* can be assigned to a variable\n",
    "* can be stored in a data structure, such as list, tuple, dictionary, etc\n",
    "\n",
    "Functions are also first-class objects.\n",
    "\n",
    "Higher-order functions are functions that:\n",
    "\n",
    "* take a function as an argument\n",
    "* and/or return a function"
   ]
  },
  {
   "cell_type": "markdown",
   "metadata": {},
   "source": [
    "### Docstrings and annotations\n",
    "\n",
    "Docstrings\n",
    "\n",
    "* We can document our functions (and modules, classes, etc) using docstrings\n",
    "* If the first line of code in the function body is a string (not an assignment, just a string by itself), it will be interpreted as a docstring.\n",
    "* Multiline docstrings are achieved using multiline strings with triple delimiters.\n",
    "* The docstrings are stored in the function's `__doc__` property.\n",
    "\n",
    "Function Annotations\n",
    "\n",
    "* Function annotations give us an additional way to document our functions.\n",
    "  * `def my_func(a: <expression>, b: <expression>) -> <expression>:`\n",
    "  * `def my_func(a: str = 'xyz', *args: 'additional params', b: int = 1, **kwargs: 'additional keyword only params') -> str:`\n",
    "* Annotations can be any expression.\n",
    "* Annotations are stored in the `__annotations__` property of the function.\n",
    "  * the property is a dictionary\n",
    "  * keys are the parameter names\n",
    "  * for a return annotation, the key is `'return'`\n",
    "  * values are the annotations\n",
    "\n",
    "Docstrings and annotations are mainly used by external tools and modules.\n",
    "\n",
    "Docstrings and annotations are entirely optional, and do not force anything in our Python code."
   ]
  },
  {
   "cell_type": "code",
   "execution_count": 31,
   "metadata": {},
   "outputs": [
    {
     "name": "stdout",
     "output_type": "stream",
     "text": [
      "Help on function my_func in module __main__:\n",
      "\n",
      "my_func(a: 'annotation for a', b: 'annotation for b' = 1) -> 'something annotation for return'\n",
      "    documentation for my function\n",
      "\n",
      "documentation for my function\n",
      "{'a': 'annotation for a', 'b': 'annotation for b', 'return': 'something annotation for return'}\n"
     ]
    }
   ],
   "source": [
    "def my_func(a: 'annotation for a',\n",
    "            b: 'annotation for b' = 1) -> 'something annotation for return':\n",
    "    \"\"\"documentation for my function\"\"\"\n",
    "    return a * b\n",
    "\n",
    "help(my_func)\n",
    "print(my_func.__doc__)\n",
    "print(my_func.__annotations__)"
   ]
  },
  {
   "cell_type": "code",
   "execution_count": 32,
   "metadata": {},
   "outputs": [
    {
     "name": "stdout",
     "output_type": "stream",
     "text": [
      "{'a': <class 'str'>, 'b': 'int > 0', 'args': 'additional args', 'k1': 'keyword-only arg 1', 'k2': 'keyword-only arg 2', 'kwargs': 'additional keyword-only args', 'return': 'return something'}\n",
      "hello 1 (2, 3) world 100 {'k3': 'times'}\n"
     ]
    }
   ],
   "source": [
    "def my_func(a: str,\n",
    "            b: 'int > 0' = 1,\n",
    "            *args: 'additional args',\n",
    "            k1: 'keyword-only arg 1',\n",
    "            k2: 'keyword-only arg 2' = 100,\n",
    "            **kwargs: 'additional keyword-only args') -> 'return something':\n",
    "    print(a, b, args, k1, k2, kwargs)\n",
    "\n",
    "print(my_func.__annotations__)\n",
    "my_func('hello', 1, 2, 3, k1='world', k3='times')"
   ]
  },
  {
   "cell_type": "markdown",
   "metadata": {},
   "source": [
    "### Lambda expressions\n",
    "\n",
    "Lambda expressions are simply another way to create  functions (anonymous functions).\n",
    "\n",
    "* `lambda [parameter list]: expression`\n",
    "  * `lambda`: keyword\n",
    "  * `[parameter list]`: optional\n",
    "  * `:`: required\n",
    "  * `expression`: evaluated and returned when the lambda function is called\n",
    "* The whole lambda expression returns a function object that evaluates and returns the `expression` when it is called\n",
    "* It can be assigned to a variable.\n",
    "* It can be passed as an argument to another function.\n",
    "* It is a function, just like one created with `def` but without a name.\n",
    "\n",
    "Limitations of lambda expressions\n",
    "\n",
    "* The body of a lambda is limited to a single expression.\n",
    "* No assignments.\n",
    "* No annotations, but default values still work.\n",
    "* Single logical line of code. Although line-continuation still works, but, in general, you shouldn't have to split your lambda over multiple lines, because lambdas are meant to be simple functions."
   ]
  },
  {
   "cell_type": "code",
   "execution_count": 36,
   "metadata": {},
   "outputs": [
    {
     "data": {
      "text/plain": [
       "('x', 'y', (1, 2, 3), 'z', {'kw1': '1', 'kw2': '2'})"
      ]
     },
     "execution_count": 36,
     "metadata": {},
     "output_type": "execute_result"
    }
   ],
   "source": [
    "f = lambda x, y, *args, z='z', **kwargs: (x, y, args, z, kwargs) # the () of return expression is required here\n",
    "f('x', 'y', 1, 2, 3, kw1='1', kw2='2')"
   ]
  },
  {
   "cell_type": "code",
   "execution_count": 37,
   "metadata": {},
   "outputs": [
    {
     "name": "stdout",
     "output_type": "stream",
     "text": [
      "4\n",
      "27\n"
     ]
    }
   ],
   "source": [
    "def apply_func(x, func):\n",
    "    return func(x)\n",
    "\n",
    "print(apply_func(2, lambda x: x ** 2))\n",
    "print(apply_func(3, lambda x: x ** 3))"
   ]
  },
  {
   "cell_type": "code",
   "execution_count": 38,
   "metadata": {},
   "outputs": [
    {
     "name": "stdout",
     "output_type": "stream",
     "text": [
      "3\n",
      "3\n",
      "15\n"
     ]
    }
   ],
   "source": [
    "def apply_func(func, *args, **kwargs):\n",
    "    return func(*args, **kwargs)\n",
    "\n",
    "print(apply_func(lambda x, y: x + y, 1, 2))\n",
    "print(apply_func(lambda x, *, y: x + y, 1, y=2))\n",
    "print(apply_func(lambda *args: sum(args), 1, 2, 3, 4, 5))"
   ]
  },
  {
   "cell_type": "markdown",
   "metadata": {},
   "source": [
    "### Lambda and sorting\n",
    "\n",
    "There is a `sorted()` built-in function that builds a new sorted list from an iterable.\n",
    "\n",
    "* `sorted(iterable, /, *, key=None, reverse=False)`\n",
    "  * In Python function signatures, the `/` is used to indicate that all the parameters to the left of it must be specified positionally (i.e., without using keyword arguments). This syntax is known as \"positional-only\" arguments.\n",
    "  * `key` specifies a function of one argument that is used to extract a comparison key from each element in iterable (for example, `key=str.lower`). The default value is `None` (compare the elements directly).\n",
    "  * The built-in `sorted()` function is guaranteed to be *stable*. A sort is stable if it guarantees not to change the relative order of elements that compare equal — this is helpful for sorting in multiple passes (for example, sort by department, then by salary grade).\n",
    "  * The sort algorithm uses only `<` comparisons between items. While defining an `__lt__()` method will suffice for sorting, PEP 8 recommends that *all six rich comparisons* be implemented. This will help avoid bugs when using the same data with other ordering tools such as `max()` that rely on a different underlying method. Implementing all six comparisons also helps avoid confusion for mixed type comparisons which can call reflected the `__gt__()` method."
   ]
  },
  {
   "cell_type": "code",
   "execution_count": 39,
   "metadata": {},
   "outputs": [
    {
     "name": "stdout",
     "output_type": "stream",
     "text": [
      "[0, (1-1j), (-1-4j), (3+3j), (6+2j)]\n",
      "['Chaplin', 'John', 'Helen', 'Max', 'Tony']\n"
     ]
    }
   ],
   "source": [
    "complex_list = [3 + 3j, 1 - 1j, 6 + 2j, 0, -1 -4j]\n",
    "# sort complex_list according to the square of the absolute value of a complex number\n",
    "print(sorted(complex_list, key=lambda c: c.real ** 2 + c.imag ** 2))\n",
    "\n",
    "name_list = ['Tony', 'Chaplin', 'John', 'Helen', 'Max']\n",
    "# sort name_list according to the last letter of a name\n",
    "# stable sort, i.e., the relative order of elements that compare equal will be remained\n",
    "print(sorted(name_list, key=lambda n: n[-1]))"
   ]
  },
  {
   "cell_type": "code",
   "execution_count": 41,
   "metadata": {},
   "outputs": [
    {
     "name": "stdout",
     "output_type": "stream",
     "text": [
      "[10, 5, 9, 2, 1, 7, 4, 6, 8, 3]\n",
      "[3, 6, 7, 5, 9, 2, 10, 8, 4, 1]\n",
      "[4, 6, 2, 5, 9, 8, 7, 3, 1, 10]\n"
     ]
    }
   ],
   "source": [
    "# randomize an iterable using sorted\n",
    "\n",
    "import random\n",
    "\n",
    "l = [1, 2, 3, 4, 5, 6, 7, 8, 9, 10]\n",
    "\n",
    "print(sorted(l, key=lambda e: random.random()))\n",
    "print(sorted(l, key=lambda e: random.random()))\n",
    "print(sorted(l, key=lambda e: random.random()))"
   ]
  },
  {
   "cell_type": "markdown",
   "metadata": {},
   "source": [
    "### Function introspection\n",
    "\n",
    "Functions are first-class objects.\n",
    "\n",
    "* They have attributes.\n",
    "* We can attach our own attributes.\n",
    "* `dir()` is a built-in function that, given an object as an argument, will return a list of valid *attributes* for that object.\n",
    "\n",
    "Function attributes\n",
    "\n",
    "* `__name__`: name of function\n",
    "* `__defaults__`: tuple containing positional parameter defaults\n",
    "* `__kwdefaults__`: dictionary containing keyword-only parameter defaults\n",
    "* `__code__`: code object representing the byte-compiled executable Python code, or bytecode. it has the following special read-only attributes:\n",
    "  * `co_name`: function name\n",
    "  * `co_argcount`: total number of positional parameters (including positional-only parameters and parameters with default values) that the function has\n",
    "  * `co_varnames`: a tuple containing the names of the local variables in the function (starting with the parameter names)\n",
    "  * etc...\n",
    "\n",
    "The `inspect` module\n",
    "\n",
    "* The `inspect` module provides several useful functions to help get information about live objects such as modules, classes, methods, functions, tracebacks, frame objects, and code objects.\n",
    "* There are four main kinds of services provided by this module: type checking, getting source code, inspecting classes and functions, and examining the interpreter stack.\n",
    "  * `ismodule(obj)`\n",
    "  * `isclass(obj)`\n",
    "  * `ismethod(obj)`: return `True` if the object is a bound method written in Python.\n",
    "  * `isfunction(obj)`: return `True` if the object is a Python function, which includes functions created by a lambda expression.\n",
    "  * `isroutine(obj)`: return `True` if the object is a user-defined or built-in function or method.\n",
    "  * `getsource(obj)`: return the text of the source code for an object. The argument may be a module, class, method, function, traceback, frame, or code object. The source code is returned as a single string. An `OSError` is raised if the source code cannot be retrieved. A `TypeError` is raised if the object is a built-in module, class, or function.\n",
    "  * `getmodule(obj)`: try to guess which module an object was defined in. Return `None` if the module cannot be determined.\n",
    "  * `getcomments(obj)`: return in a single string any lines of comments immediately preceding the object’s source code (for a class, function, or method), or at the top of the Python source file (if the object is a module). If the object’s source code is unavailable, return `None`.\n",
    "  * `signature(callable)`: return a `Signature` object for the given callable\n",
    "* The difference between a function and a method\n",
    "  * Function: an independent block of code that can be called from anywhere.\n",
    "  * Method: similar to a function, but is tied to objects or classes and needs an object or class instance to be invoked."
   ]
  },
  {
   "cell_type": "markdown",
   "metadata": {},
   "source": [
    "### Callables\n",
    "\n",
    "* A callable is any object that can be invoked using parentheses, with or without arguments.\n",
    "* A callable is a function-like object, behaving like a function.\n",
    "* To verify if an object is callable, we can use the built-in function `callable()`.\n",
    "  * Return `True` if the object argument appears callable, `False` if not. \n",
    "  * If this returns `True`, it is still possible that a call fails, but if it is `False`, calling object will never succeed. \n",
    "  * Note that classes are callable (calling a class returns a new instance); instances are callable if their class has a `__call__()` method.\n",
    "\n",
    "Different types of callables\n",
    "\n",
    "* Built-in functions\n",
    "* Built-in methods\n",
    "* user-defined functions: created using `def` or `lambda` expressions\n",
    "* methods: functions bound to an object\n",
    "* classes: calling a class returns a new instance\n",
    "  * `MyClass(x, y, z)`\n",
    "  * -> `__new__(x, y, z)`: creates the new object\n",
    "  * -> `__init__(self, x, y, z)`: initiate the new object, the new object created before is passed into `self` here\n",
    "  * -> return the object (reference)\n",
    "* class instances: if the class implements `__call__` method\n",
    "* others\n",
    "  * generators\n",
    "  * coroutines\n",
    "  * asynchronous generators"
   ]
  },
  {
   "cell_type": "code",
   "execution_count": 45,
   "metadata": {},
   "outputs": [
    {
     "name": "stdout",
     "output_type": "stream",
     "text": [
      "True\n",
      "\n",
      "None\n",
      "True\n",
      "classes are callable\n",
      "instances can be callable too\n",
      "True\n"
     ]
    }
   ],
   "source": [
    "from decimal import Decimal\n",
    "\n",
    "print(callable(print))\n",
    "print(print()) # if something is callable, it always has a return value\n",
    "print(callable(Decimal)) # classes are also callable\n",
    "\n",
    "class MyClass:\n",
    "    def __init__(self):\n",
    "        print('classes are callable')\n",
    "    \n",
    "    def __call__(self):\n",
    "        print('instances can be callable too')\n",
    "\n",
    "my_class = MyClass()\n",
    "my_class() # instances can be callable\n",
    "print(callable(my_class))"
   ]
  },
  {
   "cell_type": "markdown",
   "metadata": {},
   "source": [
    "### Higher order functions\n",
    "\n",
    "* A function that takes a function as a parameter and/or returns a function as its return value.\n",
    "* Higher order functions allow you to write more concise, flexible, and abstract code.\n",
    "* Higher order functions are often used to create new functions from existing functions, abstract common patterns in code, and write more modular and reusable code.\n",
    "* The `functools` module in Python provides support for higher order functions.\n",
    "* Functions like `map()`, `filter()`, and `reduce()` are common higher order functions.\n",
    "\n",
    "The `map` function\n",
    "\n",
    "* `map(function, iterable, *iterables)`\n",
    "* Return an *iterator* that applies function to every item of iterable, *yielding* the results.\n",
    "* If additional iterables arguments are passed, `function` must take that many arguments and is applied to the items from all iterables in parallel.\n",
    "* With multiple iterables, the iterator stops when the shortest iterable is exhausted.\n",
    "\n",
    "The `filter` function\n",
    "\n",
    "* `filter(function, iterable)`\n",
    "* Construct an *iterator* from those elements of `iterable` for which `function` is true.\n",
    "* `iterable` may be either a sequence, a container which supports iteration, or an iterator.\n",
    "* If `function` is `None`, the identity function is assumed, that is, all elements of `iterable` that are false are removed.\n",
    "* Note that `filter(function, iterable)` is equivalent to the generator expression `(item for item in iterable if function(item))` if function is not `None` and `(item for item in iterable if item)` if function is `None`.\n",
    "\n",
    "The `zip` function (not a higher order function)\n",
    "\n",
    "* `zip(*iterables, strict=False)`\n",
    "* Iterate over several iterables in parallel, producing tuples with an item from each one.\n",
    "* `zip()` returns an *iterator* of tuples, where the i-th tuple contains the i-th element from each of the argument iterables.\n",
    "* Another way to think of `zip()` is that it turns rows into columns, and columns into rows. This is similar to transposing a matrix.\n",
    "* `zip()` could have different lengths.\n",
    "  * By default, `zip()` stops when the shortest iterable is exhausted.\n",
    "  * With the `strict=True` option, it raises a `ValueError` if one iterable is exhausted before the others.\n",
    "  * Shorter iterables can be padded with a constant value to make all the iterables have the same length. This is done by `itertools.zip_longest()`.\n",
    "\n",
    "List comprehension\n",
    "\n",
    "* List comprehensions provide a concise way to create lists.\n",
    "* Common applications are to make new lists where each element is the result of some operations applied to each member of another sequence or iterable, or to create a subsequence of those elements that satisfy a certain condition.\n",
    "* A list comprehension consists of brackets containing an expression followed by a `for` clause, then zero or more `for` or `if` clauses. If the expression is a tuple, it must be parenthesized.\n",
    "  * `[(x, y) for x in [1,2,3] for y in [3,1,4] if x != y]`\n",
    "  * `[x + y for x, y in zip([1,2,3], [3,1,4])]`\n",
    "* The initial expression in a list comprehension can be any arbitrary expression, including another list comprehension.\n",
    "\n",
    "List comprehension alternative to `map`\n",
    "\n",
    "* `list(map(lambda x: x ** 2, range(5)))`\n",
    "* `[x ** 2 for x in range(5)]`\n",
    "\n",
    "List comprehension alternative to `filer`\n",
    "\n",
    "* `list(filter(lambda x: x % 2 == 0, range(10)))`\n",
    "* `[x for x in range(10) if x % 2 == 0]`\n",
    "\n",
    "Combining `map` and `filter`\n",
    "\n",
    "* `list(filter(lambda y: y < 25, map(lambda x: x ** 2, range(10))))`\n",
    "* `[y for y in [x ** 2 for x in range(10)] if y < 25]`\n",
    "* `[x ** 2 for x in range(10) if x ** 2 < 25]`"
   ]
  },
  {
   "cell_type": "code",
   "execution_count": 48,
   "metadata": {},
   "outputs": [
    {
     "name": "stdout",
     "output_type": "stream",
     "text": [
      "<map object at 0x000001C23BDFB0D0>\n",
      "[8, 10, 12]\n",
      "<filter object at 0x000001C23BB99660>\n",
      "<filter object at 0x000001C23BBF72B0>\n",
      "[1, 2, 3, 4, 5, 6, 7, 8, 9]\n",
      "[0, 2, 4, 6, 8]\n"
     ]
    }
   ],
   "source": [
    "l1 = [1, 2, 3, 4, 5]\n",
    "l2 = [7, 8, 9]\n",
    "l3 = map(lambda x, y: x + y, l1, l2)\n",
    "print(l3)\n",
    "print(list(l3))\n",
    "\n",
    "l4 = [0, 1, 2, 3, 4, 5, 6, 7, 8, 9]\n",
    "l5 = filter(None, l4)\n",
    "l6 = filter(lambda x: x % 2 == 0, l4)\n",
    "print(l5)\n",
    "print(l6)\n",
    "print(list(l5))\n",
    "print(list(l6))"
   ]
  },
  {
   "cell_type": "code",
   "execution_count": 50,
   "metadata": {},
   "outputs": [
    {
     "name": "stdout",
     "output_type": "stream",
     "text": [
      "1\n",
      "1\n",
      "2\n",
      "6\n",
      "24\n",
      "[]\n"
     ]
    }
   ],
   "source": [
    "def factorial(n):\n",
    "    return 1 if n < 2 else n * factorial(n - 1)\n",
    "\n",
    "result = map(factorial, range(5))\n",
    "\n",
    "for i in result:\n",
    "    print(i)\n",
    "\n",
    "# won't print anything\n",
    "# generators can only be iterated over once\n",
    "# attempting to iterate over an exhausted generator will not produce any output\n",
    "for i in result:\n",
    "    print(i)\n",
    "\n",
    "print(list(result)) # empty list too"
   ]
  },
  {
   "cell_type": "markdown",
   "metadata": {},
   "source": [
    "### Reducing functions in Python\n",
    "\n",
    "* These are functions that recombine an iterable cumulatively, ending up with a single return value.\n",
    "* Also called accumulators, aggregators, or folding functions.\n",
    "* `functools.reduce(function, iterable[, initializer])`\n",
    "  * Apply `function` of two arguments cumulatively to the items of `iterable`, from left to right, so as to reduce the iterable to a single value.\n",
    "  * For example, `reduce(lambda x, y: x+y, [1, 2, 3, 4, 5])` calculates `((((1+2)+3)+4)+5)`. The left argument, `x`, is the accumulated value and the right argument, `y`, is the update value from the iterable. If the optional `initializer` is present, it is placed before the items of the iterable in the calculation, and serves as a default when the `iterable` is empty. If initializer is not given and `iterable` contains only one item, the first item is returned.\n",
    "* Built-in reducing functions\n",
    "  * `min`\n",
    "    * `min(iterable, *, key=None)`\n",
    "    * `min(iterable, *, default, key=None)`\n",
    "    * `min(arg1, arg2, *args, key=None)`\n",
    "  * `max`\n",
    "  * `sum(iterable, /, start=0)`\n",
    "    * Sums `start` and the items of an iterable from left to right and returns the total. The iterable’s items are normally numbers, and the start value is *not* allowed to be a string.\n",
    "    * The preferred, fast way to concatenate a sequence of strings is by calling `''.join(sequence)`. To add floating point values with extended precision, see `math.fsum()`. To concatenate a series of iterables, consider using `itertools.chain()`.\n",
    "  * `any(iterable)`\n",
    "    * Return `True` if any element of the iterable is true. If the iterable is empty, return `False`.\n",
    "  * `all(iterable)`\n",
    "    * Return `True` if all elements of the iterable are true (or if the iterable is empty)."
   ]
  },
  {
   "cell_type": "code",
   "execution_count": 51,
   "metadata": {},
   "outputs": [
    {
     "name": "stdout",
     "output_type": "stream",
     "text": [
      "45\n",
      "9\n"
     ]
    }
   ],
   "source": [
    "def reduce_sequence(func, sequence):\n",
    "    result = sequence[0]\n",
    "    for e in sequence[1:]:\n",
    "        result = func(result, e)\n",
    "    return result\n",
    "\n",
    "print(reduce_sequence(lambda x, y: x + y, range(10))) # range is actually an immutable sequence type\n",
    "print(reduce_sequence(lambda x, y: x if x > y else y, range(10)))"
   ]
  },
  {
   "cell_type": "code",
   "execution_count": 56,
   "metadata": {},
   "outputs": [
    {
     "name": "stdout",
     "output_type": "stream",
     "text": [
      "Python is super awesome\n",
      "True\n",
      "False\n",
      "False\n",
      "True\n",
      "1\n",
      "6\n",
      "3628800\n"
     ]
    }
   ],
   "source": [
    "from functools import reduce\n",
    "\n",
    "print(reduce(lambda x, y: x + ' ' + y, ('Python', 'is', 'super', 'awesome')))\n",
    "\n",
    "# using reduce to reproduce any()\n",
    "print(reduce(lambda x, y: bool(x or y), (0, '', 1, 0.0, 'and', False)))\n",
    "print(reduce(lambda x, y: bool(x or y), (0, '', None, 0.0, [], (), {}, False)))\n",
    "\n",
    "# using reduce to reproduce all()\n",
    "print(reduce(lambda x, y: bool(x and y), (0, '', 1, 0.0, 'and', False)))\n",
    "print(reduce(lambda x, y: bool(x and y), (1, 'a', 0.1, [1], True)))\n",
    "\n",
    "# using reduce to calculate factorial\n",
    "def factorial(n):\n",
    "    return reduce(lambda x, y: x * y, range(1, n + 1), 1)\n",
    "\n",
    "print(factorial(1))\n",
    "print(factorial(3))\n",
    "print(factorial(10))"
   ]
  },
  {
   "cell_type": "markdown",
   "metadata": {},
   "source": [
    "### Partial functions\n",
    "\n",
    "* Partial functions in Python is a function that is created by fixing a certain number of arguments of another function.\n",
    "* Partial functions allow us to freeze some portion of a function's arguments and generate a new function.\n",
    "* The built-in module `functools` includes a function `partial` that can be used to create partial functions.\n",
    "  * `functools.partial(func, /, *args, **keywords)`\n",
    "  * Return a new partial object which when called will behave like `func` called with the positional arguments `args` and keyword arguments `keywords`. If more arguments are supplied to the call, they are appended to args."
   ]
  },
  {
   "cell_type": "code",
   "execution_count": 65,
   "metadata": {},
   "outputs": [
    {
     "name": "stdout",
     "output_type": "stream",
     "text": [
      "int_base_2('1010')=10\n",
      "square(10)=100\n",
      "1000\n",
      "modular_multiplicative_inverse(38, mod=97)=23\n"
     ]
    }
   ],
   "source": [
    "# similar to functools.partial()\n",
    "def partial_func(func, /, *args, **kwargs):\n",
    "    def new_func(*new_args, **new_kwargs):\n",
    "        new_kwargs = {**kwargs, **new_kwargs}\n",
    "        return func(*args, *new_args, **new_kwargs)\n",
    "    return new_func\n",
    "\n",
    "int_base_2 = partial_func(int, base=2)\n",
    "print(f'{int_base_2('1010')=}')\n",
    "\n",
    "square = partial_func(pow, exp=2)\n",
    "print(f'{square(10)=}')\n",
    "print(f'{square(10, exp=3)}') # you can still overwrite the value of exp predefined in the partial function\n",
    "\n",
    "modular_multiplicative_inverse = partial_func(pow, exp=-1)\n",
    "print(f'{modular_multiplicative_inverse(38, mod=97)=}') # here mod must be keyword argument"
   ]
  },
  {
   "cell_type": "code",
   "execution_count": 68,
   "metadata": {},
   "outputs": [
    {
     "name": "stdout",
     "output_type": "stream",
     "text": [
      "10\n",
      "a b ('args1', 'args2') k1 k2 {'k3': 'k3', 'k4': 'k4'}\n",
      "[0, (1+2j), (3-4j), (4+5j), (7-8j)]\n",
      "[(0, 0), (-3, -2), (0, 5), (3, 4), (-5, 1)]\n"
     ]
    }
   ],
   "source": [
    "from functools import partial\n",
    "\n",
    "int_base_2 = partial(int, base=2)\n",
    "print(int_base_2('1010'))\n",
    "\n",
    "def my_func(a, b, *args, k1, k2, **kwargs):\n",
    "    print(a, b, args, k1, k2, kwargs)\n",
    "\n",
    "# if want to freeze a and k1 of my_func\n",
    "my_func_partial = partial(my_func, 'a', k1='k1')\n",
    "my_func_partial('b', 'args1', 'args2', k2='k2', k3='k3', k4='k4')\n",
    "\n",
    "# sort list of complex numbers according to their absolute value\n",
    "sorted_by_abs = partial(sorted, key=lambda x: abs(x))\n",
    "complexes = [1 + 2j, 3 - 4j, 0, 7 - 8j, 4 + 5j]\n",
    "print(sorted_by_abs(complexes))\n",
    "\n",
    "# sort list of points according to their distance to a certain point\n",
    "origin = (0, 0)\n",
    "points = [(0, 5), (0, 0), (3, 4), (-5, 1), (-3, -2)]\n",
    "distance_square = lambda a, b: (a[0] - b[0]) ** 2 + (a[1] - b[1]) ** 2\n",
    "points_sorted = sorted(points, key=partial(distance_square, origin))\n",
    "print(points_sorted)"
   ]
  },
  {
   "cell_type": "markdown",
   "metadata": {},
   "source": [
    "### The `operator` module\n",
    "\n",
    "* The `operator` module exports a set of efficient functions corresponding to the intrinsic operators of Python. For example, `operator.add(x, y)` is equivalent to the expression `x+y`.\n",
    "* These functions are handy in cases where callables must be stored, passed as arguments, or returned as function results.\n",
    "* Many function names are those used for special methods, without the double underscores. For backward compatibility, many of these have a variant with the double underscores kept. The variants without the double underscores are preferred for clarity.\n",
    "* The functions fall into categories that perform object comparisons, logical operations, mathematical operations and sequence operations.\n",
    "  * Object comparison functions are useful for all objects, can return any value, which may or may not be interpreted as a Boolean value\n",
    "    * `lt(a, b)`, `__lt__(a, b)`: equivalent to `a < b`\n",
    "    * `le(a, b)`, `__le__(a, b)`: equivalent to `a <= b`\n",
    "    * `eq(a, b)`, `__eq__(a, b)`: equivalent to `a == b`\n",
    "    * `ne(a, b)`, `__ne__(a, b)`: equivalent to `a != b`\n",
    "    * `ge(a, b)`, `__ge__(a, b)`: equivalent to `a >= b`\n",
    "    * `gt(a, b)`, `__gt__(a, b)`: equivalent to `a > b`\n",
    "  * Logical operations are generally applicable to all objects, and support truth tests, identity tests, and boolean operations\n",
    "    * `not_(obj)`, `__not__(obj)`: return the out come of `not obj`, there's no `__not__(obj)` method for object instances, only the interpreter core defines this operation, the result is affected by the `__bool__()` and `__len__()` methods\n",
    "    * `truth(obj)`: equivalent to using the `bool` constructor\n",
    "    * `is_(a, b)`: return `a is b`\n",
    "    * `is_not(a, b)`: return `a is not b`\n",
    "  * Mathematical and bitwise operations are the most numerous\n",
    "    * `abs(obj)`, `__abs__(obj)`: return the absolute value of `obj`\n",
    "    * `add(a, b)`, `__add__(a, b)`: return `a + b`, for `a` and `b` numbers\n",
    "    * `and_(a, b)`, `__and__(a, b)`: return the bitwise and of `a` and `b`\n",
    "    * `floordiv(a, b)`, `__floordiv__(a, b)`: return `a // b`\n",
    "    * `index(a)`, `__index__(a)`: return `a` converted to an integer, equivalent to `a.__index__()`, the result always has exact type `int`.\n",
    "    * `inv(obj)`, `invert(obj)`, `__inv__(obj)`, `__invert__(obj)`: return the bitwise inverse of the number `obj`, equivalent to `~obj`\n",
    "    * `lshift(a, b)`, `__lshift__(a, b)`: return `a` shifted left by `b`\n",
    "    * `mod(a, b)`, `__mod__(a, b)`: return `a % b`\n",
    "    * `mul(a, b)`, `__mul__(a, b)`: return `a * b`, for `a` and `b` numbers\n",
    "    * `matmul(a, b)`, `__matmul__(a, b)`: return `a @ b`\n",
    "    * `neg(obj)`, `__neg__(obj)`: return `-obj`\n",
    "    * `or_(a, b)`, `__or__(a, b)`: return the bitwise or of `a` and `b`\n",
    "    * `pos(obj)`, `__pos__(obj)`: return `+obj`\n",
    "    * `pow(a, b)`, `__pow__(a, b)`: return `a ** b`, for `a` and `b` numbers\n",
    "    * `rshift(a, b)`, `__rshift__(a, b)`: return `a` shifted right by `b`\n",
    "    * `sub(a, b)`, `__sub__(a, b)`: return `a - b`\n",
    "    * `truediv(a, b)`, `__truediv__(a, b)`: return `a / b`\n",
    "    * `xor(a, b)`, `__xor__(a, b)`: return bitwise exclusive or of `a` and `b`\n",
    "  * Operations which work with sequences, some of them with mappings too\n",
    "    * `concat(a, b)`, `__concat__(a, b)`: return `a + b` for `a` and `b` sequences\n",
    "    * `contains(a, b)`, `__contains__(a, b)`: return the outcome of the test `b in a`\n",
    "    * `countOf(a, b)`: return the number of occurrences of `b` in `a`\n",
    "    * `delitem(a, b)`, `__delitem__(a, b)`: remove the value of `a` at index `b`\n",
    "    * `getitem(a, b)`, `__getitem__(a, b)`\n",
    "    * `indexOf(a, b)`: return the index of the first occurrence of `b` in `a`\n",
    "    * `setitem(a, b, c)`, `__setitem__(a, b, c)`: set the value of `a` at index `b` to `c`\n",
    "    * `length_hint(obj, default=0)`: return an estimated length for the object `obj`, first try to return its actual length, then an estimate using `object.__length_hint__()`, and finally return the default value\n",
    "  * Operation works with callables\n",
    "    * `call(obj, /, *args, **kwargs)`, `__call__(obj, /, *args, **kwargs)`: return `obj(*args, **kwargs)`\n",
    "  * tools for generalized attribute and item lookups, useful for making fast field extractors as arguments for `map()`, `sorted()`, or other functions that expect a function argument\n",
    "    * `attrgetter(attr)`, `attrgetter(*attr)`: return a callable object that fetches `attr` from its operand, if more than one attribute is requested, returns a tuple of attributes, the attribute names can also contain dots\n",
    "    * `itemgetter(item)`, `itemgetter(*item)`: return a callable object that fetches `item` from its operand using operand's `__getitem__()` method\n",
    "    * `methodcaller(name, /, *args, **kwargs)`: return a callable object that *calls* the method `name` on its operand, if additional arguments and/or keyword arguments are given, they will be given to the method as well\n",
    "  * In-place operators"
   ]
  },
  {
   "cell_type": "code",
   "execution_count": 73,
   "metadata": {},
   "outputs": [
    {
     "name": "stdout",
     "output_type": "stream",
     "text": [
      "24\n",
      "24\n",
      "3\n",
      "c\n",
      "(3, 4)\n",
      "('c', 'd')\n",
      "a\n",
      "test method get called\n",
      "test method get called\n",
      "[(-2-1j), (2+10j), (3+2j), (5-10j), (8-5j)]\n",
      "[(-2, 3, 1), (0,), (2, 3, 4), (3, 4), (5, 7, 1)]\n"
     ]
    }
   ],
   "source": [
    "import operator\n",
    "from functools import reduce\n",
    "\n",
    "print(reduce(lambda x, y: x * y, [1, 2, 3, 4]))\n",
    "print(reduce(operator.mul, [1, 2, 3, 4]))\n",
    "\n",
    "get_item_2 = operator.itemgetter(2)\n",
    "print(get_item_2([1, 2, 3, 4]))\n",
    "print(get_item_2('abcde'))\n",
    "\n",
    "get_item_2_3 = operator.itemgetter(2, 3)\n",
    "print(get_item_2_3([1, 2, 3, 4]))\n",
    "print(get_item_2_3('abcde'))\n",
    "\n",
    "class MyClass:\n",
    "    def __init__(self):\n",
    "        self.a = 'a'\n",
    "        self.b = 'b'\n",
    "\n",
    "    def test(self):\n",
    "        print('test method get called')\n",
    "\n",
    "obj = MyClass()\n",
    "get_attr_a = operator.attrgetter('a')\n",
    "print(get_attr_a(obj))\n",
    "\n",
    "get_attr_test = operator.attrgetter('test')\n",
    "get_attr_test(obj)()\n",
    "method_caller_test = operator.methodcaller('test')\n",
    "method_caller_test(obj)\n",
    "\n",
    "complexes = [5 - 10j, 3 + 2j, -2 - 1j, 2 + 10j, 8 - 5j]\n",
    "sorted_by_real = sorted(complexes, key=operator.attrgetter('real'))\n",
    "print(sorted_by_real)\n",
    "\n",
    "tuples = [(2, 3, 4), (-2, 3, 1), (0,), (5, 7, 1), (3, 4)]\n",
    "sorted_by_first = sorted(tuples, key=operator.itemgetter(0))\n",
    "# sorted_by_first = sorted(tuples, key=lambda x: x[0])\n",
    "print(sorted_by_first)"
   ]
  },
  {
   "cell_type": "markdown",
   "metadata": {},
   "source": [
    "## Scopes, closures and decorators"
   ]
  },
  {
   "cell_type": "markdown",
   "metadata": {},
   "source": [
    "### Global and local scopes\n",
    "\n",
    "Scopes and namespaces\n",
    "\n",
    "* When an object is assigned to a variable, that variable points to some object, and we say that the variable (name) is bound to that object.\n",
    "* That object can be accessed using that name in various parts of our code, but not just anywhere.\n",
    "* That variable name and it's binding only exist in specific parts of our code.\n",
    "* The portion of code where that name/binding is defined, is called the lexical scope of the variable.\n",
    "* These bindings are stored in namespaces.\n",
    "\n",
    "The global scope\n",
    "\n",
    "* The global scope is essentially the module scope.\n",
    "* It spans a single file only.\n",
    "* There is no concept of a truly global (across all the modules in our entire app) scope in Python.\n",
    "* The only exception to this are some of the built-in globally available objects, such as:\n",
    "  * `True`\n",
    "  * `None`\n",
    "  * `dict`\n",
    "  * `print`\n",
    "* The built-in and global variables can be used in anywhere inside our module, including inside any function.\n",
    "* Global scopes are nested inside the built-in scope.\n",
    "* If you reference a variable name inside a scope and Python does not find it in that scope's namespace, it will look for it in an *enclosing* scope's namespace.\n",
    "\n",
    "The local scope\n",
    "\n",
    "* When we create functions, we can create variable names inside those functions (using assignment).\n",
    "* Variables defined inside a function are not created until the function is called.\n",
    "* Every time the function is called, a new scope is created.\n",
    "* Variables defined inside the function are assigned to that scope.\n",
    "* The actual object the variable references could be different each time the function is called, and this is why recursion works.\n",
    "* When a function finishes running, the scope is gone too, and the reference count of the object was bound to is decremented.\n",
    "\n",
    "Nested scopes\n",
    "\n",
    "* Scopes are often nested.\n",
    "* Built-in scope -> module/global scope -> local scope\n",
    "* When requesting the object bound to a variable name, Python will try to find the object bound to the variable\n",
    "  * in current local scope first\n",
    "  * works up the chain of enclosing scopes\n",
    "* When modifying a global variable value from inside the function\n",
    "  * Python interprets it as a local variable (at compile-time)\n",
    "  * the local variable masks the global variable with the same name\n",
    "* The `global` keyword\n",
    "  * we can tell Python that a variable is meant to be scoped in the global scope by using the `global` keyword\n",
    "* When Python encounters a function definition at compile-time\n",
    "  * it will scan for any labels (variables) that have values *assigned* to them *anywhere in the function*, if the label has not been specified as `global`, it will be local\n",
    "  * variables that are *referenced* but not assigned a value *anywhere in the function* will not be local, and Python will, at run-time, look for them in enclosing scopes"
   ]
  },
  {
   "cell_type": "code",
   "execution_count": 3,
   "metadata": {},
   "outputs": [
    {
     "name": "stdout",
     "output_type": "stream",
     "text": [
      "hello\n",
      "world\n"
     ]
    }
   ],
   "source": [
    "def my_func():\n",
    "    global var\n",
    "    var = 'hello'\n",
    "\n",
    "# print(var) # name 'var' is not defined\n",
    "my_func() # because of var is global, it is still available after the function finishes\n",
    "print(var)\n",
    "\n",
    "a = 10\n",
    "def my_func():\n",
    "    print(f'global a? {a=}') # local variable 'a' referenced before assignment\n",
    "    a = 'hello' # a becomes local variable at compile-time\n",
    "\n",
    "def print(string):\n",
    "    return f'hello {string}'\n",
    "\n",
    "print('world') # doesn't print anything, only returns a string, because the built-in print function has been masked by the string function in the module scope\n",
    "del print\n",
    "print('world')"
   ]
  },
  {
   "cell_type": "markdown",
   "metadata": {},
   "source": [
    "### Nonlocal scopes\n",
    "\n",
    "Inner functions\n",
    "\n",
    "* We can define functions from inside another function.\n",
    "* Both functions have access to the global and built-in scopes as well as their respective local scope.\n",
    "* But the inner function also has access to its enclosing scope -- the scope of the outer function.\n",
    "* This enclosing scope is neither local (to the inner function) nor global, it is called a nonlocal scope.\n",
    "* The `nonlocal` keyword\n",
    "  * just as with global variables, we have to explicitly tell Python we are modifying a nonlocal variable\n",
    "  * we can do that using the `nonlocal` keyword\n",
    "* Whenever Python is told that a variable is `nonlocal`\n",
    "  * it will look for it in the enclosing local scopes chain until it first encounters the specific variable name\n",
    "  * it will look in local scopes, it will *not* look in the global scope"
   ]
  },
  {
   "cell_type": "code",
   "execution_count": 7,
   "metadata": {},
   "outputs": [
    {
     "name": "stdout",
     "output_type": "stream",
     "text": [
      "hello\n",
      "monty\n"
     ]
    }
   ],
   "source": [
    "x = 'python'\n",
    "\n",
    "def outer():\n",
    "    global x\n",
    "    x = 'monty'\n",
    "\n",
    "    def inner():\n",
    "        # nonlocal x # no binding for nonlocal 'x'\n",
    "        x = 'hello'\n",
    "        print(x)\n",
    "\n",
    "    inner()\n",
    "    print(x)\n",
    "\n",
    "outer()"
   ]
  },
  {
   "cell_type": "markdown",
   "metadata": {},
   "source": [
    "### Closures\n",
    "\n",
    "Free variables and closures\n",
    "\n",
    "* Functions defined inside another function can access the outer (nonlocal) variables.\n",
    "* ```Python\n",
    "    def outer():\n",
    "        x = 'Python'\n",
    "        def inner():\n",
    "            print(f'{x} rock!')\n",
    "        return inner\n",
    "  ```\n",
    "  * this nonlocal variable `x` is called a free variable\n",
    "  * `x` is bound to the variable `x` in `outer`\n",
    "  * this happens when `outer` runs, i.e., when `inner` is created\n",
    "  * the function `inner` and the free variable `x` together is called a closure\n",
    "  * when we return `inner`, we are actually returning the closure, not just the `inner` function\n",
    "  * we can assign that return value to a variable name: `fn = outer()`\n",
    "  * when we call `fn`, at that time Python will determine the value of `x` in the extended scope\n",
    "  * but notice that `outer` has finished running before we call `fn` -- its scope was gone\n",
    "\n",
    "Python cells and multi-scoped variables\n",
    "\n",
    "* The value of `x` is shared between two scopes -- `outer` and closure.\n",
    "* The label `x` is in two different scopes, but always reference the same value.\n",
    "* Python does this by creating a cell as an intermediary object.\n",
    "* In effect, both variables `x` (in `outer` and `inner`) point to the same cell.\n",
    "* When requesting the value of the variable, Python will double-hop to get to the final value.\n",
    "\n",
    "Closures\n",
    "\n",
    "* You can think of the closure as a function plus an extended scope that contains the free variables.\n",
    "* The free variable's value is the object cell points to.\n",
    "* Every time the function in the closure is called and the free variable is referenced, Python looks up the cell object, and then whatever the cell is pointing to.\n",
    "*  `fn.__code__.co_freevars`: `('x',)`, `a` is not a free variable\n",
    "* `fn.__closure__`: `(<cell at 0xA500: str object at 0xFF100>, )`\n",
    "  * `None` or a tuple of cells that contain bindings for the function’s free variables.\n",
    "  * A cell object has the attribute `cell_contents`. This can be used to get the value of the cell, as well as set the value.\n",
    "* `hex(id(x))`: `0xFF100`, the indirect reference, the address of the object that contains the string `'Python'`.\n",
    "\n",
    "Multiple instances of closures\n",
    "\n",
    "* Every time we run a function, a new scope is created.\n",
    "* If that function generates a closure, a new closure is created every time as well.\n",
    "\n",
    "Shared extended scopes\n",
    "\n",
    "* ```Python\n",
    "    def outer():\n",
    "        count = 0\n",
    "        def inc1():\n",
    "            nonlocal count\n",
    "            count += 1\n",
    "            return count\n",
    "        def inc2():\n",
    "            nonlocal count\n",
    "            count += 2\n",
    "            return count\n",
    "        return inc1, inc2\n",
    "    f1, f2 = outer()\n",
    "  ```\n",
    "  * there are two different closures, but they have a shared free variable `count`, i.e. the same cell\n",
    "* ```Python\n",
    "    def create adders():\n",
    "        adders = []\n",
    "        for n in range(1, 4):\n",
    "            adders.append(lambda x: x + n)\n",
    "        return adders\n",
    "  ```\n",
    "  * `n` is not defined in the lambda function, so it has to be from the outer scope, i.e., bound to the `n` we created in the loop\n",
    "  * when the loop iterates, a new scope is created, and both `n` point to the same cell, and the cell points to the value `n` currently equals to\n",
    "  * the loop creates a different lambda function and closure at each iteration, but the closures all share the same free variable `n`, i.e., the same cell\n",
    "\n",
    "Nested closures\n",
    "\n",
    "* ```Python\n",
    "    def incrementer(n):\n",
    "        def inner(start):\n",
    "            current = start\n",
    "            def inc():\n",
    "                nonlocal current\n",
    "                current += n\n",
    "                return current\n",
    "            return inc\n",
    "        return inner\n",
    "    inner_2 = incrementer(2)\n",
    "    inc_2_100 = inner_2(100)\n",
    "    inc_2_100() # 102\n",
    "    inc_2_100() # 104\n",
    "  ```"
   ]
  },
  {
   "cell_type": "code",
   "execution_count": 2,
   "metadata": {},
   "outputs": [
    {
     "name": "stdout",
     "output_type": "stream",
     "text": [
      "f1.__code__.co_freevars=('count',)\n",
      "f2.__code__.co_freevars=('count',)\n",
      "f1.__closure__=(<cell at 0x000001F65DDE0790: int object at 0x00007FF9D2703998>,)\n",
      "f2.__closure__=(<cell at 0x000001F65DDE0790: int object at 0x00007FF9D2703998>,)\n",
      "1\n",
      "2\n"
     ]
    }
   ],
   "source": [
    "def outer():\n",
    "    count = 0\n",
    "\n",
    "    def inner1():\n",
    "        nonlocal count\n",
    "        count += 1\n",
    "        return count\n",
    "    \n",
    "    def inner2():\n",
    "        nonlocal count\n",
    "        count += 1\n",
    "        return count\n",
    "    \n",
    "    return inner1, inner2\n",
    "\n",
    "f1, f2 = outer()\n",
    "print(f'{f1.__code__.co_freevars=}')\n",
    "print(f'{f2.__code__.co_freevars=}')\n",
    "print(f'{f1.__closure__=}')\n",
    "print(f'{f2.__closure__=}') # same cell as above\n",
    "print(f1())\n",
    "print(f2())\n"
   ]
  },
  {
   "cell_type": "code",
   "execution_count": 3,
   "metadata": {},
   "outputs": [
    {
     "name": "stdout",
     "output_type": "stream",
     "text": [
      "adders[0].__code__.co_freevars=()\n",
      "adders[0].__closure__=None\n",
      "adders[0](10)=11\n",
      "adders[1](10)=12\n",
      "adders[2](10)=13\n"
     ]
    }
   ],
   "source": [
    "def create_adders():\n",
    "    adders = []\n",
    "    for n in range(1, 4):\n",
    "        adders.append(lambda x, y=n: x + y) # defaults get evaluated at creation-time\n",
    "    return adders\n",
    "\n",
    "adders = create_adders()\n",
    "print(f'{adders[0].__code__.co_freevars=}') # no free variables\n",
    "print(f'{adders[0].__closure__=}') # not a closure, so no cells\n",
    "# at function creation-time, n is evaluated and put that into y as the default for y\n",
    "# there's not even a mention of n in the body of the function\n",
    "\n",
    "print(f'{adders[0](10)=}')\n",
    "print(f'{adders[1](10)=}')\n",
    "print(f'{adders[2](10)=}')"
   ]
  },
  {
   "cell_type": "markdown",
   "metadata": {},
   "source": [
    "### Closure applications"
   ]
  },
  {
   "cell_type": "code",
   "execution_count": 4,
   "metadata": {},
   "outputs": [
    {
     "name": "stdout",
     "output_type": "stream",
     "text": [
      "1.0\n",
      "1.5\n",
      "2.0\n",
      "2.5\n",
      "1.0\n",
      "1.5\n",
      "2.0\n",
      "2.5\n"
     ]
    }
   ],
   "source": [
    "class Averager:\n",
    "    def __init__(self):\n",
    "        self.numbers = []\n",
    "\n",
    "    def add(self, number):\n",
    "        self.numbers.append(number)\n",
    "        return sum(self.numbers) / len(self.numbers)\n",
    "\n",
    "def outer():\n",
    "    numbers = []\n",
    "    def add(number):\n",
    "        numbers.append(number)\n",
    "        return sum(numbers) / len(numbers)\n",
    "    return add\n",
    "\n",
    "averager = Averager()\n",
    "print(averager.add(1))\n",
    "print(averager.add(2))\n",
    "print(averager.add(3))\n",
    "print(averager.add(4))\n",
    "\n",
    "calc_ave = outer()\n",
    "print(calc_ave(1))\n",
    "print(calc_ave(2))\n",
    "print(calc_ave(3))\n",
    "print(calc_ave(4))"
   ]
  },
  {
   "cell_type": "code",
   "execution_count": 5,
   "metadata": {},
   "outputs": [
    {
     "name": "stdout",
     "output_type": "stream",
     "text": [
      "calc_ave.__code__.co_freevars=('count', 'total')\n",
      "calc_ave.__closure__=(<cell at 0x000001F65DDDE1D0: int object at 0x00007FF9D2703998>, <cell at 0x000001F65DDDD1B0: int object at 0x00007FF9D2703998>)\n",
      "1.0\n",
      "1.5\n",
      "2.0\n",
      "2.5\n"
     ]
    }
   ],
   "source": [
    "def outer_better():\n",
    "    count = 0\n",
    "    total = 0\n",
    "    def add(number):\n",
    "        nonlocal count\n",
    "        nonlocal total\n",
    "        count += 1\n",
    "        total += number\n",
    "        return total / count\n",
    "    return add\n",
    "\n",
    "calc_ave = outer_better()\n",
    "print(f'{calc_ave.__code__.co_freevars=}')\n",
    "print(f'{calc_ave.__closure__=}')\n",
    "print(calc_ave(1))\n",
    "print(calc_ave(2))\n",
    "print(calc_ave(3))\n",
    "print(calc_ave(4))"
   ]
  },
  {
   "cell_type": "code",
   "execution_count": 8,
   "metadata": {},
   "outputs": [
    {
     "name": "stdout",
     "output_type": "stream",
     "text": [
      "9.450002107769251e-05\n",
      "4.470010753720999e-05\n"
     ]
    }
   ],
   "source": [
    "from time import perf_counter\n",
    "\n",
    "class Timer:\n",
    "    def __init__(self):\n",
    "        self.start = perf_counter()\n",
    "\n",
    "    def __call__(self):\n",
    "        return perf_counter() - self.start\n",
    "    \n",
    "def outer():\n",
    "    start = perf_counter()\n",
    "    def poll():\n",
    "        return perf_counter() - start\n",
    "    return poll\n",
    "    \n",
    "t1 = Timer()\n",
    "print(t1())\n",
    "\n",
    "timer = outer()\n",
    "print(timer())"
   ]
  },
  {
   "cell_type": "code",
   "execution_count": 9,
   "metadata": {},
   "outputs": [
    {
     "name": "stdout",
     "output_type": "stream",
     "text": [
      "add has been called 1 times\n",
      "3\n",
      "add has been called 2 times\n",
      "5\n",
      "mul has been called 1 times\n",
      "20\n",
      "mul has been called 2 times\n",
      "14\n"
     ]
    }
   ],
   "source": [
    "def counter(fn):\n",
    "    # a function report the times of the designated function get called\n",
    "    # it actually works the same way as a decorator\n",
    "    count = 0\n",
    "    def inner(*args, **kwargs):\n",
    "        nonlocal count\n",
    "        count += 1\n",
    "        print(f'{fn.__name__} has been called {count} times')\n",
    "        return fn(*args, **kwargs)\n",
    "    return inner\n",
    "\n",
    "def add(a, b):\n",
    "    return a + b\n",
    "\n",
    "def mul(a, b):\n",
    "    return a * b\n",
    "\n",
    "add = counter(add)\n",
    "print(add(1, 2))\n",
    "print(add(2, 3))\n",
    "\n",
    "mul = counter(mul)\n",
    "print(mul(4, 5))\n",
    "print(mul(2, 7))"
   ]
  },
  {
   "cell_type": "markdown",
   "metadata": {},
   "source": [
    "### Decorators\n",
    "\n",
    "* We can modify a function by wrapping it inside another function that add some extra functionality to it.\n",
    "* This is also called function decoration.\n",
    "* The outer function is called decorator function.\n",
    "* In general a decorator function:\n",
    "  * takes a function as an argument\n",
    "  * returns a closure\n",
    "  * the closure usually accepts any combination of parameters\n",
    "  * runs some code in the inner function (closure)\n",
    "  * the closure function calls the original function using the arguments passed to the closure\n",
    "  * returns whatever is returned by that function call\n",
    "* A function returning another function, usually applied as a function transformation using the `@wrapper` syntax.\n",
    "* Common examples for decorators are `classmethod()` and `staticmethod()`.\n",
    "* The decorator syntax is merely syntactic sugar.\n",
    "* A decorator in Python is any callable Python object that is used to modify a function or a class.\n",
    "\n",
    "Introspecting decorated functions\n",
    "\n",
    "* After a function has been decorated, the original function's name points to the closure returned by the decorator.\n",
    "* The docstring and the signature of the original function are lost.\n",
    "* The function name and docstring can be fixed by overwriting the inner function's `__name__` and `__doc__`.\n",
    "* The `functools.wraps(wrapped, assigned=WRAPPER_ASSIGNMENTS, updated=WRAPPER_UPDATES)` function can be used to fix the metadata of the inner function in the decorator, and the `wraps` function is itself a decorator.\n",
    "  * This is a convenience function for invoking `update_wrapper()` as a function decorator when defining a wrapper function. It is equivalent to `partial(update_wrapper, wrapped=wrapped, assigned=assigned, updated=updated)`.\n",
    "  * `functools.update_wrapper(wrapper, wrapped, assigned=WRAPPER_ASSIGNMENTS, updated=WRAPPER_UPDATES)`: update a wrapper function to look like the wrapped function."
   ]
  },
  {
   "cell_type": "code",
   "execution_count": 5,
   "metadata": {},
   "outputs": [
    {
     "name": "stdout",
     "output_type": "stream",
     "text": [
      "Help on function add in module __main__:\n",
      "\n",
      "add(a: int, b: int = 0)\n",
      "    adds two values\n",
      "\n",
      "Help on function inner in module __main__:\n",
      "\n",
      "inner(*args, **kwargs)\n",
      "\n",
      "Function add has been called 1 times\n",
      "add(1, 2)=3\n"
     ]
    }
   ],
   "source": [
    "def counter(fn):\n",
    "    count = 0\n",
    "\n",
    "    def inner(*args, **kwargs):\n",
    "        nonlocal count\n",
    "        count += 1\n",
    "        print(f'Function {fn.__name__} has been called {count} times')\n",
    "        return fn(*args, **kwargs)\n",
    "    return inner\n",
    "\n",
    "def add(a: int, b: int = 0):\n",
    "    \"\"\"\n",
    "    adds two values\n",
    "    \"\"\"\n",
    "    return a + b\n",
    "\n",
    "help(add)\n",
    "\n",
    "add = counter(add)\n",
    "help(add)\n",
    "print(f'{add(1, 2)=}')"
   ]
  },
  {
   "cell_type": "code",
   "execution_count": 6,
   "metadata": {},
   "outputs": [
    {
     "name": "stdout",
     "output_type": "stream",
     "text": [
      "Help on function inner in module __main__:\n",
      "\n",
      "inner(*args, **kwargs)\n",
      "\n",
      "Function add has been called 1 times\n",
      "add(1, 2)=3\n"
     ]
    }
   ],
   "source": [
    "def counter(fn):\n",
    "    count = 0\n",
    "\n",
    "    def inner(*args, **kwargs):\n",
    "        nonlocal count\n",
    "        count += 1\n",
    "        print(f'Function {fn.__name__} has been called {count} times')\n",
    "        return fn(*args, **kwargs)\n",
    "    return inner\n",
    "\n",
    "# use the @wrapper syntax\n",
    "@counter\n",
    "def add(a: int, b: int = 0):\n",
    "    \"\"\"\n",
    "    adds two values\n",
    "    \"\"\"\n",
    "    return a + b\n",
    "\n",
    "help(add)\n",
    "print(f'{add(1, 2)=}')"
   ]
  },
  {
   "cell_type": "code",
   "execution_count": 7,
   "metadata": {},
   "outputs": [
    {
     "name": "stdout",
     "output_type": "stream",
     "text": [
      "Help on function add in module __main__:\n",
      "\n",
      "add(a: int, b: int = 0)\n",
      "    adds two values\n",
      "\n",
      "Function add has been called 1 times\n",
      "add(1, 2)=3\n"
     ]
    }
   ],
   "source": [
    "from functools import wraps\n",
    "\n",
    "def counter(fn):\n",
    "    count = 0\n",
    "\n",
    "    @wraps(fn) # fix the metadata of inner\n",
    "    def inner(*args, **kwargs):\n",
    "        nonlocal count\n",
    "        count += 1\n",
    "        print(f'Function {fn.__name__} has been called {count} times')\n",
    "        return fn(*args, **kwargs)\n",
    "    # the following can only fix function name and docstring\n",
    "    # inner.__name__ = fn.__name__\n",
    "    # inner.__doc__ = fn.__doc__\n",
    "\n",
    "    # works the same as the @wraps decorator\n",
    "    # inner = wraps(fn)(inner)\n",
    "    return inner\n",
    "\n",
    "@counter\n",
    "def add(a: int, b: int = 0):\n",
    "    \"\"\"\n",
    "    adds two values\n",
    "    \"\"\"\n",
    "    return a + b\n",
    "\n",
    "help(add)\n",
    "print(f'{add(1, 2)=}')"
   ]
  },
  {
   "cell_type": "code",
   "execution_count": 2,
   "metadata": {},
   "outputs": [
    {
     "name": "stdout",
     "output_type": "stream",
     "text": [
      "fib_recursion(30) took 0.18590169993694872s to run\n",
      "fib_recursion(30)=832040\n",
      "calc_nth_fibonacci_loop(30) took 7.3999399319291115e-06s to run\n",
      "calc_nth_fibonacci_loop(30)=832040\n",
      "calc_nth_fibonacci_reduce(30) took 1.2199976481497288e-05s to run\n",
      "calc_nth_fibonacci_reduce(30)=832040\n"
     ]
    }
   ],
   "source": [
    "def timed(fn):\n",
    "    from time import perf_counter\n",
    "    from functools import wraps\n",
    "\n",
    "    @wraps(fn)\n",
    "    def inner(*args, **kwargs):\n",
    "        start = perf_counter()\n",
    "        result = fn(*args, **kwargs)\n",
    "        elapsed = perf_counter() - start\n",
    "\n",
    "        args_list = [str(arg) for arg in args]\n",
    "        kwargs_list = [f'{k}={v}' for k, v in kwargs.items()]\n",
    "        args_string = ','.join(args_list + kwargs_list)\n",
    "        print(f'{fn.__name__}({args_string}) took {elapsed}s to run')\n",
    "        return result\n",
    "    \n",
    "    return inner\n",
    "\n",
    "# recursion\n",
    "# @timed\n",
    "def calc_nth_fibonacci_recursion(n):\n",
    "    \"\"\"\n",
    "    Return the nth number of a fibonacci series, n starting from 1\n",
    "    \"\"\"\n",
    "    return 1 if n < 3 else calc_nth_fibonacci_recursion(n - 1) + calc_nth_fibonacci_recursion(n - 2)\n",
    "\n",
    "# calculate the total time elapsed\n",
    "@timed\n",
    "def fib_recursion(n):\n",
    "    return calc_nth_fibonacci_recursion(n)\n",
    "\n",
    "# calc_nth_fibonacci_recursion(6)\n",
    "\n",
    "print(f'{fib_recursion(30)=}')\n",
    "\n",
    "# loop\n",
    "@timed\n",
    "def calc_nth_fibonacci_loop(n):\n",
    "    if n <= 2:\n",
    "        return 1\n",
    "    fib_1 = 1\n",
    "    fib_2 = 1\n",
    "    for n in range(3, n + 1):\n",
    "        fib_1, fib_2 = fib_2, fib_1 + fib_2\n",
    "    return fib_2\n",
    "\n",
    "print(f'{calc_nth_fibonacci_loop(30)=}')\n",
    "\n",
    "# reduce\n",
    "@timed\n",
    "def calc_nth_fibonacci_reduce(n):\n",
    "    from functools import reduce\n",
    "    if n <= 1:\n",
    "        return 1\n",
    "    fib = reduce(lambda x, y: (x[0] + x[1], x[0]),\n",
    "           range(n - 1),\n",
    "           (1, 0))\n",
    "    return fib[0]\n",
    "\n",
    "print(f'{calc_nth_fibonacci_reduce(30)=}')"
   ]
  },
  {
   "cell_type": "code",
   "execution_count": 6,
   "metadata": {},
   "outputs": [
    {
     "name": "stdout",
     "output_type": "stream",
     "text": [
      "factorial ran for 1.6400008462369442e-05s\n",
      "2024-01-04 09:53:04.115387+00:00: called factorial\n",
      "3628800\n"
     ]
    }
   ],
   "source": [
    "def logger(fn):\n",
    "    from functools import wraps\n",
    "    import datetime\n",
    "\n",
    "    @wraps(fn)\n",
    "    def inner(*args, **kwargs):\n",
    "        run_dt = datetime.datetime.now(datetime.UTC)\n",
    "        result = fn(*args, **kwargs)\n",
    "        print(f'{run_dt}: called {fn.__name__}')\n",
    "        return result\n",
    "    \n",
    "    return inner\n",
    "\n",
    "def timed(fn):\n",
    "    from functools import wraps\n",
    "    from time import perf_counter\n",
    "\n",
    "    @wraps(fn)\n",
    "    def inner(*args, **kwargs):\n",
    "        start = perf_counter()\n",
    "        result = fn(*args, **kwargs)\n",
    "        elapsed = perf_counter() - start\n",
    "        print(f'{fn.__name__} ran for {elapsed}s')\n",
    "        return result\n",
    "    \n",
    "    return inner\n",
    "\n",
    "# stacked decorators\n",
    "# the decorators are executed from top to bottom\n",
    "@logger\n",
    "@timed\n",
    "def factorial(n):\n",
    "    from functools import reduce\n",
    "    from operator import mul\n",
    "\n",
    "    return reduce(mul, range(1, n + 1))\n",
    "\n",
    "# the equivalent to the above decorators\n",
    "# factorial = logger(timer(factorial))\n",
    "\n",
    "print(factorial(10))"
   ]
  },
  {
   "cell_type": "code",
   "execution_count": 10,
   "metadata": {},
   "outputs": [
    {
     "name": "stdout",
     "output_type": "stream",
     "text": [
      "fib(1)=1\n",
      "fib(2)=1\n",
      "Calculating fib(3)\n",
      "fib(3)=2\n",
      "Calculating fib(4)\n",
      "fib(4)=3\n",
      "Calculating fib(5)\n",
      "fib(5)=5\n",
      "fib(4)=3\n",
      "fib(3)=2\n",
      "fib(2)=1\n"
     ]
    }
   ],
   "source": [
    "# fibonacci class with cache\n",
    "class Fib:\n",
    "    def __init__(self):\n",
    "        self.cache = {1: 1, 2: 1}\n",
    "\n",
    "    def __call__(self, n):\n",
    "        if n in self.cache:\n",
    "            return self.cache[n]\n",
    "        print(f'Calculating fib({n})')\n",
    "        self.cache[n] = self.__call__(n - 1) + self.__call__(n - 2)\n",
    "        return self.cache[n]\n",
    "    \n",
    "fib = Fib()\n",
    "print(f'{fib(1)=}')\n",
    "print(f'{fib(2)=}')\n",
    "print(f'{fib(3)=}')\n",
    "print(f'{fib(4)=}')\n",
    "print(f'{fib(5)=}')\n",
    "print(f'{fib(4)=}')\n",
    "print(f'{fib(3)=}')\n",
    "print(f'{fib(2)=}')\n"
   ]
  },
  {
   "cell_type": "code",
   "execution_count": 13,
   "metadata": {},
   "outputs": [
    {
     "name": "stdout",
     "output_type": "stream",
     "text": [
      "fib(1)=1\n",
      "fib(2)=1\n",
      "Calculating fib(3)\n",
      "fib(3)=2\n",
      "Calculating fib(4)\n",
      "fib(4)=3\n",
      "Calculating fib(5)\n",
      "fib(5)=5\n",
      "fib(4)=3\n"
     ]
    }
   ],
   "source": [
    "# closure with cache\n",
    "def outer():\n",
    "    cache = {1: 1, 2: 1}\n",
    "\n",
    "    def fib(n):\n",
    "        if n not in cache:\n",
    "            print(f'Calculating fib({n})')\n",
    "            cache[n] = fib(n - 1) + fib(n - 2)\n",
    "        return cache[n]\n",
    "    \n",
    "    return fib\n",
    "\n",
    "fib = outer()\n",
    "print(f'{fib(1)=}')\n",
    "print(f'{fib(2)=}')\n",
    "print(f'{fib(3)=}')\n",
    "print(f'{fib(4)=}')\n",
    "print(f'{fib(5)=}')\n",
    "print(f'{fib(4)=}')"
   ]
  },
  {
   "cell_type": "code",
   "execution_count": 15,
   "metadata": {},
   "outputs": [
    {
     "name": "stdout",
     "output_type": "stream",
     "text": [
      "Calculating fib(1)\n",
      "fib(1)=1\n",
      "Calculating fib(2)\n",
      "fib(2)=1\n",
      "Calculating fib(3)\n",
      "fib(3)=2\n",
      "Calculating fib(4)\n",
      "fib(4)=3\n",
      "Calculating fib(5)\n",
      "fib(5)=5\n",
      "fib(4)=3\n"
     ]
    }
   ],
   "source": [
    "def memoize(fn):\n",
    "    cache = {}\n",
    "\n",
    "    def inner(n):\n",
    "        if n not in cache:\n",
    "            cache[n] = fn(n)\n",
    "        return cache[n]\n",
    "    \n",
    "    return inner\n",
    "\n",
    "# decorator with cache\n",
    "@memoize\n",
    "def fib(n):\n",
    "    print(f'Calculating fib({n})')\n",
    "    return 1 if n < 3 else fib(n - 1) + fib(n - 2)\n",
    "\n",
    "print(f'{fib(1)=}')\n",
    "print(f'{fib(2)=}')\n",
    "print(f'{fib(3)=}')\n",
    "print(f'{fib(4)=}')\n",
    "print(f'{fib(5)=}')\n",
    "print(f'{fib(4)=}')"
   ]
  },
  {
   "cell_type": "code",
   "execution_count": 18,
   "metadata": {},
   "outputs": [
    {
     "name": "stdout",
     "output_type": "stream",
     "text": [
      "Calculating fib(1)\n",
      "fib(1)=1\n",
      "Calculating fib(2)\n",
      "fib(2)=1\n",
      "Calculating fib(3)\n",
      "fib(3)=2\n",
      "Calculating fib(4)\n",
      "fib(4)=3\n",
      "Calculating fib(5)\n",
      "fib(5)=5\n",
      "fib(4)=3\n",
      "Calculating fib(129)\n",
      "Calculating fib(128)\n",
      "Calculating fib(127)\n",
      "Calculating fib(126)\n",
      "Calculating fib(125)\n",
      "Calculating fib(124)\n",
      "Calculating fib(123)\n",
      "Calculating fib(122)\n",
      "Calculating fib(121)\n",
      "Calculating fib(120)\n",
      "Calculating fib(119)\n",
      "Calculating fib(118)\n",
      "Calculating fib(117)\n",
      "Calculating fib(116)\n",
      "Calculating fib(115)\n",
      "Calculating fib(114)\n",
      "Calculating fib(113)\n",
      "Calculating fib(112)\n",
      "Calculating fib(111)\n",
      "Calculating fib(110)\n",
      "Calculating fib(109)\n",
      "Calculating fib(108)\n",
      "Calculating fib(107)\n",
      "Calculating fib(106)\n",
      "Calculating fib(105)\n",
      "Calculating fib(104)\n",
      "Calculating fib(103)\n",
      "Calculating fib(102)\n",
      "Calculating fib(101)\n",
      "Calculating fib(100)\n",
      "Calculating fib(99)\n",
      "Calculating fib(98)\n",
      "Calculating fib(97)\n",
      "Calculating fib(96)\n",
      "Calculating fib(95)\n",
      "Calculating fib(94)\n",
      "Calculating fib(93)\n",
      "Calculating fib(92)\n",
      "Calculating fib(91)\n",
      "Calculating fib(90)\n",
      "Calculating fib(89)\n",
      "Calculating fib(88)\n",
      "Calculating fib(87)\n",
      "Calculating fib(86)\n",
      "Calculating fib(85)\n",
      "Calculating fib(84)\n",
      "Calculating fib(83)\n",
      "Calculating fib(82)\n",
      "Calculating fib(81)\n",
      "Calculating fib(80)\n",
      "Calculating fib(79)\n",
      "Calculating fib(78)\n",
      "Calculating fib(77)\n",
      "Calculating fib(76)\n",
      "Calculating fib(75)\n",
      "Calculating fib(74)\n",
      "Calculating fib(73)\n",
      "Calculating fib(72)\n",
      "Calculating fib(71)\n",
      "Calculating fib(70)\n",
      "Calculating fib(69)\n",
      "Calculating fib(68)\n",
      "Calculating fib(67)\n",
      "Calculating fib(66)\n",
      "Calculating fib(65)\n",
      "Calculating fib(64)\n",
      "Calculating fib(63)\n",
      "Calculating fib(62)\n",
      "Calculating fib(61)\n",
      "Calculating fib(60)\n",
      "Calculating fib(59)\n",
      "Calculating fib(58)\n",
      "Calculating fib(57)\n",
      "Calculating fib(56)\n",
      "Calculating fib(55)\n",
      "Calculating fib(54)\n",
      "Calculating fib(53)\n",
      "Calculating fib(52)\n",
      "Calculating fib(51)\n",
      "Calculating fib(50)\n",
      "Calculating fib(49)\n",
      "Calculating fib(48)\n",
      "Calculating fib(47)\n",
      "Calculating fib(46)\n",
      "Calculating fib(45)\n",
      "Calculating fib(44)\n",
      "Calculating fib(43)\n",
      "Calculating fib(42)\n",
      "Calculating fib(41)\n",
      "Calculating fib(40)\n",
      "Calculating fib(39)\n",
      "Calculating fib(38)\n",
      "Calculating fib(37)\n",
      "Calculating fib(36)\n",
      "Calculating fib(35)\n",
      "Calculating fib(34)\n",
      "Calculating fib(33)\n",
      "Calculating fib(32)\n",
      "Calculating fib(31)\n",
      "Calculating fib(30)\n",
      "Calculating fib(29)\n",
      "Calculating fib(28)\n",
      "Calculating fib(27)\n",
      "Calculating fib(26)\n",
      "Calculating fib(25)\n",
      "Calculating fib(24)\n",
      "Calculating fib(23)\n",
      "Calculating fib(22)\n",
      "Calculating fib(21)\n",
      "Calculating fib(20)\n",
      "Calculating fib(19)\n",
      "Calculating fib(18)\n",
      "Calculating fib(17)\n",
      "Calculating fib(16)\n",
      "Calculating fib(15)\n",
      "Calculating fib(14)\n",
      "Calculating fib(13)\n",
      "Calculating fib(12)\n",
      "Calculating fib(11)\n",
      "Calculating fib(10)\n",
      "Calculating fib(9)\n",
      "Calculating fib(8)\n",
      "Calculating fib(7)\n",
      "Calculating fib(6)\n",
      "fib(129)=407305795904080553832073954\n",
      "Calculating fib(1)\n",
      "fib(1)=1\n"
     ]
    }
   ],
   "source": [
    "from functools import lru_cache\n",
    "\n",
    "# built-in decorator with cache\n",
    "# @cache(user_function) return the same as lru_cache(maxsize=None)\n",
    "# @functools.lru_cache(user_function)\n",
    "# @functools.lru_cache(maxsize=128, typed=False)\n",
    "@lru_cache\n",
    "def fib(n):\n",
    "    print(f'Calculating fib({n})')\n",
    "    return 1 if n < 3 else fib(n - 1) + fib(n - 2)\n",
    "\n",
    "print(f'{fib(1)=}')\n",
    "print(f'{fib(2)=}')\n",
    "print(f'{fib(3)=}')\n",
    "print(f'{fib(4)=}')\n",
    "print(f'{fib(5)=}')\n",
    "print(f'{fib(4)=}')\n",
    "print(f'{fib(129)=}') # default maxsize=128, this will cause fib(1) replaced by fib(129)\n",
    "print(f'{fib(1)=}')"
   ]
  },
  {
   "cell_type": "markdown",
   "metadata": {},
   "source": [
    "Decorator factories\n",
    "\n",
    "* A Python decorator factory is a function that returns a decorator, providing a way to parameterize the decorator.\n",
    "* Decorator factories are valuable when customization or configuration of decorators is needed.\n",
    "* They are implemented by defining a function that takes arguments and returns a decorator function."
   ]
  },
  {
   "cell_type": "code",
   "execution_count": 19,
   "metadata": {},
   "outputs": [
    {
     "name": "stdout",
     "output_type": "stream",
     "text": [
      "my_func executed\n",
      "my_func executed\n",
      "my_func executed\n",
      "my_func executed\n",
      "my_func executed\n",
      "my_func executed\n",
      "my_func executed\n",
      "my_func executed\n",
      "my_func executed\n",
      "my_func executed\n",
      "Average execution time: 2.576999831944704e-05\n"
     ]
    }
   ],
   "source": [
    "def timed(fn, reps):\n",
    "    from time import perf_counter\n",
    "    from functools import wraps\n",
    "\n",
    "    @wraps(fn)\n",
    "    def inner(*args, **kwargs):\n",
    "        total_elapsed = 0\n",
    "        for i in range(reps):\n",
    "            start = perf_counter()\n",
    "            result = fn(*args, **kwargs)\n",
    "            total_elapsed += perf_counter() - start\n",
    "        print(f'Average execution time: {total_elapsed / reps}')\n",
    "        return result\n",
    "\n",
    "    return inner\n",
    "\n",
    "# @timed(10) # not working\n",
    "def my_func():\n",
    "    print('my_func executed')\n",
    "\n",
    "my_func = timed(my_func, 10)\n",
    "my_func()"
   ]
  },
  {
   "cell_type": "code",
   "execution_count": 22,
   "metadata": {},
   "outputs": [
    {
     "name": "stdout",
     "output_type": "stream",
     "text": [
      "my_func executed\n",
      "my_func executed\n",
      "my_func executed\n",
      "my_func executed\n",
      "my_func executed\n",
      "my_func executed\n",
      "my_func executed\n",
      "my_func executed\n",
      "my_func executed\n",
      "my_func executed\n",
      "Average execution time: 2.861000830307603e-05\n"
     ]
    }
   ],
   "source": [
    "# the outer function is not itself a decorator\n",
    "# instead it returns a decorator, just like what wraps do\n",
    "# any arguments passed to outer can be referenced (as free variables) inside the decorator\n",
    "# the outer function is called a decorator factory function\n",
    "def outer(reps):\n",
    "    def timed(fn):\n",
    "        from time import perf_counter\n",
    "        from functools import wraps\n",
    "\n",
    "        @wraps(fn)\n",
    "        def inner(*args, **kwargs):\n",
    "            total_elapsed = 0\n",
    "            for i in range(reps):\n",
    "                start = perf_counter()\n",
    "                result = fn(*args, **kwargs)\n",
    "                total_elapsed += perf_counter() - start\n",
    "            print(f'Average execution time: {total_elapsed / reps}')\n",
    "            return result\n",
    "\n",
    "        return inner\n",
    "\n",
    "    return timed\n",
    "\n",
    "@outer(10) # outer gets called, and returns a parameterized decorator\n",
    "def my_func():\n",
    "    print('my_func executed')\n",
    "\n",
    "# my_func = outer(10)(my_func) # equivalent to the decorator above\n",
    "my_func()"
   ]
  },
  {
   "cell_type": "code",
   "execution_count": 24,
   "metadata": {},
   "outputs": [
    {
     "name": "stdout",
     "output_type": "stream",
     "text": [
      "running dec\n",
      "after func got decorated\n",
      "running inner\n",
      "running func\n"
     ]
    }
   ],
   "source": [
    "def dec(fn):\n",
    "    print('running dec')\n",
    "\n",
    "    def inner(*args, **kwargs):\n",
    "        print('running inner')\n",
    "        return fn(*args, **kwargs)\n",
    "    \n",
    "    return inner\n",
    "\n",
    "@dec\n",
    "def func():\n",
    "    print('running func')\n",
    "\n",
    "# func = dec(func) # @dec equivalent\n",
    "\n",
    "print('after func got decorated')\n",
    "func()"
   ]
  },
  {
   "cell_type": "markdown",
   "metadata": {},
   "source": [
    "Class instance decorators\n",
    "\n",
    "* Because of class instances can be made callable by implementing `__call__` method, we can decorate a function using a class instance."
   ]
  },
  {
   "cell_type": "code",
   "execution_count": 27,
   "metadata": {},
   "outputs": [
    {
     "name": "stdout",
     "output_type": "stream",
     "text": [
      "decorate func\n",
      "after func decorated\n",
      "decorated function called: a=10, b=20\n",
      "func called\n"
     ]
    }
   ],
   "source": [
    "class DecoratorClass:\n",
    "    def __init__(self, a, b):\n",
    "        self.a = a\n",
    "        self.b = b\n",
    "\n",
    "    def __call__(self, fn):\n",
    "        print(f'decorate {fn.__name__}')\n",
    "        def inner(*args, **kwargs):\n",
    "            print(f'decorated function called: a={self.a}, b={self.b}')\n",
    "            return fn(*args, **kwargs)\n",
    "        return inner\n",
    "\n",
    "@DecoratorClass(10, 20)\n",
    "def func():\n",
    "    print('func called')\n",
    "\n",
    "print('after func decorated')\n",
    "func()"
   ]
  },
  {
   "cell_type": "markdown",
   "metadata": {},
   "source": [
    "Class decorators\n",
    "\n",
    "* Decorators can be classes too.\n",
    "* When we decorate a function with a class, the function is automatically passed as the first argument to the `__init__` method.\n",
    "* The function actually becomes an instance of the class (an instance with the same name as the function)."
   ]
  },
  {
   "cell_type": "code",
   "execution_count": 30,
   "metadata": {},
   "outputs": [
    {
     "name": "stdout",
     "output_type": "stream",
     "text": [
      "decorate func\n",
      "after func decorated\n",
      "decorated func called\n",
      "a=0, b=1, c=2\n"
     ]
    }
   ],
   "source": [
    "class Decorator:\n",
    "    def __init__(self, fn): # cannot parameterized fn\n",
    "        print(f'decorate {fn.__name__}')\n",
    "        self.fn = fn\n",
    "\n",
    "    def __call__(self, *args, **kwargs):\n",
    "        print(f'decorated {self.fn.__name__} called')\n",
    "        return self.fn(*args, **kwargs)\n",
    "    \n",
    "@Decorator\n",
    "def func(a, b=1, *, c):\n",
    "    print(f'{a=}, {b=}, {c=}')\n",
    "\n",
    "print('after func decorated')\n",
    "func(0, c=2)"
   ]
  },
  {
   "cell_type": "markdown",
   "metadata": {},
   "source": [
    "Decorating classes\n",
    "\n",
    "* We can decorate use decorators to decorate classes, just like how we decorate functions."
   ]
  },
  {
   "cell_type": "code",
   "execution_count": 32,
   "metadata": {},
   "outputs": [
    {
     "data": {
      "text/plain": [
       "'Person says Hello world!'"
      ]
     },
     "execution_count": 32,
     "metadata": {},
     "output_type": "execute_result"
    }
   ],
   "source": [
    "def speak_decorator(cls):\n",
    "    cls.speak = lambda self, message: f'{self.__class__.__name__} says {message}'\n",
    "    return cls # the return of cls if not necessary if not using @wrapper syntax or its equivalent\n",
    "\n",
    "@speak_decorator\n",
    "class Person:\n",
    "    pass\n",
    "\n",
    "# Person = speak_decorator(Person) # decorator equivalent\n",
    "\n",
    "p = Person()\n",
    "p.speak('Hello world!')"
   ]
  },
  {
   "cell_type": "code",
   "execution_count": 41,
   "metadata": {},
   "outputs": [
    {
     "name": "stdout",
     "output_type": "stream",
     "text": [
      "Hello there!\n",
      "['time: 2024-01-05 08:51:19.424550+00:00', 'class: Person', 'id: 0x229cefbd9a0', 'name: John', 'birth_year: 1999']\n"
     ]
    }
   ],
   "source": [
    "import datetime\n",
    "\n",
    "def debug_info(cls):\n",
    "    def info(self):\n",
    "        results = []\n",
    "        results.append(f'time: {datetime.datetime.now(datetime.UTC)}')\n",
    "        results.append(f'class: {self.__class__.__name__}')\n",
    "        results.append(f'id: {hex(id(self))}')\n",
    "        for k, v in vars(self).items():\n",
    "            results.append(f'{k}: {v}')\n",
    "        return results\n",
    "    \n",
    "    cls.debug = info\n",
    "    return cls\n",
    "\n",
    "@debug_info\n",
    "class Person:\n",
    "    def __init__(self, name, birth_year):\n",
    "        self.name = name\n",
    "        self.birth_year = birth_year\n",
    "\n",
    "    def say_hi(self):\n",
    "        return 'Hello there!'\n",
    "    \n",
    "p = Person('John', 1999)\n",
    "print(p.say_hi())\n",
    "print(p.debug())"
   ]
  },
  {
   "cell_type": "code",
   "execution_count": 45,
   "metadata": {},
   "outputs": [
    {
     "name": "stdout",
     "output_type": "stream",
     "text": [
      "10\n"
     ]
    },
    {
     "data": {
      "text/plain": [
       "['time: 2024-01-05 09:06:40.274780+00:00',\n",
       " 'class: Auto',\n",
       " 'id: 0x229cedc75c0',\n",
       " 'make: Ford',\n",
       " 'model: Model T',\n",
       " 'year: 1908',\n",
       " 'top_speed: 45',\n",
       " '_speed: 20']"
      ]
     },
     "execution_count": 45,
     "metadata": {},
     "output_type": "execute_result"
    }
   ],
   "source": [
    "@debug_info\n",
    "class Auto:\n",
    "    def __init__(self, make, model, year, top_speed, speed):\n",
    "        self.make = make\n",
    "        self.model = model\n",
    "        self.year = year\n",
    "        self.top_speed = top_speed\n",
    "        self.speed = speed\n",
    "\n",
    "    @property\n",
    "    def speed(self):\n",
    "        return self._speed\n",
    "    \n",
    "    @speed.setter\n",
    "    def speed(self, speed):\n",
    "        if speed > self.top_speed:\n",
    "            raise ValueError('Speed cannot exceed top_speed')\n",
    "        self._speed = speed\n",
    "\n",
    "    def run(self):\n",
    "        print('The car is running')\n",
    "\n",
    "auto = Auto('Ford', 'Model T', 1908, 45, 10)\n",
    "print(auto.speed)\n",
    "# auto.speed = 100 # raise ValueError here\n",
    "auto.speed = 20\n",
    "auto.debug()"
   ]
  },
  {
   "cell_type": "code",
   "execution_count": 50,
   "metadata": {},
   "outputs": [
    {
     "name": "stdout",
     "output_type": "stream",
     "text": [
      "(p1 == p2)=True\n",
      "(p1 != p2)=False\n",
      "(p1 > p2)=False\n",
      "(p1 >= p2)=True\n",
      "(p1 < p2)=False\n",
      "(p1 <= p2)=True\n",
      "(p1 < p3)=True\n",
      "(p1 >= p3)=False\n",
      "(p1 != 1)=True\n"
     ]
    }
   ],
   "source": [
    "def complete_ordering(cls):\n",
    "    if '__eq__' in dir(cls) and '__lt__' in dir(cls):\n",
    "        cls.__le__ = lambda self, other: self < other or self == other\n",
    "        cls.__gt__ = lambda self, other: not (self < other or self == other) # raise TypeError if other of unsupported type\n",
    "        cls.__ge__ = lambda self, other: not (self < other)\n",
    "        cls.__ne__ = lambda self, other: not (self == other)\n",
    "    return cls\n",
    "\n",
    "@complete_ordering\n",
    "class Point:\n",
    "    def __init__(self, x, y):\n",
    "        self.x = x\n",
    "        self.y = y\n",
    "\n",
    "    def __abs__(self):\n",
    "        return (self.x ** 2 + self.y ** 2) ** 0.5\n",
    "    \n",
    "    def __repr__(self):\n",
    "        return f'Point({self.x}, {self.y})'\n",
    "    \n",
    "    def __eq__(self, other):\n",
    "        if isinstance(other, Point):\n",
    "            return self.x == other.x and self.y == other.y\n",
    "        else:\n",
    "            return False\n",
    "        \n",
    "    def __lt__(self, other):\n",
    "        if isinstance(other, Point):\n",
    "            return abs(self) < abs(other)\n",
    "        else:\n",
    "            return NotImplemented\n",
    "\n",
    "p1, p2, p3 = Point(1, 2), Point(1, 2), Point(2, 3)\n",
    "n = 1\n",
    "print(f'{(p1 == p2)=}')\n",
    "print(f'{(p1 != p2)=}')\n",
    "print(f'{(p1 > p2)=}')\n",
    "print(f'{(p1 >= p2)=}')\n",
    "print(f'{(p1 < p2)=}')\n",
    "print(f'{(p1 <= p2)=}')\n",
    "print(f'{(p1 < p3)=}')\n",
    "print(f'{(p1 >= p3)=}')\n",
    "print(f'{(p1 != 1)=}')\n",
    "# print(f'{(p1 < 1)=}') # raise TypeError\n",
    "# print(f'{(p1 > 1)=}')\n",
    "# print(f'{(p1 >= 1)=}')"
   ]
  },
  {
   "cell_type": "code",
   "execution_count": 51,
   "metadata": {},
   "outputs": [
    {
     "name": "stdout",
     "output_type": "stream",
     "text": [
      "(p1 == p2)=True\n",
      "(p1 != p2)=False\n",
      "(p1 > p2)=False\n",
      "(p1 >= p2)=True\n",
      "(p1 < p2)=False\n",
      "(p1 <= p2)=True\n",
      "(p1 < p3)=True\n",
      "(p1 >= p3)=False\n",
      "(p1 != 1)=True\n"
     ]
    }
   ],
   "source": [
    "from functools import total_ordering\n",
    "\n",
    "# Given a class defining one or more rich comparison ordering methods, this class decorator supplies the rest.\n",
    "# The class must define one of __lt__(), __le__(), __gt__(), or __ge__(). In addition, the class should supply an __eq__() method.\n",
    "@total_ordering\n",
    "class Point:\n",
    "    def __init__(self, x, y):\n",
    "        self.x = x\n",
    "        self.y = y\n",
    "\n",
    "    def __abs__(self):\n",
    "        return (self.x ** 2 + self.y ** 2) ** 0.5\n",
    "    \n",
    "    def __repr__(self):\n",
    "        return f'Point({self.x}, {self.y})'\n",
    "    \n",
    "    def __eq__(self, other):\n",
    "        if isinstance(other, Point):\n",
    "            return self.x == other.x and self.y == other.y\n",
    "        else:\n",
    "            return False\n",
    "        \n",
    "    def __lt__(self, other):\n",
    "        if isinstance(other, Point):\n",
    "            return abs(self) < abs(other)\n",
    "        else:\n",
    "            return NotImplemented\n",
    "        \n",
    "p1, p2, p3 = Point(1, 2), Point(1, 2), Point(2, 3)\n",
    "n = 1\n",
    "print(f'{(p1 == p2)=}')\n",
    "print(f'{(p1 != p2)=}')\n",
    "print(f'{(p1 > p2)=}')\n",
    "print(f'{(p1 >= p2)=}')\n",
    "print(f'{(p1 < p2)=}')\n",
    "print(f'{(p1 <= p2)=}')\n",
    "print(f'{(p1 < p3)=}')\n",
    "print(f'{(p1 >= p3)=}')\n",
    "print(f'{(p1 != 1)=}')\n",
    "# print(f'{(p1 < 1)=}') # raise TypeError\n",
    "# print(f'{(p1 > 1)=}')\n",
    "# print(f'{(p1 >= 1)=}')"
   ]
  },
  {
   "cell_type": "markdown",
   "metadata": {},
   "source": [
    "Single-dispatch generic functions\n",
    "\n",
    "* A generic function is composed of multiple functions implementing the same operation for different types.\n",
    "* Which implementation should be used during a call is determined by the dispatch algorithm.\n",
    "* When the implementation is chosen based on the type of a single argument, this is known as single dispatch."
   ]
  },
  {
   "cell_type": "code",
   "execution_count": 4,
   "metadata": {},
   "outputs": [
    {
     "name": "stdout",
     "output_type": "stream",
     "text": [
      "<ul>\n",
      "<li>a</li>\n",
      "<li>1 (<i>0x1</i>)</li>\n",
      "<li>1.20</li>\n",
      "<li>hello<br>\n",
      "world, 1 &gt; 2 != 3</li>\n",
      "<li><ul>\n",
      "<li>True</li>\n",
      "<li>False</li>\n",
      "<li>None</li>\n",
      "</ul></li>\n",
      "<li><ul>\n",
      "<li>1=1</li>\n",
      "<li>2=2</li>\n",
      "<li>3=3</li>\n",
      "</ul></li>\n",
      "<li><ul>\n",
      "<li>x</li>\n",
      "<li>z</li>\n",
      "<li>y</li>\n",
      "</ul></li>\n",
      "</ul>\n"
     ]
    }
   ],
   "source": [
    "from html import escape\n",
    "from decimal import Decimal\n",
    "\n",
    "def html_escape(obj):\n",
    "    return escape(str(obj))\n",
    "\n",
    "def html_int(i):\n",
    "    return f'{i} (<i>{hex(i)}</i>)'\n",
    "\n",
    "def html_real(r):\n",
    "    return f'{r:.2f}'\n",
    "\n",
    "def html_str(s):\n",
    "    return html_escape(s).replace('\\n', '<br>\\n')\n",
    "\n",
    "def html_list(l):\n",
    "    items = (f'<li>{htmlize(item)}</li>' for item in l)\n",
    "    return '<ul>\\n' + '\\n'.join(items) + '\\n</ul>'\n",
    "\n",
    "def html_dict(d):\n",
    "    items = (f'<li>{html_escape(k)}={htmlize(v)}</li>' for k, v in d.items())\n",
    "    return '<ul>\\n' + '\\n'.join(items) + '\\n</ul>'\n",
    "\n",
    "def htmlize(arg):\n",
    "    registry = {\n",
    "        object: html_escape,\n",
    "        int: html_int,\n",
    "        float: html_real,\n",
    "        Decimal: html_real,\n",
    "        str: html_str,\n",
    "        list: html_list,\n",
    "        tuple: html_list,\n",
    "        set: html_list,\n",
    "        dict: html_dict\n",
    "    }\n",
    "    return registry.get(type(arg), registry[object])(arg)\n",
    "\n",
    "print(htmlize(['a', 1, 1.2, 'hello\\nworld, 1 > 2 != 3',\n",
    "               (True, False, None),\n",
    "               {1: '1', 2: '2', 3: '3'},\n",
    "               {'x', 'y', 'z'}]))"
   ]
  },
  {
   "cell_type": "code",
   "execution_count": 13,
   "metadata": {},
   "outputs": [
    {
     "name": "stdout",
     "output_type": "stream",
     "text": [
      "htmlize.__name__='decorated'\n",
      "htmlize.register=<function single_dispatch.<locals>.register at 0x0000022310309580>\n",
      "I can fly!\n",
      "1 &lt; 100\n",
      "<ul>\n",
      "<li>a</li>\n",
      "<li>b</li>\n",
      "<li>c</li>\n",
      "</ul>\n",
      "<ul>\n",
      "<li>1</li>\n",
      "<li>2</li>\n",
      "<li>3</li>\n",
      "</ul>\n",
      "{<class 'object'>: <function htmlize at 0x000002231030B4C0>, <class 'list'>: <function html_sequence at 0x000002231030B1A0>, <class 'tuple'>: <function html_sequence at 0x000002231030B1A0>, <class 'set'>: <function html_sequence at 0x000002231030B1A0>}\n",
      "<function htmlize at 0x000002231030B4C0>\n"
     ]
    }
   ],
   "source": [
    "from html import escape\n",
    "\n",
    "def single_dispatch(fn):\n",
    "    registry = {}\n",
    "    registry[object] = fn\n",
    "\n",
    "    def decorated(arg):\n",
    "        return registry.get(type(arg), registry[object])(arg)\n",
    "\n",
    "    def register(type_):\n",
    "        def inner(fn_extension):\n",
    "            registry[type_] = fn_extension\n",
    "            return fn_extension # just return back the decorated function as it is\n",
    "        return inner\n",
    "\n",
    "    def dispatch(type_):\n",
    "        return registry.get(type_, registry[object])\n",
    "\n",
    "    decorated.register = register\n",
    "    decorated.dispatch = dispatch\n",
    "    decorated.registry = registry\n",
    "    return decorated\n",
    "\n",
    "@single_dispatch\n",
    "def htmlize(obj):\n",
    "    return escape(str(obj))\n",
    "\n",
    "print(f'{htmlize.__name__=}')\n",
    "print(f'{htmlize.register=}')\n",
    "print(htmlize('I can fly!\\n1 < 100'))\n",
    "\n",
    "# register decorator can be stacked because it returns back the decorated function as it is\n",
    "@htmlize.register(set)\n",
    "@htmlize.register(tuple)\n",
    "@htmlize.register(list)\n",
    "def html_sequence(sequence):\n",
    "    items = (f'<li>{htmlize(item)}</li>' for item in sequence)\n",
    "    return '<ul>\\n' + '\\n'.join(items) + '\\n</ul>'\n",
    "\n",
    "print(htmlize(['a', 'b', 'c']))\n",
    "print(htmlize(('1', '2', '3')))\n",
    "print(htmlize.registry)\n",
    "print(htmlize.dispatch(int))"
   ]
  },
  {
   "cell_type": "markdown",
   "metadata": {},
   "source": [
    "`@functools.singledispatch`:\n",
    "\n",
    "* To define a generic function, decorate it with the `@singledispatch` decorator\n",
    "* The dispatch happens on the type of the first argument\n",
    "* To add overloaded implementations to the function, use the `register()` attribute of the generic function, which can be used as a decorator\n",
    "* For functions annotated with types, the decorator will infer the type of the first argument automatically\n",
    "* `types.UnionType` and `typing.Union` can also be used\n",
    "* For code which doesn’t use type annotations, the appropriate type argument can be passed explicitly to the decorator itself\n",
    "* To enable registering lambdas and pre-existing functions, the `register()` attribute can also be used in a functional form\n",
    "* The `register()` attribute returns the undecorated function\n",
    "* Where there is no registered implementation for a specific type, its method resolution order is used to find a more generic implementation\n",
    "* If an implementation is registered to an abstract base class, virtual subclasses of the base class will be dispatched to that implementation\n",
    "* To check which implementation the generic function will choose for a given type, use the `dispatch()` attribute\n",
    "* To access all registered implementations, use the read-only `registry` attribute"
   ]
  },
  {
   "cell_type": "markdown",
   "metadata": {},
   "source": [
    "## Tuples as data structures and named tuples"
   ]
  },
  {
   "cell_type": "markdown",
   "metadata": {},
   "source": [
    "### Tuples as data structures\n",
    "\n",
    "* Tuples are immutable sequences, typically used to store collections of heterogeneous data (such as the 2-tuples produced by the `enumerate()` built-in).\n",
    "* Tuples are also used for cases where an immutable sequence of homogeneous data is needed (such as allowing storage in a `set` or `dict` instance).\n",
    "\n",
    "Tuples vs lists vs strings\n",
    "\n",
    "Tuples|Lists|Strings\n",
    "---|---|---\n",
    "containers|containers|containers\n",
    "order matters|order matters|order matters\n",
    "heterogeneous/homogeneous|homogeneous/heterogeneous|homogeneous\n",
    "indexable|indexable|indexable\n",
    "iterable|iterable|iterable\n",
    "immutable|mutable|immutable\n",
    "fixed length|variable length|fixed length\n",
    "fixed order|variable order|fixed order\n",
    "cannot do in-place sorts|can do in-place sort|cannot do in-place order\n",
    "cannot do in-place reverse|can do in-place reverse|cannot do in-place reverse\n",
    "\n",
    "Immutability of tuples\n",
    "\n",
    "* Elements cannot be added or removed\n",
    "* The order of elements cannot be changed\n",
    "* Works well for representing data structures by giving the order/position of the object contained meaning\n",
    "  * `london = ('London', 'UK', 8_780_000)`\n",
    "  * because tuples, strings and integers are immutable, we are guaranteed that the data and data structure for `london` will never change\n",
    "\n",
    "Extracting data from tuples\n",
    "\n",
    "* Since tuples are sequences just like lists and strings, we can retrieve items by index.\n",
    "* We can also use unpacking.\n",
    "\n",
    "Dummy variables\n",
    "\n",
    "* Sometimes, we are only interested in a subset of the data fields in a tuple, not all of them.\n",
    "  * `city, _, population = ('London', 'UK', 8_780_000)`\n",
    "  * `symbol, year, month, day, *_, close = ('DJIA', 2018, 1, 19, 25987.35, 26071.22, 25942.83, 26071.72)`\n",
    "  * `_` is actually a legal variable name, so there's nothing special about it.\n",
    "  * By convention, we use the underscore to indicate this is a variable we don't care about."
   ]
  },
  {
   "cell_type": "code",
   "execution_count": 15,
   "metadata": {},
   "outputs": [
    {
     "name": "stdout",
     "output_type": "stream",
     "text": [
      "38280000\n",
      "38280000\n"
     ]
    }
   ],
   "source": [
    "london = 'London', 'UK', 8780000\n",
    "new_york = 'New York', 'USA', 8500000\n",
    "beijing = 'Beijing', 'China', 21000000\n",
    "cities = [london, new_york, beijing]\n",
    "\n",
    "total = 0\n",
    "# for city in cities:\n",
    "#     total += city[2]\n",
    "for *_, population in cities:\n",
    "    total += population\n",
    "print(total)\n",
    "\n",
    "total = sum(city[2] for city in cities)\n",
    "print(total)"
   ]
  },
  {
   "cell_type": "code",
   "execution_count": 19,
   "metadata": {},
   "outputs": [
    {
     "name": "stdout",
     "output_type": "stream",
     "text": [
      "Pi = 3.168\n",
      "Pi = 3.1524\n",
      "Pi = 3.1494\n",
      "Pi = 3.141376\n"
     ]
    }
   ],
   "source": [
    "# random.uniform(a, b)\n",
    "# Return a random floating point number N such that a <= N <= b for a <= b and b <= N <= a for b < a.\n",
    "from random import uniform\n",
    "\n",
    "def random_shot(radius=1):\n",
    "    random_x = uniform(-radius, radius)\n",
    "    random_y = uniform(-radius, radius)\n",
    "\n",
    "    is_in_circle = random_x ** 2 + random_y ** 2 <= radius ** 2\n",
    "    return random_x, random_y, is_in_circle\n",
    "\n",
    "def in_circle_rate(repetitions):\n",
    "    count = 0\n",
    "    for _ in range(repetitions):\n",
    "        *_, inside = random_shot()\n",
    "        count += inside # bool is indeed subclass of int\n",
    "    return count / repetitions\n",
    "\n",
    "print(f'Pi = {in_circle_rate(1000) * 4}')\n",
    "print(f'Pi = {in_circle_rate(10000) * 4}')\n",
    "print(f'Pi = {in_circle_rate(100000) * 4}')\n",
    "print(f'Pi = {in_circle_rate(1000000) * 4}')"
   ]
  },
  {
   "cell_type": "markdown",
   "metadata": {},
   "source": [
    "### Named tuples\n",
    "\n",
    "* The positions of the objects contained in tuples have meaning as data structure, but this is not very readable nor transparent.\n",
    "* In order to make things clearer for the reader, we might want to approach this using a class instead.\n",
    "* The class approach has some drawbacks.\n",
    "* When your data structure needs to be immutable, hashable, iterable, unpackable, and comparable, then you can use `namedtuple`.\n",
    "* Named tuples assign meaning to each position in a tuple and allow for more readable, self-documenting code. They can be used wherever regular tuples are used, and they add the ability to access fields by name instead of position index.\n",
    "* `namedtuple` is a factory function, which generates a new class inheriting from `tuple`.\n",
    "* `collections.namedtuple(typename, field_names, *, rename=False, defaults=None, module=None)`\n",
    "  * Returns a new tuple subclass named `typename`. The new *subclass* is used to create tuple-like objects that have fields accessible by attribute lookup as well as being indexable and iterable.\n",
    "  * The `field_names` are a sequence of strings such as `['x', 'y']`. Alternatively, `field_names` can be a single string with each fieldname separated by whitespace and/or commas, for example `'x y'` or `'x, y'`.\n",
    "  * Any valid Python identifier may be used for a fieldname except for names starting with an underscore.\n",
    "  * If `rename` is true, invalid fieldnames are automatically replaced with positional names. For example, `['abc', 'def', 'ghi', 'abc']` is converted to `['abc', '_1', 'ghi', '_3']`, eliminating the keyword `def` and the duplicate fieldname `abc`.\n",
    "  * The `__new__` method of the generated class uses the field names provided as parameter names.\n",
    "\n",
    "Accessing data in a named tuple\n",
    "\n",
    "* Since named tuples are also regular tuples, we can still handle them just like any other tuples by:\n",
    "  * index\n",
    "  * slice\n",
    "  * iterate\n",
    "  * unpack\n",
    "* In addition, we can also access the data using the field names.\n",
    "* Since namedtuple generated classes inherit from `tuple`, they are therefore immutable.\n",
    "\n",
    "Introspection\n",
    "\n",
    "* We can easily find out the field names in a namedtuple generated class by using the class property `_fields`.\n",
    "* We can see what the code for the generated class is, using the class property `_source` (removed in version 3.7).\n",
    "\n",
    "Extracting named tuple values to a dictionary\n",
    "\n",
    "* Instance method `_asdict()` creates a dictionary of all the named values in the tuple."
   ]
  },
  {
   "cell_type": "code",
   "execution_count": 29,
   "metadata": {},
   "outputs": [
    {
     "name": "stdout",
     "output_type": "stream",
     "text": [
      "p1=Point2D(x=1, y=2)\n",
      "type(p2)=<class '__main__.Point2D'>\n",
      "isinstance(p2, tuple)=True\n",
      "p1.x=1, p1.y=2\n",
      "p2.x=3, p2.y=4\n",
      "p3.x=1, p3.y=2\n",
      "(p1 == p3)=True\n",
      "x=1, y=2\n",
      "p1 dot p2 = 11\n",
      "{'x': 1, 'y': 2}\n",
      "('x', 'y')\n",
      "p1_sliced=(1,)\n",
      "type(p1_sliced)=<class 'tuple'>\n"
     ]
    }
   ],
   "source": [
    "from collections import namedtuple\n",
    "\n",
    "Point2D = namedtuple('Point2D', 'x y')\n",
    "\n",
    "def dot_product(a, b):\n",
    "    return sum(p[0] * p[1] for p in zip(a, b))\n",
    "\n",
    "p1 = Point2D(x=1, y=2)\n",
    "# p1 = Point2D(x=1, y=2, y=3) # SyntaxError: keyword argument repeated: y\n",
    "p2 = Point2D(3, 4)\n",
    "p3 = Point2D(1, 2)\n",
    "print(f'{p1=}')\n",
    "print(f'{type(p2)=}')\n",
    "print(f'{isinstance(p2, tuple)=}')\n",
    "print(f'{p1.x=}, {p1.y=}')\n",
    "print(f'{p2.x=}, {p2.y=}')\n",
    "print(f'{p3.x=}, {p3.y=}')\n",
    "print(f'{(p1 == p3)=}')\n",
    "x, y = p1\n",
    "print(f'{x=}, {y=}')\n",
    "print(f'p1 dot p2 = {dot_product(p1, p2)}')\n",
    "print(p1._asdict())\n",
    "print(Point2D._fields)\n",
    "# print(Point2D._source) # removed in version 3.7\n",
    "p1_sliced = p1[:1]\n",
    "print(f'{p1_sliced=}')\n",
    "print(f'{type(p1_sliced)=}')\n",
    "# print(f'{(p1_sliced._fields)=}') # after slicing it be a normal tuple"
   ]
  },
  {
   "cell_type": "markdown",
   "metadata": {},
   "source": [
    "Modifying and extending named tuples\n",
    "\n",
    "* Named tuples are immutable.\n",
    "* Just like with strings, we have to create a new tuple with the modified values.\n",
    "* The `_replace(**kwargs)` instance method\n",
    "  * It will copy the named tuple into a new one, replacing any values from keyword arguments with specified field names and new values.\n",
    "  * The keyword name must match an existing field name.\n",
    "* Sometimes we want to create a named tuple that extends another named tuple, appending one or more fields.\n",
    "  * We can create a new named tuple by concatenating the existing `_fields` with new field names, and then generate a new class using `namedtuple`.\n",
    "  * We can use the class method `_make(iterable)` to make a new instance from an existing sequence or iterable."
   ]
  },
  {
   "cell_type": "code",
   "execution_count": 31,
   "metadata": {},
   "outputs": [
    {
     "name": "stdout",
     "output_type": "stream",
     "text": [
      "p1=Point2D(x=1, y=2) @ 0x2230f9b0f80\n",
      "p1=Point2D(x=1, y=3) @ 0x2231016c440\n",
      "p1=Point2D(x=1, y=4) @ 0x2230f998140\n",
      "p2=Point3D(x=1, y=4, z=5) @ 0x2230f9a1210\n",
      "p3=Point3D(x=1, y=4, z=6) @ 0x2230f9a08b0\n"
     ]
    }
   ],
   "source": [
    "from collections import namedtuple\n",
    "\n",
    "Point2D = namedtuple('Point2D', 'x y')\n",
    "p1 = Point2D(1, 2)\n",
    "print(f'{p1=} @ {hex(id(p1))}')\n",
    "p1 = Point2D(p1.x, y=3)\n",
    "print(f'{p1=} @ {hex(id(p1))}')\n",
    "p1 = p1._replace(y=4) # create a new instance by replacing some values\n",
    "print(f'{p1=} @ {hex(id(p1))}')\n",
    "\n",
    "Point3D = namedtuple('Point3D', Point2D._fields + ('z',)) # extend named tuple\n",
    "p2 = Point3D._make(p1 + (5,))\n",
    "print(f'{p2=} @ {hex(id(p2))}')\n",
    "p3 = Point3D(*p1, 6)\n",
    "print(f'{p3=} @ {hex(id(p3))}')"
   ]
  },
  {
   "cell_type": "markdown",
   "metadata": {},
   "source": [
    "Docstrings and default values of named tuples\n",
    "\n",
    "* "
   ]
  }
 ],
 "metadata": {
  "kernelspec": {
   "display_name": "Python 3",
   "language": "python",
   "name": "python3"
  },
  "language_info": {
   "codemirror_mode": {
    "name": "ipython",
    "version": 3
   },
   "file_extension": ".py",
   "mimetype": "text/x-python",
   "name": "python",
   "nbconvert_exporter": "python",
   "pygments_lexer": "ipython3",
   "version": "3.12.1"
  }
 },
 "nbformat": 4,
 "nbformat_minor": 2
}
